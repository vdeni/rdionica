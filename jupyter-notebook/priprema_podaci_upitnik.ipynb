{
 "cells": [
  {
   "cell_type": "markdown",
   "metadata": {},
   "source": [
    "# Rdionica: priprema datoteke `podaci_upitnik.csv` za obradu"
   ]
  },
  {
   "cell_type": "code",
   "execution_count": 12,
   "metadata": {},
   "outputs": [],
   "source": [
    "options(repr.matrix.max.cols = 120, repr.matrix.max.rows = 500,\n",
    "       repr.plot.height = 4, repr.plot.width = 4)"
   ]
  },
  {
   "cell_type": "markdown",
   "metadata": {},
   "source": [
    "U ovom dijelu radionice proći ćemo put od sirovih podataka do podataka na kojima možemo provesti analizu.\n",
    "\n",
    "Prije nego što se bacimo na učitavanje i proučavanje sirovih podataka, učitat ćemo pakete koje ćemo koristiti.\n",
    "\n",
    "Pakete učitavamo pozivanjem funkcije `library`, koja kao argument prima ime **jednog** paketa."
   ]
  },
  {
   "cell_type": "code",
   "execution_count": 2,
   "metadata": {},
   "outputs": [
    {
     "name": "stderr",
     "output_type": "stream",
     "text": [
      "── Attaching packages ─────────────────────────────────────── tidyverse 1.2.1 ──\n",
      "✔ ggplot2 3.0.0     ✔ purrr   0.2.5\n",
      "✔ tibble  1.4.2     ✔ dplyr   0.7.7\n",
      "✔ tidyr   0.8.1     ✔ stringr 1.3.1\n",
      "✔ readr   1.1.1     ✔ forcats 0.3.0\n",
      "── Conflicts ────────────────────────────────────────── tidyverse_conflicts() ──\n",
      "✖ dplyr::filter() masks stats::filter()\n",
      "✖ dplyr::lag()    masks stats::lag()\n",
      "\n",
      "Attaching package: ‘magrittr’\n",
      "\n",
      "The following object is masked from ‘package:purrr’:\n",
      "\n",
      "    set_names\n",
      "\n",
      "The following object is masked from ‘package:tidyr’:\n",
      "\n",
      "    extract\n",
      "\n",
      "here() starts at /home/denis/Documents/rdionica\n"
     ]
    }
   ],
   "source": [
    "# skupina paketa koja sadrži većinu paketa koje\n",
    "# ćemo koristiti za baratanje podacima\n",
    "library(tidyverse)\n",
    "\n",
    "# paket koji sadrži 'pipe' operatore\n",
    "library(magrittr)\n",
    "\n",
    "# upozorava na konflikte u imenima funkcija\n",
    "# koji se javljaju kad više paketa koristi isto\n",
    "# ime\n",
    "library(conflicted)\n",
    "\n",
    "# omogućava učitavanje .SAV fielova\n",
    "library(foreign)\n",
    "\n",
    "# paket koji sadrži neke zgodne olakšice\n",
    "library(wrapr)\n",
    "\n",
    "# olakšava korištenje relativnih file pathova\n",
    "library(here)"
   ]
  },
  {
   "cell_type": "markdown",
   "metadata": {},
   "source": [
    "## Učitavanje podatka"
   ]
  },
  {
   "cell_type": "markdown",
   "metadata": {},
   "source": [
    "Za početak, pogledat ćemo kako izgledaju naši sirovi podaci.\n",
    "\n",
    "A da bismo to učinili, prvo ih moramo učitati u R.\n",
    "\n",
    "Pogledat ćemo kako učitati tri vrste datoteka: SPSS-ov `.sav`, Excelov `.xls/xlsx` te generički *comma separated values* file - `.csv`."
   ]
  },
  {
   "cell_type": "markdown",
   "metadata": {},
   "source": [
    "### SPSS - .sav"
   ]
  },
  {
   "cell_type": "markdown",
   "metadata": {},
   "source": [
    "### Excel - .xls(x)"
   ]
  },
  {
   "cell_type": "markdown",
   "metadata": {},
   "source": [
    "### Comma separated values - .csv"
   ]
  },
  {
   "cell_type": "markdown",
   "metadata": {},
   "source": [
    "*Comma separeted value* datoteke su točno to što ime kaže - podaci koji su strukturirani kao vrijednosti odvojene zarezima, gdje se svaki unos (na primjer sudionik) nalazi u zasebnom redu, a vrijednosti varijabli koje su uz njega povezane ispisane su redom i odvojene su zarezima."
   ]
  },
  {
   "cell_type": "markdown",
   "metadata": {},
   "source": [
    "U prvom redu (koji funkcije u R-u često nazivaju **header**) obično se nalaze imena varijabli, a u ostalim redovima su njihove vrijednosti.\n",
    "\n",
    "Ovako izgledaju prva dva reda i prvih nekoliko stupaca datoteke `podaci_upitnik.csv`:\n",
    "\n",
    "```\n",
    "attitudesAndNorms01,attitudesAndNorms02,attitudesAndNorms03, ...\n",
    "5,5,5,5,4, ...\n",
    "```"
   ]
  },
  {
   "cell_type": "markdown",
   "metadata": {},
   "source": [
    "Podatke u `.csv` formatu možemo učitati pomoću funkcije `read_csv` iz `readr` paketa (koji je automatski učitan kad smo učitali `tidyverse`). Osnovni (base) R ima funkciju `read.csv` koja obavlja isti zadatak, ali neki R developeri preporučuju korištenje `read_csv` funkcije (na primjer, Hadley Wickham i Garret Grolemund: http://r4ds.had.co.nz/import.html)."
   ]
  },
  {
   "cell_type": "markdown",
   "metadata": {},
   "source": [
    "U skladu s tom preporukom, koristit ćemo `read_csv`. Podatke iz datoteke `podaci_upitnik.csv` možemo učitati ovako:"
   ]
  },
  {
   "cell_type": "code",
   "execution_count": 3,
   "metadata": {},
   "outputs": [
    {
     "name": "stderr",
     "output_type": "stream",
     "text": [
      "Parsed with column specification:\n",
      "cols(\n",
      "  .default = col_integer(),\n",
      "  pi_education = col_character(),\n",
      "  pi_gender = col_character(),\n",
      "  pi_ideology = col_character(),\n",
      "  pi_income = col_character(),\n",
      "  pi_nationality = col_character(),\n",
      "  pi_previousDonations = col_character()\n",
      ")\n",
      "See spec(...) for full column specifications.\n"
     ]
    }
   ],
   "source": [
    "podaci <- read_csv(file = here('podaci', 'podaci_upitnik.csv'))"
   ]
  },
  {
   "cell_type": "markdown",
   "metadata": {},
   "source": [
    "Poruka koju dobivamo obavještava nas o tome kako su određene varijable reprezentirane. Vidimo da su varijable koje počinju s `pi` reprezentirane kao `character`. Ako pozovemo funkciju `spec`, vidjet ćemo specifikacije svih varijabli.\n",
    "\n",
    "Budući da pozivanjem funkcije `str` zapravo dobivamo manje-više iste podatke, pozvat ćemo samo nju. Njen output pomoći će nam da vidimo jesu li podaci reprezentirani onako kako bismo očekivali."
   ]
  },
  {
   "cell_type": "code",
   "execution_count": null,
   "metadata": {},
   "outputs": [],
   "source": [
    "str(podaci)"
   ]
  },
  {
   "cell_type": "markdown",
   "metadata": {},
   "source": [
    "Obrisat ćemo specifikacije varijabli da ne zakrčuju output."
   ]
  },
  {
   "cell_type": "markdown",
   "metadata": {},
   "source": [
    "Funkcije `head` i `tail` omogućuju nam da na brzinu vidimo (po defaultu) prvih 6 odnosno posljednjih 6 redova tablice."
   ]
  },
  {
   "cell_type": "code",
   "execution_count": 68,
   "metadata": {},
   "outputs": [],
   "source": [
    "attr(podaci, 'spec') <- NULL"
   ]
  },
  {
   "cell_type": "code",
   "execution_count": null,
   "metadata": {},
   "outputs": [],
   "source": [
    "head(podaci)"
   ]
  },
  {
   "cell_type": "code",
   "execution_count": null,
   "metadata": {},
   "outputs": [],
   "source": [
    "tail(podaci, 3)"
   ]
  },
  {
   "cell_type": "markdown",
   "metadata": {},
   "source": [
    "Ove funkcije pomažu nam pri pregledavanju strukture podataka i njihovih sirovih vrijednosti.\n",
    "\n",
    "Osnovnu deskriptivnu statistiku možemo dobiti pomoću generičke funkcije `summary`. Generičke funkcije primaju objekte različitih tipova, a njihov output ovisi o tipu objekta. Primjerice, ako u `summary` stavimo `data.frame`, dobit ćemo grubu deskriptivnu statistiku njegovih stupaca. Ako u funkciju stavimo regresijski model, dobit ćemo informacije o modelu.\n",
    "\n",
    "Dobro je znati i za funkciju `describe` iz paketa `psych`, koja daje dosta detaljniju deskriptivnu statistiku numeričkih varijabli."
   ]
  },
  {
   "cell_type": "markdown",
   "metadata": {},
   "source": [
    "Idemo vidjeti output tih dviju funkcija kad u nju stavimo neke numeričke i neke kategorijalne (`factor`) stupce iz našeg `data.framea` `podaci`."
   ]
  },
  {
   "cell_type": "code",
   "execution_count": 4,
   "metadata": {},
   "outputs": [
    {
     "data": {
      "text/plain": [
       " attitudesAndNorms01 pi_education        pi_gender        \n",
       " Min.   :2.00        Length:100         Length:100        \n",
       " 1st Qu.:4.00        Class :character   Class :character  \n",
       " Median :5.00        Mode  :character   Mode  :character  \n",
       " Mean   :5.04                                             \n",
       " 3rd Qu.:6.00                                             \n",
       " Max.   :8.00                                             "
      ]
     },
     "metadata": {},
     "output_type": "display_data"
    }
   ],
   "source": [
    "summary(podaci[, wrapr::qc(attitudesAndNorms01, pi_education, pi_gender)])"
   ]
  },
  {
   "cell_type": "markdown",
   "metadata": {},
   "source": [
    "Vidimo tri stvari: (1) `summary` nije pretjerano koristan za varijable koje su tipa `character` i (2-3) pojavili su se nova sintaksa i nova funkcija."
   ]
  },
  {
   "cell_type": "markdown",
   "metadata": {},
   "source": [
    "`qc` je funkcija iz paketa `wrapr` koja nas oslobađa pisanja navodnika pri korištenju funkcije `c`. `qc` je, dakle, *quoted combine*."
   ]
  },
  {
   "cell_type": "markdown",
   "metadata": {},
   "source": [
    "Korištenjem `::` sintakse označili smo da je funkcija `qc` iz paketa `wrapr`. Pri pozivanju funkcija iz drugih paketa **nije nužno** pisati `::`; to smo vidjeli i kod pozivanja funkcije `read_csv` iz paketa `readr`.\n",
    "\n",
    "Ipak, važno je znati tu sintaksu iz dva razloga."
   ]
  },
  {
   "cell_type": "markdown",
   "metadata": {},
   "source": [
    "Prvo, korištenjem `::` možemo pozvati funkciju iz paketa koji prethodno nismo učitali (što ćemo vidjeti pri pozivanju funkcije `describe`."
   ]
  },
  {
   "cell_type": "markdown",
   "metadata": {},
   "source": [
    "Drugo, u slučaju da dva paketa imaju funkcije koje se jednako zovu, `::` nam omogućava da specificiramo koju funkciju želimo pozvati. Budući da smo učitali paket `conflicted`, R će nas upozoriti ako dođe do konflikta te nas tražiti da specificiramo koju funkciju hoćemo pozvati, koristeći `::`."
   ]
  },
  {
   "cell_type": "markdown",
   "metadata": {},
   "source": [
    "Sad ćemo pogledati output funkcije `describe` na tim istim varijablama.\n",
    "\n",
    "Nastavit ću koristiti `::` notaciju tako da bude jasno iz kojeg paketa dolazi koja funkcija (osim ako je spomenuto u tekstu ili ako je funkcija iz base R-a)."
   ]
  },
  {
   "cell_type": "markdown",
   "metadata": {},
   "source": [
    "**BAM-BAM PIPE**"
   ]
  },
  {
   "cell_type": "code",
   "execution_count": 57,
   "metadata": {},
   "outputs": [
    {
     "name": "stderr",
     "output_type": "stream",
     "text": [
      "Warning message in psych::describe(.):\n",
      "“NAs introduced by coercion”Warning message in psych::describe(.):\n",
      "“NAs introduced by coercion”Warning message in FUN(newX[, i], ...):\n",
      "“no non-missing arguments to min; returning Inf”Warning message in FUN(newX[, i], ...):\n",
      "“no non-missing arguments to min; returning Inf”Warning message in FUN(newX[, i], ...):\n",
      "“no non-missing arguments to max; returning -Inf”Warning message in FUN(newX[, i], ...):\n",
      "“no non-missing arguments to max; returning -Inf”"
     ]
    },
    {
     "data": {
      "text/html": [
       "<table>\n",
       "<thead><tr><th></th><th scope=col>vars</th><th scope=col>n</th><th scope=col>mean</th><th scope=col>sd</th><th scope=col>median</th><th scope=col>trimmed</th><th scope=col>mad</th><th scope=col>min</th><th scope=col>max</th><th scope=col>range</th><th scope=col>skew</th><th scope=col>kurtosis</th><th scope=col>se</th></tr></thead>\n",
       "<tbody>\n",
       "\t<tr><th scope=row>attitudesAndNorms01</th><td>1         </td><td>100       </td><td>5.04      </td><td>1.427861  </td><td> 5        </td><td>5.0625    </td><td>1.4826    </td><td>  2       </td><td>   8      </td><td>   6      </td><td>-0.1931472</td><td>-0.5916736</td><td>0.1427861 </td></tr>\n",
       "\t<tr><th scope=row>pi_education*</th><td>2         </td><td>100       </td><td> NaN      </td><td>      NA  </td><td>NA        </td><td>   NaN    </td><td>    NA    </td><td>Inf       </td><td>-Inf      </td><td>-Inf      </td><td>        NA</td><td>        NA</td><td>       NA </td></tr>\n",
       "\t<tr><th scope=row>pi_gender*</th><td>3         </td><td>100       </td><td> NaN      </td><td>      NA  </td><td>NA        </td><td>   NaN    </td><td>    NA    </td><td>Inf       </td><td>-Inf      </td><td>-Inf      </td><td>        NA</td><td>        NA</td><td>       NA </td></tr>\n",
       "</tbody>\n",
       "</table>\n"
      ],
      "text/latex": [
       "\\begin{tabular}{r|lllllllllllll}\n",
       "  & vars & n & mean & sd & median & trimmed & mad & min & max & range & skew & kurtosis & se\\\\\n",
       "\\hline\n",
       "\tattitudesAndNorms01 & 1          & 100        & 5.04       & 1.427861   &  5         & 5.0625     & 1.4826     &   2        &    8       &    6       & -0.1931472 & -0.5916736 & 0.1427861 \\\\\n",
       "\tpi\\_education* & 2          & 100        &  NaN       &       NA   & NA         &    NaN     &     NA     & Inf        & -Inf       & -Inf       &         NA &         NA &        NA \\\\\n",
       "\tpi\\_gender* & 3          & 100        &  NaN       &       NA   & NA         &    NaN     &     NA     & Inf        & -Inf       & -Inf       &         NA &         NA &        NA \\\\\n",
       "\\end{tabular}\n"
      ],
      "text/markdown": [
       "\n",
       "| <!--/--> | vars | n | mean | sd | median | trimmed | mad | min | max | range | skew | kurtosis | se | \n",
       "|---|---|---|\n",
       "| attitudesAndNorms01 | 1          | 100        | 5.04       | 1.427861   |  5         | 5.0625     | 1.4826     |   2        |    8       |    6       | -0.1931472 | -0.5916736 | 0.1427861  | \n",
       "| pi_education* | 2          | 100        |  NaN       |       NA   | NA         |    NaN     |     NA     | Inf        | -Inf       | -Inf       |         NA |         NA |        NA  | \n",
       "| pi_gender* | 3          | 100        |  NaN       |       NA   | NA         |    NaN     |     NA     | Inf        | -Inf       | -Inf       |         NA |         NA |        NA  | \n",
       "\n",
       "\n"
      ],
      "text/plain": [
       "                    vars n   mean sd       median trimmed mad    min max  range\n",
       "attitudesAndNorms01 1    100 5.04 1.427861  5     5.0625  1.4826   2    8    6 \n",
       "pi_education*       2    100  NaN       NA NA        NaN      NA Inf -Inf -Inf \n",
       "pi_gender*          3    100  NaN       NA NA        NaN      NA Inf -Inf -Inf \n",
       "                    skew       kurtosis   se       \n",
       "attitudesAndNorms01 -0.1931472 -0.5916736 0.1427861\n",
       "pi_education*               NA         NA        NA\n",
       "pi_gender*                  NA         NA        NA"
      ]
     },
     "metadata": {},
     "output_type": "display_data"
    }
   ],
   "source": [
    "podaci %>%\n",
    "dplyr::select(attitudesAndNorms01, pi_education, pi_gender) %>%\n",
    "psych::describe(.)"
   ]
  },
  {
   "cell_type": "markdown",
   "metadata": {},
   "source": [
    "I dalje nije korisno za `character` varijable, ali omogućava digresiju u svijet pipa."
   ]
  },
  {
   "cell_type": "markdown",
   "metadata": {},
   "source": [
    "## Pipe"
   ]
  },
  {
   "cell_type": "markdown",
   "metadata": {},
   "source": [
    "Pipe su posebni operatori iz `magrittr` paketa. One omogućavaju kraće i, često, razumljivije pisanje koda.\n",
    "\n",
    "Pipa uzima output izraza sa svoje lijeve strane i daje ga kao argument funkciji na svojoj desnoj strani."
   ]
  },
  {
   "cell_type": "markdown",
   "metadata": {},
   "source": [
    "Osnovna pipa je `%>%`. Ona se nalazi i u paketu `dplyr` (koji se učitava kad učitamo `tidyverse`) i u paketu `magrittr`. Posebno smo učitali `magrittr` jer s njim dolaze i neke pipe kojih nema u `dplyru`."
   ]
  },
  {
   "cell_type": "markdown",
   "metadata": {},
   "source": [
    "Sad ćemo proći kroz pipe koje `magrittr` nudi."
   ]
  },
  {
   "cell_type": "markdown",
   "metadata": {},
   "source": [
    "### %>%"
   ]
  },
  {
   "cell_type": "markdown",
   "metadata": {},
   "source": [
    "Kao što je rečeno, ovo je osnovna pipa. Ona uzima output izraza s lijeve strane i koristi ga kao input za izraz s desne strane.\n",
    "\n",
    "Dakle:"
   ]
  },
  {
   "cell_type": "code",
   "execution_count": 8,
   "metadata": {},
   "outputs": [
    {
     "data": {
      "text/html": [
       "2"
      ],
      "text/latex": [
       "2"
      ],
      "text/markdown": [
       "2"
      ],
      "text/plain": [
       "[1] 2"
      ]
     },
     "metadata": {},
     "output_type": "display_data"
    },
    {
     "data": {
      "text/html": [
       "2"
      ],
      "text/latex": [
       "2"
      ],
      "text/markdown": [
       "2"
      ],
      "text/plain": [
       "[1] 2"
      ]
     },
     "metadata": {},
     "output_type": "display_data"
    },
    {
     "data": {
      "text/html": [
       "2"
      ],
      "text/latex": [
       "2"
      ],
      "text/markdown": [
       "2"
      ],
      "text/plain": [
       "[1] 2"
      ]
     },
     "metadata": {},
     "output_type": "display_data"
    },
    {
     "data": {
      "text/html": [
       "2"
      ],
      "text/latex": [
       "2"
      ],
      "text/markdown": [
       "2"
      ],
      "text/plain": [
       "[1] 2"
      ]
     },
     "metadata": {},
     "output_type": "display_data"
    }
   ],
   "source": [
    "(2 + 2) %>% sqrt(.)\n",
    "\n",
    "(2 + 2) %>% sqrt()\n",
    "\n",
    "(2 + 2) %>% sqrt\n",
    "\n",
    "sqrt(2 + 2)"
   ]
  },
  {
   "cell_type": "markdown",
   "metadata": {},
   "source": [
    "Trenutačno ne izgleda kao neka ušteda, što je u redu. Kasnije ćemo vidjeti primjere u kojima su pipe dosta zgodnije.\n",
    "\n",
    "Kod korištenja pipa, `.` označava output iz funkcije s lijeve strane. Po defaultu, pipa će točku staviti na mjesto prvog argumenta. Takav default uglavnom jako dobro funkcionira s funkcijama iz `tidyversea` jer one imaju dosta uniformnu sintaksu, koja je prilagođena za pipe."
   ]
  },
  {
   "cell_type": "markdown",
   "metadata": {},
   "source": [
    "Ipak, nekad takvo ponašanje nije poželjno. Pokušajmo grafirati dva brojčana vektora - jedan od njih ćemo spremiti u varijablu, a drugi ćemo direktno dati pipi."
   ]
  },
  {
   "cell_type": "code",
   "execution_count": 21,
   "metadata": {},
   "outputs": [
    {
     "data": {
      "image/png": "[encoded data removed]",
      "text/plain": [
       "plot without title"
      ]
     },
     "metadata": {},
     "output_type": "display_data"
    }
   ],
   "source": [
    "# ova vrijednost treba ići na x os\n",
    "x <- 1:10\n",
    "\n",
    "# vektor koji ćemo sad stvoriti treba ići na y os\n",
    "# ovaj kod jednak je ovom -> 11:20 %>% plot(., x)\n",
    "# plot je također generička funkcija\n",
    "11:20 %>% plot(x)"
   ]
  },
  {
   "cell_type": "markdown",
   "metadata": {},
   "source": [
    "Vidimo da je pipa stavila svoje vrijednosti na prvo mjesto, a time i na x os. Da bismo spriječili takvo defaultno ponašanje pipe, izraz s desne strane možemo staviti u vitičaste zagrade (`{}`)."
   ]
  },
  {
   "cell_type": "code",
   "execution_count": 22,
   "metadata": {},
   "outputs": [
    {
     "data": {
      "image/png": "[encoded data removed]",
      "text/plain": [
       "plot without title"
      ]
     },
     "metadata": {},
     "output_type": "display_data"
    }
   ],
   "source": [
    "11:20 %>% {plot(x, .)}"
   ]
  },
  {
   "cell_type": "markdown",
   "metadata": {},
   "source": [
    "Sad ćemo `x` staviti u `data.frame` i pridružiti mu `y`."
   ]
  },
  {
   "cell_type": "code",
   "execution_count": 26,
   "metadata": {},
   "outputs": [
    {
     "name": "stdout",
     "output_type": "stream",
     "text": [
      "'data.frame':\t10 obs. of  2 variables:\n",
      " $ x: int  1 2 3 4 5 6 7 8 9 10\n",
      " $ y: int  11 12 13 14 15 16 17 18 19 20\n"
     ]
    }
   ],
   "source": [
    "za_graf <- data.frame(x = 1:10, y = 11:20)\n",
    "\n",
    "str(za_graf)"
   ]
  },
  {
   "cell_type": "markdown",
   "metadata": {},
   "source": [
    "Ponovno ćemo pokušati plotati vrijednosti tako što `za_graf` stavimo u pipu."
   ]
  },
  {
   "cell_type": "code",
   "execution_count": 27,
   "metadata": {},
   "outputs": [
    {
     "data": {
      "image/png": "[encoded data removed]",
      "text/plain": [
       "plot without title"
      ]
     },
     "metadata": {},
     "output_type": "display_data"
    }
   ],
   "source": [
    "za_graf %>% plot()"
   ]
  },
  {
   "cell_type": "markdown",
   "metadata": {},
   "source": [
    "Da bismo zamijenili osi, možemo učiniti sljedeće:"
   ]
  },
  {
   "cell_type": "code",
   "execution_count": 30,
   "metadata": {},
   "outputs": [
    {
     "data": {
      "image/png": "[encoded data removed]",
      "text/plain": [
       "plot without title"
      ]
     },
     "metadata": {},
     "output_type": "display_data"
    }
   ],
   "source": [
    "za_graf %>% plot(.$y, .$x)"
   ]
  },
  {
   "cell_type": "markdown",
   "metadata": {},
   "source": [
    "To jest, ne možemo jer se gornji kod interpretira kao\n",
    "```\n",
    "za_graf %>% plot(., .$y, .$x)\n",
    "```"
   ]
  },
  {
   "cell_type": "markdown",
   "metadata": {},
   "source": [
    "Dakle, ponovno možemo izraz s desne strane opkoliti vitičastim zagradama."
   ]
  },
  {
   "cell_type": "code",
   "execution_count": 31,
   "metadata": {},
   "outputs": [
    {
     "data": {
      "image/png": "[encoded data removed]",
      "text/plain": [
       "plot without title"
      ]
     },
     "metadata": {},
     "output_type": "display_data"
    }
   ],
   "source": [
    "za_graf %>% {plot(.$y, .$x)}"
   ]
  },
  {
   "cell_type": "markdown",
   "metadata": {},
   "source": [
    "Da se smanje takve konfuzije, neki preporučuju da se `.` uvijek piše, tako da je to praksa koju ćemo ovdje usvojiti.\n",
    "\n",
    "No, osim zatvaranja izraza s desne strane u zagrade, možemo iskoristiti jednu drugu pipu."
   ]
  },
  {
   "cell_type": "markdown",
   "metadata": {},
   "source": [
    "### %$%"
   ]
  },
  {
   "cell_type": "markdown",
   "metadata": {},
   "source": [
    "`%$%` je *variable exposition* pipa. Ona nam daje direktan pristup varijablama koje se nalaze u objektu kojim baratamo.\n",
    "\n",
    "Gornji problem mogli bismo riješiti i ovako:"
   ]
  },
  {
   "cell_type": "code",
   "execution_count": 32,
   "metadata": {},
   "outputs": [
    {
     "data": {
      "image/png": "[encoded data removed]",
      "text/plain": [
       "plot without title"
      ]
     },
     "metadata": {},
     "output_type": "display_data"
    }
   ],
   "source": [
    "za_graf %$% plot(y, x)"
   ]
  },
  {
   "cell_type": "markdown",
   "metadata": {},
   "source": [
    "Možemo kombinirati različite pipe. Na primjer:"
   ]
  },
  {
   "cell_type": "code",
   "execution_count": 36,
   "metadata": {},
   "outputs": [
    {
     "data": {
      "image/png": "[encoded data removed]",
      "text/plain": [
       "plot without title"
      ]
     },
     "metadata": {},
     "output_type": "display_data"
    }
   ],
   "source": [
    "1:10 %>% data.frame(a = ., b = 11:20) %$% plot(b, a)"
   ]
  },
  {
   "cell_type": "markdown",
   "metadata": {},
   "source": [
    "U gornjem primjeru bi nam možda bilo zgodno da možemo pogledati strukturu `data.framea` nakon što ga stvorimo ili napraviti još neke operacije nakon što plotamo varijable.\n",
    "\n",
    "Na sreću, imamo pipu i za to."
   ]
  },
  {
   "cell_type": "markdown",
   "metadata": {},
   "source": [
    "### %T>%"
   ]
  },
  {
   "cell_type": "markdown",
   "metadata": {},
   "source": [
    "T-pipa (izvorno *tee*) vraća izraz s lijeve strane umjesto izraza s desne strane. Zbog toga, možemo učiniti sljedeće:"
   ]
  },
  {
   "cell_type": "code",
   "execution_count": 37,
   "metadata": {},
   "outputs": [
    {
     "name": "stdout",
     "output_type": "stream",
     "text": [
      "'data.frame':\t10 obs. of  2 variables:\n",
      " $ a: int  1 2 3 4 5 6 7 8 9 10\n",
      " $ b: int  11 12 13 14 15 16 17 18 19 20\n"
     ]
    },
    {
     "data": {
      "image/png": "[encoded data removed]",
      "text/plain": [
       "plot without title"
      ]
     },
     "metadata": {},
     "output_type": "display_data"
    }
   ],
   "source": [
    "1:10 %>% data.frame(a = ., b = 11:20) %T>% str %$% plot(b, a)"
   ]
  },
  {
   "cell_type": "code",
   "execution_count": 42,
   "metadata": {},
   "outputs": [
    {
     "data": {
      "text/html": [
       "210"
      ],
      "text/latex": [
       "210"
      ],
      "text/markdown": [
       "210"
      ],
      "text/plain": [
       "[1] 210"
      ]
     },
     "metadata": {},
     "output_type": "display_data"
    },
    {
     "data": {
      "image/png": "[encoded data removed]",
      "text/plain": [
       "plot without title"
      ]
     },
     "metadata": {},
     "output_type": "display_data"
    }
   ],
   "source": [
    "1:10 %>% data.frame(a = ., b = 11:20) %T>%\n",
    "{plot(.$b, .$a)} %$%\n",
    "sum(a,b)"
   ]
  },
  {
   "cell_type": "markdown",
   "metadata": {},
   "source": [
    "Preostaje nam još jedna pipa..."
   ]
  },
  {
   "cell_type": "markdown",
   "metadata": {},
   "source": [
    "### %<>%"
   ]
  },
  {
   "cell_type": "markdown",
   "metadata": {},
   "source": [
    "`%<>%` je *assignment* pipa. Ona istovremeno uzima i piše u vrijednost s lijeve strane. To nam omogućuje da neku varijablu provučemo kroz seriju transformacijskih koraka."
   ]
  },
  {
   "cell_type": "code",
   "execution_count": 58,
   "metadata": {},
   "outputs": [
    {
     "name": "stdout",
     "output_type": "stream",
     "text": [
      "'data.frame':\t10 obs. of  2 variables:\n",
      " $ x: num  3.21 3.22 3.23 3.24 3.25 ...\n",
      " $ y: int  11 12 13 14 15 16 17 18 19 20\n"
     ]
    }
   ],
   "source": [
    "za_graf$x %<>% magrittr::add(., 2) %>%\n",
    "magrittr::multiply_by(., 2) %>% sqrt(.)\n",
    "\n",
    "str(za_graf)"
   ]
  },
  {
   "cell_type": "markdown",
   "metadata": {},
   "source": [
    "Ovime završavamo upoznavanje s pipama. Nakratko se vraćamo natrag na primjer s funkcijom `describe`, nakon čega ponovno odlazimo u uzbudljivu digresiju."
   ]
  },
  {
   "cell_type": "markdown",
   "metadata": {},
   "source": [
    "## dplyr::select i dplyr::filter"
   ]
  },
  {
   "cell_type": "markdown",
   "metadata": {},
   "source": [
    "Već smo ranije vidjeli funkciju `select`, koja nam je omogućila da izaberemo 3 od 64 stupca iz `data.framea` `podaci`. Za odabiranje pojedinih redova koji zadovoljavaju određeni logički izraz možemo koristiti funkciju `filter`.\n",
    "\n",
    "Sad ćemo prikazati deskriptivnu statistiku za pitanja koja tvore jednu od skala koja se nalazi u našim podacima - skalu internalizacije moralnog identiteta - samo na poduzorku žena."
   ]
  },
  {
   "cell_type": "markdown",
   "metadata": {},
   "source": [
    "Sve varijable koje se odnose na tu skalu imaju ime oblika `moralIdentityInternalization<broj-pitanja>`. Zbog tog sustavnog imenovanja, ne moramo ispisivati imena (ili redne brojeve) svih varijabli koje želimo zahvatiti funkcijom `describe`, nego možemo pozvati funkciju `contains` unutar funkcije `select`."
   ]
  },
  {
   "cell_type": "markdown",
   "metadata": {},
   "source": [
    "`contains` na omogućuje da odaberemo samo one varijable koje sadrže zadani string."
   ]
  },
  {
   "cell_type": "code",
   "execution_count": 72,
   "metadata": {},
   "outputs": [
    {
     "name": "stdout",
     "output_type": "stream",
     "text": [
      "Classes ‘tbl_df’, ‘tbl’ and 'data.frame':\t45 obs. of  5 variables:\n",
      " $ moralIdentityInternalization01: int  4 5 5 4 4 5 4 6 6 5 ...\n",
      " $ moralIdentityInternalization02: int  3 5 5 3 3 3 3 5 6 3 ...\n",
      " $ moralIdentityInternalization03: int  1 1 1 1 1 1 1 1 1 1 ...\n",
      " $ moralIdentityInternalization04: int  2 3 1 2 4 2 2 1 1 2 ...\n",
      " $ moralIdentityInternalization05: int  4 5 5 4 2 4 4 6 6 5 ...\n"
     ]
    },
    {
     "data": {
      "text/html": [
       "<table>\n",
       "<thead><tr><th></th><th scope=col>vars</th><th scope=col>n</th><th scope=col>mean</th><th scope=col>sd</th><th scope=col>median</th><th scope=col>trimmed</th><th scope=col>mad</th><th scope=col>min</th><th scope=col>max</th><th scope=col>range</th><th scope=col>skew</th><th scope=col>kurtosis</th><th scope=col>se</th></tr></thead>\n",
       "<tbody>\n",
       "\t<tr><th scope=row>moralIdentityInternalization01</th><td>1          </td><td>45         </td><td>4.711111   </td><td>0.6613424  </td><td>5          </td><td>4.675676   </td><td>0.0000     </td><td>3          </td><td>6          </td><td>3          </td><td>-0.09499871</td><td>-0.2560002 </td><td>0.0985871  </td></tr>\n",
       "\t<tr><th scope=row>moralIdentityInternalization02</th><td>2          </td><td>45         </td><td>4.177778   </td><td>1.0288760  </td><td>4          </td><td>4.081081   </td><td>1.4826     </td><td>3          </td><td>7          </td><td>4          </td><td> 0.63057485</td><td>-0.2803328 </td><td>0.1533758  </td></tr>\n",
       "\t<tr><th scope=row>moralIdentityInternalization03</th><td>3          </td><td>45         </td><td>1.000000   </td><td>0.0000000  </td><td>1          </td><td>1.000000   </td><td>0.0000     </td><td>1          </td><td>1          </td><td>0          </td><td>        NaN</td><td>       NaN </td><td>0.0000000  </td></tr>\n",
       "\t<tr><th scope=row>moralIdentityInternalization04</th><td>4          </td><td>45         </td><td>1.488889   </td><td>0.8692270  </td><td>1          </td><td>1.459459   </td><td>1.4826     </td><td>0          </td><td>4          </td><td>4          </td><td> 0.33779878</td><td> 0.2010560 </td><td>0.1295767  </td></tr>\n",
       "\t<tr><th scope=row>moralIdentityInternalization05</th><td>5          </td><td>45         </td><td>4.488889   </td><td>0.9200351  </td><td>4          </td><td>4.513514   </td><td>1.4826     </td><td>2          </td><td>6          </td><td>4          </td><td>-0.22495256</td><td>-0.1641706 </td><td>0.1371507  </td></tr>\n",
       "</tbody>\n",
       "</table>\n"
      ],
      "text/latex": [
       "\\begin{tabular}{r|lllllllllllll}\n",
       "  & vars & n & mean & sd & median & trimmed & mad & min & max & range & skew & kurtosis & se\\\\\n",
       "\\hline\n",
       "\tmoralIdentityInternalization01 & 1           & 45          & 4.711111    & 0.6613424   & 5           & 4.675676    & 0.0000      & 3           & 6           & 3           & -0.09499871 & -0.2560002  & 0.0985871  \\\\\n",
       "\tmoralIdentityInternalization02 & 2           & 45          & 4.177778    & 1.0288760   & 4           & 4.081081    & 1.4826      & 3           & 7           & 4           &  0.63057485 & -0.2803328  & 0.1533758  \\\\\n",
       "\tmoralIdentityInternalization03 & 3           & 45          & 1.000000    & 0.0000000   & 1           & 1.000000    & 0.0000      & 1           & 1           & 0           &         NaN &        NaN  & 0.0000000  \\\\\n",
       "\tmoralIdentityInternalization04 & 4           & 45          & 1.488889    & 0.8692270   & 1           & 1.459459    & 1.4826      & 0           & 4           & 4           &  0.33779878 &  0.2010560  & 0.1295767  \\\\\n",
       "\tmoralIdentityInternalization05 & 5           & 45          & 4.488889    & 0.9200351   & 4           & 4.513514    & 1.4826      & 2           & 6           & 4           & -0.22495256 & -0.1641706  & 0.1371507  \\\\\n",
       "\\end{tabular}\n"
      ],
      "text/markdown": [
       "\n",
       "| <!--/--> | vars | n | mean | sd | median | trimmed | mad | min | max | range | skew | kurtosis | se | \n",
       "|---|---|---|---|---|\n",
       "| moralIdentityInternalization01 | 1           | 45          | 4.711111    | 0.6613424   | 5           | 4.675676    | 0.0000      | 3           | 6           | 3           | -0.09499871 | -0.2560002  | 0.0985871   | \n",
       "| moralIdentityInternalization02 | 2           | 45          | 4.177778    | 1.0288760   | 4           | 4.081081    | 1.4826      | 3           | 7           | 4           |  0.63057485 | -0.2803328  | 0.1533758   | \n",
       "| moralIdentityInternalization03 | 3           | 45          | 1.000000    | 0.0000000   | 1           | 1.000000    | 0.0000      | 1           | 1           | 0           |         NaN |        NaN  | 0.0000000   | \n",
       "| moralIdentityInternalization04 | 4           | 45          | 1.488889    | 0.8692270   | 1           | 1.459459    | 1.4826      | 0           | 4           | 4           |  0.33779878 |  0.2010560  | 0.1295767   | \n",
       "| moralIdentityInternalization05 | 5           | 45          | 4.488889    | 0.9200351   | 4           | 4.513514    | 1.4826      | 2           | 6           | 4           | -0.22495256 | -0.1641706  | 0.1371507   | \n",
       "\n",
       "\n"
      ],
      "text/plain": [
       "                               vars n  mean     sd        median trimmed \n",
       "moralIdentityInternalization01 1    45 4.711111 0.6613424 5      4.675676\n",
       "moralIdentityInternalization02 2    45 4.177778 1.0288760 4      4.081081\n",
       "moralIdentityInternalization03 3    45 1.000000 0.0000000 1      1.000000\n",
       "moralIdentityInternalization04 4    45 1.488889 0.8692270 1      1.459459\n",
       "moralIdentityInternalization05 5    45 4.488889 0.9200351 4      4.513514\n",
       "                               mad    min max range skew        kurtosis  \n",
       "moralIdentityInternalization01 0.0000 3   6   3     -0.09499871 -0.2560002\n",
       "moralIdentityInternalization02 1.4826 3   7   4      0.63057485 -0.2803328\n",
       "moralIdentityInternalization03 0.0000 1   1   0             NaN        NaN\n",
       "moralIdentityInternalization04 1.4826 0   4   4      0.33779878  0.2010560\n",
       "moralIdentityInternalization05 1.4826 2   6   4     -0.22495256 -0.1641706\n",
       "                               se       \n",
       "moralIdentityInternalization01 0.0985871\n",
       "moralIdentityInternalization02 0.1533758\n",
       "moralIdentityInternalization03 0.0000000\n",
       "moralIdentityInternalization04 0.1295767\n",
       "moralIdentityInternalization05 0.1371507"
      ]
     },
     "metadata": {},
     "output_type": "display_data"
    }
   ],
   "source": [
    "podaci %>%\n",
    "dplyr::filter(., pi_gender == 'Female') %>%\n",
    "dplyr::select(., contains('internal', ignore.case = T)) %T>% str(.) %>%\n",
    "psych::describe(.)"
   ]
  },
  {
   "cell_type": "code",
   "execution_count": 71,
   "metadata": {},
   "outputs": [
    {
     "data": {
      "text/html": [
       "<table>\n",
       "<thead><tr><th></th><th scope=col>vars</th><th scope=col>n</th><th scope=col>mean</th><th scope=col>sd</th><th scope=col>median</th><th scope=col>trimmed</th><th scope=col>mad</th><th scope=col>min</th><th scope=col>max</th><th scope=col>range</th><th scope=col>skew</th><th scope=col>kurtosis</th><th scope=col>se</th></tr></thead>\n",
       "<tbody>\n",
       "\t<tr><th scope=row>moralIdentityInternalization01</th><td>1          </td><td>45         </td><td>4.711111   </td><td>0.6613424  </td><td>5          </td><td>4.675676   </td><td>0.0000     </td><td>3          </td><td>6          </td><td>3          </td><td>-0.09499871</td><td>-0.2560002 </td><td>0.0985871  </td></tr>\n",
       "\t<tr><th scope=row>moralIdentityInternalization02</th><td>2          </td><td>45         </td><td>4.177778   </td><td>1.0288760  </td><td>4          </td><td>4.081081   </td><td>1.4826     </td><td>3          </td><td>7          </td><td>4          </td><td> 0.63057485</td><td>-0.2803328 </td><td>0.1533758  </td></tr>\n",
       "\t<tr><th scope=row>moralIdentityInternalization03</th><td>3          </td><td>45         </td><td>1.000000   </td><td>0.0000000  </td><td>1          </td><td>1.000000   </td><td>0.0000     </td><td>1          </td><td>1          </td><td>0          </td><td>        NaN</td><td>       NaN </td><td>0.0000000  </td></tr>\n",
       "\t<tr><th scope=row>moralIdentityInternalization04</th><td>4          </td><td>45         </td><td>1.488889   </td><td>0.8692270  </td><td>1          </td><td>1.459459   </td><td>1.4826     </td><td>0          </td><td>4          </td><td>4          </td><td> 0.33779878</td><td> 0.2010560 </td><td>0.1295767  </td></tr>\n",
       "\t<tr><th scope=row>moralIdentityInternalization05</th><td>5          </td><td>45         </td><td>4.488889   </td><td>0.9200351  </td><td>4          </td><td>4.513514   </td><td>1.4826     </td><td>2          </td><td>6          </td><td>4          </td><td>-0.22495256</td><td>-0.1641706 </td><td>0.1371507  </td></tr>\n",
       "</tbody>\n",
       "</table>\n"
      ],
      "text/latex": [
       "\\begin{tabular}{r|lllllllllllll}\n",
       "  & vars & n & mean & sd & median & trimmed & mad & min & max & range & skew & kurtosis & se\\\\\n",
       "\\hline\n",
       "\tmoralIdentityInternalization01 & 1           & 45          & 4.711111    & 0.6613424   & 5           & 4.675676    & 0.0000      & 3           & 6           & 3           & -0.09499871 & -0.2560002  & 0.0985871  \\\\\n",
       "\tmoralIdentityInternalization02 & 2           & 45          & 4.177778    & 1.0288760   & 4           & 4.081081    & 1.4826      & 3           & 7           & 4           &  0.63057485 & -0.2803328  & 0.1533758  \\\\\n",
       "\tmoralIdentityInternalization03 & 3           & 45          & 1.000000    & 0.0000000   & 1           & 1.000000    & 0.0000      & 1           & 1           & 0           &         NaN &        NaN  & 0.0000000  \\\\\n",
       "\tmoralIdentityInternalization04 & 4           & 45          & 1.488889    & 0.8692270   & 1           & 1.459459    & 1.4826      & 0           & 4           & 4           &  0.33779878 &  0.2010560  & 0.1295767  \\\\\n",
       "\tmoralIdentityInternalization05 & 5           & 45          & 4.488889    & 0.9200351   & 4           & 4.513514    & 1.4826      & 2           & 6           & 4           & -0.22495256 & -0.1641706  & 0.1371507  \\\\\n",
       "\\end{tabular}\n"
      ],
      "text/markdown": [
       "\n",
       "| <!--/--> | vars | n | mean | sd | median | trimmed | mad | min | max | range | skew | kurtosis | se | \n",
       "|---|---|---|---|---|\n",
       "| moralIdentityInternalization01 | 1           | 45          | 4.711111    | 0.6613424   | 5           | 4.675676    | 0.0000      | 3           | 6           | 3           | -0.09499871 | -0.2560002  | 0.0985871   | \n",
       "| moralIdentityInternalization02 | 2           | 45          | 4.177778    | 1.0288760   | 4           | 4.081081    | 1.4826      | 3           | 7           | 4           |  0.63057485 | -0.2803328  | 0.1533758   | \n",
       "| moralIdentityInternalization03 | 3           | 45          | 1.000000    | 0.0000000   | 1           | 1.000000    | 0.0000      | 1           | 1           | 0           |         NaN |        NaN  | 0.0000000   | \n",
       "| moralIdentityInternalization04 | 4           | 45          | 1.488889    | 0.8692270   | 1           | 1.459459    | 1.4826      | 0           | 4           | 4           |  0.33779878 |  0.2010560  | 0.1295767   | \n",
       "| moralIdentityInternalization05 | 5           | 45          | 4.488889    | 0.9200351   | 4           | 4.513514    | 1.4826      | 2           | 6           | 4           | -0.22495256 | -0.1641706  | 0.1371507   | \n",
       "\n",
       "\n"
      ],
      "text/plain": [
       "                               vars n  mean     sd        median trimmed \n",
       "moralIdentityInternalization01 1    45 4.711111 0.6613424 5      4.675676\n",
       "moralIdentityInternalization02 2    45 4.177778 1.0288760 4      4.081081\n",
       "moralIdentityInternalization03 3    45 1.000000 0.0000000 1      1.000000\n",
       "moralIdentityInternalization04 4    45 1.488889 0.8692270 1      1.459459\n",
       "moralIdentityInternalization05 5    45 4.488889 0.9200351 4      4.513514\n",
       "                               mad    min max range skew        kurtosis  \n",
       "moralIdentityInternalization01 0.0000 3   6   3     -0.09499871 -0.2560002\n",
       "moralIdentityInternalization02 1.4826 3   7   4      0.63057485 -0.2803328\n",
       "moralIdentityInternalization03 0.0000 1   1   0             NaN        NaN\n",
       "moralIdentityInternalization04 1.4826 0   4   4      0.33779878  0.2010560\n",
       "moralIdentityInternalization05 1.4826 2   6   4     -0.22495256 -0.1641706\n",
       "                               se       \n",
       "moralIdentityInternalization01 0.0985871\n",
       "moralIdentityInternalization02 0.1533758\n",
       "moralIdentityInternalization03 0.0000000\n",
       "moralIdentityInternalization04 0.1295767\n",
       "moralIdentityInternalization05 0.1371507"
      ]
     },
     "metadata": {},
     "output_type": "display_data"
    }
   ],
   "source": [
    "# base R rješenje za usporedbu\n",
    "psych::describe(podaci[podaci$pi_gender == 'Female', qc(moralIdentityInternalization01,\n",
    "                                                moralIdentityInternalization02,\n",
    "                                                moralIdentityInternalization03,\n",
    "                                                moralIdentityInternalization04,\n",
    "                                                moralIdentityInternalization05)])"
   ]
  },
  {
   "cell_type": "markdown",
   "metadata": {},
   "source": [
    "`contains` je jedna od nekoliko pomoćnih funkcija koje su super za `select`. Druge su:\n",
    "- `starts_with`, koja odabire varijable koje počinju s određenim stringom\n",
    "- `ends_with`, isto, samo za kraj\n",
    "- `one_of`, koju treba koristiti kad `selectu` dajemo `character` vektor\n",
    "- `matches`, koji nas uvodi u digresiju o regularnim izrazima!"
   ]
  },
  {
   "cell_type": "markdown",
   "metadata": {},
   "source": [
    "## Regularni izrazi"
   ]
  },
  {
   "cell_type": "markdown",
   "metadata": {},
   "source": [
    "## Reference"
   ]
  },
  {
   "cell_type": "markdown",
   "metadata": {},
   "source": [
    "Grolemund, G. i Wickham, H. *R for data science*. O'Reilly Media, Inc.\n",
    "\n",
    "Pipe\n",
    "- https://cran.r-project.org/web/packages/magrittr/vignettes/magrittr.html\n",
    "- http://r4ds.had.co.nz/pipes.html"
   ]
  },
  {
   "cell_type": "markdown",
   "metadata": {},
   "source": [
    "## Epilog"
   ]
  },
  {
   "cell_type": "code",
   "execution_count": null,
   "metadata": {},
   "outputs": [],
   "source": [
    "sessionInfo() "
   ]
  }
 ],
 "metadata": {
  "kernelspec": {
   "display_name": "R 3.5",
   "language": "R",
   "name": "ir35"
  },
  "language_info": {
   "codemirror_mode": "r",
   "file_extension": ".r",
   "mimetype": "text/x-r-source",
   "name": "R",
   "pygments_lexer": "r",
   "version": "3.5.1"
  }
 },
 "nbformat": 4,
 "nbformat_minor": 2
}
