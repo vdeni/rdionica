{
 "cells": [
  {
   "cell_type": "code",
   "execution_count": 1,
   "metadata": {
    "slideshow": {
     "slide_type": "slide"
    }
   },
   "outputs": [],
   "source": [
    "options(repr.matrix.max.cols = 120, repr.matrix.max.rows = 500,\n",
    "       repr.plot.height = 6, repr.plot.width = 6)"
   ]
  },
  {
   "cell_type": "markdown",
   "metadata": {
    "slideshow": {
     "slide_type": "slide"
    }
   },
   "source": [
    "# Rdionica: priprema datoteke `podaci_upitnik.csv` za obradu"
   ]
  },
  {
   "cell_type": "code",
   "execution_count": null,
   "metadata": {
    "slideshow": {
     "slide_type": "skip"
    }
   },
   "outputs": [],
   "source": [
    "install.packages(c('tidyverse', 'here',\n",
    "                   'wrapr', 'conflicted',\n",
    "                   # ovi paketi nisu učitani tijekom ovog\n",
    "                   # dijela radionice:\n",
    "                   'DataExplorer', 'naniar', 'visdat',\n",
    "                   'skimr', 'janitor', 'psych'))"
   ]
  },
  {
   "cell_type": "markdown",
   "metadata": {
    "slideshow": {
     "slide_type": "slide"
    }
   },
   "source": [
    "U ovom dijelu radionice proći ćemo put od sirovih podataka do podataka na kojima možemo provesti analizu."
   ]
  },
  {
   "cell_type": "markdown",
   "metadata": {
    "slideshow": {
     "slide_type": "fragment"
    }
   },
   "source": [
    "Prije nego što se bacimo na učitavanje i proučavanje sirovih podataka, učitat ćemo pakete koje ćemo koristiti.\n",
    "\n",
    "Pakete učitavamo pozivanjem funkcije `library`, koja kao argument prima ime **jednog** paketa."
   ]
  },
  {
   "cell_type": "code",
   "execution_count": 2,
   "metadata": {
    "slideshow": {
     "slide_type": "fragment"
    }
   },
   "outputs": [
    {
     "name": "stderr",
     "output_type": "stream",
     "text": [
      "── Attaching packages ─────────────────────────────────────── tidyverse 1.2.1 ──\n",
      "✔ ggplot2 3.0.0     ✔ purrr   0.2.5\n",
      "✔ tibble  1.4.2     ✔ dplyr   0.7.7\n",
      "✔ tidyr   0.8.1     ✔ stringr 1.3.1\n",
      "✔ readr   1.1.1     ✔ forcats 0.3.0\n",
      "── Conflicts ────────────────────────────────────────── tidyverse_conflicts() ──\n",
      "✖ dplyr::filter() masks stats::filter()\n",
      "✖ dplyr::lag()    masks stats::lag()\n",
      "\n",
      "Attaching package: ‘magrittr’\n",
      "\n",
      "The following object is masked from ‘package:purrr’:\n",
      "\n",
      "    set_names\n",
      "\n",
      "The following object is masked from ‘package:tidyr’:\n",
      "\n",
      "    extract\n",
      "\n",
      "here() starts at /home/denis/Documents/rdionica\n"
     ]
    }
   ],
   "source": [
    "# skupina paketa koja sadrži većinu paketa koje\n",
    "# ćemo koristiti za baratanje podacima\n",
    "library(tidyverse)\n",
    "\n",
    "# paket koji sadrži 'pipe' operatore\n",
    "library(magrittr)\n",
    "\n",
    "# upozorava na konflikte u imenima funkcija\n",
    "# koji se javljaju kad više paketa koristi isto\n",
    "# ime\n",
    "library(conflicted)\n",
    "\n",
    "# omogućava učitavanje .SAV fielova\n",
    "library(haven)\n",
    "\n",
    "# paket koji sadrži neke zgodne olakšice\n",
    "library(wrapr)\n",
    "\n",
    "# olakšava korištenje relativnih file pathova\n",
    "library(here)"
   ]
  },
  {
   "cell_type": "markdown",
   "metadata": {
    "slideshow": {
     "slide_type": "slide"
    }
   },
   "source": [
    "## Učitavanje podatka"
   ]
  },
  {
   "cell_type": "markdown",
   "metadata": {
    "slideshow": {
     "slide_type": "slide"
    }
   },
   "source": [
    "Za početak, pogledat ćemo kako izgledaju naši sirovi podaci.\n",
    "\n",
    "A da bismo to učinili, prvo ih moramo učitati u R.\n",
    "\n",
    "Vidjet ćemo kako učitati tri vrste datoteka: SPSS-ov `.sav`, Excelov `.xls/xlsx` te generički *comma separated values* file - `.csv`."
   ]
  },
  {
   "cell_type": "markdown",
   "metadata": {
    "slideshow": {
     "slide_type": "slide"
    }
   },
   "source": [
    "### SPSS - .sav"
   ]
  },
  {
   "cell_type": "markdown",
   "metadata": {
    "slideshow": {
     "slide_type": "subslide"
    }
   },
   "source": [
    "`.sav` datoteke možemo učitati koristeći funkciju `read_sav` iz paketa `haven` (dio `tidyversea`). Funkcija kao argument prima samo put do datoteke koju želimo učitati."
   ]
  },
  {
   "cell_type": "code",
   "execution_count": null,
   "metadata": {
    "slideshow": {
     "slide_type": "fragment"
    }
   },
   "outputs": [],
   "source": [
    "podaci_spss <- read_sav(here('podaci', 'podaci_upitnik.sav'))"
   ]
  },
  {
   "cell_type": "markdown",
   "metadata": {
    "slideshow": {
     "slide_type": "subslide"
    }
   },
   "source": [
    "Funkcija `here` konstruira relativni put do datoteke `podaci_upitnik.csv`, koji kreće od *root* foldera, a koji je označen prisustvom prazne datoteke imena `.here`."
   ]
  },
  {
   "cell_type": "markdown",
   "metadata": {
    "slideshow": {
     "slide_type": "-"
    }
   },
   "source": [
    "To je jedan od načina koji osigurava reproducibilnost obrada pri prijenosu koda s jednog računala na drugo i lišava nas muke ručnog mijenjanja puteva do datoteka. Isto postižemo stvaranjem projekta u RStudiju. Osim na datoteku `.here`, funkcija `here` reagira i na datoteke sa sufiksom `.Rproj` (koje nastaju pri stvaranju RStudio projekta)."
   ]
  },
  {
   "cell_type": "markdown",
   "metadata": {
    "slideshow": {
     "slide_type": "skip"
    }
   },
   "source": [
    "Kad pogledamo učitane podatke, primjećujemo nešto neobično kod `pi_` varijabli."
   ]
  },
  {
   "cell_type": "code",
   "execution_count": null,
   "metadata": {
    "slideshow": {
     "slide_type": "subslide"
    }
   },
   "outputs": [],
   "source": [
    "head(podaci_spss)"
   ]
  },
  {
   "cell_type": "markdown",
   "metadata": {
    "slideshow": {
     "slide_type": "skip"
    }
   },
   "source": [
    "Kod nekih sudionika, unos pod `pi_education` je razdvojen u dva stupca, pri čemu je jedna vrijednost nasilno gurnuta u `pi_gender`. To je dovelo i do stvaranja nove varijable `V65`, koja sadrži vrijednosti koje bi se trebale javljati pod `pi_previous donations`. Dakle, kod nekih sudionika su vrijednosti iza `pi_education` pomaknute za jedno mjesto udesno.\n",
    "\n",
    "Do toga je došlo jer je puni naziv jedne razine varijable `pi_education`: \"Some professional diploma, no degree\". Zbog zareza u nazivu razine dolazi do pogreške u parsanju varijabli, pa dolazi do pomaka udesno i stvaranja varijable viška.\n",
    "\n",
    "Ovaj problem lako možemo riješiti tako da otvorimo izvornu bazu podataka i samo napravimo find and replace kako bismo uklonili zarez smutnje. Lako ga je riješiti ako imamo SPSS. Druga opcija je korištenje besplatnog online `.sav` -> `.csv` konvertera (link se nalazi u referencama). Time ćemo dobiti datoteku koju možemo otvoriti u nekom text editoru (recimo, Notepadu), te učiniti potrebne promjene (opet find and replace). Treći način je, naravno, prtljanje po podacima u R-u, što ćemo ostaviti za kraj radionice."
   ]
  },
  {
   "cell_type": "markdown",
   "metadata": {
    "slideshow": {
     "slide_type": "slide"
    }
   },
   "source": [
    "### Excel - .xls(x)"
   ]
  },
  {
   "cell_type": "markdown",
   "metadata": {
    "slideshow": {
     "slide_type": "slide"
    }
   },
   "source": [
    "### Comma separated values - .csv"
   ]
  },
  {
   "cell_type": "markdown",
   "metadata": {
    "slideshow": {
     "slide_type": "subslide"
    }
   },
   "source": [
    "*Comma separeted value* datoteke su točno to što ime kaže - podaci koji su strukturirani kao vrijednosti odvojene zarezima, gdje se svaki unos (na primjer sudionik) nalazi u zasebnom redu, a vrijednosti varijabli koje su uz njega povezane ispisane su redom i odvojene su zarezima."
   ]
  },
  {
   "cell_type": "markdown",
   "metadata": {
    "slideshow": {
     "slide_type": "subslide"
    }
   },
   "source": [
    "U prvom redu (koji funkcije u R-u često nazivaju **header**) obično se nalaze imena varijabli, a u ostalim redovima su njihove vrijednosti.\n",
    "\n",
    "Ovako izgledaju prva dva reda i prvih nekoliko stupaca datoteke `podaci_upitnik.csv`:\n",
    "\n",
    "```\n",
    "attitudesAndNorms01,attitudesAndNorms02,attitudesAndNorms03, ...\n",
    "5,5,5,5,4, ...\n",
    "```"
   ]
  },
  {
   "cell_type": "markdown",
   "metadata": {
    "slideshow": {
     "slide_type": "subslide"
    }
   },
   "source": [
    "Podatke u `.csv` formatu možemo učitati pomoću funkcije `read_csv` iz `readr` paketa (koji je automatski učitan kad smo učitali `tidyverse`). Osnovni (base) R ima funkciju `read.csv` koja obavlja isti zadatak, ali neki R developeri preporučuju korištenje `read_csv` funkcije (na primjer, Hadley Wickham i Garret Grolemund: http://r4ds.had.co.nz/import.html)."
   ]
  },
  {
   "cell_type": "markdown",
   "metadata": {
    "slideshow": {
     "slide_type": "skip"
    }
   },
   "source": [
    "U skladu s tom preporukom, koristit ćemo `read_csv`. Podatke iz datoteke `podaci_upitnik.csv` možemo učitati ovako:"
   ]
  },
  {
   "cell_type": "code",
   "execution_count": 3,
   "metadata": {
    "slideshow": {
     "slide_type": "subslide"
    }
   },
   "outputs": [
    {
     "name": "stderr",
     "output_type": "stream",
     "text": [
      "Parsed with column specification:\n",
      "cols(\n",
      "  .default = col_integer(),\n",
      "  pi_education = col_character(),\n",
      "  pi_gender = col_character(),\n",
      "  pi_ideology = col_character(),\n",
      "  pi_income = col_character(),\n",
      "  pi_nationality = col_character(),\n",
      "  pi_previousDonations = col_character()\n",
      ")\n",
      "See spec(...) for full column specifications.\n"
     ]
    }
   ],
   "source": [
    "podaci <- read_csv(file = here('podaci', 'podaci_upitnik.csv'))"
   ]
  },
  {
   "cell_type": "markdown",
   "metadata": {
    "slideshow": {
     "slide_type": "fragment"
    }
   },
   "source": [
    "Poruka koju dobivamo obavještava nas o tome kako su određene varijable reprezentirane. Vidimo da su varijable koje počinju s `pi` reprezentirane kao `character`. Ako pozovemo funkciju `spec`, vidjet ćemo specifikacije svih varijabli."
   ]
  },
  {
   "cell_type": "markdown",
   "metadata": {
    "slideshow": {
     "slide_type": "-"
    }
   },
   "source": [
    "Budući da pozivanjem funkcije `str` zapravo dobivamo manje-više iste podatke, pozvat ćemo samo nju. Njen output pomoći će nam da vidimo jesu li podaci reprezentirani onako kako bismo očekivali."
   ]
  },
  {
   "cell_type": "code",
   "execution_count": 4,
   "metadata": {
    "slideshow": {
     "slide_type": "subslide"
    }
   },
   "outputs": [
    {
     "name": "stdout",
     "output_type": "stream",
     "text": [
      "Classes ‘tbl_df’, ‘tbl’ and 'data.frame':\t100 obs. of  64 variables:\n",
      " $ attitudesAndNorms01           : int  5 5 4 6 4 4 6 4 3 5 ...\n",
      " $ attitudesAndNorms02           : int  5 4 6 2 1 4 0 4 7 7 ...\n",
      " $ attitudesAndNorms03           : int  5 2 5 3 2 4 3 5 6 7 ...\n",
      " $ attitudesAndNorms04           : int  5 1 5 2 3 3 3 7 5 6 ...\n",
      " $ attitudesAndNorms05           : int  4 2 3 2 1 4 2 4 4 6 ...\n",
      " $ attitudesAndNorms06           : int  3 2 2 3 2 3 3 3 3 4 ...\n",
      " $ attitudesAndNorms07           : int  4 3 4 5 4 5 6 4 4 5 ...\n",
      " $ attitudesAndNorms08           : int  6 7 5 6 5 5 7 5 3 5 ...\n",
      " $ callToAction                  : int  7 6 7 1 8 7 11 8 3 7 ...\n",
      " $ charitableBehavior01          : int  37 18 7 14 0 37 33 29 16 6 ...\n",
      " $ charitableBehavior02          : int  4 3 3 5 0 2 4 3 2 3 ...\n",
      " $ descriptiveSocialNorms01      : int  4 3 3 1 3 1 2 4 3 4 ...\n",
      " $ descriptiveSocialNorms02      : int  3 1 3 1 1 1 2 3 3 5 ...\n",
      " $ descriptiveSocialNorms03      : int  2 3 2 2 2 3 3 4 4 5 ...\n",
      " $ descriptiveSocialNorms04      : int  2 1 5 3 4 2 2 2 2 4 ...\n",
      " $ mf_AuthoritySubversion        : int  1 1 2 2 2 0 2 1 1 2 ...\n",
      " $ mf_CareHarm                   : int  3 3 3 3 4 3 4 3 3 4 ...\n",
      " $ mf_FairnessCheating           : int  3 3 4 3 2 4 4 5 3 4 ...\n",
      " $ mf_LoyaltyBetrayal            : int  2 2 2 3 2 1 2 0 0 1 ...\n",
      " $ mf_SanctityDegradation        : int  1 1 1 1 1 -1 1 -1 1 1 ...\n",
      " $ moralFoundations01            : int  4 3 4 3 3 4 5 3 4 4 ...\n",
      " $ moralFoundations02            : int  4 3 4 3 1 4 4 4 2 5 ...\n",
      " $ moralFoundations03            : int  3 0 2 1 1 0 2 0 -1 0 ...\n",
      " $ moralFoundations04            : int  1 0 2 2 2 0 2 0 1 2 ...\n",
      " $ moralFoundations05            : int  2 2 1 3 3 -1 3 1 1 2 ...\n",
      " $ moralFoundations06            : int  0 0 0 2 -1 1 0 0 -1 1 ...\n",
      " $ moralFoundations07            : int  4 3 4 4 5 2 4 4 3 4 ...\n",
      " $ moralFoundations08            : int  4 3 4 3 3 4 5 4 3 5 ...\n",
      " $ moralFoundations09            : int  3 3 2 4 3 3 3 1 -1 1 ...\n",
      " $ moralFoundations10            : int  0 -1 1 3 2 0 2 1 1 1 ...\n",
      " $ moralFoundations11            : int  1 3 1 0 1 -1 2 0 3 3 ...\n",
      " $ moralFoundations12            : int  6 5 4 5 4 4 5 4 3 5 ...\n",
      " $ moralFoundations13            : int  3 5 4 5 5 3 4 5 4 5 ...\n",
      " $ moralFoundations14            : int  4 2 1 1 3 3 3 1 3 2 ...\n",
      " $ moralFoundations15            : int  3 2 2 1 2 3 3 2 5 3 ...\n",
      " $ moralFoundations16            : int  3 1 1 2 -1 1 -2 2 0 1 ...\n",
      " $ moralFoundations17            : int  2 5 3 4 4 4 3 4 3 3 ...\n",
      " $ moralFoundations18            : int  2 3 3 4 5 2 4 5 4 4 ...\n",
      " $ moralFoundations19            : int  0 2 4 2 2 2 4 4 4 2 ...\n",
      " $ moralFoundations20            : int  0 1 0 4 1 3 3 3 2 2 ...\n",
      " $ moralFoundations21            : int  0 1 1 1 3 3 1 2 1 -1 ...\n",
      " $ moralFoundations22            : int  4 4 6 4 4 3 5 3 5 5 ...\n",
      " $ moralFoundations23            : int  3 3 4 2 4 0 3 4 3 3 ...\n",
      " $ moralFoundations24            : int  4 3 1 5 2 3 2 6 2 3 ...\n",
      " $ moralFoundations25            : int  0 0 1 2 0 3 1 2 2 1 ...\n",
      " $ moralFoundations26            : int  1 1 1 5 0 2 2 3 1 1 ...\n",
      " $ moralFoundations27            : int  1 1 0 1 1 1 -1 2 0 1 ...\n",
      " $ moralFoundations28            : int  0 -1 2 -1 -1 1 3 1 4 1 ...\n",
      " $ moralFoundations29            : int  1 1 3 2 4 1 4 2 2 0 ...\n",
      " $ moralFoundations30            : int  1 1 1 1 2 1 1 0 2 2 ...\n",
      " $ moralFoundations31            : int  3 2 1 5 2 2 4 3 3 2 ...\n",
      " $ moralFoundations32            : int  1 0 0 4 2 1 0 1 2 1 ...\n",
      " $ moralIdentityInternalization01: int  5 4 6 6 4 4 5 3 6 5 ...\n",
      " $ moralIdentityInternalization02: int  2 3 5 4 3 6 5 2 4 5 ...\n",
      " $ moralIdentityInternalization03: int  1 1 1 1 1 1 1 1 1 1 ...\n",
      " $ moralIdentityInternalization04: int  2 3 1 3 2 1 3 3 3 1 ...\n",
      " $ moralIdentityInternalization05: int  3 4 5 4 4 4 5 3 4 5 ...\n",
      " $ pi_age                        : int  3 20 20 19 22 25 23 41 16 17 ...\n",
      " $ pi_education                  : chr  \"Some professional diploma, no degree\" \"Master's degree\" \"High school\" \"Master's degree\" ...\n",
      " $ pi_gender                     : chr  \"Male\" \"Male\" \"Male\" \"Male\" ...\n",
      " $ pi_ideology                   : chr  \"Neither liberal or conservative\" \"Very liberal (left)\" \"Neither liberal or conservative\" \"Very liberal (left)\" ...\n",
      " $ pi_income                     : chr  \"Somewhat below the average\" \"Somewhat above the average\" \"Somewhat above the average\" \"Somewhat above the average\" ...\n",
      " $ pi_nationality                : chr  \"American\" \"USA\" \"Turkish\" \"United States of America\" ...\n",
      " $ pi_previousDonations          : chr  \"Rarely\" \"Regularly\" \"Rarely\" \"Rarely\" ...\n",
      " - attr(*, \"spec\")=List of 2\n",
      "  ..$ cols   :List of 64\n",
      "  .. ..$ attitudesAndNorms01           : list()\n",
      "  .. .. ..- attr(*, \"class\")= chr  \"collector_integer\" \"collector\"\n",
      "  .. ..$ attitudesAndNorms02           : list()\n",
      "  .. .. ..- attr(*, \"class\")= chr  \"collector_integer\" \"collector\"\n",
      "  .. ..$ attitudesAndNorms03           : list()\n",
      "  .. .. ..- attr(*, \"class\")= chr  \"collector_integer\" \"collector\"\n",
      "  .. ..$ attitudesAndNorms04           : list()\n",
      "  .. .. ..- attr(*, \"class\")= chr  \"collector_integer\" \"collector\"\n",
      "  .. ..$ attitudesAndNorms05           : list()\n",
      "  .. .. ..- attr(*, \"class\")= chr  \"collector_integer\" \"collector\"\n",
      "  .. ..$ attitudesAndNorms06           : list()\n",
      "  .. .. ..- attr(*, \"class\")= chr  \"collector_integer\" \"collector\"\n",
      "  .. ..$ attitudesAndNorms07           : list()\n",
      "  .. .. ..- attr(*, \"class\")= chr  \"collector_integer\" \"collector\"\n",
      "  .. ..$ attitudesAndNorms08           : list()\n",
      "  .. .. ..- attr(*, \"class\")= chr  \"collector_integer\" \"collector\"\n",
      "  .. ..$ callToAction                  : list()\n",
      "  .. .. ..- attr(*, \"class\")= chr  \"collector_integer\" \"collector\"\n",
      "  .. ..$ charitableBehavior01          : list()\n",
      "  .. .. ..- attr(*, \"class\")= chr  \"collector_integer\" \"collector\"\n",
      "  .. ..$ charitableBehavior02          : list()\n",
      "  .. .. ..- attr(*, \"class\")= chr  \"collector_integer\" \"collector\"\n",
      "  .. ..$ descriptiveSocialNorms01      : list()\n",
      "  .. .. ..- attr(*, \"class\")= chr  \"collector_integer\" \"collector\"\n",
      "  .. ..$ descriptiveSocialNorms02      : list()\n",
      "  .. .. ..- attr(*, \"class\")= chr  \"collector_integer\" \"collector\"\n",
      "  .. ..$ descriptiveSocialNorms03      : list()\n",
      "  .. .. ..- attr(*, \"class\")= chr  \"collector_integer\" \"collector\"\n",
      "  .. ..$ descriptiveSocialNorms04      : list()\n",
      "  .. .. ..- attr(*, \"class\")= chr  \"collector_integer\" \"collector\"\n",
      "  .. ..$ mf_AuthoritySubversion        : list()\n",
      "  .. .. ..- attr(*, \"class\")= chr  \"collector_integer\" \"collector\"\n",
      "  .. ..$ mf_CareHarm                   : list()\n",
      "  .. .. ..- attr(*, \"class\")= chr  \"collector_integer\" \"collector\"\n",
      "  .. ..$ mf_FairnessCheating           : list()\n",
      "  .. .. ..- attr(*, \"class\")= chr  \"collector_integer\" \"collector\"\n",
      "  .. ..$ mf_LoyaltyBetrayal            : list()\n",
      "  .. .. ..- attr(*, \"class\")= chr  \"collector_integer\" \"collector\"\n",
      "  .. ..$ mf_SanctityDegradation        : list()\n",
      "  .. .. ..- attr(*, \"class\")= chr  \"collector_integer\" \"collector\"\n",
      "  .. ..$ moralFoundations01            : list()\n",
      "  .. .. ..- attr(*, \"class\")= chr  \"collector_integer\" \"collector\"\n",
      "  .. ..$ moralFoundations02            : list()\n",
      "  .. .. ..- attr(*, \"class\")= chr  \"collector_integer\" \"collector\"\n",
      "  .. ..$ moralFoundations03            : list()\n",
      "  .. .. ..- attr(*, \"class\")= chr  \"collector_integer\" \"collector\"\n",
      "  .. ..$ moralFoundations04            : list()\n",
      "  .. .. ..- attr(*, \"class\")= chr  \"collector_integer\" \"collector\"\n",
      "  .. ..$ moralFoundations05            : list()\n",
      "  .. .. ..- attr(*, \"class\")= chr  \"collector_integer\" \"collector\"\n",
      "  .. ..$ moralFoundations06            : list()\n",
      "  .. .. ..- attr(*, \"class\")= chr  \"collector_integer\" \"collector\"\n",
      "  .. ..$ moralFoundations07            : list()\n",
      "  .. .. ..- attr(*, \"class\")= chr  \"collector_integer\" \"collector\"\n",
      "  .. ..$ moralFoundations08            : list()\n",
      "  .. .. ..- attr(*, \"class\")= chr  \"collector_integer\" \"collector\"\n",
      "  .. ..$ moralFoundations09            : list()\n",
      "  .. .. ..- attr(*, \"class\")= chr  \"collector_integer\" \"collector\"\n",
      "  .. ..$ moralFoundations10            : list()\n",
      "  .. .. ..- attr(*, \"class\")= chr  \"collector_integer\" \"collector\"\n",
      "  .. ..$ moralFoundations11            : list()\n",
      "  .. .. ..- attr(*, \"class\")= chr  \"collector_integer\" \"collector\"\n",
      "  .. ..$ moralFoundations12            : list()\n",
      "  .. .. ..- attr(*, \"class\")= chr  \"collector_integer\" \"collector\"\n",
      "  .. ..$ moralFoundations13            : list()\n",
      "  .. .. ..- attr(*, \"class\")= chr  \"collector_integer\" \"collector\"\n",
      "  .. ..$ moralFoundations14            : list()\n",
      "  .. .. ..- attr(*, \"class\")= chr  \"collector_integer\" \"collector\"\n",
      "  .. ..$ moralFoundations15            : list()\n",
      "  .. .. ..- attr(*, \"class\")= chr  \"collector_integer\" \"collector\"\n",
      "  .. ..$ moralFoundations16            : list()\n",
      "  .. .. ..- attr(*, \"class\")= chr  \"collector_integer\" \"collector\"\n",
      "  .. ..$ moralFoundations17            : list()\n",
      "  .. .. ..- attr(*, \"class\")= chr  \"collector_integer\" \"collector\"\n",
      "  .. ..$ moralFoundations18            : list()\n",
      "  .. .. ..- attr(*, \"class\")= chr  \"collector_integer\" \"collector\"\n",
      "  .. ..$ moralFoundations19            : list()\n",
      "  .. .. ..- attr(*, \"class\")= chr  \"collector_integer\" \"collector\"\n",
      "  .. ..$ moralFoundations20            : list()\n",
      "  .. .. ..- attr(*, \"class\")= chr  \"collector_integer\" \"collector\"\n",
      "  .. ..$ moralFoundations21            : list()\n",
      "  .. .. ..- attr(*, \"class\")= chr  \"collector_integer\" \"collector\"\n",
      "  .. ..$ moralFoundations22            : list()\n",
      "  .. .. ..- attr(*, \"class\")= chr  \"collector_integer\" \"collector\"\n",
      "  .. ..$ moralFoundations23            : list()\n",
      "  .. .. ..- attr(*, \"class\")= chr  \"collector_integer\" \"collector\"\n",
      "  .. ..$ moralFoundations24            : list()\n",
      "  .. .. ..- attr(*, \"class\")= chr  \"collector_integer\" \"collector\"\n",
      "  .. ..$ moralFoundations25            : list()\n",
      "  .. .. ..- attr(*, \"class\")= chr  \"collector_integer\" \"collector\"\n",
      "  .. ..$ moralFoundations26            : list()\n",
      "  .. .. ..- attr(*, \"class\")= chr  \"collector_integer\" \"collector\"\n",
      "  .. ..$ moralFoundations27            : list()\n",
      "  .. .. ..- attr(*, \"class\")= chr  \"collector_integer\" \"collector\"\n",
      "  .. ..$ moralFoundations28            : list()\n",
      "  .. .. ..- attr(*, \"class\")= chr  \"collector_integer\" \"collector\"\n",
      "  .. ..$ moralFoundations29            : list()\n",
      "  .. .. ..- attr(*, \"class\")= chr  \"collector_integer\" \"collector\"\n",
      "  .. ..$ moralFoundations30            : list()\n",
      "  .. .. ..- attr(*, \"class\")= chr  \"collector_integer\" \"collector\"\n",
      "  .. ..$ moralFoundations31            : list()\n",
      "  .. .. ..- attr(*, \"class\")= chr  \"collector_integer\" \"collector\"\n",
      "  .. ..$ moralFoundations32            : list()\n",
      "  .. .. ..- attr(*, \"class\")= chr  \"collector_integer\" \"collector\"\n",
      "  .. ..$ moralIdentityInternalization01: list()\n",
      "  .. .. ..- attr(*, \"class\")= chr  \"collector_integer\" \"collector\"\n",
      "  .. ..$ moralIdentityInternalization02: list()\n",
      "  .. .. ..- attr(*, \"class\")= chr  \"collector_integer\" \"collector\"\n",
      "  .. ..$ moralIdentityInternalization03: list()\n",
      "  .. .. ..- attr(*, \"class\")= chr  \"collector_integer\" \"collector\"\n",
      "  .. ..$ moralIdentityInternalization04: list()\n",
      "  .. .. ..- attr(*, \"class\")= chr  \"collector_integer\" \"collector\"\n",
      "  .. ..$ moralIdentityInternalization05: list()\n",
      "  .. .. ..- attr(*, \"class\")= chr  \"collector_integer\" \"collector\"\n",
      "  .. ..$ pi_age                        : list()\n",
      "  .. .. ..- attr(*, \"class\")= chr  \"collector_integer\" \"collector\"\n",
      "  .. ..$ pi_education                  : list()\n",
      "  .. .. ..- attr(*, \"class\")= chr  \"collector_character\" \"collector\"\n",
      "  .. ..$ pi_gender                     : list()\n",
      "  .. .. ..- attr(*, \"class\")= chr  \"collector_character\" \"collector\"\n",
      "  .. ..$ pi_ideology                   : list()\n",
      "  .. .. ..- attr(*, \"class\")= chr  \"collector_character\" \"collector\"\n",
      "  .. ..$ pi_income                     : list()\n",
      "  .. .. ..- attr(*, \"class\")= chr  \"collector_character\" \"collector\"\n",
      "  .. ..$ pi_nationality                : list()\n",
      "  .. .. ..- attr(*, \"class\")= chr  \"collector_character\" \"collector\"\n",
      "  .. ..$ pi_previousDonations          : list()\n",
      "  .. .. ..- attr(*, \"class\")= chr  \"collector_character\" \"collector\"\n",
      "  ..$ default: list()\n",
      "  .. ..- attr(*, \"class\")= chr  \"collector_guess\" \"collector\"\n",
      "  ..- attr(*, \"class\")= chr \"col_spec\"\n"
     ]
    }
   ],
   "source": [
    "str(podaci)"
   ]
  },
  {
   "cell_type": "markdown",
   "metadata": {
    "slideshow": {
     "slide_type": "subslide"
    }
   },
   "source": [
    "Obrisat ćemo specifikacije varijabli da ne zakrčuju output."
   ]
  },
  {
   "cell_type": "markdown",
   "metadata": {
    "slideshow": {
     "slide_type": "subslide"
    }
   },
   "source": [
    "`attr` nam omogućuje da pristupimo raznim **atributima** objekata u R-u. Ovdje, dakle, pristupamo atributu `spec` objekta `podaci`, te ga brišemo upisujući vrijednost `NULL`."
   ]
  },
  {
   "cell_type": "code",
   "execution_count": 5,
   "metadata": {},
   "outputs": [],
   "source": [
    "attr(podaci, 'spec') <- NULL"
   ]
  },
  {
   "cell_type": "markdown",
   "metadata": {
    "slideshow": {
     "slide_type": "slide"
    }
   },
   "source": [
    "Funkcije `head` i `tail` omogućuju nam da na brzinu vidimo (po defaultu) prvih 6 odnosno posljednjih 6 redova tablice."
   ]
  },
  {
   "cell_type": "code",
   "execution_count": 6,
   "metadata": {
    "slideshow": {
     "slide_type": "fragment"
    }
   },
   "outputs": [
    {
     "data": {
      "text/html": [
       "<table>\n",
       "<thead><tr><th scope=col>attitudesAndNorms01</th><th scope=col>attitudesAndNorms02</th><th scope=col>attitudesAndNorms03</th><th scope=col>attitudesAndNorms04</th><th scope=col>attitudesAndNorms05</th><th scope=col>attitudesAndNorms06</th><th scope=col>attitudesAndNorms07</th><th scope=col>attitudesAndNorms08</th><th scope=col>callToAction</th><th scope=col>charitableBehavior01</th><th scope=col>charitableBehavior02</th><th scope=col>descriptiveSocialNorms01</th><th scope=col>descriptiveSocialNorms02</th><th scope=col>descriptiveSocialNorms03</th><th scope=col>descriptiveSocialNorms04</th><th scope=col>mf_AuthoritySubversion</th><th scope=col>mf_CareHarm</th><th scope=col>mf_FairnessCheating</th><th scope=col>mf_LoyaltyBetrayal</th><th scope=col>mf_SanctityDegradation</th><th scope=col>moralFoundations01</th><th scope=col>moralFoundations02</th><th scope=col>moralFoundations03</th><th scope=col>moralFoundations04</th><th scope=col>moralFoundations05</th><th scope=col>moralFoundations06</th><th scope=col>moralFoundations07</th><th scope=col>moralFoundations08</th><th scope=col>moralFoundations09</th><th scope=col>moralFoundations10</th><th scope=col>moralFoundations11</th><th scope=col>moralFoundations12</th><th scope=col>moralFoundations13</th><th scope=col>moralFoundations14</th><th scope=col>moralFoundations15</th><th scope=col>moralFoundations16</th><th scope=col>moralFoundations17</th><th scope=col>moralFoundations18</th><th scope=col>moralFoundations19</th><th scope=col>moralFoundations20</th><th scope=col>moralFoundations21</th><th scope=col>moralFoundations22</th><th scope=col>moralFoundations23</th><th scope=col>moralFoundations24</th><th scope=col>moralFoundations25</th><th scope=col>moralFoundations26</th><th scope=col>moralFoundations27</th><th scope=col>moralFoundations28</th><th scope=col>moralFoundations29</th><th scope=col>moralFoundations30</th><th scope=col>moralFoundations31</th><th scope=col>moralFoundations32</th><th scope=col>moralIdentityInternalization01</th><th scope=col>moralIdentityInternalization02</th><th scope=col>moralIdentityInternalization03</th><th scope=col>moralIdentityInternalization04</th><th scope=col>moralIdentityInternalization05</th><th scope=col>pi_age</th><th scope=col>pi_education</th><th scope=col>pi_gender</th><th scope=col>pi_ideology</th><th scope=col>pi_income</th><th scope=col>pi_nationality</th><th scope=col>pi_previousDonations</th></tr></thead>\n",
       "<tbody>\n",
       "\t<tr><td>5                                   </td><td>5                                   </td><td>5                                   </td><td>5                                   </td><td>4                                   </td><td>3                                   </td><td>4                                   </td><td>6                                   </td><td>7                                   </td><td>37                                  </td><td>4                                   </td><td>4                                   </td><td>3                                   </td><td>2                                   </td><td>2                                   </td><td>1                                   </td><td>3                                   </td><td>3                                   </td><td>2                                   </td><td> 1                                  </td><td>4                                   </td><td>4                                   </td><td>3                                   </td><td>1                                   </td><td> 2                                  </td><td> 0                                  </td><td>4                                   </td><td>4                                   </td><td>3                                   </td><td> 0                                  </td><td> 1                                  </td><td>6                                   </td><td>3                                   </td><td>4                                   </td><td>3                                   </td><td> 3                                  </td><td>2                                   </td><td>2                                   </td><td>0                                   </td><td>0                                   </td><td>0                                   </td><td>4                                   </td><td>3                                   </td><td>4                                   </td><td>0                                   </td><td>1                                   </td><td>1                                   </td><td> 0                                  </td><td>1                                   </td><td>1                                   </td><td>3                                   </td><td>1                                   </td><td>5                                   </td><td>2                                   </td><td>1                                   </td><td>2                                   </td><td>3                                   </td><td> 3                                  </td><td>Some professional diploma, no degree</td><td>Male                                </td><td>Neither liberal or conservative     </td><td>Somewhat below the average          </td><td>American                            </td><td>Rarely                              </td></tr>\n",
       "\t<tr><td>5                                   </td><td>4                                   </td><td>2                                   </td><td>1                                   </td><td>2                                   </td><td>2                                   </td><td>3                                   </td><td>7                                   </td><td>6                                   </td><td>18                                  </td><td>3                                   </td><td>3                                   </td><td>1                                   </td><td>3                                   </td><td>1                                   </td><td>1                                   </td><td>3                                   </td><td>3                                   </td><td>2                                   </td><td> 1                                  </td><td>3                                   </td><td>3                                   </td><td>0                                   </td><td>0                                   </td><td> 2                                  </td><td> 0                                  </td><td>3                                   </td><td>3                                   </td><td>3                                   </td><td>-1                                  </td><td> 3                                  </td><td>5                                   </td><td>5                                   </td><td>2                                   </td><td>2                                   </td><td> 1                                  </td><td>5                                   </td><td>3                                   </td><td>2                                   </td><td>1                                   </td><td>1                                   </td><td>4                                   </td><td>3                                   </td><td>3                                   </td><td>0                                   </td><td>1                                   </td><td>1                                   </td><td>-1                                  </td><td>1                                   </td><td>1                                   </td><td>2                                   </td><td>0                                   </td><td>4                                   </td><td>3                                   </td><td>1                                   </td><td>3                                   </td><td>4                                   </td><td>20                                  </td><td>Master's degree                     </td><td>Male                                </td><td>Very liberal (left)                 </td><td>Somewhat above the average          </td><td>USA                                 </td><td>Regularly                           </td></tr>\n",
       "\t<tr><td>4                                   </td><td>6                                   </td><td>5                                   </td><td>5                                   </td><td>3                                   </td><td>2                                   </td><td>4                                   </td><td>5                                   </td><td>7                                   </td><td> 7                                  </td><td>3                                   </td><td>3                                   </td><td>3                                   </td><td>2                                   </td><td>5                                   </td><td>2                                   </td><td>3                                   </td><td>4                                   </td><td>2                                   </td><td> 1                                  </td><td>4                                   </td><td>4                                   </td><td>2                                   </td><td>2                                   </td><td> 1                                  </td><td> 0                                  </td><td>4                                   </td><td>4                                   </td><td>2                                   </td><td> 1                                  </td><td> 1                                  </td><td>4                                   </td><td>4                                   </td><td>1                                   </td><td>2                                   </td><td> 1                                  </td><td>3                                   </td><td>3                                   </td><td>4                                   </td><td>0                                   </td><td>1                                   </td><td>6                                   </td><td>4                                   </td><td>1                                   </td><td>1                                   </td><td>1                                   </td><td>0                                   </td><td> 2                                  </td><td>3                                   </td><td>1                                   </td><td>1                                   </td><td>0                                   </td><td>6                                   </td><td>5                                   </td><td>1                                   </td><td>1                                   </td><td>5                                   </td><td>20                                  </td><td>High school                         </td><td>Male                                </td><td>Neither liberal or conservative     </td><td>Somewhat above the average          </td><td>Turkish                             </td><td>Rarely                              </td></tr>\n",
       "\t<tr><td>6                                   </td><td>2                                   </td><td>3                                   </td><td>2                                   </td><td>2                                   </td><td>3                                   </td><td>5                                   </td><td>6                                   </td><td>1                                   </td><td>14                                  </td><td>5                                   </td><td>1                                   </td><td>1                                   </td><td>2                                   </td><td>3                                   </td><td>2                                   </td><td>3                                   </td><td>3                                   </td><td>3                                   </td><td> 1                                  </td><td>3                                   </td><td>3                                   </td><td>1                                   </td><td>2                                   </td><td> 3                                  </td><td> 2                                  </td><td>4                                   </td><td>3                                   </td><td>4                                   </td><td> 3                                  </td><td> 0                                  </td><td>5                                   </td><td>5                                   </td><td>1                                   </td><td>1                                   </td><td> 2                                  </td><td>4                                   </td><td>4                                   </td><td>2                                   </td><td>4                                   </td><td>1                                   </td><td>4                                   </td><td>2                                   </td><td>5                                   </td><td>2                                   </td><td>5                                   </td><td>1                                   </td><td>-1                                  </td><td>2                                   </td><td>1                                   </td><td>5                                   </td><td>4                                   </td><td>6                                   </td><td>4                                   </td><td>1                                   </td><td>3                                   </td><td>4                                   </td><td>19                                  </td><td>Master's degree                     </td><td>Male                                </td><td>Very liberal (left)                 </td><td>Somewhat above the average          </td><td>United States of America            </td><td>Rarely                              </td></tr>\n",
       "\t<tr><td>4                                   </td><td>1                                   </td><td>2                                   </td><td>3                                   </td><td>1                                   </td><td>2                                   </td><td>4                                   </td><td>5                                   </td><td>8                                   </td><td> 0                                  </td><td>0                                   </td><td>3                                   </td><td>1                                   </td><td>2                                   </td><td>4                                   </td><td>2                                   </td><td>4                                   </td><td>2                                   </td><td>2                                   </td><td> 1                                  </td><td>3                                   </td><td>1                                   </td><td>1                                   </td><td>2                                   </td><td> 3                                  </td><td>-1                                  </td><td>5                                   </td><td>3                                   </td><td>3                                   </td><td> 2                                  </td><td> 1                                  </td><td>4                                   </td><td>5                                   </td><td>3                                   </td><td>2                                   </td><td>-1                                  </td><td>4                                   </td><td>5                                   </td><td>2                                   </td><td>1                                   </td><td>3                                   </td><td>4                                   </td><td>4                                   </td><td>2                                   </td><td>0                                   </td><td>0                                   </td><td>1                                   </td><td>-1                                  </td><td>4                                   </td><td>2                                   </td><td>2                                   </td><td>2                                   </td><td>4                                   </td><td>3                                   </td><td>1                                   </td><td>2                                   </td><td>4                                   </td><td>22                                  </td><td>Master's degree                     </td><td>Female                              </td><td>Very liberal (left)                 </td><td>Somewhat above the average          </td><td>US                                  </td><td>Regularly                           </td></tr>\n",
       "\t<tr><td>4                                   </td><td>4                                   </td><td>4                                   </td><td>3                                   </td><td>4                                   </td><td>3                                   </td><td>5                                   </td><td>5                                   </td><td>7                                   </td><td>37                                  </td><td>2                                   </td><td>1                                   </td><td>1                                   </td><td>3                                   </td><td>2                                   </td><td>0                                   </td><td>3                                   </td><td>4                                   </td><td>1                                   </td><td>-1                                  </td><td>4                                   </td><td>4                                   </td><td>0                                   </td><td>0                                   </td><td>-1                                  </td><td> 1                                  </td><td>2                                   </td><td>4                                   </td><td>3                                   </td><td> 0                                  </td><td>-1                                  </td><td>4                                   </td><td>3                                   </td><td>3                                   </td><td>3                                   </td><td> 1                                  </td><td>4                                   </td><td>2                                   </td><td>2                                   </td><td>3                                   </td><td>3                                   </td><td>3                                   </td><td>0                                   </td><td>3                                   </td><td>3                                   </td><td>2                                   </td><td>1                                   </td><td> 1                                  </td><td>1                                   </td><td>1                                   </td><td>2                                   </td><td>1                                   </td><td>4                                   </td><td>6                                   </td><td>1                                   </td><td>1                                   </td><td>4                                   </td><td>25                                  </td><td>Master's degree                     </td><td>Male                                </td><td>Very liberal (left)                 </td><td>Somewhat above the average          </td><td>USA                                 </td><td>Regularly                           </td></tr>\n",
       "</tbody>\n",
       "</table>\n"
      ],
      "text/latex": [
       "\\begin{tabular}{r|llllllllllllllllllllllllllllllllllllllllllllllllllllllllllllllll}\n",
       " attitudesAndNorms01 & attitudesAndNorms02 & attitudesAndNorms03 & attitudesAndNorms04 & attitudesAndNorms05 & attitudesAndNorms06 & attitudesAndNorms07 & attitudesAndNorms08 & callToAction & charitableBehavior01 & charitableBehavior02 & descriptiveSocialNorms01 & descriptiveSocialNorms02 & descriptiveSocialNorms03 & descriptiveSocialNorms04 & mf\\_AuthoritySubversion & mf\\_CareHarm & mf\\_FairnessCheating & mf\\_LoyaltyBetrayal & mf\\_SanctityDegradation & moralFoundations01 & moralFoundations02 & moralFoundations03 & moralFoundations04 & moralFoundations05 & moralFoundations06 & moralFoundations07 & moralFoundations08 & moralFoundations09 & moralFoundations10 & moralFoundations11 & moralFoundations12 & moralFoundations13 & moralFoundations14 & moralFoundations15 & moralFoundations16 & moralFoundations17 & moralFoundations18 & moralFoundations19 & moralFoundations20 & moralFoundations21 & moralFoundations22 & moralFoundations23 & moralFoundations24 & moralFoundations25 & moralFoundations26 & moralFoundations27 & moralFoundations28 & moralFoundations29 & moralFoundations30 & moralFoundations31 & moralFoundations32 & moralIdentityInternalization01 & moralIdentityInternalization02 & moralIdentityInternalization03 & moralIdentityInternalization04 & moralIdentityInternalization05 & pi\\_age & pi\\_education & pi\\_gender & pi\\_ideology & pi\\_income & pi\\_nationality & pi\\_previousDonations\\\\\n",
       "\\hline\n",
       "\t 5                                    & 5                                    & 5                                    & 5                                    & 4                                    & 3                                    & 4                                    & 6                                    & 7                                    & 37                                   & 4                                    & 4                                    & 3                                    & 2                                    & 2                                    & 1                                    & 3                                    & 3                                    & 2                                    &  1                                   & 4                                    & 4                                    & 3                                    & 1                                    &  2                                   &  0                                   & 4                                    & 4                                    & 3                                    &  0                                   &  1                                   & 6                                    & 3                                    & 4                                    & 3                                    &  3                                   & 2                                    & 2                                    & 0                                    & 0                                    & 0                                    & 4                                    & 3                                    & 4                                    & 0                                    & 1                                    & 1                                    &  0                                   & 1                                    & 1                                    & 3                                    & 1                                    & 5                                    & 2                                    & 1                                    & 2                                    & 3                                    &  3                                   & Some professional diploma, no degree & Male                                 & Neither liberal or conservative      & Somewhat below the average           & American                             & Rarely                              \\\\\n",
       "\t 5                                    & 4                                    & 2                                    & 1                                    & 2                                    & 2                                    & 3                                    & 7                                    & 6                                    & 18                                   & 3                                    & 3                                    & 1                                    & 3                                    & 1                                    & 1                                    & 3                                    & 3                                    & 2                                    &  1                                   & 3                                    & 3                                    & 0                                    & 0                                    &  2                                   &  0                                   & 3                                    & 3                                    & 3                                    & -1                                   &  3                                   & 5                                    & 5                                    & 2                                    & 2                                    &  1                                   & 5                                    & 3                                    & 2                                    & 1                                    & 1                                    & 4                                    & 3                                    & 3                                    & 0                                    & 1                                    & 1                                    & -1                                   & 1                                    & 1                                    & 2                                    & 0                                    & 4                                    & 3                                    & 1                                    & 3                                    & 4                                    & 20                                   & Master's degree                      & Male                                 & Very liberal (left)                  & Somewhat above the average           & USA                                  & Regularly                           \\\\\n",
       "\t 4                                    & 6                                    & 5                                    & 5                                    & 3                                    & 2                                    & 4                                    & 5                                    & 7                                    &  7                                   & 3                                    & 3                                    & 3                                    & 2                                    & 5                                    & 2                                    & 3                                    & 4                                    & 2                                    &  1                                   & 4                                    & 4                                    & 2                                    & 2                                    &  1                                   &  0                                   & 4                                    & 4                                    & 2                                    &  1                                   &  1                                   & 4                                    & 4                                    & 1                                    & 2                                    &  1                                   & 3                                    & 3                                    & 4                                    & 0                                    & 1                                    & 6                                    & 4                                    & 1                                    & 1                                    & 1                                    & 0                                    &  2                                   & 3                                    & 1                                    & 1                                    & 0                                    & 6                                    & 5                                    & 1                                    & 1                                    & 5                                    & 20                                   & High school                          & Male                                 & Neither liberal or conservative      & Somewhat above the average           & Turkish                              & Rarely                              \\\\\n",
       "\t 6                                    & 2                                    & 3                                    & 2                                    & 2                                    & 3                                    & 5                                    & 6                                    & 1                                    & 14                                   & 5                                    & 1                                    & 1                                    & 2                                    & 3                                    & 2                                    & 3                                    & 3                                    & 3                                    &  1                                   & 3                                    & 3                                    & 1                                    & 2                                    &  3                                   &  2                                   & 4                                    & 3                                    & 4                                    &  3                                   &  0                                   & 5                                    & 5                                    & 1                                    & 1                                    &  2                                   & 4                                    & 4                                    & 2                                    & 4                                    & 1                                    & 4                                    & 2                                    & 5                                    & 2                                    & 5                                    & 1                                    & -1                                   & 2                                    & 1                                    & 5                                    & 4                                    & 6                                    & 4                                    & 1                                    & 3                                    & 4                                    & 19                                   & Master's degree                      & Male                                 & Very liberal (left)                  & Somewhat above the average           & United States of America             & Rarely                              \\\\\n",
       "\t 4                                    & 1                                    & 2                                    & 3                                    & 1                                    & 2                                    & 4                                    & 5                                    & 8                                    &  0                                   & 0                                    & 3                                    & 1                                    & 2                                    & 4                                    & 2                                    & 4                                    & 2                                    & 2                                    &  1                                   & 3                                    & 1                                    & 1                                    & 2                                    &  3                                   & -1                                   & 5                                    & 3                                    & 3                                    &  2                                   &  1                                   & 4                                    & 5                                    & 3                                    & 2                                    & -1                                   & 4                                    & 5                                    & 2                                    & 1                                    & 3                                    & 4                                    & 4                                    & 2                                    & 0                                    & 0                                    & 1                                    & -1                                   & 4                                    & 2                                    & 2                                    & 2                                    & 4                                    & 3                                    & 1                                    & 2                                    & 4                                    & 22                                   & Master's degree                      & Female                               & Very liberal (left)                  & Somewhat above the average           & US                                   & Regularly                           \\\\\n",
       "\t 4                                    & 4                                    & 4                                    & 3                                    & 4                                    & 3                                    & 5                                    & 5                                    & 7                                    & 37                                   & 2                                    & 1                                    & 1                                    & 3                                    & 2                                    & 0                                    & 3                                    & 4                                    & 1                                    & -1                                   & 4                                    & 4                                    & 0                                    & 0                                    & -1                                   &  1                                   & 2                                    & 4                                    & 3                                    &  0                                   & -1                                   & 4                                    & 3                                    & 3                                    & 3                                    &  1                                   & 4                                    & 2                                    & 2                                    & 3                                    & 3                                    & 3                                    & 0                                    & 3                                    & 3                                    & 2                                    & 1                                    &  1                                   & 1                                    & 1                                    & 2                                    & 1                                    & 4                                    & 6                                    & 1                                    & 1                                    & 4                                    & 25                                   & Master's degree                      & Male                                 & Very liberal (left)                  & Somewhat above the average           & USA                                  & Regularly                           \\\\\n",
       "\\end{tabular}\n"
      ],
      "text/markdown": [
       "\n",
       "attitudesAndNorms01 | attitudesAndNorms02 | attitudesAndNorms03 | attitudesAndNorms04 | attitudesAndNorms05 | attitudesAndNorms06 | attitudesAndNorms07 | attitudesAndNorms08 | callToAction | charitableBehavior01 | charitableBehavior02 | descriptiveSocialNorms01 | descriptiveSocialNorms02 | descriptiveSocialNorms03 | descriptiveSocialNorms04 | mf_AuthoritySubversion | mf_CareHarm | mf_FairnessCheating | mf_LoyaltyBetrayal | mf_SanctityDegradation | moralFoundations01 | moralFoundations02 | moralFoundations03 | moralFoundations04 | moralFoundations05 | moralFoundations06 | moralFoundations07 | moralFoundations08 | moralFoundations09 | moralFoundations10 | moralFoundations11 | moralFoundations12 | moralFoundations13 | moralFoundations14 | moralFoundations15 | moralFoundations16 | moralFoundations17 | moralFoundations18 | moralFoundations19 | moralFoundations20 | moralFoundations21 | moralFoundations22 | moralFoundations23 | moralFoundations24 | moralFoundations25 | moralFoundations26 | moralFoundations27 | moralFoundations28 | moralFoundations29 | moralFoundations30 | moralFoundations31 | moralFoundations32 | moralIdentityInternalization01 | moralIdentityInternalization02 | moralIdentityInternalization03 | moralIdentityInternalization04 | moralIdentityInternalization05 | pi_age | pi_education | pi_gender | pi_ideology | pi_income | pi_nationality | pi_previousDonations | \n",
       "|---|---|---|---|---|---|\n",
       "| 5                                    | 5                                    | 5                                    | 5                                    | 4                                    | 3                                    | 4                                    | 6                                    | 7                                    | 37                                   | 4                                    | 4                                    | 3                                    | 2                                    | 2                                    | 1                                    | 3                                    | 3                                    | 2                                    |  1                                   | 4                                    | 4                                    | 3                                    | 1                                    |  2                                   |  0                                   | 4                                    | 4                                    | 3                                    |  0                                   |  1                                   | 6                                    | 3                                    | 4                                    | 3                                    |  3                                   | 2                                    | 2                                    | 0                                    | 0                                    | 0                                    | 4                                    | 3                                    | 4                                    | 0                                    | 1                                    | 1                                    |  0                                   | 1                                    | 1                                    | 3                                    | 1                                    | 5                                    | 2                                    | 1                                    | 2                                    | 3                                    |  3                                   | Some professional diploma, no degree | Male                                 | Neither liberal or conservative      | Somewhat below the average           | American                             | Rarely                               | \n",
       "| 5                                    | 4                                    | 2                                    | 1                                    | 2                                    | 2                                    | 3                                    | 7                                    | 6                                    | 18                                   | 3                                    | 3                                    | 1                                    | 3                                    | 1                                    | 1                                    | 3                                    | 3                                    | 2                                    |  1                                   | 3                                    | 3                                    | 0                                    | 0                                    |  2                                   |  0                                   | 3                                    | 3                                    | 3                                    | -1                                   |  3                                   | 5                                    | 5                                    | 2                                    | 2                                    |  1                                   | 5                                    | 3                                    | 2                                    | 1                                    | 1                                    | 4                                    | 3                                    | 3                                    | 0                                    | 1                                    | 1                                    | -1                                   | 1                                    | 1                                    | 2                                    | 0                                    | 4                                    | 3                                    | 1                                    | 3                                    | 4                                    | 20                                   | Master's degree                      | Male                                 | Very liberal (left)                  | Somewhat above the average           | USA                                  | Regularly                            | \n",
       "| 4                                    | 6                                    | 5                                    | 5                                    | 3                                    | 2                                    | 4                                    | 5                                    | 7                                    |  7                                   | 3                                    | 3                                    | 3                                    | 2                                    | 5                                    | 2                                    | 3                                    | 4                                    | 2                                    |  1                                   | 4                                    | 4                                    | 2                                    | 2                                    |  1                                   |  0                                   | 4                                    | 4                                    | 2                                    |  1                                   |  1                                   | 4                                    | 4                                    | 1                                    | 2                                    |  1                                   | 3                                    | 3                                    | 4                                    | 0                                    | 1                                    | 6                                    | 4                                    | 1                                    | 1                                    | 1                                    | 0                                    |  2                                   | 3                                    | 1                                    | 1                                    | 0                                    | 6                                    | 5                                    | 1                                    | 1                                    | 5                                    | 20                                   | High school                          | Male                                 | Neither liberal or conservative      | Somewhat above the average           | Turkish                              | Rarely                               | \n",
       "| 6                                    | 2                                    | 3                                    | 2                                    | 2                                    | 3                                    | 5                                    | 6                                    | 1                                    | 14                                   | 5                                    | 1                                    | 1                                    | 2                                    | 3                                    | 2                                    | 3                                    | 3                                    | 3                                    |  1                                   | 3                                    | 3                                    | 1                                    | 2                                    |  3                                   |  2                                   | 4                                    | 3                                    | 4                                    |  3                                   |  0                                   | 5                                    | 5                                    | 1                                    | 1                                    |  2                                   | 4                                    | 4                                    | 2                                    | 4                                    | 1                                    | 4                                    | 2                                    | 5                                    | 2                                    | 5                                    | 1                                    | -1                                   | 2                                    | 1                                    | 5                                    | 4                                    | 6                                    | 4                                    | 1                                    | 3                                    | 4                                    | 19                                   | Master's degree                      | Male                                 | Very liberal (left)                  | Somewhat above the average           | United States of America             | Rarely                               | \n",
       "| 4                                    | 1                                    | 2                                    | 3                                    | 1                                    | 2                                    | 4                                    | 5                                    | 8                                    |  0                                   | 0                                    | 3                                    | 1                                    | 2                                    | 4                                    | 2                                    | 4                                    | 2                                    | 2                                    |  1                                   | 3                                    | 1                                    | 1                                    | 2                                    |  3                                   | -1                                   | 5                                    | 3                                    | 3                                    |  2                                   |  1                                   | 4                                    | 5                                    | 3                                    | 2                                    | -1                                   | 4                                    | 5                                    | 2                                    | 1                                    | 3                                    | 4                                    | 4                                    | 2                                    | 0                                    | 0                                    | 1                                    | -1                                   | 4                                    | 2                                    | 2                                    | 2                                    | 4                                    | 3                                    | 1                                    | 2                                    | 4                                    | 22                                   | Master's degree                      | Female                               | Very liberal (left)                  | Somewhat above the average           | US                                   | Regularly                            | \n",
       "| 4                                    | 4                                    | 4                                    | 3                                    | 4                                    | 3                                    | 5                                    | 5                                    | 7                                    | 37                                   | 2                                    | 1                                    | 1                                    | 3                                    | 2                                    | 0                                    | 3                                    | 4                                    | 1                                    | -1                                   | 4                                    | 4                                    | 0                                    | 0                                    | -1                                   |  1                                   | 2                                    | 4                                    | 3                                    |  0                                   | -1                                   | 4                                    | 3                                    | 3                                    | 3                                    |  1                                   | 4                                    | 2                                    | 2                                    | 3                                    | 3                                    | 3                                    | 0                                    | 3                                    | 3                                    | 2                                    | 1                                    |  1                                   | 1                                    | 1                                    | 2                                    | 1                                    | 4                                    | 6                                    | 1                                    | 1                                    | 4                                    | 25                                   | Master's degree                      | Male                                 | Very liberal (left)                  | Somewhat above the average           | USA                                  | Regularly                            | \n",
       "\n",
       "\n"
      ],
      "text/plain": [
       "  attitudesAndNorms01 attitudesAndNorms02 attitudesAndNorms03\n",
       "1 5                   5                   5                  \n",
       "2 5                   4                   2                  \n",
       "3 4                   6                   5                  \n",
       "4 6                   2                   3                  \n",
       "5 4                   1                   2                  \n",
       "6 4                   4                   4                  \n",
       "  attitudesAndNorms04 attitudesAndNorms05 attitudesAndNorms06\n",
       "1 5                   4                   3                  \n",
       "2 1                   2                   2                  \n",
       "3 5                   3                   2                  \n",
       "4 2                   2                   3                  \n",
       "5 3                   1                   2                  \n",
       "6 3                   4                   3                  \n",
       "  attitudesAndNorms07 attitudesAndNorms08 callToAction charitableBehavior01\n",
       "1 4                   6                   7            37                  \n",
       "2 3                   7                   6            18                  \n",
       "3 4                   5                   7             7                  \n",
       "4 5                   6                   1            14                  \n",
       "5 4                   5                   8             0                  \n",
       "6 5                   5                   7            37                  \n",
       "  charitableBehavior02 descriptiveSocialNorms01 descriptiveSocialNorms02\n",
       "1 4                    4                        3                       \n",
       "2 3                    3                        1                       \n",
       "3 3                    3                        3                       \n",
       "4 5                    1                        1                       \n",
       "5 0                    3                        1                       \n",
       "6 2                    1                        1                       \n",
       "  descriptiveSocialNorms03 descriptiveSocialNorms04 mf_AuthoritySubversion\n",
       "1 2                        2                        1                     \n",
       "2 3                        1                        1                     \n",
       "3 2                        5                        2                     \n",
       "4 2                        3                        2                     \n",
       "5 2                        4                        2                     \n",
       "6 3                        2                        0                     \n",
       "  mf_CareHarm mf_FairnessCheating mf_LoyaltyBetrayal mf_SanctityDegradation\n",
       "1 3           3                   2                   1                    \n",
       "2 3           3                   2                   1                    \n",
       "3 3           4                   2                   1                    \n",
       "4 3           3                   3                   1                    \n",
       "5 4           2                   2                   1                    \n",
       "6 3           4                   1                  -1                    \n",
       "  moralFoundations01 moralFoundations02 moralFoundations03 moralFoundations04\n",
       "1 4                  4                  3                  1                 \n",
       "2 3                  3                  0                  0                 \n",
       "3 4                  4                  2                  2                 \n",
       "4 3                  3                  1                  2                 \n",
       "5 3                  1                  1                  2                 \n",
       "6 4                  4                  0                  0                 \n",
       "  moralFoundations05 moralFoundations06 moralFoundations07 moralFoundations08\n",
       "1  2                  0                 4                  4                 \n",
       "2  2                  0                 3                  3                 \n",
       "3  1                  0                 4                  4                 \n",
       "4  3                  2                 4                  3                 \n",
       "5  3                 -1                 5                  3                 \n",
       "6 -1                  1                 2                  4                 \n",
       "  moralFoundations09 moralFoundations10 moralFoundations11 moralFoundations12\n",
       "1 3                   0                  1                 6                 \n",
       "2 3                  -1                  3                 5                 \n",
       "3 2                   1                  1                 4                 \n",
       "4 4                   3                  0                 5                 \n",
       "5 3                   2                  1                 4                 \n",
       "6 3                   0                 -1                 4                 \n",
       "  moralFoundations13 moralFoundations14 moralFoundations15 moralFoundations16\n",
       "1 3                  4                  3                   3                \n",
       "2 5                  2                  2                   1                \n",
       "3 4                  1                  2                   1                \n",
       "4 5                  1                  1                   2                \n",
       "5 5                  3                  2                  -1                \n",
       "6 3                  3                  3                   1                \n",
       "  moralFoundations17 moralFoundations18 moralFoundations19 moralFoundations20\n",
       "1 2                  2                  0                  0                 \n",
       "2 5                  3                  2                  1                 \n",
       "3 3                  3                  4                  0                 \n",
       "4 4                  4                  2                  4                 \n",
       "5 4                  5                  2                  1                 \n",
       "6 4                  2                  2                  3                 \n",
       "  moralFoundations21 moralFoundations22 moralFoundations23 moralFoundations24\n",
       "1 0                  4                  3                  4                 \n",
       "2 1                  4                  3                  3                 \n",
       "3 1                  6                  4                  1                 \n",
       "4 1                  4                  2                  5                 \n",
       "5 3                  4                  4                  2                 \n",
       "6 3                  3                  0                  3                 \n",
       "  moralFoundations25 moralFoundations26 moralFoundations27 moralFoundations28\n",
       "1 0                  1                  1                   0                \n",
       "2 0                  1                  1                  -1                \n",
       "3 1                  1                  0                   2                \n",
       "4 2                  5                  1                  -1                \n",
       "5 0                  0                  1                  -1                \n",
       "6 3                  2                  1                   1                \n",
       "  moralFoundations29 moralFoundations30 moralFoundations31 moralFoundations32\n",
       "1 1                  1                  3                  1                 \n",
       "2 1                  1                  2                  0                 \n",
       "3 3                  1                  1                  0                 \n",
       "4 2                  1                  5                  4                 \n",
       "5 4                  2                  2                  2                 \n",
       "6 1                  1                  2                  1                 \n",
       "  moralIdentityInternalization01 moralIdentityInternalization02\n",
       "1 5                              2                             \n",
       "2 4                              3                             \n",
       "3 6                              5                             \n",
       "4 6                              4                             \n",
       "5 4                              3                             \n",
       "6 4                              6                             \n",
       "  moralIdentityInternalization03 moralIdentityInternalization04\n",
       "1 1                              2                             \n",
       "2 1                              3                             \n",
       "3 1                              1                             \n",
       "4 1                              3                             \n",
       "5 1                              2                             \n",
       "6 1                              1                             \n",
       "  moralIdentityInternalization05 pi_age pi_education                        \n",
       "1 3                               3     Some professional diploma, no degree\n",
       "2 4                              20     Master's degree                     \n",
       "3 5                              20     High school                         \n",
       "4 4                              19     Master's degree                     \n",
       "5 4                              22     Master's degree                     \n",
       "6 4                              25     Master's degree                     \n",
       "  pi_gender pi_ideology                     pi_income                 \n",
       "1 Male      Neither liberal or conservative Somewhat below the average\n",
       "2 Male      Very liberal (left)             Somewhat above the average\n",
       "3 Male      Neither liberal or conservative Somewhat above the average\n",
       "4 Male      Very liberal (left)             Somewhat above the average\n",
       "5 Female    Very liberal (left)             Somewhat above the average\n",
       "6 Male      Very liberal (left)             Somewhat above the average\n",
       "  pi_nationality           pi_previousDonations\n",
       "1 American                 Rarely              \n",
       "2 USA                      Regularly           \n",
       "3 Turkish                  Rarely              \n",
       "4 United States of America Rarely              \n",
       "5 US                       Regularly           \n",
       "6 USA                      Regularly           "
      ]
     },
     "metadata": {},
     "output_type": "display_data"
    }
   ],
   "source": [
    "head(podaci)"
   ]
  },
  {
   "cell_type": "code",
   "execution_count": 7,
   "metadata": {
    "slideshow": {
     "slide_type": "fragment"
    }
   },
   "outputs": [
    {
     "data": {
      "text/html": [
       "<table>\n",
       "<thead><tr><th scope=col>attitudesAndNorms01</th><th scope=col>attitudesAndNorms02</th><th scope=col>attitudesAndNorms03</th><th scope=col>attitudesAndNorms04</th><th scope=col>attitudesAndNorms05</th><th scope=col>attitudesAndNorms06</th><th scope=col>attitudesAndNorms07</th><th scope=col>attitudesAndNorms08</th><th scope=col>callToAction</th><th scope=col>charitableBehavior01</th><th scope=col>charitableBehavior02</th><th scope=col>descriptiveSocialNorms01</th><th scope=col>descriptiveSocialNorms02</th><th scope=col>descriptiveSocialNorms03</th><th scope=col>descriptiveSocialNorms04</th><th scope=col>mf_AuthoritySubversion</th><th scope=col>mf_CareHarm</th><th scope=col>mf_FairnessCheating</th><th scope=col>mf_LoyaltyBetrayal</th><th scope=col>mf_SanctityDegradation</th><th scope=col>moralFoundations01</th><th scope=col>moralFoundations02</th><th scope=col>moralFoundations03</th><th scope=col>moralFoundations04</th><th scope=col>moralFoundations05</th><th scope=col>moralFoundations06</th><th scope=col>moralFoundations07</th><th scope=col>moralFoundations08</th><th scope=col>moralFoundations09</th><th scope=col>moralFoundations10</th><th scope=col>moralFoundations11</th><th scope=col>moralFoundations12</th><th scope=col>moralFoundations13</th><th scope=col>moralFoundations14</th><th scope=col>moralFoundations15</th><th scope=col>moralFoundations16</th><th scope=col>moralFoundations17</th><th scope=col>moralFoundations18</th><th scope=col>moralFoundations19</th><th scope=col>moralFoundations20</th><th scope=col>moralFoundations21</th><th scope=col>moralFoundations22</th><th scope=col>moralFoundations23</th><th scope=col>moralFoundations24</th><th scope=col>moralFoundations25</th><th scope=col>moralFoundations26</th><th scope=col>moralFoundations27</th><th scope=col>moralFoundations28</th><th scope=col>moralFoundations29</th><th scope=col>moralFoundations30</th><th scope=col>moralFoundations31</th><th scope=col>moralFoundations32</th><th scope=col>moralIdentityInternalization01</th><th scope=col>moralIdentityInternalization02</th><th scope=col>moralIdentityInternalization03</th><th scope=col>moralIdentityInternalization04</th><th scope=col>moralIdentityInternalization05</th><th scope=col>pi_age</th><th scope=col>pi_education</th><th scope=col>pi_gender</th><th scope=col>pi_ideology</th><th scope=col>pi_income</th><th scope=col>pi_nationality</th><th scope=col>pi_previousDonations</th></tr></thead>\n",
       "<tbody>\n",
       "\t<tr><td>5                            </td><td>5                            </td><td>2                            </td><td> 3                           </td><td>4                            </td><td>2                            </td><td>5                            </td><td>6                            </td><td> 6                           </td><td>16                           </td><td>2                            </td><td>5                            </td><td>4                            </td><td>2                            </td><td>6                            </td><td>3                            </td><td>5                            </td><td>5                            </td><td>1                            </td><td>2                            </td><td>5                            </td><td>6                            </td><td>0                            </td><td>2                            </td><td>3                            </td><td>-1                           </td><td>5                            </td><td>7                            </td><td>3                            </td><td>2                            </td><td>5                            </td><td>5                            </td><td>6                            </td><td>2                            </td><td>4                            </td><td>3                            </td><td>6                            </td><td>4                            </td><td>3                            </td><td>3                            </td><td> 2                           </td><td>5                            </td><td>5                            </td><td>4                            </td><td>2                            </td><td>4                            </td><td> 2                           </td><td>4                            </td><td>2                            </td><td>3                            </td><td>1                            </td><td> 3                           </td><td>5                            </td><td>6                            </td><td>1                            </td><td>1                            </td><td>4                            </td><td>24                           </td><td>The baccalaureate            </td><td>Male                         </td><td>Very liberal (left)          </td><td>Somewhat above the average   </td><td>USA                          </td><td>Often                        </td></tr>\n",
       "\t<tr><td>4                            </td><td>5                            </td><td>3                            </td><td> 2                           </td><td>4                            </td><td>4                            </td><td>4                            </td><td>5                            </td><td>10                           </td><td>39                           </td><td>1                            </td><td>6                            </td><td>5                            </td><td>3                            </td><td>3                            </td><td>2                            </td><td>3                            </td><td>3                            </td><td>2                            </td><td>3                            </td><td>2                            </td><td>2                            </td><td>0                            </td><td>1                            </td><td>5                            </td><td>-2                           </td><td>4                            </td><td>3                            </td><td>1                            </td><td>0                            </td><td>3                            </td><td>5                            </td><td>5                            </td><td>4                            </td><td>3                            </td><td>2                            </td><td>2                            </td><td>4                            </td><td>1                            </td><td>3                            </td><td> 2                           </td><td>6                            </td><td>4                            </td><td>4                            </td><td>0                            </td><td>2                            </td><td> 0                           </td><td>4                            </td><td>1                            </td><td>2                            </td><td>2                            </td><td> 0                           </td><td>5                            </td><td>4                            </td><td>1                            </td><td>2                            </td><td>3                            </td><td>-2                           </td><td>High school                  </td><td>Male                         </td><td>Extremely liberal (left)     </td><td>Somewhat below the average   </td><td>united states of america     </td><td>Rarely                       </td></tr>\n",
       "\t<tr><td>7                            </td><td>2                            </td><td>1                            </td><td>-1                           </td><td>0                            </td><td>0                            </td><td>8                            </td><td>9                            </td><td> 4                           </td><td>58                           </td><td>4                            </td><td>7                            </td><td>5                            </td><td>5                            </td><td>4                            </td><td>1                            </td><td>6                            </td><td>5                            </td><td>0                            </td><td>1                            </td><td>7                            </td><td>5                            </td><td>1                            </td><td>2                            </td><td>3                            </td><td> 0                           </td><td>5                            </td><td>5                            </td><td>3                            </td><td>1                            </td><td>5                            </td><td>6                            </td><td>5                            </td><td>0                            </td><td>2                            </td><td>0                            </td><td>5                            </td><td>3                            </td><td>3                            </td><td>0                            </td><td>-2                           </td><td>4                            </td><td>4                            </td><td>4                            </td><td>2                            </td><td>0                            </td><td>-2                           </td><td>1                            </td><td>1                            </td><td>0                            </td><td>2                            </td><td>-1                           </td><td>5                            </td><td>6                            </td><td>1                            </td><td>1                            </td><td>5                            </td><td>32                           </td><td>The baccalaureate            </td><td>Female                       </td><td>Somewhat conservative (right)</td><td>Somewhat above the average   </td><td>USA                          </td><td>Rarely                       </td></tr>\n",
       "</tbody>\n",
       "</table>\n"
      ],
      "text/latex": [
       "\\begin{tabular}{r|llllllllllllllllllllllllllllllllllllllllllllllllllllllllllllllll}\n",
       " attitudesAndNorms01 & attitudesAndNorms02 & attitudesAndNorms03 & attitudesAndNorms04 & attitudesAndNorms05 & attitudesAndNorms06 & attitudesAndNorms07 & attitudesAndNorms08 & callToAction & charitableBehavior01 & charitableBehavior02 & descriptiveSocialNorms01 & descriptiveSocialNorms02 & descriptiveSocialNorms03 & descriptiveSocialNorms04 & mf\\_AuthoritySubversion & mf\\_CareHarm & mf\\_FairnessCheating & mf\\_LoyaltyBetrayal & mf\\_SanctityDegradation & moralFoundations01 & moralFoundations02 & moralFoundations03 & moralFoundations04 & moralFoundations05 & moralFoundations06 & moralFoundations07 & moralFoundations08 & moralFoundations09 & moralFoundations10 & moralFoundations11 & moralFoundations12 & moralFoundations13 & moralFoundations14 & moralFoundations15 & moralFoundations16 & moralFoundations17 & moralFoundations18 & moralFoundations19 & moralFoundations20 & moralFoundations21 & moralFoundations22 & moralFoundations23 & moralFoundations24 & moralFoundations25 & moralFoundations26 & moralFoundations27 & moralFoundations28 & moralFoundations29 & moralFoundations30 & moralFoundations31 & moralFoundations32 & moralIdentityInternalization01 & moralIdentityInternalization02 & moralIdentityInternalization03 & moralIdentityInternalization04 & moralIdentityInternalization05 & pi\\_age & pi\\_education & pi\\_gender & pi\\_ideology & pi\\_income & pi\\_nationality & pi\\_previousDonations\\\\\n",
       "\\hline\n",
       "\t 5                             & 5                             & 2                             &  3                            & 4                             & 2                             & 5                             & 6                             &  6                            & 16                            & 2                             & 5                             & 4                             & 2                             & 6                             & 3                             & 5                             & 5                             & 1                             & 2                             & 5                             & 6                             & 0                             & 2                             & 3                             & -1                            & 5                             & 7                             & 3                             & 2                             & 5                             & 5                             & 6                             & 2                             & 4                             & 3                             & 6                             & 4                             & 3                             & 3                             &  2                            & 5                             & 5                             & 4                             & 2                             & 4                             &  2                            & 4                             & 2                             & 3                             & 1                             &  3                            & 5                             & 6                             & 1                             & 1                             & 4                             & 24                            & The baccalaureate             & Male                          & Very liberal (left)           & Somewhat above the average    & USA                           & Often                        \\\\\n",
       "\t 4                             & 5                             & 3                             &  2                            & 4                             & 4                             & 4                             & 5                             & 10                            & 39                            & 1                             & 6                             & 5                             & 3                             & 3                             & 2                             & 3                             & 3                             & 2                             & 3                             & 2                             & 2                             & 0                             & 1                             & 5                             & -2                            & 4                             & 3                             & 1                             & 0                             & 3                             & 5                             & 5                             & 4                             & 3                             & 2                             & 2                             & 4                             & 1                             & 3                             &  2                            & 6                             & 4                             & 4                             & 0                             & 2                             &  0                            & 4                             & 1                             & 2                             & 2                             &  0                            & 5                             & 4                             & 1                             & 2                             & 3                             & -2                            & High school                   & Male                          & Extremely liberal (left)      & Somewhat below the average    & united states of america      & Rarely                       \\\\\n",
       "\t 7                             & 2                             & 1                             & -1                            & 0                             & 0                             & 8                             & 9                             &  4                            & 58                            & 4                             & 7                             & 5                             & 5                             & 4                             & 1                             & 6                             & 5                             & 0                             & 1                             & 7                             & 5                             & 1                             & 2                             & 3                             &  0                            & 5                             & 5                             & 3                             & 1                             & 5                             & 6                             & 5                             & 0                             & 2                             & 0                             & 5                             & 3                             & 3                             & 0                             & -2                            & 4                             & 4                             & 4                             & 2                             & 0                             & -2                            & 1                             & 1                             & 0                             & 2                             & -1                            & 5                             & 6                             & 1                             & 1                             & 5                             & 32                            & The baccalaureate             & Female                        & Somewhat conservative (right) & Somewhat above the average    & USA                           & Rarely                       \\\\\n",
       "\\end{tabular}\n"
      ],
      "text/markdown": [
       "\n",
       "attitudesAndNorms01 | attitudesAndNorms02 | attitudesAndNorms03 | attitudesAndNorms04 | attitudesAndNorms05 | attitudesAndNorms06 | attitudesAndNorms07 | attitudesAndNorms08 | callToAction | charitableBehavior01 | charitableBehavior02 | descriptiveSocialNorms01 | descriptiveSocialNorms02 | descriptiveSocialNorms03 | descriptiveSocialNorms04 | mf_AuthoritySubversion | mf_CareHarm | mf_FairnessCheating | mf_LoyaltyBetrayal | mf_SanctityDegradation | moralFoundations01 | moralFoundations02 | moralFoundations03 | moralFoundations04 | moralFoundations05 | moralFoundations06 | moralFoundations07 | moralFoundations08 | moralFoundations09 | moralFoundations10 | moralFoundations11 | moralFoundations12 | moralFoundations13 | moralFoundations14 | moralFoundations15 | moralFoundations16 | moralFoundations17 | moralFoundations18 | moralFoundations19 | moralFoundations20 | moralFoundations21 | moralFoundations22 | moralFoundations23 | moralFoundations24 | moralFoundations25 | moralFoundations26 | moralFoundations27 | moralFoundations28 | moralFoundations29 | moralFoundations30 | moralFoundations31 | moralFoundations32 | moralIdentityInternalization01 | moralIdentityInternalization02 | moralIdentityInternalization03 | moralIdentityInternalization04 | moralIdentityInternalization05 | pi_age | pi_education | pi_gender | pi_ideology | pi_income | pi_nationality | pi_previousDonations | \n",
       "|---|---|---|\n",
       "| 5                             | 5                             | 2                             |  3                            | 4                             | 2                             | 5                             | 6                             |  6                            | 16                            | 2                             | 5                             | 4                             | 2                             | 6                             | 3                             | 5                             | 5                             | 1                             | 2                             | 5                             | 6                             | 0                             | 2                             | 3                             | -1                            | 5                             | 7                             | 3                             | 2                             | 5                             | 5                             | 6                             | 2                             | 4                             | 3                             | 6                             | 4                             | 3                             | 3                             |  2                            | 5                             | 5                             | 4                             | 2                             | 4                             |  2                            | 4                             | 2                             | 3                             | 1                             |  3                            | 5                             | 6                             | 1                             | 1                             | 4                             | 24                            | The baccalaureate             | Male                          | Very liberal (left)           | Somewhat above the average    | USA                           | Often                         | \n",
       "| 4                             | 5                             | 3                             |  2                            | 4                             | 4                             | 4                             | 5                             | 10                            | 39                            | 1                             | 6                             | 5                             | 3                             | 3                             | 2                             | 3                             | 3                             | 2                             | 3                             | 2                             | 2                             | 0                             | 1                             | 5                             | -2                            | 4                             | 3                             | 1                             | 0                             | 3                             | 5                             | 5                             | 4                             | 3                             | 2                             | 2                             | 4                             | 1                             | 3                             |  2                            | 6                             | 4                             | 4                             | 0                             | 2                             |  0                            | 4                             | 1                             | 2                             | 2                             |  0                            | 5                             | 4                             | 1                             | 2                             | 3                             | -2                            | High school                   | Male                          | Extremely liberal (left)      | Somewhat below the average    | united states of america      | Rarely                        | \n",
       "| 7                             | 2                             | 1                             | -1                            | 0                             | 0                             | 8                             | 9                             |  4                            | 58                            | 4                             | 7                             | 5                             | 5                             | 4                             | 1                             | 6                             | 5                             | 0                             | 1                             | 7                             | 5                             | 1                             | 2                             | 3                             |  0                            | 5                             | 5                             | 3                             | 1                             | 5                             | 6                             | 5                             | 0                             | 2                             | 0                             | 5                             | 3                             | 3                             | 0                             | -2                            | 4                             | 4                             | 4                             | 2                             | 0                             | -2                            | 1                             | 1                             | 0                             | 2                             | -1                            | 5                             | 6                             | 1                             | 1                             | 5                             | 32                            | The baccalaureate             | Female                        | Somewhat conservative (right) | Somewhat above the average    | USA                           | Rarely                        | \n",
       "\n",
       "\n"
      ],
      "text/plain": [
       "  attitudesAndNorms01 attitudesAndNorms02 attitudesAndNorms03\n",
       "1 5                   5                   2                  \n",
       "2 4                   5                   3                  \n",
       "3 7                   2                   1                  \n",
       "  attitudesAndNorms04 attitudesAndNorms05 attitudesAndNorms06\n",
       "1  3                  4                   2                  \n",
       "2  2                  4                   4                  \n",
       "3 -1                  0                   0                  \n",
       "  attitudesAndNorms07 attitudesAndNorms08 callToAction charitableBehavior01\n",
       "1 5                   6                    6           16                  \n",
       "2 4                   5                   10           39                  \n",
       "3 8                   9                    4           58                  \n",
       "  charitableBehavior02 descriptiveSocialNorms01 descriptiveSocialNorms02\n",
       "1 2                    5                        4                       \n",
       "2 1                    6                        5                       \n",
       "3 4                    7                        5                       \n",
       "  descriptiveSocialNorms03 descriptiveSocialNorms04 mf_AuthoritySubversion\n",
       "1 2                        6                        3                     \n",
       "2 3                        3                        2                     \n",
       "3 5                        4                        1                     \n",
       "  mf_CareHarm mf_FairnessCheating mf_LoyaltyBetrayal mf_SanctityDegradation\n",
       "1 5           5                   1                  2                     \n",
       "2 3           3                   2                  3                     \n",
       "3 6           5                   0                  1                     \n",
       "  moralFoundations01 moralFoundations02 moralFoundations03 moralFoundations04\n",
       "1 5                  6                  0                  2                 \n",
       "2 2                  2                  0                  1                 \n",
       "3 7                  5                  1                  2                 \n",
       "  moralFoundations05 moralFoundations06 moralFoundations07 moralFoundations08\n",
       "1 3                  -1                 5                  7                 \n",
       "2 5                  -2                 4                  3                 \n",
       "3 3                   0                 5                  5                 \n",
       "  moralFoundations09 moralFoundations10 moralFoundations11 moralFoundations12\n",
       "1 3                  2                  5                  5                 \n",
       "2 1                  0                  3                  5                 \n",
       "3 3                  1                  5                  6                 \n",
       "  moralFoundations13 moralFoundations14 moralFoundations15 moralFoundations16\n",
       "1 6                  2                  4                  3                 \n",
       "2 5                  4                  3                  2                 \n",
       "3 5                  0                  2                  0                 \n",
       "  moralFoundations17 moralFoundations18 moralFoundations19 moralFoundations20\n",
       "1 6                  4                  3                  3                 \n",
       "2 2                  4                  1                  3                 \n",
       "3 5                  3                  3                  0                 \n",
       "  moralFoundations21 moralFoundations22 moralFoundations23 moralFoundations24\n",
       "1  2                 5                  5                  4                 \n",
       "2  2                 6                  4                  4                 \n",
       "3 -2                 4                  4                  4                 \n",
       "  moralFoundations25 moralFoundations26 moralFoundations27 moralFoundations28\n",
       "1 2                  4                   2                 4                 \n",
       "2 0                  2                   0                 4                 \n",
       "3 2                  0                  -2                 1                 \n",
       "  moralFoundations29 moralFoundations30 moralFoundations31 moralFoundations32\n",
       "1 2                  3                  1                   3                \n",
       "2 1                  2                  2                   0                \n",
       "3 1                  0                  2                  -1                \n",
       "  moralIdentityInternalization01 moralIdentityInternalization02\n",
       "1 5                              6                             \n",
       "2 5                              4                             \n",
       "3 5                              6                             \n",
       "  moralIdentityInternalization03 moralIdentityInternalization04\n",
       "1 1                              1                             \n",
       "2 1                              2                             \n",
       "3 1                              1                             \n",
       "  moralIdentityInternalization05 pi_age pi_education      pi_gender\n",
       "1 4                              24     The baccalaureate Male     \n",
       "2 3                              -2     High school       Male     \n",
       "3 5                              32     The baccalaureate Female   \n",
       "  pi_ideology                   pi_income                 \n",
       "1 Very liberal (left)           Somewhat above the average\n",
       "2 Extremely liberal (left)      Somewhat below the average\n",
       "3 Somewhat conservative (right) Somewhat above the average\n",
       "  pi_nationality           pi_previousDonations\n",
       "1 USA                      Often               \n",
       "2 united states of america Rarely              \n",
       "3 USA                      Rarely              "
      ]
     },
     "metadata": {},
     "output_type": "display_data"
    }
   ],
   "source": [
    "tail(podaci, 3)"
   ]
  },
  {
   "cell_type": "markdown",
   "metadata": {
    "slideshow": {
     "slide_type": "skip"
    }
   },
   "source": [
    "Ove funkcije pomažu nam pri pregledavanju strukture podataka i njihovih sirovih vrijednosti."
   ]
  },
  {
   "cell_type": "markdown",
   "metadata": {
    "slideshow": {
     "slide_type": "slide"
    }
   },
   "source": [
    "Osnovnu deskriptivnu statistiku možemo dobiti pomoću generičke funkcije `summary`. Generičke funkcije primaju objekte različitih tipova, a njihov output ovisi o tipu objekta. Primjerice, ako u `summary` stavimo `data.frame`, dobit ćemo grubu deskriptivnu statistiku njegovih stupaca. Ako u funkciju stavimo regresijski model, dobit ćemo informacije o modelu."
   ]
  },
  {
   "cell_type": "markdown",
   "metadata": {
    "slideshow": {
     "slide_type": "subslide"
    }
   },
   "source": [
    "Idemo vidjeti output tih dviju funkcija kad u nju stavimo neke numeričke i neke kategorijalne stupce iz našeg `data.framea` `podaci`."
   ]
  },
  {
   "cell_type": "code",
   "execution_count": null,
   "metadata": {
    "slideshow": {
     "slide_type": "fragment"
    }
   },
   "outputs": [],
   "source": [
    "summary(podaci[, wrapr::qc(attitudesAndNorms01, pi_education, pi_gender)])"
   ]
  },
  {
   "cell_type": "markdown",
   "metadata": {
    "slideshow": {
     "slide_type": "subslide"
    }
   },
   "source": [
    "Vidimo tri stvari: (1) `summary` nije pretjerano koristan za varijable koje su tipa `character` i (2-3) pojavili su se nova sintaksa i nova funkcija."
   ]
  },
  {
   "cell_type": "markdown",
   "metadata": {
    "slideshow": {
     "slide_type": "subslide"
    }
   },
   "source": [
    "`qc` je funkcija iz paketa `wrapr` koja nas oslobađa pisanja navodnika pri korištenju funkcije `c`. `qc` je, dakle, *quoted combine*."
   ]
  },
  {
   "cell_type": "markdown",
   "metadata": {
    "slideshow": {
     "slide_type": "fragment"
    }
   },
   "source": [
    "Korištenjem `::` sintakse označili smo da je funkcija `qc` iz paketa `wrapr`. Pri pozivanju funkcija iz paketa **nije nužno** pisati `::`; to smo vidjeli kod pozivanja funkcije `read_csv` iz paketa `readr`."
   ]
  },
  {
   "cell_type": "markdown",
   "metadata": {
    "slideshow": {
     "slide_type": "subslide"
    }
   },
   "source": [
    "Ipak, važno je znati tu sintaksu iz dva razloga."
   ]
  },
  {
   "cell_type": "markdown",
   "metadata": {
    "slideshow": {
     "slide_type": "fragment"
    }
   },
   "source": [
    "Prvo, korištenjem `::` možemo pozvati funkciju iz paketa koji prethodno nismo učitali."
   ]
  },
  {
   "cell_type": "markdown",
   "metadata": {
    "slideshow": {
     "slide_type": "fragment"
    }
   },
   "source": [
    "Drugo, u slučaju da dva paketa imaju funkcije koje se jednako zovu, `::` nam omogućava da specificiramo koju funkciju želimo pozvati. Budući da smo učitali paket `conflicted`, R će nas upozoriti ako dođe do konflikta te nas tražiti da specificiramo koju funkciju hoćemo pozvati, koristeći `::`."
   ]
  },
  {
   "cell_type": "markdown",
   "metadata": {
    "slideshow": {
     "slide_type": "subslide"
    }
   },
   "source": [
    "Iskoristit ćemo trenutak i upoznati se s još jednom zgodnom funkcijom za dobivanje deskriptivnih podataka: `skim`. Radi preglednosti, probrat ćemo par varijabli različitih tipova."
   ]
  },
  {
   "cell_type": "markdown",
   "metadata": {
    "slideshow": {
     "slide_type": "skip"
    }
   },
   "source": [
    "Nastavit ću koristiti `::` notaciju tako da bude jasno iz kojeg paketa dolazi koja funkcija (osim ako je spomenuto u tekstu ili ako je funkcija iz base R-a)."
   ]
  },
  {
   "cell_type": "code",
   "execution_count": 8,
   "metadata": {
    "slideshow": {
     "slide_type": "fragment"
    }
   },
   "outputs": [
    {
     "name": "stdout",
     "output_type": "stream",
     "text": [
      "Skim summary statistics\n",
      " n obs: 100 \n",
      " n variables: 6 \n",
      "\n",
      "── Variable type:character ─────────────────────────────────────────────────────\n",
      "     variable missing complete   n min max empty n_unique\n",
      " pi_education       0      100 100  11  36     0        6\n",
      "    pi_income       0      100 100  17  26     0        5\n",
      "\n",
      "── Variable type:integer ───────────────────────────────────────────────────────\n",
      "            variable missing complete   n mean   sd p0 p25 p50 p75 p100\n",
      " attitudesAndNorms01       0      100 100 5.04 1.43  2   4   5   6    8\n",
      " attitudesAndNorms02       0      100 100 3.22 2.03 -2   2   3   5    7\n",
      " attitudesAndNorms03       0      100 100 3.06 1.88 -2   2   3   4    8\n",
      "         mf_CareHarm       0      100 100 3.56 0.83  2   3   3   4    6\n",
      "     hist\n",
      " ▁▃▅▇▁▇▃▁\n",
      " ▂▂▃▇▇▇▆▆\n",
      " ▁▁▁▇▂▂▁▁\n",
      " ▁▇▁▆▁▂▁▁\n"
     ]
    }
   ],
   "source": [
    "print(skimr::skim(podaci[, qc(pi_education, attitudesAndNorms01,\n",
    "                              attitudesAndNorms02, attitudesAndNorms03,\n",
    "                              mf_CareHarm, pi_income)]))"
   ]
  },
  {
   "cell_type": "markdown",
   "metadata": {
    "slideshow": {
     "slide_type": "skip"
    }
   },
   "source": [
    "Ovdje smo iskoristili `::` notaciju da bismo pozvali funkciju iz paketa koji ranije nije učitan."
   ]
  },
  {
   "cell_type": "markdown",
   "metadata": {
    "slideshow": {
     "slide_type": "fragment"
    }
   },
   "source": [
    "Dobro je znati i za funkciju `describe` iz paketa `psych`, koja daje nešto detaljniju deskriptivnu statistiku numeričkih varijabli."
   ]
  },
  {
   "cell_type": "code",
   "execution_count": 9,
   "metadata": {
    "slideshow": {
     "slide_type": "fragment"
    }
   },
   "outputs": [
    {
     "name": "stderr",
     "output_type": "stream",
     "text": [
      "Warning message in psych::describe(.):\n",
      "“NAs introduced by coercion”Warning message in psych::describe(.):\n",
      "“NAs introduced by coercion”Warning message in FUN(newX[, i], ...):\n",
      "“no non-missing arguments to min; returning Inf”Warning message in FUN(newX[, i], ...):\n",
      "“no non-missing arguments to min; returning Inf”Warning message in FUN(newX[, i], ...):\n",
      "“no non-missing arguments to max; returning -Inf”Warning message in FUN(newX[, i], ...):\n",
      "“no non-missing arguments to max; returning -Inf”"
     ]
    },
    {
     "data": {
      "text/html": [
       "<table>\n",
       "<thead><tr><th></th><th scope=col>vars</th><th scope=col>n</th><th scope=col>mean</th><th scope=col>sd</th><th scope=col>median</th><th scope=col>trimmed</th><th scope=col>mad</th><th scope=col>min</th><th scope=col>max</th><th scope=col>range</th><th scope=col>skew</th><th scope=col>kurtosis</th><th scope=col>se</th></tr></thead>\n",
       "<tbody>\n",
       "\t<tr><th scope=row>attitudesAndNorms01</th><td>1          </td><td>100        </td><td>5.04       </td><td>1.4278613  </td><td> 5         </td><td>5.0625     </td><td>1.4826     </td><td>  2        </td><td>   8       </td><td>   6       </td><td>-0.19314719</td><td>-0.5916736 </td><td>0.14278613 </td></tr>\n",
       "\t<tr><th scope=row>attitudesAndNorms02</th><td>2          </td><td>100        </td><td>3.22       </td><td>2.0279860  </td><td> 3         </td><td>3.2750     </td><td>1.4826     </td><td> -2        </td><td>   7       </td><td>   9       </td><td>-0.16760327</td><td>-0.4693100 </td><td>0.20279860 </td></tr>\n",
       "\t<tr><th scope=row>attitudesAndNorms03</th><td>3          </td><td>100        </td><td>3.06       </td><td>1.8846536  </td><td> 3         </td><td>3.0500     </td><td>1.4826     </td><td> -2        </td><td>   8       </td><td>  10       </td><td> 0.02193442</td><td> 0.1236832 </td><td>0.18846536 </td></tr>\n",
       "\t<tr><th scope=row>mf_CareHarm</th><td>4          </td><td>100        </td><td>3.56       </td><td>0.8326664  </td><td> 3         </td><td>3.5000     </td><td>1.4826     </td><td>  2        </td><td>   6       </td><td>   4       </td><td> 0.53910222</td><td> 0.2305580 </td><td>0.08326664 </td></tr>\n",
       "\t<tr><th scope=row>pi_income*</th><td>5          </td><td>100        </td><td> NaN       </td><td>       NA  </td><td>NA         </td><td>   NaN     </td><td>    NA     </td><td>Inf        </td><td>-Inf       </td><td>-Inf       </td><td>         NA</td><td>        NA </td><td>        NA </td></tr>\n",
       "\t<tr><th scope=row>pi_education*</th><td>6          </td><td>100        </td><td> NaN       </td><td>       NA  </td><td>NA         </td><td>   NaN     </td><td>    NA     </td><td>Inf        </td><td>-Inf       </td><td>-Inf       </td><td>         NA</td><td>        NA </td><td>        NA </td></tr>\n",
       "</tbody>\n",
       "</table>\n"
      ],
      "text/latex": [
       "\\begin{tabular}{r|lllllllllllll}\n",
       "  & vars & n & mean & sd & median & trimmed & mad & min & max & range & skew & kurtosis & se\\\\\n",
       "\\hline\n",
       "\tattitudesAndNorms01 & 1           & 100         & 5.04        & 1.4278613   &  5          & 5.0625      & 1.4826      &   2         &    8        &    6        & -0.19314719 & -0.5916736  & 0.14278613 \\\\\n",
       "\tattitudesAndNorms02 & 2           & 100         & 3.22        & 2.0279860   &  3          & 3.2750      & 1.4826      &  -2         &    7        &    9        & -0.16760327 & -0.4693100  & 0.20279860 \\\\\n",
       "\tattitudesAndNorms03 & 3           & 100         & 3.06        & 1.8846536   &  3          & 3.0500      & 1.4826      &  -2         &    8        &   10        &  0.02193442 &  0.1236832  & 0.18846536 \\\\\n",
       "\tmf\\_CareHarm & 4           & 100         & 3.56        & 0.8326664   &  3          & 3.5000      & 1.4826      &   2         &    6        &    4        &  0.53910222 &  0.2305580  & 0.08326664 \\\\\n",
       "\tpi\\_income* & 5           & 100         &  NaN        &        NA   & NA          &    NaN      &     NA      & Inf         & -Inf        & -Inf        &          NA &         NA  &         NA \\\\\n",
       "\tpi\\_education* & 6           & 100         &  NaN        &        NA   & NA          &    NaN      &     NA      & Inf         & -Inf        & -Inf        &          NA &         NA  &         NA \\\\\n",
       "\\end{tabular}\n"
      ],
      "text/markdown": [
       "\n",
       "| <!--/--> | vars | n | mean | sd | median | trimmed | mad | min | max | range | skew | kurtosis | se | \n",
       "|---|---|---|---|---|---|\n",
       "| attitudesAndNorms01 | 1           | 100         | 5.04        | 1.4278613   |  5          | 5.0625      | 1.4826      |   2         |    8        |    6        | -0.19314719 | -0.5916736  | 0.14278613  | \n",
       "| attitudesAndNorms02 | 2           | 100         | 3.22        | 2.0279860   |  3          | 3.2750      | 1.4826      |  -2         |    7        |    9        | -0.16760327 | -0.4693100  | 0.20279860  | \n",
       "| attitudesAndNorms03 | 3           | 100         | 3.06        | 1.8846536   |  3          | 3.0500      | 1.4826      |  -2         |    8        |   10        |  0.02193442 |  0.1236832  | 0.18846536  | \n",
       "| mf_CareHarm | 4           | 100         | 3.56        | 0.8326664   |  3          | 3.5000      | 1.4826      |   2         |    6        |    4        |  0.53910222 |  0.2305580  | 0.08326664  | \n",
       "| pi_income* | 5           | 100         |  NaN        |        NA   | NA          |    NaN      |     NA      | Inf         | -Inf        | -Inf        |          NA |         NA  |         NA  | \n",
       "| pi_education* | 6           | 100         |  NaN        |        NA   | NA          |    NaN      |     NA      | Inf         | -Inf        | -Inf        |          NA |         NA  |         NA  | \n",
       "\n",
       "\n"
      ],
      "text/plain": [
       "                    vars n   mean sd        median trimmed mad    min max \n",
       "attitudesAndNorms01 1    100 5.04 1.4278613  5     5.0625  1.4826   2    8\n",
       "attitudesAndNorms02 2    100 3.22 2.0279860  3     3.2750  1.4826  -2    7\n",
       "attitudesAndNorms03 3    100 3.06 1.8846536  3     3.0500  1.4826  -2    8\n",
       "mf_CareHarm         4    100 3.56 0.8326664  3     3.5000  1.4826   2    6\n",
       "pi_income*          5    100  NaN        NA NA        NaN      NA Inf -Inf\n",
       "pi_education*       6    100  NaN        NA NA        NaN      NA Inf -Inf\n",
       "                    range skew        kurtosis   se        \n",
       "attitudesAndNorms01    6  -0.19314719 -0.5916736 0.14278613\n",
       "attitudesAndNorms02    9  -0.16760327 -0.4693100 0.20279860\n",
       "attitudesAndNorms03   10   0.02193442  0.1236832 0.18846536\n",
       "mf_CareHarm            4   0.53910222  0.2305580 0.08326664\n",
       "pi_income*          -Inf           NA         NA         NA\n",
       "pi_education*       -Inf           NA         NA         NA"
      ]
     },
     "metadata": {},
     "output_type": "display_data"
    }
   ],
   "source": [
    "podaci %>%\n",
    "dplyr::select(., attitudesAndNorms01:attitudesAndNorms03,\n",
    "              mf_CareHarm, pi_income, pi_education) %>%\n",
    "psych::describe(.)"
   ]
  },
  {
   "cell_type": "markdown",
   "metadata": {
    "slideshow": {
     "slide_type": "fragment"
    }
   },
   "source": [
    "I dalje nije korisno za `character` varijable, ali omogućava digresiju u svijet pipa."
   ]
  },
  {
   "cell_type": "markdown",
   "metadata": {
    "slideshow": {
     "slide_type": "slide"
    }
   },
   "source": [
    "## Pipe"
   ]
  },
  {
   "cell_type": "markdown",
   "metadata": {
    "slideshow": {
     "slide_type": "subslide"
    }
   },
   "source": [
    "Pipe su posebni operatori iz `magrittr` paketa. One omogućavaju kraće i, često, razumljivije pisanje koda.\n",
    "\n",
    "Pipa uzima output izraza sa svoje lijeve strane i daje ga kao argument funkciji na svojoj desnoj strani."
   ]
  },
  {
   "cell_type": "markdown",
   "metadata": {
    "slideshow": {
     "slide_type": "subslide"
    }
   },
   "source": [
    "Osnovna pipa je `%>%`. Ona se nalazi i u paketu `dplyr` (koji se učitava kad učitamo `tidyverse`) i u paketu `magrittr`. Posebno smo učitali `magrittr` jer s njim dolaze i neke pipe kojih nema u `dplyru`."
   ]
  },
  {
   "cell_type": "markdown",
   "metadata": {
    "slideshow": {
     "slide_type": "skip"
    }
   },
   "source": [
    "Sad ćemo proći kroz pipe koje `magrittr` nudi."
   ]
  },
  {
   "cell_type": "markdown",
   "metadata": {
    "slideshow": {
     "slide_type": "slide"
    }
   },
   "source": [
    "### %>%"
   ]
  },
  {
   "cell_type": "markdown",
   "metadata": {
    "slideshow": {
     "slide_type": "skip"
    }
   },
   "source": [
    "Kao što je rečeno, ovo je osnovna pipa."
   ]
  },
  {
   "cell_type": "markdown",
   "metadata": {
    "slideshow": {
     "slide_type": "subslide"
    }
   },
   "source": [
    "Ona uzima output izraza s lijeve strane i koristi ga kao input za izraz s desne strane.\n",
    "\n",
    "Dakle:"
   ]
  },
  {
   "cell_type": "code",
   "execution_count": 10,
   "metadata": {
    "slideshow": {
     "slide_type": "fragment"
    }
   },
   "outputs": [
    {
     "data": {
      "text/html": [
       "2"
      ],
      "text/latex": [
       "2"
      ],
      "text/markdown": [
       "2"
      ],
      "text/plain": [
       "[1] 2"
      ]
     },
     "metadata": {},
     "output_type": "display_data"
    },
    {
     "data": {
      "text/html": [
       "2"
      ],
      "text/latex": [
       "2"
      ],
      "text/markdown": [
       "2"
      ],
      "text/plain": [
       "[1] 2"
      ]
     },
     "metadata": {},
     "output_type": "display_data"
    },
    {
     "data": {
      "text/html": [
       "2"
      ],
      "text/latex": [
       "2"
      ],
      "text/markdown": [
       "2"
      ],
      "text/plain": [
       "[1] 2"
      ]
     },
     "metadata": {},
     "output_type": "display_data"
    },
    {
     "data": {
      "text/html": [
       "2"
      ],
      "text/latex": [
       "2"
      ],
      "text/markdown": [
       "2"
      ],
      "text/plain": [
       "[1] 2"
      ]
     },
     "metadata": {},
     "output_type": "display_data"
    }
   ],
   "source": [
    "(2 + 2) %>% sqrt(.)\n",
    "\n",
    "(2 + 2) %>% sqrt()\n",
    "\n",
    "(2 + 2) %>% sqrt\n",
    "\n",
    "sqrt(2 + 2)"
   ]
  },
  {
   "cell_type": "markdown",
   "metadata": {
    "slideshow": {
     "slide_type": "skip"
    }
   },
   "source": [
    "Trenutačno ne izgleda kao neka ušteda, što je u redu. Kasnije ćemo vidjeti primjere u kojima su pipe dosta zgodnije."
   ]
  },
  {
   "cell_type": "markdown",
   "metadata": {
    "slideshow": {
     "slide_type": "fragment"
    }
   },
   "source": [
    "Kod korištenja pipa, `.` označava output iz funkcije s lijeve strane. Po defaultu, ako `.` nije eksplicitno navedena, pipa će točku staviti na mjesto prvog argumenta. Takav default uglavnom jako dobro funkcionira s funkcijama iz `tidyversea` jer one imaju dosta uniformnu sintaksu, koja je prilagođena za pipe."
   ]
  },
  {
   "cell_type": "markdown",
   "metadata": {
    "slideshow": {
     "slide_type": "subslide"
    }
   },
   "source": [
    "Ipak, nekad takvo ponašanje nije poželjno. Pokušajmo grafirati dva brojčana vektora - jedan od njih ćemo spremiti u varijablu, a drugi ćemo direktno dati pipi."
   ]
  },
  {
   "cell_type": "code",
   "execution_count": 11,
   "metadata": {
    "slideshow": {
     "slide_type": "fragment"
    }
   },
   "outputs": [
    {
     "data": {
      "image/png": "[encoded data removed]",
      "text/plain": [
       "plot without title"
      ]
     },
     "metadata": {},
     "output_type": "display_data"
    }
   ],
   "source": [
    "# ova vrijednost treba ići na x os\n",
    "x <- 1:10\n",
    "\n",
    "# vektor koji ćemo sad stvoriti treba ići na y os\n",
    "# ovaj kod jednak je ovom -> 11:20 %>% plot(., x)\n",
    "# plot je također generička funkcija\n",
    "11:20 %>% plot(x)"
   ]
  },
  {
   "cell_type": "markdown",
   "metadata": {
    "slideshow": {
     "slide_type": "subslide"
    }
   },
   "source": [
    "Da bismo izbjegli takvo ponašanje, možemo eksplicitno napisati točku, ili izraz opkoliti vitičastim zagradama."
   ]
  },
  {
   "cell_type": "code",
   "execution_count": 12,
   "metadata": {
    "slideshow": {
     "slide_type": "fragment"
    }
   },
   "outputs": [
    {
     "data": {
      "image/png": "[encoded data removed]",
      "text/plain": [
       "plot without title"
      ]
     },
     "metadata": {},
     "output_type": "display_data"
    }
   ],
   "source": [
    "11:20 %>% plot(x, .)"
   ]
  },
  {
   "cell_type": "markdown",
   "metadata": {
    "slideshow": {
     "slide_type": "subslide"
    }
   },
   "source": [
    "Sad ćemo `x` staviti u `data.frame` i pridružiti mu `y`."
   ]
  },
  {
   "cell_type": "code",
   "execution_count": 13,
   "metadata": {
    "slideshow": {
     "slide_type": "-"
    }
   },
   "outputs": [
    {
     "name": "stdout",
     "output_type": "stream",
     "text": [
      "'data.frame':\t10 obs. of  2 variables:\n",
      " $ x: int  1 2 3 4 5 6 7 8 9 10\n",
      " $ y: int  11 12 13 14 15 16 17 18 19 20\n"
     ]
    }
   ],
   "source": [
    "za_graf <- data.frame(x = 1:10, y = 11:20)\n",
    "\n",
    "str(za_graf)"
   ]
  },
  {
   "cell_type": "markdown",
   "metadata": {
    "slideshow": {
     "slide_type": "subslide"
    }
   },
   "source": [
    "Ponovno ćemo pokušati plotati vrijednosti tako što `za_graf` stavimo u pipu."
   ]
  },
  {
   "cell_type": "code",
   "execution_count": 14,
   "metadata": {
    "slideshow": {
     "slide_type": "-"
    }
   },
   "outputs": [
    {
     "data": {
      "image/png": "[encoded data removed]",
      "text/plain": [
       "plot without title"
      ]
     },
     "metadata": {},
     "output_type": "display_data"
    }
   ],
   "source": [
    "za_graf %>% plot(.)"
   ]
  },
  {
   "cell_type": "markdown",
   "metadata": {
    "slideshow": {
     "slide_type": "subslide"
    }
   },
   "source": [
    "Da bismo zamijenili osi, možemo učiniti sljedeće:"
   ]
  },
  {
   "cell_type": "code",
   "execution_count": 15,
   "metadata": {
    "slideshow": {
     "slide_type": "fragment"
    }
   },
   "outputs": [
    {
     "data": {
      "image/png": "[encoded data removed]",
      "text/plain": [
       "plot without title"
      ]
     },
     "metadata": {},
     "output_type": "display_data"
    }
   ],
   "source": [
    "za_graf %>% plot(.$y, .$x)"
   ]
  },
  {
   "cell_type": "markdown",
   "metadata": {
    "slideshow": {
     "slide_type": "subslide"
    }
   },
   "source": [
    "To jest, ne možemo jer se gornji kod interpretira kao\n",
    "```\n",
    "za_graf %>% plot(., .$y, .$x)```"
   ]
  },
  {
   "cell_type": "markdown",
   "metadata": {
    "slideshow": {
     "slide_type": "fragment"
    }
   },
   "source": [
    "Dakle, ponovno možemo izraz s desne strane opkoliti vitičastim zagradama."
   ]
  },
  {
   "cell_type": "code",
   "execution_count": 16,
   "metadata": {
    "slideshow": {
     "slide_type": "fragment"
    }
   },
   "outputs": [
    {
     "data": {
      "image/png": "[encoded data removed]",
      "text/plain": [
       "plot without title"
      ]
     },
     "metadata": {},
     "output_type": "display_data"
    }
   ],
   "source": [
    "za_graf %>% {plot(.$y, .$x)}"
   ]
  },
  {
   "cell_type": "markdown",
   "metadata": {
    "slideshow": {
     "slide_type": "subslide"
    }
   },
   "source": [
    "Da se smanje takve konfuzije, neki preporučuju da se `.` uvijek piše, tako da je to praksa koju ćemo ovdje usvojiti.\n",
    "\n",
    "No, osim zatvaranja izraza s desne strane u zagrade, možemo iskoristiti jednu drugu pipu."
   ]
  },
  {
   "cell_type": "markdown",
   "metadata": {
    "slideshow": {
     "slide_type": "slide"
    }
   },
   "source": [
    "### %$%"
   ]
  },
  {
   "cell_type": "markdown",
   "metadata": {
    "slideshow": {
     "slide_type": "subslide"
    }
   },
   "source": [
    "`%$%` je *variable exposition* pipa. Ona nam daje direktan pristup varijablama koje se nalaze u objektu kojim baratamo.\n",
    "\n",
    "Gornji problem mogli bismo riješiti i ovako:"
   ]
  },
  {
   "cell_type": "code",
   "execution_count": 17,
   "metadata": {
    "slideshow": {
     "slide_type": "fragment"
    }
   },
   "outputs": [
    {
     "data": {
      "image/png": "[encoded data removed]",
      "text/plain": [
       "plot without title"
      ]
     },
     "metadata": {},
     "output_type": "display_data"
    }
   ],
   "source": [
    "za_graf %$% plot(y, x)"
   ]
  },
  {
   "cell_type": "markdown",
   "metadata": {
    "slideshow": {
     "slide_type": "subslide"
    }
   },
   "source": [
    "Možemo kombinirati različite pipe. Na primjer:"
   ]
  },
  {
   "cell_type": "code",
   "execution_count": 18,
   "metadata": {
    "slideshow": {
     "slide_type": "-"
    }
   },
   "outputs": [
    {
     "data": {
      "image/png": "[encoded data removed]",
      "text/plain": [
       "plot without title"
      ]
     },
     "metadata": {},
     "output_type": "display_data"
    }
   ],
   "source": [
    "1:10 %>% data.frame(a = ., b = 11:20) %$% plot(b, a)"
   ]
  },
  {
   "cell_type": "markdown",
   "metadata": {
    "slideshow": {
     "slide_type": "subslide"
    }
   },
   "source": [
    "U gornjem primjeru bi nam možda bilo zgodno da možemo pogledati strukturu `data.framea` nakon što ga stvorimo ili napraviti još neke operacije nakon što plotamo varijable.\n",
    "\n",
    "Imamo pipu i za to."
   ]
  },
  {
   "cell_type": "markdown",
   "metadata": {
    "slideshow": {
     "slide_type": "slide"
    }
   },
   "source": [
    "### %T>%"
   ]
  },
  {
   "cell_type": "markdown",
   "metadata": {
    "slideshow": {
     "slide_type": "subslide"
    }
   },
   "source": [
    "T-pipa (izvorno *tee*) vraća izraz s lijeve strane umjesto izraza s desne strane. Zbog toga, možemo učiniti sljedeće:"
   ]
  },
  {
   "cell_type": "code",
   "execution_count": 19,
   "metadata": {
    "slideshow": {
     "slide_type": "fragment"
    }
   },
   "outputs": [
    {
     "name": "stdout",
     "output_type": "stream",
     "text": [
      "'data.frame':\t10 obs. of  2 variables:\n",
      " $ a: int  1 2 3 4 5 6 7 8 9 10\n",
      " $ b: int  11 12 13 14 15 16 17 18 19 20\n"
     ]
    },
    {
     "data": {
      "image/png": "[encoded data removed]",
      "text/plain": [
       "plot without title"
      ]
     },
     "metadata": {},
     "output_type": "display_data"
    }
   ],
   "source": [
    "1:10 %>% data.frame(a = ., b = 11:20) %T>% str(.) %$% plot(b, a)"
   ]
  },
  {
   "cell_type": "code",
   "execution_count": 20,
   "metadata": {
    "slideshow": {
     "slide_type": "fragment"
    }
   },
   "outputs": [
    {
     "data": {
      "text/html": [
       "210"
      ],
      "text/latex": [
       "210"
      ],
      "text/markdown": [
       "210"
      ],
      "text/plain": [
       "[1] 210"
      ]
     },
     "metadata": {},
     "output_type": "display_data"
    },
    {
     "data": {
      "image/png": "[encoded data removed]",
      "text/plain": [
       "plot without title"
      ]
     },
     "metadata": {},
     "output_type": "display_data"
    }
   ],
   "source": [
    "1:10 %>% data.frame(a = ., b = 11:20) %T>%\n",
    "{plot(.$b, .$a)} %$%\n",
    "sum(a,b)"
   ]
  },
  {
   "cell_type": "markdown",
   "metadata": {
    "slideshow": {
     "slide_type": "subslide"
    }
   },
   "source": [
    "Preostaje nam još jedna pipa..."
   ]
  },
  {
   "cell_type": "markdown",
   "metadata": {
    "slideshow": {
     "slide_type": "slide"
    }
   },
   "source": [
    "### %<>%"
   ]
  },
  {
   "cell_type": "markdown",
   "metadata": {
    "slideshow": {
     "slide_type": "subslide"
    }
   },
   "source": [
    "`%<>%` je *assignment* pipa. Ona istovremeno daje vrijednost s lijeve strane za argument i piše u nju. To nam omogućuje da neku varijablu provučemo kroz seriju transformacijskih koraka i da te transformacije odmah pohranimo."
   ]
  },
  {
   "cell_type": "code",
   "execution_count": 21,
   "metadata": {
    "slideshow": {
     "slide_type": "subslide"
    }
   },
   "outputs": [
    {
     "name": "stdout",
     "output_type": "stream",
     "text": [
      "'data.frame':\t10 obs. of  2 variables:\n",
      " $ x: int  1 2 3 4 5 6 7 8 9 10\n",
      " $ y: int  11 12 13 14 15 16 17 18 19 20\n",
      "'data.frame':\t10 obs. of  2 variables:\n",
      " $ x: num  2.45 2.83 3.16 3.46 3.74 ...\n",
      " $ y: int  11 12 13 14 15 16 17 18 19 20\n"
     ]
    }
   ],
   "source": [
    "str(za_graf)\n",
    "\n",
    "za_graf$x %<>% magrittr::add(., 2) %>%\n",
    "magrittr::multiply_by(., 2) %>% sqrt(.)\n",
    "\n",
    "str(za_graf)"
   ]
  },
  {
   "cell_type": "markdown",
   "metadata": {
    "slideshow": {
     "slide_type": "subslide"
    }
   },
   "source": [
    "Ovime završavamo upoznavanje s pipama. Nakratko se vraćamo natrag na primjer s funkcijom `describe`, nakon čega ponovno odlazimo u uzbudljivu digresiju."
   ]
  },
  {
   "cell_type": "markdown",
   "metadata": {
    "slideshow": {
     "slide_type": "slide"
    }
   },
   "source": [
    "## dplyr::select i dplyr::filter"
   ]
  },
  {
   "cell_type": "markdown",
   "metadata": {
    "slideshow": {
     "slide_type": "subslide"
    }
   },
   "source": [
    "Već smo ranije vidjeli funkciju `select`, koja nam je omogućila da izaberemo 3 od 64 stupca iz `data.framea` `podaci`. Za odabiranje pojedinih **redova** koji zadovoljavaju određeni logički izraz možemo koristiti funkciju `filter`.\n",
    "\n",
    "Sad ćemo prikazati deskriptivnu statistiku za pitanja koja tvore jednu od skala koja se nalazi u našim podacima - skalu internalizacije moralnog identiteta - samo na poduzorku žena."
   ]
  },
  {
   "cell_type": "markdown",
   "metadata": {
    "slideshow": {
     "slide_type": "subslide"
    }
   },
   "source": [
    "Sve varijable koje se odnose na tu skalu imaju ime oblika `moralIdentityInternalization<broj-pitanja>`. Zbog tog sustavnog imenovanja, ne moramo ispisivati imena (ili redne brojeve) svih varijabli koje želimo zahvatiti funkcijom `describe`, nego možemo pozvati funkciju `contains` unutar funkcije `select`."
   ]
  },
  {
   "cell_type": "markdown",
   "metadata": {},
   "source": [
    "`contains` na omogućuje da odaberemo samo one varijable koje sadrže zadani string."
   ]
  },
  {
   "cell_type": "code",
   "execution_count": 26,
   "metadata": {
    "slideshow": {
     "slide_type": "subslide"
    }
   },
   "outputs": [
    {
     "name": "stdout",
     "output_type": "stream",
     "text": [
      "Classes ‘tbl_df’, ‘tbl’ and 'data.frame':\t45 obs. of  5 variables:\n",
      " $ moralIdentityInternalization01: int  4 5 5 4 4 5 4 6 6 5 ...\n",
      " $ moralIdentityInternalization02: int  3 5 5 3 3 3 3 5 6 3 ...\n",
      " $ moralIdentityInternalization03: int  1 1 1 1 1 1 1 1 1 1 ...\n",
      " $ moralIdentityInternalization04: int  2 3 1 2 4 2 2 1 1 2 ...\n",
      " $ moralIdentityInternalization05: int  4 5 5 4 2 4 4 6 6 5 ...\n"
     ]
    },
    {
     "data": {
      "text/html": [
       "<table>\n",
       "<thead><tr><th></th><th scope=col>vars</th><th scope=col>n</th><th scope=col>mean</th><th scope=col>sd</th><th scope=col>median</th><th scope=col>trimmed</th><th scope=col>mad</th><th scope=col>min</th><th scope=col>max</th><th scope=col>range</th><th scope=col>skew</th><th scope=col>kurtosis</th><th scope=col>se</th></tr></thead>\n",
       "<tbody>\n",
       "\t<tr><th scope=row>moralIdentityInternalization01</th><td>1          </td><td>45         </td><td>4.711111   </td><td>0.6613424  </td><td>5          </td><td>4.675676   </td><td>0.0000     </td><td>3          </td><td>6          </td><td>3          </td><td>-0.09499871</td><td>-0.2560002 </td><td>0.0985871  </td></tr>\n",
       "\t<tr><th scope=row>moralIdentityInternalization02</th><td>2          </td><td>45         </td><td>4.177778   </td><td>1.0288760  </td><td>4          </td><td>4.081081   </td><td>1.4826     </td><td>3          </td><td>7          </td><td>4          </td><td> 0.63057485</td><td>-0.2803328 </td><td>0.1533758  </td></tr>\n",
       "\t<tr><th scope=row>moralIdentityInternalization03</th><td>3          </td><td>45         </td><td>1.000000   </td><td>0.0000000  </td><td>1          </td><td>1.000000   </td><td>0.0000     </td><td>1          </td><td>1          </td><td>0          </td><td>        NaN</td><td>       NaN </td><td>0.0000000  </td></tr>\n",
       "\t<tr><th scope=row>moralIdentityInternalization04</th><td>4          </td><td>45         </td><td>1.488889   </td><td>0.8692270  </td><td>1          </td><td>1.459459   </td><td>1.4826     </td><td>0          </td><td>4          </td><td>4          </td><td> 0.33779878</td><td> 0.2010560 </td><td>0.1295767  </td></tr>\n",
       "\t<tr><th scope=row>moralIdentityInternalization05</th><td>5          </td><td>45         </td><td>4.488889   </td><td>0.9200351  </td><td>4          </td><td>4.513514   </td><td>1.4826     </td><td>2          </td><td>6          </td><td>4          </td><td>-0.22495256</td><td>-0.1641706 </td><td>0.1371507  </td></tr>\n",
       "</tbody>\n",
       "</table>\n"
      ],
      "text/latex": [
       "\\begin{tabular}{r|lllllllllllll}\n",
       "  & vars & n & mean & sd & median & trimmed & mad & min & max & range & skew & kurtosis & se\\\\\n",
       "\\hline\n",
       "\tmoralIdentityInternalization01 & 1           & 45          & 4.711111    & 0.6613424   & 5           & 4.675676    & 0.0000      & 3           & 6           & 3           & -0.09499871 & -0.2560002  & 0.0985871  \\\\\n",
       "\tmoralIdentityInternalization02 & 2           & 45          & 4.177778    & 1.0288760   & 4           & 4.081081    & 1.4826      & 3           & 7           & 4           &  0.63057485 & -0.2803328  & 0.1533758  \\\\\n",
       "\tmoralIdentityInternalization03 & 3           & 45          & 1.000000    & 0.0000000   & 1           & 1.000000    & 0.0000      & 1           & 1           & 0           &         NaN &        NaN  & 0.0000000  \\\\\n",
       "\tmoralIdentityInternalization04 & 4           & 45          & 1.488889    & 0.8692270   & 1           & 1.459459    & 1.4826      & 0           & 4           & 4           &  0.33779878 &  0.2010560  & 0.1295767  \\\\\n",
       "\tmoralIdentityInternalization05 & 5           & 45          & 4.488889    & 0.9200351   & 4           & 4.513514    & 1.4826      & 2           & 6           & 4           & -0.22495256 & -0.1641706  & 0.1371507  \\\\\n",
       "\\end{tabular}\n"
      ],
      "text/markdown": [
       "\n",
       "| <!--/--> | vars | n | mean | sd | median | trimmed | mad | min | max | range | skew | kurtosis | se | \n",
       "|---|---|---|---|---|\n",
       "| moralIdentityInternalization01 | 1           | 45          | 4.711111    | 0.6613424   | 5           | 4.675676    | 0.0000      | 3           | 6           | 3           | -0.09499871 | -0.2560002  | 0.0985871   | \n",
       "| moralIdentityInternalization02 | 2           | 45          | 4.177778    | 1.0288760   | 4           | 4.081081    | 1.4826      | 3           | 7           | 4           |  0.63057485 | -0.2803328  | 0.1533758   | \n",
       "| moralIdentityInternalization03 | 3           | 45          | 1.000000    | 0.0000000   | 1           | 1.000000    | 0.0000      | 1           | 1           | 0           |         NaN |        NaN  | 0.0000000   | \n",
       "| moralIdentityInternalization04 | 4           | 45          | 1.488889    | 0.8692270   | 1           | 1.459459    | 1.4826      | 0           | 4           | 4           |  0.33779878 |  0.2010560  | 0.1295767   | \n",
       "| moralIdentityInternalization05 | 5           | 45          | 4.488889    | 0.9200351   | 4           | 4.513514    | 1.4826      | 2           | 6           | 4           | -0.22495256 | -0.1641706  | 0.1371507   | \n",
       "\n",
       "\n"
      ],
      "text/plain": [
       "                               vars n  mean     sd        median trimmed \n",
       "moralIdentityInternalization01 1    45 4.711111 0.6613424 5      4.675676\n",
       "moralIdentityInternalization02 2    45 4.177778 1.0288760 4      4.081081\n",
       "moralIdentityInternalization03 3    45 1.000000 0.0000000 1      1.000000\n",
       "moralIdentityInternalization04 4    45 1.488889 0.8692270 1      1.459459\n",
       "moralIdentityInternalization05 5    45 4.488889 0.9200351 4      4.513514\n",
       "                               mad    min max range skew        kurtosis  \n",
       "moralIdentityInternalization01 0.0000 3   6   3     -0.09499871 -0.2560002\n",
       "moralIdentityInternalization02 1.4826 3   7   4      0.63057485 -0.2803328\n",
       "moralIdentityInternalization03 0.0000 1   1   0             NaN        NaN\n",
       "moralIdentityInternalization04 1.4826 0   4   4      0.33779878  0.2010560\n",
       "moralIdentityInternalization05 1.4826 2   6   4     -0.22495256 -0.1641706\n",
       "                               se       \n",
       "moralIdentityInternalization01 0.0985871\n",
       "moralIdentityInternalization02 0.1533758\n",
       "moralIdentityInternalization03 0.0000000\n",
       "moralIdentityInternalization04 0.1295767\n",
       "moralIdentityInternalization05 0.1371507"
      ]
     },
     "metadata": {},
     "output_type": "display_data"
    }
   ],
   "source": [
    "podaci %>%\n",
    "dplyr::filter(., pi_gender == 'Female') %>%\n",
    "dplyr::select(., dplyr::contains('internal',\n",
    "                                 # igore.case govori treba li\n",
    "                                 # poštivati ili ignorirati\n",
    "                                 # malo/veliko slovo\n",
    "                                 ignore.case = T)) %T>% str(.) %>%\n",
    "psych::describe(.)"
   ]
  },
  {
   "cell_type": "code",
   "execution_count": 23,
   "metadata": {
    "slideshow": {
     "slide_type": "fragment"
    }
   },
   "outputs": [
    {
     "name": "stdout",
     "output_type": "stream",
     "text": [
      "Classes ‘tbl_df’, ‘tbl’ and 'data.frame':\t45 obs. of  5 variables:\n",
      " $ moralIdentityInternalization01: int  4 5 5 4 4 5 4 6 6 5 ...\n",
      " $ moralIdentityInternalization02: int  3 5 5 3 3 3 3 5 6 3 ...\n",
      " $ moralIdentityInternalization03: int  1 1 1 1 1 1 1 1 1 1 ...\n",
      " $ moralIdentityInternalization04: int  2 3 1 2 4 2 2 1 1 2 ...\n",
      " $ moralIdentityInternalization05: int  4 5 5 4 2 4 4 6 6 5 ...\n"
     ]
    },
    {
     "data": {
      "text/html": [
       "<table>\n",
       "<thead><tr><th></th><th scope=col>vars</th><th scope=col>n</th><th scope=col>mean</th><th scope=col>sd</th><th scope=col>median</th><th scope=col>trimmed</th><th scope=col>mad</th><th scope=col>min</th><th scope=col>max</th><th scope=col>range</th><th scope=col>skew</th><th scope=col>kurtosis</th><th scope=col>se</th></tr></thead>\n",
       "<tbody>\n",
       "\t<tr><th scope=row>moralIdentityInternalization01</th><td>1          </td><td>45         </td><td>4.711111   </td><td>0.6613424  </td><td>5          </td><td>4.675676   </td><td>0.0000     </td><td>3          </td><td>6          </td><td>3          </td><td>-0.09499871</td><td>-0.2560002 </td><td>0.0985871  </td></tr>\n",
       "\t<tr><th scope=row>moralIdentityInternalization02</th><td>2          </td><td>45         </td><td>4.177778   </td><td>1.0288760  </td><td>4          </td><td>4.081081   </td><td>1.4826     </td><td>3          </td><td>7          </td><td>4          </td><td> 0.63057485</td><td>-0.2803328 </td><td>0.1533758  </td></tr>\n",
       "\t<tr><th scope=row>moralIdentityInternalization03</th><td>3          </td><td>45         </td><td>1.000000   </td><td>0.0000000  </td><td>1          </td><td>1.000000   </td><td>0.0000     </td><td>1          </td><td>1          </td><td>0          </td><td>        NaN</td><td>       NaN </td><td>0.0000000  </td></tr>\n",
       "\t<tr><th scope=row>moralIdentityInternalization04</th><td>4          </td><td>45         </td><td>1.488889   </td><td>0.8692270  </td><td>1          </td><td>1.459459   </td><td>1.4826     </td><td>0          </td><td>4          </td><td>4          </td><td> 0.33779878</td><td> 0.2010560 </td><td>0.1295767  </td></tr>\n",
       "\t<tr><th scope=row>moralIdentityInternalization05</th><td>5          </td><td>45         </td><td>4.488889   </td><td>0.9200351  </td><td>4          </td><td>4.513514   </td><td>1.4826     </td><td>2          </td><td>6          </td><td>4          </td><td>-0.22495256</td><td>-0.1641706 </td><td>0.1371507  </td></tr>\n",
       "</tbody>\n",
       "</table>\n"
      ],
      "text/latex": [
       "\\begin{tabular}{r|lllllllllllll}\n",
       "  & vars & n & mean & sd & median & trimmed & mad & min & max & range & skew & kurtosis & se\\\\\n",
       "\\hline\n",
       "\tmoralIdentityInternalization01 & 1           & 45          & 4.711111    & 0.6613424   & 5           & 4.675676    & 0.0000      & 3           & 6           & 3           & -0.09499871 & -0.2560002  & 0.0985871  \\\\\n",
       "\tmoralIdentityInternalization02 & 2           & 45          & 4.177778    & 1.0288760   & 4           & 4.081081    & 1.4826      & 3           & 7           & 4           &  0.63057485 & -0.2803328  & 0.1533758  \\\\\n",
       "\tmoralIdentityInternalization03 & 3           & 45          & 1.000000    & 0.0000000   & 1           & 1.000000    & 0.0000      & 1           & 1           & 0           &         NaN &        NaN  & 0.0000000  \\\\\n",
       "\tmoralIdentityInternalization04 & 4           & 45          & 1.488889    & 0.8692270   & 1           & 1.459459    & 1.4826      & 0           & 4           & 4           &  0.33779878 &  0.2010560  & 0.1295767  \\\\\n",
       "\tmoralIdentityInternalization05 & 5           & 45          & 4.488889    & 0.9200351   & 4           & 4.513514    & 1.4826      & 2           & 6           & 4           & -0.22495256 & -0.1641706  & 0.1371507  \\\\\n",
       "\\end{tabular}\n"
      ],
      "text/markdown": [
       "\n",
       "| <!--/--> | vars | n | mean | sd | median | trimmed | mad | min | max | range | skew | kurtosis | se | \n",
       "|---|---|---|---|---|\n",
       "| moralIdentityInternalization01 | 1           | 45          | 4.711111    | 0.6613424   | 5           | 4.675676    | 0.0000      | 3           | 6           | 3           | -0.09499871 | -0.2560002  | 0.0985871   | \n",
       "| moralIdentityInternalization02 | 2           | 45          | 4.177778    | 1.0288760   | 4           | 4.081081    | 1.4826      | 3           | 7           | 4           |  0.63057485 | -0.2803328  | 0.1533758   | \n",
       "| moralIdentityInternalization03 | 3           | 45          | 1.000000    | 0.0000000   | 1           | 1.000000    | 0.0000      | 1           | 1           | 0           |         NaN |        NaN  | 0.0000000   | \n",
       "| moralIdentityInternalization04 | 4           | 45          | 1.488889    | 0.8692270   | 1           | 1.459459    | 1.4826      | 0           | 4           | 4           |  0.33779878 |  0.2010560  | 0.1295767   | \n",
       "| moralIdentityInternalization05 | 5           | 45          | 4.488889    | 0.9200351   | 4           | 4.513514    | 1.4826      | 2           | 6           | 4           | -0.22495256 | -0.1641706  | 0.1371507   | \n",
       "\n",
       "\n"
      ],
      "text/plain": [
       "                               vars n  mean     sd        median trimmed \n",
       "moralIdentityInternalization01 1    45 4.711111 0.6613424 5      4.675676\n",
       "moralIdentityInternalization02 2    45 4.177778 1.0288760 4      4.081081\n",
       "moralIdentityInternalization03 3    45 1.000000 0.0000000 1      1.000000\n",
       "moralIdentityInternalization04 4    45 1.488889 0.8692270 1      1.459459\n",
       "moralIdentityInternalization05 5    45 4.488889 0.9200351 4      4.513514\n",
       "                               mad    min max range skew        kurtosis  \n",
       "moralIdentityInternalization01 0.0000 3   6   3     -0.09499871 -0.2560002\n",
       "moralIdentityInternalization02 1.4826 3   7   4      0.63057485 -0.2803328\n",
       "moralIdentityInternalization03 0.0000 1   1   0             NaN        NaN\n",
       "moralIdentityInternalization04 1.4826 0   4   4      0.33779878  0.2010560\n",
       "moralIdentityInternalization05 1.4826 2   6   4     -0.22495256 -0.1641706\n",
       "                               se       \n",
       "moralIdentityInternalization01 0.0985871\n",
       "moralIdentityInternalization02 0.1533758\n",
       "moralIdentityInternalization03 0.0000000\n",
       "moralIdentityInternalization04 0.1295767\n",
       "moralIdentityInternalization05 0.1371507"
      ]
     },
     "metadata": {},
     "output_type": "display_data"
    }
   ],
   "source": [
    "# base R rješenje za usporedbu\n",
    "str(podaci[podaci$pi_gender == 'Female', qc(moralIdentityInternalization01,\n",
    "                                                moralIdentityInternalization02,\n",
    "                                                moralIdentityInternalization03,\n",
    "                                                moralIdentityInternalization04,\n",
    "                                                moralIdentityInternalization05)])\n",
    "psych::describe(podaci[podaci$pi_gender == 'Female', qc(moralIdentityInternalization01,\n",
    "                                                moralIdentityInternalization02,\n",
    "                                                moralIdentityInternalization03,\n",
    "                                                moralIdentityInternalization04,\n",
    "                                                moralIdentityInternalization05)])"
   ]
  },
  {
   "cell_type": "markdown",
   "metadata": {
    "slideshow": {
     "slide_type": "subslide"
    }
   },
   "source": [
    "`contains` je jedna od nekoliko pomoćnih funkcija koje su super za `select`. Druge su:\n",
    "- `starts_with`, koja odabire varijable koje počinju s određenim stringom\n",
    "- `ends_with`, isto, samo za kraj\n",
    "- `one_of`, koju treba koristiti kad `selectu` dajemo `character` vektor; na primjer, ako imena varijabli koje želimo zahvatiti spremimo u varijablu\n",
    "- `matches`, koji nam omogućava da odaberemo varijable čija imena odgovaraju nekom **regularnom izrazu**"
   ]
  },
  {
   "cell_type": "markdown",
   "metadata": {
    "slideshow": {
     "slide_type": "slide"
    }
   },
   "source": [
    "## Regularni izrazi"
   ]
  },
  {
   "cell_type": "markdown",
   "metadata": {
    "slideshow": {
     "slide_type": "slide"
    }
   },
   "source": [
    "Regularni izrazi (eng. *regular expressions*, *regex* ili *regexp*) su stringovi koji označavaju neki uzorak za pretraživanje. Na primjer, sve ove izraze\n",
    "```\n",
    "string\n",
    "striing\n",
    "striiing\n",
    "striiiiiiiiiiiiiiiiing\n",
    "```\n",
    "možemo opisati stringom `stri*ng`. Znak `*` (asterisk) je **kvantifikator** koji označava *nula ili više ponavljanja prethodnog znaka*. To znači da bi taj regularni izraz pronašao i string `strng`."
   ]
  },
  {
   "cell_type": "markdown",
   "metadata": {
    "slideshow": {
     "slide_type": "subslide"
    }
   },
   "source": [
    "Uz razne kvantifikatore, postoje još i klase znakova te meta-znakovi koji nam omogućavaju lako pretraživanje stringova."
   ]
  },
  {
   "cell_type": "markdown",
   "metadata": {
    "slideshow": {
     "slide_type": "fragment"
    }
   },
   "source": [
    "Regexi su implementirani u base R-u (npr. funkcije `grep` i `grepl`) i u `tidyverseu` kroz paket `stringr`. Mi ćemo se baviti `stringrom`. Budući da postoje razne implementacije regularnih izraza, koje se razlikuju po kompleksnosti, bitno je znati da `stringr` koristi **Perl/PCRE** regularne izraze."
   ]
  },
  {
   "cell_type": "markdown",
   "metadata": {
    "slideshow": {
     "slide_type": "skip"
    }
   },
   "source": [
    "U ovom dijelu ćemo pogledati osnove regularnih izraza, koje ćemo nadograđivati kroz ostatak radionice."
   ]
  },
  {
   "cell_type": "markdown",
   "metadata": {
    "slideshow": {
     "slide_type": "slide"
    }
   },
   "source": [
    "### Kvantifikatori"
   ]
  },
  {
   "cell_type": "markdown",
   "metadata": {
    "slideshow": {
     "slide_type": "subslide"
    }
   },
   "source": [
    "#### *"
   ]
  },
  {
   "cell_type": "markdown",
   "metadata": {},
   "source": [
    "Kao što je već rečeno, `*` označava **0 ili više** ponavljanja **znaka** koji mu prethodi. *Znak* se ovdje odnosi na doslovni znak, na klasu znakova ili na grupu znakova. S klasama i grupama ćemo se upoznati malo kasnije."
   ]
  },
  {
   "cell_type": "markdown",
   "metadata": {
    "slideshow": {
     "slide_type": "fragment"
    }
   },
   "source": [
    "Pogledat ćemo output funkcije `str_detect` koja kao input uzima string (ili više njih) i regularni izraz (`pattern`), a vraća `TRUE` ili `FALSE` ovisno o tome nalazi li se regularni izraz u stringu ili ne."
   ]
  },
  {
   "cell_type": "code",
   "execution_count": 27,
   "metadata": {
    "slideshow": {
     "slide_type": "-"
    }
   },
   "outputs": [
    {
     "name": "stdout",
     "output_type": "stream",
     "text": [
      "[1] TRUE TRUE TRUE\n"
     ]
    }
   ],
   "source": [
    "stringr::str_detect(string = qc(kobilaaaa, maajka, celer), pattern = 'a*') %>% print(.)"
   ]
  },
  {
   "cell_type": "markdown",
   "metadata": {
    "slideshow": {
     "slide_type": "subslide"
    }
   },
   "source": [
    "#### +"
   ]
  },
  {
   "cell_type": "markdown",
   "metadata": {},
   "source": [
    "`+` označava **jedno (1) ili više** ponavljanja prethodnog znaka/klase znakova/grupe znakova."
   ]
  },
  {
   "cell_type": "markdown",
   "metadata": {
    "slideshow": {
     "slide_type": "fragment"
    }
   },
   "source": [
    "Da vidimo što će nam vratiti funkcija `str_extract_all` koja prima iste argumente kao i `str_detect`, a vraća sve pronađene `patterne`."
   ]
  },
  {
   "cell_type": "code",
   "execution_count": 28,
   "metadata": {
    "slideshow": {
     "slide_type": "-"
    }
   },
   "outputs": [
    {
     "name": "stdout",
     "output_type": "stream",
     "text": [
      "[[1]]\n",
      "[1] \"aaaa\"\n",
      "\n",
      "[[2]]\n",
      "[1] \"aa\" \"a\" \n",
      "\n",
      "[[3]]\n",
      "character(0)\n",
      "\n"
     ]
    }
   ],
   "source": [
    "stringr::str_extract_all(string = qc(kobilaaaa, maajka, celer), pattern = 'a+') %>% print(.)"
   ]
  },
  {
   "cell_type": "markdown",
   "metadata": {
    "slideshow": {
     "slide_type": "subslide"
    }
   },
   "source": [
    "Postoji i funkcija `str_extract` koja vraća **samo prvi** pronađeni uzorak."
   ]
  },
  {
   "cell_type": "code",
   "execution_count": 29,
   "metadata": {},
   "outputs": [
    {
     "name": "stdout",
     "output_type": "stream",
     "text": [
      "[1] \"aaaa\" \"aa\"   NA    \n"
     ]
    }
   ],
   "source": [
    "stringr::str_extract(qc(kobilaaaa, maajka, celer), 'a+') %>% print(.)"
   ]
  },
  {
   "cell_type": "markdown",
   "metadata": {
    "slideshow": {
     "slide_type": "subslide"
    }
   },
   "source": [
    "Također, možemo vidjeti da `str_detect` više ne vraća `TRUE` za posljednju riječ."
   ]
  },
  {
   "cell_type": "code",
   "execution_count": 30,
   "metadata": {},
   "outputs": [
    {
     "name": "stdout",
     "output_type": "stream",
     "text": [
      "[1]  TRUE  TRUE FALSE\n"
     ]
    }
   ],
   "source": [
    "stringr::str_detect(qc(kobilaaaa, maajka, celer), 'a+') %>% print(.)"
   ]
  },
  {
   "cell_type": "markdown",
   "metadata": {
    "slideshow": {
     "slide_type": "subslide"
    }
   },
   "source": [
    "#### ?"
   ]
  },
  {
   "cell_type": "markdown",
   "metadata": {},
   "source": [
    "Upitnik označavao **0 ili jedno (1)** ponavljanje."
   ]
  },
  {
   "cell_type": "code",
   "execution_count": 31,
   "metadata": {},
   "outputs": [
    {
     "name": "stdout",
     "output_type": "stream",
     "text": [
      "[[1]]\n",
      " [1] \"\"  \"\"  \"\"  \"\"  \"\"  \"a\" \"a\" \"a\" \"a\" \"\" \n",
      "\n",
      "[[2]]\n",
      "[1] \"\"  \"a\" \"a\" \"\"  \"\"  \"a\" \"\" \n",
      "\n",
      "[[3]]\n",
      "[1] \"\" \"\" \"\" \"\" \"\" \"\"\n",
      "\n"
     ]
    }
   ],
   "source": [
    "qc(kobilaaaa, maajka, celer) %>%\n",
    "stringr::str_extract_all(., 'a?') %>%\n",
    "print(.)"
   ]
  },
  {
   "cell_type": "markdown",
   "metadata": {
    "slideshow": {
     "slide_type": "subslide"
    }
   },
   "source": [
    "#### {n,m}"
   ]
  },
  {
   "cell_type": "markdown",
   "metadata": {},
   "source": [
    "Ova sintaksa nam omogućava da specificiramo koliko ponavljanja želimo. Postoje tri valjane kombinacije:\n",
    "- `{n,m}` znači od `n` do `m`\n",
    "- `{n,}` znači `n` ili više\n",
    "- `{n}` znači točno `n`\n",
    "\n",
    "`{,m}` **nije valjan** regularni izraz! Također, bitno je da nema razmaka između `n` ili `m` i zareza."
   ]
  },
  {
   "cell_type": "markdown",
   "metadata": {
    "slideshow": {
     "slide_type": "subslide"
    }
   },
   "source": [
    "Vratit ćemo se na početni primjer."
   ]
  },
  {
   "cell_type": "code",
   "execution_count": 32,
   "metadata": {
    "slideshow": {
     "slide_type": "-"
    }
   },
   "outputs": [
    {
     "name": "stdout",
     "output_type": "stream",
     "text": [
      "[[1]]\n",
      "character(0)\n",
      "\n",
      "[[2]]\n",
      "[1] \"ii\"\n",
      "\n",
      "[[3]]\n",
      "[1] \"iii\"\n",
      "\n",
      "[[4]]\n",
      "[1] \"iiiii\" \"iiiii\" \"iiiii\" \"ii\"   \n",
      "\n"
     ]
    }
   ],
   "source": [
    "qc(string, striing, striiing, striiiiiiiiiiiiiiiiing) %>%\n",
    "stringr::str_extract_all(., 'i{2,5}') %>% print(.)"
   ]
  },
  {
   "cell_type": "code",
   "execution_count": 33,
   "metadata": {
    "slideshow": {
     "slide_type": "fragment"
    }
   },
   "outputs": [
    {
     "name": "stdout",
     "output_type": "stream",
     "text": [
      "[[1]]\n",
      "character(0)\n",
      "\n",
      "[[2]]\n",
      "character(0)\n",
      "\n",
      "[[3]]\n",
      "[1] \"iii\"\n",
      "\n",
      "[[4]]\n",
      "[1] \"iiiiiiiiiiiiiiiii\"\n",
      "\n"
     ]
    }
   ],
   "source": [
    "qc(string, striing, striiing, striiiiiiiiiiiiiiiiing) %>%\n",
    "stringr::str_extract_all(., 'i{3,}') %>% print(.)"
   ]
  },
  {
   "cell_type": "code",
   "execution_count": 34,
   "metadata": {
    "slideshow": {
     "slide_type": "fragment"
    }
   },
   "outputs": [
    {
     "name": "stdout",
     "output_type": "stream",
     "text": [
      "[[1]]\n",
      "character(0)\n",
      "\n",
      "[[2]]\n",
      "character(0)\n",
      "\n",
      "[[3]]\n",
      "character(0)\n",
      "\n",
      "[[4]]\n",
      "[1] \"iiiiiiiiiiiiiiiii\"\n",
      "\n"
     ]
    }
   ],
   "source": [
    "qc(string, striing, striiing, striiiiiiiiiiiiiiiiing) %>%\n",
    "stringr::str_extract_all(., 'i{17}') %>% print(.)"
   ]
  },
  {
   "cell_type": "markdown",
   "metadata": {
    "slideshow": {
     "slide_type": "slide"
    }
   },
   "source": [
    "### Klase znakova"
   ]
  },
  {
   "cell_type": "markdown",
   "metadata": {
    "slideshow": {
     "slide_type": "subslide"
    }
   },
   "source": [
    "Pretraživanja koja smo dosad vidjeli su jednostavna i jako umjetna. U stvarnim primjenama uglavnom nećemo pokušavati uhvatiti jedno slovo, nego znakove određenog tipa (kao što su brojke) ili određene skupine znakova (npr. brojeve 1, 7 ili 5). U te svrhe, koristimo **klase znakova**.\n",
    "\n",
    "NB: Klase znakova predstavljaju više mogućih znakova, ali **samo jedno mjesto**."
   ]
  },
  {
   "cell_type": "markdown",
   "metadata": {
    "slideshow": {
     "slide_type": "subslide"
    }
   },
   "source": [
    "Napravit ćemo mali `data.frame` koji se sastoji od dva stupca koja sadrže stringove."
   ]
  },
  {
   "cell_type": "code",
   "execution_count": 35,
   "metadata": {},
   "outputs": [],
   "source": [
    "# ne možemo koristiti qc za mjesta zbog razmaka\n",
    "data.frame(mjesta = c('Slavonski Brod', 'BJELOVAR', 'Cista Provo', 'Banova Jaruga'),\n",
    "           tablice = qc(SB1152KF, BJ302LD, CP999LO, BN2001KA)) -> registracije"
   ]
  },
  {
   "cell_type": "markdown",
   "metadata": {
    "slideshow": {
     "slide_type": "subslide"
    }
   },
   "source": [
    "Za početak, pokušat ćemo pronaći sva mjesta čija se imena sastoje od dvije riječi (to znači da ćemo isključiti BJELOVAR `:(`). Vidimo da sva mjesta koja se sastoje od dvije riječi imaju sljedeći uzorak: `[veliko slovo][nekoliko malih slova][razmak][veliko slovo][nekoliko malih slova]`. Koristeći regexe, možemo napraviti sljedeće:"
   ]
  },
  {
   "cell_type": "code",
   "execution_count": 36,
   "metadata": {},
   "outputs": [
    {
     "name": "stdout",
     "output_type": "stream",
     "text": [
      "          mjesta  tablice\n",
      "1 Slavonski Brod SB1152KF\n",
      "2       BJELOVAR  BJ302LD\n",
      "3    Cista Provo  CP999LO\n",
      "4  Banova Jaruga BN2001KA\n"
     ]
    }
   ],
   "source": [
    "print(registracije)"
   ]
  },
  {
   "cell_type": "code",
   "execution_count": 37,
   "metadata": {
    "slideshow": {
     "slide_type": "fragment"
    }
   },
   "outputs": [
    {
     "data": {
      "text/html": [
       "<ol class=list-inline>\n",
       "\t<li>TRUE</li>\n",
       "\t<li>FALSE</li>\n",
       "\t<li>TRUE</li>\n",
       "\t<li>TRUE</li>\n",
       "</ol>\n"
      ],
      "text/latex": [
       "\\begin{enumerate*}\n",
       "\\item TRUE\n",
       "\\item FALSE\n",
       "\\item TRUE\n",
       "\\item TRUE\n",
       "\\end{enumerate*}\n"
      ],
      "text/markdown": [
       "1. TRUE\n",
       "2. FALSE\n",
       "3. TRUE\n",
       "4. TRUE\n",
       "\n",
       "\n"
      ],
      "text/plain": [
       "[1]  TRUE FALSE  TRUE  TRUE"
      ]
     },
     "metadata": {},
     "output_type": "display_data"
    }
   ],
   "source": [
    "registracije$mjesta %>%\n",
    "stringr::str_detect(., '^[[:upper:]][[:lower:]]+\\\\s[[:upper:]][[:lower:]]+$')"
   ]
  },
  {
   "cell_type": "markdown",
   "metadata": {
    "slideshow": {
     "slide_type": "fragment"
    }
   },
   "source": [
    "`^` (eng. *caret*) je meta-znak koji označava **početak stringa**."
   ]
  },
  {
   "cell_type": "markdown",
   "metadata": {
    "slideshow": {
     "slide_type": "fragment"
    }
   },
   "source": [
    "`[[:upper:]]` i `[[:lower:]]` su klase koje označavaju velika odnosno mala slova."
   ]
  },
  {
   "cell_type": "markdown",
   "metadata": {
    "slideshow": {
     "slide_type": "fragment"
    }
   },
   "source": [
    "`\\\\s` označava razmak (ostavljanje praznog mjesta također funkcionira). "
   ]
  },
  {
   "cell_type": "markdown",
   "metadata": {
    "slideshow": {
     "slide_type": "fragment"
    }
   },
   "source": [
    "Dakle, obrazac koji tražimo mora počinjati s velikim slovom kojem slijedi jedno ili više malih slova.\n",
    "\n",
    "Drugi važan meta-znak je `$`, koji označava **kraj stringa**."
   ]
  },
  {
   "cell_type": "markdown",
   "metadata": {
    "slideshow": {
     "slide_type": "fragment"
    }
   },
   "source": [
    "NB: Ako želimo tražiti same meta-znakove (npr. u `$1551`), ispred njih moramo staviti `\\\\` (backslash x 2). Taj čin se zove *escaping*."
   ]
  },
  {
   "cell_type": "code",
   "execution_count": 38,
   "metadata": {
    "slideshow": {
     "slide_type": "-"
    }
   },
   "outputs": [
    {
     "data": {
      "text/html": [
       "<ol class=list-inline>\n",
       "\t<li>TRUE</li>\n",
       "\t<li>FALSE</li>\n",
       "</ol>\n"
      ],
      "text/latex": [
       "\\begin{enumerate*}\n",
       "\\item TRUE\n",
       "\\item FALSE\n",
       "\\end{enumerate*}\n"
      ],
      "text/markdown": [
       "1. TRUE\n",
       "2. FALSE\n",
       "\n",
       "\n"
      ],
      "text/plain": [
       "[1]  TRUE FALSE"
      ]
     },
     "metadata": {},
     "output_type": "display_data"
    }
   ],
   "source": [
    "# qc ni ovdje ne funkcionira\n",
    "c('$alaj', '€broj') %>%\n",
    "stringr::str_detect(., '\\\\$')"
   ]
  },
  {
   "cell_type": "markdown",
   "metadata": {
    "slideshow": {
     "slide_type": "subslide"
    }
   },
   "source": [
    "Koristeći uglate zagrade, možemo sami definirati klasu znakova koja je prihvatljiva na nekom mjestu. Na primjer, možemo tražiti sva mjesta koja imaju dvije riječi i čija prva riječ počinje slovom B (velikim!) ili S (također!). Ovdje ćemo koristiti `str_subset`, koja vraća stringove koji sadrže zadani obrazac."
   ]
  },
  {
   "cell_type": "code",
   "execution_count": 39,
   "metadata": {
    "slideshow": {
     "slide_type": "fragment"
    }
   },
   "outputs": [
    {
     "data": {
      "text/html": [
       "<ol class=list-inline>\n",
       "\t<li>'Slavonski Brod'</li>\n",
       "\t<li>'Banova Jaruga'</li>\n",
       "</ol>\n"
      ],
      "text/latex": [
       "\\begin{enumerate*}\n",
       "\\item 'Slavonski Brod'\n",
       "\\item 'Banova Jaruga'\n",
       "\\end{enumerate*}\n"
      ],
      "text/markdown": [
       "1. 'Slavonski Brod'\n",
       "2. 'Banova Jaruga'\n",
       "\n",
       "\n"
      ],
      "text/plain": [
       "[1] \"Slavonski Brod\" \"Banova Jaruga\" "
      ]
     },
     "metadata": {},
     "output_type": "display_data"
    }
   ],
   "source": [
    "registracije$mjesta %>%\n",
    "stringr::str_subset(., '^[SB][[:lower:]]+\\\\s[[:upper:]][[:lower:]]+')"
   ]
  },
  {
   "cell_type": "markdown",
   "metadata": {
    "slideshow": {
     "slide_type": "subslide"
    }
   },
   "source": [
    "Možemo definirati i custom klasu znakova koji se **ne smiju** nalaziti na nekom mjestu. To radimo tako da na početak svoje klase stavimo znak `^` (`[^...]`). Na primjer, možemo tražiti stringove koji ne počinju slovom S ili B:"
   ]
  },
  {
   "cell_type": "code",
   "execution_count": 40,
   "metadata": {
    "slideshow": {
     "slide_type": "fragment"
    }
   },
   "outputs": [
    {
     "data": {
      "text/html": [
       "'Cista Provo'"
      ],
      "text/latex": [
       "'Cista Provo'"
      ],
      "text/markdown": [
       "'Cista Provo'"
      ],
      "text/plain": [
       "[1] \"Cista Provo\""
      ]
     },
     "metadata": {},
     "output_type": "display_data"
    }
   ],
   "source": [
    "registracije$mjesta %>%\n",
    "stringr::str_subset(., '^[^SB].*')"
   ]
  },
  {
   "cell_type": "markdown",
   "metadata": {
    "slideshow": {
     "slide_type": "fragment"
    }
   },
   "source": [
    "Točka je poseban znak u regularnim izrazima, a označava **bilo koji znak** (osim novog reda, što se u R-u označava s `\\\\n`). Budući da označava bilo što, `.` se zove *wildcard*."
   ]
  },
  {
   "cell_type": "markdown",
   "metadata": {
    "slideshow": {
     "slide_type": "subslide"
    }
   },
   "source": [
    "Klasa znakova ima razmjerno puno, pa ćemo spomenuti još jednu koja se često javlja. Pokušat ćemo izvući samo one registracijske oznake (`tablice`) koje imaju tri znamenke."
   ]
  },
  {
   "cell_type": "code",
   "execution_count": 41,
   "metadata": {
    "slideshow": {
     "slide_type": "fragment"
    }
   },
   "outputs": [
    {
     "data": {
      "text/html": [
       "<ol class=list-inline>\n",
       "\t<li>'BJ302LD'</li>\n",
       "\t<li>'CP999LO'</li>\n",
       "</ol>\n"
      ],
      "text/latex": [
       "\\begin{enumerate*}\n",
       "\\item 'BJ302LD'\n",
       "\\item 'CP999LO'\n",
       "\\end{enumerate*}\n"
      ],
      "text/markdown": [
       "1. 'BJ302LD'\n",
       "2. 'CP999LO'\n",
       "\n",
       "\n"
      ],
      "text/plain": [
       "[1] \"BJ302LD\" \"CP999LO\""
      ]
     },
     "metadata": {},
     "output_type": "display_data"
    }
   ],
   "source": [
    "registracije$tablice %>%\n",
    "stringr::str_subset(., '[[:upper:]]{2}\\\\d{3}[[:upper:]]')"
   ]
  },
  {
   "cell_type": "markdown",
   "metadata": {
    "slideshow": {
     "slide_type": "skip"
    }
   },
   "source": [
    "`\\\\d`, dakle, označava znamenke."
   ]
  },
  {
   "cell_type": "markdown",
   "metadata": {
    "slideshow": {
     "slide_type": "skip"
    }
   },
   "source": [
    "Zasad ćemo proći još samo kroz grupe znakova."
   ]
  },
  {
   "cell_type": "markdown",
   "metadata": {
    "slideshow": {
     "slide_type": "slide"
    }
   },
   "source": [
    "### Grupe znakova"
   ]
  },
  {
   "cell_type": "markdown",
   "metadata": {},
   "source": [
    "Znakove možemo grupirati koristeći obične zagrade (`(...)`). Grupe spajaju znakove u jednu cjelinu. To nam, primjerice, omogućuje da ponavljajuće uzorke lako kvantificiramo.\n",
    "\n",
    "Na primjer, zamislimo da želimo izvući određene vrste smjehova iz nekih stringova."
   ]
  },
  {
   "cell_type": "code",
   "execution_count": 42,
   "metadata": {
    "slideshow": {
     "slide_type": "fragment"
    }
   },
   "outputs": [
    {
     "name": "stdout",
     "output_type": "stream",
     "text": [
      "[[1]]\n",
      "[1] \"hehe\"\n",
      "\n",
      "[[2]]\n",
      "[1] \"heha\" \"hehe\"\n",
      "\n",
      "[[3]]\n",
      "[1] \"haha\"\n",
      "\n"
     ]
    }
   ],
   "source": [
    "qc(hehehe, hehahohohehe, hahahahihi) %>%\n",
    "stringr::str_extract_all(., '(ha|he){2}') %>%\n",
    "print(.)"
   ]
  },
  {
   "cell_type": "markdown",
   "metadata": {
    "slideshow": {
     "slide_type": "fragment"
    }
   },
   "source": [
    "Ovdje smo iskoristili i znak `|` (kod mene se nalazi na `CTRL-W` i zove se *pipe*), koji označava alternaciju, odnosno logičko ILI. Dakle, tražimo dva ponavljanja stringa `ha` ili `he`.\n",
    "\n",
    "NB: Ne stavljati razmake oko alternatora jer će se to tumačiti kao razmak koji treba tražiti u stringu!"
   ]
  },
  {
   "cell_type": "markdown",
   "metadata": {
    "slideshow": {
     "slide_type": "slide"
    }
   },
   "source": [
    "### Vježbica"
   ]
  },
  {
   "cell_type": "markdown",
   "metadata": {},
   "source": [
    "Radili smo longitudinalno istraživanje s dvije točke mjerenja. Svojim dragim sudionicima napisali smo jednostavnu formulu za stvaranje šifre: prva dva slova imena majke, posljednje dvije znamenke mobitela i prva dva slova imena rodnog grada.\n",
    "\n",
    "Sve smo ih stavili u format pogodan za nekakvo analiziranje longitudinalnih podataka, zbog čega se šifre sudionika iz obje točke mjerenja nalaze u jednom stupcu."
   ]
  },
  {
   "cell_type": "markdown",
   "metadata": {
    "slideshow": {
     "slide_type": "fragment"
    }
   },
   "source": [
    "Ovo su šifre naša 4 sudionika:"
   ]
  },
  {
   "cell_type": "code",
   "execution_count": 46,
   "metadata": {},
   "outputs": [],
   "source": [
    "sifre <- qc(BR83ZA, KA15ZA, RA75BJ, PE43SP,\n",
    "            BR83ZG, ZA15KA, RA75BJ, PE43ST)"
   ]
  },
  {
   "cell_type": "markdown",
   "metadata": {
    "slideshow": {
     "slide_type": "fragment"
    }
   },
   "source": [
    "Koristeći moći opažanja, uočili smo da:\n",
    "- su neki sudionici u drugoj točki mjerenja umjesto prva dva slova imena rodnog grada pisali registarsku oznaku rodnog grada\n",
    "- je jedan sudionik zamijenio mjesto prvih slova imena majke i prvih slova imena rodnog grada."
   ]
  },
  {
   "cell_type": "markdown",
   "metadata": {
    "slideshow": {
     "slide_type": "fragment"
    }
   },
   "source": [
    "Pokušajte (i) izvući sve sudionike čiji je rodni grad Zagreb ili Split te (ii) izvući sve šifre sudionika koji je zamijenio redoslijed imena majke i slova rodnog grada. Napišite potpuni regularni izraz (dakle, nema švercanja s `.*`)!"
   ]
  },
  {
   "cell_type": "code",
   "execution_count": 69,
   "metadata": {
    "slideshow": {
     "slide_type": "fragment"
    }
   },
   "outputs": [
    {
     "data": {
      "text/html": [
       "<ol class=list-inline>\n",
       "\t<li>'BR83ZA'</li>\n",
       "\t<li>'KA15ZA'</li>\n",
       "\t<li>'PE43SP'</li>\n",
       "\t<li>'BR83ZG'</li>\n",
       "\t<li>'PE43ST'</li>\n",
       "</ol>\n"
      ],
      "text/latex": [
       "\\begin{enumerate*}\n",
       "\\item 'BR83ZA'\n",
       "\\item 'KA15ZA'\n",
       "\\item 'PE43SP'\n",
       "\\item 'BR83ZG'\n",
       "\\item 'PE43ST'\n",
       "\\end{enumerate*}\n"
      ],
      "text/markdown": [
       "1. 'BR83ZA'\n",
       "2. 'KA15ZA'\n",
       "3. 'PE43SP'\n",
       "4. 'BR83ZG'\n",
       "5. 'PE43ST'\n",
       "\n",
       "\n"
      ],
      "text/plain": [
       "[1] \"BR83ZA\" \"KA15ZA\" \"PE43SP\" \"BR83ZG\" \"PE43ST\""
      ]
     },
     "metadata": {},
     "output_type": "display_data"
    }
   ],
   "source": [
    "sifre %>%\n",
    "stringr::str_subset(., '\\\\w{2}\\\\d+(ZG|ST|ZA|SP)')"
   ]
  },
  {
   "cell_type": "code",
   "execution_count": 66,
   "metadata": {
    "slideshow": {
     "slide_type": "fragment"
    }
   },
   "outputs": [
    {
     "data": {
      "text/html": [
       "<ol class=list-inline>\n",
       "\t<li>'KA15ZA'</li>\n",
       "\t<li>'ZA15KA'</li>\n",
       "</ol>\n"
      ],
      "text/latex": [
       "\\begin{enumerate*}\n",
       "\\item 'KA15ZA'\n",
       "\\item 'ZA15KA'\n",
       "\\end{enumerate*}\n"
      ],
      "text/markdown": [
       "1. 'KA15ZA'\n",
       "2. 'ZA15KA'\n",
       "\n",
       "\n"
      ],
      "text/plain": [
       "[1] \"KA15ZA\" \"ZA15KA\""
      ]
     },
     "metadata": {},
     "output_type": "display_data"
    }
   ],
   "source": [
    "sifre %>%\n",
    "stringr::str_subset(., '(ZA|KA)\\\\d{2}(ZA|KA)')"
   ]
  },
  {
   "cell_type": "markdown",
   "metadata": {
    "slideshow": {
     "slide_type": "skip"
    }
   },
   "source": [
    "Time završavamo digresivne tokove i bacamo se na borbu s podacima."
   ]
  },
  {
   "cell_type": "markdown",
   "metadata": {
    "slideshow": {
     "slide_type": "slide"
    }
   },
   "source": [
    "## Nastavak pripreme podataka"
   ]
  },
  {
   "cell_type": "markdown",
   "metadata": {},
   "source": [
    "Zasad smo pogledali strukturu podatka (`str`), kako izgledaju sirovi podaci (`head` i `tail`) te neke statističke sažetke (`describe` i `summary`, `skimr`).\n",
    "\n",
    "Sad ćemo se baciti na formatiranje sirovih podataka u nešto što nam je zgodnije za rad."
   ]
  },
  {
   "cell_type": "markdown",
   "metadata": {
    "slideshow": {
     "slide_type": "subslide"
    }
   },
   "source": [
    "Prvo ćemo se prisjetiti strukture podatka kojima baratamo."
   ]
  },
  {
   "cell_type": "code",
   "execution_count": 43,
   "metadata": {},
   "outputs": [
    {
     "name": "stdout",
     "output_type": "stream",
     "text": [
      "Classes ‘tbl_df’, ‘tbl’ and 'data.frame':\t100 obs. of  64 variables:\n",
      " $ attitudesAndNorms01           : int  5 5 4 6 4 4 6 4 3 5 ...\n",
      " $ attitudesAndNorms02           : int  5 4 6 2 1 4 0 4 7 7 ...\n",
      " $ attitudesAndNorms03           : int  5 2 5 3 2 4 3 5 6 7 ...\n",
      " $ attitudesAndNorms04           : int  5 1 5 2 3 3 3 7 5 6 ...\n",
      " $ attitudesAndNorms05           : int  4 2 3 2 1 4 2 4 4 6 ...\n",
      " $ attitudesAndNorms06           : int  3 2 2 3 2 3 3 3 3 4 ...\n",
      " $ attitudesAndNorms07           : int  4 3 4 5 4 5 6 4 4 5 ...\n",
      " $ attitudesAndNorms08           : int  6 7 5 6 5 5 7 5 3 5 ...\n",
      " $ callToAction                  : int  7 6 7 1 8 7 11 8 3 7 ...\n",
      " $ charitableBehavior01          : int  37 18 7 14 0 37 33 29 16 6 ...\n",
      " $ charitableBehavior02          : int  4 3 3 5 0 2 4 3 2 3 ...\n",
      " $ descriptiveSocialNorms01      : int  4 3 3 1 3 1 2 4 3 4 ...\n",
      " $ descriptiveSocialNorms02      : int  3 1 3 1 1 1 2 3 3 5 ...\n",
      " $ descriptiveSocialNorms03      : int  2 3 2 2 2 3 3 4 4 5 ...\n",
      " $ descriptiveSocialNorms04      : int  2 1 5 3 4 2 2 2 2 4 ...\n",
      " $ mf_AuthoritySubversion        : int  1 1 2 2 2 0 2 1 1 2 ...\n",
      " $ mf_CareHarm                   : int  3 3 3 3 4 3 4 3 3 4 ...\n",
      " $ mf_FairnessCheating           : int  3 3 4 3 2 4 4 5 3 4 ...\n",
      " $ mf_LoyaltyBetrayal            : int  2 2 2 3 2 1 2 0 0 1 ...\n",
      " $ mf_SanctityDegradation        : int  1 1 1 1 1 -1 1 -1 1 1 ...\n",
      " $ moralFoundations01            : int  4 3 4 3 3 4 5 3 4 4 ...\n",
      " $ moralFoundations02            : int  4 3 4 3 1 4 4 4 2 5 ...\n",
      " $ moralFoundations03            : int  3 0 2 1 1 0 2 0 -1 0 ...\n",
      " $ moralFoundations04            : int  1 0 2 2 2 0 2 0 1 2 ...\n",
      " $ moralFoundations05            : int  2 2 1 3 3 -1 3 1 1 2 ...\n",
      " $ moralFoundations06            : int  0 0 0 2 -1 1 0 0 -1 1 ...\n",
      " $ moralFoundations07            : int  4 3 4 4 5 2 4 4 3 4 ...\n",
      " $ moralFoundations08            : int  4 3 4 3 3 4 5 4 3 5 ...\n",
      " $ moralFoundations09            : int  3 3 2 4 3 3 3 1 -1 1 ...\n",
      " $ moralFoundations10            : int  0 -1 1 3 2 0 2 1 1 1 ...\n",
      " $ moralFoundations11            : int  1 3 1 0 1 -1 2 0 3 3 ...\n",
      " $ moralFoundations12            : int  6 5 4 5 4 4 5 4 3 5 ...\n",
      " $ moralFoundations13            : int  3 5 4 5 5 3 4 5 4 5 ...\n",
      " $ moralFoundations14            : int  4 2 1 1 3 3 3 1 3 2 ...\n",
      " $ moralFoundations15            : int  3 2 2 1 2 3 3 2 5 3 ...\n",
      " $ moralFoundations16            : int  3 1 1 2 -1 1 -2 2 0 1 ...\n",
      " $ moralFoundations17            : int  2 5 3 4 4 4 3 4 3 3 ...\n",
      " $ moralFoundations18            : int  2 3 3 4 5 2 4 5 4 4 ...\n",
      " $ moralFoundations19            : int  0 2 4 2 2 2 4 4 4 2 ...\n",
      " $ moralFoundations20            : int  0 1 0 4 1 3 3 3 2 2 ...\n",
      " $ moralFoundations21            : int  0 1 1 1 3 3 1 2 1 -1 ...\n",
      " $ moralFoundations22            : int  4 4 6 4 4 3 5 3 5 5 ...\n",
      " $ moralFoundations23            : int  3 3 4 2 4 0 3 4 3 3 ...\n",
      " $ moralFoundations24            : int  4 3 1 5 2 3 2 6 2 3 ...\n",
      " $ moralFoundations25            : int  0 0 1 2 0 3 1 2 2 1 ...\n",
      " $ moralFoundations26            : int  1 1 1 5 0 2 2 3 1 1 ...\n",
      " $ moralFoundations27            : int  1 1 0 1 1 1 -1 2 0 1 ...\n",
      " $ moralFoundations28            : int  0 -1 2 -1 -1 1 3 1 4 1 ...\n",
      " $ moralFoundations29            : int  1 1 3 2 4 1 4 2 2 0 ...\n",
      " $ moralFoundations30            : int  1 1 1 1 2 1 1 0 2 2 ...\n",
      " $ moralFoundations31            : int  3 2 1 5 2 2 4 3 3 2 ...\n",
      " $ moralFoundations32            : int  1 0 0 4 2 1 0 1 2 1 ...\n",
      " $ moralIdentityInternalization01: int  5 4 6 6 4 4 5 3 6 5 ...\n",
      " $ moralIdentityInternalization02: int  2 3 5 4 3 6 5 2 4 5 ...\n",
      " $ moralIdentityInternalization03: int  1 1 1 1 1 1 1 1 1 1 ...\n",
      " $ moralIdentityInternalization04: int  2 3 1 3 2 1 3 3 3 1 ...\n",
      " $ moralIdentityInternalization05: int  3 4 5 4 4 4 5 3 4 5 ...\n",
      " $ pi_age                        : int  3 20 20 19 22 25 23 41 16 17 ...\n",
      " $ pi_education                  : chr  \"Some professional diploma, no degree\" \"Master's degree\" \"High school\" \"Master's degree\" ...\n",
      " $ pi_gender                     : chr  \"Male\" \"Male\" \"Male\" \"Male\" ...\n",
      " $ pi_ideology                   : chr  \"Neither liberal or conservative\" \"Very liberal (left)\" \"Neither liberal or conservative\" \"Very liberal (left)\" ...\n",
      " $ pi_income                     : chr  \"Somewhat below the average\" \"Somewhat above the average\" \"Somewhat above the average\" \"Somewhat above the average\" ...\n",
      " $ pi_nationality                : chr  \"American\" \"USA\" \"Turkish\" \"United States of America\" ...\n",
      " $ pi_previousDonations          : chr  \"Rarely\" \"Regularly\" \"Rarely\" \"Rarely\" ...\n"
     ]
    }
   ],
   "source": [
    "str(podaci)"
   ]
  },
  {
   "cell_type": "markdown",
   "metadata": {
    "slideshow": {
     "slide_type": "skip"
    }
   },
   "source": [
    "Za početak, iskoristit ćemo moći opažanja i primijetiti da su varijable koje počinju s `pi` (osim `pi_age`) spremljene kao `character` vektori. Taj tip vrijednosti nije zgodan za većinu obrada koje bismo mogli htjeti raditi i razlog je zašto nam `summary` vraća nekoristan sažetak."
   ]
  },
  {
   "cell_type": "markdown",
   "metadata": {
    "slideshow": {
     "slide_type": "slide"
    }
   },
   "source": [
    "### Baratanje kategoričkim varijablama"
   ]
  },
  {
   "cell_type": "markdown",
   "metadata": {
    "slideshow": {
     "slide_type": "skip"
    }
   },
   "source": [
    "Stoga, pretvorit ćemo te varijable iz `charactera` u `factore`."
   ]
  },
  {
   "cell_type": "markdown",
   "metadata": {
    "slideshow": {
     "slide_type": "subslide"
    }
   },
   "source": [
    "Varijable možemo modificirati koristeći `mutate` obitelj funkcija. Ovdje ćemo iskoristiti `mutate_at`, koji nam omogućuje da specificiramo varijable na koje želimo primijeniti neku funkciju.\n",
    "\n",
    "Uhvatit ćemo sve `pi` varijable osim `pi_age` te na njih primijeniti funkciju `as.factor`, koja će ih pretvoriti u `factore`."
   ]
  },
  {
   "cell_type": "markdown",
   "metadata": {
    "slideshow": {
     "slide_type": "fragment"
    }
   },
   "source": [
    "Budući da će `mutate_at` zadanu funkciju primijeniti na postojeće stupce, dobro je (a) biti siguran da biraš prave stupce i (b) biti siguran da radiš ono što želiš napraviti prije nego spremiš promjene."
   ]
  },
  {
   "cell_type": "markdown",
   "metadata": {
    "slideshow": {
     "slide_type": "fragment"
    }
   },
   "source": [
    "(a) ćemo riješiti koristeći `colnames` i `select`."
   ]
  },
  {
   "cell_type": "code",
   "execution_count": 70,
   "metadata": {},
   "outputs": [
    {
     "data": {
      "text/html": [
       "<ol class=list-inline>\n",
       "\t<li>'pi_education'</li>\n",
       "\t<li>'pi_gender'</li>\n",
       "\t<li>'pi_ideology'</li>\n",
       "\t<li>'pi_income'</li>\n",
       "\t<li>'pi_nationality'</li>\n",
       "\t<li>'pi_previousDonations'</li>\n",
       "</ol>\n"
      ],
      "text/latex": [
       "\\begin{enumerate*}\n",
       "\\item 'pi\\_education'\n",
       "\\item 'pi\\_gender'\n",
       "\\item 'pi\\_ideology'\n",
       "\\item 'pi\\_income'\n",
       "\\item 'pi\\_nationality'\n",
       "\\item 'pi\\_previousDonations'\n",
       "\\end{enumerate*}\n"
      ],
      "text/markdown": [
       "1. 'pi_education'\n",
       "2. 'pi_gender'\n",
       "3. 'pi_ideology'\n",
       "4. 'pi_income'\n",
       "5. 'pi_nationality'\n",
       "6. 'pi_previousDonations'\n",
       "\n",
       "\n"
      ],
      "text/plain": [
       "[1] \"pi_education\"         \"pi_gender\"            \"pi_ideology\"         \n",
       "[4] \"pi_income\"            \"pi_nationality\"       \"pi_previousDonations\""
      ]
     },
     "metadata": {},
     "output_type": "display_data"
    }
   ],
   "source": [
    "podaci %>%\n",
    "dplyr::select(., dplyr::starts_with('pi'), -pi_age) %>%\n",
    "colnames(.)"
   ]
  },
  {
   "cell_type": "markdown",
   "metadata": {
    "slideshow": {
     "slide_type": "subslide"
    }
   },
   "source": [
    "Vidimo da ciljamo ispravne stupce. Sad možemo eksperimentirati s `mutate_at`."
   ]
  },
  {
   "cell_type": "code",
   "execution_count": 71,
   "metadata": {},
   "outputs": [
    {
     "name": "stdout",
     "output_type": "stream",
     "text": [
      "Classes ‘tbl_df’, ‘tbl’ and 'data.frame':\t100 obs. of  7 variables:\n",
      " $ pi_age              : int  3 20 20 19 22 25 23 41 16 17 ...\n",
      " $ pi_education        : Factor w/ 6 levels \"Elementary School\",..: 5 3 2 3 3 3 5 3 6 5 ...\n",
      " $ pi_gender           : Factor w/ 2 levels \"Female\",\"Male\": 2 2 2 2 1 2 1 2 2 1 ...\n",
      " $ pi_ideology         : Factor w/ 7 levels \"Extremely conservative (right)\",..: 3 7 3 7 7 7 5 5 3 7 ...\n",
      " $ pi_income           : Factor w/ 5 levels \"About the average\",..: 5 4 4 4 4 4 4 4 4 5 ...\n",
      " $ pi_nationality      : Factor w/ 16 levels \"American\",\"Asian american\",..: 1 15 9 12 13 15 1 14 7 5 ...\n",
      " $ pi_previousDonations: Factor w/ 4 levels \"Never\",\"Often\",..: 3 4 3 3 4 4 4 2 2 3 ...\n"
     ]
    }
   ],
   "source": [
    "podaci %>%\n",
    "dplyr::mutate_at(.,\n",
    "                # varijable koje želimo zahvatiti treba omotati u\n",
    "                # funkciju vars; ona prima iste pomoćne funkcije kao\n",
    "                # i select\n",
    "                .vars = dplyr::vars(dplyr::starts_with('pi'), -pi_age),\n",
    "                .fun = as.factor) %>%\n",
    "# ovaj dio je samo radi prikazivanja\n",
    "dplyr::select(., starts_with('pi')) %>%\n",
    "str(.)"
   ]
  },
  {
   "cell_type": "markdown",
   "metadata": {
    "slideshow": {
     "slide_type": "skip"
    }
   },
   "source": [
    "Zadovoljni smo outputom, pa možemo malko modificirati kod i spremiti promjene."
   ]
  },
  {
   "cell_type": "code",
   "execution_count": 72,
   "metadata": {
    "slideshow": {
     "slide_type": "subslide"
    }
   },
   "outputs": [],
   "source": [
    "podaci %<>%\n",
    "dplyr::mutate_at(.,\n",
    "                .vars = dplyr::vars(dplyr::starts_with('pi'), -pi_age),\n",
    "                .fun = as.factor)"
   ]
  },
  {
   "cell_type": "code",
   "execution_count": null,
   "metadata": {
    "slideshow": {
     "slide_type": "fragment"
    }
   },
   "outputs": [],
   "source": [
    "str(podaci)"
   ]
  },
  {
   "cell_type": "markdown",
   "metadata": {
    "slideshow": {
     "slide_type": "subslide"
    }
   },
   "source": [
    "Ako sad pozovemo `summary`, dobit ćemo korisnije rezultate."
   ]
  },
  {
   "cell_type": "code",
   "execution_count": 73,
   "metadata": {},
   "outputs": [
    {
     "data": {
      "text/plain": [
       "                               pi_education  pi_gender \n",
       " Elementary School                   : 1    Female:45  \n",
       " High school                         :23    Male  :55  \n",
       " Master's degree                     :24               \n",
       " PhD or higher                       : 1               \n",
       " Some professional diploma, no degree:19               \n",
       " The baccalaureate                   :32               \n",
       "                                                       \n",
       "                          pi_ideology                      pi_income \n",
       " Extremely conservative (right) : 1   About the average         :17  \n",
       " Extremely liberal (left)       :17   Much above the average    : 9  \n",
       " Neither liberal or conservative:12   Much below the average    : 8  \n",
       " Somewhat conservative (right)  :10   Somewhat above the average:47  \n",
       " Somewhat liberal (left)        :24   Somewhat below the average:19  \n",
       " Very conservative (right)      : 2                                  \n",
       " Very liberal (left)            :34                                  \n",
       "                  pi_nationality pi_previousDonations\n",
       " American                :24     Never    : 8        \n",
       " USA                     :24     Often    :31        \n",
       " Canadian                :13     Rarely   :40        \n",
       " British                 :11     Regularly:21        \n",
       " United States           : 9                         \n",
       " united states of america: 3                         \n",
       " (Other)                 :16                         "
      ]
     },
     "metadata": {},
     "output_type": "display_data"
    }
   ],
   "source": [
    "podaci %>%\n",
    "dplyr::select(., dplyr::starts_with('pi_'), -pi_age) %>%\n",
    "summary(.)"
   ]
  },
  {
   "cell_type": "markdown",
   "metadata": {
    "slideshow": {
     "slide_type": "subslide"
    }
   },
   "source": [
    "Gledajući output ove funkcije, primjećujemo da su pojedine vrijednosti prilično dugačke (npr. Some professional diploma, no degree)."
   ]
  },
  {
   "cell_type": "markdown",
   "metadata": {
    "slideshow": {
     "slide_type": "fragment"
    }
   },
   "source": [
    "Koristeći `forcats` paket (dio `tidyversea`), vrlo lako možemo rekodirati te vrijednosti. Za početak, da bismo si uskratili nešto tipkanja, možemo pozvati funkciju `dput` kako bismo dobili reprezentaciju razina faktora koju možemo kopipejstati."
   ]
  },
  {
   "cell_type": "code",
   "execution_count": 74,
   "metadata": {
    "slideshow": {
     "slide_type": "fragment"
    }
   },
   "outputs": [
    {
     "name": "stdout",
     "output_type": "stream",
     "text": [
      "c(\"Elementary School\", \"High school\", \"Master's degree\", \"PhD or higher\", \n",
      "\"Some professional diploma, no degree\", \"The baccalaureate\")\n"
     ]
    }
   ],
   "source": [
    "podaci$pi_education %>% levels(.) %>% dput(.)"
   ]
  },
  {
   "cell_type": "code",
   "execution_count": 75,
   "metadata": {
    "slideshow": {
     "slide_type": "fragment"
    }
   },
   "outputs": [
    {
     "name": "stdout",
     "output_type": "stream",
     "text": [
      " [1] Some professional diploma, no degree Master's degree                     \n",
      " [3] High school                          Master's degree                     \n",
      " [5] Master's degree                      Master's degree                     \n",
      " [7] Some professional diploma, no degree Master's degree                     \n",
      " [9] The baccalaureate                    Some professional diploma, no degree\n",
      "6 Levels: Elementary School High school Master's degree ... The baccalaureate\n",
      " [1] prof-dip masters  hi-sch   masters  masters  masters  prof-dip masters \n",
      " [9] bac      prof-dip\n",
      "Levels: elem-sch hi-sch masters phd prof-dip bac\n"
     ]
    }
   ],
   "source": [
    "podaci$pi_education %>%\n",
    "head(., 10) %T>% print(.) %>%\n",
    "forcats::fct_recode(., 'elem-sch' = \"Elementary School\", 'hi-sch' = \"High school\",\n",
    "                    'masters' = \"Master's degree\", 'phd' = \"PhD or higher\", \n",
    "                    'prof-dip' = \"Some professional diploma, no degree\", \n",
    "                    'bac' = \"The baccalaureate\") %>% print(.)"
   ]
  },
  {
   "cell_type": "markdown",
   "metadata": {
    "slideshow": {
     "slide_type": "skip"
    }
   },
   "source": [
    "Kratko pojašnjenje: uzimamo samo varijablu `pi_education` te prvih 10 unosa (`head`). Usput pozivamo `print` (s T-pipom!) kako bismo ispisali izvornih 10 vrijednosti. Varijablu s tih 10 vrijednosti šaljemo u `fct_recode`, gdje rekodiramo razine. Naposljetku, pozivamo `print` kako bismo ispisali nove vrijednosti (`print` ovdje nije potreban, tu je samo zato da bi se output izjednačio onom koji dobivamo nakon prvog poziva; to je specifičnost Jupyter Notebooka)."
   ]
  },
  {
   "cell_type": "markdown",
   "metadata": {
    "slideshow": {
     "slide_type": "subslide"
    }
   },
   "source": [
    "Sad kad smo zadovoljni outputom, možemo maknuti nepotrebne dijelove i upisati promjenu."
   ]
  },
  {
   "cell_type": "code",
   "execution_count": 76,
   "metadata": {},
   "outputs": [],
   "source": [
    "podaci$pi_education %<>%\n",
    "forcats::fct_recode(., 'elem-sch' = \"Elementary School\", 'hi-sch' = \"High school\",\n",
    "                    'masters' = \"Master's degree\", 'phd' = \"PhD or higher\", \n",
    "                    'prof-dip' = \"Some professional diploma, no degree\", \n",
    "                    'bac' = \"The baccalaureate\")"
   ]
  },
  {
   "cell_type": "code",
   "execution_count": 77,
   "metadata": {
    "slideshow": {
     "slide_type": "fragment"
    }
   },
   "outputs": [
    {
     "data": {
      "text/html": [
       "<ol class=list-inline>\n",
       "\t<li>'elem-sch'</li>\n",
       "\t<li>'hi-sch'</li>\n",
       "\t<li>'masters'</li>\n",
       "\t<li>'phd'</li>\n",
       "\t<li>'prof-dip'</li>\n",
       "\t<li>'bac'</li>\n",
       "</ol>\n"
      ],
      "text/latex": [
       "\\begin{enumerate*}\n",
       "\\item 'elem-sch'\n",
       "\\item 'hi-sch'\n",
       "\\item 'masters'\n",
       "\\item 'phd'\n",
       "\\item 'prof-dip'\n",
       "\\item 'bac'\n",
       "\\end{enumerate*}\n"
      ],
      "text/markdown": [
       "1. 'elem-sch'\n",
       "2. 'hi-sch'\n",
       "3. 'masters'\n",
       "4. 'phd'\n",
       "5. 'prof-dip'\n",
       "6. 'bac'\n",
       "\n",
       "\n"
      ],
      "text/plain": [
       "[1] \"elem-sch\" \"hi-sch\"   \"masters\"  \"phd\"      \"prof-dip\" \"bac\"     "
      ]
     },
     "metadata": {},
     "output_type": "display_data"
    }
   ],
   "source": [
    "levels(podaci$pi_education)"
   ]
  },
  {
   "cell_type": "markdown",
   "metadata": {
    "slideshow": {
     "slide_type": "slide"
    }
   },
   "source": [
    "### Vježba"
   ]
  },
  {
   "cell_type": "markdown",
   "metadata": {
    "slideshow": {
     "slide_type": "-"
    }
   },
   "source": [
    "Pokušajte napraviti isto s varijablom `pi_income`.\n",
    "\n",
    "Rekodirajte razine tako da `avg` označava `About the average`, a razine ispod i iznad toga označite dodavanjem odgovarajućeg broja minusa odnosno pluseva na kraj (npr. `avg-` ili `avg++`."
   ]
  },
  {
   "cell_type": "code",
   "execution_count": 78,
   "metadata": {
    "slideshow": {
     "slide_type": "fragment"
    }
   },
   "outputs": [
    {
     "name": "stdout",
     "output_type": "stream",
     "text": [
      "c(\"About the average\", \"Much above the average\", \"Much below the average\", \n",
      "\"Somewhat above the average\", \"Somewhat below the average\")\n"
     ]
    }
   ],
   "source": [
    "podaci$pi_income %>% levels(.) %>% dput(.)"
   ]
  },
  {
   "cell_type": "code",
   "execution_count": 79,
   "metadata": {
    "slideshow": {
     "slide_type": "fragment"
    }
   },
   "outputs": [
    {
     "data": {
      "text/html": [
       "<ol class=list-inline>\n",
       "\t<li>avg-</li>\n",
       "\t<li>avg+</li>\n",
       "\t<li>avg+</li>\n",
       "\t<li>avg+</li>\n",
       "\t<li>avg+</li>\n",
       "\t<li>avg+</li>\n",
       "\t<li>avg+</li>\n",
       "\t<li>avg+</li>\n",
       "\t<li>avg+</li>\n",
       "\t<li>avg-</li>\n",
       "\t<li>avg+</li>\n",
       "\t<li>avg+</li>\n",
       "\t<li>avg+</li>\n",
       "\t<li>avg+</li>\n",
       "\t<li>avg++</li>\n",
       "\t<li>avg-</li>\n",
       "\t<li>avg+</li>\n",
       "\t<li>avg</li>\n",
       "\t<li>avg+</li>\n",
       "\t<li>avg++</li>\n",
       "\t<li>avg--</li>\n",
       "\t<li>avg+</li>\n",
       "\t<li>avg+</li>\n",
       "\t<li>avg</li>\n",
       "\t<li>avg+</li>\n",
       "\t<li>avg-</li>\n",
       "\t<li>avg+</li>\n",
       "\t<li>avg--</li>\n",
       "\t<li>avg++</li>\n",
       "\t<li>avg-</li>\n",
       "\t<li>avg--</li>\n",
       "\t<li>avg-</li>\n",
       "\t<li>avg+</li>\n",
       "\t<li>avg</li>\n",
       "\t<li>avg--</li>\n",
       "\t<li>avg+</li>\n",
       "\t<li>avg-</li>\n",
       "\t<li>avg+</li>\n",
       "\t<li>avg++</li>\n",
       "\t<li>avg</li>\n",
       "\t<li>avg-</li>\n",
       "\t<li>avg-</li>\n",
       "\t<li>avg+</li>\n",
       "\t<li>avg+</li>\n",
       "\t<li>avg</li>\n",
       "\t<li>avg+</li>\n",
       "\t<li>avg++</li>\n",
       "\t<li>avg-</li>\n",
       "\t<li>avg+</li>\n",
       "\t<li>avg+</li>\n",
       "\t<li>avg+</li>\n",
       "\t<li>avg++</li>\n",
       "\t<li>avg+</li>\n",
       "\t<li>avg-</li>\n",
       "\t<li>avg--</li>\n",
       "\t<li>avg+</li>\n",
       "\t<li>avg</li>\n",
       "\t<li>avg</li>\n",
       "\t<li>avg+</li>\n",
       "\t<li>avg+</li>\n",
       "\t<li>avg--</li>\n",
       "\t<li>avg+</li>\n",
       "\t<li>avg</li>\n",
       "\t<li>avg</li>\n",
       "\t<li>avg-</li>\n",
       "\t<li>avg</li>\n",
       "\t<li>avg+</li>\n",
       "\t<li>avg+</li>\n",
       "\t<li>avg+</li>\n",
       "\t<li>avg++</li>\n",
       "\t<li>avg+</li>\n",
       "\t<li>avg</li>\n",
       "\t<li>avg</li>\n",
       "\t<li>avg</li>\n",
       "\t<li>avg--</li>\n",
       "\t<li>avg-</li>\n",
       "\t<li>avg+</li>\n",
       "\t<li>avg+</li>\n",
       "\t<li>avg-</li>\n",
       "\t<li>avg-</li>\n",
       "\t<li>avg++</li>\n",
       "\t<li>avg+</li>\n",
       "\t<li>avg</li>\n",
       "\t<li>avg+</li>\n",
       "\t<li>avg</li>\n",
       "\t<li>avg</li>\n",
       "\t<li>avg+</li>\n",
       "\t<li>avg+</li>\n",
       "\t<li>avg+</li>\n",
       "\t<li>avg+</li>\n",
       "\t<li>avg--</li>\n",
       "\t<li>avg-</li>\n",
       "\t<li>avg-</li>\n",
       "\t<li>avg-</li>\n",
       "\t<li>avg+</li>\n",
       "\t<li>avg</li>\n",
       "\t<li>avg++</li>\n",
       "\t<li>avg+</li>\n",
       "\t<li>avg-</li>\n",
       "\t<li>avg+</li>\n",
       "</ol>\n",
       "\n",
       "<details>\n",
       "\t<summary style=display:list-item;cursor:pointer>\n",
       "\t\t<strong>Levels</strong>:\n",
       "\t</summary>\n",
       "\t<ol class=list-inline>\n",
       "\t\t<li>'avg'</li>\n",
       "\t\t<li>'avg++'</li>\n",
       "\t\t<li>'avg--'</li>\n",
       "\t\t<li>'avg+'</li>\n",
       "\t\t<li>'avg-'</li>\n",
       "\t</ol>\n",
       "</details>"
      ],
      "text/latex": [
       "\\begin{enumerate*}\n",
       "\\item avg-\n",
       "\\item avg+\n",
       "\\item avg+\n",
       "\\item avg+\n",
       "\\item avg+\n",
       "\\item avg+\n",
       "\\item avg+\n",
       "\\item avg+\n",
       "\\item avg+\n",
       "\\item avg-\n",
       "\\item avg+\n",
       "\\item avg+\n",
       "\\item avg+\n",
       "\\item avg+\n",
       "\\item avg++\n",
       "\\item avg-\n",
       "\\item avg+\n",
       "\\item avg\n",
       "\\item avg+\n",
       "\\item avg++\n",
       "\\item avg--\n",
       "\\item avg+\n",
       "\\item avg+\n",
       "\\item avg\n",
       "\\item avg+\n",
       "\\item avg-\n",
       "\\item avg+\n",
       "\\item avg--\n",
       "\\item avg++\n",
       "\\item avg-\n",
       "\\item avg--\n",
       "\\item avg-\n",
       "\\item avg+\n",
       "\\item avg\n",
       "\\item avg--\n",
       "\\item avg+\n",
       "\\item avg-\n",
       "\\item avg+\n",
       "\\item avg++\n",
       "\\item avg\n",
       "\\item avg-\n",
       "\\item avg-\n",
       "\\item avg+\n",
       "\\item avg+\n",
       "\\item avg\n",
       "\\item avg+\n",
       "\\item avg++\n",
       "\\item avg-\n",
       "\\item avg+\n",
       "\\item avg+\n",
       "\\item avg+\n",
       "\\item avg++\n",
       "\\item avg+\n",
       "\\item avg-\n",
       "\\item avg--\n",
       "\\item avg+\n",
       "\\item avg\n",
       "\\item avg\n",
       "\\item avg+\n",
       "\\item avg+\n",
       "\\item avg--\n",
       "\\item avg+\n",
       "\\item avg\n",
       "\\item avg\n",
       "\\item avg-\n",
       "\\item avg\n",
       "\\item avg+\n",
       "\\item avg+\n",
       "\\item avg+\n",
       "\\item avg++\n",
       "\\item avg+\n",
       "\\item avg\n",
       "\\item avg\n",
       "\\item avg\n",
       "\\item avg--\n",
       "\\item avg-\n",
       "\\item avg+\n",
       "\\item avg+\n",
       "\\item avg-\n",
       "\\item avg-\n",
       "\\item avg++\n",
       "\\item avg+\n",
       "\\item avg\n",
       "\\item avg+\n",
       "\\item avg\n",
       "\\item avg\n",
       "\\item avg+\n",
       "\\item avg+\n",
       "\\item avg+\n",
       "\\item avg+\n",
       "\\item avg--\n",
       "\\item avg-\n",
       "\\item avg-\n",
       "\\item avg-\n",
       "\\item avg+\n",
       "\\item avg\n",
       "\\item avg++\n",
       "\\item avg+\n",
       "\\item avg-\n",
       "\\item avg+\n",
       "\\end{enumerate*}\n",
       "\n",
       "\\emph{Levels}: \\begin{enumerate*}\n",
       "\\item 'avg'\n",
       "\\item 'avg++'\n",
       "\\item 'avg--'\n",
       "\\item 'avg+'\n",
       "\\item 'avg-'\n",
       "\\end{enumerate*}\n"
      ],
      "text/markdown": [
       "1. avg-\n",
       "2. avg+\n",
       "3. avg+\n",
       "4. avg+\n",
       "5. avg+\n",
       "6. avg+\n",
       "7. avg+\n",
       "8. avg+\n",
       "9. avg+\n",
       "10. avg-\n",
       "11. avg+\n",
       "12. avg+\n",
       "13. avg+\n",
       "14. avg+\n",
       "15. avg++\n",
       "16. avg-\n",
       "17. avg+\n",
       "18. avg\n",
       "19. avg+\n",
       "20. avg++\n",
       "21. avg--\n",
       "22. avg+\n",
       "23. avg+\n",
       "24. avg\n",
       "25. avg+\n",
       "26. avg-\n",
       "27. avg+\n",
       "28. avg--\n",
       "29. avg++\n",
       "30. avg-\n",
       "31. avg--\n",
       "32. avg-\n",
       "33. avg+\n",
       "34. avg\n",
       "35. avg--\n",
       "36. avg+\n",
       "37. avg-\n",
       "38. avg+\n",
       "39. avg++\n",
       "40. avg\n",
       "41. avg-\n",
       "42. avg-\n",
       "43. avg+\n",
       "44. avg+\n",
       "45. avg\n",
       "46. avg+\n",
       "47. avg++\n",
       "48. avg-\n",
       "49. avg+\n",
       "50. avg+\n",
       "51. avg+\n",
       "52. avg++\n",
       "53. avg+\n",
       "54. avg-\n",
       "55. avg--\n",
       "56. avg+\n",
       "57. avg\n",
       "58. avg\n",
       "59. avg+\n",
       "60. avg+\n",
       "61. avg--\n",
       "62. avg+\n",
       "63. avg\n",
       "64. avg\n",
       "65. avg-\n",
       "66. avg\n",
       "67. avg+\n",
       "68. avg+\n",
       "69. avg+\n",
       "70. avg++\n",
       "71. avg+\n",
       "72. avg\n",
       "73. avg\n",
       "74. avg\n",
       "75. avg--\n",
       "76. avg-\n",
       "77. avg+\n",
       "78. avg+\n",
       "79. avg-\n",
       "80. avg-\n",
       "81. avg++\n",
       "82. avg+\n",
       "83. avg\n",
       "84. avg+\n",
       "85. avg\n",
       "86. avg\n",
       "87. avg+\n",
       "88. avg+\n",
       "89. avg+\n",
       "90. avg+\n",
       "91. avg--\n",
       "92. avg-\n",
       "93. avg-\n",
       "94. avg-\n",
       "95. avg+\n",
       "96. avg\n",
       "97. avg++\n",
       "98. avg+\n",
       "99. avg-\n",
       "100. avg+\n",
       "\n",
       "\n",
       "\n",
       "**Levels**: 1. 'avg'\n",
       "2. 'avg++'\n",
       "3. 'avg--'\n",
       "4. 'avg+'\n",
       "5. 'avg-'\n",
       "\n",
       "\n"
      ],
      "text/plain": [
       "  [1] avg-  avg+  avg+  avg+  avg+  avg+  avg+  avg+  avg+  avg-  avg+  avg+ \n",
       " [13] avg+  avg+  avg++ avg-  avg+  avg   avg+  avg++ avg-- avg+  avg+  avg  \n",
       " [25] avg+  avg-  avg+  avg-- avg++ avg-  avg-- avg-  avg+  avg   avg-- avg+ \n",
       " [37] avg-  avg+  avg++ avg   avg-  avg-  avg+  avg+  avg   avg+  avg++ avg- \n",
       " [49] avg+  avg+  avg+  avg++ avg+  avg-  avg-- avg+  avg   avg   avg+  avg+ \n",
       " [61] avg-- avg+  avg   avg   avg-  avg   avg+  avg+  avg+  avg++ avg+  avg  \n",
       " [73] avg   avg   avg-- avg-  avg+  avg+  avg-  avg-  avg++ avg+  avg   avg+ \n",
       " [85] avg   avg   avg+  avg+  avg+  avg+  avg-- avg-  avg-  avg-  avg+  avg  \n",
       " [97] avg++ avg+  avg-  avg+ \n",
       "Levels: avg avg++ avg-- avg+ avg-"
      ]
     },
     "metadata": {},
     "output_type": "display_data"
    }
   ],
   "source": [
    "podaci$pi_income %>%\n",
    "forcats::fct_recode(., 'avg' = \"About the average\",\n",
    "                    'avg++' = \"Much above the average\",\n",
    "                    'avg--' = \"Much below the average\", \n",
    "                    'avg+' = \"Somewhat above the average\",\n",
    "                    'avg-' = \"Somewhat below the average\")"
   ]
  },
  {
   "cell_type": "markdown",
   "metadata": {
    "slideshow": {
     "slide_type": "subslide"
    }
   },
   "source": [
    "Ovdje možemo primijetiti da je redoslijed razina podosta besmislen, tako da ćemo ih izvrtiti tako da idu od najniže do najviše.\n",
    "\n",
    "Zahvaljujući pipama, sve možemo napraviti u jednom koraku."
   ]
  },
  {
   "cell_type": "code",
   "execution_count": 80,
   "metadata": {
    "slideshow": {
     "slide_type": "fragment"
    }
   },
   "outputs": [
    {
     "name": "stdout",
     "output_type": "stream",
     "text": [
      " [1] Much below the average     Somewhat below the average\n",
      " [3] Somewhat below the average Somewhat below the average\n",
      " [5] Somewhat above the average About the average         \n",
      " [7] Much above the average     Somewhat above the average\n",
      " [9] Somewhat below the average Somewhat above the average\n",
      "5 Levels: About the average Much above the average ... Somewhat below the average\n",
      " [1] avg-- avg-  avg-  avg-  avg+  avg   avg++ avg+  avg-  avg+ \n",
      "Levels: avg-- < avg- < avg < avg+ < avg++\n"
     ]
    }
   ],
   "source": [
    "podaci$pi_income %>%\n",
    "tail(., 10) %T>% print(.) %>%\n",
    "forcats::fct_recode(., 'avg' = \"About the average\",\n",
    "                    'avg++' = \"Much above the average\",\n",
    "                    'avg--' = \"Much below the average\", \n",
    "                    'avg+' = \"Somewhat above the average\",\n",
    "                    'avg-' = \"Somewhat below the average\") %>%\n",
    "# redoslijed razina možemo mijenjati koristeći fct_relevel\n",
    "forcats::fct_relevel(., 'avg--', 'avg-', 'avg', 'avg+', 'avg++') %>%\n",
    "# još ćemo faktor pretvoriti u ordered\n",
    "factor(., ordered = T) %>%\n",
    "tail(., 10) %>% print(.)"
   ]
  },
  {
   "cell_type": "markdown",
   "metadata": {
    "slideshow": {
     "slide_type": "subslide"
    }
   },
   "source": [
    "Vidimo da smo pogodili, pa ćemo maknuti nepotrebne dijelove koda i spremiti promjene."
   ]
  },
  {
   "cell_type": "code",
   "execution_count": 81,
   "metadata": {},
   "outputs": [],
   "source": [
    "podaci$pi_income %<>%\n",
    "forcats::fct_recode(., 'avg' = \"About the average\",\n",
    "                    'avg++' = \"Much above the average\",\n",
    "                    'avg--' = \"Much below the average\", \n",
    "                    'avg+' = \"Somewhat above the average\",\n",
    "                    'avg-' = \"Somewhat below the average\") %>%\n",
    "forcats::fct_relevel(., 'avg--', 'avg-', 'avg', 'avg+', 'avg++') %>%\n",
    "factor(., ordered = T)"
   ]
  },
  {
   "cell_type": "code",
   "execution_count": null,
   "metadata": {
    "slideshow": {
     "slide_type": "fragment"
    }
   },
   "outputs": [],
   "source": [
    "str(podaci$pi_income)"
   ]
  },
  {
   "cell_type": "markdown",
   "metadata": {
    "slideshow": {
     "slide_type": "subslide"
    }
   },
   "source": [
    "Nećemo prolaziti kroz rekodiranje svih faktora, ali hoćemo proći kroz rekodiranje nacionalnosti, zato jer nam to daje mogućnost da se igramo sa stringovima i regularnim izrazima."
   ]
  },
  {
   "cell_type": "markdown",
   "metadata": {
    "slideshow": {
     "slide_type": "slide"
    }
   },
   "source": [
    "### Kodiranje nacionalnosti (pitanje otvorenog tipa)"
   ]
  },
  {
   "cell_type": "markdown",
   "metadata": {},
   "source": [
    "Pitanje o nacionalnosti bilo je otvorenog tipa, tako da ista nacionalnost može biti reprezentirana na različite načine."
   ]
  },
  {
   "cell_type": "code",
   "execution_count": 82,
   "metadata": {
    "slideshow": {
     "slide_type": "-"
    }
   },
   "outputs": [
    {
     "data": {
      "text/html": [
       "<ol class=list-inline>\n",
       "\t<li>American</li>\n",
       "\t<li>USA</li>\n",
       "\t<li>Turkish</li>\n",
       "\t<li>United States of America</li>\n",
       "\t<li>US</li>\n",
       "\t<li>USA</li>\n",
       "</ol>\n",
       "\n",
       "<details>\n",
       "\t<summary style=display:list-item;cursor:pointer>\n",
       "\t\t<strong>Levels</strong>:\n",
       "\t</summary>\n",
       "\t<ol class=list-inline>\n",
       "\t\t<li>'American'</li>\n",
       "\t\t<li>'Asian american'</li>\n",
       "\t\t<li>'Australian'</li>\n",
       "\t\t<li>'British'</li>\n",
       "\t\t<li>'Canadian'</li>\n",
       "\t\t<li>'Dutch'</li>\n",
       "\t\t<li>'French'</li>\n",
       "\t\t<li>'Seychelles'</li>\n",
       "\t\t<li>'Turkish'</li>\n",
       "\t\t<li>'United States'</li>\n",
       "\t\t<li>'united states of america'</li>\n",
       "\t\t<li>'United States of America'</li>\n",
       "\t\t<li>'US'</li>\n",
       "\t\t<li>'Usa'</li>\n",
       "\t\t<li>'USA'</li>\n",
       "\t\t<li>'White'</li>\n",
       "\t</ol>\n",
       "</details>"
      ],
      "text/latex": [
       "\\begin{enumerate*}\n",
       "\\item American\n",
       "\\item USA\n",
       "\\item Turkish\n",
       "\\item United States of America\n",
       "\\item US\n",
       "\\item USA\n",
       "\\end{enumerate*}\n",
       "\n",
       "\\emph{Levels}: \\begin{enumerate*}\n",
       "\\item 'American'\n",
       "\\item 'Asian american'\n",
       "\\item 'Australian'\n",
       "\\item 'British'\n",
       "\\item 'Canadian'\n",
       "\\item 'Dutch'\n",
       "\\item 'French'\n",
       "\\item 'Seychelles'\n",
       "\\item 'Turkish'\n",
       "\\item 'United States'\n",
       "\\item 'united states of america'\n",
       "\\item 'United States of America'\n",
       "\\item 'US'\n",
       "\\item 'Usa'\n",
       "\\item 'USA'\n",
       "\\item 'White'\n",
       "\\end{enumerate*}\n"
      ],
      "text/markdown": [
       "1. American\n",
       "2. USA\n",
       "3. Turkish\n",
       "4. United States of America\n",
       "5. US\n",
       "6. USA\n",
       "\n",
       "\n",
       "\n",
       "**Levels**: 1. 'American'\n",
       "2. 'Asian american'\n",
       "3. 'Australian'\n",
       "4. 'British'\n",
       "5. 'Canadian'\n",
       "6. 'Dutch'\n",
       "7. 'French'\n",
       "8. 'Seychelles'\n",
       "9. 'Turkish'\n",
       "10. 'United States'\n",
       "11. 'united states of america'\n",
       "12. 'United States of America'\n",
       "13. 'US'\n",
       "14. 'Usa'\n",
       "15. 'USA'\n",
       "16. 'White'\n",
       "\n",
       "\n"
      ],
      "text/plain": [
       "[1] American                 USA                      Turkish                 \n",
       "[4] United States of America US                       USA                     \n",
       "16 Levels: American Asian american Australian British Canadian Dutch ... White"
      ]
     },
     "metadata": {},
     "output_type": "display_data"
    }
   ],
   "source": [
    "podaci$pi_nationality %>% head(.)"
   ]
  },
  {
   "cell_type": "markdown",
   "metadata": {
    "slideshow": {
     "slide_type": "fragment"
    }
   },
   "source": [
    "Već u prvih 6 unosa vidimo da se javljaju \"US\", \"USA\", \"United States of America\" te \"American\", što sve označava istu nacionalnost. Koristeći regularne izraze i funkciju `case_when`, lako možemo grupirati različite unose."
   ]
  },
  {
   "cell_type": "markdown",
   "metadata": {
    "slideshow": {
     "slide_type": "subslide"
    }
   },
   "source": [
    "Za početak, iskoristit ćemo funkciju `tolower` kako bismo sve stringove pretvorili u mala slova (tako da ne moramo paziti na to da su \"american\" i \"American\" različiti unosi) te funkciju `str_trim`, koja će ukloniti razmake s početka i kraja stringova (jer je moguće da je netko unio \"American\", a netko \"American \")."
   ]
  },
  {
   "cell_type": "code",
   "execution_count": 83,
   "metadata": {
    "slideshow": {
     "slide_type": "fragment"
    }
   },
   "outputs": [],
   "source": [
    "podaci$pi_nationality %<>% tolower(.) %>% stringr::str_trim(.)"
   ]
  },
  {
   "cell_type": "code",
   "execution_count": null,
   "metadata": {},
   "outputs": [],
   "source": [
    "head(podaci$pi_nationality)"
   ]
  },
  {
   "cell_type": "markdown",
   "metadata": {
    "slideshow": {
     "slide_type": "subslide"
    }
   },
   "source": [
    "Ok. Za početak, možemo pozvati `table` da dobijemo pregled frekvencija po faktorima, te `sort` kako bismo ih poredali od najučestalijih do najrjeđih."
   ]
  },
  {
   "cell_type": "code",
   "execution_count": 84,
   "metadata": {},
   "outputs": [
    {
     "data": {
      "text/plain": [
       "\n",
       "                     usa                 american                 canadian \n",
       "                      26                       24                       13 \n",
       "                 british            united states united states of america \n",
       "                      11                        9                        5 \n",
       "              australian                   french               seychelles \n",
       "                       2                        2                        2 \n",
       "                      us           asian american                    dutch \n",
       "                       2                        1                        1 \n",
       "                 turkish                    white \n",
       "                       1                        1 "
      ]
     },
     "metadata": {},
     "output_type": "display_data"
    }
   ],
   "source": [
    "table(podaci$pi_nationality) %>% sort(., decreasing = T)"
   ]
  },
  {
   "cell_type": "markdown",
   "metadata": {
    "slideshow": {
     "slide_type": "skip"
    }
   },
   "source": [
    "Budući da ovdje imamo samo 100 sudionika i razmjerno malo različitih nacionalnosti, rekodiranje je lako."
   ]
  },
  {
   "cell_type": "markdown",
   "metadata": {
    "slideshow": {
     "slide_type": "subslide"
    }
   },
   "source": [
    "Za kodiranje nacionalnosti koristit ćemo funkciju `case_when`, koja nam omogućuje da specificiramo neki logički izraz (dakle, nešto što kao rezultat vraća `TRUE` ili `FALSE`) i akciju koju treba napraviti u `TRUE` slučaju.\n",
    "\n",
    "`case_when` za argumente prima logičke izraze i akcije odvojene tildom (`~`), pa pozivanje funkcije izgleda ovako:\n",
    "\n",
    "```\n",
    "case_when(logički-izraz ~ akcija-ako-TRUE,\n",
    "          logički-izraz-2 ~ akcija-ako-TRUE-2)\n",
    "          ```"
   ]
  },
  {
   "cell_type": "code",
   "execution_count": null,
   "metadata": {
    "slideshow": {
     "slide_type": "subslide"
    }
   },
   "outputs": [],
   "source": [
    "podaci$pi_nationality %>%\n",
    "# case_when ovdje moramo obaviti u {} jer inače dobijemo error\n",
    "{dplyr::case_when(stringr::str_detect(., 'usa?|american|united states.*|\\\\w+ americ') ~ 'american',\n",
    "           str_detect(., 'dutch|french') ~ 'fr-nl',\n",
    "           str_detect(., 'seychelles|turkish|white') ~ 'other',\n",
    "           # akciju u svim nespecificiranim slučajevima određujemo\n",
    "           # tako da stavimo TRUE ~ akcija. ovdje kao akciju stavljamo\n",
    "           # točku, što znači da taj unos treba ostaviti onakvim\n",
    "           # kakav je\n",
    "           TRUE ~ .)} %>% table(.)"
   ]
  },
  {
   "cell_type": "code",
   "execution_count": 85,
   "metadata": {
    "slideshow": {
     "slide_type": "fragment"
    }
   },
   "outputs": [],
   "source": [
    "podaci$pi_nationality %<>%\n",
    "{dplyr::case_when(stringr::str_detect(., 'usa?|american|united states.*|\\\\w+ americ') ~ 'american',\n",
    "           str_detect(., 'dutch|french') ~ 'fr-nl',\n",
    "           str_detect(., 'seychelles|turkish|white') ~ 'other',\n",
    "           TRUE ~ .)} %>%\n",
    "as.factor(.)"
   ]
  },
  {
   "cell_type": "markdown",
   "metadata": {
    "slideshow": {
     "slide_type": "slide"
    }
   },
   "source": [
    "### Preimenovanje varijabli"
   ]
  },
  {
   "cell_type": "markdown",
   "metadata": {},
   "source": [
    "Nekad su imena varijabli jako nezgrapna, neinformativna, mutava i slično. Budući da ćete se prije ili poslije susresti s takvim imenima, proći ćemo kroz nekoliko načina za mijenjanje imena varijabli."
   ]
  },
  {
   "cell_type": "markdown",
   "metadata": {
    "slideshow": {
     "slide_type": "subslide"
    }
   },
   "source": [
    "Ako želimo promijeniti imena manjeg broja varijabli, možemo koristiti funkciju `rename`. Na primjer, varijable `charitableBehavior01` i `charitableBehavior02` ne govore ništa o tome što su. Jedna je namjera doniranja novca, a druga namjera doniranja vremena. Stoga, preimenovat ćemo ih u `donationMoney` i `donationTime`."
   ]
  },
  {
   "cell_type": "code",
   "execution_count": null,
   "metadata": {
    "slideshow": {
     "slide_type": "fragment"
    }
   },
   "outputs": [],
   "source": [
    "podaci %>%\n",
    "dplyr::select(10:11) %>%\n",
    "colnames(.)"
   ]
  },
  {
   "cell_type": "code",
   "execution_count": 86,
   "metadata": {
    "slideshow": {
     "slide_type": "fragment"
    }
   },
   "outputs": [],
   "source": [
    "podaci %<>%\n",
    "dplyr::rename(., donationMoney = charitableBehavior01,\n",
    "      donationTime = charitableBehavior02)"
   ]
  },
  {
   "cell_type": "code",
   "execution_count": 87,
   "metadata": {
    "slideshow": {
     "slide_type": "fragment"
    }
   },
   "outputs": [
    {
     "data": {
      "text/html": [
       "<ol class=list-inline>\n",
       "\t<li>'donationMoney'</li>\n",
       "\t<li>'donationTime'</li>\n",
       "</ol>\n"
      ],
      "text/latex": [
       "\\begin{enumerate*}\n",
       "\\item 'donationMoney'\n",
       "\\item 'donationTime'\n",
       "\\end{enumerate*}\n"
      ],
      "text/markdown": [
       "1. 'donationMoney'\n",
       "2. 'donationTime'\n",
       "\n",
       "\n"
      ],
      "text/plain": [
       "[1] \"donationMoney\" \"donationTime\" "
      ]
     },
     "metadata": {},
     "output_type": "display_data"
    }
   ],
   "source": [
    "podaci %>%\n",
    "dplyr::select(10:11) %>%\n",
    "colnames(.)"
   ]
  },
  {
   "cell_type": "markdown",
   "metadata": {
    "slideshow": {
     "slide_type": "subslide"
    }
   },
   "source": [
    "Ako trebamo preimenovati veći broj varijabli i ako smo te sreće da njihova imena možemo uhvatiti regularnim izrazima, možemo koristiti `str_replace`."
   ]
  },
  {
   "cell_type": "markdown",
   "metadata": {
    "slideshow": {
     "slide_type": "fragment"
    }
   },
   "source": [
    "Na primjer, imamo 32 varijable koje se zovu `moralFoundationsXX` i koje predstavljaju pitanja na Moral Foundations Questionnaireu. MFQ se sastoji od 5 faktora (authority, care, loyalty, fairness, sanctity) - svaki faktor reprezentiran je sa 6 pitanja. Osim toga, ima i dvije kontrolne čestice."
   ]
  },
  {
   "cell_type": "markdown",
   "metadata": {
    "slideshow": {
     "slide_type": "fragment"
    }
   },
   "source": [
    "Preimenovat ćemo varijable tako da na kraj imena svake od njih dodamo oznaku faktora kojoj pripada. Za to ćemo koristiti funkciju `str_replace`, koja nam omogućuje da neki obrazac definiran regexom zamijenimo nekim drugim stringom."
   ]
  },
  {
   "cell_type": "code",
   "execution_count": 88,
   "metadata": {
    "slideshow": {
     "slide_type": "fragment"
    }
   },
   "outputs": [
    {
     "data": {
      "text/html": [
       "<ol class=list-inline>\n",
       "\t<li>'borovica'</li>\n",
       "\t<li>'borar'</li>\n",
       "</ol>\n"
      ],
      "text/latex": [
       "\\begin{enumerate*}\n",
       "\\item 'borovica'\n",
       "\\item 'borar'\n",
       "\\end{enumerate*}\n"
      ],
      "text/markdown": [
       "1. 'borovica'\n",
       "2. 'borar'\n",
       "\n",
       "\n"
      ],
      "text/plain": [
       "[1] \"borovica\" \"borar\"   "
      ]
     },
     "metadata": {},
     "output_type": "display_data"
    }
   ],
   "source": [
    "qc(orahovica, orašar) %>%\n",
    "stringr::str_replace(., 'ora(h|š)', 'bor')"
   ]
  },
  {
   "cell_type": "markdown",
   "metadata": {
    "slideshow": {
     "slide_type": "subslide"
    }
   },
   "source": [
    "Sad ćemo vidjeti kako ovu funkciju možemo koristiti za preimenovati varijable."
   ]
  },
  {
   "cell_type": "code",
   "execution_count": null,
   "metadata": {},
   "outputs": [],
   "source": [
    "# dohvaćamo imena stupaca\n",
    "colnames(podaci) %>%\n",
    "# specificiramo stupce na kojima želimo izvršiti zamjenu\n",
    "stringr::str_replace(., pattern = '(moralFoundations)(01|07|12|17|23|28)',\n",
    "                     replacement = '\\\\1\\\\2_care') %>%\n",
    "# ovo je samo radi prikazivanja svih MFQ pitanja\n",
    "stringr::str_subset(., 'moralFoundations') %>% print(.)"
   ]
  },
  {
   "cell_type": "markdown",
   "metadata": {
    "slideshow": {
     "slide_type": "skip"
    }
   },
   "source": [
    "Vidimo da pitanja koja smo odredili sada imaju sufiks `_care`."
   ]
  },
  {
   "cell_type": "markdown",
   "metadata": {
    "slideshow": {
     "slide_type": "fragment"
    }
   },
   "source": [
    "U `replacement` argumentu smo iskoristili mogućnost referenciranja koju nam nudi grupiranje znakova u regularnim izrazima. Počevši s lijeva, svaku grupu definiranu pomoću `(...)` možemo dohvatiti pomoću `\\\\n`, gdje `n` označava redni broj grupe."
   ]
  },
  {
   "cell_type": "markdown",
   "metadata": {
    "slideshow": {
     "slide_type": "fragment"
    }
   },
   "source": [
    "Dakle, u gornjem primjeru se pri izvršavanju zamjene `\\\\1` širi u prvu pronađenu grupu (moralFoundations), a `\\\\2` u drugu pronađenu grupu (01, 07, 12, 17, 23 ili 28, ovisno o tome što je u pojedinom stringu pronađeno). Time dobivamo `moralFoundations01_care`, `moralFoundations07_care` itd."
   ]
  },
  {
   "cell_type": "markdown",
   "metadata": {
    "slideshow": {
     "slide_type": "subslide"
    }
   },
   "source": [
    "Kod ovakvog mijenjanja imena je zgodno to što nam se svaki put vraćaju imena svih stupaca - ako u imenu nekog stupca nije pronađen uzorak koji smo specificirali u `pattern`, ono ostaje netaknuto. Zbog toga, možemo napraviti lanac poziva `str_replace` pomoću pipa."
   ]
  },
  {
   "cell_type": "code",
   "execution_count": null,
   "metadata": {
    "slideshow": {
     "slide_type": "fragment"
    }
   },
   "outputs": [],
   "source": [
    "colnames(podaci) %>%\n",
    "    stringr::str_replace(., '(moralFoundations)(01|07|12|17|23|28)', '\\\\1\\\\2_care') %>%\n",
    "    str_replace(., '(moralFoundations)(02|08|13|18|24|29)', '\\\\1\\\\2_fair') %>%\n",
    "    str_replace(., '(moralFoundations)(03|09|14|19|25|30)', '\\\\1\\\\2_loyal') %>%\n",
    "    str_replace(., '(moralFoundations)(04|10|15|20|26|31)', '\\\\1\\\\2_author') %>%\n",
    "    str_replace(., '(moralFoundations)(05|11|16|21|27|32)', '\\\\1\\\\2_sanct') %>%\n",
    "    str_replace(., '(moralFoundations)(06|22)', '\\\\1\\\\2_control') %>%\n",
    "print(.)"
   ]
  },
  {
   "cell_type": "markdown",
   "metadata": {
    "slideshow": {
     "slide_type": "subslide"
    }
   },
   "source": [
    "Kad smo sigurni da dobivamo ono što očekujemo, samo promijenimo pipu `%>%` u `%<>%`."
   ]
  },
  {
   "cell_type": "code",
   "execution_count": null,
   "metadata": {},
   "outputs": [],
   "source": [
    "colnames(podaci) %<>%\n",
    "    str_replace(., '(moralFoundations)(01|07|12|17|23|28)', '\\\\1\\\\2_care') %>%\n",
    "    str_replace(., '(moralFoundations)(02|08|13|18|24|29)', '\\\\1\\\\2_fair') %>%\n",
    "    str_replace(., '(moralFoundations)(03|09|14|19|25|30)', '\\\\1\\\\2_loyal') %>%\n",
    "    str_replace(., '(moralFoundations)(04|10|15|20|26|31)', '\\\\1\\\\2_author') %>%\n",
    "    str_replace(., '(moralFoundations)(05|11|16|21|27|32)', '\\\\1\\\\2_sanct') %>%\n",
    "    str_replace(., '(moralFoundations)(06|22)', '\\\\1\\\\2_control')"
   ]
  },
  {
   "cell_type": "code",
   "execution_count": null,
   "metadata": {
    "slideshow": {
     "slide_type": "fragment"
    }
   },
   "outputs": [],
   "source": [
    "colnames(podaci) %>% print(.)"
   ]
  },
  {
   "cell_type": "markdown",
   "metadata": {
    "slideshow": {
     "slide_type": "subslide"
    }
   },
   "source": [
    "Varijable u ovom setu zapravo su dosta dobro imenovane. Neke nisu dovoljno jasne, ali imenovanje je sustavno, što uvelike olakšava baratnje podacima."
   ]
  },
  {
   "cell_type": "markdown",
   "metadata": {
    "slideshow": {
     "slide_type": "fragment"
    }
   },
   "source": [
    "Nekad (kad radite s podacima sa Survey Monkeyja, recimo) vjerojatno nećete imati toliko jasne slučajeve. Na primjer, ime varijable moglo bi biti `1. Molimo Vas, odaberite vaš ekonomski status`. Takva imena su pakao. Kad bismo tako imenovanu varijablu ubacili u R, dobili bismo nešto ružno."
   ]
  },
  {
   "cell_type": "code",
   "execution_count": null,
   "metadata": {
    "slideshow": {
     "slide_type": "subslide"
    }
   },
   "outputs": [],
   "source": [
    "ruzno <- data.frame('1. Molimo Vas, odaberite vaš ekonomski status:' = 1:5)\n",
    "print(ruzno)"
   ]
  },
  {
   "cell_type": "markdown",
   "metadata": {
    "slideshow": {
     "slide_type": "fragment"
    }
   },
   "source": [
    "Svaki razmak postao je točka, zarez i dvotočka također su postali točke, a imenu varijable dodan je prefiks `X` (jer ime varijable ne može započinjati brojem!).\n",
    "\n",
    "Možemo pozvati funkciju `clean_names` iz paketa `janitor`, koja će od ružnih imena napraviti nešto ljepša."
   ]
  },
  {
   "cell_type": "code",
   "execution_count": null,
   "metadata": {
    "slideshow": {
     "slide_type": "subslide"
    }
   },
   "outputs": [],
   "source": [
    "lijepo <- janitor::clean_names(ruzno)\n",
    "print(lijepo)"
   ]
  },
  {
   "cell_type": "markdown",
   "metadata": {
    "slideshow": {
     "slide_type": "fragment"
    }
   },
   "source": [
    "Ovisno o konkretnom imenu, ova će funkcija biti manje ili više korisna. Recimo, ako je potrebno u potpunosti preimenovati varijablu u nešto smisleno, nema druge nego ručno.\n",
    "\n",
    "Ipak, isplati se pozvati `clean_names` jer može uvelike olakšati automatizirano preimenovanje.\n",
    "\n",
    "Dodat ćemo još 2 ružna stupca u `data.frame` `ruzno`."
   ]
  },
  {
   "cell_type": "code",
   "execution_count": null,
   "metadata": {
    "slideshow": {
     "slide_type": "subslide"
    }
   },
   "outputs": [],
   "source": [
    "ruzno %<>% data.frame(., '2. Koliko sam vina ja popio?' = 15:19,\n",
    "                    '3. Je li vaše ludo srce biralo?' = F)\n",
    "print(ruzno)"
   ]
  },
  {
   "cell_type": "markdown",
   "metadata": {
    "slideshow": {
     "slide_type": "fragment"
    }
   },
   "source": [
    "Vidimo da su i upitnici pretvoreni u točke."
   ]
  },
  {
   "cell_type": "markdown",
   "metadata": {
    "slideshow": {
     "slide_type": "fragment"
    }
   },
   "source": [
    "Recimo da hoćemo svako ime svesti na format `broj_prva-riječ`. Ako dopustimo R-u da obavi svoju masovnu konverziju, pa takva imena pretvaramo, mogli bismo imati problema (ili više nepotrebne patnje) sa specificiranjem obrasca koji želimo odbaciti."
   ]
  },
  {
   "cell_type": "markdown",
   "metadata": {
    "slideshow": {
     "slide_type": "subslide"
    }
   },
   "source": [
    "Ponovno ćemo pozvati `clean_names`:"
   ]
  },
  {
   "cell_type": "code",
   "execution_count": null,
   "metadata": {},
   "outputs": [],
   "source": [
    "lijepo <- janitor::clean_names(ruzno)\n",
    "print(lijepo)"
   ]
  },
  {
   "cell_type": "markdown",
   "metadata": {
    "slideshow": {
     "slide_type": "fragment"
    }
   },
   "source": [
    "Ova imena su puno sustavnija, zbog čega je lakše napisati neki obrazac znakova koji želimo zadržati."
   ]
  },
  {
   "cell_type": "code",
   "execution_count": null,
   "metadata": {
    "slideshow": {
     "slide_type": "fragment"
    }
   },
   "outputs": [],
   "source": [
    "colnames(lijepo) %<>%\n",
    "stringr::str_replace(., '^x(\\\\d_[[:lower:]]+).*', '\\\\1')\n",
    "print(lijepo)"
   ]
  },
  {
   "cell_type": "markdown",
   "metadata": {
    "slideshow": {
     "slide_type": "slide"
    }
   },
   "source": [
    "### Obrnuto kodiranje varijabli"
   ]
  },
  {
   "cell_type": "markdown",
   "metadata": {},
   "source": [
    "Neka od pitanja u ovom upitnik potrebno je obrnuto kodirati. To možemo učiniti pomoću funkcije `reverse.code` iz `psych` paketa. Ta funkcija ima dva obavezna argumenta: `keys`, koji je vektor brojki `1` i `-1`, te `items`, što su čestice koje treba rekodirati."
   ]
  },
  {
   "cell_type": "markdown",
   "metadata": {
    "slideshow": {
     "slide_type": "subslide"
    }
   },
   "source": [
    "Za primjer, rekodirat ćemo 3. i 4. pitanje skale `moralIdentityInternalization`."
   ]
  },
  {
   "cell_type": "code",
   "execution_count": null,
   "metadata": {},
   "outputs": [],
   "source": [
    "podaci %>%\n",
    "dplyr::select(contains('Internal')) %>%\n",
    "head(.) %T>% print(.) %>%\n",
    "{psych::reverse.code(keys = c(1, 1, -1, -1, 1),\n",
    "                    items = .,\n",
    "                    # zadajemo maksimum i minimum skale\n",
    "                    # jer inače određuje prema vrijednostima\n",
    "                    # koje se zapravo pojavljuju, a neke\n",
    "                    # čestice imaju manji raspon od\n",
    "                    # teoretski mogućeg\n",
    "                    mini = 0, maxi = 7)} %T>%\n",
    "str(.) %>% head(.)"
   ]
  },
  {
   "cell_type": "markdown",
   "metadata": {
    "slideshow": {
     "slide_type": "subslide"
    }
   },
   "source": [
    "Sad kad smo se uvjerili da su varijable ispravno rekodirane, možemo skratiti postupak (recimo, tako da ciljamo samo one varijable koje zapravo treba rekodirati) i te rekodirane varijable dodati u `data.frame`."
   ]
  },
  {
   "cell_type": "code",
   "execution_count": null,
   "metadata": {},
   "outputs": [],
   "source": [
    "podaci %<>%\n",
    "# contains smo promijenili u matches\n",
    "dplyr::select(matches('Internal.*(03|04)$')) %>%\n",
    "# u keys ostavljamo samo onoliko -1 koliko\n",
    "# imamo varijabli\n",
    "{psych::reverse.code(keys = c(-1, -1),\n",
    "                    items = .,\n",
    "                    mini = 0, maxi = 7)} %>%\n",
    "# reverse.code nam vraća matrix, pa ga pretvaramo\n",
    "# u data.frame\n",
    "as.data.frame(.) %$%\n",
    "# otkrivamo imena varijabli kako bismo ih mogli\n",
    "# koristiti direktno; tibble je dio tidyversea\n",
    "tibble::add_column(podaci,\n",
    "                   moralIdentityInternalization03_rec =\n",
    "                   # ime varijable moramo staviti u `` (backticks)\n",
    "                   # jer R inače baca error zbog - na kraju imena\n",
    "                   # (taj - tumači kao sintaksu, a ne kao dio imena)\n",
    "                   `moralIdentityInternalization03-`,\n",
    "                   moralIdentityInternalization04_rec =\n",
    "                   `moralIdentityInternalization04-`,\n",
    "                   # pomoću .after definiramo iza kojeg stupca\n",
    "                   # želimo dodati nove stupce; ovdje to radimo\n",
    "                   # zato da bi mII varijable bile na okupu\n",
    "                   .after = 'moralIdentityInternalization05')"
   ]
  },
  {
   "cell_type": "code",
   "execution_count": null,
   "metadata": {
    "slideshow": {
     "slide_type": "fragment"
    }
   },
   "outputs": [],
   "source": [
    "colnames(podaci) %>% print(.)"
   ]
  },
  {
   "cell_type": "markdown",
   "metadata": {
    "slideshow": {
     "slide_type": "slide"
    }
   },
   "source": [
    "### Brisanje stupaca"
   ]
  },
  {
   "cell_type": "markdown",
   "metadata": {},
   "source": [
    "Ponekad se u podacima nađu varijable koje nam nisu potrebne, pa je zgodno znati kako ih možemo obrisati. Za potrebe ove demonstracije, obrisat ćemo dvije varijable - `mf_CareHarm` i `mf_FairnessCheating` - koje su ukupni rezultati na dvije subskale MFQ-a."
   ]
  },
  {
   "cell_type": "markdown",
   "metadata": {
    "slideshow": {
     "slide_type": "subslide"
    }
   },
   "source": [
    "Jedan način za brisanje je upisivanje posebne vrijednosti `NULL` u stupac kojeg se želimo riješiti."
   ]
  },
  {
   "cell_type": "code",
   "execution_count": null,
   "metadata": {},
   "outputs": [],
   "source": [
    "podaci$mf_CareHarm <- NULL"
   ]
  },
  {
   "cell_type": "code",
   "execution_count": null,
   "metadata": {
    "slideshow": {
     "slide_type": "fragment"
    }
   },
   "outputs": [],
   "source": [
    "str(podaci)"
   ]
  },
  {
   "cell_type": "markdown",
   "metadata": {
    "slideshow": {
     "slide_type": "subslide"
    }
   },
   "source": [
    "Drugi je prepisivanje (u smislu *overwrite*) varijable koja drži `data.frame` `data.frameom` koji sadrži sve varijable osim te koju želimo ukloniti. To možemo učiniti pomoću funkcije `select` i negacijskog operatora `-`."
   ]
  },
  {
   "cell_type": "code",
   "execution_count": null,
   "metadata": {},
   "outputs": [],
   "source": [
    "podaci %<>%\n",
    "dplyr::select(-mf_FairnessCheating)"
   ]
  },
  {
   "cell_type": "code",
   "execution_count": null,
   "metadata": {
    "slideshow": {
     "slide_type": "fragment"
    }
   },
   "outputs": [],
   "source": [
    "str(podaci)"
   ]
  },
  {
   "cell_type": "markdown",
   "metadata": {
    "slideshow": {
     "slide_type": "slide"
    }
   },
   "source": [
    "### Stvaranje nove varijable pomoću `mutate`"
   ]
  },
  {
   "cell_type": "markdown",
   "metadata": {},
   "source": [
    "Već smo vidjeli neke načine na koje možemo stvarati nove varijable. Sada ćemo pomoću funkcije `mutate` rekreirati dva stupca koja smo malo prije obrisali.\n",
    "\n",
    "Kao rezultat na subskali uzet ćemo prosječnu vrijednost odabranih odgovora svakog sudionika."
   ]
  },
  {
   "cell_type": "code",
   "execution_count": null,
   "metadata": {
    "slideshow": {
     "slide_type": "fragment"
    }
   },
   "outputs": [],
   "source": [
    "podaci %>%\n",
    "# koristimo rowMeans, koji računa aritmetičku sredinu svakog reda,\n",
    "# kao što i samo ime kaže. funkciju primjenjujemo na varijable\n",
    "# koje završavaju s 'care', što možemo napraviti jer smo bili\n",
    "# mudri i smisleno i sustavno imenovali varijable\n",
    "dplyr::mutate(.,\n",
    "             mf_CareHarm = rowMeans(dplyr::select(.,\n",
    "                                                  dplyr::ends_with('care'))),\n",
    "             mf_FairnessCheating = rowMeans(dplyr::select(.,\n",
    "                                                          dplyr::ends_with('fair')))) %>%\n",
    "# kad koristimo select, redoslijed kojim unosimo varijable u funkciju\n",
    "# određuje redoslijed varijabli nakon odabira stupaca. stoga, budući da\n",
    "# mutate vraća data.frame, možemo iskoristiti select da nove varijable\n",
    "# preselimo do njima srodnih. primijetit ćemo da u selectu možemo\n",
    "# kombinirati numeričke indekse i imena varijabli; koristimo\n",
    "# everything() za dodavanje svih preostalih varijabli\n",
    "dplyr::select(., 1:mf_SanctityDegradation, mf_CareHarm, mf_FairnessCheating,\n",
    "      dplyr::everything()) %>% str(.)"
   ]
  },
  {
   "cell_type": "markdown",
   "metadata": {
    "slideshow": {
     "slide_type": "subslide"
    }
   },
   "source": [
    "Vidimo da dobivamo što smo i htjeli, pa spremamo promjene."
   ]
  },
  {
   "cell_type": "code",
   "execution_count": null,
   "metadata": {},
   "outputs": [],
   "source": [
    "podaci %<>%\n",
    "dplyr::mutate(.,\n",
    "              mf_CareHarm = rowMeans(dplyr::select(.,\n",
    "                                                   dplyr::ends_with('care'))),\n",
    "              mf_FairnessCheating = rowMeans(dplyr::select(.,\n",
    "                                                    dplyr::ends_with('fair')))) %>%\n",
    "dplyr::select(., 1:mf_SanctityDegradation, mf_CareHarm, mf_FairnessCheating,\n",
    "              dplyr::everything())"
   ]
  },
  {
   "cell_type": "markdown",
   "metadata": {
    "slideshow": {
     "slide_type": "slide"
    }
   },
   "source": [
    "## Long i wide formati podataka"
   ]
  },
  {
   "cell_type": "markdown",
   "metadata": {},
   "source": [
    "Podaci kojima cijelo vrijeme baratamo nalaze se u **wide** formatu - svaki red predstavlja jedan *case* (u našem slučaju sudionika), a svaki stupac predstavlja jednu varijablu. Često, to je format s kojim želimo raditi."
   ]
  },
  {
   "cell_type": "markdown",
   "metadata": {
    "slideshow": {
     "slide_type": "fragment"
    }
   },
   "source": [
    "Ipak, ponekad nam je zgodno podatke prebaciti u **long** format, u kojem svaki *case* zauzima nekoliko redova. Takav format je potreban za, recimo, multilevel modeliranje u R-u."
   ]
  },
  {
   "cell_type": "markdown",
   "metadata": {
    "slideshow": {
     "slide_type": "subslide"
    }
   },
   "source": [
    "Za potrebe demonstracije prebacivanja iz jednog formata u drugi, napravit ćemo novi `data.frame`, koji sadrži podskup varijabli i *caseova* iz `data.framea` `podaci`."
   ]
  },
  {
   "cell_type": "code",
   "execution_count": null,
   "metadata": {},
   "outputs": [],
   "source": [
    "podaci %>%\n",
    "# slice nam omogućuje da biramo\n",
    "# redove prema indeksu. uzet ćemo\n",
    "# prvih 10 sudionika\n",
    "dplyr::slice(., 1:10) %>%\n",
    "dplyr::select(pi_gender, starts_with('descriptive')) %>%\n",
    "# dodajemo eksplicitni indeks za svakog sudionika\n",
    "tibble::add_column(., sub_index = 1:nrow(.)) ->\n",
    "podaci_wide\n",
    "\n",
    "podaci_wide"
   ]
  },
  {
   "cell_type": "markdown",
   "metadata": {
    "slideshow": {
     "slide_type": "subslide"
    }
   },
   "source": [
    "`podaci_wide`, dakle, sadrži podskup `podataka`, u wide formatu. Sad ćemo taj `data.frame` prebaciti u long format, koristeći funkciju `gather` (kao, bacamo sve na hrpu) iz `tidyr` paketa.\n",
    "\n",
    "`gatheru` moramo dati neku tablicu s podacima (dakle, recimo, `data.frame`), odrediti ime varijable koja će služiti kao `key`, ime varijable koja će služiti kao `value`, te stupce koje želimo svesti na `key` - `value` format."
   ]
  },
  {
   "cell_type": "code",
   "execution_count": null,
   "metadata": {
    "slideshow": {
     "slide_type": "subslide"
    }
   },
   "outputs": [],
   "source": [
    "podaci_wide %>%\n",
    "tidyr::gather(., key = 'pitanje', value = 'odgovor',\n",
    "             descriptiveSocialNorms01:descriptiveSocialNorms04) ->\n",
    "podaci_long\n",
    "\n",
    "podaci_long"
   ]
  },
  {
   "cell_type": "markdown",
   "metadata": {
    "slideshow": {
     "slide_type": "subslide"
    }
   },
   "source": [
    "Za prebacivanje natrag u wide format, koristimo `spread` (kao, bacanje đubreta po livadi).\n",
    "\n",
    "Ovoj funkciji trebamo dati podatke (recimo, `data.frame`), `key` koji želimo \"rastaviti\" i `value`, što su vrijednosti koje trebamo potpisati pod stupce nastale rastavljanjem `key`.\n",
    "\n",
    "`spread` uzima jedinstvene vrijednosti iz varijable navedene kao `key` i širi ih u nove varijable, koje potom puni vrijednostima zadanima pod `value."
   ]
  },
  {
   "cell_type": "code",
   "execution_count": null,
   "metadata": {
    "slideshow": {
     "slide_type": "subslide"
    }
   },
   "outputs": [],
   "source": [
    "podaci_long %>%\n",
    "tidyr::spread(., key = pitanje, value = odgovor) %>%\n",
    "dplyr::arrange(., sub_index)"
   ]
  },
  {
   "cell_type": "markdown",
   "metadata": {
    "slideshow": {
     "slide_type": "slide"
    }
   },
   "source": [
    "## Motivacijski primjeri - vizualizacija podataka"
   ]
  },
  {
   "cell_type": "markdown",
   "metadata": {
    "slideshow": {
     "slide_type": "subslide"
    }
   },
   "source": [
    "U ovom dugoočekivanom, posljednjem dijelu proći ćemo kroz par motivacijskih primjera koji pokazuju razne zgodnosti koje nam R nudi. Za početak, pogledat ćemo osnove vizualizacije podataka."
   ]
  },
  {
   "cell_type": "markdown",
   "metadata": {
    "slideshow": {
     "slide_type": "fragment"
    }
   },
   "source": [
    "Kao što smo vidjeli u dijelu o pipama, podatke možemo vizualizirati koristeći generičku funkciju `plot`."
   ]
  },
  {
   "cell_type": "markdown",
   "metadata": {
    "slideshow": {
     "slide_type": "fragment"
    }
   },
   "source": [
    "Za dobiti, na primjer, dijagram raspršenja, dovoljno je u `plot` proslijediti dvije numeričke varijable."
   ]
  },
  {
   "cell_type": "code",
   "execution_count": null,
   "metadata": {
    "slideshow": {
     "slide_type": "fragment"
    }
   },
   "outputs": [],
   "source": [
    "podaci %>%\n",
    "dplyr::select(., mf_CareHarm, mf_FairnessCheating) %>%\n",
    "plot(.)"
   ]
  },
  {
   "cell_type": "markdown",
   "metadata": {
    "slideshow": {
     "slide_type": "subslide"
    }
   },
   "source": [
    "Histogram možemo dobiti pomoću funkcije `hist`."
   ]
  },
  {
   "cell_type": "code",
   "execution_count": null,
   "metadata": {},
   "outputs": [],
   "source": [
    "podaci$mf_CareHarm %>% hist(.)"
   ]
  },
  {
   "cell_type": "markdown",
   "metadata": {
    "slideshow": {
     "slide_type": "subslide"
    }
   },
   "source": [
    "A možemo dobiti i graf gustoće distribucije tako da varijablu prvo bacimo u funkciju `density`, a potom u `plot`."
   ]
  },
  {
   "cell_type": "code",
   "execution_count": null,
   "metadata": {},
   "outputs": [],
   "source": [
    "podaci$mf_FairnessCheating %>% density(.) %>%\n",
    "plot(.)"
   ]
  },
  {
   "cell_type": "markdown",
   "metadata": {
    "slideshow": {
     "slide_type": "subslide"
    }
   },
   "source": [
    "Moje poznavanje base grafike staje otprilike ovdje jer za vizualizacije koristim paket `ggplot`, koji je nekad nešto zahtjevniji, ali je i dosta moćniji."
   ]
  },
  {
   "cell_type": "markdown",
   "metadata": {
    "slideshow": {
     "slide_type": "fragment"
    }
   },
   "source": [
    "`ggplot` dolazi s funkcijom `qplot` (*quick plot*), koja služi za brzinsko crtanje. Dijagram raspršenja, recimo, možemo dobiti isto kao i s base `plotom`, ali ovaj je nešto ljepši."
   ]
  },
  {
   "cell_type": "code",
   "execution_count": null,
   "metadata": {
    "slideshow": {
     "slide_type": "fragment"
    }
   },
   "outputs": [],
   "source": [
    "ggplot2::qplot(data = podaci, x = mf_CareHarm, y = mf_FairnessCheating)"
   ]
  },
  {
   "cell_type": "markdown",
   "metadata": {
    "slideshow": {
     "slide_type": "subslide"
    }
   },
   "source": [
    "A lako možemo promijeniti boju točaka na temelju, recimo, spola."
   ]
  },
  {
   "cell_type": "code",
   "execution_count": null,
   "metadata": {},
   "outputs": [],
   "source": [
    "ggplot2::qplot(data = podaci, x = mf_CareHarm, y = mf_FairnessCheating,\n",
    "              color = pi_gender)"
   ]
  },
  {
   "cell_type": "markdown",
   "metadata": {
    "slideshow": {
     "slide_type": "subslide"
    }
   },
   "source": [
    "Fora kod `ggplota` je u tome da se graf izgrađuje sloj po sloj. `qplot` nešto skraćuje taj proces, ali i dalje ostavlja mogućnost dodavanja slojeva pomoću operatora `+`."
   ]
  },
  {
   "cell_type": "markdown",
   "metadata": {
    "slideshow": {
     "slide_type": "fragment"
    }
   },
   "source": [
    "Kad bismo, recimo, grafu još htjeli dodati regresijske pravce za svaku skupinu, na kraj bismo dodali:"
   ]
  },
  {
   "cell_type": "code",
   "execution_count": null,
   "metadata": {},
   "outputs": [],
   "source": [
    "ggplot2::qplot(data = podaci, x = mf_CareHarm, y = mf_FairnessCheating,\n",
    "              color = pi_gender) + geom_smooth(method = 'lm', se = F)"
   ]
  },
  {
   "cell_type": "markdown",
   "metadata": {
    "slideshow": {
     "slide_type": "subslide"
    }
   },
   "source": [
    "Evo i histograma (koji je meni, ovako po difoltu, ružniji od base R-ovog):"
   ]
  },
  {
   "cell_type": "code",
   "execution_count": null,
   "metadata": {},
   "outputs": [],
   "source": [
    "ggplot2::qplot(data = podaci, x = mf_FairnessCheating,\n",
    "              geom = 'histogram')"
   ]
  },
  {
   "cell_type": "code",
   "execution_count": null,
   "metadata": {},
   "outputs": [],
   "source": [
    "ggplot2::qplot(data = podaci, x = pi_gender,\n",
    "              y = mf_FairnessCheating, geom = 'violin')"
   ]
  },
  {
   "cell_type": "code",
   "execution_count": null,
   "metadata": {
    "slideshow": {
     "slide_type": "subslide"
    }
   },
   "outputs": [],
   "source": [
    "ggplot2::qplot(data = podaci, x = mf_FairnessCheating,\n",
    "              geom = 'density', fill = pi_gender,\n",
    "              # određuje razinu transparentnosti\n",
    "              alpha = .4)"
   ]
  },
  {
   "cell_type": "markdown",
   "metadata": {
    "slideshow": {
     "slide_type": "subslide"
    }
   },
   "source": [
    "S `qplotom` (a pogotovo s `ggplotom`) se može puno igrati, tako da neću pretjerano nastavljati ovaj niz. Igranje prepuštam čitatelju."
   ]
  },
  {
   "cell_type": "markdown",
   "metadata": {
    "slideshow": {
     "slide_type": "subslide"
    }
   },
   "source": [
    "Za kraj ovog dijela, pogledat ćemo jednu funkciju iz `psych` paketa koja daje dosta opširan vizualni sažetak podatka."
   ]
  },
  {
   "cell_type": "code",
   "execution_count": null,
   "metadata": {},
   "outputs": [],
   "source": [
    "podaci %>%\n",
    "dplyr::select(., starts_with('mf_')) %>%\n",
    "psych::pairs.panels(., lm = T, method = 'spearman',\n",
    "                   # ovo je veličina slova, ne znam\n",
    "                   # zašto se zove cex...\n",
    "                   cex = .5,\n",
    "                   # malo razbaca točke koje se nalaze\n",
    "                   # na istoj poziciji radi dobivanja\n",
    "                   # boljeg dojma o broju jedinki\n",
    "                   jiggle = T)"
   ]
  },
  {
   "cell_type": "markdown",
   "metadata": {
    "slideshow": {
     "slide_type": "slide"
    }
   },
   "source": [
    "## Motivacijski primjeri - missing data"
   ]
  },
  {
   "cell_type": "markdown",
   "metadata": {},
   "source": [
    "Za početak, ubacit ćemo neke missing vrijednosti (`NA`) u naš set podataka."
   ]
  },
  {
   "cell_type": "code",
   "execution_count": null,
   "metadata": {
    "slideshow": {
     "slide_type": "subslide"
    }
   },
   "outputs": [],
   "source": [
    "set.seed(151059)\n",
    "\n",
    "podaci %>%\n",
    "dplyr::select(., 1:moralIdentityInternalization04_rec) %>%\n",
    "apply(., MARGIN = c(1,2), FUN = function(x) {\n",
    "    if(runif(1) < .1) x <- NA\n",
    "    else return(x)\n",
    "}) %>%\n",
    "# primijetiti da u ovom pozivu selecta nema točke!\n",
    "# to je zato što select pozivamo na tablici 'podaci',\n",
    "# a ne na tablici koju guramo kroz pipeline\n",
    "cbind(., dplyr::select(podaci, starts_with('pi_'))) ->\n",
    "podaci_na\n",
    "\n",
    "head(podaci_na)"
   ]
  },
  {
   "cell_type": "markdown",
   "metadata": {
    "slideshow": {
     "slide_type": "skip"
    }
   },
   "source": [
    "Prethodni blok koda donosi neke novosti.\n",
    "\n",
    "1) `set.seed` je funkcija kojom možemo *random number generator* R-a postaviti na neku vrijednost (*seed*). Po mojim saznanjima, to se uglavnom radi zato da bi se osigurala reproducibilnost stohastičkih procesa. Zbog toga bi obrazac `NA` vrijednosti koje vi dobivate trebao biti jednak onom koji ja dobivam.\n",
    "\n",
    "2) `apply` je funkcija koja služi kao skraćenica za `for` petlju (koju nismo obradili, heh). `apply` prima (i) set podataka, (ii) funkciju `FUN` te (iii) `MARGIN`, koji određuje na što će se `FUN` primijenjivati, a može biti `1` (redovi), `2` (stupci) ili `c(1, 2)` (svaki pojedini element)\n",
    "\n",
    "Sintaksa za `for` petlju je, inače:\n",
    "```\n",
    "for(i in 1:10) {\n",
    "    print(i)\n",
    " }\n",
    " ```\n",
    " \n",
    "tj.\n",
    "\n",
    "```\n",
    "for(nešto preko čega možemo iterirati, tj. prolaziti) {\n",
    "naredbe\n",
    "}\n",
    "```\n",
    "\n",
    "3) kao `FUN` smo dali anonimnu funkciju koju smo *ad hoc* definirali koristeći naredbu `function(...)`. Definirali smo funkciju koja prima samo jedan element (`x`), a koji predstavlja jedan podatak dohvaćen iz tablice koju smo proslijedili u `apply`. Da smo vrijednost `MARGIN` stavili na `1`, `x` bi bio red podataka, a da smo je stavili na `2`, stupac podataka.\n",
    "\n",
    "4) vidjeli smo i R-ovu\n",
    "```\n",
    "if(logički uvjet) naredba\n",
    "else druga naredba\n",
    "```\n",
    "sintaksu. Za `if ... else` je bitno znati da **ne može raditi s vektorima**, već samo s pojedinim elementima. `case_when` i `ifelse` (base R) su vektorizirane verzije `if ... else` naredbi.\n",
    "\n",
    "Dosad, dakle, imamo kod koji je odabrao sve redove i samo neke stupce tablice `podaci`, te ih proslijedio u funkciju `apply`. `apply` potom uzima svaki pojedini element (odnosno, svaki pojedini podatak, odnosno svaku pojedinu vrijednost) i daje ga u funkciju koju smo sami definirali (koristeći `function`). Unutar funkcije, taj je element dostupan kao `x`.\n",
    "\n",
    "Unutar funkcije, imamo `if ... else` izraz u kojem:\n",
    "\n",
    "5) koristimo `runif(1)` (**random uniform**) kako bismo dobili **jednu** vrijednost u rasponu od 0 do 1, te provjeravamo je li ta vrijednost manja od `.1`. Ako jest, `if` uvjet se evaluira kao `TRUE` i u `x` upisujemo vrijednost `NA`, kojom R predstavlja vrijednosti koje nedostaju. S obzirom na `runif`, vjerojatnost upisivanja vrijednosti `NA` je 10%. Ako `runif` vrati vrijednost veću od `.1`, `if` uvjet se evaluira kao `FALSE` te prelazimo na `else` dio. Naredba pod `else` je `return(x)`, što znači da u tom slučaju funkcija treba vratiti vrijednost `x`.\n",
    "\n",
    "6) Budući da je `select` vratio tablicu koja ne sadrži `pi_` varijable, a koje želimo imati, koristimo `cbind` (*column bind*) kako bismo dodali i te varijable. Kao prvi argument, u `cbind` stavljamo `.`, dakle modificiranu tablicu koju smo provukli kroz `apply` (i kroz cijeli *pipeline*), a kao drugi argument dajemo tablicu s odabranim stupcima iz tablice `podaci`.\n",
    "\n",
    "Na kraju, to spremamo kao `podaci_na`."
   ]
  },
  {
   "cell_type": "markdown",
   "metadata": {
    "slideshow": {
     "slide_type": "subslide"
    }
   },
   "source": [
    "Sad kad imamo set podataka koji sadrži, missing vrijednosti, bacit ćemo se na motiviranje. Za početak, pogledat ćemo funkciju koja nam omogućava da dobijemo brzinski pregled svojih podataka."
   ]
  },
  {
   "cell_type": "markdown",
   "metadata": {
    "slideshow": {
     "slide_type": "subslide"
    }
   },
   "source": [
    "`create_report` stvorit će interaktivni `.html` file koji sadrži hrpu deskriptivne statistike i neke zgodne grafove. Output se može jako prilagođavati dodavanjem argumenata, ali funkcija može biti zgodno-korisna i bez njih."
   ]
  },
  {
   "cell_type": "code",
   "execution_count": null,
   "metadata": {},
   "outputs": [],
   "source": [
    "DataExplorer::create_report(podaci)"
   ]
  },
  {
   "cell_type": "markdown",
   "metadata": {
    "slideshow": {
     "slide_type": "slide"
    }
   },
   "source": [
    "Sad ćemo pogledati neke funkcije koje nam olakšavaju pregledavanje obrazaca podataka koji nedostaju. Opći pregled stanja s podacima koji nedostaju možemo dobiti pomoću funkcije `vis_dat`. Radi preglednosti, ograničit ćemo se na prvih 10 i posljednjih 5 varijabli."
   ]
  },
  {
   "cell_type": "code",
   "execution_count": null,
   "metadata": {},
   "outputs": [],
   "source": [
    "podaci_na %>%\n",
    "# kako bismo odabrali posljednjih 5 stupaca,\n",
    "# koristimo ncol za dobivanje broja stupaca te\n",
    "# od vrijednosti koju dobijemo oduzimamo 5, a\n",
    "# raspon protežemo do ncol. ovdje ncol vraća\n",
    "# 66, pa efektivno imamo 61:65. oduzimanje od\n",
    "# prvog poziva ncol mora biti u zagradama, inače\n",
    "# error!\n",
    "dplyr::select(., 1:10, (ncol(.)-5):ncol(.)) %>%\n",
    "visdat::vis_dat(.)"
   ]
  },
  {
   "cell_type": "markdown",
   "metadata": {
    "slideshow": {
     "slide_type": "fragment"
    }
   },
   "source": [
    "Ovaj graf prikazuje svakog pojedinog sudionika na y-osi, te svaki pojedinu varijablu na x-osi. Različite boje označavaju tip varijable (`factor`, `numeric`...) te `NA`, odnosno missing. Dakle, gdje god je nešto sivo, tamo nedostaje vrijednost."
   ]
  },
  {
   "cell_type": "markdown",
   "metadata": {
    "slideshow": {
     "slide_type": "subslide"
    }
   },
   "source": [
    "Funkcija `vis_miss` crta sličan graf, samo što ne označava tipove varijabli i govori nam koliki je postotak varijabli missing."
   ]
  },
  {
   "cell_type": "code",
   "execution_count": null,
   "metadata": {},
   "outputs": [],
   "source": [
    "podaci_na %>%\n",
    "dplyr::select(., 1:10, (ncol(.)-5):ncol(.)) %>%\n",
    "visdat::vis_miss(.)"
   ]
  },
  {
   "cell_type": "markdown",
   "metadata": {
    "slideshow": {
     "slide_type": "subslide"
    }
   },
   "source": [
    "Još jedan grubi prikaz:"
   ]
  },
  {
   "cell_type": "code",
   "execution_count": null,
   "metadata": {},
   "outputs": [],
   "source": [
    "naniar::gg_miss_var(podaci_na)"
   ]
  },
  {
   "cell_type": "markdown",
   "metadata": {
    "slideshow": {
     "slide_type": "slide"
    }
   },
   "source": [
    "Pomoću `n_miss` možemo dobiti broj vrijednosti koje nedostaju. Komplementarna funkcija je `n_complete`, koja, jel..."
   ]
  },
  {
   "cell_type": "code",
   "execution_count": null,
   "metadata": {},
   "outputs": [],
   "source": [
    "naniar::n_miss(podaci_na)\n",
    "naniar::n_complete(podaci_na)\n",
    "\n",
    "podaci_na %>%\n",
    "{naniar::n_miss(.) + naniar::n_complete(.) ==\n",
    "    nrow(.) * ncol(.)}"
   ]
  },
  {
   "cell_type": "markdown",
   "metadata": {
    "slideshow": {
     "slide_type": "subslide"
    }
   },
   "source": [
    "Pomoću `miss_case_summary` možemo dobiti informaciju o tome koliko svaki pojedini sudionik ima missinga."
   ]
  },
  {
   "cell_type": "code",
   "execution_count": null,
   "metadata": {},
   "outputs": [],
   "source": [
    "podaci_na %>%\n",
    "# gledamo samo prvih 20\n",
    "slice(1:20) %>%\n",
    "naniar::miss_case_summary(.)"
   ]
  },
  {
   "cell_type": "markdown",
   "metadata": {
    "slideshow": {
     "slide_type": "slide"
    }
   },
   "source": [
    "Ove funkcije su zgodne za opći pregled. Ako želimo pobliže ispitati obrasce nedostajućih podataka, trebamo ući dublje u odnose među pojedinim varijablama. Prva funkcija koja nam ovdje uskače upomoć dolazi iz `naniara`."
   ]
  },
  {
   "cell_type": "code",
   "execution_count": null,
   "metadata": {},
   "outputs": [],
   "source": [
    "ggplot2::ggplot(podaci_na, aes(x = attitudesAndNorms01,\n",
    "                     y = attitudesAndNorms02)) +\n",
    "       naniar::geom_miss_point()"
   ]
  },
  {
   "cell_type": "markdown",
   "metadata": {
    "slideshow": {
     "slide_type": "skip"
    }
   },
   "source": [
    "Točke označene kao `Missing` imaju vrijednost na osi (tj. varijabli) kojoj su priklonjene (tj. s kojom su paralelne), ali nemaju na varijabli na koju su okomite. \n",
    "\n",
    "`Missing` točke nalaze se ispod minimuma koji vrijednosti dosežu na skali na kojoj nemaju rezultat. Da bude jasnije:"
   ]
  },
  {
   "cell_type": "code",
   "execution_count": null,
   "metadata": {
    "slideshow": {
     "slide_type": "fragment"
    }
   },
   "outputs": [],
   "source": [
    "podaci_na %>%\n",
    "dplyr::select(., attitudesAndNorms01, attitudesAndNorms02) %>%\n",
    "summary(.)"
   ]
  },
  {
   "cell_type": "markdown",
   "metadata": {},
   "source": [
    "Vidimo da je minimum na `attitudesAndNorms01` 2, a na `attitudesAndNorms02` -2. Missing vrijednosti na grafu se nalaze ispod tih vrijednosti."
   ]
  },
  {
   "cell_type": "markdown",
   "metadata": {
    "slideshow": {
     "slide_type": "subslide"
    }
   },
   "source": [
    "`gg_miss_upset` daje nam prikaz obrasca povezanosti missing vrijednosti kroz varijable."
   ]
  },
  {
   "cell_type": "code",
   "execution_count": null,
   "metadata": {},
   "outputs": [],
   "source": [
    "naniar::gg_miss_upset(podaci_na, nsets = 5, nintersect = 18)"
   ]
  },
  {
   "cell_type": "markdown",
   "metadata": {
    "slideshow": {
     "slide_type": "fragment"
    }
   },
   "source": [
    "Pomoću `nsets = 5` ograničili smo se na 5 najkritičnijih varijabli. Vidimo da broj missing vrijednosti (na grafu označeno kao `Set Size`) pada od `callToAction_NA` prema `moralFoundatoins08_NA`."
   ]
  },
  {
   "cell_type": "markdown",
   "metadata": {
    "slideshow": {
     "slide_type": "fragment"
    }
   },
   "source": [
    "`nintersect` određuje koliko će *križanja* varijabli biti prikazano. Ova vrijednost trebala bi biti barem `nsets` + 1 da bi imala smisla."
   ]
  },
  {
   "cell_type": "markdown",
   "metadata": {
    "slideshow": {
     "slide_type": "fragment"
    }
   },
   "source": [
    "Okomiti stupci pokazuju nam koliko je missing vrijednosti u pojedinom križanju (uključujući i \"križanja\" jedne varijable). Uzmimo `callToAction_NA`, koji ima 18 vrijednosti koje nedostaju, odnosno nema 18 vrijednosti. Kad zbrojimo sve okomite stupce u kojima ta varijabla ima točku, doći ćemo do broja 18."
   ]
  },
  {
   "cell_type": "markdown",
   "metadata": {
    "slideshow": {
     "slide_type": "subslide"
    }
   },
   "source": [
    "Nekad je zgodno vidjeti razlikuju li se obrasci nedostajanja ovisno o nekoj kategoričkoj varijabli. U tu svrhu, možemo koristiti `gg_miss_fct`. Funkcija prima dva argumenta, neku tablicu s podacima i kategoričku varijablu na temelju koje treba prikazati obrazac vrijednosti koje nedostaju."
   ]
  },
  {
   "cell_type": "code",
   "execution_count": null,
   "metadata": {},
   "outputs": [],
   "source": [
    "podaci_na %>%\n",
    "dplyr::select(., 1:10, pi_education) %>%\n",
    "naniar::gg_miss_fct(., fct = pi_education)"
   ]
  },
  {
   "cell_type": "markdown",
   "metadata": {
    "slideshow": {
     "slide_type": "fragment"
    }
   },
   "source": [
    "Ovdje, recimo, možemo vidjeti da nitko ili gotovo nitko tko je završio osnovnu školu ili doktorat nije odgovorio na osmo pitanje u `attitudesAndNorms08`, što nije pretjerano zabrinjavajuće jer su podaci simulirani, ali bi se u stvarnoj situaciji čovjek možda htio zapitati."
   ]
  },
  {
   "cell_type": "markdown",
   "metadata": {
    "slideshow": {
     "slide_type": "slide"
    }
   },
   "source": [
    "## Prtljanje po podacima iz SPSS-a za opće dobro"
   ]
  },
  {
   "cell_type": "markdown",
   "metadata": {},
   "source": [
    "Kao što je na početku najavljeno, proći ćemo kroz R-ovsko prtljanje po korumpiranim podacima iz SPSS-a."
   ]
  },
  {
   "cell_type": "code",
   "execution_count": null,
   "metadata": {
    "slideshow": {
     "slide_type": "subslide"
    }
   },
   "outputs": [],
   "source": [
    "head(podaci_spss)"
   ]
  },
  {
   "cell_type": "markdown",
   "metadata": {
    "slideshow": {
     "slide_type": "subslide"
    }
   },
   "source": [
    "Prvo ćemo korumpirane redove izvući u novi `data.frame` - `podaci_spss_korumpirani`. To možemo napraviti tako da tražimo sve redove čiji unos pod `pi_gender` ne sadrži string *degree*. Dakle, koristit ćemo funkciju `filter`, u kojoj ćemo pozvati funkciju `str_detect`. Ona vraća vektor logičkih vrijednosti (`TRUE, FALSE, TRUE, ...`) koje `filter` može iskoristiti za, je li, filtriranje."
   ]
  },
  {
   "cell_type": "code",
   "execution_count": null,
   "metadata": {},
   "outputs": [],
   "source": [
    "podaci_spss %>%\n",
    "dplyr::filter(., str_detect(.$pi_gender, 'degree')) ->\n",
    "podaci_spss_korumpirani"
   ]
  },
  {
   "cell_type": "markdown",
   "metadata": {
    "slideshow": {
     "slide_type": "subslide"
    }
   },
   "source": [
    "Zatim, filtiramo originalni `data.frame`, tako da u njemu ostaju samo redovi koji nisu korumpirani, odnosno oni koji nemaju string *degree*. Možemo samo kopipejstati raniji kod i pred poziv `str_detect` staviti uskličnik, koji je simbol za negaciju (pretvorit će vektor iz `TRUE, FALSE, TRUE, ...` u `FALSE, TRUE, FALSE, ...`). Također, mičemo upisivanje u novu varijablu, i pipu mijenjamo u assignment pipu."
   ]
  },
  {
   "cell_type": "code",
   "execution_count": null,
   "metadata": {},
   "outputs": [],
   "source": [
    "podaci_spss %<>%\n",
    "dplyr::filter(., !str_detect(.$pi_gender, 'degree'))"
   ]
  },
  {
   "cell_type": "markdown",
   "metadata": {
    "slideshow": {
     "slide_type": "subslide"
    }
   },
   "source": [
    "Sad trebamo popraviti unose u `podaci_spss_korumpirano` i popravljene unose prilijepiti na `podaci_spss`."
   ]
  },
  {
   "cell_type": "code",
   "execution_count": null,
   "metadata": {
    "slideshow": {
     "slide_type": "fragment"
    }
   },
   "outputs": [],
   "source": [
    "head(podaci_spss_korumpirani)"
   ]
  },
  {
   "cell_type": "markdown",
   "metadata": {
    "slideshow": {
     "slide_type": "subslide"
    }
   },
   "source": [
    "Sredit ćemo si `dput` output da si uštedimo neko tipkanje u kasnijim koracima."
   ]
  },
  {
   "cell_type": "code",
   "execution_count": null,
   "metadata": {},
   "outputs": [],
   "source": [
    "podaci_spss_korumpirani %>%\n",
    "dplyr::select(., pi_gender:V65) %>%\n",
    "colnames(.) %>%\n",
    "dput(.)"
   ]
  },
  {
   "cell_type": "markdown",
   "metadata": {
    "slideshow": {
     "slide_type": "subslide"
    }
   },
   "source": [
    "Za sređivanje stupaca možemo iskoristiti malo zgodnog prtljanja s `unite` i `separate` funkcijama. `unite` radi točno ono što nam treba - uzima $n$ stupaca i spaja ih u jedan novi (onaj definiran pod arugmentom `col`). Vrijednosti iz različitih stupaca odvaja stringom navedenim pod `sep`. Po difoltu, stupci koje spajamo se brišu te ostaje samo novi stupac. To ponašanje možemo mijenjati putem argumenta `remove`. U ovom slučaju, to je okej, pa ćemo ostaviti difolt argument.\n",
    "\n",
    "Želimo spojiti unose pod `pi_education` i `pi_gender` u `pi_education`. Kao `sep` ćemo koristiti prazan string. Dakle, radimo sljedeće:"
   ]
  },
  {
   "cell_type": "code",
   "execution_count": null,
   "metadata": {
    "slideshow": {
     "slide_type": "fragment"
    }
   },
   "outputs": [],
   "source": [
    "podaci_spss_korumpirani %>%\n",
    "tidyr::unite(., \n",
    "            # novi stupac\n",
    "            col = pi_education,\n",
    "            # stupci koje spajamo\n",
    "            pi_education, pi_gender,\n",
    "            # separator\n",
    "            sep = '') %>%\n",
    "# ovaj dio je samo za fokusiranje outputa\n",
    "dplyr::select(., pi_education:ncol(.)) %>%\n",
    "head(.)"
   ]
  },
  {
   "cell_type": "markdown",
   "metadata": {
    "slideshow": {
     "slide_type": "skip"
    }
   },
   "source": [
    "Vidimo da su vrijednosti pod `pi_education` točne, ali sad imena varijabli ne odgovaraju njihovom sadržaju. Na primjer, spol se nalazi pod `pi_ideology`."
   ]
  },
  {
   "cell_type": "markdown",
   "metadata": {
    "slideshow": {
     "slide_type": "subslide"
    }
   },
   "source": [
    "Kako ne bismo morali mijenjati ime svake pojedine varijable, iskoristiti ćemo moći koje nam nudi funkcija `separate`. Ona uzima jedan stupac i razdvaja ga na $n$ stupaca na temelju separatora `sep`. Novi stupci dobivaju imena definirana pod `into`."
   ]
  },
  {
   "cell_type": "markdown",
   "metadata": {
    "slideshow": {
     "slide_type": "fragment"
    }
   },
   "source": [
    "Stoga, možemo prvo uzeti sve preostale stupce - od `pi_ideology` do `V65` - i spojiti ih u jedan stupac - `tmp` (kao, *temporary*). Kao `sep` ćemo korsititi `@@`, budući da se taj string vrlo vjerojato neće naći nigdje u vrijednostima varijabli. Mogli bismo uzeti bilo koji drugi simbol za koji smo sigurni da se ne pojavljuje."
   ]
  },
  {
   "cell_type": "code",
   "execution_count": null,
   "metadata": {
    "slideshow": {
     "slide_type": "fragment"
    }
   },
   "outputs": [],
   "source": [
    "podaci_spss_korumpirani %>%\n",
    "tidyr::unite(., col = pi_education,\n",
    "            pi_education:pi_gender,\n",
    "            sep = '') %>%\n",
    "tidyr::unite(.,col = tmp,\n",
    "            pi_ideology:V65,\n",
    "            sep = '@@') %>%\n",
    "dplyr::select(., pi_education:ncol(.)) %>%\n",
    "head(.)"
   ]
  },
  {
   "cell_type": "markdown",
   "metadata": {
    "slideshow": {
     "slide_type": "skip"
    }
   },
   "source": [
    "Dobili smo novi stupac `tmp` koji sadrži ružne stringove."
   ]
  },
  {
   "cell_type": "markdown",
   "metadata": {
    "slideshow": {
     "slide_type": "subslide"
    }
   },
   "source": [
    "Sad ćemo iskoristiti `separate` kako bismo vrijednosti u tom stupcu podijelili po separatoru `@@`. U argument `into` ćemo kopipejstati output funkcije `dput` koji smo ranije priredili, pri čemu ćemo obrisati posljednji unos (`V65`) jer to ne želimo gledati u konačnoj tablici."
   ]
  },
  {
   "cell_type": "code",
   "execution_count": null,
   "metadata": {},
   "outputs": [],
   "source": [
    "podaci_spss_korumpirani %>%\n",
    "tidyr::unite(., col = pi_education,\n",
    "            pi_education:pi_gender,\n",
    "            sep = '') %>%\n",
    "tidyr::unite(.,col = tmp,\n",
    "            pi_ideology:V65,\n",
    "            sep = '@@') %>%\n",
    "tidyr::separate(., col = tmp,\n",
    "               # ovo je output funkcije dput koju smo\n",
    "               # pozvali ranije, bez posljednjeg unosa,\n",
    "               # V65\n",
    "               into = c(\"pi_gender\", \"pi_ideology\",\n",
    "                        \"pi_income\", \"pi_nationality\", \n",
    "                        \"pi_previousDonations\"),\n",
    "               sep = '@@') %>%\n",
    "dplyr::select(., pi_education:ncol(.)) %>%\n",
    "head(.)"
   ]
  },
  {
   "cell_type": "markdown",
   "metadata": {
    "slideshow": {
     "slide_type": "subslide"
    }
   },
   "source": [
    "Sad imamo ispravno posložene stupce. Možemo maknuti nepotrebne navodnike iz unosa pod `pi_education` koristeći `mutate_at` da na taj stupac primijenimo funkciju `str_replace_all`."
   ]
  },
  {
   "cell_type": "code",
   "execution_count": null,
   "metadata": {},
   "outputs": [],
   "source": [
    "podaci_spss_korumpirani %>%\n",
    "tidyr::unite(., col = pi_education,\n",
    "            pi_education:pi_gender,\n",
    "            sep = '') %>%\n",
    "tidyr::unite(.,col = tmp,\n",
    "            pi_ideology:V65,\n",
    "            sep = '@@') %>%\n",
    "tidyr::separate(., col = tmp,\n",
    "               into = c(\"pi_gender\", \"pi_ideology\",\n",
    "                        \"pi_income\", \"pi_nationality\", \n",
    "                        \"pi_previousDonations\"),\n",
    "               sep = '@@') %>%\n",
    "dplyr::mutate_at(., .vars = vars(pi_education),\n",
    "                .f = stringr::str_replace_all,\n",
    "                pattern = '\"', replacement = '') %>%\n",
    "dplyr::select(., pi_education:ncol(.)) %>%\n",
    "head(.)"
   ]
  },
  {
   "cell_type": "markdown",
   "metadata": {
    "slideshow": {
     "slide_type": "subslide"
    }
   },
   "source": [
    "Sad kad smo zadovoljni outputom našeg pipelinea, spremit ćemo promjene.\n",
    "\n",
    "NB: Moramo maknuti zadnje dvije linije (koje smo koristili za fokusiranje outputa) jer će inače `podaci_spss_korumpirano` sadržavati samo ovo što vidimo gore."
   ]
  },
  {
   "cell_type": "code",
   "execution_count": null,
   "metadata": {},
   "outputs": [],
   "source": [
    "podaci_spss_korumpirani %<>%\n",
    "tidyr::unite(., col = pi_education,\n",
    "            pi_education:pi_gender,\n",
    "            sep = '') %>%\n",
    "tidyr::unite(.,col = tmp,\n",
    "            pi_ideology:V65,\n",
    "            sep = '@@') %>%\n",
    "tidyr::separate(., col = tmp,\n",
    "               into = c(\"pi_gender\", \"pi_ideology\",\n",
    "                        \"pi_income\", \"pi_nationality\", \n",
    "                        \"pi_previousDonations\"),\n",
    "               sep = '@@') %>%\n",
    "dplyr::mutate_at(., .vars = vars(pi_education),\n",
    "                .f = stringr::str_replace_all,\n",
    "                pattern = '\"', replacement = '')"
   ]
  },
  {
   "cell_type": "code",
   "execution_count": null,
   "metadata": {
    "slideshow": {
     "slide_type": "fragment"
    }
   },
   "outputs": [],
   "source": [
    "head(podaci_spss_korumpirani)"
   ]
  },
  {
   "cell_type": "markdown",
   "metadata": {
    "slideshow": {
     "slide_type": "subslide"
    }
   },
   "source": [
    "Za kraj, trebamo ovu tablicu pripojiti tablici `podaci_spss`. To možemo učiniti pomoću funkcije `rbind` (*rows bind*)."
   ]
  },
  {
   "cell_type": "code",
   "execution_count": null,
   "metadata": {
    "slideshow": {
     "slide_type": "fragment"
    }
   },
   "outputs": [],
   "source": [
    "dim(podaci_spss)\n",
    "dim(podaci_spss_korumpirani)"
   ]
  },
  {
   "cell_type": "markdown",
   "metadata": {},
   "source": [
    "Vidimo da ove dvije tablice imaju različit broj stupaca. To je zato jer `podaci_spss` i dalje imaju varijablu `V65`, koja je u toj tablici prazna. Obrisat ćemo je."
   ]
  },
  {
   "cell_type": "code",
   "execution_count": null,
   "metadata": {
    "slideshow": {
     "slide_type": "fragment"
    }
   },
   "outputs": [],
   "source": [
    "podaci_spss$V65 <- NULL"
   ]
  },
  {
   "cell_type": "code",
   "execution_count": null,
   "metadata": {
    "slideshow": {
     "slide_type": "fragment"
    }
   },
   "outputs": [],
   "source": [
    "dim(podaci_spss)\n",
    "dim(podaci_spss_korumpirani)"
   ]
  },
  {
   "cell_type": "markdown",
   "metadata": {
    "slideshow": {
     "slide_type": "subslide"
    }
   },
   "source": [
    "Sad možemo spojiti te dvije tablice."
   ]
  },
  {
   "cell_type": "code",
   "execution_count": null,
   "metadata": {},
   "outputs": [],
   "source": [
    "podaci_spss %<>%\n",
    "rbind(., podaci_spss_korumpirani)"
   ]
  },
  {
   "cell_type": "markdown",
   "metadata": {
    "slideshow": {
     "slide_type": "slide"
    }
   },
   "source": [
    "## Reference i dodatna literatura"
   ]
  },
  {
   "cell_type": "markdown",
   "metadata": {},
   "source": [
    "[Grolemund, G. i Wickham, H. *R for data science*. O'Reilly Media, Inc.](https://r4ds.had.co.nz/)\n",
    "\n",
    "[Michael Crawley (2012). *The R Book*.](https://www.cs.upc.edu/~robert/teaching/estadistica/TheRBook.pdf)\n",
    "\n",
    "Pipe\n",
    "- https://cran.r-project.org/web/packages/magrittr/vignettes/magrittr.html\n",
    "- http://r4ds.had.co.nz/pipes.html\n",
    "\n",
    "Regularni izrazi\n",
    "- [jako dobar šalabahter](https://remram44.github.io/regex-cheatsheet/regex.html)\n",
    "- [još jedan](http://www.rexegg.com/regex-quickstart.html)\n",
    "- [stranica koja omogućuje isprobavanje različitih uzoraka na tekstu](https://regexr.com/)\n",
    "- [uvod u `stringr`](https://cran.r-project.org/web/packages/stringr/vignettes/stringr.html)\n",
    "\n",
    "Data wrangling (dplyr i srodno):\n",
    "- [prvi od četiri dijela (linkovi na druge na dnu stranice) blogova o formatiranju podataka](https://suzanbaert.netlify.com/2018/01/dplyr-tutorial-1/)\n",
    "\n",
    "Korisni savjeti za organizaciju podataka u tablicama\n",
    "- Broman, K. W., & Woo, K. H. (2018). Data organization in spreadsheets. *The American Statistician, 72*(1), 2–10.\n",
    "\n",
    "`naniar`:\n",
    "- [intro](https://cran.r-project.org/web/packages/naniar/vignettes/getting-started-w-naniar.html)\n",
    "- [galerija vizualizacija](https://cran.r-project.org/web/packages/naniar/vignettes/naniar-visualisation.html)\n",
    "\n",
    "Šalabahteri (obavezno skinuti!)\n",
    "- [obavezno!](https://www.rstudio.com/resources/cheatsheets/)\n",
    "\n",
    "Pretvaranje `.sav` fileova u `.csv`\n",
    "- https://pspp.benpfaff.org/"
   ]
  },
  {
   "cell_type": "markdown",
   "metadata": {
    "slideshow": {
     "slide_type": "slide"
    }
   },
   "source": [
    "## Epilog"
   ]
  },
  {
   "cell_type": "code",
   "execution_count": null,
   "metadata": {},
   "outputs": [],
   "source": [
    "sessionInfo() "
   ]
  }
 ],
 "metadata": {
  "jupytext": {},
  "kernelspec": {
   "display_name": "R 3.5",
   "language": "R",
   "name": "ir35"
  },
  "language_info": {
   "codemirror_mode": "r",
   "file_extension": ".r",
   "mimetype": "text/x-r-source",
   "name": "R",
   "pygments_lexer": "r",
   "version": "3.5.1"
  },
  "livereveal": {
   "theme": "simple",
   "transition": "none"
  }
 },
 "nbformat": 4,
 "nbformat_minor": 2
}
