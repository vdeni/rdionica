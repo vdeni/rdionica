{
 "cells": [
  {
   "cell_type": "markdown",
   "metadata": {
    "slideshow": {
     "slide_type": "slide"
    }
   },
   "source": [
    "# Rdionica: priprema datoteke `podaci_upitnik.csv` za obradu"
   ]
  },
  {
   "cell_type": "code",
   "execution_count": 1,
   "metadata": {
    "slideshow": {
     "slide_type": "skip"
    }
   },
   "outputs": [],
   "source": [
    "options(repr.matrix.max.cols = 120, repr.matrix.max.rows = 500,\n",
    "       repr.plot.height = 4, repr.plot.width = 4)"
   ]
  },
  {
   "cell_type": "code",
   "execution_count": null,
   "metadata": {
    "slideshow": {
     "slide_type": "skip"
    }
   },
   "outputs": [],
   "source": [
    "install.packages(c('tidyverse', 'here',\n",
    "                   'wrapr', 'conflicted',\n",
    "                   # ovi paketi nisu učitani tijekom ovog\n",
    "                   # dijela radionice:\n",
    "                   'DataExplorer', 'naniar', 'visdat',\n",
    "                   'skimr', 'janitor', 'psych'))"
   ]
  },
  {
   "cell_type": "markdown",
   "metadata": {
    "slideshow": {
     "slide_type": "slide"
    }
   },
   "source": [
    "U ovom dijelu radionice proći ćemo put od sirovih podataka do podataka na kojima možemo provesti analizu.\n",
    "\n",
    "Prije nego što se bacimo na učitavanje i proučavanje sirovih podataka, učitat ćemo pakete koje ćemo koristiti.\n",
    "\n",
    "Pakete učitavamo pozivanjem funkcije `library`, koja kao argument prima ime **jednog** paketa."
   ]
  },
  {
   "cell_type": "code",
   "execution_count": 2,
   "metadata": {
    "slideshow": {
     "slide_type": "slide"
    }
   },
   "outputs": [
    {
     "name": "stderr",
     "output_type": "stream",
     "text": [
      "── Attaching packages ─────────────────────────────────────── tidyverse 1.2.1 ──\n",
      "✔ ggplot2 3.0.0     ✔ purrr   0.2.5\n",
      "✔ tibble  1.4.2     ✔ dplyr   0.7.7\n",
      "✔ tidyr   0.8.1     ✔ stringr 1.3.1\n",
      "✔ readr   1.1.1     ✔ forcats 0.3.0\n",
      "── Conflicts ────────────────────────────────────────── tidyverse_conflicts() ──\n",
      "✖ dplyr::filter() masks stats::filter()\n",
      "✖ dplyr::lag()    masks stats::lag()\n",
      "\n",
      "Attaching package: ‘magrittr’\n",
      "\n",
      "The following object is masked from ‘package:purrr’:\n",
      "\n",
      "    set_names\n",
      "\n",
      "The following object is masked from ‘package:tidyr’:\n",
      "\n",
      "    extract\n",
      "\n",
      "here() starts at /home/denis/Documents/rdionica\n"
     ]
    }
   ],
   "source": [
    "# skupina paketa koja sadrži većinu paketa koje\n",
    "# ćemo koristiti za baratanje podacima\n",
    "library(tidyverse)\n",
    "\n",
    "# paket koji sadrži 'pipe' operatore\n",
    "library(magrittr)\n",
    "\n",
    "# upozorava na konflikte u imenima funkcija\n",
    "# koji se javljaju kad više paketa koristi isto\n",
    "# ime\n",
    "library(conflicted)\n",
    "\n",
    "# omogućava učitavanje .SAV fielova\n",
    "library(haven)\n",
    "\n",
    "# paket koji sadrži neke zgodne olakšice\n",
    "library(wrapr)\n",
    "\n",
    "# olakšava korištenje relativnih file pathova\n",
    "library(here)"
   ]
  },
  {
   "cell_type": "markdown",
   "metadata": {
    "slideshow": {
     "slide_type": "slide"
    }
   },
   "source": [
    "## Učitavanje podatka"
   ]
  },
  {
   "cell_type": "markdown",
   "metadata": {
    "slideshow": {
     "slide_type": "slide"
    }
   },
   "source": [
    "Za početak, pogledat ćemo kako izgledaju naši sirovi podaci.\n",
    "\n",
    "A da bismo to učinili, prvo ih moramo učitati u R.\n",
    "\n",
    "Vidjet ćemo kako učitati tri vrste datoteka: SPSS-ov `.sav`, Excelov `.xls/xlsx` te generički *comma separated values* file - `.csv`."
   ]
  },
  {
   "cell_type": "markdown",
   "metadata": {
    "slideshow": {
     "slide_type": "slide"
    }
   },
   "source": [
    "### SPSS - .sav"
   ]
  },
  {
   "cell_type": "markdown",
   "metadata": {},
   "source": [
    "`.sav` datoteke možemo učitati koristeći funkciju `read_sav` iz paketa `haven` (dio `tidyversea`). Funkcija kao argument prima samo put do datoteke koju želimo učitati."
   ]
  },
  {
   "cell_type": "code",
   "execution_count": 5,
   "metadata": {},
   "outputs": [],
   "source": [
    "podaci_spss <- read_sav(here('podaci', 'podaci_upitnik.sav'))"
   ]
  },
  {
   "cell_type": "markdown",
   "metadata": {
    "slideshow": {
     "slide_type": "subslide"
    }
   },
   "source": [
    "Funkcija `here` konstruira relativni put do datoteke `podaci_upitnik.csv`, koji kreće od *root* foldera, a koji je označen prisustvom prazne datoteke imena `.here`."
   ]
  },
  {
   "cell_type": "markdown",
   "metadata": {
    "slideshow": {
     "slide_type": "subslide"
    }
   },
   "source": [
    "To je jedan od načina koji osigurava reproducibilnost obrada pri prijenosu koda s jednog računala na drugo i lišava nas muke ručnog mijenjanja puteva do datoteka. Isto postižemo stvaranjem projekta u RStudiju. Osim na datoteku `.here`, funkcija `here` reagira i na datoteke sa sufiksom `.Rproj` (koje nastaju pri stvaranju RStudio projekta)."
   ]
  },
  {
   "cell_type": "markdown",
   "metadata": {},
   "source": [
    "Kad pogledamo učitane podatke, primjećujemo nešto neobično kod `pi_` varijabli."
   ]
  },
  {
   "cell_type": "code",
   "execution_count": 6,
   "metadata": {},
   "outputs": [
    {
     "data": {
      "text/html": [
       "<table>\n",
       "<thead><tr><th scope=col>attitudesAndNorms01</th><th scope=col>attitudesAndNorms02</th><th scope=col>attitudesAndNorms03</th><th scope=col>attitudesAndNorms04</th><th scope=col>attitudesAndNorms05</th><th scope=col>attitudesAndNorms06</th><th scope=col>attitudesAndNorms07</th><th scope=col>attitudesAndNorms08</th><th scope=col>callToAction</th><th scope=col>charitableBehavior01</th><th scope=col>charitableBehavior02</th><th scope=col>descriptiveSocialNorms01</th><th scope=col>descriptiveSocialNorms02</th><th scope=col>descriptiveSocialNorms03</th><th scope=col>descriptiveSocialNorms04</th><th scope=col>mf_AuthoritySubversion</th><th scope=col>mf_CareHarm</th><th scope=col>mf_FairnessCheating</th><th scope=col>mf_LoyaltyBetrayal</th><th scope=col>mf_SanctityDegradation</th><th scope=col>moralFoundations01</th><th scope=col>moralFoundations02</th><th scope=col>moralFoundations03</th><th scope=col>moralFoundations04</th><th scope=col>moralFoundations05</th><th scope=col>moralFoundations06</th><th scope=col>moralFoundations07</th><th scope=col>moralFoundations08</th><th scope=col>moralFoundations09</th><th scope=col>moralFoundations10</th><th scope=col>moralFoundations11</th><th scope=col>moralFoundations12</th><th scope=col>moralFoundations13</th><th scope=col>moralFoundations14</th><th scope=col>moralFoundations15</th><th scope=col>moralFoundations16</th><th scope=col>moralFoundations17</th><th scope=col>moralFoundations18</th><th scope=col>moralFoundations19</th><th scope=col>moralFoundations20</th><th scope=col>moralFoundations21</th><th scope=col>moralFoundations22</th><th scope=col>moralFoundations23</th><th scope=col>moralFoundations24</th><th scope=col>moralFoundations25</th><th scope=col>moralFoundations26</th><th scope=col>moralFoundations27</th><th scope=col>moralFoundations28</th><th scope=col>moralFoundations29</th><th scope=col>moralFoundations30</th><th scope=col>moralFoundations31</th><th scope=col>moralFoundations32</th><th scope=col>moralIdentityInternalization01</th><th scope=col>moralIdentityInternalization02</th><th scope=col>moralIdentityInternalization03</th><th scope=col>moralIdentityInternalization04</th><th scope=col>moralIdentityInternalization05</th><th scope=col>pi_age</th><th scope=col>pi_education</th><th scope=col>pi_gender</th><th scope=col>pi_ideology</th><th scope=col>pi_income</th><th scope=col>pi_nationality</th><th scope=col>pi_previousDonations</th><th scope=col>V65</th></tr></thead>\n",
       "<tbody>\n",
       "\t<tr><td>5                              </td><td>5                              </td><td>5                              </td><td>5                              </td><td>4                              </td><td>3                              </td><td>4                              </td><td>6                              </td><td>7                              </td><td>37                             </td><td>4                              </td><td>4                              </td><td>3                              </td><td>2                              </td><td>2                              </td><td>1                              </td><td>3                              </td><td>3                              </td><td>2                              </td><td> 1                             </td><td>4                              </td><td>4                              </td><td>3                              </td><td>1                              </td><td> 2                             </td><td> 0                             </td><td>4                              </td><td>4                              </td><td>3                              </td><td> 0                             </td><td> 1                             </td><td>6                              </td><td>3                              </td><td>4                              </td><td>3                              </td><td> 3                             </td><td>2                              </td><td>2                              </td><td>0                              </td><td>0                              </td><td>0                              </td><td>4                              </td><td>3                              </td><td>4                              </td><td>0                              </td><td>1                              </td><td>1                              </td><td> 0                             </td><td>1                              </td><td>1                              </td><td>3                              </td><td>1                              </td><td>5                              </td><td>2                              </td><td>1                              </td><td>2                              </td><td>3                              </td><td> 3                             </td><td>\"Some professional diploma     </td><td> no degree\"                    </td><td>Male                           </td><td>Neither liberal or conservative</td><td>Somewhat below the average     </td><td>American                       </td><td>Rarely                         </td></tr>\n",
       "\t<tr><td>5                              </td><td>4                              </td><td>2                              </td><td>1                              </td><td>2                              </td><td>2                              </td><td>3                              </td><td>7                              </td><td>6                              </td><td>18                             </td><td>3                              </td><td>3                              </td><td>1                              </td><td>3                              </td><td>1                              </td><td>1                              </td><td>3                              </td><td>3                              </td><td>2                              </td><td> 1                             </td><td>3                              </td><td>3                              </td><td>0                              </td><td>0                              </td><td> 2                             </td><td> 0                             </td><td>3                              </td><td>3                              </td><td>3                              </td><td>-1                             </td><td> 3                             </td><td>5                              </td><td>5                              </td><td>2                              </td><td>2                              </td><td> 1                             </td><td>5                              </td><td>3                              </td><td>2                              </td><td>1                              </td><td>1                              </td><td>4                              </td><td>3                              </td><td>3                              </td><td>0                              </td><td>1                              </td><td>1                              </td><td>-1                             </td><td>1                              </td><td>1                              </td><td>2                              </td><td>0                              </td><td>4                              </td><td>3                              </td><td>1                              </td><td>3                              </td><td>4                              </td><td>20                             </td><td>Master's degree                </td><td>Male                           </td><td>Very liberal (left)            </td><td>Somewhat above the average     </td><td>USA                            </td><td>Regularly                      </td><td>                               </td></tr>\n",
       "\t<tr><td>4                              </td><td>6                              </td><td>5                              </td><td>5                              </td><td>3                              </td><td>2                              </td><td>4                              </td><td>5                              </td><td>7                              </td><td> 7                             </td><td>3                              </td><td>3                              </td><td>3                              </td><td>2                              </td><td>5                              </td><td>2                              </td><td>3                              </td><td>4                              </td><td>2                              </td><td> 1                             </td><td>4                              </td><td>4                              </td><td>2                              </td><td>2                              </td><td> 1                             </td><td> 0                             </td><td>4                              </td><td>4                              </td><td>2                              </td><td> 1                             </td><td> 1                             </td><td>4                              </td><td>4                              </td><td>1                              </td><td>2                              </td><td> 1                             </td><td>3                              </td><td>3                              </td><td>4                              </td><td>0                              </td><td>1                              </td><td>6                              </td><td>4                              </td><td>1                              </td><td>1                              </td><td>1                              </td><td>0                              </td><td> 2                             </td><td>3                              </td><td>1                              </td><td>1                              </td><td>0                              </td><td>6                              </td><td>5                              </td><td>1                              </td><td>1                              </td><td>5                              </td><td>20                             </td><td>High school                    </td><td>Male                           </td><td>Neither liberal or conservative</td><td>Somewhat above the average     </td><td>Turkish                        </td><td>Rarely                         </td><td>                               </td></tr>\n",
       "\t<tr><td>6                              </td><td>2                              </td><td>3                              </td><td>2                              </td><td>2                              </td><td>3                              </td><td>5                              </td><td>6                              </td><td>1                              </td><td>14                             </td><td>5                              </td><td>1                              </td><td>1                              </td><td>2                              </td><td>3                              </td><td>2                              </td><td>3                              </td><td>3                              </td><td>3                              </td><td> 1                             </td><td>3                              </td><td>3                              </td><td>1                              </td><td>2                              </td><td> 3                             </td><td> 2                             </td><td>4                              </td><td>3                              </td><td>4                              </td><td> 3                             </td><td> 0                             </td><td>5                              </td><td>5                              </td><td>1                              </td><td>1                              </td><td> 2                             </td><td>4                              </td><td>4                              </td><td>2                              </td><td>4                              </td><td>1                              </td><td>4                              </td><td>2                              </td><td>5                              </td><td>2                              </td><td>5                              </td><td>1                              </td><td>-1                             </td><td>2                              </td><td>1                              </td><td>5                              </td><td>4                              </td><td>6                              </td><td>4                              </td><td>1                              </td><td>3                              </td><td>4                              </td><td>19                             </td><td>Master's degree                </td><td>Male                           </td><td>Very liberal (left)            </td><td>Somewhat above the average     </td><td>United States of America       </td><td>Rarely                         </td><td>                               </td></tr>\n",
       "\t<tr><td>4                              </td><td>1                              </td><td>2                              </td><td>3                              </td><td>1                              </td><td>2                              </td><td>4                              </td><td>5                              </td><td>8                              </td><td> 0                             </td><td>0                              </td><td>3                              </td><td>1                              </td><td>2                              </td><td>4                              </td><td>2                              </td><td>4                              </td><td>2                              </td><td>2                              </td><td> 1                             </td><td>3                              </td><td>1                              </td><td>1                              </td><td>2                              </td><td> 3                             </td><td>-1                             </td><td>5                              </td><td>3                              </td><td>3                              </td><td> 2                             </td><td> 1                             </td><td>4                              </td><td>5                              </td><td>3                              </td><td>2                              </td><td>-1                             </td><td>4                              </td><td>5                              </td><td>2                              </td><td>1                              </td><td>3                              </td><td>4                              </td><td>4                              </td><td>2                              </td><td>0                              </td><td>0                              </td><td>1                              </td><td>-1                             </td><td>4                              </td><td>2                              </td><td>2                              </td><td>2                              </td><td>4                              </td><td>3                              </td><td>1                              </td><td>2                              </td><td>4                              </td><td>22                             </td><td>Master's degree                </td><td>Female                         </td><td>Very liberal (left)            </td><td>Somewhat above the average     </td><td>US                             </td><td>Regularly                      </td><td>                               </td></tr>\n",
       "\t<tr><td>4                              </td><td>4                              </td><td>4                              </td><td>3                              </td><td>4                              </td><td>3                              </td><td>5                              </td><td>5                              </td><td>7                              </td><td>37                             </td><td>2                              </td><td>1                              </td><td>1                              </td><td>3                              </td><td>2                              </td><td>0                              </td><td>3                              </td><td>4                              </td><td>1                              </td><td>-1                             </td><td>4                              </td><td>4                              </td><td>0                              </td><td>0                              </td><td>-1                             </td><td> 1                             </td><td>2                              </td><td>4                              </td><td>3                              </td><td> 0                             </td><td>-1                             </td><td>4                              </td><td>3                              </td><td>3                              </td><td>3                              </td><td> 1                             </td><td>4                              </td><td>2                              </td><td>2                              </td><td>3                              </td><td>3                              </td><td>3                              </td><td>0                              </td><td>3                              </td><td>3                              </td><td>2                              </td><td>1                              </td><td> 1                             </td><td>1                              </td><td>1                              </td><td>2                              </td><td>1                              </td><td>4                              </td><td>6                              </td><td>1                              </td><td>1                              </td><td>4                              </td><td>25                             </td><td>Master's degree                </td><td>Male                           </td><td>Very liberal (left)            </td><td>Somewhat above the average     </td><td>USA                            </td><td>Regularly                      </td><td>                               </td></tr>\n",
       "</tbody>\n",
       "</table>\n"
      ],
      "text/latex": [
       "\\begin{tabular}{r|lllllllllllllllllllllllllllllllllllllllllllllllllllllllllllllllll}\n",
       " attitudesAndNorms01 & attitudesAndNorms02 & attitudesAndNorms03 & attitudesAndNorms04 & attitudesAndNorms05 & attitudesAndNorms06 & attitudesAndNorms07 & attitudesAndNorms08 & callToAction & charitableBehavior01 & charitableBehavior02 & descriptiveSocialNorms01 & descriptiveSocialNorms02 & descriptiveSocialNorms03 & descriptiveSocialNorms04 & mf\\_AuthoritySubversion & mf\\_CareHarm & mf\\_FairnessCheating & mf\\_LoyaltyBetrayal & mf\\_SanctityDegradation & moralFoundations01 & moralFoundations02 & moralFoundations03 & moralFoundations04 & moralFoundations05 & moralFoundations06 & moralFoundations07 & moralFoundations08 & moralFoundations09 & moralFoundations10 & moralFoundations11 & moralFoundations12 & moralFoundations13 & moralFoundations14 & moralFoundations15 & moralFoundations16 & moralFoundations17 & moralFoundations18 & moralFoundations19 & moralFoundations20 & moralFoundations21 & moralFoundations22 & moralFoundations23 & moralFoundations24 & moralFoundations25 & moralFoundations26 & moralFoundations27 & moralFoundations28 & moralFoundations29 & moralFoundations30 & moralFoundations31 & moralFoundations32 & moralIdentityInternalization01 & moralIdentityInternalization02 & moralIdentityInternalization03 & moralIdentityInternalization04 & moralIdentityInternalization05 & pi\\_age & pi\\_education & pi\\_gender & pi\\_ideology & pi\\_income & pi\\_nationality & pi\\_previousDonations & V65\\\\\n",
       "\\hline\n",
       "\t 5                               & 5                               & 5                               & 5                               & 4                               & 3                               & 4                               & 6                               & 7                               & 37                              & 4                               & 4                               & 3                               & 2                               & 2                               & 1                               & 3                               & 3                               & 2                               &  1                              & 4                               & 4                               & 3                               & 1                               &  2                              &  0                              & 4                               & 4                               & 3                               &  0                              &  1                              & 6                               & 3                               & 4                               & 3                               &  3                              & 2                               & 2                               & 0                               & 0                               & 0                               & 4                               & 3                               & 4                               & 0                               & 1                               & 1                               &  0                              & 1                               & 1                               & 3                               & 1                               & 5                               & 2                               & 1                               & 2                               & 3                               &  3                              & \"Some professional diploma      &  no degree\"                     & Male                            & Neither liberal or conservative & Somewhat below the average      & American                        & Rarely                         \\\\\n",
       "\t 5                               & 4                               & 2                               & 1                               & 2                               & 2                               & 3                               & 7                               & 6                               & 18                              & 3                               & 3                               & 1                               & 3                               & 1                               & 1                               & 3                               & 3                               & 2                               &  1                              & 3                               & 3                               & 0                               & 0                               &  2                              &  0                              & 3                               & 3                               & 3                               & -1                              &  3                              & 5                               & 5                               & 2                               & 2                               &  1                              & 5                               & 3                               & 2                               & 1                               & 1                               & 4                               & 3                               & 3                               & 0                               & 1                               & 1                               & -1                              & 1                               & 1                               & 2                               & 0                               & 4                               & 3                               & 1                               & 3                               & 4                               & 20                              & Master's degree                 & Male                            & Very liberal (left)             & Somewhat above the average      & USA                             & Regularly                       &                                \\\\\n",
       "\t 4                               & 6                               & 5                               & 5                               & 3                               & 2                               & 4                               & 5                               & 7                               &  7                              & 3                               & 3                               & 3                               & 2                               & 5                               & 2                               & 3                               & 4                               & 2                               &  1                              & 4                               & 4                               & 2                               & 2                               &  1                              &  0                              & 4                               & 4                               & 2                               &  1                              &  1                              & 4                               & 4                               & 1                               & 2                               &  1                              & 3                               & 3                               & 4                               & 0                               & 1                               & 6                               & 4                               & 1                               & 1                               & 1                               & 0                               &  2                              & 3                               & 1                               & 1                               & 0                               & 6                               & 5                               & 1                               & 1                               & 5                               & 20                              & High school                     & Male                            & Neither liberal or conservative & Somewhat above the average      & Turkish                         & Rarely                          &                                \\\\\n",
       "\t 6                               & 2                               & 3                               & 2                               & 2                               & 3                               & 5                               & 6                               & 1                               & 14                              & 5                               & 1                               & 1                               & 2                               & 3                               & 2                               & 3                               & 3                               & 3                               &  1                              & 3                               & 3                               & 1                               & 2                               &  3                              &  2                              & 4                               & 3                               & 4                               &  3                              &  0                              & 5                               & 5                               & 1                               & 1                               &  2                              & 4                               & 4                               & 2                               & 4                               & 1                               & 4                               & 2                               & 5                               & 2                               & 5                               & 1                               & -1                              & 2                               & 1                               & 5                               & 4                               & 6                               & 4                               & 1                               & 3                               & 4                               & 19                              & Master's degree                 & Male                            & Very liberal (left)             & Somewhat above the average      & United States of America        & Rarely                          &                                \\\\\n",
       "\t 4                               & 1                               & 2                               & 3                               & 1                               & 2                               & 4                               & 5                               & 8                               &  0                              & 0                               & 3                               & 1                               & 2                               & 4                               & 2                               & 4                               & 2                               & 2                               &  1                              & 3                               & 1                               & 1                               & 2                               &  3                              & -1                              & 5                               & 3                               & 3                               &  2                              &  1                              & 4                               & 5                               & 3                               & 2                               & -1                              & 4                               & 5                               & 2                               & 1                               & 3                               & 4                               & 4                               & 2                               & 0                               & 0                               & 1                               & -1                              & 4                               & 2                               & 2                               & 2                               & 4                               & 3                               & 1                               & 2                               & 4                               & 22                              & Master's degree                 & Female                          & Very liberal (left)             & Somewhat above the average      & US                              & Regularly                       &                                \\\\\n",
       "\t 4                               & 4                               & 4                               & 3                               & 4                               & 3                               & 5                               & 5                               & 7                               & 37                              & 2                               & 1                               & 1                               & 3                               & 2                               & 0                               & 3                               & 4                               & 1                               & -1                              & 4                               & 4                               & 0                               & 0                               & -1                              &  1                              & 2                               & 4                               & 3                               &  0                              & -1                              & 4                               & 3                               & 3                               & 3                               &  1                              & 4                               & 2                               & 2                               & 3                               & 3                               & 3                               & 0                               & 3                               & 3                               & 2                               & 1                               &  1                              & 1                               & 1                               & 2                               & 1                               & 4                               & 6                               & 1                               & 1                               & 4                               & 25                              & Master's degree                 & Male                            & Very liberal (left)             & Somewhat above the average      & USA                             & Regularly                       &                                \\\\\n",
       "\\end{tabular}\n"
      ],
      "text/markdown": [
       "\n",
       "attitudesAndNorms01 | attitudesAndNorms02 | attitudesAndNorms03 | attitudesAndNorms04 | attitudesAndNorms05 | attitudesAndNorms06 | attitudesAndNorms07 | attitudesAndNorms08 | callToAction | charitableBehavior01 | charitableBehavior02 | descriptiveSocialNorms01 | descriptiveSocialNorms02 | descriptiveSocialNorms03 | descriptiveSocialNorms04 | mf_AuthoritySubversion | mf_CareHarm | mf_FairnessCheating | mf_LoyaltyBetrayal | mf_SanctityDegradation | moralFoundations01 | moralFoundations02 | moralFoundations03 | moralFoundations04 | moralFoundations05 | moralFoundations06 | moralFoundations07 | moralFoundations08 | moralFoundations09 | moralFoundations10 | moralFoundations11 | moralFoundations12 | moralFoundations13 | moralFoundations14 | moralFoundations15 | moralFoundations16 | moralFoundations17 | moralFoundations18 | moralFoundations19 | moralFoundations20 | moralFoundations21 | moralFoundations22 | moralFoundations23 | moralFoundations24 | moralFoundations25 | moralFoundations26 | moralFoundations27 | moralFoundations28 | moralFoundations29 | moralFoundations30 | moralFoundations31 | moralFoundations32 | moralIdentityInternalization01 | moralIdentityInternalization02 | moralIdentityInternalization03 | moralIdentityInternalization04 | moralIdentityInternalization05 | pi_age | pi_education | pi_gender | pi_ideology | pi_income | pi_nationality | pi_previousDonations | V65 | \n",
       "|---|---|---|---|---|---|\n",
       "| 5                               | 5                               | 5                               | 5                               | 4                               | 3                               | 4                               | 6                               | 7                               | 37                              | 4                               | 4                               | 3                               | 2                               | 2                               | 1                               | 3                               | 3                               | 2                               |  1                              | 4                               | 4                               | 3                               | 1                               |  2                              |  0                              | 4                               | 4                               | 3                               |  0                              |  1                              | 6                               | 3                               | 4                               | 3                               |  3                              | 2                               | 2                               | 0                               | 0                               | 0                               | 4                               | 3                               | 4                               | 0                               | 1                               | 1                               |  0                              | 1                               | 1                               | 3                               | 1                               | 5                               | 2                               | 1                               | 2                               | 3                               |  3                              | \"Some professional diploma      |  no degree\"                     | Male                            | Neither liberal or conservative | Somewhat below the average      | American                        | Rarely                          | \n",
       "| 5                               | 4                               | 2                               | 1                               | 2                               | 2                               | 3                               | 7                               | 6                               | 18                              | 3                               | 3                               | 1                               | 3                               | 1                               | 1                               | 3                               | 3                               | 2                               |  1                              | 3                               | 3                               | 0                               | 0                               |  2                              |  0                              | 3                               | 3                               | 3                               | -1                              |  3                              | 5                               | 5                               | 2                               | 2                               |  1                              | 5                               | 3                               | 2                               | 1                               | 1                               | 4                               | 3                               | 3                               | 0                               | 1                               | 1                               | -1                              | 1                               | 1                               | 2                               | 0                               | 4                               | 3                               | 1                               | 3                               | 4                               | 20                              | Master's degree                 | Male                            | Very liberal (left)             | Somewhat above the average      | USA                             | Regularly                       |                                 | \n",
       "| 4                               | 6                               | 5                               | 5                               | 3                               | 2                               | 4                               | 5                               | 7                               |  7                              | 3                               | 3                               | 3                               | 2                               | 5                               | 2                               | 3                               | 4                               | 2                               |  1                              | 4                               | 4                               | 2                               | 2                               |  1                              |  0                              | 4                               | 4                               | 2                               |  1                              |  1                              | 4                               | 4                               | 1                               | 2                               |  1                              | 3                               | 3                               | 4                               | 0                               | 1                               | 6                               | 4                               | 1                               | 1                               | 1                               | 0                               |  2                              | 3                               | 1                               | 1                               | 0                               | 6                               | 5                               | 1                               | 1                               | 5                               | 20                              | High school                     | Male                            | Neither liberal or conservative | Somewhat above the average      | Turkish                         | Rarely                          |                                 | \n",
       "| 6                               | 2                               | 3                               | 2                               | 2                               | 3                               | 5                               | 6                               | 1                               | 14                              | 5                               | 1                               | 1                               | 2                               | 3                               | 2                               | 3                               | 3                               | 3                               |  1                              | 3                               | 3                               | 1                               | 2                               |  3                              |  2                              | 4                               | 3                               | 4                               |  3                              |  0                              | 5                               | 5                               | 1                               | 1                               |  2                              | 4                               | 4                               | 2                               | 4                               | 1                               | 4                               | 2                               | 5                               | 2                               | 5                               | 1                               | -1                              | 2                               | 1                               | 5                               | 4                               | 6                               | 4                               | 1                               | 3                               | 4                               | 19                              | Master's degree                 | Male                            | Very liberal (left)             | Somewhat above the average      | United States of America        | Rarely                          |                                 | \n",
       "| 4                               | 1                               | 2                               | 3                               | 1                               | 2                               | 4                               | 5                               | 8                               |  0                              | 0                               | 3                               | 1                               | 2                               | 4                               | 2                               | 4                               | 2                               | 2                               |  1                              | 3                               | 1                               | 1                               | 2                               |  3                              | -1                              | 5                               | 3                               | 3                               |  2                              |  1                              | 4                               | 5                               | 3                               | 2                               | -1                              | 4                               | 5                               | 2                               | 1                               | 3                               | 4                               | 4                               | 2                               | 0                               | 0                               | 1                               | -1                              | 4                               | 2                               | 2                               | 2                               | 4                               | 3                               | 1                               | 2                               | 4                               | 22                              | Master's degree                 | Female                          | Very liberal (left)             | Somewhat above the average      | US                              | Regularly                       |                                 | \n",
       "| 4                               | 4                               | 4                               | 3                               | 4                               | 3                               | 5                               | 5                               | 7                               | 37                              | 2                               | 1                               | 1                               | 3                               | 2                               | 0                               | 3                               | 4                               | 1                               | -1                              | 4                               | 4                               | 0                               | 0                               | -1                              |  1                              | 2                               | 4                               | 3                               |  0                              | -1                              | 4                               | 3                               | 3                               | 3                               |  1                              | 4                               | 2                               | 2                               | 3                               | 3                               | 3                               | 0                               | 3                               | 3                               | 2                               | 1                               |  1                              | 1                               | 1                               | 2                               | 1                               | 4                               | 6                               | 1                               | 1                               | 4                               | 25                              | Master's degree                 | Male                            | Very liberal (left)             | Somewhat above the average      | USA                             | Regularly                       |                                 | \n",
       "\n",
       "\n"
      ],
      "text/plain": [
       "  attitudesAndNorms01 attitudesAndNorms02 attitudesAndNorms03\n",
       "1 5                   5                   5                  \n",
       "2 5                   4                   2                  \n",
       "3 4                   6                   5                  \n",
       "4 6                   2                   3                  \n",
       "5 4                   1                   2                  \n",
       "6 4                   4                   4                  \n",
       "  attitudesAndNorms04 attitudesAndNorms05 attitudesAndNorms06\n",
       "1 5                   4                   3                  \n",
       "2 1                   2                   2                  \n",
       "3 5                   3                   2                  \n",
       "4 2                   2                   3                  \n",
       "5 3                   1                   2                  \n",
       "6 3                   4                   3                  \n",
       "  attitudesAndNorms07 attitudesAndNorms08 callToAction charitableBehavior01\n",
       "1 4                   6                   7            37                  \n",
       "2 3                   7                   6            18                  \n",
       "3 4                   5                   7             7                  \n",
       "4 5                   6                   1            14                  \n",
       "5 4                   5                   8             0                  \n",
       "6 5                   5                   7            37                  \n",
       "  charitableBehavior02 descriptiveSocialNorms01 descriptiveSocialNorms02\n",
       "1 4                    4                        3                       \n",
       "2 3                    3                        1                       \n",
       "3 3                    3                        3                       \n",
       "4 5                    1                        1                       \n",
       "5 0                    3                        1                       \n",
       "6 2                    1                        1                       \n",
       "  descriptiveSocialNorms03 descriptiveSocialNorms04 mf_AuthoritySubversion\n",
       "1 2                        2                        1                     \n",
       "2 3                        1                        1                     \n",
       "3 2                        5                        2                     \n",
       "4 2                        3                        2                     \n",
       "5 2                        4                        2                     \n",
       "6 3                        2                        0                     \n",
       "  mf_CareHarm mf_FairnessCheating mf_LoyaltyBetrayal mf_SanctityDegradation\n",
       "1 3           3                   2                   1                    \n",
       "2 3           3                   2                   1                    \n",
       "3 3           4                   2                   1                    \n",
       "4 3           3                   3                   1                    \n",
       "5 4           2                   2                   1                    \n",
       "6 3           4                   1                  -1                    \n",
       "  moralFoundations01 moralFoundations02 moralFoundations03 moralFoundations04\n",
       "1 4                  4                  3                  1                 \n",
       "2 3                  3                  0                  0                 \n",
       "3 4                  4                  2                  2                 \n",
       "4 3                  3                  1                  2                 \n",
       "5 3                  1                  1                  2                 \n",
       "6 4                  4                  0                  0                 \n",
       "  moralFoundations05 moralFoundations06 moralFoundations07 moralFoundations08\n",
       "1  2                  0                 4                  4                 \n",
       "2  2                  0                 3                  3                 \n",
       "3  1                  0                 4                  4                 \n",
       "4  3                  2                 4                  3                 \n",
       "5  3                 -1                 5                  3                 \n",
       "6 -1                  1                 2                  4                 \n",
       "  moralFoundations09 moralFoundations10 moralFoundations11 moralFoundations12\n",
       "1 3                   0                  1                 6                 \n",
       "2 3                  -1                  3                 5                 \n",
       "3 2                   1                  1                 4                 \n",
       "4 4                   3                  0                 5                 \n",
       "5 3                   2                  1                 4                 \n",
       "6 3                   0                 -1                 4                 \n",
       "  moralFoundations13 moralFoundations14 moralFoundations15 moralFoundations16\n",
       "1 3                  4                  3                   3                \n",
       "2 5                  2                  2                   1                \n",
       "3 4                  1                  2                   1                \n",
       "4 5                  1                  1                   2                \n",
       "5 5                  3                  2                  -1                \n",
       "6 3                  3                  3                   1                \n",
       "  moralFoundations17 moralFoundations18 moralFoundations19 moralFoundations20\n",
       "1 2                  2                  0                  0                 \n",
       "2 5                  3                  2                  1                 \n",
       "3 3                  3                  4                  0                 \n",
       "4 4                  4                  2                  4                 \n",
       "5 4                  5                  2                  1                 \n",
       "6 4                  2                  2                  3                 \n",
       "  moralFoundations21 moralFoundations22 moralFoundations23 moralFoundations24\n",
       "1 0                  4                  3                  4                 \n",
       "2 1                  4                  3                  3                 \n",
       "3 1                  6                  4                  1                 \n",
       "4 1                  4                  2                  5                 \n",
       "5 3                  4                  4                  2                 \n",
       "6 3                  3                  0                  3                 \n",
       "  moralFoundations25 moralFoundations26 moralFoundations27 moralFoundations28\n",
       "1 0                  1                  1                   0                \n",
       "2 0                  1                  1                  -1                \n",
       "3 1                  1                  0                   2                \n",
       "4 2                  5                  1                  -1                \n",
       "5 0                  0                  1                  -1                \n",
       "6 3                  2                  1                   1                \n",
       "  moralFoundations29 moralFoundations30 moralFoundations31 moralFoundations32\n",
       "1 1                  1                  3                  1                 \n",
       "2 1                  1                  2                  0                 \n",
       "3 3                  1                  1                  0                 \n",
       "4 2                  1                  5                  4                 \n",
       "5 4                  2                  2                  2                 \n",
       "6 1                  1                  2                  1                 \n",
       "  moralIdentityInternalization01 moralIdentityInternalization02\n",
       "1 5                              2                             \n",
       "2 4                              3                             \n",
       "3 6                              5                             \n",
       "4 6                              4                             \n",
       "5 4                              3                             \n",
       "6 4                              6                             \n",
       "  moralIdentityInternalization03 moralIdentityInternalization04\n",
       "1 1                              2                             \n",
       "2 1                              3                             \n",
       "3 1                              1                             \n",
       "4 1                              3                             \n",
       "5 1                              2                             \n",
       "6 1                              1                             \n",
       "  moralIdentityInternalization05 pi_age pi_education               pi_gender  \n",
       "1 3                               3     \"Some professional diploma  no degree\"\n",
       "2 4                              20     Master's degree            Male       \n",
       "3 5                              20     High school                Male       \n",
       "4 4                              19     Master's degree            Male       \n",
       "5 4                              22     Master's degree            Female     \n",
       "6 4                              25     Master's degree            Male       \n",
       "  pi_ideology                     pi_income                      \n",
       "1 Male                            Neither liberal or conservative\n",
       "2 Very liberal (left)             Somewhat above the average     \n",
       "3 Neither liberal or conservative Somewhat above the average     \n",
       "4 Very liberal (left)             Somewhat above the average     \n",
       "5 Very liberal (left)             Somewhat above the average     \n",
       "6 Very liberal (left)             Somewhat above the average     \n",
       "  pi_nationality             pi_previousDonations V65   \n",
       "1 Somewhat below the average American             Rarely\n",
       "2 USA                        Regularly                  \n",
       "3 Turkish                    Rarely                     \n",
       "4 United States of America   Rarely                     \n",
       "5 US                         Regularly                  \n",
       "6 USA                        Regularly                  "
      ]
     },
     "metadata": {},
     "output_type": "display_data"
    }
   ],
   "source": [
    "head(podaci_spss)"
   ]
  },
  {
   "cell_type": "markdown",
   "metadata": {},
   "source": [
    "Kod nekih sudionika, unos pod `pi_education` je razdvojen u dva stupca, pri čemu je jedna vrijednost nasilno gurnuta u `pi_gender`. To je dovelo i do stvaranja nove varijable `V65`, koja sadrži vrijednosti koje bi se trebale javljati pod `pi_previous donations`. Dakle, kod nekih sudionika su vrijednosti iza `pi_education` pomaknute za jedno mjesto udesno.\n",
    "\n",
    "Do toga je došlo jer je puni naziv jedne razine varijable `pi_education`: \"Some professional diploma, no degree\". Zbog zareza u nazivu razine dolazi do pogreške u parsanju varijabli, pa dolazi do pomaka udesno i stvaranja varijable viška.\n",
    "\n",
    "Ovaj problem lako možemo riješiti tako da otvorimo izvornu bazu podataka i samo napravimo find and replace kako bismo uklonili zarez smutnje. Lako ga je riješiti ako imamo SPSS. Druga opcija je korištenje besplatnog online `.sav` -> `.csv` konvertera (link se nalazi u referencama). Time ćemo dobiti datoteku koju možemo otvoriti u nekom text editoru (recimo, Notepadu), te učiniti potrebne promjene (opet find and replace). Treći način je, naravno, prtljanje po podacima u R-u, što ćemo ostaviti za kraj radionice."
   ]
  },
  {
   "cell_type": "markdown",
   "metadata": {
    "slideshow": {
     "slide_type": "slide"
    }
   },
   "source": [
    "### Excel - .xls(x)"
   ]
  },
  {
   "cell_type": "markdown",
   "metadata": {
    "slideshow": {
     "slide_type": "slide"
    }
   },
   "source": [
    "### Comma separated values - .csv"
   ]
  },
  {
   "cell_type": "markdown",
   "metadata": {
    "slideshow": {
     "slide_type": "subslide"
    }
   },
   "source": [
    "*Comma separeted value* datoteke su točno to što ime kaže - podaci koji su strukturirani kao vrijednosti odvojene zarezima, gdje se svaki unos (na primjer sudionik) nalazi u zasebnom redu, a vrijednosti varijabli koje su uz njega povezane ispisane su redom i odvojene su zarezima."
   ]
  },
  {
   "cell_type": "markdown",
   "metadata": {
    "slideshow": {
     "slide_type": "subslide"
    }
   },
   "source": [
    "U prvom redu (koji funkcije u R-u često nazivaju **header**) obično se nalaze imena varijabli, a u ostalim redovima su njihove vrijednosti.\n",
    "\n",
    "Ovako izgledaju prva dva reda i prvih nekoliko stupaca datoteke `podaci_upitnik.csv`:\n",
    "\n",
    "```\n",
    "attitudesAndNorms01,attitudesAndNorms02,attitudesAndNorms03, ...\n",
    "5,5,5,5,4, ...\n",
    "```"
   ]
  },
  {
   "cell_type": "markdown",
   "metadata": {
    "slideshow": {
     "slide_type": "subslide"
    }
   },
   "source": [
    "Podatke u `.csv` formatu možemo učitati pomoću funkcije `read_csv` iz `readr` paketa (koji je automatski učitan kad smo učitali `tidyverse`). Osnovni (base) R ima funkciju `read.csv` koja obavlja isti zadatak, ali neki R developeri preporučuju korištenje `read_csv` funkcije (na primjer, Hadley Wickham i Garret Grolemund: http://r4ds.had.co.nz/import.html)."
   ]
  },
  {
   "cell_type": "markdown",
   "metadata": {},
   "source": [
    "U skladu s tom preporukom, koristit ćemo `read_csv`. Podatke iz datoteke `podaci_upitnik.csv` možemo učitati ovako:"
   ]
  },
  {
   "cell_type": "code",
   "execution_count": 14,
   "metadata": {
    "slideshow": {
     "slide_type": "subslide"
    }
   },
   "outputs": [
    {
     "name": "stderr",
     "output_type": "stream",
     "text": [
      "Parsed with column specification:\n",
      "cols(\n",
      "  .default = col_integer(),\n",
      "  pi_education = col_character(),\n",
      "  pi_gender = col_character(),\n",
      "  pi_ideology = col_character(),\n",
      "  pi_income = col_character(),\n",
      "  pi_nationality = col_character(),\n",
      "  pi_previousDonations = col_character()\n",
      ")\n",
      "See spec(...) for full column specifications.\n"
     ]
    }
   ],
   "source": [
    "podaci <- read_csv(file = here('podaci', 'podaci_upitnik.csv'))"
   ]
  },
  {
   "cell_type": "markdown",
   "metadata": {
    "slideshow": {
     "slide_type": "subslide"
    }
   },
   "source": [
    "Poruka koju dobivamo obavještava nas o tome kako su određene varijable reprezentirane. Vidimo da su varijable koje počinju s `pi` reprezentirane kao `character`. Ako pozovemo funkciju `spec`, vidjet ćemo specifikacije svih varijabli."
   ]
  },
  {
   "cell_type": "markdown",
   "metadata": {
    "slideshow": {
     "slide_type": "subslide"
    }
   },
   "source": [
    "Budući da pozivanjem funkcije `str` zapravo dobivamo manje-više iste podatke, pozvat ćemo samo nju. Njen output pomoći će nam da vidimo jesu li podaci reprezentirani onako kako bismo očekivali."
   ]
  },
  {
   "cell_type": "code",
   "execution_count": 18,
   "metadata": {
    "slideshow": {
     "slide_type": "subslide"
    }
   },
   "outputs": [
    {
     "name": "stdout",
     "output_type": "stream",
     "text": [
      "Classes ‘tbl_df’, ‘tbl’ and 'data.frame':\t100 obs. of  65 variables:\n",
      " $ attitudesAndNorms01           : int  5 5 4 6 4 4 6 4 3 5 ...\n",
      " $ attitudesAndNorms02           : int  5 4 6 2 1 4 0 4 7 7 ...\n",
      " $ attitudesAndNorms03           : int  5 2 5 3 2 4 3 5 6 7 ...\n",
      " $ attitudesAndNorms04           : int  5 1 5 2 3 3 3 7 5 6 ...\n",
      " $ attitudesAndNorms05           : int  4 2 3 2 1 4 2 4 4 6 ...\n",
      " $ attitudesAndNorms06           : int  3 2 2 3 2 3 3 3 3 4 ...\n",
      " $ attitudesAndNorms07           : int  4 3 4 5 4 5 6 4 4 5 ...\n",
      " $ attitudesAndNorms08           : int  6 7 5 6 5 5 7 5 3 5 ...\n",
      " $ callToAction                  : int  7 6 7 1 8 7 11 8 3 7 ...\n",
      " $ charitableBehavior01          : int  37 18 7 14 0 37 33 29 16 6 ...\n",
      " $ charitableBehavior02          : int  4 3 3 5 0 2 4 3 2 3 ...\n",
      " $ descriptiveSocialNorms01      : int  4 3 3 1 3 1 2 4 3 4 ...\n",
      " $ descriptiveSocialNorms02      : int  3 1 3 1 1 1 2 3 3 5 ...\n",
      " $ descriptiveSocialNorms03      : int  2 3 2 2 2 3 3 4 4 5 ...\n",
      " $ descriptiveSocialNorms04      : int  2 1 5 3 4 2 2 2 2 4 ...\n",
      " $ mf_AuthoritySubversion        : int  1 1 2 2 2 0 2 1 1 2 ...\n",
      " $ mf_CareHarm                   : int  3 3 3 3 4 3 4 3 3 4 ...\n",
      " $ mf_FairnessCheating           : int  3 3 4 3 2 4 4 5 3 4 ...\n",
      " $ mf_LoyaltyBetrayal            : int  2 2 2 3 2 1 2 0 0 1 ...\n",
      " $ mf_SanctityDegradation        : int  1 1 1 1 1 -1 1 -1 1 1 ...\n",
      " $ moralFoundations01            : int  4 3 4 3 3 4 5 3 4 4 ...\n",
      " $ moralFoundations02            : int  4 3 4 3 1 4 4 4 2 5 ...\n",
      " $ moralFoundations03            : int  3 0 2 1 1 0 2 0 -1 0 ...\n",
      " $ moralFoundations04            : int  1 0 2 2 2 0 2 0 1 2 ...\n",
      " $ moralFoundations05            : int  2 2 1 3 3 -1 3 1 1 2 ...\n",
      " $ moralFoundations06            : int  0 0 0 2 -1 1 0 0 -1 1 ...\n",
      " $ moralFoundations07            : int  4 3 4 4 5 2 4 4 3 4 ...\n",
      " $ moralFoundations08            : int  4 3 4 3 3 4 5 4 3 5 ...\n",
      " $ moralFoundations09            : int  3 3 2 4 3 3 3 1 -1 1 ...\n",
      " $ moralFoundations10            : int  0 -1 1 3 2 0 2 1 1 1 ...\n",
      " $ moralFoundations11            : int  1 3 1 0 1 -1 2 0 3 3 ...\n",
      " $ moralFoundations12            : int  6 5 4 5 4 4 5 4 3 5 ...\n",
      " $ moralFoundations13            : int  3 5 4 5 5 3 4 5 4 5 ...\n",
      " $ moralFoundations14            : int  4 2 1 1 3 3 3 1 3 2 ...\n",
      " $ moralFoundations15            : int  3 2 2 1 2 3 3 2 5 3 ...\n",
      " $ moralFoundations16            : int  3 1 1 2 -1 1 -2 2 0 1 ...\n",
      " $ moralFoundations17            : int  2 5 3 4 4 4 3 4 3 3 ...\n",
      " $ moralFoundations18            : int  2 3 3 4 5 2 4 5 4 4 ...\n",
      " $ moralFoundations19            : int  0 2 4 2 2 2 4 4 4 2 ...\n",
      " $ moralFoundations20            : int  0 1 0 4 1 3 3 3 2 2 ...\n",
      " $ moralFoundations21            : int  0 1 1 1 3 3 1 2 1 -1 ...\n",
      " $ moralFoundations22            : int  4 4 6 4 4 3 5 3 5 5 ...\n",
      " $ moralFoundations23            : int  3 3 4 2 4 0 3 4 3 3 ...\n",
      " $ moralFoundations24            : int  4 3 1 5 2 3 2 6 2 3 ...\n",
      " $ moralFoundations25            : int  0 0 1 2 0 3 1 2 2 1 ...\n",
      " $ moralFoundations26            : int  1 1 1 5 0 2 2 3 1 1 ...\n",
      " $ moralFoundations27            : int  1 1 0 1 1 1 -1 2 0 1 ...\n",
      " $ moralFoundations28            : int  0 -1 2 -1 -1 1 3 1 4 1 ...\n",
      " $ moralFoundations29            : int  1 1 3 2 4 1 4 2 2 0 ...\n",
      " $ moralFoundations30            : int  1 1 1 1 2 1 1 0 2 2 ...\n",
      " $ moralFoundations31            : int  3 2 1 5 2 2 4 3 3 2 ...\n",
      " $ moralFoundations32            : int  1 0 0 4 2 1 0 1 2 1 ...\n",
      " $ moralIdentityInternalization01: int  5 4 6 6 4 4 5 3 6 5 ...\n",
      " $ moralIdentityInternalization02: int  2 3 5 4 3 6 5 2 4 5 ...\n",
      " $ moralIdentityInternalization03: int  1 1 1 1 1 1 1 1 1 1 ...\n",
      " $ moralIdentityInternalization04: int  2 3 1 3 2 1 3 3 3 1 ...\n",
      " $ moralIdentityInternalization05: int  3 4 5 4 4 4 5 3 4 5 ...\n",
      " $ pi_age                        : int  3 20 20 19 22 25 23 41 16 17 ...\n",
      " $ pi_education                  : chr  \"\\\"Some professional diploma\" \"Master's degree\" \"High school\" \"Master's degree\" ...\n",
      " $ pi_gender                     : chr  \"no degree\\\"\" \"Male\" \"Male\" \"Male\" ...\n",
      " $ pi_ideology                   : chr  \"Male\" \"Very liberal (left)\" \"Neither liberal or conservative\" \"Very liberal (left)\" ...\n",
      " $ pi_income                     : chr  \"Neither liberal or conservative\" \"Somewhat above the average\" \"Somewhat above the average\" \"Somewhat above the average\" ...\n",
      " $ pi_nationality                : chr  \"Somewhat below the average\" \"USA\" \"Turkish\" \"United States of America\" ...\n",
      " $ pi_previousDonations          : chr  \"American\" \"Regularly\" \"Rarely\" \"Rarely\" ...\n",
      " $ V65                           : chr  \"Rarely\" NA NA NA ...\n",
      " - attr(*, \"spec\")=List of 2\n",
      "  ..$ cols   :List of 65\n",
      "  .. ..$ attitudesAndNorms01           : list()\n",
      "  .. .. ..- attr(*, \"class\")= chr  \"collector_integer\" \"collector\"\n",
      "  .. ..$ attitudesAndNorms02           : list()\n",
      "  .. .. ..- attr(*, \"class\")= chr  \"collector_integer\" \"collector\"\n",
      "  .. ..$ attitudesAndNorms03           : list()\n",
      "  .. .. ..- attr(*, \"class\")= chr  \"collector_integer\" \"collector\"\n",
      "  .. ..$ attitudesAndNorms04           : list()\n",
      "  .. .. ..- attr(*, \"class\")= chr  \"collector_integer\" \"collector\"\n",
      "  .. ..$ attitudesAndNorms05           : list()\n",
      "  .. .. ..- attr(*, \"class\")= chr  \"collector_integer\" \"collector\"\n",
      "  .. ..$ attitudesAndNorms06           : list()\n",
      "  .. .. ..- attr(*, \"class\")= chr  \"collector_integer\" \"collector\"\n",
      "  .. ..$ attitudesAndNorms07           : list()\n",
      "  .. .. ..- attr(*, \"class\")= chr  \"collector_integer\" \"collector\"\n",
      "  .. ..$ attitudesAndNorms08           : list()\n",
      "  .. .. ..- attr(*, \"class\")= chr  \"collector_integer\" \"collector\"\n",
      "  .. ..$ callToAction                  : list()\n",
      "  .. .. ..- attr(*, \"class\")= chr  \"collector_integer\" \"collector\"\n",
      "  .. ..$ charitableBehavior01          : list()\n",
      "  .. .. ..- attr(*, \"class\")= chr  \"collector_integer\" \"collector\"\n",
      "  .. ..$ charitableBehavior02          : list()\n",
      "  .. .. ..- attr(*, \"class\")= chr  \"collector_integer\" \"collector\"\n",
      "  .. ..$ descriptiveSocialNorms01      : list()\n",
      "  .. .. ..- attr(*, \"class\")= chr  \"collector_integer\" \"collector\"\n",
      "  .. ..$ descriptiveSocialNorms02      : list()\n",
      "  .. .. ..- attr(*, \"class\")= chr  \"collector_integer\" \"collector\"\n",
      "  .. ..$ descriptiveSocialNorms03      : list()\n",
      "  .. .. ..- attr(*, \"class\")= chr  \"collector_integer\" \"collector\"\n",
      "  .. ..$ descriptiveSocialNorms04      : list()\n",
      "  .. .. ..- attr(*, \"class\")= chr  \"collector_integer\" \"collector\"\n",
      "  .. ..$ mf_AuthoritySubversion        : list()\n",
      "  .. .. ..- attr(*, \"class\")= chr  \"collector_integer\" \"collector\"\n",
      "  .. ..$ mf_CareHarm                   : list()\n",
      "  .. .. ..- attr(*, \"class\")= chr  \"collector_integer\" \"collector\"\n",
      "  .. ..$ mf_FairnessCheating           : list()\n",
      "  .. .. ..- attr(*, \"class\")= chr  \"collector_integer\" \"collector\"\n",
      "  .. ..$ mf_LoyaltyBetrayal            : list()\n",
      "  .. .. ..- attr(*, \"class\")= chr  \"collector_integer\" \"collector\"\n",
      "  .. ..$ mf_SanctityDegradation        : list()\n",
      "  .. .. ..- attr(*, \"class\")= chr  \"collector_integer\" \"collector\"\n",
      "  .. ..$ moralFoundations01            : list()\n",
      "  .. .. ..- attr(*, \"class\")= chr  \"collector_integer\" \"collector\"\n",
      "  .. ..$ moralFoundations02            : list()\n",
      "  .. .. ..- attr(*, \"class\")= chr  \"collector_integer\" \"collector\"\n",
      "  .. ..$ moralFoundations03            : list()\n",
      "  .. .. ..- attr(*, \"class\")= chr  \"collector_integer\" \"collector\"\n",
      "  .. ..$ moralFoundations04            : list()\n",
      "  .. .. ..- attr(*, \"class\")= chr  \"collector_integer\" \"collector\"\n",
      "  .. ..$ moralFoundations05            : list()\n",
      "  .. .. ..- attr(*, \"class\")= chr  \"collector_integer\" \"collector\"\n",
      "  .. ..$ moralFoundations06            : list()\n",
      "  .. .. ..- attr(*, \"class\")= chr  \"collector_integer\" \"collector\"\n",
      "  .. ..$ moralFoundations07            : list()\n",
      "  .. .. ..- attr(*, \"class\")= chr  \"collector_integer\" \"collector\"\n",
      "  .. ..$ moralFoundations08            : list()\n",
      "  .. .. ..- attr(*, \"class\")= chr  \"collector_integer\" \"collector\"\n",
      "  .. ..$ moralFoundations09            : list()\n",
      "  .. .. ..- attr(*, \"class\")= chr  \"collector_integer\" \"collector\"\n",
      "  .. ..$ moralFoundations10            : list()\n",
      "  .. .. ..- attr(*, \"class\")= chr  \"collector_integer\" \"collector\"\n",
      "  .. ..$ moralFoundations11            : list()\n",
      "  .. .. ..- attr(*, \"class\")= chr  \"collector_integer\" \"collector\"\n",
      "  .. ..$ moralFoundations12            : list()\n",
      "  .. .. ..- attr(*, \"class\")= chr  \"collector_integer\" \"collector\"\n",
      "  .. ..$ moralFoundations13            : list()\n",
      "  .. .. ..- attr(*, \"class\")= chr  \"collector_integer\" \"collector\"\n",
      "  .. ..$ moralFoundations14            : list()\n",
      "  .. .. ..- attr(*, \"class\")= chr  \"collector_integer\" \"collector\"\n",
      "  .. ..$ moralFoundations15            : list()\n",
      "  .. .. ..- attr(*, \"class\")= chr  \"collector_integer\" \"collector\"\n",
      "  .. ..$ moralFoundations16            : list()\n",
      "  .. .. ..- attr(*, \"class\")= chr  \"collector_integer\" \"collector\"\n",
      "  .. ..$ moralFoundations17            : list()\n",
      "  .. .. ..- attr(*, \"class\")= chr  \"collector_integer\" \"collector\"\n",
      "  .. ..$ moralFoundations18            : list()\n",
      "  .. .. ..- attr(*, \"class\")= chr  \"collector_integer\" \"collector\"\n",
      "  .. ..$ moralFoundations19            : list()\n",
      "  .. .. ..- attr(*, \"class\")= chr  \"collector_integer\" \"collector\"\n",
      "  .. ..$ moralFoundations20            : list()\n",
      "  .. .. ..- attr(*, \"class\")= chr  \"collector_integer\" \"collector\"\n",
      "  .. ..$ moralFoundations21            : list()\n",
      "  .. .. ..- attr(*, \"class\")= chr  \"collector_integer\" \"collector\"\n",
      "  .. ..$ moralFoundations22            : list()\n",
      "  .. .. ..- attr(*, \"class\")= chr  \"collector_integer\" \"collector\"\n",
      "  .. ..$ moralFoundations23            : list()\n",
      "  .. .. ..- attr(*, \"class\")= chr  \"collector_integer\" \"collector\"\n",
      "  .. ..$ moralFoundations24            : list()\n",
      "  .. .. ..- attr(*, \"class\")= chr  \"collector_integer\" \"collector\"\n",
      "  .. ..$ moralFoundations25            : list()\n",
      "  .. .. ..- attr(*, \"class\")= chr  \"collector_integer\" \"collector\"\n",
      "  .. ..$ moralFoundations26            : list()\n",
      "  .. .. ..- attr(*, \"class\")= chr  \"collector_integer\" \"collector\"\n",
      "  .. ..$ moralFoundations27            : list()\n",
      "  .. .. ..- attr(*, \"class\")= chr  \"collector_integer\" \"collector\"\n",
      "  .. ..$ moralFoundations28            : list()\n",
      "  .. .. ..- attr(*, \"class\")= chr  \"collector_integer\" \"collector\"\n",
      "  .. ..$ moralFoundations29            : list()\n",
      "  .. .. ..- attr(*, \"class\")= chr  \"collector_integer\" \"collector\"\n",
      "  .. ..$ moralFoundations30            : list()\n",
      "  .. .. ..- attr(*, \"class\")= chr  \"collector_integer\" \"collector\"\n",
      "  .. ..$ moralFoundations31            : list()\n",
      "  .. .. ..- attr(*, \"class\")= chr  \"collector_integer\" \"collector\"\n",
      "  .. ..$ moralFoundations32            : list()\n",
      "  .. .. ..- attr(*, \"class\")= chr  \"collector_integer\" \"collector\"\n",
      "  .. ..$ moralIdentityInternalization01: list()\n",
      "  .. .. ..- attr(*, \"class\")= chr  \"collector_integer\" \"collector\"\n",
      "  .. ..$ moralIdentityInternalization02: list()\n",
      "  .. .. ..- attr(*, \"class\")= chr  \"collector_integer\" \"collector\"\n",
      "  .. ..$ moralIdentityInternalization03: list()\n",
      "  .. .. ..- attr(*, \"class\")= chr  \"collector_integer\" \"collector\"\n",
      "  .. ..$ moralIdentityInternalization04: list()\n",
      "  .. .. ..- attr(*, \"class\")= chr  \"collector_integer\" \"collector\"\n",
      "  .. ..$ moralIdentityInternalization05: list()\n",
      "  .. .. ..- attr(*, \"class\")= chr  \"collector_integer\" \"collector\"\n",
      "  .. ..$ pi_age                        : list()\n",
      "  .. .. ..- attr(*, \"class\")= chr  \"collector_integer\" \"collector\"\n",
      "  .. ..$ pi_education                  : list()\n",
      "  .. .. ..- attr(*, \"class\")= chr  \"collector_character\" \"collector\"\n",
      "  .. ..$ pi_gender                     : list()\n",
      "  .. .. ..- attr(*, \"class\")= chr  \"collector_character\" \"collector\"\n",
      "  .. ..$ pi_ideology                   : list()\n",
      "  .. .. ..- attr(*, \"class\")= chr  \"collector_character\" \"collector\"\n",
      "  .. ..$ pi_income                     : list()\n",
      "  .. .. ..- attr(*, \"class\")= chr  \"collector_character\" \"collector\"\n",
      "  .. ..$ pi_nationality                : list()\n",
      "  .. .. ..- attr(*, \"class\")= chr  \"collector_character\" \"collector\"\n",
      "  .. ..$ pi_previousDonations          : list()\n",
      "  .. .. ..- attr(*, \"class\")= chr  \"collector_character\" \"collector\"\n",
      "  .. ..$ V65                           : list()\n",
      "  .. .. ..- attr(*, \"class\")= chr  \"collector_character\" \"collector\"\n",
      "  ..$ default: list()\n",
      "  .. ..- attr(*, \"class\")= chr  \"collector_guess\" \"collector\"\n",
      "  ..- attr(*, \"class\")= chr \"col_spec\"\n"
     ]
    }
   ],
   "source": [
    "str(podaci)"
   ]
  },
  {
   "cell_type": "markdown",
   "metadata": {
    "slideshow": {
     "slide_type": "subslide"
    }
   },
   "source": [
    "Obrisat ćemo specifikacije varijabli da ne zakrčuju output."
   ]
  },
  {
   "cell_type": "markdown",
   "metadata": {
    "slideshow": {
     "slide_type": "subslide"
    }
   },
   "source": [
    "`attr` nam omogućuje da pristupimo raznim **atributima** objekata u R-u. Ovdje, dakle, pristupamo atributu `spec` objekta `podaci`, te ga brišemo upisujući vrijednost `NULL`."
   ]
  },
  {
   "cell_type": "code",
   "execution_count": 4,
   "metadata": {},
   "outputs": [],
   "source": [
    "attr(podaci, 'spec') <- NULL"
   ]
  },
  {
   "cell_type": "markdown",
   "metadata": {
    "slideshow": {
     "slide_type": "slide"
    }
   },
   "source": [
    "Funkcije `head` i `tail` omogućuju nam da na brzinu vidimo (po defaultu) prvih 6 odnosno posljednjih 6 redova tablice."
   ]
  },
  {
   "cell_type": "code",
   "execution_count": null,
   "metadata": {
    "slideshow": {
     "slide_type": "-"
    }
   },
   "outputs": [],
   "source": [
    "head(podaci)"
   ]
  },
  {
   "cell_type": "code",
   "execution_count": null,
   "metadata": {
    "slideshow": {
     "slide_type": "-"
    }
   },
   "outputs": [],
   "source": [
    "tail(podaci, 3)"
   ]
  },
  {
   "cell_type": "markdown",
   "metadata": {
    "slideshow": {
     "slide_type": "skip"
    }
   },
   "source": [
    "Ove funkcije pomažu nam pri pregledavanju strukture podataka i njihovih sirovih vrijednosti."
   ]
  },
  {
   "cell_type": "markdown",
   "metadata": {
    "slideshow": {
     "slide_type": "slide"
    }
   },
   "source": [
    "Osnovnu deskriptivnu statistiku možemo dobiti pomoću generičke funkcije `summary`. Generičke funkcije primaju objekte različitih tipova, a njihov output ovisi o tipu objekta. Primjerice, ako u `summary` stavimo `data.frame`, dobit ćemo grubu deskriptivnu statistiku njegovih stupaca. Ako u funkciju stavimo regresijski model, dobit ćemo informacije o modelu.\n",
    "\n",
    "Dobro je znati i za funkciju `describe` iz paketa `psych`, koja daje dosta detaljniju deskriptivnu statistiku numeričkih varijabli."
   ]
  },
  {
   "cell_type": "markdown",
   "metadata": {
    "slideshow": {
     "slide_type": "subslide"
    }
   },
   "source": [
    "Idemo vidjeti output tih dviju funkcija kad u nju stavimo neke numeričke i neke kategorijalne (`factor`) stupce iz našeg `data.framea` `podaci`."
   ]
  },
  {
   "cell_type": "code",
   "execution_count": null,
   "metadata": {},
   "outputs": [],
   "source": [
    "summary(podaci[, wrapr::qc(attitudesAndNorms01, pi_education, pi_gender)])"
   ]
  },
  {
   "cell_type": "markdown",
   "metadata": {
    "slideshow": {
     "slide_type": "subslide"
    }
   },
   "source": [
    "Vidimo tri stvari: (1) `summary` nije pretjerano koristan za varijable koje su tipa `character` i (2-3) pojavili su se nova sintaksa i nova funkcija."
   ]
  },
  {
   "cell_type": "markdown",
   "metadata": {},
   "source": [
    "`qc` je funkcija iz paketa `wrapr` koja nas oslobađa pisanja navodnika pri korištenju funkcije `c`. `qc` je, dakle, *quoted combine*."
   ]
  },
  {
   "cell_type": "markdown",
   "metadata": {
    "slideshow": {
     "slide_type": "subslide"
    }
   },
   "source": [
    "Korištenjem `::` sintakse označili smo da je funkcija `qc` iz paketa `wrapr`. Pri pozivanju funkcija iz paketa **nije nužno** pisati `::`; to smo vidjeli kod pozivanja funkcije `read_csv` iz paketa `readr`.\n",
    "\n",
    "Ipak, važno je znati tu sintaksu iz dva razloga."
   ]
  },
  {
   "cell_type": "markdown",
   "metadata": {
    "slideshow": {
     "slide_type": "subslide"
    }
   },
   "source": [
    "Prvo, korištenjem `::` možemo pozvati funkciju iz paketa koji prethodno nismo učitali (što ćemo vidjeti pri pozivanju funkcije `describe`)."
   ]
  },
  {
   "cell_type": "markdown",
   "metadata": {
    "slideshow": {
     "slide_type": "fragment"
    }
   },
   "source": [
    "Drugo, u slučaju da dva paketa imaju funkcije koje se jednako zovu, `::` nam omogućava da specificiramo koju funkciju želimo pozvati. Budući da smo učitali paket `conflicted`, R će nas upozoriti ako dođe do konflikta te nas tražiti da specificiramo koju funkciju hoćemo pozvati, koristeći `::`."
   ]
  },
  {
   "cell_type": "markdown",
   "metadata": {},
   "source": [
    "Iskoristit ćemo trenutak i upoznati se s još jednom zgodnom funkcijom za dobivanje deskriptivnih podataka: `skim`. Radi preglednosti, probrat ćemo par varijabli različitih tipova.\n",
    "\n",
    "Nastavit ću koristiti `::` notaciju tako da bude jasno iz kojeg paketa dolazi koja funkcija (osim ako je spomenuto u tekstu ili ako je funkcija iz base R-a)."
   ]
  },
  {
   "cell_type": "code",
   "execution_count": 77,
   "metadata": {},
   "outputs": [
    {
     "name": "stdout",
     "output_type": "stream",
     "text": [
      "Skim summary statistics\n",
      " n obs: 100 \n",
      " n variables: 6 \n",
      "\n",
      "── Variable type:factor ────────────────────────────────────────────────────────\n",
      "     variable missing complete   n n_unique                         top_counts\n",
      " pi_education       0      100 100        6 bac: 32, mas: 24, hi-: 23, pro: 19\n",
      "    pi_income       0      100 100        5  avg: 47, avg: 19, avg: 17, avg: 9\n",
      " ordered\n",
      "   FALSE\n",
      "    TRUE\n",
      "\n",
      "── Variable type:integer ───────────────────────────────────────────────────────\n",
      "            variable missing complete   n mean   sd p0 p25 p50 p75 p100\n",
      " attitudesAndNorms01       0      100 100 5.04 1.43  2   4   5   6    8\n",
      " attitudesAndNorms02       0      100 100 3.22 2.03 -2   2   3   5    7\n",
      " attitudesAndNorms03       0      100 100 3.06 1.88 -2   2   3   4    8\n",
      "     hist\n",
      " ▁▃▅▇▁▇▃▁\n",
      " ▂▂▃▇▇▇▆▆\n",
      " ▁▁▁▇▂▂▁▁\n",
      "\n",
      "── Variable type:numeric ───────────────────────────────────────────────────────\n",
      "    variable missing complete   n mean   sd   p0  p25 p50  p75 p100     hist\n",
      " mf_CareHarm       0      100 100 3.54 0.64 2.17 3.17 3.5 3.83    5 ▂▃▆▇▇▃▂▃\n"
     ]
    }
   ],
   "source": [
    "print(skimr::skim(podaci[, qc(pi_education, attitudesAndNorms01,\n",
    "                              attitudesAndNorms02, attitudesAndNorms03,\n",
    "                              mf_CareHarm, pi_income)]))"
   ]
  },
  {
   "cell_type": "markdown",
   "metadata": {
    "slideshow": {
     "slide_type": "slide"
    }
   },
   "source": [
    "Na kraju, pogledat ćemo output funkcije `describe` na tim istim varijablama."
   ]
  },
  {
   "cell_type": "code",
   "execution_count": 78,
   "metadata": {
    "slideshow": {
     "slide_type": "subslide"
    }
   },
   "outputs": [
    {
     "data": {
      "text/html": [
       "<table>\n",
       "<thead><tr><th></th><th scope=col>vars</th><th scope=col>n</th><th scope=col>mean</th><th scope=col>sd</th><th scope=col>median</th><th scope=col>trimmed</th><th scope=col>mad</th><th scope=col>min</th><th scope=col>max</th><th scope=col>range</th><th scope=col>skew</th><th scope=col>kurtosis</th><th scope=col>se</th></tr></thead>\n",
       "<tbody>\n",
       "\t<tr><th scope=row>attitudesAndNorms01</th><td>1          </td><td>100        </td><td>5.040000   </td><td>1.4278613  </td><td>5.0        </td><td>5.062500   </td><td>1.4826     </td><td> 2.000000  </td><td>8          </td><td> 6.000000  </td><td>-0.19314719</td><td>-0.5916736 </td><td>0.14278613 </td></tr>\n",
       "\t<tr><th scope=row>attitudesAndNorms02</th><td>2          </td><td>100        </td><td>3.220000   </td><td>2.0279860  </td><td>3.0        </td><td>3.275000   </td><td>1.4826     </td><td>-2.000000  </td><td>7          </td><td> 9.000000  </td><td>-0.16760327</td><td>-0.4693100 </td><td>0.20279860 </td></tr>\n",
       "\t<tr><th scope=row>attitudesAndNorms03</th><td>3          </td><td>100        </td><td>3.060000   </td><td>1.8846536  </td><td>3.0        </td><td>3.050000   </td><td>1.4826     </td><td>-2.000000  </td><td>8          </td><td>10.000000  </td><td> 0.02193442</td><td> 0.1236832 </td><td>0.18846536 </td></tr>\n",
       "\t<tr><th scope=row>mf_CareHarm</th><td>4          </td><td>100        </td><td>3.543333   </td><td>0.6381177  </td><td>3.5        </td><td>3.522917   </td><td>0.4942     </td><td> 2.166667  </td><td>5          </td><td> 2.833333  </td><td> 0.25163049</td><td>-0.3440728 </td><td>0.06381177 </td></tr>\n",
       "\t<tr><th scope=row>pi_income*</th><td>5          </td><td>100        </td><td>3.300000   </td><td>1.1236664  </td><td>4.0        </td><td>3.362500   </td><td>1.4826     </td><td> 1.000000  </td><td>5          </td><td> 4.000000  </td><td>-0.55822972</td><td>-0.7121800 </td><td>0.11236664 </td></tr>\n",
       "\t<tr><th scope=row>pi_education*</th><td>6          </td><td>100        </td><td>4.100000   </td><td>1.6545011  </td><td>5.0        </td><td>4.137500   </td><td>1.4826     </td><td> 1.000000  </td><td>6          </td><td> 5.000000  </td><td>-0.09141116</td><td>-1.6597342 </td><td>0.16545011 </td></tr>\n",
       "</tbody>\n",
       "</table>\n"
      ],
      "text/latex": [
       "\\begin{tabular}{r|lllllllllllll}\n",
       "  & vars & n & mean & sd & median & trimmed & mad & min & max & range & skew & kurtosis & se\\\\\n",
       "\\hline\n",
       "\tattitudesAndNorms01 & 1           & 100         & 5.040000    & 1.4278613   & 5.0         & 5.062500    & 1.4826      &  2.000000   & 8           &  6.000000   & -0.19314719 & -0.5916736  & 0.14278613 \\\\\n",
       "\tattitudesAndNorms02 & 2           & 100         & 3.220000    & 2.0279860   & 3.0         & 3.275000    & 1.4826      & -2.000000   & 7           &  9.000000   & -0.16760327 & -0.4693100  & 0.20279860 \\\\\n",
       "\tattitudesAndNorms03 & 3           & 100         & 3.060000    & 1.8846536   & 3.0         & 3.050000    & 1.4826      & -2.000000   & 8           & 10.000000   &  0.02193442 &  0.1236832  & 0.18846536 \\\\\n",
       "\tmf\\_CareHarm & 4           & 100         & 3.543333    & 0.6381177   & 3.5         & 3.522917    & 0.4942      &  2.166667   & 5           &  2.833333   &  0.25163049 & -0.3440728  & 0.06381177 \\\\\n",
       "\tpi\\_income* & 5           & 100         & 3.300000    & 1.1236664   & 4.0         & 3.362500    & 1.4826      &  1.000000   & 5           &  4.000000   & -0.55822972 & -0.7121800  & 0.11236664 \\\\\n",
       "\tpi\\_education* & 6           & 100         & 4.100000    & 1.6545011   & 5.0         & 4.137500    & 1.4826      &  1.000000   & 6           &  5.000000   & -0.09141116 & -1.6597342  & 0.16545011 \\\\\n",
       "\\end{tabular}\n"
      ],
      "text/markdown": [
       "\n",
       "| <!--/--> | vars | n | mean | sd | median | trimmed | mad | min | max | range | skew | kurtosis | se | \n",
       "|---|---|---|---|---|---|\n",
       "| attitudesAndNorms01 | 1           | 100         | 5.040000    | 1.4278613   | 5.0         | 5.062500    | 1.4826      |  2.000000   | 8           |  6.000000   | -0.19314719 | -0.5916736  | 0.14278613  | \n",
       "| attitudesAndNorms02 | 2           | 100         | 3.220000    | 2.0279860   | 3.0         | 3.275000    | 1.4826      | -2.000000   | 7           |  9.000000   | -0.16760327 | -0.4693100  | 0.20279860  | \n",
       "| attitudesAndNorms03 | 3           | 100         | 3.060000    | 1.8846536   | 3.0         | 3.050000    | 1.4826      | -2.000000   | 8           | 10.000000   |  0.02193442 |  0.1236832  | 0.18846536  | \n",
       "| mf_CareHarm | 4           | 100         | 3.543333    | 0.6381177   | 3.5         | 3.522917    | 0.4942      |  2.166667   | 5           |  2.833333   |  0.25163049 | -0.3440728  | 0.06381177  | \n",
       "| pi_income* | 5           | 100         | 3.300000    | 1.1236664   | 4.0         | 3.362500    | 1.4826      |  1.000000   | 5           |  4.000000   | -0.55822972 | -0.7121800  | 0.11236664  | \n",
       "| pi_education* | 6           | 100         | 4.100000    | 1.6545011   | 5.0         | 4.137500    | 1.4826      |  1.000000   | 6           |  5.000000   | -0.09141116 | -1.6597342  | 0.16545011  | \n",
       "\n",
       "\n"
      ],
      "text/plain": [
       "                    vars n   mean     sd        median trimmed  mad   \n",
       "attitudesAndNorms01 1    100 5.040000 1.4278613 5.0    5.062500 1.4826\n",
       "attitudesAndNorms02 2    100 3.220000 2.0279860 3.0    3.275000 1.4826\n",
       "attitudesAndNorms03 3    100 3.060000 1.8846536 3.0    3.050000 1.4826\n",
       "mf_CareHarm         4    100 3.543333 0.6381177 3.5    3.522917 0.4942\n",
       "pi_income*          5    100 3.300000 1.1236664 4.0    3.362500 1.4826\n",
       "pi_education*       6    100 4.100000 1.6545011 5.0    4.137500 1.4826\n",
       "                    min       max range     skew        kurtosis   se        \n",
       "attitudesAndNorms01  2.000000 8    6.000000 -0.19314719 -0.5916736 0.14278613\n",
       "attitudesAndNorms02 -2.000000 7    9.000000 -0.16760327 -0.4693100 0.20279860\n",
       "attitudesAndNorms03 -2.000000 8   10.000000  0.02193442  0.1236832 0.18846536\n",
       "mf_CareHarm          2.166667 5    2.833333  0.25163049 -0.3440728 0.06381177\n",
       "pi_income*           1.000000 5    4.000000 -0.55822972 -0.7121800 0.11236664\n",
       "pi_education*        1.000000 6    5.000000 -0.09141116 -1.6597342 0.16545011"
      ]
     },
     "metadata": {},
     "output_type": "display_data"
    }
   ],
   "source": [
    "podaci %>%\n",
    "dplyr::select(attitudesAndNorms01:attitudesAndNorms03,\n",
    "              mf_CareHarm, pi_income, pi_education) %>%\n",
    "psych::describe(.)"
   ]
  },
  {
   "cell_type": "markdown",
   "metadata": {
    "slideshow": {
     "slide_type": "fragment"
    }
   },
   "source": [
    "I dalje nije korisno za `character` varijable, ali omogućava digresiju u svijet pipa."
   ]
  },
  {
   "cell_type": "markdown",
   "metadata": {
    "slideshow": {
     "slide_type": "slide"
    }
   },
   "source": [
    "## Pipe"
   ]
  },
  {
   "cell_type": "markdown",
   "metadata": {
    "slideshow": {
     "slide_type": "subslide"
    }
   },
   "source": [
    "Pipe su posebni operatori iz `magrittr` paketa. One omogućavaju kraće i, često, razumljivije pisanje koda.\n",
    "\n",
    "Pipa uzima output izraza sa svoje lijeve strane i daje ga kao argument funkciji na svojoj desnoj strani."
   ]
  },
  {
   "cell_type": "markdown",
   "metadata": {
    "slideshow": {
     "slide_type": "subslide"
    }
   },
   "source": [
    "Osnovna pipa je `%>%`. Ona se nalazi i u paketu `dplyr` (koji se učitava kad učitamo `tidyverse`) i u paketu `magrittr`. Posebno smo učitali `magrittr` jer s njim dolaze i neke pipe kojih nema u `dplyru`."
   ]
  },
  {
   "cell_type": "markdown",
   "metadata": {},
   "source": [
    "Sad ćemo proći kroz pipe koje `magrittr` nudi."
   ]
  },
  {
   "cell_type": "markdown",
   "metadata": {
    "slideshow": {
     "slide_type": "slide"
    }
   },
   "source": [
    "### %>%"
   ]
  },
  {
   "cell_type": "markdown",
   "metadata": {
    "slideshow": {
     "slide_type": "subslide"
    }
   },
   "source": [
    "Kao što je rečeno, ovo je osnovna pipa. Ona uzima output izraza s lijeve strane i koristi ga kao input za izraz s desne strane.\n",
    "\n",
    "Dakle:"
   ]
  },
  {
   "cell_type": "code",
   "execution_count": null,
   "metadata": {},
   "outputs": [],
   "source": [
    "(2 + 2) %>% sqrt(.)\n",
    "\n",
    "(2 + 2) %>% sqrt()\n",
    "\n",
    "(2 + 2) %>% sqrt\n",
    "\n",
    "sqrt(2 + 2)"
   ]
  },
  {
   "cell_type": "markdown",
   "metadata": {
    "slideshow": {
     "slide_type": "subslide"
    }
   },
   "source": [
    "Trenutačno ne izgleda kao neka ušteda, što je u redu. Kasnije ćemo vidjeti primjere u kojima su pipe dosta zgodnije.\n",
    "\n",
    "Kod korištenja pipa, `.` označava output iz funkcije s lijeve strane. Po defaultu, pipa će točku staviti na mjesto prvog argumenta. Takav default uglavnom jako dobro funkcionira s funkcijama iz `tidyversea` jer one imaju dosta uniformnu sintaksu, koja je prilagođena za pipe."
   ]
  },
  {
   "cell_type": "markdown",
   "metadata": {
    "slideshow": {
     "slide_type": "fragment"
    }
   },
   "source": [
    "Ipak, nekad takvo ponašanje nije poželjno. Pokušajmo grafirati dva brojčana vektora - jedan od njih ćemo spremiti u varijablu, a drugi ćemo direktno dati pipi."
   ]
  },
  {
   "cell_type": "code",
   "execution_count": null,
   "metadata": {
    "slideshow": {
     "slide_type": "fragment"
    }
   },
   "outputs": [],
   "source": [
    "# ova vrijednost treba ići na x os\n",
    "x <- 1:10\n",
    "\n",
    "# vektor koji ćemo sad stvoriti treba ići na y os\n",
    "# ovaj kod jednak je ovom -> 11:20 %>% plot(., x)\n",
    "# plot je također generička funkcija\n",
    "11:20 %>% plot(x)"
   ]
  },
  {
   "cell_type": "markdown",
   "metadata": {
    "slideshow": {
     "slide_type": "subslide"
    }
   },
   "source": [
    "Vidimo da je pipa stavila svoje vrijednosti na prvo mjesto, a time i na x os. Da bismo spriječili takvo defaultno ponašanje pipe, izraz s desne strane možemo staviti u vitičaste zagrade (`{}`)."
   ]
  },
  {
   "cell_type": "code",
   "execution_count": null,
   "metadata": {
    "slideshow": {
     "slide_type": "-"
    }
   },
   "outputs": [],
   "source": [
    "11:20 %>% {plot(x, .)}"
   ]
  },
  {
   "cell_type": "markdown",
   "metadata": {
    "slideshow": {
     "slide_type": "subslide"
    }
   },
   "source": [
    "Sad ćemo `x` staviti u `data.frame` i pridružiti mu `y`."
   ]
  },
  {
   "cell_type": "code",
   "execution_count": null,
   "metadata": {
    "slideshow": {
     "slide_type": "-"
    }
   },
   "outputs": [],
   "source": [
    "za_graf <- data.frame(x = 1:10, y = 11:20)\n",
    "\n",
    "str(za_graf)"
   ]
  },
  {
   "cell_type": "markdown",
   "metadata": {
    "slideshow": {
     "slide_type": "subslide"
    }
   },
   "source": [
    "Ponovno ćemo pokušati plotati vrijednosti tako što `za_graf` stavimo u pipu."
   ]
  },
  {
   "cell_type": "code",
   "execution_count": null,
   "metadata": {
    "slideshow": {
     "slide_type": "-"
    }
   },
   "outputs": [],
   "source": [
    "za_graf %>% plot(.)"
   ]
  },
  {
   "cell_type": "markdown",
   "metadata": {
    "slideshow": {
     "slide_type": "subslide"
    }
   },
   "source": [
    "Da bismo zamijenili osi, možemo učiniti sljedeće:"
   ]
  },
  {
   "cell_type": "code",
   "execution_count": null,
   "metadata": {
    "slideshow": {
     "slide_type": "slide"
    }
   },
   "outputs": [],
   "source": [
    "za_graf %>% plot(.$y, .$x)"
   ]
  },
  {
   "cell_type": "markdown",
   "metadata": {
    "slideshow": {
     "slide_type": "subslide"
    }
   },
   "source": [
    "To jest, ne možemo jer se gornji kod interpretira kao\n",
    "```\n",
    "za_graf %>% plot(., .$y, .$x)\n",
    "```"
   ]
  },
  {
   "cell_type": "markdown",
   "metadata": {
    "slideshow": {
     "slide_type": "fragment"
    }
   },
   "source": [
    "Dakle, ponovno možemo izraz s desne strane opkoliti vitičastim zagradama."
   ]
  },
  {
   "cell_type": "code",
   "execution_count": null,
   "metadata": {
    "slideshow": {
     "slide_type": "-"
    }
   },
   "outputs": [],
   "source": [
    "za_graf %>% {plot(.$y, .$x)}"
   ]
  },
  {
   "cell_type": "markdown",
   "metadata": {
    "slideshow": {
     "slide_type": "subslide"
    }
   },
   "source": [
    "Da se smanje takve konfuzije, neki preporučuju da se `.` uvijek piše, tako da je to praksa koju ćemo ovdje usvojiti.\n",
    "\n",
    "No, osim zatvaranja izraza s desne strane u zagrade, možemo iskoristiti jednu drugu pipu."
   ]
  },
  {
   "cell_type": "markdown",
   "metadata": {
    "slideshow": {
     "slide_type": "slide"
    }
   },
   "source": [
    "### %$%"
   ]
  },
  {
   "cell_type": "markdown",
   "metadata": {
    "slideshow": {
     "slide_type": "subslide"
    }
   },
   "source": [
    "`%$%` je *variable exposition* pipa. Ona nam daje direktan pristup varijablama koje se nalaze u objektu kojim baratamo.\n",
    "\n",
    "Gornji problem mogli bismo riješiti i ovako:"
   ]
  },
  {
   "cell_type": "code",
   "execution_count": null,
   "metadata": {
    "slideshow": {
     "slide_type": "-"
    }
   },
   "outputs": [],
   "source": [
    "za_graf %$% plot(y, x)"
   ]
  },
  {
   "cell_type": "markdown",
   "metadata": {
    "slideshow": {
     "slide_type": "subslide"
    }
   },
   "source": [
    "Možemo kombinirati različite pipe. Na primjer:"
   ]
  },
  {
   "cell_type": "code",
   "execution_count": null,
   "metadata": {
    "slideshow": {
     "slide_type": "-"
    }
   },
   "outputs": [],
   "source": [
    "1:10 %>% data.frame(a = ., b = 11:20) %$% plot(b, a)"
   ]
  },
  {
   "cell_type": "markdown",
   "metadata": {
    "slideshow": {
     "slide_type": "subslide"
    }
   },
   "source": [
    "U gornjem primjeru bi nam možda bilo zgodno da možemo pogledati strukturu `data.framea` nakon što ga stvorimo ili napraviti još neke operacije nakon što plotamo varijable.\n",
    "\n",
    "Na sreću, imamo pipu i za to."
   ]
  },
  {
   "cell_type": "markdown",
   "metadata": {
    "slideshow": {
     "slide_type": "slide"
    }
   },
   "source": [
    "### %T>%"
   ]
  },
  {
   "cell_type": "markdown",
   "metadata": {
    "slideshow": {
     "slide_type": "subslide"
    }
   },
   "source": [
    "T-pipa (izvorno *tee*) vraća izraz s lijeve strane umjesto izraza s desne strane. Zbog toga, možemo učiniti sljedeće:"
   ]
  },
  {
   "cell_type": "code",
   "execution_count": null,
   "metadata": {
    "slideshow": {
     "slide_type": "-"
    }
   },
   "outputs": [],
   "source": [
    "1:10 %>% data.frame(a = ., b = 11:20) %T>% str(.) %$% plot(b, a)"
   ]
  },
  {
   "cell_type": "code",
   "execution_count": null,
   "metadata": {
    "slideshow": {
     "slide_type": "subslide"
    }
   },
   "outputs": [],
   "source": [
    "1:10 %>% data.frame(a = ., b = 11:20) %T>%\n",
    "{plot(.$b, .$a)} %$%\n",
    "sum(a,b)"
   ]
  },
  {
   "cell_type": "markdown",
   "metadata": {
    "slideshow": {
     "slide_type": "subslide"
    }
   },
   "source": [
    "Preostaje nam još jedna pipa..."
   ]
  },
  {
   "cell_type": "markdown",
   "metadata": {
    "slideshow": {
     "slide_type": "slide"
    }
   },
   "source": [
    "### %<>%"
   ]
  },
  {
   "cell_type": "markdown",
   "metadata": {
    "slideshow": {
     "slide_type": "subslide"
    }
   },
   "source": [
    "`%<>%` je *assignment* pipa. Ona istovremeno daje vrijednost s lijeve strane za argument i piše u nju. To nam omogućuje da neku varijablu provučemo kroz seriju transformacijskih koraka i da te transformacije odmah pohranimo."
   ]
  },
  {
   "cell_type": "code",
   "execution_count": null,
   "metadata": {
    "slideshow": {
     "slide_type": "subslide"
    }
   },
   "outputs": [],
   "source": [
    "za_graf$x %<>% magrittr::add(., 2) %>%\n",
    "magrittr::multiply_by(., 2) %>% sqrt(.)\n",
    "\n",
    "str(za_graf)"
   ]
  },
  {
   "cell_type": "markdown",
   "metadata": {
    "slideshow": {
     "slide_type": "subslide"
    }
   },
   "source": [
    "Ovime završavamo upoznavanje s pipama. Nakratko se vraćamo natrag na primjer s funkcijom `describe`, nakon čega ponovno odlazimo u uzbudljivu digresiju."
   ]
  },
  {
   "cell_type": "markdown",
   "metadata": {
    "slideshow": {
     "slide_type": "slide"
    }
   },
   "source": [
    "## dplyr::select i dplyr::filter"
   ]
  },
  {
   "cell_type": "markdown",
   "metadata": {
    "slideshow": {
     "slide_type": "subslide"
    }
   },
   "source": [
    "Već smo ranije vidjeli funkciju `select`, koja nam je omogućila da izaberemo 3 od 64 stupca iz `data.framea` `podaci`. Za odabiranje pojedinih redova koji zadovoljavaju određeni logički izraz možemo koristiti funkciju `filter`.\n",
    "\n",
    "Sad ćemo prikazati deskriptivnu statistiku za pitanja koja tvore jednu od skala koja se nalazi u našim podacima - skalu internalizacije moralnog identiteta - samo na poduzorku žena."
   ]
  },
  {
   "cell_type": "markdown",
   "metadata": {
    "slideshow": {
     "slide_type": "subslide"
    }
   },
   "source": [
    "Sve varijable koje se odnose na tu skalu imaju ime oblika `moralIdentityInternalization<broj-pitanja>`. Zbog tog sustavnog imenovanja, ne moramo ispisivati imena (ili redne brojeve) svih varijabli koje želimo zahvatiti funkcijom `describe`, nego možemo pozvati funkciju `contains` unutar funkcije `select`."
   ]
  },
  {
   "cell_type": "markdown",
   "metadata": {},
   "source": [
    "`contains` na omogućuje da odaberemo samo one varijable koje sadrže zadani string."
   ]
  },
  {
   "cell_type": "code",
   "execution_count": null,
   "metadata": {
    "slideshow": {
     "slide_type": "subslide"
    }
   },
   "outputs": [],
   "source": [
    "podaci %>%\n",
    "dplyr::filter(., pi_gender == 'Female') %>%\n",
    "dplyr::select(., contains('internal', ignore.case = T)) %T>% str(.) %>%\n",
    "psych::describe(.)"
   ]
  },
  {
   "cell_type": "code",
   "execution_count": null,
   "metadata": {
    "slideshow": {
     "slide_type": "-"
    }
   },
   "outputs": [],
   "source": [
    "# base R rješenje za usporedbu\n",
    "psych::describe(podaci[podaci$pi_gender == 'Female', qc(moralIdentityInternalization01,\n",
    "                                                moralIdentityInternalization02,\n",
    "                                                moralIdentityInternalization03,\n",
    "                                                moralIdentityInternalization04,\n",
    "                                                moralIdentityInternalization05)])"
   ]
  },
  {
   "cell_type": "markdown",
   "metadata": {
    "slideshow": {
     "slide_type": "subslide"
    }
   },
   "source": [
    "`contains` je jedna od nekoliko pomoćnih funkcija koje su super za `select`. Druge su:\n",
    "- `starts_with`, koja odabire varijable koje počinju s određenim stringom\n",
    "- `ends_with`, isto, samo za kraj\n",
    "- `one_of`, koju treba koristiti kad `selectu` dajemo `character` vektor\n",
    "- `matches`, koji nam omogućava da odaberemo varijable čija imena odgovaraju nekom **regularnom izrazu**"
   ]
  },
  {
   "cell_type": "markdown",
   "metadata": {
    "slideshow": {
     "slide_type": "slide"
    }
   },
   "source": [
    "## Regularni izrazi"
   ]
  },
  {
   "cell_type": "markdown",
   "metadata": {
    "slideshow": {
     "slide_type": "slide"
    }
   },
   "source": [
    "Regularni izrazi (eng. *regular expressions*, *regex* ili *regexp*) su stringovi koji označavaju neki uzorak za pretraživanje. Na primjer, sve ove izraze\n",
    "```\n",
    "string\n",
    "striing\n",
    "striiing\n",
    "striiiiiiiiiiiiiiiiing\n",
    "```\n",
    "možemo opisati stringom `stri*ng`. Znak `*` (asterisk) je **kvantifikator** koji označava *nula ili više ponavljanja prethodnog znaka*. To znači da bi taj regularni izraz pronašao i string `strng`."
   ]
  },
  {
   "cell_type": "markdown",
   "metadata": {
    "slideshow": {
     "slide_type": "subslide"
    }
   },
   "source": [
    "Uz razne kvantifikatore, postoje još i klase znakova te meta-znakovi koji nam omogućavaju lako pretraživanje stringova.\n",
    "\n",
    "Regexi su implementirani u base R-u (npr. funkcije `grep` i `grepl`) i u `tidyverseu` kroz paket `stringr`. Mi ćemo se baviti `stringrom`. Budući da postoje razne implementacije regularnih izraza, koje se razlikuju po kompleksnosti, bitno je znati da `stringr` koristi **Perl/PCRE** regularne izraze.\n",
    "\n",
    "U ovom dijelu ćemo pogledati osnove regularnih izraza, koje ćemo nadograđivati kroz ostatak radionice."
   ]
  },
  {
   "cell_type": "markdown",
   "metadata": {
    "slideshow": {
     "slide_type": "slide"
    }
   },
   "source": [
    "### Kvantifikatori"
   ]
  },
  {
   "cell_type": "markdown",
   "metadata": {
    "slideshow": {
     "slide_type": "subslide"
    }
   },
   "source": [
    "#### *"
   ]
  },
  {
   "cell_type": "markdown",
   "metadata": {},
   "source": [
    "Kao što je već rečeno, `*` označava **0 ili više** ponavljanja **znaka** koji mu prethodi. *Znak* se ovdje odnosi na doslovni znak, na klasu znakova ili na grupu znakova. S klasama i grupama ćemo se upoznati malo kasnije.\n",
    "\n",
    "Pogledat ćemo output funkcije `str_detect` koja kao input uzima string (ili više njih) i regularni izraz (`pattern`), a vraća `TRUE` ili `FALSE` ovisno o tome nalazi li se regularni izraz u stringu ili ne."
   ]
  },
  {
   "cell_type": "code",
   "execution_count": null,
   "metadata": {},
   "outputs": [],
   "source": [
    "stringr::str_detect(string = qc(kobilaaaa, maajka, celer), pattern = 'a*') %>% print"
   ]
  },
  {
   "cell_type": "markdown",
   "metadata": {
    "slideshow": {
     "slide_type": "subslide"
    }
   },
   "source": [
    "#### +"
   ]
  },
  {
   "cell_type": "markdown",
   "metadata": {},
   "source": [
    "`+` označava **jedno (1) ili više** ponavljanja prethodnog znaka/klase znakova/grupe znakova.\n",
    "\n",
    "Da vidimo što će nam vratiti funkcija `str_extract_all` koja prima iste argumente kao i `str_detect`, a vraća sve pronađene `patterne`."
   ]
  },
  {
   "cell_type": "code",
   "execution_count": null,
   "metadata": {},
   "outputs": [],
   "source": [
    "stringr::str_extract_all(string = qc(kobilaaaa, maajka, celer), pattern = 'a+') %>% print"
   ]
  },
  {
   "cell_type": "markdown",
   "metadata": {
    "slideshow": {
     "slide_type": "subslide"
    }
   },
   "source": [
    "Postoji i funkcija `str_extract` koja vraća **samo prvi** pronađeni uzorak."
   ]
  },
  {
   "cell_type": "code",
   "execution_count": null,
   "metadata": {},
   "outputs": [],
   "source": [
    "stringr::str_extract(qc(kobilaaaa, maajka, celer), 'a+') %>% print"
   ]
  },
  {
   "cell_type": "markdown",
   "metadata": {
    "slideshow": {
     "slide_type": "subslide"
    }
   },
   "source": [
    "Također, možemo vidjeti da `str_detect` više ne vraća `TRUE` za posljednju riječ."
   ]
  },
  {
   "cell_type": "code",
   "execution_count": null,
   "metadata": {},
   "outputs": [],
   "source": [
    "stringr::str_detect(qc(kobilaaaa, maajka, celer), 'a+') %>% print"
   ]
  },
  {
   "cell_type": "markdown",
   "metadata": {
    "slideshow": {
     "slide_type": "subslide"
    }
   },
   "source": [
    "#### ?"
   ]
  },
  {
   "cell_type": "markdown",
   "metadata": {},
   "source": [
    "Upitnik označavao **0 ili jedno (1)** ponavljanje."
   ]
  },
  {
   "cell_type": "code",
   "execution_count": null,
   "metadata": {},
   "outputs": [],
   "source": [
    "qc(kobilaaaa, maajka, celer) %>%\n",
    "stringr::str_extract_all(., 'a?') %>%\n",
    "print"
   ]
  },
  {
   "cell_type": "markdown",
   "metadata": {
    "slideshow": {
     "slide_type": "subslide"
    }
   },
   "source": [
    "#### {n,m}"
   ]
  },
  {
   "cell_type": "markdown",
   "metadata": {},
   "source": [
    "Ova sintaksa nam omogućava da specificiramo koliko ponavljanja želimo. Postoje tri valjane kombinacije:\n",
    "- `{n,m}` znači od `n` do `m`\n",
    "- `{n,}` znači `n` ili više\n",
    "- `{n}` znači točno `n`\n",
    "\n",
    "`{,m}` **nije valjan** regularni izraz! Također, bitno je da nema razmaka između `n` ili `m` i zareza."
   ]
  },
  {
   "cell_type": "markdown",
   "metadata": {
    "slideshow": {
     "slide_type": "subslide"
    }
   },
   "source": [
    "Budući da je ovo posljednji kvantifikator, vratit ćemo se na početni primjer."
   ]
  },
  {
   "cell_type": "code",
   "execution_count": null,
   "metadata": {},
   "outputs": [],
   "source": [
    "qc(string, striing, striiing, striiiiiiiiiiiiiiiiing) %>%\n",
    "stringr::str_extract_all(., 'i{2,5}') %>% print"
   ]
  },
  {
   "cell_type": "code",
   "execution_count": null,
   "metadata": {
    "slideshow": {
     "slide_type": "fragment"
    }
   },
   "outputs": [],
   "source": [
    "qc(string, striing, striiing, striiiiiiiiiiiiiiiiing) %>%\n",
    "stringr::str_extract_all(., 'i{3,}') %>% print"
   ]
  },
  {
   "cell_type": "code",
   "execution_count": null,
   "metadata": {
    "slideshow": {
     "slide_type": "fragment"
    }
   },
   "outputs": [],
   "source": [
    "qc(string, striing, striiing, striiiiiiiiiiiiiiiiing) %>%\n",
    "stringr::str_extract_all(., 'i{17}') %>% print"
   ]
  },
  {
   "cell_type": "markdown",
   "metadata": {
    "slideshow": {
     "slide_type": "slide"
    }
   },
   "source": [
    "### Klase znakova"
   ]
  },
  {
   "cell_type": "markdown",
   "metadata": {
    "slideshow": {
     "slide_type": "slide"
    }
   },
   "source": [
    "Pretraživanja koja smo dosad vidjeli su jednostavna i jako umjetna. U stvarnim primjenama uglavnom nećemo pokušavati uhvatiti jedno slovo, nego znakove određenog tipa (kao što su brojke) ili određene skupine znakova (npr. brojeve 1, 7 ili 5). U te svrhe, koristimo **klase znakova**.\n",
    "\n",
    "NB: Klase znakova predstavljaju više mogućih znakova, ali **samo jedno mjesto**."
   ]
  },
  {
   "cell_type": "markdown",
   "metadata": {
    "slideshow": {
     "slide_type": "subslide"
    }
   },
   "source": [
    "Napravit ćemo mali `data.frame` koji se sastoji od dva stupca koja sadrže stringove."
   ]
  },
  {
   "cell_type": "code",
   "execution_count": null,
   "metadata": {},
   "outputs": [],
   "source": [
    "# ne možemo koristiti qc za mjesta zbog razmaka\n",
    "data.frame(mjesta = c('Slavonski Brod', 'BJELOVAR', 'Cista Provo', 'Banova Jaruga'),\n",
    "           tablice = qc(SB1152KF, BJ302LD, CP999LO, BN2001KA)) -> registracije"
   ]
  },
  {
   "cell_type": "markdown",
   "metadata": {
    "slideshow": {
     "slide_type": "subslide"
    }
   },
   "source": [
    "Za početak, pokušat ćemo pronaći sve unose koji se sastoje od dvije riječi (to znači da ćemo isključiti BJELOVAR `:(`). Vidimo da sva mjesta koja se sastoje od dvije riječi imaju sljedeći uzorak: `[veliko slovo][nekoliko malih slova][razmak][veliko slovo][nekoliko malih slova]`. Koristeći regexe, možemo napraviti sljedeće:"
   ]
  },
  {
   "cell_type": "code",
   "execution_count": null,
   "metadata": {},
   "outputs": [],
   "source": [
    "registracije$mjesta %>%\n",
    "stringr::str_detect(., '^[[:upper:]][[:lower:]]+\\\\s[[:upper:]][[:lower:]]+')"
   ]
  },
  {
   "cell_type": "markdown",
   "metadata": {
    "slideshow": {
     "slide_type": "subslide"
    }
   },
   "source": [
    "`^` (eng. *caret*) je meta-znak koji označava **početak stringa**. `[[:upper:]]` i `[[:lower:]]` su klase koje označavaju velika odnosno mala slova. `\\\\s` označava razmak (ostavljanje praznog mjesta također funkcionira). Dakle, obrazac koji tražimo mora počinjati s velikim slovom kojem slijedi jedno ili više malih slova.\n",
    "\n",
    "Drugi važan meta-znak je `$`, koji označava **kraj stringa**."
   ]
  },
  {
   "cell_type": "markdown",
   "metadata": {
    "slideshow": {
     "slide_type": "subslide"
    }
   },
   "source": [
    "NB: Ako želimo tražiti same meta-znakove (npr. u `$1551`), ispred njih moramo staviti `\\\\` (backslash x 2). Taj čin se zove *escaping*."
   ]
  },
  {
   "cell_type": "code",
   "execution_count": null,
   "metadata": {},
   "outputs": [],
   "source": [
    "c('$alaj', '€broj') %>%\n",
    "stringr::str_detect(., '\\\\$')"
   ]
  },
  {
   "cell_type": "markdown",
   "metadata": {
    "slideshow": {
     "slide_type": "subslide"
    }
   },
   "source": [
    "Koristeći uglate zagrade, možemo sami definirati klasu znakova koja je prihvatljiva na nekom mjestu. Na primjer, možemo tražiti sva mjesta koja imaju dvije riječi i čija prva riječ počinje slovom B (velikim!) ili S (također!). Ovdje ćemo koristiti `str_subset`, koja vraća stringove koji sadrže zadani obrazac."
   ]
  },
  {
   "cell_type": "code",
   "execution_count": null,
   "metadata": {},
   "outputs": [],
   "source": [
    "registracije$mjesta %>%\n",
    "stringr::str_subset(., '^[SB][[:lower:]]+\\\\s[[:upper:]][[:lower:]]+')"
   ]
  },
  {
   "cell_type": "markdown",
   "metadata": {
    "slideshow": {
     "slide_type": "subslide"
    }
   },
   "source": [
    "Možemo definirati i custom klasu znakova koji se **ne smiju** nalaziti na nekom mjestu. To radimo tako da na početak svoje klase stavimo znak `^` (`[^...]`). Na primjer, možemo tražiti stringove koji imaju dvije riječi, a čija prva riječ ne počinje slovom S ili B:"
   ]
  },
  {
   "cell_type": "code",
   "execution_count": null,
   "metadata": {},
   "outputs": [],
   "source": [
    "registracije$mjesta %>%\n",
    "stringr::str_subset(., '^[^SB].*')"
   ]
  },
  {
   "cell_type": "markdown",
   "metadata": {
    "slideshow": {
     "slide_type": "subslide"
    }
   },
   "source": [
    "Točka je poseban znak u regularnim izrazima, a označava **bilo koji znak** (osim novog reda, što se u R-u označava s `\\\\n`). Budući da označava bilo što, `.` se zove *wildcard*."
   ]
  },
  {
   "cell_type": "markdown",
   "metadata": {
    "slideshow": {
     "slide_type": "subslide"
    }
   },
   "source": [
    "Klasa znakova ima razmjerno puno, pa ćemo spomenuti još jednu koja se često javlja. Pokušat ćemo izvući samo one registracijske oznake (`tablice`) koje imaju tri znamenke."
   ]
  },
  {
   "cell_type": "code",
   "execution_count": null,
   "metadata": {},
   "outputs": [],
   "source": [
    "registracije$tablice %>%\n",
    "stringr::str_subset(., '[[:upper:]]{2}\\\\d{3}[[:upper:]]')"
   ]
  },
  {
   "cell_type": "markdown",
   "metadata": {
    "slideshow": {
     "slide_type": "fragment"
    }
   },
   "source": [
    "`\\\\d`, dakle, označava znamenke."
   ]
  },
  {
   "cell_type": "markdown",
   "metadata": {
    "slideshow": {
     "slide_type": "fragment"
    }
   },
   "source": [
    "Zasad ćemo proći još samo kroz grupe znakova."
   ]
  },
  {
   "cell_type": "markdown",
   "metadata": {
    "slideshow": {
     "slide_type": "slide"
    }
   },
   "source": [
    "### Grupe znakova"
   ]
  },
  {
   "cell_type": "markdown",
   "metadata": {},
   "source": [
    "Znakove možemo grupirati koristeći obične zagrade (`(...)`). Grupe spajaju znakove u jednu cjelinu. To nam, primjerice, omogućuje da ponavljajuće uzorke lako kvantificiramo.\n",
    "\n",
    "Na primjer, zamislimo da želimo izvući određene vrste smjehova iz nekih stringova."
   ]
  },
  {
   "cell_type": "code",
   "execution_count": null,
   "metadata": {},
   "outputs": [],
   "source": [
    "qc(hehehe, hehehohohehe, hahahahihi) %>%\n",
    "stringr::str_extract_all(., '(ha|he){2}') %>%\n",
    "print(.)"
   ]
  },
  {
   "cell_type": "markdown",
   "metadata": {},
   "source": [
    "Ovdje smo iskoristili i znak `|` (kod mene se nalazi na `CTRL-W` i zove se *pipe*), koji označava alternaciju, odnosno logičko ILI. Dakle, tražimo dva ponavljanja stringa `ha` ili dva ponavljanja stringa `he`.\n",
    "\n",
    "NB: Ne stavljati razmake oko alternatora jer će se to tumačiti kao razmak koji treba tražiti u stringu!"
   ]
  },
  {
   "cell_type": "markdown",
   "metadata": {},
   "source": [
    "Time završavamo digresivne tokove i bacamo se na borbu s podacima."
   ]
  },
  {
   "cell_type": "markdown",
   "metadata": {},
   "source": [
    "## Nastavak pripreme podataka"
   ]
  },
  {
   "cell_type": "markdown",
   "metadata": {},
   "source": [
    "Zasad smo pogledali strukturu podatka (`str`), kako izgledaju sirovi podaci (`head` i `tail`) te neke statističke sažetke (`describe` i `summary`).\n",
    "\n",
    "Sad ćemo se baciti na formatiranje sirovih podataka u nešto što nam je zgodnije za rad.\n",
    "\n",
    "Prvo ćemo se prisjetiti strukture podatka kojima baratamo."
   ]
  },
  {
   "cell_type": "code",
   "execution_count": null,
   "metadata": {},
   "outputs": [],
   "source": [
    "str(podaci)"
   ]
  },
  {
   "cell_type": "markdown",
   "metadata": {},
   "source": [
    "Za početak, iskoristit ćemo moći opažanja i primijetiti da su varijable koje počinju s `pi` (osim `pi_age`) spremljene kao `character` vektori. Taj tip vrijednosti nije zgodan za većinu obrada koje bismo htjeli raditi i razlog je zašto nam `summary` vraća nekoristan sažetak."
   ]
  },
  {
   "cell_type": "markdown",
   "metadata": {},
   "source": [
    "### Baratanje kategoričkim varijablama"
   ]
  },
  {
   "cell_type": "markdown",
   "metadata": {},
   "source": [
    "Stoga, pretvorit ćemo te varijable iz `charactera` u `factore`."
   ]
  },
  {
   "cell_type": "markdown",
   "metadata": {},
   "source": [
    "Varijable možemo modificirati koristeći `mutate` obitelj funkcija. Ovdje ćemo iskoristiti `mutate_at`, koji nam omogućuje da specificiramo varijable na koje želimo primijeniti neku funkciju.\n",
    "\n",
    "Uhvatit ćemo sve `pi` varijable osim `pi_age` te na njih primijeniti funkciju `as.factor`, koja će ih pretvoriti u `factore`."
   ]
  },
  {
   "cell_type": "markdown",
   "metadata": {},
   "source": [
    "Budući da će `mutate_at` funkciju primijeniti na postojeće stupce, dobro je prvo (a) biti siguran da biramo prave stupce i (b) biti siguran da radimo ono što želimo napraviti prije nego spremimo promjene."
   ]
  },
  {
   "cell_type": "markdown",
   "metadata": {},
   "source": [
    "(a) ćemo riješiti koristeći `colnames` i `select`."
   ]
  },
  {
   "cell_type": "code",
   "execution_count": null,
   "metadata": {},
   "outputs": [],
   "source": [
    "podaci %>%\n",
    "dplyr::select(., pi_education:pi_previousDonations) %>%\n",
    "colnames"
   ]
  },
  {
   "cell_type": "markdown",
   "metadata": {},
   "source": [
    "Vidimo da ciljamo ispravne stupce. Sad možemo eksperimentirati s `mutate_at`."
   ]
  },
  {
   "cell_type": "code",
   "execution_count": null,
   "metadata": {},
   "outputs": [],
   "source": [
    "podaci %>%\n",
    "dplyr::mutate_at(., .vars = vars(pi_education:pi_previousDonations),\n",
    "                .fun = as.factor) %>%\n",
    "dplyr::select(., pi_education:pi_previousDonations) %>%\n",
    "str"
   ]
  },
  {
   "cell_type": "code",
   "execution_count": 5,
   "metadata": {},
   "outputs": [],
   "source": [
    "podaci %<>%\n",
    "dplyr::mutate_at(., .vars = vars(pi_education:pi_previousDonations),\n",
    "                .fun = as.factor)"
   ]
  },
  {
   "cell_type": "code",
   "execution_count": null,
   "metadata": {},
   "outputs": [],
   "source": [
    "str(podaci)"
   ]
  },
  {
   "cell_type": "markdown",
   "metadata": {},
   "source": [
    "Ako sad pozovemo `summary`, dobit ćemo korisnije rezultate."
   ]
  },
  {
   "cell_type": "code",
   "execution_count": null,
   "metadata": {},
   "outputs": [],
   "source": [
    "podaci %>%\n",
    "dplyr::select(., starts_with('pi_'), -pi_age) %>%\n",
    "summary(.)"
   ]
  },
  {
   "cell_type": "markdown",
   "metadata": {},
   "source": [
    "Gledajući output ove funkcije, primjećujemo da su pojedine vrijednosti prilično dugačke (npr. Some professional diploma, no degree).\n",
    "\n",
    "Koristeći `forcats` paket (dio `tidyversea`), vrlo lako možemo rekodirati te vrijednosti. Za početak, da bismo si uskratili nešto tipkanja, možemo pozvati funkciju `dput` kako bismo dobili reprezentaciju razina faktora koju možemo kopipejstati."
   ]
  },
  {
   "cell_type": "code",
   "execution_count": null,
   "metadata": {},
   "outputs": [],
   "source": [
    "podaci$pi_education %>% levels(.) %>% dput(.)"
   ]
  },
  {
   "cell_type": "code",
   "execution_count": null,
   "metadata": {},
   "outputs": [],
   "source": [
    "podaci$pi_education %>%\n",
    "head(., 10) %T>% print(.) %>%\n",
    "forcats::fct_recode(., 'elem-sch' = \"Elementary School\", 'hi-sch' = \"High school\",\n",
    "                    'masters' = \"Master's degree\", 'phd' = \"PhD or higher\", \n",
    "                    'prof-dip' = \"Some professional diploma, no degree\", \n",
    "                    'bac' = \"The baccalaureate\") %>% print(.)"
   ]
  },
  {
   "cell_type": "markdown",
   "metadata": {},
   "source": [
    "Kratko pojašnjenje: uzimamo samo varijablu `pi_education` te prvih 10 unosa (`head`). Usput pozivamo `print` (s T-pipom!) kako bismo ispisali izvornih 10 vrijednosti. Varijablu s tih 10 vrijednosti šaljemo u `fct_recode`, gdje rekodiramo razine. Naposljetku, pozivamo `print` kako bismo ispisali nove vrijednosti (`print` ovdje nije potreban, tu je samo zato da bi se output izjednačio onom koji dobivamo nakon prvog poziva; to je specifičnost Jupyter Notebooka)."
   ]
  },
  {
   "cell_type": "markdown",
   "metadata": {},
   "source": [
    "Sad kad smo zadovoljni outputom, možemo maknuti nepotrebne dijelove i upisati promjenu."
   ]
  },
  {
   "cell_type": "code",
   "execution_count": 6,
   "metadata": {},
   "outputs": [],
   "source": [
    "podaci$pi_education %<>%\n",
    "forcats::fct_recode(., 'elem-sch' = \"Elementary School\", 'hi-sch' = \"High school\",\n",
    "                    'masters' = \"Master's degree\", 'phd' = \"PhD or higher\", \n",
    "                    'prof-dip' = \"Some professional diploma, no degree\", \n",
    "                    'bac' = \"The baccalaureate\")"
   ]
  },
  {
   "cell_type": "code",
   "execution_count": null,
   "metadata": {},
   "outputs": [],
   "source": [
    "levels(podaci$pi_education)"
   ]
  },
  {
   "cell_type": "markdown",
   "metadata": {},
   "source": [
    "Isto ćemo napraviti s varijablom `pi_income`."
   ]
  },
  {
   "cell_type": "code",
   "execution_count": null,
   "metadata": {},
   "outputs": [],
   "source": [
    "podaci$pi_income %>% levels(.) %>% dput(.)"
   ]
  },
  {
   "cell_type": "markdown",
   "metadata": {},
   "source": [
    "Ovdje možemo primijetiti da je redoslijed razina podosta besmislen, tako da ćemo ih izvrtiti tako da idu od najniže do najviše.\n",
    "\n",
    "Zahvaljujući pipama, sve možemo napraviti u jednom koraku."
   ]
  },
  {
   "cell_type": "code",
   "execution_count": null,
   "metadata": {},
   "outputs": [],
   "source": [
    "podaci$pi_income %>%\n",
    "tail(., 10) %T>% print(.) %>%\n",
    "forcats::fct_recode(., 'avg' = \"About the average\",\n",
    "                    'avg++' = \"Much above the average\",\n",
    "                    'avg--' = \"Much below the average\", \n",
    "                    'avg+' = \"Somewhat above the average\",\n",
    "                    'avg-' = \"Somewhat below the average\") %>%\n",
    "# redoslijed razina možemo mijenjati koristeći fct_relevel\n",
    "forcats::fct_relevel(., 'avg--', 'avg-', 'avg', 'avg+', 'avg++') %>%\n",
    "# još ćemo faktor pretvoriti u ordered\n",
    "factor(., ordered = T) %>%\n",
    "tail(., 10) %>% print(.)"
   ]
  },
  {
   "cell_type": "markdown",
   "metadata": {},
   "source": [
    "Vidimo da smo pogodili, pa ćemo maknuti nepotrebne dijelove koda i spremiti promjene."
   ]
  },
  {
   "cell_type": "code",
   "execution_count": 7,
   "metadata": {},
   "outputs": [],
   "source": [
    "podaci$pi_income %<>%\n",
    "forcats::fct_recode(., 'avg' = \"About the average\",\n",
    "                    'avg++' = \"Much above the average\",\n",
    "                    'avg--' = \"Much below the average\", \n",
    "                    'avg+' = \"Somewhat above the average\",\n",
    "                    'avg-' = \"Somewhat below the average\") %>%\n",
    "forcats::fct_relevel(., 'avg--', 'avg-', 'avg', 'avg+', 'avg++') %>%\n",
    "factor(., ordered = T)"
   ]
  },
  {
   "cell_type": "code",
   "execution_count": null,
   "metadata": {},
   "outputs": [],
   "source": [
    "str(podaci$pi_income)"
   ]
  },
  {
   "cell_type": "markdown",
   "metadata": {},
   "source": [
    "Nećemo prolaziti kroz rekodiranje svih faktora, ali hoćemo proći kroz rekodiranje nacionalnosti, zato jer nam to daje mogućnost da se igramo sa stringovima i regularnim izrazima."
   ]
  },
  {
   "cell_type": "markdown",
   "metadata": {},
   "source": [
    "### Kodiranje nacionalnosti (pitanje otvorenog tipa)"
   ]
  },
  {
   "cell_type": "markdown",
   "metadata": {},
   "source": [
    "Pitanje o nacionalnosti bilo je otvorenog tipa, tako da ista nacionalnost može biti reprezentirana na različite načine."
   ]
  },
  {
   "cell_type": "code",
   "execution_count": null,
   "metadata": {},
   "outputs": [],
   "source": [
    "podaci$pi_nationality %>% head(.)"
   ]
  },
  {
   "cell_type": "markdown",
   "metadata": {},
   "source": [
    "Već u prvih 6 unosa vidimo da se javljaju \"US\", \"USA\", \"United States of America\" te \"American\", što sve označava istu nacionalnost. Koristeći regularne izraze i funkciju `case_when`, lako možemo grupirati različite unose.\n",
    "\n",
    "Za početak, iskoristit ćemo funkciju `tolower` kako bismo sve stringove pretvorili u mala slova (tako da ne moramo paziti na to da su \"american\" i \"American\" različiti unosi) te funkciju `str_trim`, koja će ukloniti razmake s početka i kraja stringova (jer je moguće da je netko unio \"American\", a netko \"American \")."
   ]
  },
  {
   "cell_type": "code",
   "execution_count": 8,
   "metadata": {},
   "outputs": [],
   "source": [
    "podaci$pi_nationality %<>% tolower(.) %>% stringr::str_trim(.)"
   ]
  },
  {
   "cell_type": "code",
   "execution_count": null,
   "metadata": {},
   "outputs": [],
   "source": [
    "head(podaci$pi_nationality)"
   ]
  },
  {
   "cell_type": "markdown",
   "metadata": {},
   "source": [
    "Ok. Za početak, možemo pozvati `table` da dobijemo pregled frekvencija po faktorima, te `sort` kako bismo ih poredali od najučestalijih do najrjeđih."
   ]
  },
  {
   "cell_type": "code",
   "execution_count": null,
   "metadata": {},
   "outputs": [],
   "source": [
    "table(podaci$pi_nationality) %>% sort(., decreasing = T)"
   ]
  },
  {
   "cell_type": "markdown",
   "metadata": {},
   "source": [
    "Budući da ovdje imamo samo 100 sudionika i razmjerno malo različitih nacionalnosti, rekodiranje je lako.\n",
    "\n",
    "Za kodiranje nacionalnosti koristit ćemo funkciju `case_when`, koja nam omogućuje da specificiramo neki logički izraz (dakle, nešto što kao rezultat vraća `TRUE` ili `FALSE`) i akciju koju treba napraviti u `TRUE` slučaju.\n",
    "\n",
    "`case_when` za argumente prima logičke izraze i akcije odvojene tildom (`~`), pa pozivanje funkcija izgleda ovako:\n",
    "\n",
    "```\n",
    "case_when(logički-izraz ~ akcija-ako-TRUE,\n",
    "          logički-izraz-2 ~ akcija-ako-TRUE-2)\n",
    "          ```"
   ]
  },
  {
   "cell_type": "code",
   "execution_count": null,
   "metadata": {},
   "outputs": [],
   "source": [
    "podaci$pi_nationality %>%\n",
    "# case_when moramo obaviti u {} jer inače dobijemo error\n",
    "{dplyr::case_when(stringr::str_detect(., 'usa?|american|united states.*|\\\\w+ americ') ~ 'american',\n",
    "           str_detect(., 'dutch|french') ~ 'fr-nl',\n",
    "           str_detect(., 'seychelles|turkish|white') ~ 'other',\n",
    "           # akciju u svim nespecificiranim slučajevima određujemo\n",
    "           # tako da stavimo TRUE ~ akcija. ovdje kao akciju stavljamo\n",
    "           # točku, što znači da taj unos treba ostaviti onakvim\n",
    "           # kakav je\n",
    "           TRUE ~ .)} %>% table(.)"
   ]
  },
  {
   "cell_type": "code",
   "execution_count": 9,
   "metadata": {},
   "outputs": [],
   "source": [
    "podaci$pi_nationality %<>%\n",
    "{dplyr::case_when(stringr::str_detect(., 'usa?|american|united states.*|\\\\w+ americ') ~ 'american',\n",
    "           str_detect(., 'dutch|french') ~ 'fr-nl',\n",
    "           str_detect(., 'seychelles|turkish|white') ~ 'other',\n",
    "           TRUE ~ .)} %>%\n",
    "as.factor(.)"
   ]
  },
  {
   "cell_type": "markdown",
   "metadata": {},
   "source": [
    "### Mijenjanje imena varijabli"
   ]
  },
  {
   "cell_type": "markdown",
   "metadata": {},
   "source": [
    "Nekad su imena varijabli jako nezgrapna, neinformativna, mutava i slično. Budući da ćete se prije ili poslije susresti s takvim imenima, proći ćemo kroz nekoliko načina za mijenjanje imena varijabli.\n",
    "\n",
    "Ako želimo promijeniti imena manjeg broja varijabli, možemo koristiti funkciju `rename`. Na primjer, varijable `charitableBehavior01` i `charitableBehavior02` ne govore ništa o tome što su. Jedna je namjera doniranja novca, a druga namjera doniranja vremena. Stoga, preimenovat ćemo ih u `donationMoney` i `donationTime`."
   ]
  },
  {
   "cell_type": "code",
   "execution_count": 10,
   "metadata": {},
   "outputs": [],
   "source": [
    "podaci %<>%\n",
    "dplyr::rename(., donationMoney = charitableBehavior01,\n",
    "      donationTime = charitableBehavior02)"
   ]
  },
  {
   "cell_type": "markdown",
   "metadata": {},
   "source": [
    "Ako trebamo preimenovati veći broj varijabli i ako smo te sreće da njihova imena možemo uhvatiti regularnim izrazima, možemo koristiti `str_replace`.\n",
    "\n",
    "Na primjer, imamo 32 varijable koje se zovu `moralFoundationsXX` i koje predstavljaju pitanja na Moral Foundations Questionnaireu. MFQ se sastoji od 5 faktora (authority, care, loyalty, fairness, sanctity) - svaki faktor reprezentiran je sa 6 pitanja. Osim toga, ima i dvije kontrolne čestice.\n",
    "\n",
    "Preimenovat ćemo varijable tako da na kraj imena svake od njih dodamo oznaku faktora kojoj pripada. Za to ćemo koristiti funkciju `str_replace`, koja nam omogućuje da neki obrazac definiran regexom zamijenimo nekim drugim stringom."
   ]
  },
  {
   "cell_type": "code",
   "execution_count": null,
   "metadata": {},
   "outputs": [],
   "source": [
    "qc(orahovica, orašar) %>%\n",
    "stringr::str_replace(., 'ora(h|š)', 'bor')"
   ]
  },
  {
   "cell_type": "markdown",
   "metadata": {},
   "source": [
    "Sad ćemo vidjeti kako ovu funkciju možemo koristiti za preimenovati varijable."
   ]
  },
  {
   "cell_type": "code",
   "execution_count": null,
   "metadata": {},
   "outputs": [],
   "source": [
    "# dohvaćamo imena stupaca\n",
    "colnames(podaci) %>%\n",
    "# specificiramo stupce na kojima želimo izvršiti zamjenu\n",
    "stringr::str_replace(., pattern = '(moralFoundations)(01|07|12|17|23|28)',\n",
    "                     replacement = '\\\\1\\\\2_care') %>%\n",
    "# ovo je samo radi prikazivanja svih MFQ pitanja\n",
    "stringr::str_subset(., 'moralFoundations') %>% print(.)"
   ]
  },
  {
   "cell_type": "markdown",
   "metadata": {},
   "source": [
    "Vidimo da pitanja koja smo odredili sada imaju sufiks `_care`.\n",
    "\n",
    "U `replacement` argumentu smo iskoristili mogućnost referenciranja koju nam nudi grupiranje znakova u regularnim izrazima. Počevši s lijeva, svaku grupu definiranu pomoću `(...)` možemo dohvatiti pomoću `\\\\n`, gdje `n` označava redni broj grupe.\n",
    "\n",
    "Dakle, u gornjem primjeru se pri izvršavanju zamjene `\\\\1` širi u prvu pronađenu grupu (moralFoundations), a `\\\\2` u drugu pronađenu grupu (01, 07, 12, 17, 23 ili 28, ovisno o tome što je u pojedinom stringu pronađeno). Time dobivamo `moralFoundations01_care`, `moralFoundations07_care` itd.\n",
    "\n",
    "Kod ovakvog mijenjanja imena je zgodno to što nam se svaki put vraćaju imena svih stupaca - ako u imenu nekog stupca nije pronađen uzorak koji smo specificirali u `pattern`, ono ostaje netaknuto. Zbog toga, možemo napraviti lanac poziva `str_replace` pomoću pipa."
   ]
  },
  {
   "cell_type": "code",
   "execution_count": null,
   "metadata": {},
   "outputs": [],
   "source": [
    "colnames(podaci) %>%\n",
    "    stringr::str_replace(., '(moralFoundations)(01|07|12|17|23|28)', '\\\\1\\\\2_care') %>%\n",
    "    str_replace(., '(moralFoundations)(02|08|13|18|24|29)', '\\\\1\\\\2_fair') %>%\n",
    "    str_replace(., '(moralFoundations)(03|09|14|19|25|30)', '\\\\1\\\\2_loyal') %>%\n",
    "    str_replace(., '(moralFoundations)(04|10|15|20|26|31)', '\\\\1\\\\2_author') %>%\n",
    "    str_replace(., '(moralFoundations)(05|11|16|21|27|32)', '\\\\1\\\\2_sanct') %>%\n",
    "    str_replace(., '(moralFoundations)(06|22)', '\\\\1\\\\2_control')"
   ]
  },
  {
   "cell_type": "markdown",
   "metadata": {},
   "source": [
    "Kad smo sigurni da dobivamo ono što očekujemo, samo promijenimo pipu `%>%` u `%<>%`."
   ]
  },
  {
   "cell_type": "code",
   "execution_count": 11,
   "metadata": {},
   "outputs": [],
   "source": [
    "colnames(podaci) %<>%\n",
    "    stringr::str_replace(., '(moralFoundations)(01|07|12|17|23|28)', '\\\\1\\\\2_care') %>%\n",
    "    str_replace(., '(moralFoundations)(02|08|13|18|24|29)', '\\\\1\\\\2_fair') %>%\n",
    "    str_replace(., '(moralFoundations)(03|09|14|19|25|30)', '\\\\1\\\\2_loyal') %>%\n",
    "    str_replace(., '(moralFoundations)(04|10|15|20|26|31)', '\\\\1\\\\2_author') %>%\n",
    "    str_replace(., '(moralFoundations)(05|11|16|21|27|32)', '\\\\1\\\\2_sanct') %>%\n",
    "    str_replace(., '(moralFoundations)(06|22)', '\\\\1\\\\2_control')"
   ]
  },
  {
   "cell_type": "code",
   "execution_count": 12,
   "metadata": {},
   "outputs": [
    {
     "name": "stdout",
     "output_type": "stream",
     "text": [
      " [1] \"attitudesAndNorms01\"            \"attitudesAndNorms02\"           \n",
      " [3] \"attitudesAndNorms03\"            \"attitudesAndNorms04\"           \n",
      " [5] \"attitudesAndNorms05\"            \"attitudesAndNorms06\"           \n",
      " [7] \"attitudesAndNorms07\"            \"attitudesAndNorms08\"           \n",
      " [9] \"callToAction\"                   \"donationMoney\"                 \n",
      "[11] \"donationTime\"                   \"descriptiveSocialNorms01\"      \n",
      "[13] \"descriptiveSocialNorms02\"       \"descriptiveSocialNorms03\"      \n",
      "[15] \"descriptiveSocialNorms04\"       \"mf_AuthoritySubversion\"        \n",
      "[17] \"mf_CareHarm\"                    \"mf_FairnessCheating\"           \n",
      "[19] \"mf_LoyaltyBetrayal\"             \"mf_SanctityDegradation\"        \n",
      "[21] \"moralFoundations01_care\"        \"moralFoundations02_fair\"       \n",
      "[23] \"moralFoundations03_loyal\"       \"moralFoundations04_author\"     \n",
      "[25] \"moralFoundations05_sanct\"       \"moralFoundations06_control\"    \n",
      "[27] \"moralFoundations07_care\"        \"moralFoundations08_fair\"       \n",
      "[29] \"moralFoundations09_loyal\"       \"moralFoundations10_author\"     \n",
      "[31] \"moralFoundations11_sanct\"       \"moralFoundations12_care\"       \n",
      "[33] \"moralFoundations13_fair\"        \"moralFoundations14_loyal\"      \n",
      "[35] \"moralFoundations15_author\"      \"moralFoundations16_sanct\"      \n",
      "[37] \"moralFoundations17_care\"        \"moralFoundations18_fair\"       \n",
      "[39] \"moralFoundations19_loyal\"       \"moralFoundations20_author\"     \n",
      "[41] \"moralFoundations21_sanct\"       \"moralFoundations22_control\"    \n",
      "[43] \"moralFoundations23_care\"        \"moralFoundations24_fair\"       \n",
      "[45] \"moralFoundations25_loyal\"       \"moralFoundations26_author\"     \n",
      "[47] \"moralFoundations27_sanct\"       \"moralFoundations28_care\"       \n",
      "[49] \"moralFoundations29_fair\"        \"moralFoundations30_loyal\"      \n",
      "[51] \"moralFoundations31_author\"      \"moralFoundations32_sanct\"      \n",
      "[53] \"moralIdentityInternalization01\" \"moralIdentityInternalization02\"\n",
      "[55] \"moralIdentityInternalization03\" \"moralIdentityInternalization04\"\n",
      "[57] \"moralIdentityInternalization05\" \"pi_age\"                        \n",
      "[59] \"pi_education\"                   \"pi_gender\"                     \n",
      "[61] \"pi_ideology\"                    \"pi_income\"                     \n",
      "[63] \"pi_nationality\"                 \"pi_previousDonations\"          \n"
     ]
    }
   ],
   "source": [
    "colnames(podaci) %>% print(.)"
   ]
  },
  {
   "cell_type": "markdown",
   "metadata": {},
   "source": [
    "Varijable u ovom setu zapravo su dosta dobro imenovane. Neke nisu dovoljno jasne, ali imenovanje je sustavno, što uvelike olakšava baratnje podacima.\n",
    "\n",
    "Nekad (kad radite s podacima sa Survey Monkeyja, recimo) vjerojatno nećete imati toliko jasne slučajeve. Na primjer, ime varijable moglo bi biti `1. Molimo Vas, odaberite vaš ekonomski status`. Takva imena su pakao. Kad bismo tako imenovanu varijablu ubacili u R, dobili bismo nešto ružno."
   ]
  },
  {
   "cell_type": "code",
   "execution_count": 44,
   "metadata": {},
   "outputs": [
    {
     "data": {
      "text/html": [
       "<table>\n",
       "<thead><tr><th scope=col>X1..Molimo.Vas..odaberite.vaš.ekonomski.status.</th></tr></thead>\n",
       "<tbody>\n",
       "\t<tr><td>1</td></tr>\n",
       "\t<tr><td>2</td></tr>\n",
       "\t<tr><td>3</td></tr>\n",
       "\t<tr><td>4</td></tr>\n",
       "\t<tr><td>5</td></tr>\n",
       "</tbody>\n",
       "</table>\n"
      ],
      "text/latex": [
       "\\begin{tabular}{r|l}\n",
       " X1..Molimo.Vas..odaberite.vaš.ekonomski.status.\\\\\n",
       "\\hline\n",
       "\t 1\\\\\n",
       "\t 2\\\\\n",
       "\t 3\\\\\n",
       "\t 4\\\\\n",
       "\t 5\\\\\n",
       "\\end{tabular}\n"
      ],
      "text/markdown": [
       "\n",
       "X1..Molimo.Vas..odaberite.vaš.ekonomski.status. | \n",
       "|---|---|---|---|---|\n",
       "| 1 | \n",
       "| 2 | \n",
       "| 3 | \n",
       "| 4 | \n",
       "| 5 | \n",
       "\n",
       "\n"
      ],
      "text/plain": [
       "  X1..Molimo.Vas..odaberite.vaš.ekonomski.status.\n",
       "1 1                                              \n",
       "2 2                                              \n",
       "3 3                                              \n",
       "4 4                                              \n",
       "5 5                                              "
      ]
     },
     "metadata": {},
     "output_type": "display_data"
    }
   ],
   "source": [
    "ruzno <- data.frame('1. Molimo Vas, odaberite vaš ekonomski status:' = 1:5)\n",
    "ruzno"
   ]
  },
  {
   "cell_type": "markdown",
   "metadata": {},
   "source": [
    "Svaki razmak postao je točka, zarez i dvotočka također su postali točke, a imenu varijable dodan je prefiks `X` (jer ime varijable ne može započinjati brojem!).\n",
    "\n",
    "Možemo pozvati funkciju `clean_names` iz paketa `janitor`, koja će od ružnih imena napraviti nešto ljepša."
   ]
  },
  {
   "cell_type": "code",
   "execution_count": 45,
   "metadata": {},
   "outputs": [
    {
     "data": {
      "text/html": [
       "<table>\n",
       "<thead><tr><th scope=col>x1_molimo_vas_odaberite_vas_ekonomski_status</th></tr></thead>\n",
       "<tbody>\n",
       "\t<tr><td>1</td></tr>\n",
       "\t<tr><td>2</td></tr>\n",
       "\t<tr><td>3</td></tr>\n",
       "\t<tr><td>4</td></tr>\n",
       "\t<tr><td>5</td></tr>\n",
       "</tbody>\n",
       "</table>\n"
      ],
      "text/latex": [
       "\\begin{tabular}{r|l}\n",
       " x1\\_molimo\\_vas\\_odaberite\\_vas\\_ekonomski\\_status\\\\\n",
       "\\hline\n",
       "\t 1\\\\\n",
       "\t 2\\\\\n",
       "\t 3\\\\\n",
       "\t 4\\\\\n",
       "\t 5\\\\\n",
       "\\end{tabular}\n"
      ],
      "text/markdown": [
       "\n",
       "x1_molimo_vas_odaberite_vas_ekonomski_status | \n",
       "|---|---|---|---|---|\n",
       "| 1 | \n",
       "| 2 | \n",
       "| 3 | \n",
       "| 4 | \n",
       "| 5 | \n",
       "\n",
       "\n"
      ],
      "text/plain": [
       "  x1_molimo_vas_odaberite_vas_ekonomski_status\n",
       "1 1                                           \n",
       "2 2                                           \n",
       "3 3                                           \n",
       "4 4                                           \n",
       "5 5                                           "
      ]
     },
     "metadata": {},
     "output_type": "display_data"
    }
   ],
   "source": [
    "lijepo <- janitor::clean_names(ruzno)\n",
    "lijepo"
   ]
  },
  {
   "cell_type": "markdown",
   "metadata": {},
   "source": [
    "Ovisno o konkretnom imenu, ova će funkcija biti manje ili više korisna. Recimo, ako je potrebno u potpuonsti preimenovati varijablu u nešto smisleno, nema druge nego ručno.\n",
    "\n",
    "Ipak, isplati se pozvati `clean_names` jer može uvelike olakšati automatizirano preimenovanje.\n",
    "\n",
    "Dodat ćemo još 2 ružna stupca u `data.frame` `ruzno`."
   ]
  },
  {
   "cell_type": "code",
   "execution_count": 46,
   "metadata": {},
   "outputs": [
    {
     "data": {
      "text/html": [
       "<table>\n",
       "<thead><tr><th scope=col>X1..Molimo.Vas..odaberite.vaš.ekonomski.status.</th><th scope=col>X2..Koliko.sam.vina.ja.popio.</th><th scope=col>X3..Je.li.vaše.ludo.srce.biralo.</th></tr></thead>\n",
       "<tbody>\n",
       "\t<tr><td>1    </td><td>15   </td><td>FALSE</td></tr>\n",
       "\t<tr><td>2    </td><td>16   </td><td>FALSE</td></tr>\n",
       "\t<tr><td>3    </td><td>17   </td><td>FALSE</td></tr>\n",
       "\t<tr><td>4    </td><td>18   </td><td>FALSE</td></tr>\n",
       "\t<tr><td>5    </td><td>19   </td><td>FALSE</td></tr>\n",
       "</tbody>\n",
       "</table>\n"
      ],
      "text/latex": [
       "\\begin{tabular}{r|lll}\n",
       " X1..Molimo.Vas..odaberite.vaš.ekonomski.status. & X2..Koliko.sam.vina.ja.popio. & X3..Je.li.vaše.ludo.srce.biralo.\\\\\n",
       "\\hline\n",
       "\t 1     & 15    & FALSE\\\\\n",
       "\t 2     & 16    & FALSE\\\\\n",
       "\t 3     & 17    & FALSE\\\\\n",
       "\t 4     & 18    & FALSE\\\\\n",
       "\t 5     & 19    & FALSE\\\\\n",
       "\\end{tabular}\n"
      ],
      "text/markdown": [
       "\n",
       "X1..Molimo.Vas..odaberite.vaš.ekonomski.status. | X2..Koliko.sam.vina.ja.popio. | X3..Je.li.vaše.ludo.srce.biralo. | \n",
       "|---|---|---|---|---|\n",
       "| 1     | 15    | FALSE | \n",
       "| 2     | 16    | FALSE | \n",
       "| 3     | 17    | FALSE | \n",
       "| 4     | 18    | FALSE | \n",
       "| 5     | 19    | FALSE | \n",
       "\n",
       "\n"
      ],
      "text/plain": [
       "  X1..Molimo.Vas..odaberite.vaš.ekonomski.status. X2..Koliko.sam.vina.ja.popio.\n",
       "1 1                                               15                           \n",
       "2 2                                               16                           \n",
       "3 3                                               17                           \n",
       "4 4                                               18                           \n",
       "5 5                                               19                           \n",
       "  X3..Je.li.vaše.ludo.srce.biralo.\n",
       "1 FALSE                           \n",
       "2 FALSE                           \n",
       "3 FALSE                           \n",
       "4 FALSE                           \n",
       "5 FALSE                           "
      ]
     },
     "metadata": {},
     "output_type": "display_data"
    }
   ],
   "source": [
    "ruzno %<>% data.frame(., '2. Koliko sam vina ja popio?' = 15:19,\n",
    "                    '3. Je li vaše ludo srce biralo?' = F)\n",
    "ruzno"
   ]
  },
  {
   "cell_type": "markdown",
   "metadata": {},
   "source": [
    "Vidimo da su i upitnici pretvoreni u točke.\n",
    "\n",
    "Recimo da hoćemo svako ime svesti na format `broj_prva-riječ`. Ako dopustimo R-u da obavi svoju masovnu konverziju, pa takva imena pretvaramo, mogli bismo imati problema (ili više nepotrebne patnje) sa specificiranjem obrasca koji želimo odbaciti.\n",
    "\n",
    "Ponovno ćemo pozvati `clean_names`:"
   ]
  },
  {
   "cell_type": "code",
   "execution_count": 47,
   "metadata": {},
   "outputs": [
    {
     "data": {
      "text/html": [
       "<table>\n",
       "<thead><tr><th scope=col>x1_molimo_vas_odaberite_vas_ekonomski_status</th><th scope=col>x2_koliko_sam_vina_ja_popio</th><th scope=col>x3_je_li_vase_ludo_srce_biralo</th></tr></thead>\n",
       "<tbody>\n",
       "\t<tr><td>1    </td><td>15   </td><td>FALSE</td></tr>\n",
       "\t<tr><td>2    </td><td>16   </td><td>FALSE</td></tr>\n",
       "\t<tr><td>3    </td><td>17   </td><td>FALSE</td></tr>\n",
       "\t<tr><td>4    </td><td>18   </td><td>FALSE</td></tr>\n",
       "\t<tr><td>5    </td><td>19   </td><td>FALSE</td></tr>\n",
       "</tbody>\n",
       "</table>\n"
      ],
      "text/latex": [
       "\\begin{tabular}{r|lll}\n",
       " x1\\_molimo\\_vas\\_odaberite\\_vas\\_ekonomski\\_status & x2\\_koliko\\_sam\\_vina\\_ja\\_popio & x3\\_je\\_li\\_vase\\_ludo\\_srce\\_biralo\\\\\n",
       "\\hline\n",
       "\t 1     & 15    & FALSE\\\\\n",
       "\t 2     & 16    & FALSE\\\\\n",
       "\t 3     & 17    & FALSE\\\\\n",
       "\t 4     & 18    & FALSE\\\\\n",
       "\t 5     & 19    & FALSE\\\\\n",
       "\\end{tabular}\n"
      ],
      "text/markdown": [
       "\n",
       "x1_molimo_vas_odaberite_vas_ekonomski_status | x2_koliko_sam_vina_ja_popio | x3_je_li_vase_ludo_srce_biralo | \n",
       "|---|---|---|---|---|\n",
       "| 1     | 15    | FALSE | \n",
       "| 2     | 16    | FALSE | \n",
       "| 3     | 17    | FALSE | \n",
       "| 4     | 18    | FALSE | \n",
       "| 5     | 19    | FALSE | \n",
       "\n",
       "\n"
      ],
      "text/plain": [
       "  x1_molimo_vas_odaberite_vas_ekonomski_status x2_koliko_sam_vina_ja_popio\n",
       "1 1                                            15                         \n",
       "2 2                                            16                         \n",
       "3 3                                            17                         \n",
       "4 4                                            18                         \n",
       "5 5                                            19                         \n",
       "  x3_je_li_vase_ludo_srce_biralo\n",
       "1 FALSE                         \n",
       "2 FALSE                         \n",
       "3 FALSE                         \n",
       "4 FALSE                         \n",
       "5 FALSE                         "
      ]
     },
     "metadata": {},
     "output_type": "display_data"
    }
   ],
   "source": [
    "lijepo <- janitor::clean_names(ruzno)\n",
    "lijepo"
   ]
  },
  {
   "cell_type": "markdown",
   "metadata": {},
   "source": [
    "Ova imena su puno sustavnija, zbog čega je lakše napisati neki obrazac znakova koji želimo zadržati."
   ]
  },
  {
   "cell_type": "code",
   "execution_count": 66,
   "metadata": {},
   "outputs": [
    {
     "data": {
      "text/html": [
       "<table>\n",
       "<thead><tr><th scope=col>1_molimo</th><th scope=col>2_koliko</th><th scope=col>3_je</th></tr></thead>\n",
       "<tbody>\n",
       "\t<tr><td>1    </td><td>15   </td><td>FALSE</td></tr>\n",
       "\t<tr><td>2    </td><td>16   </td><td>FALSE</td></tr>\n",
       "\t<tr><td>3    </td><td>17   </td><td>FALSE</td></tr>\n",
       "\t<tr><td>4    </td><td>18   </td><td>FALSE</td></tr>\n",
       "\t<tr><td>5    </td><td>19   </td><td>FALSE</td></tr>\n",
       "</tbody>\n",
       "</table>\n"
      ],
      "text/latex": [
       "\\begin{tabular}{r|lll}\n",
       " 1\\_molimo & 2\\_koliko & 3\\_je\\\\\n",
       "\\hline\n",
       "\t 1     & 15    & FALSE\\\\\n",
       "\t 2     & 16    & FALSE\\\\\n",
       "\t 3     & 17    & FALSE\\\\\n",
       "\t 4     & 18    & FALSE\\\\\n",
       "\t 5     & 19    & FALSE\\\\\n",
       "\\end{tabular}\n"
      ],
      "text/markdown": [
       "\n",
       "1_molimo | 2_koliko | 3_je | \n",
       "|---|---|---|---|---|\n",
       "| 1     | 15    | FALSE | \n",
       "| 2     | 16    | FALSE | \n",
       "| 3     | 17    | FALSE | \n",
       "| 4     | 18    | FALSE | \n",
       "| 5     | 19    | FALSE | \n",
       "\n",
       "\n"
      ],
      "text/plain": [
       "  1_molimo 2_koliko 3_je \n",
       "1 1        15       FALSE\n",
       "2 2        16       FALSE\n",
       "3 3        17       FALSE\n",
       "4 4        18       FALSE\n",
       "5 5        19       FALSE"
      ]
     },
     "metadata": {},
     "output_type": "display_data"
    }
   ],
   "source": [
    "colnames(lijepo) %<>%\n",
    "stringr::str_replace(., '^x(\\\\d_[[:lower:]]+).*', '\\\\1')\n",
    "lijepo"
   ]
  },
  {
   "cell_type": "markdown",
   "metadata": {},
   "source": [
    "### Obrnuto kodiranje varijabli"
   ]
  },
  {
   "cell_type": "markdown",
   "metadata": {},
   "source": [
    "Neka od pitanja u ovom upitnik potrebno je obrnuto kodirati. To možemo učiniti pomoću funkcije `reverse.code` iz `psych` paketa. Ta funkcija ima dva obavezna argumenta: `keys`, koji je vektor brojki `1` i `-1`, te `items`, što su čestice koje treba rekodirati.\n",
    "\n",
    "Za primjer, rekodirat ćemo 3. i 4. pitanje skale `moralIdentityInternalization`."
   ]
  },
  {
   "cell_type": "code",
   "execution_count": 114,
   "metadata": {},
   "outputs": [
    {
     "name": "stdout",
     "output_type": "stream",
     "text": [
      "# A tibble: 6 x 5\n",
      "  moralIdentityIn… moralIdentityIn… moralIdentityIn… moralIdentityIn…\n",
      "             <int>            <int>            <int>            <int>\n",
      "1                5                2                1                2\n",
      "2                4                3                1                3\n",
      "3                6                5                1                1\n",
      "4                6                4                1                3\n",
      "5                4                3                1                2\n",
      "6                4                6                1                1\n",
      "# ... with 1 more variable: moralIdentityInternalization05 <int>\n",
      " num [1:6, 1:5] 5 4 6 6 4 4 2 3 5 4 ...\n",
      " - attr(*, \"dimnames\")=List of 2\n",
      "  ..$ : NULL\n",
      "  ..$ : chr [1:5] \"moralIdentityInternalization01\" \"moralIdentityInternalization02\" \"moralIdentityInternalization03-\" \"moralIdentityInternalization04-\" ...\n"
     ]
    },
    {
     "data": {
      "text/html": [
       "<table>\n",
       "<thead><tr><th scope=col>moralIdentityInternalization01</th><th scope=col>moralIdentityInternalization02</th><th scope=col>moralIdentityInternalization03-</th><th scope=col>moralIdentityInternalization04-</th><th scope=col>moralIdentityInternalization05</th></tr></thead>\n",
       "<tbody>\n",
       "\t<tr><td>5</td><td>2</td><td>6</td><td>5</td><td>3</td></tr>\n",
       "\t<tr><td>4</td><td>3</td><td>6</td><td>4</td><td>4</td></tr>\n",
       "\t<tr><td>6</td><td>5</td><td>6</td><td>6</td><td>5</td></tr>\n",
       "\t<tr><td>6</td><td>4</td><td>6</td><td>4</td><td>4</td></tr>\n",
       "\t<tr><td>4</td><td>3</td><td>6</td><td>5</td><td>4</td></tr>\n",
       "\t<tr><td>4</td><td>6</td><td>6</td><td>6</td><td>4</td></tr>\n",
       "</tbody>\n",
       "</table>\n"
      ],
      "text/latex": [
       "\\begin{tabular}{lllll}\n",
       " moralIdentityInternalization01 & moralIdentityInternalization02 & moralIdentityInternalization03- & moralIdentityInternalization04- & moralIdentityInternalization05\\\\\n",
       "\\hline\n",
       "\t 5 & 2 & 6 & 5 & 3\\\\\n",
       "\t 4 & 3 & 6 & 4 & 4\\\\\n",
       "\t 6 & 5 & 6 & 6 & 5\\\\\n",
       "\t 6 & 4 & 6 & 4 & 4\\\\\n",
       "\t 4 & 3 & 6 & 5 & 4\\\\\n",
       "\t 4 & 6 & 6 & 6 & 4\\\\\n",
       "\\end{tabular}\n"
      ],
      "text/markdown": [
       "\n",
       "moralIdentityInternalization01 | moralIdentityInternalization02 | moralIdentityInternalization03- | moralIdentityInternalization04- | moralIdentityInternalization05 | \n",
       "|---|---|---|---|---|---|\n",
       "| 5 | 2 | 6 | 5 | 3 | \n",
       "| 4 | 3 | 6 | 4 | 4 | \n",
       "| 6 | 5 | 6 | 6 | 5 | \n",
       "| 6 | 4 | 6 | 4 | 4 | \n",
       "| 4 | 3 | 6 | 5 | 4 | \n",
       "| 4 | 6 | 6 | 6 | 4 | \n",
       "\n",
       "\n"
      ],
      "text/plain": [
       "     moralIdentityInternalization01 moralIdentityInternalization02\n",
       "[1,] 5                              2                             \n",
       "[2,] 4                              3                             \n",
       "[3,] 6                              5                             \n",
       "[4,] 6                              4                             \n",
       "[5,] 4                              3                             \n",
       "[6,] 4                              6                             \n",
       "     moralIdentityInternalization03- moralIdentityInternalization04-\n",
       "[1,] 6                               5                              \n",
       "[2,] 6                               4                              \n",
       "[3,] 6                               6                              \n",
       "[4,] 6                               4                              \n",
       "[5,] 6                               5                              \n",
       "[6,] 6                               6                              \n",
       "     moralIdentityInternalization05\n",
       "[1,] 3                             \n",
       "[2,] 4                             \n",
       "[3,] 5                             \n",
       "[4,] 4                             \n",
       "[5,] 4                             \n",
       "[6,] 4                             "
      ]
     },
     "metadata": {},
     "output_type": "display_data"
    }
   ],
   "source": [
    "podaci %>%\n",
    "dplyr::select(contains('Internal')) %>%\n",
    "head(.) %T>% print(.) %>%\n",
    "{psych::reverse.code(keys = c(1, 1, -1, -1, 1),\n",
    "                    items = .,\n",
    "                    # zadajemo maksimum i minimum skale\n",
    "                    # jer inače određuje prema vrijednostima\n",
    "                    # koje se zapravo pojavljuju, a neke\n",
    "                    # čestice imaju manji raspon od\n",
    "                    # teoretski mogućeg\n",
    "                    mini = 0, maxi = 7)} %T>%\n",
    "str(.) %>% head(.)"
   ]
  },
  {
   "cell_type": "markdown",
   "metadata": {},
   "source": [
    "Sad kad smo se uvjerili da su varijable ispravno rekodirane, možemo skratiti postupak (recimo, tako da ciljamo samo one varijable koje zapravo treba rekodirati) i te rekodirane varijable dodati u `data.frame`."
   ]
  },
  {
   "cell_type": "code",
   "execution_count": 12,
   "metadata": {},
   "outputs": [],
   "source": [
    "podaci %<>%\n",
    "# contains smo promijenili u matches\n",
    "dplyr::select(matches('Internal.*(03|04)$')) %>%\n",
    "# u keys ostavljamo samo onoliko -1 koliko\n",
    "# imamo varijabli\n",
    "{psych::reverse.code(keys = c(-1, -1),\n",
    "                    items = .,\n",
    "                    mini = 0, maxi = 7)} %>%\n",
    "# reverse.code nam vraća matrix, pa ga pretvaramo\n",
    "# u data.frame\n",
    "as.data.frame(.) %$%\n",
    "# otkrivamo imena varijabli kako bismo ih mogli\n",
    "# koristiti direktno; tibble je dio tidyversea\n",
    "tibble::add_column(podaci,\n",
    "                   moralIdentityInternalization03_rec =\n",
    "                   # ime varijable moramo staviti u `` (backticks)\n",
    "                   # jer R inače baca error zbog - na kraju imena\n",
    "                   # (taj - tumači kao sintaksu, a ne kao dio imena)\n",
    "                   `moralIdentityInternalization03-`,\n",
    "                   moralIdentityInternalization04_rec =\n",
    "                   `moralIdentityInternalization04-`,\n",
    "                   # pomoću .after definiramo iza kojeg stupca\n",
    "                   # želimo dodati nove stupce; ovdje to radimo\n",
    "                   # zato da bi mII varijable bile na okupu\n",
    "                   .after = 'moralIdentityInternalization05')"
   ]
  },
  {
   "cell_type": "code",
   "execution_count": 151,
   "metadata": {},
   "outputs": [
    {
     "name": "stdout",
     "output_type": "stream",
     "text": [
      " [1] \"attitudesAndNorms01\"                \"attitudesAndNorms02\"               \n",
      " [3] \"attitudesAndNorms03\"                \"attitudesAndNorms04\"               \n",
      " [5] \"attitudesAndNorms05\"                \"attitudesAndNorms06\"               \n",
      " [7] \"attitudesAndNorms07\"                \"attitudesAndNorms08\"               \n",
      " [9] \"callToAction\"                       \"donationMoney\"                     \n",
      "[11] \"donationTime\"                       \"descriptiveSocialNorms01\"          \n",
      "[13] \"descriptiveSocialNorms02\"           \"descriptiveSocialNorms03\"          \n",
      "[15] \"descriptiveSocialNorms04\"           \"mf_AuthoritySubversion\"            \n",
      "[17] \"mf_CareHarm\"                        \"mf_FairnessCheating\"               \n",
      "[19] \"mf_LoyaltyBetrayal\"                 \"mf_SanctityDegradation\"            \n",
      "[21] \"moralFoundations01_care\"            \"moralFoundations02_fair\"           \n",
      "[23] \"moralFoundations03_loyal\"           \"moralFoundations04_author\"         \n",
      "[25] \"moralFoundations05_sanct\"           \"moralFoundations06_control\"        \n",
      "[27] \"moralFoundations07_care\"            \"moralFoundations08_fair\"           \n",
      "[29] \"moralFoundations09_loyal\"           \"moralFoundations10_author\"         \n",
      "[31] \"moralFoundations11_sanct\"           \"moralFoundations12_care\"           \n",
      "[33] \"moralFoundations13_fair\"            \"moralFoundations14_loyal\"          \n",
      "[35] \"moralFoundations15_author\"          \"moralFoundations16_sanct\"          \n",
      "[37] \"moralFoundations17_care\"            \"moralFoundations18_fair\"           \n",
      "[39] \"moralFoundations19_loyal\"           \"moralFoundations20_author\"         \n",
      "[41] \"moralFoundations21_sanct\"           \"moralFoundations22_control\"        \n",
      "[43] \"moralFoundations23_care\"            \"moralFoundations24_fair\"           \n",
      "[45] \"moralFoundations25_loyal\"           \"moralFoundations26_author\"         \n",
      "[47] \"moralFoundations27_sanct\"           \"moralFoundations28_care\"           \n",
      "[49] \"moralFoundations29_fair\"            \"moralFoundations30_loyal\"          \n",
      "[51] \"moralFoundations31_author\"          \"moralFoundations32_sanct\"          \n",
      "[53] \"moralIdentityInternalization01\"     \"moralIdentityInternalization02\"    \n",
      "[55] \"moralIdentityInternalization03\"     \"moralIdentityInternalization04\"    \n",
      "[57] \"moralIdentityInternalization05\"     \"moralIdentityInternalization03_rec\"\n",
      "[59] \"moralIdentityInternalization04_rec\" \"pi_age\"                            \n",
      "[61] \"pi_education\"                       \"pi_gender\"                         \n",
      "[63] \"pi_ideology\"                        \"pi_income\"                         \n",
      "[65] \"pi_nationality\"                     \"pi_previousDonations\"              \n"
     ]
    }
   ],
   "source": [
    "colnames(podaci) %>% print(.)"
   ]
  },
  {
   "cell_type": "markdown",
   "metadata": {},
   "source": [
    "### Brisanje stupaca"
   ]
  },
  {
   "cell_type": "markdown",
   "metadata": {},
   "source": [
    "Ponekad se u podacima nađu varijable koje nam nisu potrebne, pa je zgodno znati kako ih možemo obrisati. Za potrebe ove demonstracije, obrisat ćemo dvije varijable - `mf_CareHarm` i `mf_FairnessCheating` - koje su ukupni rezultati na dvije subskale MFQ-a."
   ]
  },
  {
   "cell_type": "markdown",
   "metadata": {},
   "source": [
    "Jedan način za brisanje je upisivanje posebne vrijednosti `NULL` u stupac kojeg se želimo riješiti."
   ]
  },
  {
   "cell_type": "code",
   "execution_count": 172,
   "metadata": {},
   "outputs": [],
   "source": [
    "podaci$mf_CareHarm <- NULL"
   ]
  },
  {
   "cell_type": "code",
   "execution_count": 173,
   "metadata": {},
   "outputs": [
    {
     "name": "stdout",
     "output_type": "stream",
     "text": [
      "Classes ‘tbl_df’, ‘tbl’ and 'data.frame':\t100 obs. of  65 variables:\n",
      " $ attitudesAndNorms01               : int  5 5 4 6 4 4 6 4 3 5 ...\n",
      " $ attitudesAndNorms02               : int  5 4 6 2 1 4 0 4 7 7 ...\n",
      " $ attitudesAndNorms03               : int  5 2 5 3 2 4 3 5 6 7 ...\n",
      " $ attitudesAndNorms04               : int  5 1 5 2 3 3 3 7 5 6 ...\n",
      " $ attitudesAndNorms05               : int  4 2 3 2 1 4 2 4 4 6 ...\n",
      " $ attitudesAndNorms06               : int  3 2 2 3 2 3 3 3 3 4 ...\n",
      " $ attitudesAndNorms07               : int  4 3 4 5 4 5 6 4 4 5 ...\n",
      " $ attitudesAndNorms08               : int  6 7 5 6 5 5 7 5 3 5 ...\n",
      " $ callToAction                      : int  7 6 7 1 8 7 11 8 3 7 ...\n",
      " $ donationMoney                     : int  37 18 7 14 0 37 33 29 16 6 ...\n",
      " $ donationTime                      : int  4 3 3 5 0 2 4 3 2 3 ...\n",
      " $ descriptiveSocialNorms01          : int  4 3 3 1 3 1 2 4 3 4 ...\n",
      " $ descriptiveSocialNorms02          : int  3 1 3 1 1 1 2 3 3 5 ...\n",
      " $ descriptiveSocialNorms03          : int  2 3 2 2 2 3 3 4 4 5 ...\n",
      " $ descriptiveSocialNorms04          : int  2 1 5 3 4 2 2 2 2 4 ...\n",
      " $ mf_AuthoritySubversion            : int  1 1 2 2 2 0 2 1 1 2 ...\n",
      " $ mf_FairnessCheating               : int  3 3 4 3 2 4 4 5 3 4 ...\n",
      " $ mf_LoyaltyBetrayal                : int  2 2 2 3 2 1 2 0 0 1 ...\n",
      " $ mf_SanctityDegradation            : int  1 1 1 1 1 -1 1 -1 1 1 ...\n",
      " $ moralFoundations01_care           : int  4 3 4 3 3 4 5 3 4 4 ...\n",
      " $ moralFoundations02_fair           : int  4 3 4 3 1 4 4 4 2 5 ...\n",
      " $ moralFoundations03_loyal          : int  3 0 2 1 1 0 2 0 -1 0 ...\n",
      " $ moralFoundations04_author         : int  1 0 2 2 2 0 2 0 1 2 ...\n",
      " $ moralFoundations05_sanct          : int  2 2 1 3 3 -1 3 1 1 2 ...\n",
      " $ moralFoundations06_control        : int  0 0 0 2 -1 1 0 0 -1 1 ...\n",
      " $ moralFoundations07_care           : int  4 3 4 4 5 2 4 4 3 4 ...\n",
      " $ moralFoundations08_fair           : int  4 3 4 3 3 4 5 4 3 5 ...\n",
      " $ moralFoundations09_loyal          : int  3 3 2 4 3 3 3 1 -1 1 ...\n",
      " $ moralFoundations10_author         : int  0 -1 1 3 2 0 2 1 1 1 ...\n",
      " $ moralFoundations11_sanct          : int  1 3 1 0 1 -1 2 0 3 3 ...\n",
      " $ moralFoundations12_care           : int  6 5 4 5 4 4 5 4 3 5 ...\n",
      " $ moralFoundations13_fair           : int  3 5 4 5 5 3 4 5 4 5 ...\n",
      " $ moralFoundations14_loyal          : int  4 2 1 1 3 3 3 1 3 2 ...\n",
      " $ moralFoundations15_author         : int  3 2 2 1 2 3 3 2 5 3 ...\n",
      " $ moralFoundations16_sanct          : int  3 1 1 2 -1 1 -2 2 0 1 ...\n",
      " $ moralFoundations17_care           : int  2 5 3 4 4 4 3 4 3 3 ...\n",
      " $ moralFoundations18_fair           : int  2 3 3 4 5 2 4 5 4 4 ...\n",
      " $ moralFoundations19_loyal          : int  0 2 4 2 2 2 4 4 4 2 ...\n",
      " $ moralFoundations20_author         : int  0 1 0 4 1 3 3 3 2 2 ...\n",
      " $ moralFoundations21_sanct          : int  0 1 1 1 3 3 1 2 1 -1 ...\n",
      " $ moralFoundations22_control        : int  4 4 6 4 4 3 5 3 5 5 ...\n",
      " $ moralFoundations23_care           : int  3 3 4 2 4 0 3 4 3 3 ...\n",
      " $ moralFoundations24_fair           : int  4 3 1 5 2 3 2 6 2 3 ...\n",
      " $ moralFoundations25_loyal          : int  0 0 1 2 0 3 1 2 2 1 ...\n",
      " $ moralFoundations26_author         : int  1 1 1 5 0 2 2 3 1 1 ...\n",
      " $ moralFoundations27_sanct          : int  1 1 0 1 1 1 -1 2 0 1 ...\n",
      " $ moralFoundations28_care           : int  0 -1 2 -1 -1 1 3 1 4 1 ...\n",
      " $ moralFoundations29_fair           : int  1 1 3 2 4 1 4 2 2 0 ...\n",
      " $ moralFoundations30_loyal          : int  1 1 1 1 2 1 1 0 2 2 ...\n",
      " $ moralFoundations31_author         : int  3 2 1 5 2 2 4 3 3 2 ...\n",
      " $ moralFoundations32_sanct          : int  1 0 0 4 2 1 0 1 2 1 ...\n",
      " $ moralIdentityInternalization01    : int  5 4 6 6 4 4 5 3 6 5 ...\n",
      " $ moralIdentityInternalization02    : int  2 3 5 4 3 6 5 2 4 5 ...\n",
      " $ moralIdentityInternalization03    : int  1 1 1 1 1 1 1 1 1 1 ...\n",
      " $ moralIdentityInternalization04    : int  2 3 1 3 2 1 3 3 3 1 ...\n",
      " $ moralIdentityInternalization05    : int  3 4 5 4 4 4 5 3 4 5 ...\n",
      " $ moralIdentityInternalization03_rec: num  6 6 6 6 6 6 6 6 6 6 ...\n",
      " $ moralIdentityInternalization04_rec: num  5 4 6 4 5 6 4 4 4 6 ...\n",
      " $ pi_age                            : int  3 20 20 19 22 25 23 41 16 17 ...\n",
      " $ pi_education                      : Factor w/ 6 levels \"elem-sch\",\"hi-sch\",..: 5 3 2 3 3 3 5 3 6 5 ...\n",
      " $ pi_gender                         : Factor w/ 2 levels \"Female\",\"Male\": 2 2 2 2 1 2 1 2 2 1 ...\n",
      " $ pi_ideology                       : Factor w/ 7 levels \"Extremely conservative (right)\",..: 3 7 3 7 7 7 5 5 3 7 ...\n",
      " $ pi_income                         : Ord.factor w/ 5 levels \"avg--\"<\"avg-\"<..: 2 4 4 4 4 4 4 4 4 2 ...\n",
      " $ pi_nationality                    : Factor w/ 5 levels \"american\",\"british\",..: 1 1 5 1 1 1 1 1 4 3 ...\n",
      " $ pi_previousDonations              : Factor w/ 4 levels \"Never\",\"Often\",..: 3 4 3 3 4 4 4 2 2 3 ...\n"
     ]
    }
   ],
   "source": [
    "str(podaci)"
   ]
  },
  {
   "cell_type": "markdown",
   "metadata": {},
   "source": [
    "Drugi je prepisivanje (u smislu *overwrite*) varijable koja drži `data.frame` `data.frameom` koji sadrži sve varijable osim te koju želimo ukloniti. To možemo učiniti pomoću funkcije `select` i negacijskog operatora `-`."
   ]
  },
  {
   "cell_type": "code",
   "execution_count": 13,
   "metadata": {},
   "outputs": [],
   "source": [
    "podaci %<>%\n",
    "dplyr::select(-mf_FairnessCheating)"
   ]
  },
  {
   "cell_type": "code",
   "execution_count": 175,
   "metadata": {},
   "outputs": [
    {
     "name": "stdout",
     "output_type": "stream",
     "text": [
      "Classes ‘tbl_df’, ‘tbl’ and 'data.frame':\t100 obs. of  64 variables:\n",
      " $ attitudesAndNorms01               : int  5 5 4 6 4 4 6 4 3 5 ...\n",
      " $ attitudesAndNorms02               : int  5 4 6 2 1 4 0 4 7 7 ...\n",
      " $ attitudesAndNorms03               : int  5 2 5 3 2 4 3 5 6 7 ...\n",
      " $ attitudesAndNorms04               : int  5 1 5 2 3 3 3 7 5 6 ...\n",
      " $ attitudesAndNorms05               : int  4 2 3 2 1 4 2 4 4 6 ...\n",
      " $ attitudesAndNorms06               : int  3 2 2 3 2 3 3 3 3 4 ...\n",
      " $ attitudesAndNorms07               : int  4 3 4 5 4 5 6 4 4 5 ...\n",
      " $ attitudesAndNorms08               : int  6 7 5 6 5 5 7 5 3 5 ...\n",
      " $ callToAction                      : int  7 6 7 1 8 7 11 8 3 7 ...\n",
      " $ donationMoney                     : int  37 18 7 14 0 37 33 29 16 6 ...\n",
      " $ donationTime                      : int  4 3 3 5 0 2 4 3 2 3 ...\n",
      " $ descriptiveSocialNorms01          : int  4 3 3 1 3 1 2 4 3 4 ...\n",
      " $ descriptiveSocialNorms02          : int  3 1 3 1 1 1 2 3 3 5 ...\n",
      " $ descriptiveSocialNorms03          : int  2 3 2 2 2 3 3 4 4 5 ...\n",
      " $ descriptiveSocialNorms04          : int  2 1 5 3 4 2 2 2 2 4 ...\n",
      " $ mf_AuthoritySubversion            : int  1 1 2 2 2 0 2 1 1 2 ...\n",
      " $ mf_LoyaltyBetrayal                : int  2 2 2 3 2 1 2 0 0 1 ...\n",
      " $ mf_SanctityDegradation            : int  1 1 1 1 1 -1 1 -1 1 1 ...\n",
      " $ moralFoundations01_care           : int  4 3 4 3 3 4 5 3 4 4 ...\n",
      " $ moralFoundations02_fair           : int  4 3 4 3 1 4 4 4 2 5 ...\n",
      " $ moralFoundations03_loyal          : int  3 0 2 1 1 0 2 0 -1 0 ...\n",
      " $ moralFoundations04_author         : int  1 0 2 2 2 0 2 0 1 2 ...\n",
      " $ moralFoundations05_sanct          : int  2 2 1 3 3 -1 3 1 1 2 ...\n",
      " $ moralFoundations06_control        : int  0 0 0 2 -1 1 0 0 -1 1 ...\n",
      " $ moralFoundations07_care           : int  4 3 4 4 5 2 4 4 3 4 ...\n",
      " $ moralFoundations08_fair           : int  4 3 4 3 3 4 5 4 3 5 ...\n",
      " $ moralFoundations09_loyal          : int  3 3 2 4 3 3 3 1 -1 1 ...\n",
      " $ moralFoundations10_author         : int  0 -1 1 3 2 0 2 1 1 1 ...\n",
      " $ moralFoundations11_sanct          : int  1 3 1 0 1 -1 2 0 3 3 ...\n",
      " $ moralFoundations12_care           : int  6 5 4 5 4 4 5 4 3 5 ...\n",
      " $ moralFoundations13_fair           : int  3 5 4 5 5 3 4 5 4 5 ...\n",
      " $ moralFoundations14_loyal          : int  4 2 1 1 3 3 3 1 3 2 ...\n",
      " $ moralFoundations15_author         : int  3 2 2 1 2 3 3 2 5 3 ...\n",
      " $ moralFoundations16_sanct          : int  3 1 1 2 -1 1 -2 2 0 1 ...\n",
      " $ moralFoundations17_care           : int  2 5 3 4 4 4 3 4 3 3 ...\n",
      " $ moralFoundations18_fair           : int  2 3 3 4 5 2 4 5 4 4 ...\n",
      " $ moralFoundations19_loyal          : int  0 2 4 2 2 2 4 4 4 2 ...\n",
      " $ moralFoundations20_author         : int  0 1 0 4 1 3 3 3 2 2 ...\n",
      " $ moralFoundations21_sanct          : int  0 1 1 1 3 3 1 2 1 -1 ...\n",
      " $ moralFoundations22_control        : int  4 4 6 4 4 3 5 3 5 5 ...\n",
      " $ moralFoundations23_care           : int  3 3 4 2 4 0 3 4 3 3 ...\n",
      " $ moralFoundations24_fair           : int  4 3 1 5 2 3 2 6 2 3 ...\n",
      " $ moralFoundations25_loyal          : int  0 0 1 2 0 3 1 2 2 1 ...\n",
      " $ moralFoundations26_author         : int  1 1 1 5 0 2 2 3 1 1 ...\n",
      " $ moralFoundations27_sanct          : int  1 1 0 1 1 1 -1 2 0 1 ...\n",
      " $ moralFoundations28_care           : int  0 -1 2 -1 -1 1 3 1 4 1 ...\n",
      " $ moralFoundations29_fair           : int  1 1 3 2 4 1 4 2 2 0 ...\n",
      " $ moralFoundations30_loyal          : int  1 1 1 1 2 1 1 0 2 2 ...\n",
      " $ moralFoundations31_author         : int  3 2 1 5 2 2 4 3 3 2 ...\n",
      " $ moralFoundations32_sanct          : int  1 0 0 4 2 1 0 1 2 1 ...\n",
      " $ moralIdentityInternalization01    : int  5 4 6 6 4 4 5 3 6 5 ...\n",
      " $ moralIdentityInternalization02    : int  2 3 5 4 3 6 5 2 4 5 ...\n",
      " $ moralIdentityInternalization03    : int  1 1 1 1 1 1 1 1 1 1 ...\n",
      " $ moralIdentityInternalization04    : int  2 3 1 3 2 1 3 3 3 1 ...\n",
      " $ moralIdentityInternalization05    : int  3 4 5 4 4 4 5 3 4 5 ...\n",
      " $ moralIdentityInternalization03_rec: num  6 6 6 6 6 6 6 6 6 6 ...\n",
      " $ moralIdentityInternalization04_rec: num  5 4 6 4 5 6 4 4 4 6 ...\n",
      " $ pi_age                            : int  3 20 20 19 22 25 23 41 16 17 ...\n",
      " $ pi_education                      : Factor w/ 6 levels \"elem-sch\",\"hi-sch\",..: 5 3 2 3 3 3 5 3 6 5 ...\n",
      " $ pi_gender                         : Factor w/ 2 levels \"Female\",\"Male\": 2 2 2 2 1 2 1 2 2 1 ...\n",
      " $ pi_ideology                       : Factor w/ 7 levels \"Extremely conservative (right)\",..: 3 7 3 7 7 7 5 5 3 7 ...\n",
      " $ pi_income                         : Ord.factor w/ 5 levels \"avg--\"<\"avg-\"<..: 2 4 4 4 4 4 4 4 4 2 ...\n",
      " $ pi_nationality                    : Factor w/ 5 levels \"american\",\"british\",..: 1 1 5 1 1 1 1 1 4 3 ...\n",
      " $ pi_previousDonations              : Factor w/ 4 levels \"Never\",\"Often\",..: 3 4 3 3 4 4 4 2 2 3 ...\n"
     ]
    }
   ],
   "source": [
    "str(podaci)"
   ]
  },
  {
   "cell_type": "markdown",
   "metadata": {},
   "source": [
    "### Stvaranje nove varijable pomoću `mutate`"
   ]
  },
  {
   "cell_type": "markdown",
   "metadata": {},
   "source": [
    "Već smo vidjeli neke načine na koje možemo stvarati nove varijable. Sada ćemo pomoću funkcije `mutate` rekreirati dva stupca koja smo malo prije obrisali.\n",
    "\n",
    "Kao rezultat na subskali uzet ćemo prosječnu vrijednost odabranih odgovora svakog sudionika."
   ]
  },
  {
   "cell_type": "code",
   "execution_count": 181,
   "metadata": {},
   "outputs": [
    {
     "name": "stdout",
     "output_type": "stream",
     "text": [
      "Classes ‘tbl_df’, ‘tbl’ and 'data.frame':\t100 obs. of  66 variables:\n",
      " $ attitudesAndNorms01               : int  5 5 4 6 4 4 6 4 3 5 ...\n",
      " $ attitudesAndNorms02               : int  5 4 6 2 1 4 0 4 7 7 ...\n",
      " $ attitudesAndNorms03               : int  5 2 5 3 2 4 3 5 6 7 ...\n",
      " $ attitudesAndNorms04               : int  5 1 5 2 3 3 3 7 5 6 ...\n",
      " $ attitudesAndNorms05               : int  4 2 3 2 1 4 2 4 4 6 ...\n",
      " $ attitudesAndNorms06               : int  3 2 2 3 2 3 3 3 3 4 ...\n",
      " $ attitudesAndNorms07               : int  4 3 4 5 4 5 6 4 4 5 ...\n",
      " $ attitudesAndNorms08               : int  6 7 5 6 5 5 7 5 3 5 ...\n",
      " $ callToAction                      : int  7 6 7 1 8 7 11 8 3 7 ...\n",
      " $ donationMoney                     : int  37 18 7 14 0 37 33 29 16 6 ...\n",
      " $ donationTime                      : int  4 3 3 5 0 2 4 3 2 3 ...\n",
      " $ descriptiveSocialNorms01          : int  4 3 3 1 3 1 2 4 3 4 ...\n",
      " $ descriptiveSocialNorms02          : int  3 1 3 1 1 1 2 3 3 5 ...\n",
      " $ descriptiveSocialNorms03          : int  2 3 2 2 2 3 3 4 4 5 ...\n",
      " $ descriptiveSocialNorms04          : int  2 1 5 3 4 2 2 2 2 4 ...\n",
      " $ mf_AuthoritySubversion            : int  1 1 2 2 2 0 2 1 1 2 ...\n",
      " $ mf_LoyaltyBetrayal                : int  2 2 2 3 2 1 2 0 0 1 ...\n",
      " $ mf_SanctityDegradation            : int  1 1 1 1 1 -1 1 -1 1 1 ...\n",
      " $ mf_CareHarm                       : num  3.17 3 3.5 2.83 3.17 ...\n",
      " $ mf_FairnessCheating               : num  3 3 3.17 3.67 3.33 ...\n",
      " $ moralFoundations01_care           : int  4 3 4 3 3 4 5 3 4 4 ...\n",
      " $ moralFoundations02_fair           : int  4 3 4 3 1 4 4 4 2 5 ...\n",
      " $ moralFoundations03_loyal          : int  3 0 2 1 1 0 2 0 -1 0 ...\n",
      " $ moralFoundations04_author         : int  1 0 2 2 2 0 2 0 1 2 ...\n",
      " $ moralFoundations05_sanct          : int  2 2 1 3 3 -1 3 1 1 2 ...\n",
      " $ moralFoundations06_control        : int  0 0 0 2 -1 1 0 0 -1 1 ...\n",
      " $ moralFoundations07_care           : int  4 3 4 4 5 2 4 4 3 4 ...\n",
      " $ moralFoundations08_fair           : int  4 3 4 3 3 4 5 4 3 5 ...\n",
      " $ moralFoundations09_loyal          : int  3 3 2 4 3 3 3 1 -1 1 ...\n",
      " $ moralFoundations10_author         : int  0 -1 1 3 2 0 2 1 1 1 ...\n",
      " $ moralFoundations11_sanct          : int  1 3 1 0 1 -1 2 0 3 3 ...\n",
      " $ moralFoundations12_care           : int  6 5 4 5 4 4 5 4 3 5 ...\n",
      " $ moralFoundations13_fair           : int  3 5 4 5 5 3 4 5 4 5 ...\n",
      " $ moralFoundations14_loyal          : int  4 2 1 1 3 3 3 1 3 2 ...\n",
      " $ moralFoundations15_author         : int  3 2 2 1 2 3 3 2 5 3 ...\n",
      " $ moralFoundations16_sanct          : int  3 1 1 2 -1 1 -2 2 0 1 ...\n",
      " $ moralFoundations17_care           : int  2 5 3 4 4 4 3 4 3 3 ...\n",
      " $ moralFoundations18_fair           : int  2 3 3 4 5 2 4 5 4 4 ...\n",
      " $ moralFoundations19_loyal          : int  0 2 4 2 2 2 4 4 4 2 ...\n",
      " $ moralFoundations20_author         : int  0 1 0 4 1 3 3 3 2 2 ...\n",
      " $ moralFoundations21_sanct          : int  0 1 1 1 3 3 1 2 1 -1 ...\n",
      " $ moralFoundations22_control        : int  4 4 6 4 4 3 5 3 5 5 ...\n",
      " $ moralFoundations23_care           : int  3 3 4 2 4 0 3 4 3 3 ...\n",
      " $ moralFoundations24_fair           : int  4 3 1 5 2 3 2 6 2 3 ...\n",
      " $ moralFoundations25_loyal          : int  0 0 1 2 0 3 1 2 2 1 ...\n",
      " $ moralFoundations26_author         : int  1 1 1 5 0 2 2 3 1 1 ...\n",
      " $ moralFoundations27_sanct          : int  1 1 0 1 1 1 -1 2 0 1 ...\n",
      " $ moralFoundations28_care           : int  0 -1 2 -1 -1 1 3 1 4 1 ...\n",
      " $ moralFoundations29_fair           : int  1 1 3 2 4 1 4 2 2 0 ...\n",
      " $ moralFoundations30_loyal          : int  1 1 1 1 2 1 1 0 2 2 ...\n",
      " $ moralFoundations31_author         : int  3 2 1 5 2 2 4 3 3 2 ...\n",
      " $ moralFoundations32_sanct          : int  1 0 0 4 2 1 0 1 2 1 ...\n",
      " $ moralIdentityInternalization01    : int  5 4 6 6 4 4 5 3 6 5 ...\n",
      " $ moralIdentityInternalization02    : int  2 3 5 4 3 6 5 2 4 5 ...\n",
      " $ moralIdentityInternalization03    : int  1 1 1 1 1 1 1 1 1 1 ...\n",
      " $ moralIdentityInternalization04    : int  2 3 1 3 2 1 3 3 3 1 ...\n",
      " $ moralIdentityInternalization05    : int  3 4 5 4 4 4 5 3 4 5 ...\n",
      " $ moralIdentityInternalization03_rec: num  6 6 6 6 6 6 6 6 6 6 ...\n",
      " $ moralIdentityInternalization04_rec: num  5 4 6 4 5 6 4 4 4 6 ...\n",
      " $ pi_age                            : int  3 20 20 19 22 25 23 41 16 17 ...\n",
      " $ pi_education                      : Factor w/ 6 levels \"elem-sch\",\"hi-sch\",..: 5 3 2 3 3 3 5 3 6 5 ...\n",
      " $ pi_gender                         : Factor w/ 2 levels \"Female\",\"Male\": 2 2 2 2 1 2 1 2 2 1 ...\n",
      " $ pi_ideology                       : Factor w/ 7 levels \"Extremely conservative (right)\",..: 3 7 3 7 7 7 5 5 3 7 ...\n",
      " $ pi_income                         : Ord.factor w/ 5 levels \"avg--\"<\"avg-\"<..: 2 4 4 4 4 4 4 4 4 2 ...\n",
      " $ pi_nationality                    : Factor w/ 5 levels \"american\",\"british\",..: 1 1 5 1 1 1 1 1 4 3 ...\n",
      " $ pi_previousDonations              : Factor w/ 4 levels \"Never\",\"Often\",..: 3 4 3 3 4 4 4 2 2 3 ...\n"
     ]
    }
   ],
   "source": [
    "podaci %>%\n",
    "# koristimo rowMeans, koji računa aritmetičku sredinu svakog reda,\n",
    "# kao što i samo ime kaže. funkciju primjenjujemo na varijable\n",
    "# koje završavaju s 'care', što možemo napraviti jer smo bili\n",
    "# mudri i smisleno i sustavno imenovali varijable\n",
    "dplyr::mutate(.,\n",
    "             mf_CareHarm = rowMeans(dplyr::select(.,\n",
    "                                                  dplyr::ends_with('care'))),\n",
    "             mf_FairnessCheating = rowMeans(dplyr::select(.,\n",
    "                                                          dplyr::ends_with('fair')))) %>%\n",
    "# kad koristimo select, redoslijed kojim unosimo varijable u funkciju\n",
    "# određuje redoslijed varijabli nakon odabira stupaca. stoga, budući da\n",
    "# mutate vraća data.frame, možemo iskoristiti select da nove varijable\n",
    "# preselimo do njima srodnih. primijetit ćemo da u selectu možemo\n",
    "# kombinirati numeričke indekse i imena varijabli; koristimo\n",
    "# everything() za dodavanje svih preostalih varijabli\n",
    "dplyr::select(1:mf_SanctityDegradation, mf_CareHarm, mf_FairnessCheating,\n",
    "      dplyr::everything()) %>% str(.)"
   ]
  },
  {
   "cell_type": "markdown",
   "metadata": {},
   "source": [
    "Vidimo da dobivamo što smo i htjeli, pa spremamo promjene."
   ]
  },
  {
   "cell_type": "code",
   "execution_count": 13,
   "metadata": {},
   "outputs": [],
   "source": [
    "podaci %<>%\n",
    "dplyr::mutate(.,\n",
    "              mf_CareHarm = rowMeans(dplyr::select(.,\n",
    "                                                   dplyr::ends_with('care'))),\n",
    "              mf_FairnessCheating = rowMeans(dplyr::select(.,\n",
    "                                                    dplyr::ends_with('fair')))) %>%\n",
    "dplyr::select(1:mf_SanctityDegradation, mf_CareHarm, mf_FairnessCheating,\n",
    "              dplyr::everything())"
   ]
  },
  {
   "cell_type": "code",
   "execution_count": 14,
   "metadata": {},
   "outputs": [
    {
     "name": "stdout",
     "output_type": "stream",
     "text": [
      "Classes ‘tbl_df’, ‘tbl’ and 'data.frame':\t100 obs. of  66 variables:\n",
      " $ attitudesAndNorms01               : int  5 5 4 6 4 4 6 4 3 5 ...\n",
      " $ attitudesAndNorms02               : int  5 4 6 2 1 4 0 4 7 7 ...\n",
      " $ attitudesAndNorms03               : int  5 2 5 3 2 4 3 5 6 7 ...\n",
      " $ attitudesAndNorms04               : int  5 1 5 2 3 3 3 7 5 6 ...\n",
      " $ attitudesAndNorms05               : int  4 2 3 2 1 4 2 4 4 6 ...\n",
      " $ attitudesAndNorms06               : int  3 2 2 3 2 3 3 3 3 4 ...\n",
      " $ attitudesAndNorms07               : int  4 3 4 5 4 5 6 4 4 5 ...\n",
      " $ attitudesAndNorms08               : int  6 7 5 6 5 5 7 5 3 5 ...\n",
      " $ callToAction                      : int  7 6 7 1 8 7 11 8 3 7 ...\n",
      " $ donationMoney                     : int  37 18 7 14 0 37 33 29 16 6 ...\n",
      " $ donationTime                      : int  4 3 3 5 0 2 4 3 2 3 ...\n",
      " $ descriptiveSocialNorms01          : int  4 3 3 1 3 1 2 4 3 4 ...\n",
      " $ descriptiveSocialNorms02          : int  3 1 3 1 1 1 2 3 3 5 ...\n",
      " $ descriptiveSocialNorms03          : int  2 3 2 2 2 3 3 4 4 5 ...\n",
      " $ descriptiveSocialNorms04          : int  2 1 5 3 4 2 2 2 2 4 ...\n",
      " $ mf_AuthoritySubversion            : int  1 1 2 2 2 0 2 1 1 2 ...\n",
      " $ mf_CareHarm                       : num  3.17 3 3.5 2.83 3.17 ...\n",
      " $ mf_FairnessCheating               : num  3 3 3.17 3.67 3.33 ...\n",
      " $ mf_LoyaltyBetrayal                : int  2 2 2 3 2 1 2 0 0 1 ...\n",
      " $ mf_SanctityDegradation            : int  1 1 1 1 1 -1 1 -1 1 1 ...\n",
      " $ moralFoundations01_care           : int  4 3 4 3 3 4 5 3 4 4 ...\n",
      " $ moralFoundations02_fair           : int  4 3 4 3 1 4 4 4 2 5 ...\n",
      " $ moralFoundations03_loyal          : int  3 0 2 1 1 0 2 0 -1 0 ...\n",
      " $ moralFoundations04_author         : int  1 0 2 2 2 0 2 0 1 2 ...\n",
      " $ moralFoundations05_sanct          : int  2 2 1 3 3 -1 3 1 1 2 ...\n",
      " $ moralFoundations06_control        : int  0 0 0 2 -1 1 0 0 -1 1 ...\n",
      " $ moralFoundations07_care           : int  4 3 4 4 5 2 4 4 3 4 ...\n",
      " $ moralFoundations08_fair           : int  4 3 4 3 3 4 5 4 3 5 ...\n",
      " $ moralFoundations09_loyal          : int  3 3 2 4 3 3 3 1 -1 1 ...\n",
      " $ moralFoundations10_author         : int  0 -1 1 3 2 0 2 1 1 1 ...\n",
      " $ moralFoundations11_sanct          : int  1 3 1 0 1 -1 2 0 3 3 ...\n",
      " $ moralFoundations12_care           : int  6 5 4 5 4 4 5 4 3 5 ...\n",
      " $ moralFoundations13_fair           : int  3 5 4 5 5 3 4 5 4 5 ...\n",
      " $ moralFoundations14_loyal          : int  4 2 1 1 3 3 3 1 3 2 ...\n",
      " $ moralFoundations15_author         : int  3 2 2 1 2 3 3 2 5 3 ...\n",
      " $ moralFoundations16_sanct          : int  3 1 1 2 -1 1 -2 2 0 1 ...\n",
      " $ moralFoundations17_care           : int  2 5 3 4 4 4 3 4 3 3 ...\n",
      " $ moralFoundations18_fair           : int  2 3 3 4 5 2 4 5 4 4 ...\n",
      " $ moralFoundations19_loyal          : int  0 2 4 2 2 2 4 4 4 2 ...\n",
      " $ moralFoundations20_author         : int  0 1 0 4 1 3 3 3 2 2 ...\n",
      " $ moralFoundations21_sanct          : int  0 1 1 1 3 3 1 2 1 -1 ...\n",
      " $ moralFoundations22_control        : int  4 4 6 4 4 3 5 3 5 5 ...\n",
      " $ moralFoundations23_care           : int  3 3 4 2 4 0 3 4 3 3 ...\n",
      " $ moralFoundations24_fair           : int  4 3 1 5 2 3 2 6 2 3 ...\n",
      " $ moralFoundations25_loyal          : int  0 0 1 2 0 3 1 2 2 1 ...\n",
      " $ moralFoundations26_author         : int  1 1 1 5 0 2 2 3 1 1 ...\n",
      " $ moralFoundations27_sanct          : int  1 1 0 1 1 1 -1 2 0 1 ...\n",
      " $ moralFoundations28_care           : int  0 -1 2 -1 -1 1 3 1 4 1 ...\n",
      " $ moralFoundations29_fair           : int  1 1 3 2 4 1 4 2 2 0 ...\n",
      " $ moralFoundations30_loyal          : int  1 1 1 1 2 1 1 0 2 2 ...\n",
      " $ moralFoundations31_author         : int  3 2 1 5 2 2 4 3 3 2 ...\n",
      " $ moralFoundations32_sanct          : int  1 0 0 4 2 1 0 1 2 1 ...\n",
      " $ moralIdentityInternalization01    : int  5 4 6 6 4 4 5 3 6 5 ...\n",
      " $ moralIdentityInternalization02    : int  2 3 5 4 3 6 5 2 4 5 ...\n",
      " $ moralIdentityInternalization03    : int  1 1 1 1 1 1 1 1 1 1 ...\n",
      " $ moralIdentityInternalization04    : int  2 3 1 3 2 1 3 3 3 1 ...\n",
      " $ moralIdentityInternalization05    : int  3 4 5 4 4 4 5 3 4 5 ...\n",
      " $ moralIdentityInternalization03_rec: num  6 6 6 6 6 6 6 6 6 6 ...\n",
      " $ moralIdentityInternalization04_rec: num  5 4 6 4 5 6 4 4 4 6 ...\n",
      " $ pi_age                            : int  3 20 20 19 22 25 23 41 16 17 ...\n",
      " $ pi_education                      : Factor w/ 6 levels \"elem-sch\",\"hi-sch\",..: 5 3 2 3 3 3 5 3 6 5 ...\n",
      " $ pi_gender                         : Factor w/ 2 levels \"Female\",\"Male\": 2 2 2 2 1 2 1 2 2 1 ...\n",
      " $ pi_ideology                       : Factor w/ 7 levels \"Extremely conservative (right)\",..: 3 7 3 7 7 7 5 5 3 7 ...\n",
      " $ pi_income                         : Ord.factor w/ 5 levels \"avg--\"<\"avg-\"<..: 2 4 4 4 4 4 4 4 4 2 ...\n",
      " $ pi_nationality                    : Factor w/ 5 levels \"american\",\"british\",..: 1 1 5 1 1 1 1 1 4 3 ...\n",
      " $ pi_previousDonations              : Factor w/ 4 levels \"Never\",\"Often\",..: 3 4 3 3 4 4 4 2 2 3 ...\n"
     ]
    }
   ],
   "source": [
    "str(podaci)"
   ]
  },
  {
   "cell_type": "markdown",
   "metadata": {},
   "source": [
    "## Long i wide formati podataka"
   ]
  },
  {
   "cell_type": "markdown",
   "metadata": {},
   "source": [
    "Podaci kojima cijelo vrijeme baratamo nalaze se u **wide** formatu - svaki red predstavlja jedan *case* (u našem slučaju sudionika), a svaki stupac predstavlja jednu varijablu. Često, to je format s kojim želimo raditi.\n",
    "\n",
    "Ipak, ponekad nam je zgodno podatke prebaciti u **long** format, u kojem svaki *case* zauzima nekoliko redova. Takav format je potreban za, recimo, multilevel modeliranje u R-u."
   ]
  },
  {
   "cell_type": "markdown",
   "metadata": {},
   "source": [
    "Za potrebe demonstracije prebacivanja iz jednog formata u drugi, napravit ćemo novi `data.frame`, koji sadrži podskup varijabli i *caseova* iz `data.framea` `podaci`."
   ]
  },
  {
   "cell_type": "code",
   "execution_count": 36,
   "metadata": {},
   "outputs": [
    {
     "data": {
      "text/html": [
       "<table>\n",
       "<thead><tr><th scope=col>pi_gender</th><th scope=col>descriptiveSocialNorms01</th><th scope=col>descriptiveSocialNorms02</th><th scope=col>descriptiveSocialNorms03</th><th scope=col>descriptiveSocialNorms04</th><th scope=col>sub_index</th></tr></thead>\n",
       "<tbody>\n",
       "\t<tr><td>Male  </td><td>4     </td><td>3     </td><td>2     </td><td>2     </td><td> 1    </td></tr>\n",
       "\t<tr><td>Male  </td><td>3     </td><td>1     </td><td>3     </td><td>1     </td><td> 2    </td></tr>\n",
       "\t<tr><td>Male  </td><td>3     </td><td>3     </td><td>2     </td><td>5     </td><td> 3    </td></tr>\n",
       "\t<tr><td>Male  </td><td>1     </td><td>1     </td><td>2     </td><td>3     </td><td> 4    </td></tr>\n",
       "\t<tr><td>Female</td><td>3     </td><td>1     </td><td>2     </td><td>4     </td><td> 5    </td></tr>\n",
       "\t<tr><td>Male  </td><td>1     </td><td>1     </td><td>3     </td><td>2     </td><td> 6    </td></tr>\n",
       "\t<tr><td>Female</td><td>2     </td><td>2     </td><td>3     </td><td>2     </td><td> 7    </td></tr>\n",
       "\t<tr><td>Male  </td><td>4     </td><td>3     </td><td>4     </td><td>2     </td><td> 8    </td></tr>\n",
       "\t<tr><td>Male  </td><td>3     </td><td>3     </td><td>4     </td><td>2     </td><td> 9    </td></tr>\n",
       "\t<tr><td>Female</td><td>4     </td><td>5     </td><td>5     </td><td>4     </td><td>10    </td></tr>\n",
       "</tbody>\n",
       "</table>\n"
      ],
      "text/latex": [
       "\\begin{tabular}{r|llllll}\n",
       " pi\\_gender & descriptiveSocialNorms01 & descriptiveSocialNorms02 & descriptiveSocialNorms03 & descriptiveSocialNorms04 & sub\\_index\\\\\n",
       "\\hline\n",
       "\t Male   & 4      & 3      & 2      & 2      &  1    \\\\\n",
       "\t Male   & 3      & 1      & 3      & 1      &  2    \\\\\n",
       "\t Male   & 3      & 3      & 2      & 5      &  3    \\\\\n",
       "\t Male   & 1      & 1      & 2      & 3      &  4    \\\\\n",
       "\t Female & 3      & 1      & 2      & 4      &  5    \\\\\n",
       "\t Male   & 1      & 1      & 3      & 2      &  6    \\\\\n",
       "\t Female & 2      & 2      & 3      & 2      &  7    \\\\\n",
       "\t Male   & 4      & 3      & 4      & 2      &  8    \\\\\n",
       "\t Male   & 3      & 3      & 4      & 2      &  9    \\\\\n",
       "\t Female & 4      & 5      & 5      & 4      & 10    \\\\\n",
       "\\end{tabular}\n"
      ],
      "text/markdown": [
       "\n",
       "pi_gender | descriptiveSocialNorms01 | descriptiveSocialNorms02 | descriptiveSocialNorms03 | descriptiveSocialNorms04 | sub_index | \n",
       "|---|---|---|---|---|---|---|---|---|---|\n",
       "| Male   | 4      | 3      | 2      | 2      |  1     | \n",
       "| Male   | 3      | 1      | 3      | 1      |  2     | \n",
       "| Male   | 3      | 3      | 2      | 5      |  3     | \n",
       "| Male   | 1      | 1      | 2      | 3      |  4     | \n",
       "| Female | 3      | 1      | 2      | 4      |  5     | \n",
       "| Male   | 1      | 1      | 3      | 2      |  6     | \n",
       "| Female | 2      | 2      | 3      | 2      |  7     | \n",
       "| Male   | 4      | 3      | 4      | 2      |  8     | \n",
       "| Male   | 3      | 3      | 4      | 2      |  9     | \n",
       "| Female | 4      | 5      | 5      | 4      | 10     | \n",
       "\n",
       "\n"
      ],
      "text/plain": [
       "   pi_gender descriptiveSocialNorms01 descriptiveSocialNorms02\n",
       "1  Male      4                        3                       \n",
       "2  Male      3                        1                       \n",
       "3  Male      3                        3                       \n",
       "4  Male      1                        1                       \n",
       "5  Female    3                        1                       \n",
       "6  Male      1                        1                       \n",
       "7  Female    2                        2                       \n",
       "8  Male      4                        3                       \n",
       "9  Male      3                        3                       \n",
       "10 Female    4                        5                       \n",
       "   descriptiveSocialNorms03 descriptiveSocialNorms04 sub_index\n",
       "1  2                        2                         1       \n",
       "2  3                        1                         2       \n",
       "3  2                        5                         3       \n",
       "4  2                        3                         4       \n",
       "5  2                        4                         5       \n",
       "6  3                        2                         6       \n",
       "7  3                        2                         7       \n",
       "8  4                        2                         8       \n",
       "9  4                        2                         9       \n",
       "10 5                        4                        10       "
      ]
     },
     "metadata": {},
     "output_type": "display_data"
    }
   ],
   "source": [
    "podaci %>%\n",
    "# slice nam omogućuje da biramo\n",
    "# redove prema indeksu. uzet ćemo\n",
    "# prvih 10 sudionika\n",
    "dplyr::slice(., 1:10) %>%\n",
    "dplyr::select(pi_gender, starts_with('descriptive')) %>%\n",
    "# dodajemo eksplicitni indeks za svakog sudionika\n",
    "dplyr::add_column(., sub_index = 1:nrow(.)) ->\n",
    "podaci_wide\n",
    "\n",
    "podaci_wide"
   ]
  },
  {
   "cell_type": "markdown",
   "metadata": {},
   "source": [
    "`podaci_wide`, dakle, sadrži podskup `podataka`, u wide formatu. Sad ćemo taj `data.frame` prebaciti u long format, koristeći funkciju `gather` (kao, bacamo sve na hrpu) iz `tidyr` paketa.\n",
    "\n",
    "`gatheru` moramo dati neku tablicu s podacima (dakle, recimo, `data.frame`), odrediti ime varijable koja će služiti kao `key`, ime varijable koja će služiti kao `value`, te stupce koje želimo svesti na `key` - `value` format."
   ]
  },
  {
   "cell_type": "code",
   "execution_count": 43,
   "metadata": {},
   "outputs": [
    {
     "data": {
      "text/html": [
       "<table>\n",
       "<thead><tr><th scope=col>pi_gender</th><th scope=col>sub_index</th><th scope=col>pitanje</th><th scope=col>odgovor</th></tr></thead>\n",
       "<tbody>\n",
       "\t<tr><td>Male                    </td><td> 1                      </td><td>descriptiveSocialNorms01</td><td>4                       </td></tr>\n",
       "\t<tr><td>Male                    </td><td> 2                      </td><td>descriptiveSocialNorms01</td><td>3                       </td></tr>\n",
       "\t<tr><td>Male                    </td><td> 3                      </td><td>descriptiveSocialNorms01</td><td>3                       </td></tr>\n",
       "\t<tr><td>Male                    </td><td> 4                      </td><td>descriptiveSocialNorms01</td><td>1                       </td></tr>\n",
       "\t<tr><td>Female                  </td><td> 5                      </td><td>descriptiveSocialNorms01</td><td>3                       </td></tr>\n",
       "\t<tr><td>Male                    </td><td> 6                      </td><td>descriptiveSocialNorms01</td><td>1                       </td></tr>\n",
       "\t<tr><td>Female                  </td><td> 7                      </td><td>descriptiveSocialNorms01</td><td>2                       </td></tr>\n",
       "\t<tr><td>Male                    </td><td> 8                      </td><td>descriptiveSocialNorms01</td><td>4                       </td></tr>\n",
       "\t<tr><td>Male                    </td><td> 9                      </td><td>descriptiveSocialNorms01</td><td>3                       </td></tr>\n",
       "\t<tr><td>Female                  </td><td>10                      </td><td>descriptiveSocialNorms01</td><td>4                       </td></tr>\n",
       "\t<tr><td>Male                    </td><td> 1                      </td><td>descriptiveSocialNorms02</td><td>3                       </td></tr>\n",
       "\t<tr><td>Male                    </td><td> 2                      </td><td>descriptiveSocialNorms02</td><td>1                       </td></tr>\n",
       "\t<tr><td>Male                    </td><td> 3                      </td><td>descriptiveSocialNorms02</td><td>3                       </td></tr>\n",
       "\t<tr><td>Male                    </td><td> 4                      </td><td>descriptiveSocialNorms02</td><td>1                       </td></tr>\n",
       "\t<tr><td>Female                  </td><td> 5                      </td><td>descriptiveSocialNorms02</td><td>1                       </td></tr>\n",
       "\t<tr><td>Male                    </td><td> 6                      </td><td>descriptiveSocialNorms02</td><td>1                       </td></tr>\n",
       "\t<tr><td>Female                  </td><td> 7                      </td><td>descriptiveSocialNorms02</td><td>2                       </td></tr>\n",
       "\t<tr><td>Male                    </td><td> 8                      </td><td>descriptiveSocialNorms02</td><td>3                       </td></tr>\n",
       "\t<tr><td>Male                    </td><td> 9                      </td><td>descriptiveSocialNorms02</td><td>3                       </td></tr>\n",
       "\t<tr><td>Female                  </td><td>10                      </td><td>descriptiveSocialNorms02</td><td>5                       </td></tr>\n",
       "\t<tr><td>Male                    </td><td> 1                      </td><td>descriptiveSocialNorms03</td><td>2                       </td></tr>\n",
       "\t<tr><td>Male                    </td><td> 2                      </td><td>descriptiveSocialNorms03</td><td>3                       </td></tr>\n",
       "\t<tr><td>Male                    </td><td> 3                      </td><td>descriptiveSocialNorms03</td><td>2                       </td></tr>\n",
       "\t<tr><td>Male                    </td><td> 4                      </td><td>descriptiveSocialNorms03</td><td>2                       </td></tr>\n",
       "\t<tr><td>Female                  </td><td> 5                      </td><td>descriptiveSocialNorms03</td><td>2                       </td></tr>\n",
       "\t<tr><td>Male                    </td><td> 6                      </td><td>descriptiveSocialNorms03</td><td>3                       </td></tr>\n",
       "\t<tr><td>Female                  </td><td> 7                      </td><td>descriptiveSocialNorms03</td><td>3                       </td></tr>\n",
       "\t<tr><td>Male                    </td><td> 8                      </td><td>descriptiveSocialNorms03</td><td>4                       </td></tr>\n",
       "\t<tr><td>Male                    </td><td> 9                      </td><td>descriptiveSocialNorms03</td><td>4                       </td></tr>\n",
       "\t<tr><td>Female                  </td><td>10                      </td><td>descriptiveSocialNorms03</td><td>5                       </td></tr>\n",
       "\t<tr><td>Male                    </td><td> 1                      </td><td>descriptiveSocialNorms04</td><td>2                       </td></tr>\n",
       "\t<tr><td>Male                    </td><td> 2                      </td><td>descriptiveSocialNorms04</td><td>1                       </td></tr>\n",
       "\t<tr><td>Male                    </td><td> 3                      </td><td>descriptiveSocialNorms04</td><td>5                       </td></tr>\n",
       "\t<tr><td>Male                    </td><td> 4                      </td><td>descriptiveSocialNorms04</td><td>3                       </td></tr>\n",
       "\t<tr><td>Female                  </td><td> 5                      </td><td>descriptiveSocialNorms04</td><td>4                       </td></tr>\n",
       "\t<tr><td>Male                    </td><td> 6                      </td><td>descriptiveSocialNorms04</td><td>2                       </td></tr>\n",
       "\t<tr><td>Female                  </td><td> 7                      </td><td>descriptiveSocialNorms04</td><td>2                       </td></tr>\n",
       "\t<tr><td>Male                    </td><td> 8                      </td><td>descriptiveSocialNorms04</td><td>2                       </td></tr>\n",
       "\t<tr><td>Male                    </td><td> 9                      </td><td>descriptiveSocialNorms04</td><td>2                       </td></tr>\n",
       "\t<tr><td>Female                  </td><td>10                      </td><td>descriptiveSocialNorms04</td><td>4                       </td></tr>\n",
       "</tbody>\n",
       "</table>\n"
      ],
      "text/latex": [
       "\\begin{tabular}{r|llll}\n",
       " pi\\_gender & sub\\_index & pitanje & odgovor\\\\\n",
       "\\hline\n",
       "\t Male                     &  1                       & descriptiveSocialNorms01 & 4                       \\\\\n",
       "\t Male                     &  2                       & descriptiveSocialNorms01 & 3                       \\\\\n",
       "\t Male                     &  3                       & descriptiveSocialNorms01 & 3                       \\\\\n",
       "\t Male                     &  4                       & descriptiveSocialNorms01 & 1                       \\\\\n",
       "\t Female                   &  5                       & descriptiveSocialNorms01 & 3                       \\\\\n",
       "\t Male                     &  6                       & descriptiveSocialNorms01 & 1                       \\\\\n",
       "\t Female                   &  7                       & descriptiveSocialNorms01 & 2                       \\\\\n",
       "\t Male                     &  8                       & descriptiveSocialNorms01 & 4                       \\\\\n",
       "\t Male                     &  9                       & descriptiveSocialNorms01 & 3                       \\\\\n",
       "\t Female                   & 10                       & descriptiveSocialNorms01 & 4                       \\\\\n",
       "\t Male                     &  1                       & descriptiveSocialNorms02 & 3                       \\\\\n",
       "\t Male                     &  2                       & descriptiveSocialNorms02 & 1                       \\\\\n",
       "\t Male                     &  3                       & descriptiveSocialNorms02 & 3                       \\\\\n",
       "\t Male                     &  4                       & descriptiveSocialNorms02 & 1                       \\\\\n",
       "\t Female                   &  5                       & descriptiveSocialNorms02 & 1                       \\\\\n",
       "\t Male                     &  6                       & descriptiveSocialNorms02 & 1                       \\\\\n",
       "\t Female                   &  7                       & descriptiveSocialNorms02 & 2                       \\\\\n",
       "\t Male                     &  8                       & descriptiveSocialNorms02 & 3                       \\\\\n",
       "\t Male                     &  9                       & descriptiveSocialNorms02 & 3                       \\\\\n",
       "\t Female                   & 10                       & descriptiveSocialNorms02 & 5                       \\\\\n",
       "\t Male                     &  1                       & descriptiveSocialNorms03 & 2                       \\\\\n",
       "\t Male                     &  2                       & descriptiveSocialNorms03 & 3                       \\\\\n",
       "\t Male                     &  3                       & descriptiveSocialNorms03 & 2                       \\\\\n",
       "\t Male                     &  4                       & descriptiveSocialNorms03 & 2                       \\\\\n",
       "\t Female                   &  5                       & descriptiveSocialNorms03 & 2                       \\\\\n",
       "\t Male                     &  6                       & descriptiveSocialNorms03 & 3                       \\\\\n",
       "\t Female                   &  7                       & descriptiveSocialNorms03 & 3                       \\\\\n",
       "\t Male                     &  8                       & descriptiveSocialNorms03 & 4                       \\\\\n",
       "\t Male                     &  9                       & descriptiveSocialNorms03 & 4                       \\\\\n",
       "\t Female                   & 10                       & descriptiveSocialNorms03 & 5                       \\\\\n",
       "\t Male                     &  1                       & descriptiveSocialNorms04 & 2                       \\\\\n",
       "\t Male                     &  2                       & descriptiveSocialNorms04 & 1                       \\\\\n",
       "\t Male                     &  3                       & descriptiveSocialNorms04 & 5                       \\\\\n",
       "\t Male                     &  4                       & descriptiveSocialNorms04 & 3                       \\\\\n",
       "\t Female                   &  5                       & descriptiveSocialNorms04 & 4                       \\\\\n",
       "\t Male                     &  6                       & descriptiveSocialNorms04 & 2                       \\\\\n",
       "\t Female                   &  7                       & descriptiveSocialNorms04 & 2                       \\\\\n",
       "\t Male                     &  8                       & descriptiveSocialNorms04 & 2                       \\\\\n",
       "\t Male                     &  9                       & descriptiveSocialNorms04 & 2                       \\\\\n",
       "\t Female                   & 10                       & descriptiveSocialNorms04 & 4                       \\\\\n",
       "\\end{tabular}\n"
      ],
      "text/markdown": [
       "\n",
       "pi_gender | sub_index | pitanje | odgovor | \n",
       "|---|---|---|---|---|---|---|---|---|---|---|---|---|---|---|---|---|---|---|---|---|---|---|---|---|---|---|---|---|---|---|---|---|---|---|---|---|---|---|---|\n",
       "| Male                     |  1                       | descriptiveSocialNorms01 | 4                        | \n",
       "| Male                     |  2                       | descriptiveSocialNorms01 | 3                        | \n",
       "| Male                     |  3                       | descriptiveSocialNorms01 | 3                        | \n",
       "| Male                     |  4                       | descriptiveSocialNorms01 | 1                        | \n",
       "| Female                   |  5                       | descriptiveSocialNorms01 | 3                        | \n",
       "| Male                     |  6                       | descriptiveSocialNorms01 | 1                        | \n",
       "| Female                   |  7                       | descriptiveSocialNorms01 | 2                        | \n",
       "| Male                     |  8                       | descriptiveSocialNorms01 | 4                        | \n",
       "| Male                     |  9                       | descriptiveSocialNorms01 | 3                        | \n",
       "| Female                   | 10                       | descriptiveSocialNorms01 | 4                        | \n",
       "| Male                     |  1                       | descriptiveSocialNorms02 | 3                        | \n",
       "| Male                     |  2                       | descriptiveSocialNorms02 | 1                        | \n",
       "| Male                     |  3                       | descriptiveSocialNorms02 | 3                        | \n",
       "| Male                     |  4                       | descriptiveSocialNorms02 | 1                        | \n",
       "| Female                   |  5                       | descriptiveSocialNorms02 | 1                        | \n",
       "| Male                     |  6                       | descriptiveSocialNorms02 | 1                        | \n",
       "| Female                   |  7                       | descriptiveSocialNorms02 | 2                        | \n",
       "| Male                     |  8                       | descriptiveSocialNorms02 | 3                        | \n",
       "| Male                     |  9                       | descriptiveSocialNorms02 | 3                        | \n",
       "| Female                   | 10                       | descriptiveSocialNorms02 | 5                        | \n",
       "| Male                     |  1                       | descriptiveSocialNorms03 | 2                        | \n",
       "| Male                     |  2                       | descriptiveSocialNorms03 | 3                        | \n",
       "| Male                     |  3                       | descriptiveSocialNorms03 | 2                        | \n",
       "| Male                     |  4                       | descriptiveSocialNorms03 | 2                        | \n",
       "| Female                   |  5                       | descriptiveSocialNorms03 | 2                        | \n",
       "| Male                     |  6                       | descriptiveSocialNorms03 | 3                        | \n",
       "| Female                   |  7                       | descriptiveSocialNorms03 | 3                        | \n",
       "| Male                     |  8                       | descriptiveSocialNorms03 | 4                        | \n",
       "| Male                     |  9                       | descriptiveSocialNorms03 | 4                        | \n",
       "| Female                   | 10                       | descriptiveSocialNorms03 | 5                        | \n",
       "| Male                     |  1                       | descriptiveSocialNorms04 | 2                        | \n",
       "| Male                     |  2                       | descriptiveSocialNorms04 | 1                        | \n",
       "| Male                     |  3                       | descriptiveSocialNorms04 | 5                        | \n",
       "| Male                     |  4                       | descriptiveSocialNorms04 | 3                        | \n",
       "| Female                   |  5                       | descriptiveSocialNorms04 | 4                        | \n",
       "| Male                     |  6                       | descriptiveSocialNorms04 | 2                        | \n",
       "| Female                   |  7                       | descriptiveSocialNorms04 | 2                        | \n",
       "| Male                     |  8                       | descriptiveSocialNorms04 | 2                        | \n",
       "| Male                     |  9                       | descriptiveSocialNorms04 | 2                        | \n",
       "| Female                   | 10                       | descriptiveSocialNorms04 | 4                        | \n",
       "\n",
       "\n"
      ],
      "text/plain": [
       "   pi_gender sub_index pitanje                  odgovor\n",
       "1  Male       1        descriptiveSocialNorms01 4      \n",
       "2  Male       2        descriptiveSocialNorms01 3      \n",
       "3  Male       3        descriptiveSocialNorms01 3      \n",
       "4  Male       4        descriptiveSocialNorms01 1      \n",
       "5  Female     5        descriptiveSocialNorms01 3      \n",
       "6  Male       6        descriptiveSocialNorms01 1      \n",
       "7  Female     7        descriptiveSocialNorms01 2      \n",
       "8  Male       8        descriptiveSocialNorms01 4      \n",
       "9  Male       9        descriptiveSocialNorms01 3      \n",
       "10 Female    10        descriptiveSocialNorms01 4      \n",
       "11 Male       1        descriptiveSocialNorms02 3      \n",
       "12 Male       2        descriptiveSocialNorms02 1      \n",
       "13 Male       3        descriptiveSocialNorms02 3      \n",
       "14 Male       4        descriptiveSocialNorms02 1      \n",
       "15 Female     5        descriptiveSocialNorms02 1      \n",
       "16 Male       6        descriptiveSocialNorms02 1      \n",
       "17 Female     7        descriptiveSocialNorms02 2      \n",
       "18 Male       8        descriptiveSocialNorms02 3      \n",
       "19 Male       9        descriptiveSocialNorms02 3      \n",
       "20 Female    10        descriptiveSocialNorms02 5      \n",
       "21 Male       1        descriptiveSocialNorms03 2      \n",
       "22 Male       2        descriptiveSocialNorms03 3      \n",
       "23 Male       3        descriptiveSocialNorms03 2      \n",
       "24 Male       4        descriptiveSocialNorms03 2      \n",
       "25 Female     5        descriptiveSocialNorms03 2      \n",
       "26 Male       6        descriptiveSocialNorms03 3      \n",
       "27 Female     7        descriptiveSocialNorms03 3      \n",
       "28 Male       8        descriptiveSocialNorms03 4      \n",
       "29 Male       9        descriptiveSocialNorms03 4      \n",
       "30 Female    10        descriptiveSocialNorms03 5      \n",
       "31 Male       1        descriptiveSocialNorms04 2      \n",
       "32 Male       2        descriptiveSocialNorms04 1      \n",
       "33 Male       3        descriptiveSocialNorms04 5      \n",
       "34 Male       4        descriptiveSocialNorms04 3      \n",
       "35 Female     5        descriptiveSocialNorms04 4      \n",
       "36 Male       6        descriptiveSocialNorms04 2      \n",
       "37 Female     7        descriptiveSocialNorms04 2      \n",
       "38 Male       8        descriptiveSocialNorms04 2      \n",
       "39 Male       9        descriptiveSocialNorms04 2      \n",
       "40 Female    10        descriptiveSocialNorms04 4      "
      ]
     },
     "metadata": {},
     "output_type": "display_data"
    }
   ],
   "source": [
    "podaci_wide %>%\n",
    "tidyr::gather(., key = 'pitanje', value = 'odgovor',\n",
    "             descriptiveSocialNorms01:descriptiveSocialNorms04) ->\n",
    "podaci_long\n",
    "\n",
    "podaci_long"
   ]
  },
  {
   "cell_type": "markdown",
   "metadata": {},
   "source": [
    "Za prebacivanje natrag u wide format, koristimo `spread` (kao, bacanje đubreta po livadi).\n",
    "\n",
    "Ovoj funkciji trebamo dati podatke (recimo, `data.frame`), `key`, koji želimo \"rastaviti\" i `value`, što su vrijednosti koje trebamo potpisati pod stupce nastale rastavljanjem `key`.\n",
    "\n",
    "`spread` uzima jedinstvene vrijednosti iz varijable navedene kao `key` i širi ih u nove varijable, koje potom puni vrijednostima zadanima pod `value."
   ]
  },
  {
   "cell_type": "code",
   "execution_count": 46,
   "metadata": {},
   "outputs": [
    {
     "data": {
      "text/html": [
       "<table>\n",
       "<thead><tr><th scope=col>pi_gender</th><th scope=col>sub_index</th><th scope=col>descriptiveSocialNorms01</th><th scope=col>descriptiveSocialNorms02</th><th scope=col>descriptiveSocialNorms03</th><th scope=col>descriptiveSocialNorms04</th></tr></thead>\n",
       "<tbody>\n",
       "\t<tr><td>Male  </td><td> 1    </td><td>4     </td><td>3     </td><td>2     </td><td>2     </td></tr>\n",
       "\t<tr><td>Male  </td><td> 2    </td><td>3     </td><td>1     </td><td>3     </td><td>1     </td></tr>\n",
       "\t<tr><td>Male  </td><td> 3    </td><td>3     </td><td>3     </td><td>2     </td><td>5     </td></tr>\n",
       "\t<tr><td>Male  </td><td> 4    </td><td>1     </td><td>1     </td><td>2     </td><td>3     </td></tr>\n",
       "\t<tr><td>Female</td><td> 5    </td><td>3     </td><td>1     </td><td>2     </td><td>4     </td></tr>\n",
       "\t<tr><td>Male  </td><td> 6    </td><td>1     </td><td>1     </td><td>3     </td><td>2     </td></tr>\n",
       "\t<tr><td>Female</td><td> 7    </td><td>2     </td><td>2     </td><td>3     </td><td>2     </td></tr>\n",
       "\t<tr><td>Male  </td><td> 8    </td><td>4     </td><td>3     </td><td>4     </td><td>2     </td></tr>\n",
       "\t<tr><td>Male  </td><td> 9    </td><td>3     </td><td>3     </td><td>4     </td><td>2     </td></tr>\n",
       "\t<tr><td>Female</td><td>10    </td><td>4     </td><td>5     </td><td>5     </td><td>4     </td></tr>\n",
       "</tbody>\n",
       "</table>\n"
      ],
      "text/latex": [
       "\\begin{tabular}{r|llllll}\n",
       " pi\\_gender & sub\\_index & descriptiveSocialNorms01 & descriptiveSocialNorms02 & descriptiveSocialNorms03 & descriptiveSocialNorms04\\\\\n",
       "\\hline\n",
       "\t Male   &  1     & 4      & 3      & 2      & 2     \\\\\n",
       "\t Male   &  2     & 3      & 1      & 3      & 1     \\\\\n",
       "\t Male   &  3     & 3      & 3      & 2      & 5     \\\\\n",
       "\t Male   &  4     & 1      & 1      & 2      & 3     \\\\\n",
       "\t Female &  5     & 3      & 1      & 2      & 4     \\\\\n",
       "\t Male   &  6     & 1      & 1      & 3      & 2     \\\\\n",
       "\t Female &  7     & 2      & 2      & 3      & 2     \\\\\n",
       "\t Male   &  8     & 4      & 3      & 4      & 2     \\\\\n",
       "\t Male   &  9     & 3      & 3      & 4      & 2     \\\\\n",
       "\t Female & 10     & 4      & 5      & 5      & 4     \\\\\n",
       "\\end{tabular}\n"
      ],
      "text/markdown": [
       "\n",
       "pi_gender | sub_index | descriptiveSocialNorms01 | descriptiveSocialNorms02 | descriptiveSocialNorms03 | descriptiveSocialNorms04 | \n",
       "|---|---|---|---|---|---|---|---|---|---|\n",
       "| Male   |  1     | 4      | 3      | 2      | 2      | \n",
       "| Male   |  2     | 3      | 1      | 3      | 1      | \n",
       "| Male   |  3     | 3      | 3      | 2      | 5      | \n",
       "| Male   |  4     | 1      | 1      | 2      | 3      | \n",
       "| Female |  5     | 3      | 1      | 2      | 4      | \n",
       "| Male   |  6     | 1      | 1      | 3      | 2      | \n",
       "| Female |  7     | 2      | 2      | 3      | 2      | \n",
       "| Male   |  8     | 4      | 3      | 4      | 2      | \n",
       "| Male   |  9     | 3      | 3      | 4      | 2      | \n",
       "| Female | 10     | 4      | 5      | 5      | 4      | \n",
       "\n",
       "\n"
      ],
      "text/plain": [
       "   pi_gender sub_index descriptiveSocialNorms01 descriptiveSocialNorms02\n",
       "1  Male       1        4                        3                       \n",
       "2  Male       2        3                        1                       \n",
       "3  Male       3        3                        3                       \n",
       "4  Male       4        1                        1                       \n",
       "5  Female     5        3                        1                       \n",
       "6  Male       6        1                        1                       \n",
       "7  Female     7        2                        2                       \n",
       "8  Male       8        4                        3                       \n",
       "9  Male       9        3                        3                       \n",
       "10 Female    10        4                        5                       \n",
       "   descriptiveSocialNorms03 descriptiveSocialNorms04\n",
       "1  2                        2                       \n",
       "2  3                        1                       \n",
       "3  2                        5                       \n",
       "4  2                        3                       \n",
       "5  2                        4                       \n",
       "6  3                        2                       \n",
       "7  3                        2                       \n",
       "8  4                        2                       \n",
       "9  4                        2                       \n",
       "10 5                        4                       "
      ]
     },
     "metadata": {},
     "output_type": "display_data"
    }
   ],
   "source": [
    "podaci_long %>%\n",
    "tidyr::spread(., key = pitanje, value = odgovor) %>%\n",
    "dplyr::arrange(., sub_index)"
   ]
  },
  {
   "cell_type": "markdown",
   "metadata": {},
   "source": [
    "## Nekoliko motivacijskih primjera"
   ]
  },
  {
   "cell_type": "markdown",
   "metadata": {},
   "source": [
    "U ovom dugoočekivanom, posljednjem dijelu proći ćemo kroz par motivacijskih primjera koji pokazuju razne zgodnosti koje nam R nudi. Usmjerit ćemo se na upoznavanje sa setom podataka kojim baratamo.\n",
    "\n",
    "Za početak, ubacit ćemo neke missing vrijednosti (`NA`) u naš set podataka."
   ]
  },
  {
   "cell_type": "code",
   "execution_count": 15,
   "metadata": {},
   "outputs": [
    {
     "data": {
      "text/html": [
       "<table>\n",
       "<thead><tr><th scope=col>attitudesAndNorms01</th><th scope=col>attitudesAndNorms02</th><th scope=col>attitudesAndNorms03</th><th scope=col>attitudesAndNorms04</th><th scope=col>attitudesAndNorms05</th><th scope=col>attitudesAndNorms06</th><th scope=col>attitudesAndNorms07</th><th scope=col>attitudesAndNorms08</th><th scope=col>callToAction</th><th scope=col>donationMoney</th><th scope=col>donationTime</th><th scope=col>descriptiveSocialNorms01</th><th scope=col>descriptiveSocialNorms02</th><th scope=col>descriptiveSocialNorms03</th><th scope=col>descriptiveSocialNorms04</th><th scope=col>mf_AuthoritySubversion</th><th scope=col>mf_CareHarm</th><th scope=col>mf_FairnessCheating</th><th scope=col>mf_LoyaltyBetrayal</th><th scope=col>mf_SanctityDegradation</th><th scope=col>moralFoundations01_care</th><th scope=col>moralFoundations02_fair</th><th scope=col>moralFoundations03_loyal</th><th scope=col>moralFoundations04_author</th><th scope=col>moralFoundations05_sanct</th><th scope=col>moralFoundations06_control</th><th scope=col>moralFoundations07_care</th><th scope=col>moralFoundations08_fair</th><th scope=col>moralFoundations09_loyal</th><th scope=col>moralFoundations10_author</th><th scope=col>moralFoundations11_sanct</th><th scope=col>moralFoundations12_care</th><th scope=col>moralFoundations13_fair</th><th scope=col>moralFoundations14_loyal</th><th scope=col>moralFoundations15_author</th><th scope=col>moralFoundations16_sanct</th><th scope=col>moralFoundations17_care</th><th scope=col>moralFoundations18_fair</th><th scope=col>moralFoundations19_loyal</th><th scope=col>moralFoundations20_author</th><th scope=col>moralFoundations21_sanct</th><th scope=col>moralFoundations22_control</th><th scope=col>moralFoundations23_care</th><th scope=col>moralFoundations24_fair</th><th scope=col>moralFoundations25_loyal</th><th scope=col>moralFoundations26_author</th><th scope=col>moralFoundations27_sanct</th><th scope=col>moralFoundations28_care</th><th scope=col>moralFoundations29_fair</th><th scope=col>moralFoundations30_loyal</th><th scope=col>moralFoundations31_author</th><th scope=col>moralFoundations32_sanct</th><th scope=col>moralIdentityInternalization01</th><th scope=col>moralIdentityInternalization02</th><th scope=col>moralIdentityInternalization03</th><th scope=col>moralIdentityInternalization04</th><th scope=col>moralIdentityInternalization05</th><th scope=col>moralIdentityInternalization03_rec</th><th scope=col>moralIdentityInternalization04_rec</th><th scope=col>pi_age</th><th scope=col>pi_education</th><th scope=col>pi_gender</th><th scope=col>pi_ideology</th><th scope=col>pi_income</th><th scope=col>pi_nationality</th><th scope=col>pi_previousDonations</th></tr></thead>\n",
       "<tbody>\n",
       "\t<tr><td> 5                             </td><td>5                              </td><td> 5                             </td><td>5                              </td><td> 4                             </td><td> 3                             </td><td> 4                             </td><td>NA                             </td><td>7                              </td><td>37                             </td><td>4                              </td><td>NA                             </td><td>3                              </td><td> 2                             </td><td> 2                             </td><td>1                              </td><td>3.166667                       </td><td>3.000000                       </td><td>2                              </td><td> 1                             </td><td> 4                             </td><td> 4                             </td><td> 3                             </td><td> 1                             </td><td> 2                             </td><td> 0                             </td><td> 4                             </td><td> 4                             </td><td> 3                             </td><td> 0                             </td><td> 1                             </td><td>6                              </td><td> 3                             </td><td>4                              </td><td>NA                             </td><td> 3                             </td><td> 2                             </td><td>2                              </td><td>0                              </td><td> 0                             </td><td>0                              </td><td>4                              </td><td>3                              </td><td>NA                             </td><td>0                              </td><td> 1                             </td><td>1                              </td><td> 0                             </td><td>1                              </td><td>1                              </td><td>3                              </td><td> 1                             </td><td>5                              </td><td>2                              </td><td> 1                             </td><td>2                              </td><td>3                              </td><td> 6                             </td><td>5                              </td><td> 3                             </td><td>prof-dip                       </td><td>Male                           </td><td>Neither liberal or conservative</td><td>avg-                           </td><td>american                       </td><td>Rarely                         </td></tr>\n",
       "\t<tr><td> 5                             </td><td>4                              </td><td> 2                             </td><td>1                              </td><td>NA                             </td><td> 2                             </td><td> 3                             </td><td> 7                             </td><td>6                              </td><td>18                             </td><td>3                              </td><td> 3                             </td><td>1                              </td><td>NA                             </td><td> 1                             </td><td>1                              </td><td>3.000000                       </td><td>3.000000                       </td><td>2                              </td><td> 1                             </td><td> 3                             </td><td> 3                             </td><td>NA                             </td><td> 0                             </td><td> 2                             </td><td> 0                             </td><td> 3                             </td><td>NA                             </td><td>NA                             </td><td>-1                             </td><td>NA                             </td><td>5                              </td><td> 5                             </td><td>2                              </td><td> 2                             </td><td> 1                             </td><td> 5                             </td><td>3                              </td><td>2                              </td><td>NA                             </td><td>1                              </td><td>4                              </td><td>3                              </td><td> 3                             </td><td>0                              </td><td> 1                             </td><td>1                              </td><td>-1                             </td><td>1                              </td><td>1                              </td><td>2                              </td><td> 0                             </td><td>4                              </td><td>3                              </td><td> 1                             </td><td>3                              </td><td>4                              </td><td> 6                             </td><td>4                              </td><td>20                             </td><td>masters                        </td><td>Male                           </td><td>Very liberal (left)            </td><td>avg+                           </td><td>american                       </td><td>Regularly                      </td></tr>\n",
       "\t<tr><td> 4                             </td><td>6                              </td><td> 5                             </td><td>5                              </td><td>NA                             </td><td>NA                             </td><td> 4                             </td><td>NA                             </td><td>7                              </td><td>NA                             </td><td>3                              </td><td> 3                             </td><td>3                              </td><td> 2                             </td><td>NA                             </td><td>2                              </td><td>      NA                       </td><td>3.166667                       </td><td>2                              </td><td> 1                             </td><td> 4                             </td><td>NA                             </td><td> 2                             </td><td> 2                             </td><td> 1                             </td><td> 0                             </td><td> 4                             </td><td> 4                             </td><td> 2                             </td><td> 1                             </td><td> 1                             </td><td>4                              </td><td> 4                             </td><td>1                              </td><td> 2                             </td><td> 1                             </td><td> 3                             </td><td>3                              </td><td>4                              </td><td> 0                             </td><td>1                              </td><td>6                              </td><td>4                              </td><td> 1                             </td><td>1                              </td><td> 1                             </td><td>0                              </td><td> 2                             </td><td>3                              </td><td>1                              </td><td>1                              </td><td> 0                             </td><td>6                              </td><td>5                              </td><td> 1                             </td><td>1                              </td><td>5                              </td><td> 6                             </td><td>6                              </td><td>20                             </td><td>hi-sch                         </td><td>Male                           </td><td>Neither liberal or conservative</td><td>avg+                           </td><td>other                          </td><td>Rarely                         </td></tr>\n",
       "\t<tr><td> 6                             </td><td>2                              </td><td> 3                             </td><td>2                              </td><td> 2                             </td><td> 3                             </td><td> 5                             </td><td> 6                             </td><td>1                              </td><td>14                             </td><td>5                              </td><td> 1                             </td><td>1                              </td><td> 2                             </td><td> 3                             </td><td>2                              </td><td>2.833333                       </td><td>3.666667                       </td><td>3                              </td><td> 1                             </td><td>NA                             </td><td> 3                             </td><td> 1                             </td><td> 2                             </td><td> 3                             </td><td> 2                             </td><td>NA                             </td><td> 3                             </td><td> 4                             </td><td> 3                             </td><td> 0                             </td><td>5                              </td><td>NA                             </td><td>1                              </td><td> 1                             </td><td> 2                             </td><td> 4                             </td><td>4                              </td><td>2                              </td><td> 4                             </td><td>1                              </td><td>4                              </td><td>2                              </td><td> 5                             </td><td>2                              </td><td>NA                             </td><td>1                              </td><td>-1                             </td><td>2                              </td><td>1                              </td><td>5                              </td><td> 4                             </td><td>6                              </td><td>4                              </td><td> 1                             </td><td>3                              </td><td>4                              </td><td> 6                             </td><td>4                              </td><td>19                             </td><td>masters                        </td><td>Male                           </td><td>Very liberal (left)            </td><td>avg+                           </td><td>american                       </td><td>Rarely                         </td></tr>\n",
       "\t<tr><td>NA                             </td><td>1                              </td><td>NA                             </td><td>3                              </td><td> 1                             </td><td> 2                             </td><td>NA                             </td><td> 5                             </td><td>8                              </td><td> 0                             </td><td>0                              </td><td> 3                             </td><td>1                              </td><td>NA                             </td><td> 4                             </td><td>2                              </td><td>3.166667                       </td><td>3.333333                       </td><td>2                              </td><td> 1                             </td><td> 3                             </td><td> 1                             </td><td> 1                             </td><td>NA                             </td><td>NA                             </td><td>-1                             </td><td> 5                             </td><td> 3                             </td><td>NA                             </td><td> 2                             </td><td> 1                             </td><td>4                              </td><td> 5                             </td><td>3                              </td><td> 2                             </td><td>-1                             </td><td> 4                             </td><td>5                              </td><td>2                              </td><td> 1                             </td><td>3                              </td><td>4                              </td><td>4                              </td><td> 2                             </td><td>0                              </td><td> 0                             </td><td>1                              </td><td>-1                             </td><td>4                              </td><td>2                              </td><td>2                              </td><td> 2                             </td><td>4                              </td><td>3                              </td><td> 1                             </td><td>2                              </td><td>4                              </td><td> 6                             </td><td>5                              </td><td>22                             </td><td>masters                        </td><td>Female                         </td><td>Very liberal (left)            </td><td>avg+                           </td><td>american                       </td><td>Regularly                      </td></tr>\n",
       "\t<tr><td> 4                             </td><td>4                              </td><td> 4                             </td><td>3                              </td><td> 4                             </td><td> 3                             </td><td> 5                             </td><td> 5                             </td><td>7                              </td><td>37                             </td><td>2                              </td><td> 1                             </td><td>1                              </td><td> 3                             </td><td> 2                             </td><td>0                              </td><td>2.500000                       </td><td>2.833333                       </td><td>1                              </td><td>-1                             </td><td> 4                             </td><td> 4                             </td><td> 0                             </td><td> 0                             </td><td>-1                             </td><td> 1                             </td><td> 2                             </td><td> 4                             </td><td> 3                             </td><td> 0                             </td><td>-1                             </td><td>4                              </td><td>NA                             </td><td>3                              </td><td> 3                             </td><td> 1                             </td><td>NA                             </td><td>2                              </td><td>2                              </td><td>NA                             </td><td>3                              </td><td>3                              </td><td>0                              </td><td> 3                             </td><td>3                              </td><td> 2                             </td><td>1                              </td><td> 1                             </td><td>1                              </td><td>1                              </td><td>2                              </td><td>NA                             </td><td>4                              </td><td>6                              </td><td>NA                             </td><td>1                              </td><td>4                              </td><td>NA                             </td><td>6                              </td><td>25                             </td><td>masters                        </td><td>Male                           </td><td>Very liberal (left)            </td><td>avg+                           </td><td>american                       </td><td>Regularly                      </td></tr>\n",
       "</tbody>\n",
       "</table>\n"
      ],
      "text/latex": [
       "\\begin{tabular}{r|llllllllllllllllllllllllllllllllllllllllllllllllllllllllllllllllll}\n",
       " attitudesAndNorms01 & attitudesAndNorms02 & attitudesAndNorms03 & attitudesAndNorms04 & attitudesAndNorms05 & attitudesAndNorms06 & attitudesAndNorms07 & attitudesAndNorms08 & callToAction & donationMoney & donationTime & descriptiveSocialNorms01 & descriptiveSocialNorms02 & descriptiveSocialNorms03 & descriptiveSocialNorms04 & mf\\_AuthoritySubversion & mf\\_CareHarm & mf\\_FairnessCheating & mf\\_LoyaltyBetrayal & mf\\_SanctityDegradation & moralFoundations01\\_care & moralFoundations02\\_fair & moralFoundations03\\_loyal & moralFoundations04\\_author & moralFoundations05\\_sanct & moralFoundations06\\_control & moralFoundations07\\_care & moralFoundations08\\_fair & moralFoundations09\\_loyal & moralFoundations10\\_author & moralFoundations11\\_sanct & moralFoundations12\\_care & moralFoundations13\\_fair & moralFoundations14\\_loyal & moralFoundations15\\_author & moralFoundations16\\_sanct & moralFoundations17\\_care & moralFoundations18\\_fair & moralFoundations19\\_loyal & moralFoundations20\\_author & moralFoundations21\\_sanct & moralFoundations22\\_control & moralFoundations23\\_care & moralFoundations24\\_fair & moralFoundations25\\_loyal & moralFoundations26\\_author & moralFoundations27\\_sanct & moralFoundations28\\_care & moralFoundations29\\_fair & moralFoundations30\\_loyal & moralFoundations31\\_author & moralFoundations32\\_sanct & moralIdentityInternalization01 & moralIdentityInternalization02 & moralIdentityInternalization03 & moralIdentityInternalization04 & moralIdentityInternalization05 & moralIdentityInternalization03\\_rec & moralIdentityInternalization04\\_rec & pi\\_age & pi\\_education & pi\\_gender & pi\\_ideology & pi\\_income & pi\\_nationality & pi\\_previousDonations\\\\\n",
       "\\hline\n",
       "\t  5                              & 5                               &  5                              & 5                               &  4                              &  3                              &  4                              & NA                              & 7                               & 37                              & 4                               & NA                              & 3                               &  2                              &  2                              & 1                               & 3.166667                        & 3.000000                        & 2                               &  1                              &  4                              &  4                              &  3                              &  1                              &  2                              &  0                              &  4                              &  4                              &  3                              &  0                              &  1                              & 6                               &  3                              & 4                               & NA                              &  3                              &  2                              & 2                               & 0                               &  0                              & 0                               & 4                               & 3                               & NA                              & 0                               &  1                              & 1                               &  0                              & 1                               & 1                               & 3                               &  1                              & 5                               & 2                               &  1                              & 2                               & 3                               &  6                              & 5                               &  3                              & prof-dip                        & Male                            & Neither liberal or conservative & avg-                            & american                        & Rarely                         \\\\\n",
       "\t  5                              & 4                               &  2                              & 1                               & NA                              &  2                              &  3                              &  7                              & 6                               & 18                              & 3                               &  3                              & 1                               & NA                              &  1                              & 1                               & 3.000000                        & 3.000000                        & 2                               &  1                              &  3                              &  3                              & NA                              &  0                              &  2                              &  0                              &  3                              & NA                              & NA                              & -1                              & NA                              & 5                               &  5                              & 2                               &  2                              &  1                              &  5                              & 3                               & 2                               & NA                              & 1                               & 4                               & 3                               &  3                              & 0                               &  1                              & 1                               & -1                              & 1                               & 1                               & 2                               &  0                              & 4                               & 3                               &  1                              & 3                               & 4                               &  6                              & 4                               & 20                              & masters                         & Male                            & Very liberal (left)             & avg+                            & american                        & Regularly                      \\\\\n",
       "\t  4                              & 6                               &  5                              & 5                               & NA                              & NA                              &  4                              & NA                              & 7                               & NA                              & 3                               &  3                              & 3                               &  2                              & NA                              & 2                               &       NA                        & 3.166667                        & 2                               &  1                              &  4                              & NA                              &  2                              &  2                              &  1                              &  0                              &  4                              &  4                              &  2                              &  1                              &  1                              & 4                               &  4                              & 1                               &  2                              &  1                              &  3                              & 3                               & 4                               &  0                              & 1                               & 6                               & 4                               &  1                              & 1                               &  1                              & 0                               &  2                              & 3                               & 1                               & 1                               &  0                              & 6                               & 5                               &  1                              & 1                               & 5                               &  6                              & 6                               & 20                              & hi-sch                          & Male                            & Neither liberal or conservative & avg+                            & other                           & Rarely                         \\\\\n",
       "\t  6                              & 2                               &  3                              & 2                               &  2                              &  3                              &  5                              &  6                              & 1                               & 14                              & 5                               &  1                              & 1                               &  2                              &  3                              & 2                               & 2.833333                        & 3.666667                        & 3                               &  1                              & NA                              &  3                              &  1                              &  2                              &  3                              &  2                              & NA                              &  3                              &  4                              &  3                              &  0                              & 5                               & NA                              & 1                               &  1                              &  2                              &  4                              & 4                               & 2                               &  4                              & 1                               & 4                               & 2                               &  5                              & 2                               & NA                              & 1                               & -1                              & 2                               & 1                               & 5                               &  4                              & 6                               & 4                               &  1                              & 3                               & 4                               &  6                              & 4                               & 19                              & masters                         & Male                            & Very liberal (left)             & avg+                            & american                        & Rarely                         \\\\\n",
       "\t NA                              & 1                               & NA                              & 3                               &  1                              &  2                              & NA                              &  5                              & 8                               &  0                              & 0                               &  3                              & 1                               & NA                              &  4                              & 2                               & 3.166667                        & 3.333333                        & 2                               &  1                              &  3                              &  1                              &  1                              & NA                              & NA                              & -1                              &  5                              &  3                              & NA                              &  2                              &  1                              & 4                               &  5                              & 3                               &  2                              & -1                              &  4                              & 5                               & 2                               &  1                              & 3                               & 4                               & 4                               &  2                              & 0                               &  0                              & 1                               & -1                              & 4                               & 2                               & 2                               &  2                              & 4                               & 3                               &  1                              & 2                               & 4                               &  6                              & 5                               & 22                              & masters                         & Female                          & Very liberal (left)             & avg+                            & american                        & Regularly                      \\\\\n",
       "\t  4                              & 4                               &  4                              & 3                               &  4                              &  3                              &  5                              &  5                              & 7                               & 37                              & 2                               &  1                              & 1                               &  3                              &  2                              & 0                               & 2.500000                        & 2.833333                        & 1                               & -1                              &  4                              &  4                              &  0                              &  0                              & -1                              &  1                              &  2                              &  4                              &  3                              &  0                              & -1                              & 4                               & NA                              & 3                               &  3                              &  1                              & NA                              & 2                               & 2                               & NA                              & 3                               & 3                               & 0                               &  3                              & 3                               &  2                              & 1                               &  1                              & 1                               & 1                               & 2                               & NA                              & 4                               & 6                               & NA                              & 1                               & 4                               & NA                              & 6                               & 25                              & masters                         & Male                            & Very liberal (left)             & avg+                            & american                        & Regularly                      \\\\\n",
       "\\end{tabular}\n"
      ],
      "text/markdown": [
       "\n",
       "attitudesAndNorms01 | attitudesAndNorms02 | attitudesAndNorms03 | attitudesAndNorms04 | attitudesAndNorms05 | attitudesAndNorms06 | attitudesAndNorms07 | attitudesAndNorms08 | callToAction | donationMoney | donationTime | descriptiveSocialNorms01 | descriptiveSocialNorms02 | descriptiveSocialNorms03 | descriptiveSocialNorms04 | mf_AuthoritySubversion | mf_CareHarm | mf_FairnessCheating | mf_LoyaltyBetrayal | mf_SanctityDegradation | moralFoundations01_care | moralFoundations02_fair | moralFoundations03_loyal | moralFoundations04_author | moralFoundations05_sanct | moralFoundations06_control | moralFoundations07_care | moralFoundations08_fair | moralFoundations09_loyal | moralFoundations10_author | moralFoundations11_sanct | moralFoundations12_care | moralFoundations13_fair | moralFoundations14_loyal | moralFoundations15_author | moralFoundations16_sanct | moralFoundations17_care | moralFoundations18_fair | moralFoundations19_loyal | moralFoundations20_author | moralFoundations21_sanct | moralFoundations22_control | moralFoundations23_care | moralFoundations24_fair | moralFoundations25_loyal | moralFoundations26_author | moralFoundations27_sanct | moralFoundations28_care | moralFoundations29_fair | moralFoundations30_loyal | moralFoundations31_author | moralFoundations32_sanct | moralIdentityInternalization01 | moralIdentityInternalization02 | moralIdentityInternalization03 | moralIdentityInternalization04 | moralIdentityInternalization05 | moralIdentityInternalization03_rec | moralIdentityInternalization04_rec | pi_age | pi_education | pi_gender | pi_ideology | pi_income | pi_nationality | pi_previousDonations | \n",
       "|---|---|---|---|---|---|\n",
       "|  5                              | 5                               |  5                              | 5                               |  4                              |  3                              |  4                              | NA                              | 7                               | 37                              | 4                               | NA                              | 3                               |  2                              |  2                              | 1                               | 3.166667                        | 3.000000                        | 2                               |  1                              |  4                              |  4                              |  3                              |  1                              |  2                              |  0                              |  4                              |  4                              |  3                              |  0                              |  1                              | 6                               |  3                              | 4                               | NA                              |  3                              |  2                              | 2                               | 0                               |  0                              | 0                               | 4                               | 3                               | NA                              | 0                               |  1                              | 1                               |  0                              | 1                               | 1                               | 3                               |  1                              | 5                               | 2                               |  1                              | 2                               | 3                               |  6                              | 5                               |  3                              | prof-dip                        | Male                            | Neither liberal or conservative | avg-                            | american                        | Rarely                          | \n",
       "|  5                              | 4                               |  2                              | 1                               | NA                              |  2                              |  3                              |  7                              | 6                               | 18                              | 3                               |  3                              | 1                               | NA                              |  1                              | 1                               | 3.000000                        | 3.000000                        | 2                               |  1                              |  3                              |  3                              | NA                              |  0                              |  2                              |  0                              |  3                              | NA                              | NA                              | -1                              | NA                              | 5                               |  5                              | 2                               |  2                              |  1                              |  5                              | 3                               | 2                               | NA                              | 1                               | 4                               | 3                               |  3                              | 0                               |  1                              | 1                               | -1                              | 1                               | 1                               | 2                               |  0                              | 4                               | 3                               |  1                              | 3                               | 4                               |  6                              | 4                               | 20                              | masters                         | Male                            | Very liberal (left)             | avg+                            | american                        | Regularly                       | \n",
       "|  4                              | 6                               |  5                              | 5                               | NA                              | NA                              |  4                              | NA                              | 7                               | NA                              | 3                               |  3                              | 3                               |  2                              | NA                              | 2                               |       NA                        | 3.166667                        | 2                               |  1                              |  4                              | NA                              |  2                              |  2                              |  1                              |  0                              |  4                              |  4                              |  2                              |  1                              |  1                              | 4                               |  4                              | 1                               |  2                              |  1                              |  3                              | 3                               | 4                               |  0                              | 1                               | 6                               | 4                               |  1                              | 1                               |  1                              | 0                               |  2                              | 3                               | 1                               | 1                               |  0                              | 6                               | 5                               |  1                              | 1                               | 5                               |  6                              | 6                               | 20                              | hi-sch                          | Male                            | Neither liberal or conservative | avg+                            | other                           | Rarely                          | \n",
       "|  6                              | 2                               |  3                              | 2                               |  2                              |  3                              |  5                              |  6                              | 1                               | 14                              | 5                               |  1                              | 1                               |  2                              |  3                              | 2                               | 2.833333                        | 3.666667                        | 3                               |  1                              | NA                              |  3                              |  1                              |  2                              |  3                              |  2                              | NA                              |  3                              |  4                              |  3                              |  0                              | 5                               | NA                              | 1                               |  1                              |  2                              |  4                              | 4                               | 2                               |  4                              | 1                               | 4                               | 2                               |  5                              | 2                               | NA                              | 1                               | -1                              | 2                               | 1                               | 5                               |  4                              | 6                               | 4                               |  1                              | 3                               | 4                               |  6                              | 4                               | 19                              | masters                         | Male                            | Very liberal (left)             | avg+                            | american                        | Rarely                          | \n",
       "| NA                              | 1                               | NA                              | 3                               |  1                              |  2                              | NA                              |  5                              | 8                               |  0                              | 0                               |  3                              | 1                               | NA                              |  4                              | 2                               | 3.166667                        | 3.333333                        | 2                               |  1                              |  3                              |  1                              |  1                              | NA                              | NA                              | -1                              |  5                              |  3                              | NA                              |  2                              |  1                              | 4                               |  5                              | 3                               |  2                              | -1                              |  4                              | 5                               | 2                               |  1                              | 3                               | 4                               | 4                               |  2                              | 0                               |  0                              | 1                               | -1                              | 4                               | 2                               | 2                               |  2                              | 4                               | 3                               |  1                              | 2                               | 4                               |  6                              | 5                               | 22                              | masters                         | Female                          | Very liberal (left)             | avg+                            | american                        | Regularly                       | \n",
       "|  4                              | 4                               |  4                              | 3                               |  4                              |  3                              |  5                              |  5                              | 7                               | 37                              | 2                               |  1                              | 1                               |  3                              |  2                              | 0                               | 2.500000                        | 2.833333                        | 1                               | -1                              |  4                              |  4                              |  0                              |  0                              | -1                              |  1                              |  2                              |  4                              |  3                              |  0                              | -1                              | 4                               | NA                              | 3                               |  3                              |  1                              | NA                              | 2                               | 2                               | NA                              | 3                               | 3                               | 0                               |  3                              | 3                               |  2                              | 1                               |  1                              | 1                               | 1                               | 2                               | NA                              | 4                               | 6                               | NA                              | 1                               | 4                               | NA                              | 6                               | 25                              | masters                         | Male                            | Very liberal (left)             | avg+                            | american                        | Regularly                       | \n",
       "\n",
       "\n"
      ],
      "text/plain": [
       "  attitudesAndNorms01 attitudesAndNorms02 attitudesAndNorms03\n",
       "1  5                  5                    5                 \n",
       "2  5                  4                    2                 \n",
       "3  4                  6                    5                 \n",
       "4  6                  2                    3                 \n",
       "5 NA                  1                   NA                 \n",
       "6  4                  4                    4                 \n",
       "  attitudesAndNorms04 attitudesAndNorms05 attitudesAndNorms06\n",
       "1 5                    4                   3                 \n",
       "2 1                   NA                   2                 \n",
       "3 5                   NA                  NA                 \n",
       "4 2                    2                   3                 \n",
       "5 3                    1                   2                 \n",
       "6 3                    4                   3                 \n",
       "  attitudesAndNorms07 attitudesAndNorms08 callToAction donationMoney\n",
       "1  4                  NA                  7            37           \n",
       "2  3                   7                  6            18           \n",
       "3  4                  NA                  7            NA           \n",
       "4  5                   6                  1            14           \n",
       "5 NA                   5                  8             0           \n",
       "6  5                   5                  7            37           \n",
       "  donationTime descriptiveSocialNorms01 descriptiveSocialNorms02\n",
       "1 4            NA                       3                       \n",
       "2 3             3                       1                       \n",
       "3 3             3                       3                       \n",
       "4 5             1                       1                       \n",
       "5 0             3                       1                       \n",
       "6 2             1                       1                       \n",
       "  descriptiveSocialNorms03 descriptiveSocialNorms04 mf_AuthoritySubversion\n",
       "1  2                        2                       1                     \n",
       "2 NA                        1                       1                     \n",
       "3  2                       NA                       2                     \n",
       "4  2                        3                       2                     \n",
       "5 NA                        4                       2                     \n",
       "6  3                        2                       0                     \n",
       "  mf_CareHarm mf_FairnessCheating mf_LoyaltyBetrayal mf_SanctityDegradation\n",
       "1 3.166667    3.000000            2                   1                    \n",
       "2 3.000000    3.000000            2                   1                    \n",
       "3       NA    3.166667            2                   1                    \n",
       "4 2.833333    3.666667            3                   1                    \n",
       "5 3.166667    3.333333            2                   1                    \n",
       "6 2.500000    2.833333            1                  -1                    \n",
       "  moralFoundations01_care moralFoundations02_fair moralFoundations03_loyal\n",
       "1  4                       4                       3                      \n",
       "2  3                       3                      NA                      \n",
       "3  4                      NA                       2                      \n",
       "4 NA                       3                       1                      \n",
       "5  3                       1                       1                      \n",
       "6  4                       4                       0                      \n",
       "  moralFoundations04_author moralFoundations05_sanct moralFoundations06_control\n",
       "1  1                         2                        0                        \n",
       "2  0                         2                        0                        \n",
       "3  2                         1                        0                        \n",
       "4  2                         3                        2                        \n",
       "5 NA                        NA                       -1                        \n",
       "6  0                        -1                        1                        \n",
       "  moralFoundations07_care moralFoundations08_fair moralFoundations09_loyal\n",
       "1  4                       4                       3                      \n",
       "2  3                      NA                      NA                      \n",
       "3  4                       4                       2                      \n",
       "4 NA                       3                       4                      \n",
       "5  5                       3                      NA                      \n",
       "6  2                       4                       3                      \n",
       "  moralFoundations10_author moralFoundations11_sanct moralFoundations12_care\n",
       "1  0                         1                       6                      \n",
       "2 -1                        NA                       5                      \n",
       "3  1                         1                       4                      \n",
       "4  3                         0                       5                      \n",
       "5  2                         1                       4                      \n",
       "6  0                        -1                       4                      \n",
       "  moralFoundations13_fair moralFoundations14_loyal moralFoundations15_author\n",
       "1  3                      4                        NA                       \n",
       "2  5                      2                         2                       \n",
       "3  4                      1                         2                       \n",
       "4 NA                      1                         1                       \n",
       "5  5                      3                         2                       \n",
       "6 NA                      3                         3                       \n",
       "  moralFoundations16_sanct moralFoundations17_care moralFoundations18_fair\n",
       "1  3                        2                      2                      \n",
       "2  1                        5                      3                      \n",
       "3  1                        3                      3                      \n",
       "4  2                        4                      4                      \n",
       "5 -1                        4                      5                      \n",
       "6  1                       NA                      2                      \n",
       "  moralFoundations19_loyal moralFoundations20_author moralFoundations21_sanct\n",
       "1 0                         0                        0                       \n",
       "2 2                        NA                        1                       \n",
       "3 4                         0                        1                       \n",
       "4 2                         4                        1                       \n",
       "5 2                         1                        3                       \n",
       "6 2                        NA                        3                       \n",
       "  moralFoundations22_control moralFoundations23_care moralFoundations24_fair\n",
       "1 4                          3                       NA                     \n",
       "2 4                          3                        3                     \n",
       "3 6                          4                        1                     \n",
       "4 4                          2                        5                     \n",
       "5 4                          4                        2                     \n",
       "6 3                          0                        3                     \n",
       "  moralFoundations25_loyal moralFoundations26_author moralFoundations27_sanct\n",
       "1 0                         1                        1                       \n",
       "2 0                         1                        1                       \n",
       "3 1                         1                        0                       \n",
       "4 2                        NA                        1                       \n",
       "5 0                         0                        1                       \n",
       "6 3                         2                        1                       \n",
       "  moralFoundations28_care moralFoundations29_fair moralFoundations30_loyal\n",
       "1  0                      1                       1                       \n",
       "2 -1                      1                       1                       \n",
       "3  2                      3                       1                       \n",
       "4 -1                      2                       1                       \n",
       "5 -1                      4                       2                       \n",
       "6  1                      1                       1                       \n",
       "  moralFoundations31_author moralFoundations32_sanct\n",
       "1 3                          1                      \n",
       "2 2                          0                      \n",
       "3 1                          0                      \n",
       "4 5                          4                      \n",
       "5 2                          2                      \n",
       "6 2                         NA                      \n",
       "  moralIdentityInternalization01 moralIdentityInternalization02\n",
       "1 5                              2                             \n",
       "2 4                              3                             \n",
       "3 6                              5                             \n",
       "4 6                              4                             \n",
       "5 4                              3                             \n",
       "6 4                              6                             \n",
       "  moralIdentityInternalization03 moralIdentityInternalization04\n",
       "1  1                             2                             \n",
       "2  1                             3                             \n",
       "3  1                             1                             \n",
       "4  1                             3                             \n",
       "5  1                             2                             \n",
       "6 NA                             1                             \n",
       "  moralIdentityInternalization05 moralIdentityInternalization03_rec\n",
       "1 3                               6                                \n",
       "2 4                               6                                \n",
       "3 5                               6                                \n",
       "4 4                               6                                \n",
       "5 4                               6                                \n",
       "6 4                              NA                                \n",
       "  moralIdentityInternalization04_rec pi_age pi_education pi_gender\n",
       "1 5                                   3     prof-dip     Male     \n",
       "2 4                                  20     masters      Male     \n",
       "3 6                                  20     hi-sch       Male     \n",
       "4 4                                  19     masters      Male     \n",
       "5 5                                  22     masters      Female   \n",
       "6 6                                  25     masters      Male     \n",
       "  pi_ideology                     pi_income pi_nationality pi_previousDonations\n",
       "1 Neither liberal or conservative avg-      american       Rarely              \n",
       "2 Very liberal (left)             avg+      american       Regularly           \n",
       "3 Neither liberal or conservative avg+      other          Rarely              \n",
       "4 Very liberal (left)             avg+      american       Rarely              \n",
       "5 Very liberal (left)             avg+      american       Regularly           \n",
       "6 Very liberal (left)             avg+      american       Regularly           "
      ]
     },
     "metadata": {},
     "output_type": "display_data"
    }
   ],
   "source": [
    "set.seed(151059)\n",
    "\n",
    "podaci %>%\n",
    "dplyr::select(., 1:moralIdentityInternalization04_rec) %>%\n",
    "apply(., MARGIN = c(1,2), FUN = function(x) {\n",
    "    if(runif(1) < .1) x <- NA\n",
    "    else return(x)\n",
    "}) %>%\n",
    "cbind(., dplyr::select(podaci, starts_with('pi_'))) ->\n",
    "podaci_na\n",
    "\n",
    "head(podaci_na)"
   ]
  },
  {
   "cell_type": "markdown",
   "metadata": {},
   "source": [
    "Prethodni blok koda donosi neke novosti.\n",
    "\n",
    "1) `set.seed` je funkcija kojom možemo *random number generator* R-a postaviti na neku vrijednost (*seed*). Po mojim saznanjima, to se uglavnom radi zato da bi se osigurala reproducibilnost stohastičkih procesa. Zbog toga bi obrazac `NA` vrijednosti koje vi dobivate trebao biti jednak onom koji ja dobivam.\n",
    "\n",
    "2) `apply` je funkcija koja služi kao skraćenica za `for` petlju (koju nismo obradili, heh). `apply` prima (i) set podataka, (ii) funkciju `FUN` te (iii) `MARGIN`, koji određuje na što će se `FUN` primijenjivati, a može biti `1` (redovi), `2` (stupci) ili `c(1, 2)` (svaki pojedini element)\n",
    "\n",
    "Sintaksa za `for` petlju je, inače:\n",
    "```\n",
    "for(i in 1:10) {\n",
    "    print(i)\n",
    " }\n",
    " ```\n",
    " \n",
    "tj.\n",
    "\n",
    "```\n",
    "for(nešto preko čega možemo iterirati, tj. prolaziti) {\n",
    "naredbe\n",
    "}\n",
    "```\n",
    "\n",
    "3) kao `FUN` smo dali anonimnu funkciju koju smo *ad hoc* definirali koristeći naredbu `function(...)`. Definirali smo funkciju koja prima samo jedan element (`x`), a koji predstavlja jedan podatak dohvaćen iz tablice koju smo proslijedili u `apply`. Da smo vrijednost `MARGIN` stavili na `1`, `x` bi bio red podataka, a da smo je stavili na `2`, stupac podataka.\n",
    "\n",
    "4) vidjeli smo i R-ovu\n",
    "```\n",
    "if(logički uvjet) naredba\n",
    "else druga naredba\n",
    "```\n",
    "sintaksu. Za `if ... else` je bitno znati da **ne može raditi s vektorima**, već samo s pojedinim elementima. `case_when` i `ifelse` (base R) su vektorizirane verzije `if ... else` naredbi.\n",
    "\n",
    "Dosad, dakle, imamo kod koji je odabrao sve redove i samo neke stupce tablice `podaci`, te ih proslijedio u funkciju `apply`. `apply` potom uzima svaki pojedini element (odnosno, svaki pojedini podatak, odnosno svaku pojedinu vrijednost) i daje ga u funkciju koju smo sami definirali (koristeći `function`). Unutar funkcije, taj je element dostupan kao `x`.\n",
    "\n",
    "Unutar funkcije, imamo `if ... else` izraz u kojem:\n",
    "\n",
    "5) koristimo `runif(1)` (**random uniform**) kako bismo dobili **jednu** vrijednost u rasponu od 0 do 1, te provjeravamo je li ta vrijednost manja od `.1`. Ako jest, `if` uvjet se evaluira kao `TRUE` i u `x` upisujemo vrijednost `NA`, kojom R predstavlja vrijednosti koje nedostaju. S obzirom na `runif`, vjerojatnost upisivanja vrijednosti `NA` je 10%. Ako `runif` vrati vrijednost veću od `.1`, `if` uvjet se evaluira kao `FALSE` te prelazimo na `else` dio. Naredba pod `else` je `return(x)`, što znači da u tom slučaju funkcija treba vratiti vrijednost `x`.\n",
    "\n",
    "6) Budući da je `select` vratio tablicu koja ne sadrži `pi_` varijable, a koje želimo imati, koristimo `cbind` (*column bind*) kako bismo dodali i te varijable. Kao prvi argument, u `cbind` stavljamo `.`, dakle modificiranu tablicu koju smo provukli kroz `apply` (i kroz cijeli *pipeline*), a kao drugi argument dajemo tablicu s odabranim stupcima iz tablice `podaci`.\n",
    "\n",
    "Na kraju, to spremamo kao `podaci_na`."
   ]
  },
  {
   "cell_type": "markdown",
   "metadata": {},
   "source": [
    "Sad kad imamo set podataka koji sadrži, missing vrijednosti, bacit ćemo se na motiviranje. Za početak, pogledat ćemo funkciju koja nam omogućava da dobijemo brzinski pregled svojih podataka."
   ]
  },
  {
   "cell_type": "markdown",
   "metadata": {},
   "source": [
    "`create_report` stvorit će interaktivni `.html` file koji sadrži hrpu deskriptivne statistike i neke zgodne grafove. Output se može jako prilagođavati dodavanjem argumenata, ali funkcija može biti zgodno-korisna i bez njih."
   ]
  },
  {
   "cell_type": "code",
   "execution_count": 161,
   "metadata": {},
   "outputs": [
    {
     "name": "stderr",
     "output_type": "stream",
     "text": [
      "\n",
      "\n",
      "processing file: report.rmd\n"
     ]
    },
    {
     "name": "stdout",
     "output_type": "stream",
     "text": [
      "  |..                                                               |   2%\n",
      "  ordinary text without R code\n",
      "\n",
      "  |...                                                              |   5%\n",
      "label: global_options (with options) \n",
      "List of 1\n",
      " $ include: logi FALSE\n",
      "\n",
      "  |.....                                                            |   7%\n",
      "  ordinary text without R code\n",
      "\n",
      "  |......                                                           |  10%\n",
      "label: introduce\n",
      "  |........                                                         |  12%\n",
      "  ordinary text without R code\n",
      "\n",
      "  |.........                                                        |  14%\n",
      "label: plot_intro\n",
      "  |...........                                                      |  17%\n",
      "  ordinary text without R code\n",
      "\n",
      "  |............                                                     |  19%\n",
      "label: data_structure\n",
      "  |..............                                                   |  21%\n",
      "  ordinary text without R code\n",
      "\n",
      "  |...............                                                  |  24%\n",
      "label: missing_profile\n",
      "  |.................                                                |  26%\n",
      "  ordinary text without R code\n",
      "\n",
      "  |...................                                              |  29%\n",
      "label: univariate_distribution_header\n",
      "  |....................                                             |  31%\n",
      "  ordinary text without R code\n",
      "\n",
      "  |......................                                           |  33%\n",
      "label: plot_histogram\n",
      "  |.......................                                          |  36%\n",
      "  ordinary text without R code\n",
      "\n",
      "  |.........................                                        |  38%\n",
      "label: plot_density\n",
      "  |..........................                                       |  40%\n",
      "  ordinary text without R code\n",
      "\n",
      "  |............................                                     |  43%\n",
      "label: plot_frequency_bar\n",
      "  |.............................                                    |  45%\n",
      "  ordinary text without R code\n",
      "\n",
      "  |...............................                                  |  48%\n",
      "label: plot_response_bar\n",
      "  |................................                                 |  50%\n",
      "  ordinary text without R code\n",
      "\n",
      "  |..................................                               |  52%\n",
      "label: plot_with_bar\n",
      "  |....................................                             |  55%\n",
      "  ordinary text without R code\n",
      "\n",
      "  |.....................................                            |  57%\n",
      "label: plot_normal_qq\n",
      "  |.......................................                          |  60%\n",
      "  ordinary text without R code\n",
      "\n",
      "  |........................................                         |  62%\n",
      "label: plot_response_qq\n",
      "  |..........................................                       |  64%\n",
      "  ordinary text without R code\n",
      "\n",
      "  |...........................................                      |  67%\n",
      "label: plot_by_qq\n",
      "  |.............................................                    |  69%\n",
      "  ordinary text without R code\n",
      "\n",
      "  |..............................................                   |  71%\n",
      "label: correlation_analysis\n",
      "  |................................................                 |  74%\n",
      "  ordinary text without R code\n",
      "\n",
      "  |..................................................               |  76%\n",
      "label: principle_component_analysis\n",
      "  |...................................................              |  79%\n",
      "  ordinary text without R code\n",
      "\n",
      "  |.....................................................            |  81%\n",
      "label: bivariate_distribution_header\n",
      "  |......................................................           |  83%\n",
      "  ordinary text without R code\n",
      "\n",
      "  |........................................................         |  86%\n",
      "label: plot_response_boxplot\n",
      "  |.........................................................        |  88%\n",
      "  ordinary text without R code\n",
      "\n",
      "  |...........................................................      |  90%\n",
      "label: plot_by_boxplot\n",
      "  |............................................................     |  93%\n",
      "  ordinary text without R code\n",
      "\n",
      "  |..............................................................   |  95%\n",
      "label: plot_response_scatterplot\n",
      "  |...............................................................  |  98%\n",
      "  ordinary text without R code\n",
      "\n",
      "  |.................................................................| 100%\n",
      "label: plot_by_scatterplot\n",
      "\n"
     ]
    },
    {
     "name": "stderr",
     "output_type": "stream",
     "text": [
      "output file: /home/denis/Documents/rdionica/jupyter-notebook/report.knit.md\n",
      "\n"
     ]
    },
    {
     "name": "stdout",
     "output_type": "stream",
     "text": [
      "/usr/bin/pandoc +RTS -K512m -RTS /home/denis/Documents/rdionica/jupyter-notebook/report.utf8.md --to html4 --from markdown+autolink_bare_uris+ascii_identifiers+tex_math_single_backslash+smart --output /home/denis/Documents/rdionica/jupyter-notebook/report.html --email-obfuscation none --self-contained --standalone --section-divs --table-of-contents --toc-depth 6 --template /home/denis/R/x86_64-pc-linux-gnu-library/3.5/rmarkdown/rmd/h/default.html --no-highlight --variable highlightjs=1 --variable 'theme:cerulean' --include-in-header /tmp/RtmpmYM0uF/rmarkdown-str1e0e2a6c1006.html --mathjax --variable 'mathjax-url:https://mathjax.rstudio.com/latest/MathJax.js?config=TeX-AMS-MML_HTMLorMML' \n"
     ]
    },
    {
     "name": "stderr",
     "output_type": "stream",
     "text": [
      "\n",
      "Output created: report.html\n",
      "\n",
      "\n",
      "Report is generated at \"/home/denis/Documents/rdionica/jupyter-notebook/report.html\".\n"
     ]
    }
   ],
   "source": [
    "DataExplorer::create_report(podaci_na)"
   ]
  },
  {
   "cell_type": "markdown",
   "metadata": {},
   "source": [
    "Sad ćemo pogledati neke funkcije koje nam olakšavaju pregledavanje obrazaca podataka koji nedostaju. Opći pregled stanja s podacima koji nedostaju možemo dobiti pomoću funkcije `vis_dat`. Radi preglednosti, ograničit ćemo se na prvih 10 i posljednjih 5 varijabli."
   ]
  },
  {
   "cell_type": "code",
   "execution_count": 25,
   "metadata": {},
   "outputs": [
    {
     "data": {},
     "metadata": {},
     "output_type": "display_data"
    },
    {
     "data": {
      "image/png": "[encoded data removed]",
      "text/plain": [
       "plot without title"
      ]
     },
     "metadata": {},
     "output_type": "display_data"
    }
   ],
   "source": [
    "podaci_na %>%\n",
    "# kako bismo odabrali posljednjih 5 stupaca,\n",
    "# koristimo ncol za dobivanje broja stupaca te\n",
    "# od vrijednosti koju dobijemo oduzimamo 5, a\n",
    "# raspon protežemo do ncol. ovdje ncol vraća\n",
    "# 66, pa efektivno imamo 61:65. oduzimanje od\n",
    "# prvog poziva ncol mora biti u zagradama, inače\n",
    "# error!\n",
    "dplyr::select(1:10, (ncol(.)-5):ncol(.)) %>%\n",
    "visdat::vis_dat(.)"
   ]
  },
  {
   "cell_type": "markdown",
   "metadata": {},
   "source": [
    "Ovaj graf prikazuje svakog pojedinog sudionika na y-osi, te svaki pojedinu varijablu na x-osi. Različite boje označavaju tip varijable (`factor`, `numeric`...) te `NA`, odnosno missing. Dakle, gdje god je nešto sivo, tamo nedostaje vrijednost."
   ]
  },
  {
   "cell_type": "markdown",
   "metadata": {},
   "source": [
    "Funkcija `vis_miss` crta sličan graf, samo što ne označava tipove varijabli i govori nam koliki je postotak varijabli missing."
   ]
  },
  {
   "cell_type": "code",
   "execution_count": 27,
   "metadata": {},
   "outputs": [
    {
     "data": {},
     "metadata": {},
     "output_type": "display_data"
    },
    {
     "data": {
      "image/png": "[encoded data removed]",
      "text/plain": [
       "plot without title"
      ]
     },
     "metadata": {},
     "output_type": "display_data"
    }
   ],
   "source": [
    "podaci_na %>%\n",
    "dplyr::select(1:10, (ncol(.)-5):ncol(.)) %>%\n",
    "visdat::vis_miss(.)"
   ]
  },
  {
   "cell_type": "markdown",
   "metadata": {},
   "source": [
    "Još jedan grubi prikaz:"
   ]
  },
  {
   "cell_type": "code",
   "execution_count": 21,
   "metadata": {},
   "outputs": [
    {
     "data": {},
     "metadata": {},
     "output_type": "display_data"
    },
    {
     "data": {
      "image/png": "[encoded data removed]",
      "text/plain": [
       "plot without title"
      ]
     },
     "metadata": {},
     "output_type": "display_data"
    }
   ],
   "source": [
    "naniar::gg_miss_var(podaci_na)"
   ]
  },
  {
   "cell_type": "markdown",
   "metadata": {},
   "source": [
    "Pomoću `n_miss` možemo dobiti broj vrijednosti koje nedostaju. Komplementarna funkcija je `n_complete`, koja, jel..."
   ]
  },
  {
   "cell_type": "code",
   "execution_count": 28,
   "metadata": {},
   "outputs": [
    {
     "data": {
      "text/html": [
       "594"
      ],
      "text/latex": [
       "594"
      ],
      "text/markdown": [
       "594"
      ],
      "text/plain": [
       "[1] 594"
      ]
     },
     "metadata": {},
     "output_type": "display_data"
    },
    {
     "data": {
      "text/html": [
       "6006"
      ],
      "text/latex": [
       "6006"
      ],
      "text/markdown": [
       "6006"
      ],
      "text/plain": [
       "[1] 6006"
      ]
     },
     "metadata": {},
     "output_type": "display_data"
    },
    {
     "data": {
      "text/html": [
       "TRUE"
      ],
      "text/latex": [
       "TRUE"
      ],
      "text/markdown": [
       "TRUE"
      ],
      "text/plain": [
       "[1] TRUE"
      ]
     },
     "metadata": {},
     "output_type": "display_data"
    }
   ],
   "source": [
    "naniar::n_miss(podaci_na)\n",
    "naniar::n_complete(podaci_na)\n",
    "\n",
    "podaci_na %>%\n",
    "{naniar::n_miss(.) + naniar::n_complete(.) ==\n",
    "    nrow(.) * ncol(.)}"
   ]
  },
  {
   "cell_type": "markdown",
   "metadata": {},
   "source": [
    "Pomoću `miss_case_summary` možemo dobiti informaciju o tome koliko svaki pojedini sudionik ima missinga."
   ]
  },
  {
   "cell_type": "code",
   "execution_count": 31,
   "metadata": {},
   "outputs": [
    {
     "data": {
      "text/html": [
       "<table>\n",
       "<thead><tr><th scope=col>case</th><th scope=col>n_miss</th><th scope=col>pct_miss</th></tr></thead>\n",
       "<tbody>\n",
       "\t<tr><td>13       </td><td>12       </td><td>18.181818</td></tr>\n",
       "\t<tr><td> 2       </td><td> 7       </td><td>10.606061</td></tr>\n",
       "\t<tr><td> 3       </td><td> 7       </td><td>10.606061</td></tr>\n",
       "\t<tr><td> 5       </td><td> 7       </td><td>10.606061</td></tr>\n",
       "\t<tr><td>12       </td><td> 7       </td><td>10.606061</td></tr>\n",
       "\t<tr><td>16       </td><td> 7       </td><td>10.606061</td></tr>\n",
       "\t<tr><td>18       </td><td> 7       </td><td>10.606061</td></tr>\n",
       "\t<tr><td> 6       </td><td> 6       </td><td> 9.090909</td></tr>\n",
       "\t<tr><td> 9       </td><td> 6       </td><td> 9.090909</td></tr>\n",
       "\t<tr><td> 8       </td><td> 5       </td><td> 7.575758</td></tr>\n",
       "\t<tr><td>14       </td><td> 5       </td><td> 7.575758</td></tr>\n",
       "\t<tr><td>17       </td><td> 5       </td><td> 7.575758</td></tr>\n",
       "\t<tr><td>20       </td><td> 5       </td><td> 7.575758</td></tr>\n",
       "\t<tr><td> 1       </td><td> 4       </td><td> 6.060606</td></tr>\n",
       "\t<tr><td> 4       </td><td> 4       </td><td> 6.060606</td></tr>\n",
       "\t<tr><td>10       </td><td> 4       </td><td> 6.060606</td></tr>\n",
       "\t<tr><td>15       </td><td> 4       </td><td> 6.060606</td></tr>\n",
       "\t<tr><td>19       </td><td> 4       </td><td> 6.060606</td></tr>\n",
       "\t<tr><td>11       </td><td> 3       </td><td> 4.545455</td></tr>\n",
       "\t<tr><td> 7       </td><td> 2       </td><td> 3.030303</td></tr>\n",
       "</tbody>\n",
       "</table>\n"
      ],
      "text/latex": [
       "\\begin{tabular}{r|lll}\n",
       " case & n\\_miss & pct\\_miss\\\\\n",
       "\\hline\n",
       "\t 13        & 12        & 18.181818\\\\\n",
       "\t  2        &  7        & 10.606061\\\\\n",
       "\t  3        &  7        & 10.606061\\\\\n",
       "\t  5        &  7        & 10.606061\\\\\n",
       "\t 12        &  7        & 10.606061\\\\\n",
       "\t 16        &  7        & 10.606061\\\\\n",
       "\t 18        &  7        & 10.606061\\\\\n",
       "\t  6        &  6        &  9.090909\\\\\n",
       "\t  9        &  6        &  9.090909\\\\\n",
       "\t  8        &  5        &  7.575758\\\\\n",
       "\t 14        &  5        &  7.575758\\\\\n",
       "\t 17        &  5        &  7.575758\\\\\n",
       "\t 20        &  5        &  7.575758\\\\\n",
       "\t  1        &  4        &  6.060606\\\\\n",
       "\t  4        &  4        &  6.060606\\\\\n",
       "\t 10        &  4        &  6.060606\\\\\n",
       "\t 15        &  4        &  6.060606\\\\\n",
       "\t 19        &  4        &  6.060606\\\\\n",
       "\t 11        &  3        &  4.545455\\\\\n",
       "\t  7        &  2        &  3.030303\\\\\n",
       "\\end{tabular}\n"
      ],
      "text/markdown": [
       "\n",
       "case | n_miss | pct_miss | \n",
       "|---|---|---|---|---|---|---|---|---|---|---|---|---|---|---|---|---|---|---|---|\n",
       "| 13        | 12        | 18.181818 | \n",
       "|  2        |  7        | 10.606061 | \n",
       "|  3        |  7        | 10.606061 | \n",
       "|  5        |  7        | 10.606061 | \n",
       "| 12        |  7        | 10.606061 | \n",
       "| 16        |  7        | 10.606061 | \n",
       "| 18        |  7        | 10.606061 | \n",
       "|  6        |  6        |  9.090909 | \n",
       "|  9        |  6        |  9.090909 | \n",
       "|  8        |  5        |  7.575758 | \n",
       "| 14        |  5        |  7.575758 | \n",
       "| 17        |  5        |  7.575758 | \n",
       "| 20        |  5        |  7.575758 | \n",
       "|  1        |  4        |  6.060606 | \n",
       "|  4        |  4        |  6.060606 | \n",
       "| 10        |  4        |  6.060606 | \n",
       "| 15        |  4        |  6.060606 | \n",
       "| 19        |  4        |  6.060606 | \n",
       "| 11        |  3        |  4.545455 | \n",
       "|  7        |  2        |  3.030303 | \n",
       "\n",
       "\n"
      ],
      "text/plain": [
       "   case n_miss pct_miss \n",
       "1  13   12     18.181818\n",
       "2   2    7     10.606061\n",
       "3   3    7     10.606061\n",
       "4   5    7     10.606061\n",
       "5  12    7     10.606061\n",
       "6  16    7     10.606061\n",
       "7  18    7     10.606061\n",
       "8   6    6      9.090909\n",
       "9   9    6      9.090909\n",
       "10  8    5      7.575758\n",
       "11 14    5      7.575758\n",
       "12 17    5      7.575758\n",
       "13 20    5      7.575758\n",
       "14  1    4      6.060606\n",
       "15  4    4      6.060606\n",
       "16 10    4      6.060606\n",
       "17 15    4      6.060606\n",
       "18 19    4      6.060606\n",
       "19 11    3      4.545455\n",
       "20  7    2      3.030303"
      ]
     },
     "metadata": {},
     "output_type": "display_data"
    }
   ],
   "source": [
    "podaci_na %>%\n",
    "# gledamo samo prvih 20\n",
    "slice(1:20) %>%\n",
    "naniar::miss_case_summary(.)"
   ]
  },
  {
   "cell_type": "markdown",
   "metadata": {},
   "source": [
    "Ove funkcije su zgodne za opći pregled. Ako želimo pobliže ispitati obrasce nedostajućih podataka, trebamo ući dublje u odnose među pojedinim varijablama. Prva funkcija koja nam ovdje uskače upomoć dolazi iz `naniara`."
   ]
  },
  {
   "cell_type": "code",
   "execution_count": 29,
   "metadata": {},
   "outputs": [
    {
     "data": {},
     "metadata": {},
     "output_type": "display_data"
    },
    {
     "data": {
      "image/png": "[encoded data removed]",
      "text/plain": [
       "plot without title"
      ]
     },
     "metadata": {},
     "output_type": "display_data"
    }
   ],
   "source": [
    "ggplot2::ggplot(podaci_na, aes(x = attitudesAndNorms01,\n",
    "                     y = attitudesAndNorms02)) +\n",
    "       naniar::geom_miss_point()"
   ]
  },
  {
   "cell_type": "markdown",
   "metadata": {},
   "source": [
    "Točke označene kao `Missing` imaju vrijednost na osi (tj. varijabli) kojoj su priklonjene (tj. s kojom su paralelne), ali nemaju na varijabli na koju su okomite. \n",
    "\n",
    "`Missing` točke nalaze se ispod minimuma koji vrijednosti dosežu na skali na kojoj nemaju rezultat. Da bude jasnije:"
   ]
  },
  {
   "cell_type": "code",
   "execution_count": 18,
   "metadata": {},
   "outputs": [
    {
     "data": {
      "text/plain": [
       " attitudesAndNorms01 attitudesAndNorms02\n",
       " Min.   :2.000       Min.   :-2.000     \n",
       " 1st Qu.:4.000       1st Qu.: 2.000     \n",
       " Median :5.000       Median : 3.000     \n",
       " Mean   :5.055       Mean   : 3.198     \n",
       " 3rd Qu.:6.000       3rd Qu.: 5.000     \n",
       " Max.   :8.000       Max.   : 7.000     \n",
       " NA's   :9           NA's   :4          "
      ]
     },
     "metadata": {},
     "output_type": "display_data"
    }
   ],
   "source": [
    "podaci_na %>%\n",
    "dplyr::select(., attitudesAndNorms01, attitudesAndNorms02) %>%\n",
    "summary(.)"
   ]
  },
  {
   "cell_type": "markdown",
   "metadata": {},
   "source": [
    "Vidimo da je minimum na `attitudesAndNorms01` 2, a na `attitudesAndNorms02` -2. Missing vrijednosti na grafu se nalaze ispod tih vrijednosti."
   ]
  },
  {
   "cell_type": "markdown",
   "metadata": {},
   "source": [
    "`gg_miss_upset` daje nam prikaz obrasca povezanosti missing vrijednosti kroz varijable."
   ]
  },
  {
   "cell_type": "code",
   "execution_count": 61,
   "metadata": {},
   "outputs": [
    {
     "data": {
      "image/png": "[encoded data removed]",
      "text/plain": [
       "plot without title"
      ]
     },
     "metadata": {},
     "output_type": "display_data"
    }
   ],
   "source": [
    "naniar::gg_miss_upset(podaci_na, nsets = 5, nintersect = 18)"
   ]
  },
  {
   "cell_type": "markdown",
   "metadata": {},
   "source": [
    "Pomoću `nsets = 5` ograničili smo se na 5 najkritičnijih varijabli. Vidimo da broj missing vrijednosti (na grafu označeno kao `Set Size`) pada od `callToAction_NA` prema `moralFoundatoins08_NA`.\n",
    "\n",
    "`nintersect` određuje koliko će *križanja* varijabli biti prikazano. Ova vrijednost trebala bi biti barem `nsets` + 1 da bi imala smisla.\n",
    "\n",
    "Okomiti stupci pokazuju nam koliko je missing vrijednosti u pojedinom križanju (uključujući i \"križanja\" jedne varijable). Uzmimo `callToAction_NA`, koji ima 18 vrijednosti koje nedostaju, odnosno nema 18 vrijednosti. Kad zbrojimo sve okomite stupce u kojima ta varijabla ima točku, doći ćemo do broja 18."
   ]
  },
  {
   "cell_type": "markdown",
   "metadata": {},
   "source": [
    "Nekad je zgodno vidjeti razlikuju li se obrasci nedostajanja ovisno o nekoj kategoričkoj varijabli. U tu svrhu, možemo koristiti `gg_miss_fct`. Funkcija prima dva argumenta, neku tablicu s podacima i kategoričku varijablu na temelju koje treba prikazati obrazac vrijednosti koje nedostaju."
   ]
  },
  {
   "cell_type": "code",
   "execution_count": 68,
   "metadata": {},
   "outputs": [
    {
     "data": {},
     "metadata": {},
     "output_type": "display_data"
    },
    {
     "data": {
      "image/png": "[encoded data removed]",
      "text/plain": [
       "plot without title"
      ]
     },
     "metadata": {},
     "output_type": "display_data"
    }
   ],
   "source": [
    "podaci_na %>%\n",
    "dplyr::select(1:10, pi_education) %>%\n",
    "naniar::gg_miss_fct(., fct = pi_education)"
   ]
  },
  {
   "cell_type": "markdown",
   "metadata": {},
   "source": [
    "Ovdje, recimo, možemo vidjeti da nitko ili gotovo nitko tko je završio osnovnu školu ili doktorat nije odgovorio na osmo pitanje u `attitudesAndNorms08`, što nije pretjerano zabrinjavajuće jer su podaci simulirani, ali bi se u stvarnoj situaciji čovjek možda htio zapitati."
   ]
  },
  {
   "cell_type": "markdown",
   "metadata": {},
   "source": [
    "## Prtljanje po podacima iz SPSS-a za opće dobro"
   ]
  },
  {
   "cell_type": "markdown",
   "metadata": {},
   "source": [
    "Kao što je na početku najavljeno, proći ćemo kroz R-ovsko prtljanje po korumpiranim podacima iz SPSS-a."
   ]
  },
  {
   "cell_type": "code",
   "execution_count": 40,
   "metadata": {},
   "outputs": [
    {
     "data": {
      "text/html": [
       "<table>\n",
       "<thead><tr><th scope=col>attitudesAndNorms01</th><th scope=col>attitudesAndNorms02</th><th scope=col>attitudesAndNorms03</th><th scope=col>attitudesAndNorms04</th><th scope=col>attitudesAndNorms05</th><th scope=col>attitudesAndNorms06</th><th scope=col>attitudesAndNorms07</th><th scope=col>attitudesAndNorms08</th><th scope=col>callToAction</th><th scope=col>charitableBehavior01</th><th scope=col>charitableBehavior02</th><th scope=col>descriptiveSocialNorms01</th><th scope=col>descriptiveSocialNorms02</th><th scope=col>descriptiveSocialNorms03</th><th scope=col>descriptiveSocialNorms04</th><th scope=col>mf_AuthoritySubversion</th><th scope=col>mf_CareHarm</th><th scope=col>mf_FairnessCheating</th><th scope=col>mf_LoyaltyBetrayal</th><th scope=col>mf_SanctityDegradation</th><th scope=col>moralFoundations01</th><th scope=col>moralFoundations02</th><th scope=col>moralFoundations03</th><th scope=col>moralFoundations04</th><th scope=col>moralFoundations05</th><th scope=col>moralFoundations06</th><th scope=col>moralFoundations07</th><th scope=col>moralFoundations08</th><th scope=col>moralFoundations09</th><th scope=col>moralFoundations10</th><th scope=col>moralFoundations11</th><th scope=col>moralFoundations12</th><th scope=col>moralFoundations13</th><th scope=col>moralFoundations14</th><th scope=col>moralFoundations15</th><th scope=col>moralFoundations16</th><th scope=col>moralFoundations17</th><th scope=col>moralFoundations18</th><th scope=col>moralFoundations19</th><th scope=col>moralFoundations20</th><th scope=col>moralFoundations21</th><th scope=col>moralFoundations22</th><th scope=col>moralFoundations23</th><th scope=col>moralFoundations24</th><th scope=col>moralFoundations25</th><th scope=col>moralFoundations26</th><th scope=col>moralFoundations27</th><th scope=col>moralFoundations28</th><th scope=col>moralFoundations29</th><th scope=col>moralFoundations30</th><th scope=col>moralFoundations31</th><th scope=col>moralFoundations32</th><th scope=col>moralIdentityInternalization01</th><th scope=col>moralIdentityInternalization02</th><th scope=col>moralIdentityInternalization03</th><th scope=col>moralIdentityInternalization04</th><th scope=col>moralIdentityInternalization05</th><th scope=col>pi_age</th><th scope=col>pi_education</th><th scope=col>pi_gender</th><th scope=col>pi_ideology</th><th scope=col>pi_income</th><th scope=col>pi_nationality</th><th scope=col>pi_previousDonations</th><th scope=col>V65</th></tr></thead>\n",
       "<tbody>\n",
       "\t<tr><td>5                              </td><td>5                              </td><td>5                              </td><td>5                              </td><td>4                              </td><td>3                              </td><td>4                              </td><td>6                              </td><td>7                              </td><td>37                             </td><td>4                              </td><td>4                              </td><td>3                              </td><td>2                              </td><td>2                              </td><td>1                              </td><td>3                              </td><td>3                              </td><td>2                              </td><td> 1                             </td><td>4                              </td><td>4                              </td><td>3                              </td><td>1                              </td><td> 2                             </td><td> 0                             </td><td>4                              </td><td>4                              </td><td>3                              </td><td> 0                             </td><td> 1                             </td><td>6                              </td><td>3                              </td><td>4                              </td><td>3                              </td><td> 3                             </td><td>2                              </td><td>2                              </td><td>0                              </td><td>0                              </td><td>0                              </td><td>4                              </td><td>3                              </td><td>4                              </td><td>0                              </td><td>1                              </td><td>1                              </td><td> 0                             </td><td>1                              </td><td>1                              </td><td>3                              </td><td>1                              </td><td>5                              </td><td>2                              </td><td>1                              </td><td>2                              </td><td>3                              </td><td> 3                             </td><td>\"Some professional diploma     </td><td> no degree\"                    </td><td>Male                           </td><td>Neither liberal or conservative</td><td>Somewhat below the average     </td><td>American                       </td><td>Rarely                         </td></tr>\n",
       "\t<tr><td>5                              </td><td>4                              </td><td>2                              </td><td>1                              </td><td>2                              </td><td>2                              </td><td>3                              </td><td>7                              </td><td>6                              </td><td>18                             </td><td>3                              </td><td>3                              </td><td>1                              </td><td>3                              </td><td>1                              </td><td>1                              </td><td>3                              </td><td>3                              </td><td>2                              </td><td> 1                             </td><td>3                              </td><td>3                              </td><td>0                              </td><td>0                              </td><td> 2                             </td><td> 0                             </td><td>3                              </td><td>3                              </td><td>3                              </td><td>-1                             </td><td> 3                             </td><td>5                              </td><td>5                              </td><td>2                              </td><td>2                              </td><td> 1                             </td><td>5                              </td><td>3                              </td><td>2                              </td><td>1                              </td><td>1                              </td><td>4                              </td><td>3                              </td><td>3                              </td><td>0                              </td><td>1                              </td><td>1                              </td><td>-1                             </td><td>1                              </td><td>1                              </td><td>2                              </td><td>0                              </td><td>4                              </td><td>3                              </td><td>1                              </td><td>3                              </td><td>4                              </td><td>20                             </td><td>Master's degree                </td><td>Male                           </td><td>Very liberal (left)            </td><td>Somewhat above the average     </td><td>USA                            </td><td>Regularly                      </td><td>                               </td></tr>\n",
       "\t<tr><td>4                              </td><td>6                              </td><td>5                              </td><td>5                              </td><td>3                              </td><td>2                              </td><td>4                              </td><td>5                              </td><td>7                              </td><td> 7                             </td><td>3                              </td><td>3                              </td><td>3                              </td><td>2                              </td><td>5                              </td><td>2                              </td><td>3                              </td><td>4                              </td><td>2                              </td><td> 1                             </td><td>4                              </td><td>4                              </td><td>2                              </td><td>2                              </td><td> 1                             </td><td> 0                             </td><td>4                              </td><td>4                              </td><td>2                              </td><td> 1                             </td><td> 1                             </td><td>4                              </td><td>4                              </td><td>1                              </td><td>2                              </td><td> 1                             </td><td>3                              </td><td>3                              </td><td>4                              </td><td>0                              </td><td>1                              </td><td>6                              </td><td>4                              </td><td>1                              </td><td>1                              </td><td>1                              </td><td>0                              </td><td> 2                             </td><td>3                              </td><td>1                              </td><td>1                              </td><td>0                              </td><td>6                              </td><td>5                              </td><td>1                              </td><td>1                              </td><td>5                              </td><td>20                             </td><td>High school                    </td><td>Male                           </td><td>Neither liberal or conservative</td><td>Somewhat above the average     </td><td>Turkish                        </td><td>Rarely                         </td><td>                               </td></tr>\n",
       "\t<tr><td>6                              </td><td>2                              </td><td>3                              </td><td>2                              </td><td>2                              </td><td>3                              </td><td>5                              </td><td>6                              </td><td>1                              </td><td>14                             </td><td>5                              </td><td>1                              </td><td>1                              </td><td>2                              </td><td>3                              </td><td>2                              </td><td>3                              </td><td>3                              </td><td>3                              </td><td> 1                             </td><td>3                              </td><td>3                              </td><td>1                              </td><td>2                              </td><td> 3                             </td><td> 2                             </td><td>4                              </td><td>3                              </td><td>4                              </td><td> 3                             </td><td> 0                             </td><td>5                              </td><td>5                              </td><td>1                              </td><td>1                              </td><td> 2                             </td><td>4                              </td><td>4                              </td><td>2                              </td><td>4                              </td><td>1                              </td><td>4                              </td><td>2                              </td><td>5                              </td><td>2                              </td><td>5                              </td><td>1                              </td><td>-1                             </td><td>2                              </td><td>1                              </td><td>5                              </td><td>4                              </td><td>6                              </td><td>4                              </td><td>1                              </td><td>3                              </td><td>4                              </td><td>19                             </td><td>Master's degree                </td><td>Male                           </td><td>Very liberal (left)            </td><td>Somewhat above the average     </td><td>United States of America       </td><td>Rarely                         </td><td>                               </td></tr>\n",
       "\t<tr><td>4                              </td><td>1                              </td><td>2                              </td><td>3                              </td><td>1                              </td><td>2                              </td><td>4                              </td><td>5                              </td><td>8                              </td><td> 0                             </td><td>0                              </td><td>3                              </td><td>1                              </td><td>2                              </td><td>4                              </td><td>2                              </td><td>4                              </td><td>2                              </td><td>2                              </td><td> 1                             </td><td>3                              </td><td>1                              </td><td>1                              </td><td>2                              </td><td> 3                             </td><td>-1                             </td><td>5                              </td><td>3                              </td><td>3                              </td><td> 2                             </td><td> 1                             </td><td>4                              </td><td>5                              </td><td>3                              </td><td>2                              </td><td>-1                             </td><td>4                              </td><td>5                              </td><td>2                              </td><td>1                              </td><td>3                              </td><td>4                              </td><td>4                              </td><td>2                              </td><td>0                              </td><td>0                              </td><td>1                              </td><td>-1                             </td><td>4                              </td><td>2                              </td><td>2                              </td><td>2                              </td><td>4                              </td><td>3                              </td><td>1                              </td><td>2                              </td><td>4                              </td><td>22                             </td><td>Master's degree                </td><td>Female                         </td><td>Very liberal (left)            </td><td>Somewhat above the average     </td><td>US                             </td><td>Regularly                      </td><td>                               </td></tr>\n",
       "\t<tr><td>4                              </td><td>4                              </td><td>4                              </td><td>3                              </td><td>4                              </td><td>3                              </td><td>5                              </td><td>5                              </td><td>7                              </td><td>37                             </td><td>2                              </td><td>1                              </td><td>1                              </td><td>3                              </td><td>2                              </td><td>0                              </td><td>3                              </td><td>4                              </td><td>1                              </td><td>-1                             </td><td>4                              </td><td>4                              </td><td>0                              </td><td>0                              </td><td>-1                             </td><td> 1                             </td><td>2                              </td><td>4                              </td><td>3                              </td><td> 0                             </td><td>-1                             </td><td>4                              </td><td>3                              </td><td>3                              </td><td>3                              </td><td> 1                             </td><td>4                              </td><td>2                              </td><td>2                              </td><td>3                              </td><td>3                              </td><td>3                              </td><td>0                              </td><td>3                              </td><td>3                              </td><td>2                              </td><td>1                              </td><td> 1                             </td><td>1                              </td><td>1                              </td><td>2                              </td><td>1                              </td><td>4                              </td><td>6                              </td><td>1                              </td><td>1                              </td><td>4                              </td><td>25                             </td><td>Master's degree                </td><td>Male                           </td><td>Very liberal (left)            </td><td>Somewhat above the average     </td><td>USA                            </td><td>Regularly                      </td><td>                               </td></tr>\n",
       "</tbody>\n",
       "</table>\n"
      ],
      "text/latex": [
       "\\begin{tabular}{r|lllllllllllllllllllllllllllllllllllllllllllllllllllllllllllllllll}\n",
       " attitudesAndNorms01 & attitudesAndNorms02 & attitudesAndNorms03 & attitudesAndNorms04 & attitudesAndNorms05 & attitudesAndNorms06 & attitudesAndNorms07 & attitudesAndNorms08 & callToAction & charitableBehavior01 & charitableBehavior02 & descriptiveSocialNorms01 & descriptiveSocialNorms02 & descriptiveSocialNorms03 & descriptiveSocialNorms04 & mf\\_AuthoritySubversion & mf\\_CareHarm & mf\\_FairnessCheating & mf\\_LoyaltyBetrayal & mf\\_SanctityDegradation & moralFoundations01 & moralFoundations02 & moralFoundations03 & moralFoundations04 & moralFoundations05 & moralFoundations06 & moralFoundations07 & moralFoundations08 & moralFoundations09 & moralFoundations10 & moralFoundations11 & moralFoundations12 & moralFoundations13 & moralFoundations14 & moralFoundations15 & moralFoundations16 & moralFoundations17 & moralFoundations18 & moralFoundations19 & moralFoundations20 & moralFoundations21 & moralFoundations22 & moralFoundations23 & moralFoundations24 & moralFoundations25 & moralFoundations26 & moralFoundations27 & moralFoundations28 & moralFoundations29 & moralFoundations30 & moralFoundations31 & moralFoundations32 & moralIdentityInternalization01 & moralIdentityInternalization02 & moralIdentityInternalization03 & moralIdentityInternalization04 & moralIdentityInternalization05 & pi\\_age & pi\\_education & pi\\_gender & pi\\_ideology & pi\\_income & pi\\_nationality & pi\\_previousDonations & V65\\\\\n",
       "\\hline\n",
       "\t 5                               & 5                               & 5                               & 5                               & 4                               & 3                               & 4                               & 6                               & 7                               & 37                              & 4                               & 4                               & 3                               & 2                               & 2                               & 1                               & 3                               & 3                               & 2                               &  1                              & 4                               & 4                               & 3                               & 1                               &  2                              &  0                              & 4                               & 4                               & 3                               &  0                              &  1                              & 6                               & 3                               & 4                               & 3                               &  3                              & 2                               & 2                               & 0                               & 0                               & 0                               & 4                               & 3                               & 4                               & 0                               & 1                               & 1                               &  0                              & 1                               & 1                               & 3                               & 1                               & 5                               & 2                               & 1                               & 2                               & 3                               &  3                              & \"Some professional diploma      &  no degree\"                     & Male                            & Neither liberal or conservative & Somewhat below the average      & American                        & Rarely                         \\\\\n",
       "\t 5                               & 4                               & 2                               & 1                               & 2                               & 2                               & 3                               & 7                               & 6                               & 18                              & 3                               & 3                               & 1                               & 3                               & 1                               & 1                               & 3                               & 3                               & 2                               &  1                              & 3                               & 3                               & 0                               & 0                               &  2                              &  0                              & 3                               & 3                               & 3                               & -1                              &  3                              & 5                               & 5                               & 2                               & 2                               &  1                              & 5                               & 3                               & 2                               & 1                               & 1                               & 4                               & 3                               & 3                               & 0                               & 1                               & 1                               & -1                              & 1                               & 1                               & 2                               & 0                               & 4                               & 3                               & 1                               & 3                               & 4                               & 20                              & Master's degree                 & Male                            & Very liberal (left)             & Somewhat above the average      & USA                             & Regularly                       &                                \\\\\n",
       "\t 4                               & 6                               & 5                               & 5                               & 3                               & 2                               & 4                               & 5                               & 7                               &  7                              & 3                               & 3                               & 3                               & 2                               & 5                               & 2                               & 3                               & 4                               & 2                               &  1                              & 4                               & 4                               & 2                               & 2                               &  1                              &  0                              & 4                               & 4                               & 2                               &  1                              &  1                              & 4                               & 4                               & 1                               & 2                               &  1                              & 3                               & 3                               & 4                               & 0                               & 1                               & 6                               & 4                               & 1                               & 1                               & 1                               & 0                               &  2                              & 3                               & 1                               & 1                               & 0                               & 6                               & 5                               & 1                               & 1                               & 5                               & 20                              & High school                     & Male                            & Neither liberal or conservative & Somewhat above the average      & Turkish                         & Rarely                          &                                \\\\\n",
       "\t 6                               & 2                               & 3                               & 2                               & 2                               & 3                               & 5                               & 6                               & 1                               & 14                              & 5                               & 1                               & 1                               & 2                               & 3                               & 2                               & 3                               & 3                               & 3                               &  1                              & 3                               & 3                               & 1                               & 2                               &  3                              &  2                              & 4                               & 3                               & 4                               &  3                              &  0                              & 5                               & 5                               & 1                               & 1                               &  2                              & 4                               & 4                               & 2                               & 4                               & 1                               & 4                               & 2                               & 5                               & 2                               & 5                               & 1                               & -1                              & 2                               & 1                               & 5                               & 4                               & 6                               & 4                               & 1                               & 3                               & 4                               & 19                              & Master's degree                 & Male                            & Very liberal (left)             & Somewhat above the average      & United States of America        & Rarely                          &                                \\\\\n",
       "\t 4                               & 1                               & 2                               & 3                               & 1                               & 2                               & 4                               & 5                               & 8                               &  0                              & 0                               & 3                               & 1                               & 2                               & 4                               & 2                               & 4                               & 2                               & 2                               &  1                              & 3                               & 1                               & 1                               & 2                               &  3                              & -1                              & 5                               & 3                               & 3                               &  2                              &  1                              & 4                               & 5                               & 3                               & 2                               & -1                              & 4                               & 5                               & 2                               & 1                               & 3                               & 4                               & 4                               & 2                               & 0                               & 0                               & 1                               & -1                              & 4                               & 2                               & 2                               & 2                               & 4                               & 3                               & 1                               & 2                               & 4                               & 22                              & Master's degree                 & Female                          & Very liberal (left)             & Somewhat above the average      & US                              & Regularly                       &                                \\\\\n",
       "\t 4                               & 4                               & 4                               & 3                               & 4                               & 3                               & 5                               & 5                               & 7                               & 37                              & 2                               & 1                               & 1                               & 3                               & 2                               & 0                               & 3                               & 4                               & 1                               & -1                              & 4                               & 4                               & 0                               & 0                               & -1                              &  1                              & 2                               & 4                               & 3                               &  0                              & -1                              & 4                               & 3                               & 3                               & 3                               &  1                              & 4                               & 2                               & 2                               & 3                               & 3                               & 3                               & 0                               & 3                               & 3                               & 2                               & 1                               &  1                              & 1                               & 1                               & 2                               & 1                               & 4                               & 6                               & 1                               & 1                               & 4                               & 25                              & Master's degree                 & Male                            & Very liberal (left)             & Somewhat above the average      & USA                             & Regularly                       &                                \\\\\n",
       "\\end{tabular}\n"
      ],
      "text/markdown": [
       "\n",
       "attitudesAndNorms01 | attitudesAndNorms02 | attitudesAndNorms03 | attitudesAndNorms04 | attitudesAndNorms05 | attitudesAndNorms06 | attitudesAndNorms07 | attitudesAndNorms08 | callToAction | charitableBehavior01 | charitableBehavior02 | descriptiveSocialNorms01 | descriptiveSocialNorms02 | descriptiveSocialNorms03 | descriptiveSocialNorms04 | mf_AuthoritySubversion | mf_CareHarm | mf_FairnessCheating | mf_LoyaltyBetrayal | mf_SanctityDegradation | moralFoundations01 | moralFoundations02 | moralFoundations03 | moralFoundations04 | moralFoundations05 | moralFoundations06 | moralFoundations07 | moralFoundations08 | moralFoundations09 | moralFoundations10 | moralFoundations11 | moralFoundations12 | moralFoundations13 | moralFoundations14 | moralFoundations15 | moralFoundations16 | moralFoundations17 | moralFoundations18 | moralFoundations19 | moralFoundations20 | moralFoundations21 | moralFoundations22 | moralFoundations23 | moralFoundations24 | moralFoundations25 | moralFoundations26 | moralFoundations27 | moralFoundations28 | moralFoundations29 | moralFoundations30 | moralFoundations31 | moralFoundations32 | moralIdentityInternalization01 | moralIdentityInternalization02 | moralIdentityInternalization03 | moralIdentityInternalization04 | moralIdentityInternalization05 | pi_age | pi_education | pi_gender | pi_ideology | pi_income | pi_nationality | pi_previousDonations | V65 | \n",
       "|---|---|---|---|---|---|\n",
       "| 5                               | 5                               | 5                               | 5                               | 4                               | 3                               | 4                               | 6                               | 7                               | 37                              | 4                               | 4                               | 3                               | 2                               | 2                               | 1                               | 3                               | 3                               | 2                               |  1                              | 4                               | 4                               | 3                               | 1                               |  2                              |  0                              | 4                               | 4                               | 3                               |  0                              |  1                              | 6                               | 3                               | 4                               | 3                               |  3                              | 2                               | 2                               | 0                               | 0                               | 0                               | 4                               | 3                               | 4                               | 0                               | 1                               | 1                               |  0                              | 1                               | 1                               | 3                               | 1                               | 5                               | 2                               | 1                               | 2                               | 3                               |  3                              | \"Some professional diploma      |  no degree\"                     | Male                            | Neither liberal or conservative | Somewhat below the average      | American                        | Rarely                          | \n",
       "| 5                               | 4                               | 2                               | 1                               | 2                               | 2                               | 3                               | 7                               | 6                               | 18                              | 3                               | 3                               | 1                               | 3                               | 1                               | 1                               | 3                               | 3                               | 2                               |  1                              | 3                               | 3                               | 0                               | 0                               |  2                              |  0                              | 3                               | 3                               | 3                               | -1                              |  3                              | 5                               | 5                               | 2                               | 2                               |  1                              | 5                               | 3                               | 2                               | 1                               | 1                               | 4                               | 3                               | 3                               | 0                               | 1                               | 1                               | -1                              | 1                               | 1                               | 2                               | 0                               | 4                               | 3                               | 1                               | 3                               | 4                               | 20                              | Master's degree                 | Male                            | Very liberal (left)             | Somewhat above the average      | USA                             | Regularly                       |                                 | \n",
       "| 4                               | 6                               | 5                               | 5                               | 3                               | 2                               | 4                               | 5                               | 7                               |  7                              | 3                               | 3                               | 3                               | 2                               | 5                               | 2                               | 3                               | 4                               | 2                               |  1                              | 4                               | 4                               | 2                               | 2                               |  1                              |  0                              | 4                               | 4                               | 2                               |  1                              |  1                              | 4                               | 4                               | 1                               | 2                               |  1                              | 3                               | 3                               | 4                               | 0                               | 1                               | 6                               | 4                               | 1                               | 1                               | 1                               | 0                               |  2                              | 3                               | 1                               | 1                               | 0                               | 6                               | 5                               | 1                               | 1                               | 5                               | 20                              | High school                     | Male                            | Neither liberal or conservative | Somewhat above the average      | Turkish                         | Rarely                          |                                 | \n",
       "| 6                               | 2                               | 3                               | 2                               | 2                               | 3                               | 5                               | 6                               | 1                               | 14                              | 5                               | 1                               | 1                               | 2                               | 3                               | 2                               | 3                               | 3                               | 3                               |  1                              | 3                               | 3                               | 1                               | 2                               |  3                              |  2                              | 4                               | 3                               | 4                               |  3                              |  0                              | 5                               | 5                               | 1                               | 1                               |  2                              | 4                               | 4                               | 2                               | 4                               | 1                               | 4                               | 2                               | 5                               | 2                               | 5                               | 1                               | -1                              | 2                               | 1                               | 5                               | 4                               | 6                               | 4                               | 1                               | 3                               | 4                               | 19                              | Master's degree                 | Male                            | Very liberal (left)             | Somewhat above the average      | United States of America        | Rarely                          |                                 | \n",
       "| 4                               | 1                               | 2                               | 3                               | 1                               | 2                               | 4                               | 5                               | 8                               |  0                              | 0                               | 3                               | 1                               | 2                               | 4                               | 2                               | 4                               | 2                               | 2                               |  1                              | 3                               | 1                               | 1                               | 2                               |  3                              | -1                              | 5                               | 3                               | 3                               |  2                              |  1                              | 4                               | 5                               | 3                               | 2                               | -1                              | 4                               | 5                               | 2                               | 1                               | 3                               | 4                               | 4                               | 2                               | 0                               | 0                               | 1                               | -1                              | 4                               | 2                               | 2                               | 2                               | 4                               | 3                               | 1                               | 2                               | 4                               | 22                              | Master's degree                 | Female                          | Very liberal (left)             | Somewhat above the average      | US                              | Regularly                       |                                 | \n",
       "| 4                               | 4                               | 4                               | 3                               | 4                               | 3                               | 5                               | 5                               | 7                               | 37                              | 2                               | 1                               | 1                               | 3                               | 2                               | 0                               | 3                               | 4                               | 1                               | -1                              | 4                               | 4                               | 0                               | 0                               | -1                              |  1                              | 2                               | 4                               | 3                               |  0                              | -1                              | 4                               | 3                               | 3                               | 3                               |  1                              | 4                               | 2                               | 2                               | 3                               | 3                               | 3                               | 0                               | 3                               | 3                               | 2                               | 1                               |  1                              | 1                               | 1                               | 2                               | 1                               | 4                               | 6                               | 1                               | 1                               | 4                               | 25                              | Master's degree                 | Male                            | Very liberal (left)             | Somewhat above the average      | USA                             | Regularly                       |                                 | \n",
       "\n",
       "\n"
      ],
      "text/plain": [
       "  attitudesAndNorms01 attitudesAndNorms02 attitudesAndNorms03\n",
       "1 5                   5                   5                  \n",
       "2 5                   4                   2                  \n",
       "3 4                   6                   5                  \n",
       "4 6                   2                   3                  \n",
       "5 4                   1                   2                  \n",
       "6 4                   4                   4                  \n",
       "  attitudesAndNorms04 attitudesAndNorms05 attitudesAndNorms06\n",
       "1 5                   4                   3                  \n",
       "2 1                   2                   2                  \n",
       "3 5                   3                   2                  \n",
       "4 2                   2                   3                  \n",
       "5 3                   1                   2                  \n",
       "6 3                   4                   3                  \n",
       "  attitudesAndNorms07 attitudesAndNorms08 callToAction charitableBehavior01\n",
       "1 4                   6                   7            37                  \n",
       "2 3                   7                   6            18                  \n",
       "3 4                   5                   7             7                  \n",
       "4 5                   6                   1            14                  \n",
       "5 4                   5                   8             0                  \n",
       "6 5                   5                   7            37                  \n",
       "  charitableBehavior02 descriptiveSocialNorms01 descriptiveSocialNorms02\n",
       "1 4                    4                        3                       \n",
       "2 3                    3                        1                       \n",
       "3 3                    3                        3                       \n",
       "4 5                    1                        1                       \n",
       "5 0                    3                        1                       \n",
       "6 2                    1                        1                       \n",
       "  descriptiveSocialNorms03 descriptiveSocialNorms04 mf_AuthoritySubversion\n",
       "1 2                        2                        1                     \n",
       "2 3                        1                        1                     \n",
       "3 2                        5                        2                     \n",
       "4 2                        3                        2                     \n",
       "5 2                        4                        2                     \n",
       "6 3                        2                        0                     \n",
       "  mf_CareHarm mf_FairnessCheating mf_LoyaltyBetrayal mf_SanctityDegradation\n",
       "1 3           3                   2                   1                    \n",
       "2 3           3                   2                   1                    \n",
       "3 3           4                   2                   1                    \n",
       "4 3           3                   3                   1                    \n",
       "5 4           2                   2                   1                    \n",
       "6 3           4                   1                  -1                    \n",
       "  moralFoundations01 moralFoundations02 moralFoundations03 moralFoundations04\n",
       "1 4                  4                  3                  1                 \n",
       "2 3                  3                  0                  0                 \n",
       "3 4                  4                  2                  2                 \n",
       "4 3                  3                  1                  2                 \n",
       "5 3                  1                  1                  2                 \n",
       "6 4                  4                  0                  0                 \n",
       "  moralFoundations05 moralFoundations06 moralFoundations07 moralFoundations08\n",
       "1  2                  0                 4                  4                 \n",
       "2  2                  0                 3                  3                 \n",
       "3  1                  0                 4                  4                 \n",
       "4  3                  2                 4                  3                 \n",
       "5  3                 -1                 5                  3                 \n",
       "6 -1                  1                 2                  4                 \n",
       "  moralFoundations09 moralFoundations10 moralFoundations11 moralFoundations12\n",
       "1 3                   0                  1                 6                 \n",
       "2 3                  -1                  3                 5                 \n",
       "3 2                   1                  1                 4                 \n",
       "4 4                   3                  0                 5                 \n",
       "5 3                   2                  1                 4                 \n",
       "6 3                   0                 -1                 4                 \n",
       "  moralFoundations13 moralFoundations14 moralFoundations15 moralFoundations16\n",
       "1 3                  4                  3                   3                \n",
       "2 5                  2                  2                   1                \n",
       "3 4                  1                  2                   1                \n",
       "4 5                  1                  1                   2                \n",
       "5 5                  3                  2                  -1                \n",
       "6 3                  3                  3                   1                \n",
       "  moralFoundations17 moralFoundations18 moralFoundations19 moralFoundations20\n",
       "1 2                  2                  0                  0                 \n",
       "2 5                  3                  2                  1                 \n",
       "3 3                  3                  4                  0                 \n",
       "4 4                  4                  2                  4                 \n",
       "5 4                  5                  2                  1                 \n",
       "6 4                  2                  2                  3                 \n",
       "  moralFoundations21 moralFoundations22 moralFoundations23 moralFoundations24\n",
       "1 0                  4                  3                  4                 \n",
       "2 1                  4                  3                  3                 \n",
       "3 1                  6                  4                  1                 \n",
       "4 1                  4                  2                  5                 \n",
       "5 3                  4                  4                  2                 \n",
       "6 3                  3                  0                  3                 \n",
       "  moralFoundations25 moralFoundations26 moralFoundations27 moralFoundations28\n",
       "1 0                  1                  1                   0                \n",
       "2 0                  1                  1                  -1                \n",
       "3 1                  1                  0                   2                \n",
       "4 2                  5                  1                  -1                \n",
       "5 0                  0                  1                  -1                \n",
       "6 3                  2                  1                   1                \n",
       "  moralFoundations29 moralFoundations30 moralFoundations31 moralFoundations32\n",
       "1 1                  1                  3                  1                 \n",
       "2 1                  1                  2                  0                 \n",
       "3 3                  1                  1                  0                 \n",
       "4 2                  1                  5                  4                 \n",
       "5 4                  2                  2                  2                 \n",
       "6 1                  1                  2                  1                 \n",
       "  moralIdentityInternalization01 moralIdentityInternalization02\n",
       "1 5                              2                             \n",
       "2 4                              3                             \n",
       "3 6                              5                             \n",
       "4 6                              4                             \n",
       "5 4                              3                             \n",
       "6 4                              6                             \n",
       "  moralIdentityInternalization03 moralIdentityInternalization04\n",
       "1 1                              2                             \n",
       "2 1                              3                             \n",
       "3 1                              1                             \n",
       "4 1                              3                             \n",
       "5 1                              2                             \n",
       "6 1                              1                             \n",
       "  moralIdentityInternalization05 pi_age pi_education               pi_gender  \n",
       "1 3                               3     \"Some professional diploma  no degree\"\n",
       "2 4                              20     Master's degree            Male       \n",
       "3 5                              20     High school                Male       \n",
       "4 4                              19     Master's degree            Male       \n",
       "5 4                              22     Master's degree            Female     \n",
       "6 4                              25     Master's degree            Male       \n",
       "  pi_ideology                     pi_income                      \n",
       "1 Male                            Neither liberal or conservative\n",
       "2 Very liberal (left)             Somewhat above the average     \n",
       "3 Neither liberal or conservative Somewhat above the average     \n",
       "4 Very liberal (left)             Somewhat above the average     \n",
       "5 Very liberal (left)             Somewhat above the average     \n",
       "6 Very liberal (left)             Somewhat above the average     \n",
       "  pi_nationality             pi_previousDonations V65   \n",
       "1 Somewhat below the average American             Rarely\n",
       "2 USA                        Regularly                  \n",
       "3 Turkish                    Rarely                     \n",
       "4 United States of America   Rarely                     \n",
       "5 US                         Regularly                  \n",
       "6 USA                        Regularly                  "
      ]
     },
     "metadata": {},
     "output_type": "display_data"
    }
   ],
   "source": [
    "head(podaci_spss)"
   ]
  },
  {
   "cell_type": "code",
   "execution_count": 50,
   "metadata": {},
   "outputs": [
    {
     "data": {
      "text/html": [
       "<ol class=list-inline>\n",
       "\t<li>'Some professional diploma no degree'</li>\n",
       "\t<li>'Master\\'s degree'</li>\n",
       "\t<li>'High school'</li>\n",
       "\t<li>'Master\\'s degree'</li>\n",
       "\t<li>'Master\\'s degree'</li>\n",
       "\t<li>'Master\\'s degree'</li>\n",
       "\t<li>'Some professional diploma no degree'</li>\n",
       "\t<li>'Master\\'s degree'</li>\n",
       "\t<li>'The baccalaureate'</li>\n",
       "\t<li>'Some professional diploma no degree'</li>\n",
       "\t<li>'The baccalaureate'</li>\n",
       "\t<li>'The baccalaureate'</li>\n",
       "\t<li>'Elementary School'</li>\n",
       "\t<li>'Some professional diploma no degree'</li>\n",
       "\t<li>'High school'</li>\n",
       "\t<li>'The baccalaureate'</li>\n",
       "\t<li>'High school'</li>\n",
       "\t<li>'The baccalaureate'</li>\n",
       "\t<li>'Some professional diploma no degree'</li>\n",
       "\t<li>'High school'</li>\n",
       "\t<li>'The baccalaureate'</li>\n",
       "\t<li>'The baccalaureate'</li>\n",
       "\t<li>'The baccalaureate'</li>\n",
       "\t<li>'Master\\'s degree'</li>\n",
       "\t<li>'The baccalaureate'</li>\n",
       "\t<li>'The baccalaureate'</li>\n",
       "\t<li>'Master\\'s degree'</li>\n",
       "\t<li>'High school'</li>\n",
       "\t<li>'High school'</li>\n",
       "\t<li>'The baccalaureate'</li>\n",
       "\t<li>'The baccalaureate'</li>\n",
       "\t<li>'High school'</li>\n",
       "\t<li>'The baccalaureate'</li>\n",
       "\t<li>'Master\\'s degree'</li>\n",
       "\t<li>'Some professional diploma no degree'</li>\n",
       "\t<li>'Master\\'s degree'</li>\n",
       "\t<li>'High school'</li>\n",
       "\t<li>'Some professional diploma no degree'</li>\n",
       "\t<li>'The baccalaureate'</li>\n",
       "\t<li>'Some professional diploma no degree'</li>\n",
       "\t<li>'Master\\'s degree'</li>\n",
       "\t<li>'High school'</li>\n",
       "\t<li>'The baccalaureate'</li>\n",
       "\t<li>'The baccalaureate'</li>\n",
       "\t<li>'The baccalaureate'</li>\n",
       "\t<li>'Master\\'s degree'</li>\n",
       "\t<li>'Some professional diploma no degree'</li>\n",
       "\t<li>'High school'</li>\n",
       "\t<li>'Master\\'s degree'</li>\n",
       "\t<li>'The baccalaureate'</li>\n",
       "\t<li>'Master\\'s degree'</li>\n",
       "\t<li>'High school'</li>\n",
       "\t<li>'High school'</li>\n",
       "\t<li>'Some professional diploma no degree'</li>\n",
       "\t<li>'High school'</li>\n",
       "\t<li>'Master\\'s degree'</li>\n",
       "\t<li>'Master\\'s degree'</li>\n",
       "\t<li>'High school'</li>\n",
       "\t<li>'Some professional diploma no degree'</li>\n",
       "\t<li>'Master\\'s degree'</li>\n",
       "\t<li>'The baccalaureate'</li>\n",
       "\t<li>'Master\\'s degree'</li>\n",
       "\t<li>'Some professional diploma no degree'</li>\n",
       "\t<li>'The baccalaureate'</li>\n",
       "\t<li>'Master\\'s degree'</li>\n",
       "\t<li>'The baccalaureate'</li>\n",
       "\t<li>'The baccalaureate'</li>\n",
       "\t<li>'High school'</li>\n",
       "\t<li>'The baccalaureate'</li>\n",
       "\t<li>'The baccalaureate'</li>\n",
       "\t<li>'The baccalaureate'</li>\n",
       "\t<li>'Some professional diploma no degree'</li>\n",
       "\t<li>'High school'</li>\n",
       "\t<li>'The baccalaureate'</li>\n",
       "\t<li>'Some professional diploma no degree'</li>\n",
       "\t<li>'High school'</li>\n",
       "\t<li>'Master\\'s degree'</li>\n",
       "\t<li>'High school'</li>\n",
       "\t<li>'The baccalaureate'</li>\n",
       "\t<li>'Some professional diploma no degree'</li>\n",
       "\t<li>'High school'</li>\n",
       "\t<li>'Master\\'s degree'</li>\n",
       "\t<li>'Some professional diploma no degree'</li>\n",
       "\t<li>'Master\\'s degree'</li>\n",
       "\t<li>'PhD or higher'</li>\n",
       "\t<li>'Some professional diploma no degree'</li>\n",
       "\t<li>'High school'</li>\n",
       "\t<li>'The baccalaureate'</li>\n",
       "\t<li>'Master\\'s degree'</li>\n",
       "\t<li>'The baccalaureate'</li>\n",
       "\t<li>'Some professional diploma no degree'</li>\n",
       "\t<li>'Some professional diploma no degree'</li>\n",
       "\t<li>'High school'</li>\n",
       "\t<li>'High school'</li>\n",
       "\t<li>'Master\\'s degree'</li>\n",
       "\t<li>'Master\\'s degree'</li>\n",
       "\t<li>'The baccalaureate'</li>\n",
       "\t<li>'The baccalaureate'</li>\n",
       "\t<li>'High school'</li>\n",
       "\t<li>'The baccalaureate'</li>\n",
       "</ol>\n"
      ],
      "text/latex": [
       "\\begin{enumerate*}\n",
       "\\item 'Some professional diploma no degree'\n",
       "\\item 'Master\\textbackslash{}'s degree'\n",
       "\\item 'High school'\n",
       "\\item 'Master\\textbackslash{}'s degree'\n",
       "\\item 'Master\\textbackslash{}'s degree'\n",
       "\\item 'Master\\textbackslash{}'s degree'\n",
       "\\item 'Some professional diploma no degree'\n",
       "\\item 'Master\\textbackslash{}'s degree'\n",
       "\\item 'The baccalaureate'\n",
       "\\item 'Some professional diploma no degree'\n",
       "\\item 'The baccalaureate'\n",
       "\\item 'The baccalaureate'\n",
       "\\item 'Elementary School'\n",
       "\\item 'Some professional diploma no degree'\n",
       "\\item 'High school'\n",
       "\\item 'The baccalaureate'\n",
       "\\item 'High school'\n",
       "\\item 'The baccalaureate'\n",
       "\\item 'Some professional diploma no degree'\n",
       "\\item 'High school'\n",
       "\\item 'The baccalaureate'\n",
       "\\item 'The baccalaureate'\n",
       "\\item 'The baccalaureate'\n",
       "\\item 'Master\\textbackslash{}'s degree'\n",
       "\\item 'The baccalaureate'\n",
       "\\item 'The baccalaureate'\n",
       "\\item 'Master\\textbackslash{}'s degree'\n",
       "\\item 'High school'\n",
       "\\item 'High school'\n",
       "\\item 'The baccalaureate'\n",
       "\\item 'The baccalaureate'\n",
       "\\item 'High school'\n",
       "\\item 'The baccalaureate'\n",
       "\\item 'Master\\textbackslash{}'s degree'\n",
       "\\item 'Some professional diploma no degree'\n",
       "\\item 'Master\\textbackslash{}'s degree'\n",
       "\\item 'High school'\n",
       "\\item 'Some professional diploma no degree'\n",
       "\\item 'The baccalaureate'\n",
       "\\item 'Some professional diploma no degree'\n",
       "\\item 'Master\\textbackslash{}'s degree'\n",
       "\\item 'High school'\n",
       "\\item 'The baccalaureate'\n",
       "\\item 'The baccalaureate'\n",
       "\\item 'The baccalaureate'\n",
       "\\item 'Master\\textbackslash{}'s degree'\n",
       "\\item 'Some professional diploma no degree'\n",
       "\\item 'High school'\n",
       "\\item 'Master\\textbackslash{}'s degree'\n",
       "\\item 'The baccalaureate'\n",
       "\\item 'Master\\textbackslash{}'s degree'\n",
       "\\item 'High school'\n",
       "\\item 'High school'\n",
       "\\item 'Some professional diploma no degree'\n",
       "\\item 'High school'\n",
       "\\item 'Master\\textbackslash{}'s degree'\n",
       "\\item 'Master\\textbackslash{}'s degree'\n",
       "\\item 'High school'\n",
       "\\item 'Some professional diploma no degree'\n",
       "\\item 'Master\\textbackslash{}'s degree'\n",
       "\\item 'The baccalaureate'\n",
       "\\item 'Master\\textbackslash{}'s degree'\n",
       "\\item 'Some professional diploma no degree'\n",
       "\\item 'The baccalaureate'\n",
       "\\item 'Master\\textbackslash{}'s degree'\n",
       "\\item 'The baccalaureate'\n",
       "\\item 'The baccalaureate'\n",
       "\\item 'High school'\n",
       "\\item 'The baccalaureate'\n",
       "\\item 'The baccalaureate'\n",
       "\\item 'The baccalaureate'\n",
       "\\item 'Some professional diploma no degree'\n",
       "\\item 'High school'\n",
       "\\item 'The baccalaureate'\n",
       "\\item 'Some professional diploma no degree'\n",
       "\\item 'High school'\n",
       "\\item 'Master\\textbackslash{}'s degree'\n",
       "\\item 'High school'\n",
       "\\item 'The baccalaureate'\n",
       "\\item 'Some professional diploma no degree'\n",
       "\\item 'High school'\n",
       "\\item 'Master\\textbackslash{}'s degree'\n",
       "\\item 'Some professional diploma no degree'\n",
       "\\item 'Master\\textbackslash{}'s degree'\n",
       "\\item 'PhD or higher'\n",
       "\\item 'Some professional diploma no degree'\n",
       "\\item 'High school'\n",
       "\\item 'The baccalaureate'\n",
       "\\item 'Master\\textbackslash{}'s degree'\n",
       "\\item 'The baccalaureate'\n",
       "\\item 'Some professional diploma no degree'\n",
       "\\item 'Some professional diploma no degree'\n",
       "\\item 'High school'\n",
       "\\item 'High school'\n",
       "\\item 'Master\\textbackslash{}'s degree'\n",
       "\\item 'Master\\textbackslash{}'s degree'\n",
       "\\item 'The baccalaureate'\n",
       "\\item 'The baccalaureate'\n",
       "\\item 'High school'\n",
       "\\item 'The baccalaureate'\n",
       "\\end{enumerate*}\n"
      ],
      "text/markdown": [
       "1. 'Some professional diploma no degree'\n",
       "2. 'Master\\'s degree'\n",
       "3. 'High school'\n",
       "4. 'Master\\'s degree'\n",
       "5. 'Master\\'s degree'\n",
       "6. 'Master\\'s degree'\n",
       "7. 'Some professional diploma no degree'\n",
       "8. 'Master\\'s degree'\n",
       "9. 'The baccalaureate'\n",
       "10. 'Some professional diploma no degree'\n",
       "11. 'The baccalaureate'\n",
       "12. 'The baccalaureate'\n",
       "13. 'Elementary School'\n",
       "14. 'Some professional diploma no degree'\n",
       "15. 'High school'\n",
       "16. 'The baccalaureate'\n",
       "17. 'High school'\n",
       "18. 'The baccalaureate'\n",
       "19. 'Some professional diploma no degree'\n",
       "20. 'High school'\n",
       "21. 'The baccalaureate'\n",
       "22. 'The baccalaureate'\n",
       "23. 'The baccalaureate'\n",
       "24. 'Master\\'s degree'\n",
       "25. 'The baccalaureate'\n",
       "26. 'The baccalaureate'\n",
       "27. 'Master\\'s degree'\n",
       "28. 'High school'\n",
       "29. 'High school'\n",
       "30. 'The baccalaureate'\n",
       "31. 'The baccalaureate'\n",
       "32. 'High school'\n",
       "33. 'The baccalaureate'\n",
       "34. 'Master\\'s degree'\n",
       "35. 'Some professional diploma no degree'\n",
       "36. 'Master\\'s degree'\n",
       "37. 'High school'\n",
       "38. 'Some professional diploma no degree'\n",
       "39. 'The baccalaureate'\n",
       "40. 'Some professional diploma no degree'\n",
       "41. 'Master\\'s degree'\n",
       "42. 'High school'\n",
       "43. 'The baccalaureate'\n",
       "44. 'The baccalaureate'\n",
       "45. 'The baccalaureate'\n",
       "46. 'Master\\'s degree'\n",
       "47. 'Some professional diploma no degree'\n",
       "48. 'High school'\n",
       "49. 'Master\\'s degree'\n",
       "50. 'The baccalaureate'\n",
       "51. 'Master\\'s degree'\n",
       "52. 'High school'\n",
       "53. 'High school'\n",
       "54. 'Some professional diploma no degree'\n",
       "55. 'High school'\n",
       "56. 'Master\\'s degree'\n",
       "57. 'Master\\'s degree'\n",
       "58. 'High school'\n",
       "59. 'Some professional diploma no degree'\n",
       "60. 'Master\\'s degree'\n",
       "61. 'The baccalaureate'\n",
       "62. 'Master\\'s degree'\n",
       "63. 'Some professional diploma no degree'\n",
       "64. 'The baccalaureate'\n",
       "65. 'Master\\'s degree'\n",
       "66. 'The baccalaureate'\n",
       "67. 'The baccalaureate'\n",
       "68. 'High school'\n",
       "69. 'The baccalaureate'\n",
       "70. 'The baccalaureate'\n",
       "71. 'The baccalaureate'\n",
       "72. 'Some professional diploma no degree'\n",
       "73. 'High school'\n",
       "74. 'The baccalaureate'\n",
       "75. 'Some professional diploma no degree'\n",
       "76. 'High school'\n",
       "77. 'Master\\'s degree'\n",
       "78. 'High school'\n",
       "79. 'The baccalaureate'\n",
       "80. 'Some professional diploma no degree'\n",
       "81. 'High school'\n",
       "82. 'Master\\'s degree'\n",
       "83. 'Some professional diploma no degree'\n",
       "84. 'Master\\'s degree'\n",
       "85. 'PhD or higher'\n",
       "86. 'Some professional diploma no degree'\n",
       "87. 'High school'\n",
       "88. 'The baccalaureate'\n",
       "89. 'Master\\'s degree'\n",
       "90. 'The baccalaureate'\n",
       "91. 'Some professional diploma no degree'\n",
       "92. 'Some professional diploma no degree'\n",
       "93. 'High school'\n",
       "94. 'High school'\n",
       "95. 'Master\\'s degree'\n",
       "96. 'Master\\'s degree'\n",
       "97. 'The baccalaureate'\n",
       "98. 'The baccalaureate'\n",
       "99. 'High school'\n",
       "100. 'The baccalaureate'\n",
       "\n",
       "\n"
      ],
      "text/plain": [
       "  [1] \"Some professional diploma no degree\"\n",
       "  [2] \"Master's degree\"                    \n",
       "  [3] \"High school\"                        \n",
       "  [4] \"Master's degree\"                    \n",
       "  [5] \"Master's degree\"                    \n",
       "  [6] \"Master's degree\"                    \n",
       "  [7] \"Some professional diploma no degree\"\n",
       "  [8] \"Master's degree\"                    \n",
       "  [9] \"The baccalaureate\"                  \n",
       " [10] \"Some professional diploma no degree\"\n",
       " [11] \"The baccalaureate\"                  \n",
       " [12] \"The baccalaureate\"                  \n",
       " [13] \"Elementary School\"                  \n",
       " [14] \"Some professional diploma no degree\"\n",
       " [15] \"High school\"                        \n",
       " [16] \"The baccalaureate\"                  \n",
       " [17] \"High school\"                        \n",
       " [18] \"The baccalaureate\"                  \n",
       " [19] \"Some professional diploma no degree\"\n",
       " [20] \"High school\"                        \n",
       " [21] \"The baccalaureate\"                  \n",
       " [22] \"The baccalaureate\"                  \n",
       " [23] \"The baccalaureate\"                  \n",
       " [24] \"Master's degree\"                    \n",
       " [25] \"The baccalaureate\"                  \n",
       " [26] \"The baccalaureate\"                  \n",
       " [27] \"Master's degree\"                    \n",
       " [28] \"High school\"                        \n",
       " [29] \"High school\"                        \n",
       " [30] \"The baccalaureate\"                  \n",
       " [31] \"The baccalaureate\"                  \n",
       " [32] \"High school\"                        \n",
       " [33] \"The baccalaureate\"                  \n",
       " [34] \"Master's degree\"                    \n",
       " [35] \"Some professional diploma no degree\"\n",
       " [36] \"Master's degree\"                    \n",
       " [37] \"High school\"                        \n",
       " [38] \"Some professional diploma no degree\"\n",
       " [39] \"The baccalaureate\"                  \n",
       " [40] \"Some professional diploma no degree\"\n",
       " [41] \"Master's degree\"                    \n",
       " [42] \"High school\"                        \n",
       " [43] \"The baccalaureate\"                  \n",
       " [44] \"The baccalaureate\"                  \n",
       " [45] \"The baccalaureate\"                  \n",
       " [46] \"Master's degree\"                    \n",
       " [47] \"Some professional diploma no degree\"\n",
       " [48] \"High school\"                        \n",
       " [49] \"Master's degree\"                    \n",
       " [50] \"The baccalaureate\"                  \n",
       " [51] \"Master's degree\"                    \n",
       " [52] \"High school\"                        \n",
       " [53] \"High school\"                        \n",
       " [54] \"Some professional diploma no degree\"\n",
       " [55] \"High school\"                        \n",
       " [56] \"Master's degree\"                    \n",
       " [57] \"Master's degree\"                    \n",
       " [58] \"High school\"                        \n",
       " [59] \"Some professional diploma no degree\"\n",
       " [60] \"Master's degree\"                    \n",
       " [61] \"The baccalaureate\"                  \n",
       " [62] \"Master's degree\"                    \n",
       " [63] \"Some professional diploma no degree\"\n",
       " [64] \"The baccalaureate\"                  \n",
       " [65] \"Master's degree\"                    \n",
       " [66] \"The baccalaureate\"                  \n",
       " [67] \"The baccalaureate\"                  \n",
       " [68] \"High school\"                        \n",
       " [69] \"The baccalaureate\"                  \n",
       " [70] \"The baccalaureate\"                  \n",
       " [71] \"The baccalaureate\"                  \n",
       " [72] \"Some professional diploma no degree\"\n",
       " [73] \"High school\"                        \n",
       " [74] \"The baccalaureate\"                  \n",
       " [75] \"Some professional diploma no degree\"\n",
       " [76] \"High school\"                        \n",
       " [77] \"Master's degree\"                    \n",
       " [78] \"High school\"                        \n",
       " [79] \"The baccalaureate\"                  \n",
       " [80] \"Some professional diploma no degree\"\n",
       " [81] \"High school\"                        \n",
       " [82] \"Master's degree\"                    \n",
       " [83] \"Some professional diploma no degree\"\n",
       " [84] \"Master's degree\"                    \n",
       " [85] \"PhD or higher\"                      \n",
       " [86] \"Some professional diploma no degree\"\n",
       " [87] \"High school\"                        \n",
       " [88] \"The baccalaureate\"                  \n",
       " [89] \"Master's degree\"                    \n",
       " [90] \"The baccalaureate\"                  \n",
       " [91] \"Some professional diploma no degree\"\n",
       " [92] \"Some professional diploma no degree\"\n",
       " [93] \"High school\"                        \n",
       " [94] \"High school\"                        \n",
       " [95] \"Master's degree\"                    \n",
       " [96] \"Master's degree\"                    \n",
       " [97] \"The baccalaureate\"                  \n",
       " [98] \"The baccalaureate\"                  \n",
       " [99] \"High school\"                        \n",
       "[100] \"The baccalaureate\"                  "
      ]
     },
     "metadata": {},
     "output_type": "display_data"
    }
   ],
   "source": [
    "ekstraktati te redove vanka, modificirati ih i onda nalijepiti nazad"
   ]
  },
  {
   "cell_type": "markdown",
   "metadata": {},
   "source": [
    "## Reference i dodatna literatura."
   ]
  },
  {
   "cell_type": "markdown",
   "metadata": {},
   "source": [
    "[Grolemund, G. i Wickham, H. *R for data science*. O'Reilly Media, Inc.](https://r4ds.had.co.nz/)\n",
    "\n",
    "[Michael Crawley (2012). *The R Book*.](https://www.cs.upc.edu/~robert/teaching/estadistica/TheRBook.pdf)\n",
    "\n",
    "Pipe\n",
    "- https://cran.r-project.org/web/packages/magrittr/vignettes/magrittr.html\n",
    "- http://r4ds.had.co.nz/pipes.html\n",
    "\n",
    "Regularni izrazi\n",
    "- [jako dobar šalabahter](https://remram44.github.io/regex-cheatsheet/regex.html)\n",
    "- [još jedan](http://www.rexegg.com/regex-quickstart.html)\n",
    "- [stranica koja omogućuje isprobavanje različitih uzoraka na tekstu](https://regexr.com/)\n",
    "- [uvod u `stringr`](https://cran.r-project.org/web/packages/stringr/vignettes/stringr.html)\n",
    "\n",
    "Data wrangling (dplyr i srodno):\n",
    "- [prvi od četiri dijela (linkovi na druge na dnu stranice) blogova o formatiranju podataka](https://suzanbaert.netlify.com/2018/01/dplyr-tutorial-1/)\n",
    "\n",
    "Korisni savjeti za organizaciju podataka u tablicama\n",
    "- Broman, K. W., & Woo, K. H. (2018). Data organization in spreadsheets. *The American Statistician, 72*(1), 2–10.\n",
    "\n",
    "`naniar`:\n",
    "- [intro](https://cran.r-project.org/web/packages/naniar/vignettes/getting-started-w-naniar.html)\n",
    "- [galerija vizualizacija](https://cran.r-project.org/web/packages/naniar/vignettes/naniar-visualisation.html)\n",
    "\n",
    "Šalabahteri (obavezno skinuti!)\n",
    "- [obavezno!](https://www.rstudio.com/resources/cheatsheets/)\n",
    "\n",
    "Pretvaranje `.sav` fileova u `.csv`\n",
    "- https://pspp.benpfaff.org/"
   ]
  },
  {
   "cell_type": "markdown",
   "metadata": {},
   "source": [
    "## Epilog"
   ]
  },
  {
   "cell_type": "code",
   "execution_count": null,
   "metadata": {},
   "outputs": [],
   "source": [
    "sessionInfo() "
   ]
  }
 ],
 "metadata": {
  "jupytext": {},
  "kernelspec": {
   "display_name": "R 3.5",
   "language": "R",
   "name": "ir35"
  },
  "language_info": {
   "codemirror_mode": "r",
   "file_extension": ".r",
   "mimetype": "text/x-r-source",
   "name": "R",
   "pygments_lexer": "r",
   "version": "3.5.1"
  }
 },
 "nbformat": 4,
 "nbformat_minor": 2
}
