{
 "cells": [
  {
   "cell_type": "markdown",
   "metadata": {},
   "source": [
    "# Rdionica: priprema datoteke `podaci_upitnik.csv` za obradu"
   ]
  },
  {
   "cell_type": "code",
   "execution_count": 1,
   "metadata": {},
   "outputs": [],
   "source": [
    "options(repr.matrix.max.cols = 120, repr.matrix.max.rows = 500,\n",
    "       repr.plot.height = 4, repr.plot.width = 4)"
   ]
  },
  {
   "cell_type": "code",
   "execution_count": null,
   "metadata": {},
   "outputs": [],
   "source": [
    "install.packages(c('janitor', 'psych', 'here', 'wrapr', 'conflicted'))"
   ]
  },
  {
   "cell_type": "markdown",
   "metadata": {},
   "source": [
    "U ovom dijelu radionice proći ćemo put od sirovih podataka do podataka na kojima možemo provesti analizu.\n",
    "\n",
    "Prije nego što se bacimo na učitavanje i proučavanje sirovih podataka, učitat ćemo pakete koje ćemo koristiti.\n",
    "\n",
    "Pakete učitavamo pozivanjem funkcije `library`, koja kao argument prima ime **jednog** paketa."
   ]
  },
  {
   "cell_type": "code",
   "execution_count": 2,
   "metadata": {},
   "outputs": [
    {
     "name": "stderr",
     "output_type": "stream",
     "text": [
      "── Attaching packages ─────────────────────────────────────── tidyverse 1.2.1 ──\n",
      "✔ ggplot2 3.0.0     ✔ purrr   0.2.5\n",
      "✔ tibble  1.4.2     ✔ dplyr   0.7.7\n",
      "✔ tidyr   0.8.1     ✔ stringr 1.3.1\n",
      "✔ readr   1.1.1     ✔ forcats 0.3.0\n",
      "── Conflicts ────────────────────────────────────────── tidyverse_conflicts() ──\n",
      "✖ dplyr::filter() masks stats::filter()\n",
      "✖ dplyr::lag()    masks stats::lag()\n",
      "\n",
      "Attaching package: ‘magrittr’\n",
      "\n",
      "The following object is masked from ‘package:purrr’:\n",
      "\n",
      "    set_names\n",
      "\n",
      "The following object is masked from ‘package:tidyr’:\n",
      "\n",
      "    extract\n",
      "\n",
      "here() starts at /home/denis/Documents/rdionica\n"
     ]
    }
   ],
   "source": [
    "# skupina paketa koja sadrži većinu paketa koje\n",
    "# ćemo koristiti za baratanje podacima\n",
    "library(tidyverse)\n",
    "\n",
    "# paket koji sadrži 'pipe' operatore\n",
    "library(magrittr)\n",
    "\n",
    "# upozorava na konflikte u imenima funkcija\n",
    "# koji se javljaju kad više paketa koristi isto\n",
    "# ime\n",
    "library(conflicted)\n",
    "\n",
    "# omogućava učitavanje .SAV fielova\n",
    "library(foreign)\n",
    "\n",
    "# paket koji sadrži neke zgodne olakšice\n",
    "library(wrapr)\n",
    "\n",
    "# olakšava korištenje relativnih file pathova\n",
    "library(here)"
   ]
  },
  {
   "cell_type": "markdown",
   "metadata": {},
   "source": [
    "## Učitavanje podatka"
   ]
  },
  {
   "cell_type": "markdown",
   "metadata": {},
   "source": [
    "Za početak, pogledat ćemo kako izgledaju naši sirovi podaci.\n",
    "\n",
    "A da bismo to učinili, prvo ih moramo učitati u R.\n",
    "\n",
    "Pogledat ćemo kako učitati tri vrste datoteka: SPSS-ov `.sav`, Excelov `.xls/xlsx` te generički *comma separated values* file - `.csv`."
   ]
  },
  {
   "cell_type": "markdown",
   "metadata": {},
   "source": [
    "### SPSS - .sav"
   ]
  },
  {
   "cell_type": "markdown",
   "metadata": {},
   "source": [
    "### Excel - .xls(x)"
   ]
  },
  {
   "cell_type": "markdown",
   "metadata": {},
   "source": [
    "### Comma separated values - .csv"
   ]
  },
  {
   "cell_type": "markdown",
   "metadata": {},
   "source": [
    "*Comma separeted value* datoteke su točno to što ime kaže - podaci koji su strukturirani kao vrijednosti odvojene zarezima, gdje se svaki unos (na primjer sudionik) nalazi u zasebnom redu, a vrijednosti varijabli koje su uz njega povezane ispisane su redom i odvojene su zarezima."
   ]
  },
  {
   "cell_type": "markdown",
   "metadata": {},
   "source": [
    "U prvom redu (koji funkcije u R-u često nazivaju **header**) obično se nalaze imena varijabli, a u ostalim redovima su njihove vrijednosti.\n",
    "\n",
    "Ovako izgledaju prva dva reda i prvih nekoliko stupaca datoteke `podaci_upitnik.csv`:\n",
    "\n",
    "```\n",
    "attitudesAndNorms01,attitudesAndNorms02,attitudesAndNorms03, ...\n",
    "5,5,5,5,4, ...\n",
    "```"
   ]
  },
  {
   "cell_type": "markdown",
   "metadata": {},
   "source": [
    "Podatke u `.csv` formatu možemo učitati pomoću funkcije `read_csv` iz `readr` paketa (koji je automatski učitan kad smo učitali `tidyverse`). Osnovni (base) R ima funkciju `read.csv` koja obavlja isti zadatak, ali neki R developeri preporučuju korištenje `read_csv` funkcije (na primjer, Hadley Wickham i Garret Grolemund: http://r4ds.had.co.nz/import.html)."
   ]
  },
  {
   "cell_type": "markdown",
   "metadata": {},
   "source": [
    "U skladu s tom preporukom, koristit ćemo `read_csv`. Podatke iz datoteke `podaci_upitnik.csv` možemo učitati ovako:"
   ]
  },
  {
   "cell_type": "code",
   "execution_count": 3,
   "metadata": {},
   "outputs": [
    {
     "name": "stderr",
     "output_type": "stream",
     "text": [
      "Parsed with column specification:\n",
      "cols(\n",
      "  .default = col_integer(),\n",
      "  pi_education = col_character(),\n",
      "  pi_gender = col_character(),\n",
      "  pi_ideology = col_character(),\n",
      "  pi_income = col_character(),\n",
      "  pi_nationality = col_character(),\n",
      "  pi_previousDonations = col_character()\n",
      ")\n",
      "See spec(...) for full column specifications.\n"
     ]
    }
   ],
   "source": [
    "podaci <- read_csv(file = here('podaci', 'podaci_upitnik.csv'))"
   ]
  },
  {
   "cell_type": "markdown",
   "metadata": {},
   "source": [
    "Poruka koju dobivamo obavještava nas o tome kako su određene varijable reprezentirane. Vidimo da su varijable koje počinju s `pi` reprezentirane kao `character`. Ako pozovemo funkciju `spec`, vidjet ćemo specifikacije svih varijabli.\n",
    "\n",
    "Budući da pozivanjem funkcije `str` zapravo dobivamo manje-više iste podatke, pozvat ćemo samo nju. Njen output pomoći će nam da vidimo jesu li podaci reprezentirani onako kako bismo očekivali."
   ]
  },
  {
   "cell_type": "code",
   "execution_count": null,
   "metadata": {},
   "outputs": [],
   "source": [
    "str(podaci)"
   ]
  },
  {
   "cell_type": "markdown",
   "metadata": {},
   "source": [
    "Obrisat ćemo specifikacije varijabli da ne zakrčuju output."
   ]
  },
  {
   "cell_type": "markdown",
   "metadata": {},
   "source": [
    "Funkcije `head` i `tail` omogućuju nam da na brzinu vidimo (po defaultu) prvih 6 odnosno posljednjih 6 redova tablice."
   ]
  },
  {
   "cell_type": "code",
   "execution_count": 4,
   "metadata": {},
   "outputs": [],
   "source": [
    "attr(podaci, 'spec') <- NULL"
   ]
  },
  {
   "cell_type": "code",
   "execution_count": null,
   "metadata": {},
   "outputs": [],
   "source": [
    "head(podaci)"
   ]
  },
  {
   "cell_type": "code",
   "execution_count": null,
   "metadata": {},
   "outputs": [],
   "source": [
    "tail(podaci, 3)"
   ]
  },
  {
   "cell_type": "markdown",
   "metadata": {},
   "source": [
    "Ove funkcije pomažu nam pri pregledavanju strukture podataka i njihovih sirovih vrijednosti.\n",
    "\n",
    "Osnovnu deskriptivnu statistiku možemo dobiti pomoću generičke funkcije `summary`. Generičke funkcije primaju objekte različitih tipova, a njihov output ovisi o tipu objekta. Primjerice, ako u `summary` stavimo `data.frame`, dobit ćemo grubu deskriptivnu statistiku njegovih stupaca. Ako u funkciju stavimo regresijski model, dobit ćemo informacije o modelu.\n",
    "\n",
    "Dobro je znati i za funkciju `describe` iz paketa `psych`, koja daje dosta detaljniju deskriptivnu statistiku numeričkih varijabli."
   ]
  },
  {
   "cell_type": "markdown",
   "metadata": {},
   "source": [
    "Idemo vidjeti output tih dviju funkcija kad u nju stavimo neke numeričke i neke kategorijalne (`factor`) stupce iz našeg `data.framea` `podaci`."
   ]
  },
  {
   "cell_type": "code",
   "execution_count": null,
   "metadata": {},
   "outputs": [],
   "source": [
    "summary(podaci[, wrapr::qc(attitudesAndNorms01, pi_education, pi_gender)])"
   ]
  },
  {
   "cell_type": "markdown",
   "metadata": {},
   "source": [
    "Vidimo tri stvari: (1) `summary` nije pretjerano koristan za varijable koje su tipa `character` i (2-3) pojavili su se nova sintaksa i nova funkcija."
   ]
  },
  {
   "cell_type": "markdown",
   "metadata": {},
   "source": [
    "`qc` je funkcija iz paketa `wrapr` koja nas oslobađa pisanja navodnika pri korištenju funkcije `c`. `qc` je, dakle, *quoted combine*."
   ]
  },
  {
   "cell_type": "markdown",
   "metadata": {},
   "source": [
    "Korištenjem `::` sintakse označili smo da je funkcija `qc` iz paketa `wrapr`. Pri pozivanju funkcija iz drugih paketa **nije nužno** pisati `::`; to smo vidjeli i kod pozivanja funkcije `read_csv` iz paketa `readr`.\n",
    "\n",
    "Ipak, važno je znati tu sintaksu iz dva razloga."
   ]
  },
  {
   "cell_type": "markdown",
   "metadata": {},
   "source": [
    "Prvo, korištenjem `::` možemo pozvati funkciju iz paketa koji prethodno nismo učitali (što ćemo vidjeti pri pozivanju funkcije `describe`."
   ]
  },
  {
   "cell_type": "markdown",
   "metadata": {},
   "source": [
    "Drugo, u slučaju da dva paketa imaju funkcije koje se jednako zovu, `::` nam omogućava da specificiramo koju funkciju želimo pozvati. Budući da smo učitali paket `conflicted`, R će nas upozoriti ako dođe do konflikta te nas tražiti da specificiramo koju funkciju hoćemo pozvati, koristeći `::`."
   ]
  },
  {
   "cell_type": "markdown",
   "metadata": {},
   "source": [
    "Sad ćemo pogledati output funkcije `describe` na tim istim varijablama.\n",
    "\n",
    "Nastavit ću koristiti `::` notaciju tako da bude jasno iz kojeg paketa dolazi koja funkcija (osim ako je spomenuto u tekstu ili ako je funkcija iz base R-a)."
   ]
  },
  {
   "cell_type": "markdown",
   "metadata": {},
   "source": [
    "**BAM-BAM PIPE**"
   ]
  },
  {
   "cell_type": "code",
   "execution_count": null,
   "metadata": {},
   "outputs": [],
   "source": [
    "podaci %>%\n",
    "dplyr::select(attitudesAndNorms01, pi_education, pi_gender) %>%\n",
    "psych::describe(.)"
   ]
  },
  {
   "cell_type": "markdown",
   "metadata": {},
   "source": [
    "I dalje nije korisno za `character` varijable, ali omogućava digresiju u svijet pipa."
   ]
  },
  {
   "cell_type": "markdown",
   "metadata": {},
   "source": [
    "## Pipe"
   ]
  },
  {
   "cell_type": "markdown",
   "metadata": {},
   "source": [
    "Pipe su posebni operatori iz `magrittr` paketa. One omogućavaju kraće i, često, razumljivije pisanje koda.\n",
    "\n",
    "Pipa uzima output izraza sa svoje lijeve strane i daje ga kao argument funkciji na svojoj desnoj strani."
   ]
  },
  {
   "cell_type": "markdown",
   "metadata": {},
   "source": [
    "Osnovna pipa je `%>%`. Ona se nalazi i u paketu `dplyr` (koji se učitava kad učitamo `tidyverse`) i u paketu `magrittr`. Posebno smo učitali `magrittr` jer s njim dolaze i neke pipe kojih nema u `dplyru`."
   ]
  },
  {
   "cell_type": "markdown",
   "metadata": {},
   "source": [
    "Sad ćemo proći kroz pipe koje `magrittr` nudi."
   ]
  },
  {
   "cell_type": "markdown",
   "metadata": {},
   "source": [
    "### %>%"
   ]
  },
  {
   "cell_type": "markdown",
   "metadata": {},
   "source": [
    "Kao što je rečeno, ovo je osnovna pipa. Ona uzima output izraza s lijeve strane i koristi ga kao input za izraz s desne strane.\n",
    "\n",
    "Dakle:"
   ]
  },
  {
   "cell_type": "code",
   "execution_count": null,
   "metadata": {},
   "outputs": [],
   "source": [
    "(2 + 2) %>% sqrt(.)\n",
    "\n",
    "(2 + 2) %>% sqrt()\n",
    "\n",
    "(2 + 2) %>% sqrt\n",
    "\n",
    "sqrt(2 + 2)"
   ]
  },
  {
   "cell_type": "markdown",
   "metadata": {},
   "source": [
    "Trenutačno ne izgleda kao neka ušteda, što je u redu. Kasnije ćemo vidjeti primjere u kojima su pipe dosta zgodnije.\n",
    "\n",
    "Kod korištenja pipa, `.` označava output iz funkcije s lijeve strane. Po defaultu, pipa će točku staviti na mjesto prvog argumenta. Takav default uglavnom jako dobro funkcionira s funkcijama iz `tidyversea` jer one imaju dosta uniformnu sintaksu, koja je prilagođena za pipe."
   ]
  },
  {
   "cell_type": "markdown",
   "metadata": {},
   "source": [
    "Ipak, nekad takvo ponašanje nije poželjno. Pokušajmo grafirati dva brojčana vektora - jedan od njih ćemo spremiti u varijablu, a drugi ćemo direktno dati pipi."
   ]
  },
  {
   "cell_type": "code",
   "execution_count": null,
   "metadata": {},
   "outputs": [],
   "source": [
    "# ova vrijednost treba ići na x os\n",
    "x <- 1:10\n",
    "\n",
    "# vektor koji ćemo sad stvoriti treba ići na y os\n",
    "# ovaj kod jednak je ovom -> 11:20 %>% plot(., x)\n",
    "# plot je također generička funkcija\n",
    "11:20 %>% plot(x)"
   ]
  },
  {
   "cell_type": "markdown",
   "metadata": {},
   "source": [
    "Vidimo da je pipa stavila svoje vrijednosti na prvo mjesto, a time i na x os. Da bismo spriječili takvo defaultno ponašanje pipe, izraz s desne strane možemo staviti u vitičaste zagrade (`{}`)."
   ]
  },
  {
   "cell_type": "code",
   "execution_count": null,
   "metadata": {},
   "outputs": [],
   "source": [
    "11:20 %>% {plot(x, .)}"
   ]
  },
  {
   "cell_type": "markdown",
   "metadata": {},
   "source": [
    "Sad ćemo `x` staviti u `data.frame` i pridružiti mu `y`."
   ]
  },
  {
   "cell_type": "code",
   "execution_count": null,
   "metadata": {},
   "outputs": [],
   "source": [
    "za_graf <- data.frame(x = 1:10, y = 11:20)\n",
    "\n",
    "str(za_graf)"
   ]
  },
  {
   "cell_type": "markdown",
   "metadata": {},
   "source": [
    "Ponovno ćemo pokušati plotati vrijednosti tako što `za_graf` stavimo u pipu."
   ]
  },
  {
   "cell_type": "code",
   "execution_count": null,
   "metadata": {},
   "outputs": [],
   "source": [
    "za_graf %>% plot()"
   ]
  },
  {
   "cell_type": "markdown",
   "metadata": {},
   "source": [
    "Da bismo zamijenili osi, možemo učiniti sljedeće:"
   ]
  },
  {
   "cell_type": "code",
   "execution_count": null,
   "metadata": {},
   "outputs": [],
   "source": [
    "za_graf %>% plot(.$y, .$x)"
   ]
  },
  {
   "cell_type": "markdown",
   "metadata": {},
   "source": [
    "To jest, ne možemo jer se gornji kod interpretira kao\n",
    "```\n",
    "za_graf %>% plot(., .$y, .$x)\n",
    "```"
   ]
  },
  {
   "cell_type": "markdown",
   "metadata": {},
   "source": [
    "Dakle, ponovno možemo izraz s desne strane opkoliti vitičastim zagradama."
   ]
  },
  {
   "cell_type": "code",
   "execution_count": null,
   "metadata": {},
   "outputs": [],
   "source": [
    "za_graf %>% {plot(.$y, .$x)}"
   ]
  },
  {
   "cell_type": "markdown",
   "metadata": {},
   "source": [
    "Da se smanje takve konfuzije, neki preporučuju da se `.` uvijek piše, tako da je to praksa koju ćemo ovdje usvojiti.\n",
    "\n",
    "No, osim zatvaranja izraza s desne strane u zagrade, možemo iskoristiti jednu drugu pipu."
   ]
  },
  {
   "cell_type": "markdown",
   "metadata": {},
   "source": [
    "### %$%"
   ]
  },
  {
   "cell_type": "markdown",
   "metadata": {},
   "source": [
    "`%$%` je *variable exposition* pipa. Ona nam daje direktan pristup varijablama koje se nalaze u objektu kojim baratamo.\n",
    "\n",
    "Gornji problem mogli bismo riješiti i ovako:"
   ]
  },
  {
   "cell_type": "code",
   "execution_count": null,
   "metadata": {},
   "outputs": [],
   "source": [
    "za_graf %$% plot(y, x)"
   ]
  },
  {
   "cell_type": "markdown",
   "metadata": {},
   "source": [
    "Možemo kombinirati različite pipe. Na primjer:"
   ]
  },
  {
   "cell_type": "code",
   "execution_count": null,
   "metadata": {},
   "outputs": [],
   "source": [
    "1:10 %>% data.frame(a = ., b = 11:20) %$% plot(b, a)"
   ]
  },
  {
   "cell_type": "markdown",
   "metadata": {},
   "source": [
    "U gornjem primjeru bi nam možda bilo zgodno da možemo pogledati strukturu `data.framea` nakon što ga stvorimo ili napraviti još neke operacije nakon što plotamo varijable.\n",
    "\n",
    "Na sreću, imamo pipu i za to."
   ]
  },
  {
   "cell_type": "markdown",
   "metadata": {},
   "source": [
    "### %T>%"
   ]
  },
  {
   "cell_type": "markdown",
   "metadata": {},
   "source": [
    "T-pipa (izvorno *tee*) vraća izraz s lijeve strane umjesto izraza s desne strane. Zbog toga, možemo učiniti sljedeće:"
   ]
  },
  {
   "cell_type": "code",
   "execution_count": null,
   "metadata": {},
   "outputs": [],
   "source": [
    "1:10 %>% data.frame(a = ., b = 11:20) %T>% str %$% plot(b, a)"
   ]
  },
  {
   "cell_type": "code",
   "execution_count": null,
   "metadata": {},
   "outputs": [],
   "source": [
    "1:10 %>% data.frame(a = ., b = 11:20) %T>%\n",
    "{plot(.$b, .$a)} %$%\n",
    "sum(a,b)"
   ]
  },
  {
   "cell_type": "markdown",
   "metadata": {},
   "source": [
    "Preostaje nam još jedna pipa..."
   ]
  },
  {
   "cell_type": "markdown",
   "metadata": {},
   "source": [
    "### %<>%"
   ]
  },
  {
   "cell_type": "markdown",
   "metadata": {},
   "source": [
    "`%<>%` je *assignment* pipa. Ona istovremeno uzima i piše u vrijednost s lijeve strane. To nam omogućuje da neku varijablu provučemo kroz seriju transformacijskih koraka."
   ]
  },
  {
   "cell_type": "code",
   "execution_count": null,
   "metadata": {},
   "outputs": [],
   "source": [
    "za_graf$x %<>% magrittr::add(., 2) %>%\n",
    "magrittr::multiply_by(., 2) %>% sqrt(.)\n",
    "\n",
    "str(za_graf)"
   ]
  },
  {
   "cell_type": "markdown",
   "metadata": {},
   "source": [
    "Ovime završavamo upoznavanje s pipama. Nakratko se vraćamo natrag na primjer s funkcijom `describe`, nakon čega ponovno odlazimo u uzbudljivu digresiju."
   ]
  },
  {
   "cell_type": "markdown",
   "metadata": {},
   "source": [
    "## dplyr::select i dplyr::filter"
   ]
  },
  {
   "cell_type": "markdown",
   "metadata": {},
   "source": [
    "Već smo ranije vidjeli funkciju `select`, koja nam je omogućila da izaberemo 3 od 64 stupca iz `data.framea` `podaci`. Za odabiranje pojedinih redova koji zadovoljavaju određeni logički izraz možemo koristiti funkciju `filter`.\n",
    "\n",
    "Sad ćemo prikazati deskriptivnu statistiku za pitanja koja tvore jednu od skala koja se nalazi u našim podacima - skalu internalizacije moralnog identiteta - samo na poduzorku žena."
   ]
  },
  {
   "cell_type": "markdown",
   "metadata": {},
   "source": [
    "Sve varijable koje se odnose na tu skalu imaju ime oblika `moralIdentityInternalization<broj-pitanja>`. Zbog tog sustavnog imenovanja, ne moramo ispisivati imena (ili redne brojeve) svih varijabli koje želimo zahvatiti funkcijom `describe`, nego možemo pozvati funkciju `contains` unutar funkcije `select`."
   ]
  },
  {
   "cell_type": "markdown",
   "metadata": {},
   "source": [
    "`contains` na omogućuje da odaberemo samo one varijable koje sadrže zadani string."
   ]
  },
  {
   "cell_type": "code",
   "execution_count": null,
   "metadata": {},
   "outputs": [],
   "source": [
    "podaci %>%\n",
    "dplyr::filter(., pi_gender == 'Female') %>%\n",
    "dplyr::select(., contains('internal', ignore.case = T)) %T>% str(.) %>%\n",
    "psych::describe(.)"
   ]
  },
  {
   "cell_type": "code",
   "execution_count": null,
   "metadata": {},
   "outputs": [],
   "source": [
    "# base R rješenje za usporedbu\n",
    "psych::describe(podaci[podaci$pi_gender == 'Female', qc(moralIdentityInternalization01,\n",
    "                                                moralIdentityInternalization02,\n",
    "                                                moralIdentityInternalization03,\n",
    "                                                moralIdentityInternalization04,\n",
    "                                                moralIdentityInternalization05)])"
   ]
  },
  {
   "cell_type": "markdown",
   "metadata": {},
   "source": [
    "`contains` je jedna od nekoliko pomoćnih funkcija koje su super za `select`. Druge su:\n",
    "- `starts_with`, koja odabire varijable koje počinju s određenim stringom\n",
    "- `ends_with`, isto, samo za kraj\n",
    "- `one_of`, koju treba koristiti kad `selectu` dajemo `character` vektor\n",
    "- `matches`, koji nam omogućava da odaberemo varijable čija imena odgovaraju nekom **regularnom izrazu**"
   ]
  },
  {
   "cell_type": "markdown",
   "metadata": {},
   "source": [
    "## Regularni izrazi"
   ]
  },
  {
   "cell_type": "markdown",
   "metadata": {},
   "source": [
    "Regularni izrazi (eng. *regular expressions*, *regex* ili *regexp*) su stringovi koji označavaju neki uzorak za pretraživanje. Na primjer, sve ove izraze\n",
    "```\n",
    "string\n",
    "striing\n",
    "striiing\n",
    "striiiiiiiiiiiiiiiiing\n",
    "```\n",
    "možemo opisati stringom `stri*ng`. Znak `*` (asterisk) je **kvantifikator** koji označava *nula ili više ponavljanja prethodnog znaka*. To znači da bi taj regularni izraz pronašao i string `strng`.\n",
    "\n",
    "Uz razne kvantifikatore, postoje još i klase znakova te meta-znakovi koji nam omogućavaju lako pretraživanje stringova.\n",
    "\n",
    "Regexi su implementirani u base R-u (npr. funkcije `grep` i `grepl`) i u `tidyverseu` kroz paket `stringr`. Mi ćemo se baviti `stringrom`. Budući da postoje razne implementacije regularnih izraza, koje se razlikuju po kompleksnosti, bitno je znati da `stringr` koristi **Perl/PCRE** regularne izraze.\n",
    "\n",
    "U ovom dijelu ćemo pogledati osnove regularnih izraza, koje ćemo nadograđivati kroz ostatak radionice."
   ]
  },
  {
   "cell_type": "markdown",
   "metadata": {},
   "source": [
    "### Kvantifikatori"
   ]
  },
  {
   "cell_type": "markdown",
   "metadata": {},
   "source": [
    "#### *"
   ]
  },
  {
   "cell_type": "markdown",
   "metadata": {},
   "source": [
    "Kao što je već rečeno, `*` označava **0 ili više** ponavljanja **znaka** koji mu prethodi. *Znak* se ovdje odnosi na doslovni znak, na klasu znakova ili na grupu znakova. S klasama i grupama ćemo se upoznati malo kasnije.\n",
    "\n",
    "Pogledat ćemo output funkcije `str_detect` koja kao input uzima string (ili više njih) i regularni izraz (`pattern`), a vraća `TRUE` ili `FALSE` ovisno o tome nalazi li se regularni izraz u stringu ili ne."
   ]
  },
  {
   "cell_type": "code",
   "execution_count": null,
   "metadata": {},
   "outputs": [],
   "source": [
    "stringr::str_detect(string = qc(kobilaaaa, maajka, celer), pattern = 'a*') %>% print"
   ]
  },
  {
   "cell_type": "markdown",
   "metadata": {},
   "source": [
    "#### +"
   ]
  },
  {
   "cell_type": "markdown",
   "metadata": {},
   "source": [
    "`+` označava **jedno (1) ili više** ponavljanja prethodnog znaka/klase znakova/grupe znakova.\n",
    "\n",
    "Pogledat ćemo što će nam vratiti funkcija `str_extract_all` koja prima iste argumente kao i `str_detect`, a vraća sve pronađene `patterne`."
   ]
  },
  {
   "cell_type": "code",
   "execution_count": null,
   "metadata": {},
   "outputs": [],
   "source": [
    "stringr::str_extract_all(string = qc(kobilaaaa, maajka, celer), pattern = 'a+') %>% print"
   ]
  },
  {
   "cell_type": "markdown",
   "metadata": {},
   "source": [
    "Postoji i funkcija `str_extract` koja vraća **samo prvi** pronađeni uzorak."
   ]
  },
  {
   "cell_type": "code",
   "execution_count": null,
   "metadata": {},
   "outputs": [],
   "source": [
    "stringr::str_extract(qc(kobilaaaa, maajka, celer), 'a+') %>% print"
   ]
  },
  {
   "cell_type": "markdown",
   "metadata": {},
   "source": [
    "Također, možemo vidjeti da `str_detect` više ne vraća `TRUE` za posljednju riječ."
   ]
  },
  {
   "cell_type": "code",
   "execution_count": null,
   "metadata": {},
   "outputs": [],
   "source": [
    "stringr::str_detect(qc(kobilaaaa, maajka, celer), 'a+') %>% print"
   ]
  },
  {
   "cell_type": "markdown",
   "metadata": {},
   "source": [
    "#### ?"
   ]
  },
  {
   "cell_type": "markdown",
   "metadata": {},
   "source": [
    "Upitnik označavao **0 ili jedno (1)** ponavljanje."
   ]
  },
  {
   "cell_type": "code",
   "execution_count": null,
   "metadata": {},
   "outputs": [],
   "source": [
    "qc(kobilaaaa, maajka, celer) %>%\n",
    "stringr::str_extract_all(., 'a?') %>%\n",
    "print"
   ]
  },
  {
   "cell_type": "markdown",
   "metadata": {},
   "source": [
    "#### {n,m}"
   ]
  },
  {
   "cell_type": "markdown",
   "metadata": {},
   "source": [
    "Ova sintaksa nam omogućava da specificiramo koliko ponavljanja želimo. Postoje tri valjane kombinacije:\n",
    "- `{n,m}` znači od `n` do `m`\n",
    "- `{n,}` znači `n` ili više\n",
    "- `{n}` znači točno `n`\n",
    "\n",
    "`{,m}` **nije valjan** regularni izraz! Također, bitno je da nema razmaka između `n` ili `m` i zareza."
   ]
  },
  {
   "cell_type": "markdown",
   "metadata": {},
   "source": [
    "Budući da je ovo posljednji kvantifikator, vratit ćemo se na početni primjer."
   ]
  },
  {
   "cell_type": "code",
   "execution_count": null,
   "metadata": {},
   "outputs": [],
   "source": [
    "qc(string, striing, striiing, striiiiiiiiiiiiiiiiing) %>%\n",
    "stringr::str_extract_all(., 'i{2,5}') %>% print"
   ]
  },
  {
   "cell_type": "code",
   "execution_count": null,
   "metadata": {},
   "outputs": [],
   "source": [
    "qc(string, striing, striiing, striiiiiiiiiiiiiiiiing) %>%\n",
    "stringr::str_extract_all(., 'i{3,}') %>% print"
   ]
  },
  {
   "cell_type": "code",
   "execution_count": null,
   "metadata": {},
   "outputs": [],
   "source": [
    "qc(string, striing, striiing, striiiiiiiiiiiiiiiiing) %>%\n",
    "stringr::str_extract_all(., 'i{17}') %>% print"
   ]
  },
  {
   "cell_type": "markdown",
   "metadata": {},
   "source": [
    "### Klase znakova"
   ]
  },
  {
   "cell_type": "markdown",
   "metadata": {},
   "source": [
    "Pretraživanja koja smo dosad vidjeli su jednostavna i jako umjetna. U stvarnim primjenama uglavnom nećemo pokušavati uhvatiti jedno slovo, nego znakove određenog tipa (kao što su brojke) ili određene skupine znakova (npr. brojeve 1, 7 ili 5). U te svrhe, koristimo **klase znakova**.\n",
    "\n",
    "NB: Klase znakova predstavljaju više mogućih znakova, ali **samo jedno mjesto**.\n",
    "\n",
    "Napravit ćemo mali `data.frame` koji se sastoji od dva stupca koja sadrže stringove."
   ]
  },
  {
   "cell_type": "code",
   "execution_count": null,
   "metadata": {},
   "outputs": [],
   "source": [
    "# ne možemo koristiti qc za mjesta zbog razmaka\n",
    "data.frame(mjesta = c('Slavonski Brod', 'BJELOVAR', 'Cista Provo', 'Banova Jaruga'),\n",
    "           tablice = qc(SB1152KF, BJ302LD, CP999LO, BN2001KA)) -> registracije"
   ]
  },
  {
   "cell_type": "markdown",
   "metadata": {},
   "source": [
    "Za početak, pokušat ćemo pronaći sve unose koji se sastoje od dvije riječi (to znači da ćemo isključiti BJELOVAR `:(`). Vidimo da sva mjesta koja se sastoje od dvije riječi imaju sljedeći uzorak: `[veliko slovo][nekoliko malih slova][razmak][veliko slovo][nekoliko malih slova]`. Koristeći regexe, možemo napraviti sljedeće:"
   ]
  },
  {
   "cell_type": "code",
   "execution_count": null,
   "metadata": {},
   "outputs": [],
   "source": [
    "registracije$mjesta %>%\n",
    "stringr::str_detect(., '^[[:upper:]][[:lower:]]+\\\\s[[:upper:]][[:lower:]]+')"
   ]
  },
  {
   "cell_type": "markdown",
   "metadata": {},
   "source": [
    "`^` (eng. *caret*) je meta-znak koji označava **početak stringa**. `[[:upper:]]` i `[[:lower:]]` su klase koje označavaju velika odnosno mala slova. `\\\\s` označava razmak (ostavljanje praznog mjesta također funkcionira). Dakle, obrazac koji tražimo mora počinjati s velikim slovom kojem slijedi jedno ili više malih slova.\n",
    "\n",
    "Drugi važan meta-znak je `$`, koji označava **kraj stringa**.\n",
    "\n",
    "NB: Ako želimo tražiti same meta-znakove (npr. u `$1551`), ispred njih moramo staviti `\\\\` (backslash x 2). Taj čin se zove *escaping*."
   ]
  },
  {
   "cell_type": "code",
   "execution_count": null,
   "metadata": {},
   "outputs": [],
   "source": [
    "c('$alaj', '€broj') %>%\n",
    "stringr::str_detect(., '\\\\$')"
   ]
  },
  {
   "cell_type": "markdown",
   "metadata": {},
   "source": [
    "Koristeći uglate zagrade, možemo sami definirati klasu znakova koja je prihvatljiva na nekom mjestu. Na primjer, možemo tražiti sva mjesta koja imaju dvije riječi i čija prva riječ počinje slovom B (velikim!) ili S (također!). Ovdje ćemo koristiti `str_subset`, koja vraća stringove koji sadrže zadani obrazac."
   ]
  },
  {
   "cell_type": "code",
   "execution_count": null,
   "metadata": {},
   "outputs": [],
   "source": [
    "registracije$mjesta %>%\n",
    "stringr::str_subset(., '^[SB][[:lower:]]+\\\\s[[:upper:]][[:lower:]]+')"
   ]
  },
  {
   "cell_type": "markdown",
   "metadata": {},
   "source": [
    "Možemo definirati i custom klasu znakova koji se **ne smiju** nalaziti na nekom mjestu. To radimo tako da na početak svoje klase stavimo znak `^` (`[^...]`). Na primjer, možemo tražiti stringove koji imaju dvije riječi, a čija prva riječ ne počinje slovom S ili B:"
   ]
  },
  {
   "cell_type": "code",
   "execution_count": null,
   "metadata": {},
   "outputs": [],
   "source": [
    "registracije$mjesta %>%\n",
    "stringr::str_subset(., '^[^SB].*')"
   ]
  },
  {
   "cell_type": "markdown",
   "metadata": {},
   "source": [
    "Točka je poseban znak u regularnim izrazima, a označava **bilo koji znak** (osim novog reda, što se u R-u označava s `\\\\n`). Budući da označava bilo što, `.` se zove *wildcard*."
   ]
  },
  {
   "cell_type": "markdown",
   "metadata": {},
   "source": [
    "Budući da klasa znakova ima razmjerno puno, proći ćemo još jednu koja se često javlja. Pokušat ćemo izvući samo one registracijske oznake (`tablice`) koje imaju tri znamenke."
   ]
  },
  {
   "cell_type": "code",
   "execution_count": null,
   "metadata": {},
   "outputs": [],
   "source": [
    "registracije$tablice %>%\n",
    "stringr::str_subset(., '[[:upper:]]{2}\\\\d{3}[[:upper:]]')"
   ]
  },
  {
   "cell_type": "markdown",
   "metadata": {},
   "source": [
    "Zasad ćemo proći još samo kroz grupe znakova."
   ]
  },
  {
   "cell_type": "markdown",
   "metadata": {},
   "source": [
    "### Grupe znakova"
   ]
  },
  {
   "cell_type": "markdown",
   "metadata": {},
   "source": [
    "Znakove možemo grupirati koristeći obične zagrade (`(...)`). Grupe spajaju znakove u jednu cjelinu. To nam, primjerice, omogućuje da ponavljajuće uzorke lako kvantificiramo.\n",
    "\n",
    "Na primjer, zamislimo da želimo izvući određene vrste smjehova iz nekih stringova."
   ]
  },
  {
   "cell_type": "code",
   "execution_count": null,
   "metadata": {},
   "outputs": [],
   "source": [
    "qc(hehehe, hehehohohehe, hahahahihi) %>%\n",
    "stringr::str_extract_all(., '(ha|he){2}') %>%\n",
    "print(.)"
   ]
  },
  {
   "cell_type": "markdown",
   "metadata": {},
   "source": [
    "Ovdje smo iskoristili i znak `|` (kod mene se nalazi na `CTRL-W` i zove se *pipe*), koji označava alternaciju, odnosno logičko ILI. Dakle, tražimo dva ponavljanja stringa `ha` ili dva ponavljanja stringa `he`.\n",
    "\n",
    "NB: Ne stavljati razmake oko alternatora jer će se to tumačiti kao razmak koji treba tražiti u stringu!"
   ]
  },
  {
   "cell_type": "markdown",
   "metadata": {},
   "source": [
    "Time završavamo digresivne tokove i bacamo se na borbu s podacima."
   ]
  },
  {
   "cell_type": "markdown",
   "metadata": {},
   "source": [
    "## Nastavak pripreme podataka"
   ]
  },
  {
   "cell_type": "markdown",
   "metadata": {},
   "source": [
    "Zasad smo pogledali strukturu podatka (`str`), kako izgledaju sirovi podaci (`head` i `tail`) te neke statističke sažetke (`describe` i `summary`).\n",
    "\n",
    "Sad ćemo se baciti na formatiranje sirovih podataka u nešto što nam je zgodnije za rad.\n",
    "\n",
    "Prvo ćemo se prisjetiti strukture podatka kojima baratamo."
   ]
  },
  {
   "cell_type": "code",
   "execution_count": null,
   "metadata": {},
   "outputs": [],
   "source": [
    "str(podaci)"
   ]
  },
  {
   "cell_type": "markdown",
   "metadata": {},
   "source": [
    "Za početak, iskoristit ćemo moći opažanja i primijetiti da su varijable koje počinju s `pi` (osim `pi_age`) spremljene kao `character` vektori. Taj tip vrijednosti nije zgodan za većinu obrada koje bismo htjeli raditi i razlog je zašto nam `summary` vraća nekoristan sažetak."
   ]
  },
  {
   "cell_type": "markdown",
   "metadata": {},
   "source": [
    "### Baratanje kategoričkim varijablama"
   ]
  },
  {
   "cell_type": "markdown",
   "metadata": {},
   "source": [
    "Stoga, pretvorit ćemo te varijable iz `charactera` u `factore`."
   ]
  },
  {
   "cell_type": "markdown",
   "metadata": {},
   "source": [
    "Varijable možemo modificirati koristeći `mutate` obitelj funkcija. Ovdje ćemo iskoristiti `mutate_at`, koji nam omogućuje da specificiramo varijable na koje želimo primijeniti neku funkciju.\n",
    "\n",
    "Uhvatit ćemo sve `pi` varijable osim `pi_age` te na njih primijeniti funkciju `as.factor`, koja će ih pretvoriti u `factore`."
   ]
  },
  {
   "cell_type": "markdown",
   "metadata": {},
   "source": [
    "Budući da će `mutate_at` funkciju primijeniti na postojeće stupce, dobro je prvo (a) biti siguran da biramo prave stupce i (b) biti siguran da radimo ono što želimo napraviti prije nego spremimo promjene."
   ]
  },
  {
   "cell_type": "markdown",
   "metadata": {},
   "source": [
    "(a) ćemo riješiti koristeći `colnames` i `select`."
   ]
  },
  {
   "cell_type": "code",
   "execution_count": null,
   "metadata": {},
   "outputs": [],
   "source": [
    "podaci %>%\n",
    "dplyr::select(., pi_education:pi_previousDonations) %>%\n",
    "colnames"
   ]
  },
  {
   "cell_type": "markdown",
   "metadata": {},
   "source": [
    "Vidimo da ciljamo ispravne stupce. Sad možemo eksperimentirati s `mutate_at`."
   ]
  },
  {
   "cell_type": "code",
   "execution_count": null,
   "metadata": {},
   "outputs": [],
   "source": [
    "podaci %>%\n",
    "dplyr::mutate_at(., .vars = vars(pi_education:pi_previousDonations),\n",
    "                .fun = as.factor) %>%\n",
    "dplyr::select(., pi_education:pi_previousDonations) %>%\n",
    "str"
   ]
  },
  {
   "cell_type": "code",
   "execution_count": 5,
   "metadata": {},
   "outputs": [],
   "source": [
    "podaci %<>%\n",
    "dplyr::mutate_at(., .vars = vars(pi_education:pi_previousDonations),\n",
    "                .fun = as.factor)"
   ]
  },
  {
   "cell_type": "code",
   "execution_count": null,
   "metadata": {},
   "outputs": [],
   "source": [
    "str(podaci)"
   ]
  },
  {
   "cell_type": "markdown",
   "metadata": {},
   "source": [
    "Ako sad pozovemo `summary`, dobit ćemo korisnije rezultate."
   ]
  },
  {
   "cell_type": "code",
   "execution_count": null,
   "metadata": {},
   "outputs": [],
   "source": [
    "podaci %>%\n",
    "dplyr::select(., starts_with('pi_'), -pi_age) %>%\n",
    "summary(.)"
   ]
  },
  {
   "cell_type": "markdown",
   "metadata": {},
   "source": [
    "Gledajući output ove funkcije, primjećujemo da su pojedine vrijednosti prilično dugačke (npr. Some professional diploma, no degree).\n",
    "\n",
    "Koristeći `forcats` paket (dio `tidyversea`), vrlo lako možemo rekodirati te vrijednosti. Za početak, da bismo si uskratili nešto tipkanja, možemo pozvati funkciju `dput` kako bismo dobili reprezentaciju razina faktora koju možemo kopipejstati."
   ]
  },
  {
   "cell_type": "code",
   "execution_count": null,
   "metadata": {},
   "outputs": [],
   "source": [
    "podaci$pi_education %>% levels(.) %>% dput(.)"
   ]
  },
  {
   "cell_type": "code",
   "execution_count": null,
   "metadata": {},
   "outputs": [],
   "source": [
    "podaci$pi_education %>%\n",
    "head(., 10) %T>% print(.) %>%\n",
    "forcats::fct_recode(., 'elem-sch' = \"Elementary School\", 'hi-sch' = \"High school\",\n",
    "                    'masters' = \"Master's degree\", 'phd' = \"PhD or higher\", \n",
    "                    'prof-dip' = \"Some professional diploma, no degree\", \n",
    "                    'bac' = \"The baccalaureate\") %>% print(.)"
   ]
  },
  {
   "cell_type": "markdown",
   "metadata": {},
   "source": [
    "Kratko pojašnjenje: uzimamo samo varijablu `pi_education` te prvih 10 unosa (`head`). Usput pozivamo `print` (s T-pipom!) kako bismo ispisali izvornih 10 vrijednosti. Varijablu s tih 10 vrijednosti šaljemo u `fct_recode`, gdje rekodiramo razine. Naposljetku, pozivamo `print` kako bismo ispisali nove vrijednosti (`print` ovdje nije potreban, tu je samo zato da bi se output izjednačio onom koji dobivamo nakon prvog poziva; to je specifičnost Jupyter Notebooka)."
   ]
  },
  {
   "cell_type": "markdown",
   "metadata": {},
   "source": [
    "Sad kad smo zadovoljni outputom, možemo maknuti nepotrebne dijelove i upisati promjenu."
   ]
  },
  {
   "cell_type": "code",
   "execution_count": 6,
   "metadata": {},
   "outputs": [],
   "source": [
    "podaci$pi_education %<>%\n",
    "forcats::fct_recode(., 'elem-sch' = \"Elementary School\", 'hi-sch' = \"High school\",\n",
    "                    'masters' = \"Master's degree\", 'phd' = \"PhD or higher\", \n",
    "                    'prof-dip' = \"Some professional diploma, no degree\", \n",
    "                    'bac' = \"The baccalaureate\")"
   ]
  },
  {
   "cell_type": "code",
   "execution_count": null,
   "metadata": {},
   "outputs": [],
   "source": [
    "levels(podaci$pi_education)"
   ]
  },
  {
   "cell_type": "markdown",
   "metadata": {},
   "source": [
    "Isto ćemo napraviti s varijablom `pi_income`."
   ]
  },
  {
   "cell_type": "code",
   "execution_count": null,
   "metadata": {},
   "outputs": [],
   "source": [
    "podaci$pi_income %>% levels(.) %>% dput(.)"
   ]
  },
  {
   "cell_type": "markdown",
   "metadata": {},
   "source": [
    "Ovdje možemo primijetiti da je redoslijed razina podosta besmislen, tako da ćemo ih izvrtiti tako da idu od najniže do najviše.\n",
    "\n",
    "Zahvaljujući pipama, sve možemo napraviti u jednom koraku."
   ]
  },
  {
   "cell_type": "code",
   "execution_count": null,
   "metadata": {},
   "outputs": [],
   "source": [
    "podaci$pi_income %>%\n",
    "tail(., 10) %T>% print(.) %>%\n",
    "forcats::fct_recode(., 'avg' = \"About the average\",\n",
    "                    'avg++' = \"Much above the average\",\n",
    "                    'avg--' = \"Much below the average\", \n",
    "                    'avg+' = \"Somewhat above the average\",\n",
    "                    'avg-' = \"Somewhat below the average\") %>%\n",
    "# redoslijed razina možemo mijenjati koristeći fct_relevel\n",
    "forcats::fct_relevel(., 'avg--', 'avg-', 'avg', 'avg+', 'avg++') %>%\n",
    "# još ćemo faktor pretvoriti u ordered\n",
    "factor(., ordered = T) %>%\n",
    "tail(., 10) %>% print(.)"
   ]
  },
  {
   "cell_type": "markdown",
   "metadata": {},
   "source": [
    "Vidimo da smo pogodili, pa ćemo maknuti nepotrebne dijelove koda i spremiti promjene."
   ]
  },
  {
   "cell_type": "code",
   "execution_count": 7,
   "metadata": {},
   "outputs": [],
   "source": [
    "podaci$pi_income %<>%\n",
    "forcats::fct_recode(., 'avg' = \"About the average\",\n",
    "                    'avg++' = \"Much above the average\",\n",
    "                    'avg--' = \"Much below the average\", \n",
    "                    'avg+' = \"Somewhat above the average\",\n",
    "                    'avg-' = \"Somewhat below the average\") %>%\n",
    "forcats::fct_relevel(., 'avg--', 'avg-', 'avg', 'avg+', 'avg++') %>%\n",
    "factor(., ordered = T)"
   ]
  },
  {
   "cell_type": "code",
   "execution_count": null,
   "metadata": {},
   "outputs": [],
   "source": [
    "str(podaci$pi_income)"
   ]
  },
  {
   "cell_type": "markdown",
   "metadata": {},
   "source": [
    "Nećemo prolaziti kroz rekodiranje svih faktora, ali hoćemo proći kroz rekodiranje nacionalnosti, zato jer nam to daje mogućnost da se igramo sa stringovima i regularnim izrazima."
   ]
  },
  {
   "cell_type": "markdown",
   "metadata": {},
   "source": [
    "### Kodiranje nacionalnosti (pitanje otvorenog tipa)"
   ]
  },
  {
   "cell_type": "markdown",
   "metadata": {},
   "source": [
    "Pitanje o nacionalnosti bilo je otvorenog tipa, tako da ista nacionalnost može biti reprezentirana na različite načine."
   ]
  },
  {
   "cell_type": "code",
   "execution_count": null,
   "metadata": {},
   "outputs": [],
   "source": [
    "podaci$pi_nationality %>% head(.)"
   ]
  },
  {
   "cell_type": "markdown",
   "metadata": {},
   "source": [
    "Već u prvih 6 unosa vidimo da se javljaju \"US\", \"USA\", \"United States of America\" te \"American\", što sve označava istu nacionalnost. Koristeći regularne izraze i funkciju `case_when`, lako možemo grupirati različite unose.\n",
    "\n",
    "Za početak, iskoristit ćemo funkciju `tolower` kako bismo sve stringove pretvorili u mala slova (tako da ne moramo paziti na to da su \"american\" i \"American\" različiti unosi) te funkciju `str_trim`, koja će ukloniti razmake s početka i kraja stringova (jer je moguće da je netko unio \"American\", a netko \"American \")."
   ]
  },
  {
   "cell_type": "code",
   "execution_count": 8,
   "metadata": {},
   "outputs": [],
   "source": [
    "podaci$pi_nationality %<>% tolower(.) %>% stringr::str_trim(.)"
   ]
  },
  {
   "cell_type": "code",
   "execution_count": null,
   "metadata": {},
   "outputs": [],
   "source": [
    "head(podaci$pi_nationality)"
   ]
  },
  {
   "cell_type": "markdown",
   "metadata": {},
   "source": [
    "Ok. Za početak, možemo pozvati `table` da dobijemo pregled frekvencija po faktorima, te `sort` kako bismo ih poredali od najučestalijih do najrjeđih."
   ]
  },
  {
   "cell_type": "code",
   "execution_count": null,
   "metadata": {},
   "outputs": [],
   "source": [
    "table(podaci$pi_nationality) %>% sort(., decreasing = T)"
   ]
  },
  {
   "cell_type": "markdown",
   "metadata": {},
   "source": [
    "Budući da ovdje imamo samo 100 sudionika i razmjerno malo različitih nacionalnosti, rekodiranje je lako.\n",
    "\n",
    "Za kodiranje nacionalnosti koristit ćemo funkciju `case_when`, koja nam omogućuje da specificiramo neki logički izraz (dakle, nešto što kao rezultat vraća `TRUE` ili `FALSE`) i akciju koju treba napraviti u `TRUE` slučaju.\n",
    "\n",
    "`case_when` za argumente prima logičke izraze i akcije odvojene tildom (`~`), pa pozivanje funkcija izgleda ovako:\n",
    "\n",
    "```\n",
    "case_when(logički-izraz ~ akcija-ako-TRUE,\n",
    "          logički-izraz-2 ~ akcija-ako-TRUE-2)\n",
    "          ```"
   ]
  },
  {
   "cell_type": "code",
   "execution_count": null,
   "metadata": {},
   "outputs": [],
   "source": [
    "podaci$pi_nationality %>%\n",
    "# case_when moramo obaviti u {} jer inače dobijemo error\n",
    "{dplyr::case_when(stringr::str_detect(., 'usa?|american|united states.*|\\\\w+ americ') ~ 'american',\n",
    "           str_detect(., 'dutch|french') ~ 'fr-nl',\n",
    "           str_detect(., 'seychelles|turkish|white') ~ 'other',\n",
    "           # akciju u svim nespecificiranim slučajevima određujemo\n",
    "           # tako da stavimo TRUE ~ akcija. ovdje kao akciju stavljamo\n",
    "           # točku, što znači da taj unos treba ostaviti onakvim\n",
    "           # kakav je\n",
    "           TRUE ~ .)} %>% table(.)"
   ]
  },
  {
   "cell_type": "code",
   "execution_count": 9,
   "metadata": {},
   "outputs": [],
   "source": [
    "podaci$pi_nationality %<>%\n",
    "{dplyr::case_when(stringr::str_detect(., 'usa?|american|united states.*|\\\\w+ americ') ~ 'american',\n",
    "           str_detect(., 'dutch|french') ~ 'fr-nl',\n",
    "           str_detect(., 'seychelles|turkish|white') ~ 'other',\n",
    "           TRUE ~ .)} %>%\n",
    "as.factor(.)"
   ]
  },
  {
   "cell_type": "markdown",
   "metadata": {},
   "source": [
    "### Mijenjanje imena varijabli"
   ]
  },
  {
   "cell_type": "markdown",
   "metadata": {},
   "source": [
    "Nekad su imena varijabli jako nezgrapna, neinformativna, mutava i slično. Budući da ćete se prije ili poslije susresti s takvim imenima, proći ćemo kroz nekoliko načina za mijenjanje imena varijabli.\n",
    "\n",
    "Ako želimo promijeniti imena manjeg broja varijabli, možemo koristiti funkciju `rename`. Na primjer, varijable `charitableBehavior01` i `charitableBehavior02` ne govore ništa o tome što su. Jedna je namjera doniranja novca, a druga namjera doniranja vremena. Stoga, preimenovat ćemo ih u `donationMoney` i `donationTime`."
   ]
  },
  {
   "cell_type": "code",
   "execution_count": 10,
   "metadata": {},
   "outputs": [],
   "source": [
    "podaci %<>%\n",
    "dplyr::rename(., donationMoney = charitableBehavior01,\n",
    "      donationTime = charitableBehavior02)"
   ]
  },
  {
   "cell_type": "markdown",
   "metadata": {},
   "source": [
    "Ako trebamo preimenovati veći broj varijabli i ako smo te sreće da njihova imena možemo uhvatiti regularnim izrazima, možemo koristiti `str_replace`.\n",
    "\n",
    "Na primjer, imamo 32 varijable koje se zovu `moralFoundationsXX` i koje predstavljaju pitanja na Moral Foundations Questionnaireu. MFQ se sastoji od 5 faktora (authority, care, loyalty, fairness, sanctity) - svaki faktor reprezentiran je sa 6 pitanja. Osim toga, ima i dvije kontrolne čestice.\n",
    "\n",
    "Preimenovat ćemo varijable tako da na kraj imena svake od njih dodamo oznaku faktora kojoj pripada. Za to ćemo koristiti funkciju `str_replace`, koja nam omogućuje da neki obrazac definiran regexom zamijenimo nekim drugim stringom."
   ]
  },
  {
   "cell_type": "code",
   "execution_count": null,
   "metadata": {},
   "outputs": [],
   "source": [
    "qc(orahovica, orašar) %>%\n",
    "stringr::str_replace(., 'ora(h|š)', 'bor')"
   ]
  },
  {
   "cell_type": "markdown",
   "metadata": {},
   "source": [
    "Sad ćemo vidjeti kako ovu funkciju možemo koristiti za preimenovati varijable."
   ]
  },
  {
   "cell_type": "code",
   "execution_count": null,
   "metadata": {},
   "outputs": [],
   "source": [
    "# dohvaćamo imena stupaca\n",
    "colnames(podaci) %>%\n",
    "# specificiramo stupce na kojima želimo izvršiti zamjenu\n",
    "stringr::str_replace(., pattern = '(moralFoundations)(01|07|12|17|23|28)',\n",
    "                     replacement = '\\\\1\\\\2_care') %>%\n",
    "# ovo je samo radi prikazivanja svih MFQ pitanja\n",
    "stringr::str_subset(., 'moralFoundations') %>% print(.)"
   ]
  },
  {
   "cell_type": "markdown",
   "metadata": {},
   "source": [
    "Vidimo da pitanja koja smo odredili sada imaju sufiks `_care`.\n",
    "\n",
    "U `replacement` argumentu smo iskoristili mogućnost referenciranja koju nam nudi grupiranje znakova u regularnim izrazima. Počevši s lijeva, svaku grupu definiranu pomoću `(...)` možemo dohvatiti pomoću `\\\\n`, gdje `n` označava redni broj grupe.\n",
    "\n",
    "Dakle, u gornjem primjeru se pri izvršavanju zamjene `\\\\1` širi u prvu pronađenu grupu (moralFoundations), a `\\\\2` u drugu pronađenu grupu (01, 07, 12, 17, 23 ili 28, ovisno o tome što je u pojedinom stringu pronađeno). Time dobivamo `moralFoundations01_care`, `moralFoundations07_care` itd.\n",
    "\n",
    "Kod ovakvog mijenjanja imena je zgodno to što nam se svaki put vraćaju imena svih stupaca - ako u imenu nekog stupca nije pronađen uzorak koji smo specificirali u `pattern`, ono ostaje netaknuto. Zbog toga, možemo napraviti lanac poziva `str_replace` pomoću pipa."
   ]
  },
  {
   "cell_type": "code",
   "execution_count": null,
   "metadata": {},
   "outputs": [],
   "source": [
    "colnames(podaci) %>%\n",
    "    stringr::str_replace(., '(moralFoundations)(01|07|12|17|23|28)', '\\\\1\\\\2_care') %>%\n",
    "    str_replace(., '(moralFoundations)(02|08|13|18|24|29)', '\\\\1\\\\2_fair') %>%\n",
    "    str_replace(., '(moralFoundations)(03|09|14|19|25|30)', '\\\\1\\\\2_loyal') %>%\n",
    "    str_replace(., '(moralFoundations)(04|10|15|20|26|31)', '\\\\1\\\\2_author') %>%\n",
    "    str_replace(., '(moralFoundations)(05|11|16|21|27|32)', '\\\\1\\\\2_sanct') %>%\n",
    "    str_replace(., '(moralFoundations)(06|22)', '\\\\1\\\\2_control')"
   ]
  },
  {
   "cell_type": "markdown",
   "metadata": {},
   "source": [
    "Kad smo sigurni da dobivamo ono što očekujemo, samo promijenimo pipu `%>%` u `%<>%`."
   ]
  },
  {
   "cell_type": "code",
   "execution_count": 11,
   "metadata": {},
   "outputs": [],
   "source": [
    "colnames(podaci) %<>%\n",
    "    stringr::str_replace(., '(moralFoundations)(01|07|12|17|23|28)', '\\\\1\\\\2_care') %>%\n",
    "    str_replace(., '(moralFoundations)(02|08|13|18|24|29)', '\\\\1\\\\2_fair') %>%\n",
    "    str_replace(., '(moralFoundations)(03|09|14|19|25|30)', '\\\\1\\\\2_loyal') %>%\n",
    "    str_replace(., '(moralFoundations)(04|10|15|20|26|31)', '\\\\1\\\\2_author') %>%\n",
    "    str_replace(., '(moralFoundations)(05|11|16|21|27|32)', '\\\\1\\\\2_sanct') %>%\n",
    "    str_replace(., '(moralFoundations)(06|22)', '\\\\1\\\\2_control')"
   ]
  },
  {
   "cell_type": "code",
   "execution_count": 12,
   "metadata": {},
   "outputs": [
    {
     "name": "stdout",
     "output_type": "stream",
     "text": [
      " [1] \"attitudesAndNorms01\"            \"attitudesAndNorms02\"           \n",
      " [3] \"attitudesAndNorms03\"            \"attitudesAndNorms04\"           \n",
      " [5] \"attitudesAndNorms05\"            \"attitudesAndNorms06\"           \n",
      " [7] \"attitudesAndNorms07\"            \"attitudesAndNorms08\"           \n",
      " [9] \"callToAction\"                   \"donationMoney\"                 \n",
      "[11] \"donationTime\"                   \"descriptiveSocialNorms01\"      \n",
      "[13] \"descriptiveSocialNorms02\"       \"descriptiveSocialNorms03\"      \n",
      "[15] \"descriptiveSocialNorms04\"       \"mf_AuthoritySubversion\"        \n",
      "[17] \"mf_CareHarm\"                    \"mf_FairnessCheating\"           \n",
      "[19] \"mf_LoyaltyBetrayal\"             \"mf_SanctityDegradation\"        \n",
      "[21] \"moralFoundations01_care\"        \"moralFoundations02_fair\"       \n",
      "[23] \"moralFoundations03_loyal\"       \"moralFoundations04_author\"     \n",
      "[25] \"moralFoundations05_sanct\"       \"moralFoundations06_control\"    \n",
      "[27] \"moralFoundations07_care\"        \"moralFoundations08_fair\"       \n",
      "[29] \"moralFoundations09_loyal\"       \"moralFoundations10_author\"     \n",
      "[31] \"moralFoundations11_sanct\"       \"moralFoundations12_care\"       \n",
      "[33] \"moralFoundations13_fair\"        \"moralFoundations14_loyal\"      \n",
      "[35] \"moralFoundations15_author\"      \"moralFoundations16_sanct\"      \n",
      "[37] \"moralFoundations17_care\"        \"moralFoundations18_fair\"       \n",
      "[39] \"moralFoundations19_loyal\"       \"moralFoundations20_author\"     \n",
      "[41] \"moralFoundations21_sanct\"       \"moralFoundations22_control\"    \n",
      "[43] \"moralFoundations23_care\"        \"moralFoundations24_fair\"       \n",
      "[45] \"moralFoundations25_loyal\"       \"moralFoundations26_author\"     \n",
      "[47] \"moralFoundations27_sanct\"       \"moralFoundations28_care\"       \n",
      "[49] \"moralFoundations29_fair\"        \"moralFoundations30_loyal\"      \n",
      "[51] \"moralFoundations31_author\"      \"moralFoundations32_sanct\"      \n",
      "[53] \"moralIdentityInternalization01\" \"moralIdentityInternalization02\"\n",
      "[55] \"moralIdentityInternalization03\" \"moralIdentityInternalization04\"\n",
      "[57] \"moralIdentityInternalization05\" \"pi_age\"                        \n",
      "[59] \"pi_education\"                   \"pi_gender\"                     \n",
      "[61] \"pi_ideology\"                    \"pi_income\"                     \n",
      "[63] \"pi_nationality\"                 \"pi_previousDonations\"          \n"
     ]
    }
   ],
   "source": [
    "colnames(podaci) %>% print(.)"
   ]
  },
  {
   "cell_type": "markdown",
   "metadata": {},
   "source": [
    "Varijable u ovom setu zapravo su dosta dobro imenovane. Neke nisu dovoljno jasne, ali imenovanje je sustavno, što uvelike olakšava baratnje podacima.\n",
    "\n",
    "Nekad (kad radite s podacima sa Survey Monkeyja, recimo) vjerojatno nećete imati toliko jasne slučajeve. Na primjer, ime varijable moglo bi biti `1. Molimo Vas, odaberite vaš ekonomski status`. Takva imena su pakao. Kad bismo tako imenovanu varijablu ubacili u R, dobili bismo nešto ružno."
   ]
  },
  {
   "cell_type": "code",
   "execution_count": 44,
   "metadata": {},
   "outputs": [
    {
     "data": {
      "text/html": [
       "<table>\n",
       "<thead><tr><th scope=col>X1..Molimo.Vas..odaberite.vaš.ekonomski.status.</th></tr></thead>\n",
       "<tbody>\n",
       "\t<tr><td>1</td></tr>\n",
       "\t<tr><td>2</td></tr>\n",
       "\t<tr><td>3</td></tr>\n",
       "\t<tr><td>4</td></tr>\n",
       "\t<tr><td>5</td></tr>\n",
       "</tbody>\n",
       "</table>\n"
      ],
      "text/latex": [
       "\\begin{tabular}{r|l}\n",
       " X1..Molimo.Vas..odaberite.vaš.ekonomski.status.\\\\\n",
       "\\hline\n",
       "\t 1\\\\\n",
       "\t 2\\\\\n",
       "\t 3\\\\\n",
       "\t 4\\\\\n",
       "\t 5\\\\\n",
       "\\end{tabular}\n"
      ],
      "text/markdown": [
       "\n",
       "X1..Molimo.Vas..odaberite.vaš.ekonomski.status. | \n",
       "|---|---|---|---|---|\n",
       "| 1 | \n",
       "| 2 | \n",
       "| 3 | \n",
       "| 4 | \n",
       "| 5 | \n",
       "\n",
       "\n"
      ],
      "text/plain": [
       "  X1..Molimo.Vas..odaberite.vaš.ekonomski.status.\n",
       "1 1                                              \n",
       "2 2                                              \n",
       "3 3                                              \n",
       "4 4                                              \n",
       "5 5                                              "
      ]
     },
     "metadata": {},
     "output_type": "display_data"
    }
   ],
   "source": [
    "ruzno <- data.frame('1. Molimo Vas, odaberite vaš ekonomski status:' = 1:5)\n",
    "ruzno"
   ]
  },
  {
   "cell_type": "markdown",
   "metadata": {},
   "source": [
    "Svaki razmak postao je točka, zarez i dvotočka također su postali točke, a imenu varijable dodan je prefiks `X` (jer ime varijable ne može započinjati brojem!).\n",
    "\n",
    "Možemo pozvati funkciju `clean_names` iz paketa `janitor`, koja će od ružnih imena napraviti nešto ljepša."
   ]
  },
  {
   "cell_type": "code",
   "execution_count": 45,
   "metadata": {},
   "outputs": [
    {
     "data": {
      "text/html": [
       "<table>\n",
       "<thead><tr><th scope=col>x1_molimo_vas_odaberite_vas_ekonomski_status</th></tr></thead>\n",
       "<tbody>\n",
       "\t<tr><td>1</td></tr>\n",
       "\t<tr><td>2</td></tr>\n",
       "\t<tr><td>3</td></tr>\n",
       "\t<tr><td>4</td></tr>\n",
       "\t<tr><td>5</td></tr>\n",
       "</tbody>\n",
       "</table>\n"
      ],
      "text/latex": [
       "\\begin{tabular}{r|l}\n",
       " x1\\_molimo\\_vas\\_odaberite\\_vas\\_ekonomski\\_status\\\\\n",
       "\\hline\n",
       "\t 1\\\\\n",
       "\t 2\\\\\n",
       "\t 3\\\\\n",
       "\t 4\\\\\n",
       "\t 5\\\\\n",
       "\\end{tabular}\n"
      ],
      "text/markdown": [
       "\n",
       "x1_molimo_vas_odaberite_vas_ekonomski_status | \n",
       "|---|---|---|---|---|\n",
       "| 1 | \n",
       "| 2 | \n",
       "| 3 | \n",
       "| 4 | \n",
       "| 5 | \n",
       "\n",
       "\n"
      ],
      "text/plain": [
       "  x1_molimo_vas_odaberite_vas_ekonomski_status\n",
       "1 1                                           \n",
       "2 2                                           \n",
       "3 3                                           \n",
       "4 4                                           \n",
       "5 5                                           "
      ]
     },
     "metadata": {},
     "output_type": "display_data"
    }
   ],
   "source": [
    "lijepo <- janitor::clean_names(ruzno)\n",
    "lijepo"
   ]
  },
  {
   "cell_type": "markdown",
   "metadata": {},
   "source": [
    "Ovisno o konkretnom imenu, ova će funkcija biti manje ili više korisna. Recimo, ako je potrebno u potpuonsti preimenovati varijablu u nešto smisleno, nema druge nego ručno.\n",
    "\n",
    "Ipak, isplati se pozvati `clean_names` jer može uvelike olakšati automatizirano preimenovanje.\n",
    "\n",
    "Dodat ćemo još 2 ružna stupca u `data.frame` `ruzno`."
   ]
  },
  {
   "cell_type": "code",
   "execution_count": 46,
   "metadata": {},
   "outputs": [
    {
     "data": {
      "text/html": [
       "<table>\n",
       "<thead><tr><th scope=col>X1..Molimo.Vas..odaberite.vaš.ekonomski.status.</th><th scope=col>X2..Koliko.sam.vina.ja.popio.</th><th scope=col>X3..Je.li.vaše.ludo.srce.biralo.</th></tr></thead>\n",
       "<tbody>\n",
       "\t<tr><td>1    </td><td>15   </td><td>FALSE</td></tr>\n",
       "\t<tr><td>2    </td><td>16   </td><td>FALSE</td></tr>\n",
       "\t<tr><td>3    </td><td>17   </td><td>FALSE</td></tr>\n",
       "\t<tr><td>4    </td><td>18   </td><td>FALSE</td></tr>\n",
       "\t<tr><td>5    </td><td>19   </td><td>FALSE</td></tr>\n",
       "</tbody>\n",
       "</table>\n"
      ],
      "text/latex": [
       "\\begin{tabular}{r|lll}\n",
       " X1..Molimo.Vas..odaberite.vaš.ekonomski.status. & X2..Koliko.sam.vina.ja.popio. & X3..Je.li.vaše.ludo.srce.biralo.\\\\\n",
       "\\hline\n",
       "\t 1     & 15    & FALSE\\\\\n",
       "\t 2     & 16    & FALSE\\\\\n",
       "\t 3     & 17    & FALSE\\\\\n",
       "\t 4     & 18    & FALSE\\\\\n",
       "\t 5     & 19    & FALSE\\\\\n",
       "\\end{tabular}\n"
      ],
      "text/markdown": [
       "\n",
       "X1..Molimo.Vas..odaberite.vaš.ekonomski.status. | X2..Koliko.sam.vina.ja.popio. | X3..Je.li.vaše.ludo.srce.biralo. | \n",
       "|---|---|---|---|---|\n",
       "| 1     | 15    | FALSE | \n",
       "| 2     | 16    | FALSE | \n",
       "| 3     | 17    | FALSE | \n",
       "| 4     | 18    | FALSE | \n",
       "| 5     | 19    | FALSE | \n",
       "\n",
       "\n"
      ],
      "text/plain": [
       "  X1..Molimo.Vas..odaberite.vaš.ekonomski.status. X2..Koliko.sam.vina.ja.popio.\n",
       "1 1                                               15                           \n",
       "2 2                                               16                           \n",
       "3 3                                               17                           \n",
       "4 4                                               18                           \n",
       "5 5                                               19                           \n",
       "  X3..Je.li.vaše.ludo.srce.biralo.\n",
       "1 FALSE                           \n",
       "2 FALSE                           \n",
       "3 FALSE                           \n",
       "4 FALSE                           \n",
       "5 FALSE                           "
      ]
     },
     "metadata": {},
     "output_type": "display_data"
    }
   ],
   "source": [
    "ruzno %<>% data.frame(., '2. Koliko sam vina ja popio?' = 15:19,\n",
    "                    '3. Je li vaše ludo srce biralo?' = F)\n",
    "ruzno"
   ]
  },
  {
   "cell_type": "markdown",
   "metadata": {},
   "source": [
    "Vidimo da su i upitnici pretvoreni u točke.\n",
    "\n",
    "Recimo da hoćemo svako ime svesti na format `broj_prva-riječ`. Ako dopustimo R-u da obavi svoju masovnu konverziju, pa takva imena pretvaramo, mogli bismo imati problema (ili više nepotrebne patnje) sa specificiranjem obrasca koji želimo odbaciti.\n",
    "\n",
    "Ponovno ćemo pozvati `clean_names`:"
   ]
  },
  {
   "cell_type": "code",
   "execution_count": 47,
   "metadata": {},
   "outputs": [
    {
     "data": {
      "text/html": [
       "<table>\n",
       "<thead><tr><th scope=col>x1_molimo_vas_odaberite_vas_ekonomski_status</th><th scope=col>x2_koliko_sam_vina_ja_popio</th><th scope=col>x3_je_li_vase_ludo_srce_biralo</th></tr></thead>\n",
       "<tbody>\n",
       "\t<tr><td>1    </td><td>15   </td><td>FALSE</td></tr>\n",
       "\t<tr><td>2    </td><td>16   </td><td>FALSE</td></tr>\n",
       "\t<tr><td>3    </td><td>17   </td><td>FALSE</td></tr>\n",
       "\t<tr><td>4    </td><td>18   </td><td>FALSE</td></tr>\n",
       "\t<tr><td>5    </td><td>19   </td><td>FALSE</td></tr>\n",
       "</tbody>\n",
       "</table>\n"
      ],
      "text/latex": [
       "\\begin{tabular}{r|lll}\n",
       " x1\\_molimo\\_vas\\_odaberite\\_vas\\_ekonomski\\_status & x2\\_koliko\\_sam\\_vina\\_ja\\_popio & x3\\_je\\_li\\_vase\\_ludo\\_srce\\_biralo\\\\\n",
       "\\hline\n",
       "\t 1     & 15    & FALSE\\\\\n",
       "\t 2     & 16    & FALSE\\\\\n",
       "\t 3     & 17    & FALSE\\\\\n",
       "\t 4     & 18    & FALSE\\\\\n",
       "\t 5     & 19    & FALSE\\\\\n",
       "\\end{tabular}\n"
      ],
      "text/markdown": [
       "\n",
       "x1_molimo_vas_odaberite_vas_ekonomski_status | x2_koliko_sam_vina_ja_popio | x3_je_li_vase_ludo_srce_biralo | \n",
       "|---|---|---|---|---|\n",
       "| 1     | 15    | FALSE | \n",
       "| 2     | 16    | FALSE | \n",
       "| 3     | 17    | FALSE | \n",
       "| 4     | 18    | FALSE | \n",
       "| 5     | 19    | FALSE | \n",
       "\n",
       "\n"
      ],
      "text/plain": [
       "  x1_molimo_vas_odaberite_vas_ekonomski_status x2_koliko_sam_vina_ja_popio\n",
       "1 1                                            15                         \n",
       "2 2                                            16                         \n",
       "3 3                                            17                         \n",
       "4 4                                            18                         \n",
       "5 5                                            19                         \n",
       "  x3_je_li_vase_ludo_srce_biralo\n",
       "1 FALSE                         \n",
       "2 FALSE                         \n",
       "3 FALSE                         \n",
       "4 FALSE                         \n",
       "5 FALSE                         "
      ]
     },
     "metadata": {},
     "output_type": "display_data"
    }
   ],
   "source": [
    "lijepo <- janitor::clean_names(ruzno)\n",
    "lijepo"
   ]
  },
  {
   "cell_type": "markdown",
   "metadata": {},
   "source": [
    "Ova imena su puno sustavnija, zbog čega je lakše napisati neki obrazac znakova koji želimo zadržati."
   ]
  },
  {
   "cell_type": "code",
   "execution_count": 66,
   "metadata": {},
   "outputs": [
    {
     "data": {
      "text/html": [
       "<table>\n",
       "<thead><tr><th scope=col>1_molimo</th><th scope=col>2_koliko</th><th scope=col>3_je</th></tr></thead>\n",
       "<tbody>\n",
       "\t<tr><td>1    </td><td>15   </td><td>FALSE</td></tr>\n",
       "\t<tr><td>2    </td><td>16   </td><td>FALSE</td></tr>\n",
       "\t<tr><td>3    </td><td>17   </td><td>FALSE</td></tr>\n",
       "\t<tr><td>4    </td><td>18   </td><td>FALSE</td></tr>\n",
       "\t<tr><td>5    </td><td>19   </td><td>FALSE</td></tr>\n",
       "</tbody>\n",
       "</table>\n"
      ],
      "text/latex": [
       "\\begin{tabular}{r|lll}\n",
       " 1\\_molimo & 2\\_koliko & 3\\_je\\\\\n",
       "\\hline\n",
       "\t 1     & 15    & FALSE\\\\\n",
       "\t 2     & 16    & FALSE\\\\\n",
       "\t 3     & 17    & FALSE\\\\\n",
       "\t 4     & 18    & FALSE\\\\\n",
       "\t 5     & 19    & FALSE\\\\\n",
       "\\end{tabular}\n"
      ],
      "text/markdown": [
       "\n",
       "1_molimo | 2_koliko | 3_je | \n",
       "|---|---|---|---|---|\n",
       "| 1     | 15    | FALSE | \n",
       "| 2     | 16    | FALSE | \n",
       "| 3     | 17    | FALSE | \n",
       "| 4     | 18    | FALSE | \n",
       "| 5     | 19    | FALSE | \n",
       "\n",
       "\n"
      ],
      "text/plain": [
       "  1_molimo 2_koliko 3_je \n",
       "1 1        15       FALSE\n",
       "2 2        16       FALSE\n",
       "3 3        17       FALSE\n",
       "4 4        18       FALSE\n",
       "5 5        19       FALSE"
      ]
     },
     "metadata": {},
     "output_type": "display_data"
    }
   ],
   "source": [
    "colnames(lijepo) %<>%\n",
    "stringr::str_replace(., '^x(\\\\d_[[:lower:]]+).*', '\\\\1')\n",
    "lijepo"
   ]
  },
  {
   "cell_type": "markdown",
   "metadata": {},
   "source": [
    "### Obrnuto kodiranje varijabli"
   ]
  },
  {
   "cell_type": "markdown",
   "metadata": {},
   "source": [
    "Neka od pitanja u ovom upitnik potrebno je obrnuto kodirati. To možemo učiniti pomoću funkcije `reverse.code` iz `psych` paketa. Ta funkcija ima dva obavezna argumenta: `keys`, koji je vektor brojki `1` i `-1`, te `items`, što su čestice koje treba rekodirati.\n",
    "\n",
    "Za primjer, rekodirat ćemo 3. i 4. pitanje skale `moralIdentityInternalization`."
   ]
  },
  {
   "cell_type": "code",
   "execution_count": 114,
   "metadata": {},
   "outputs": [
    {
     "name": "stdout",
     "output_type": "stream",
     "text": [
      "# A tibble: 6 x 5\n",
      "  moralIdentityIn… moralIdentityIn… moralIdentityIn… moralIdentityIn…\n",
      "             <int>            <int>            <int>            <int>\n",
      "1                5                2                1                2\n",
      "2                4                3                1                3\n",
      "3                6                5                1                1\n",
      "4                6                4                1                3\n",
      "5                4                3                1                2\n",
      "6                4                6                1                1\n",
      "# ... with 1 more variable: moralIdentityInternalization05 <int>\n",
      " num [1:6, 1:5] 5 4 6 6 4 4 2 3 5 4 ...\n",
      " - attr(*, \"dimnames\")=List of 2\n",
      "  ..$ : NULL\n",
      "  ..$ : chr [1:5] \"moralIdentityInternalization01\" \"moralIdentityInternalization02\" \"moralIdentityInternalization03-\" \"moralIdentityInternalization04-\" ...\n"
     ]
    },
    {
     "data": {
      "text/html": [
       "<table>\n",
       "<thead><tr><th scope=col>moralIdentityInternalization01</th><th scope=col>moralIdentityInternalization02</th><th scope=col>moralIdentityInternalization03-</th><th scope=col>moralIdentityInternalization04-</th><th scope=col>moralIdentityInternalization05</th></tr></thead>\n",
       "<tbody>\n",
       "\t<tr><td>5</td><td>2</td><td>6</td><td>5</td><td>3</td></tr>\n",
       "\t<tr><td>4</td><td>3</td><td>6</td><td>4</td><td>4</td></tr>\n",
       "\t<tr><td>6</td><td>5</td><td>6</td><td>6</td><td>5</td></tr>\n",
       "\t<tr><td>6</td><td>4</td><td>6</td><td>4</td><td>4</td></tr>\n",
       "\t<tr><td>4</td><td>3</td><td>6</td><td>5</td><td>4</td></tr>\n",
       "\t<tr><td>4</td><td>6</td><td>6</td><td>6</td><td>4</td></tr>\n",
       "</tbody>\n",
       "</table>\n"
      ],
      "text/latex": [
       "\\begin{tabular}{lllll}\n",
       " moralIdentityInternalization01 & moralIdentityInternalization02 & moralIdentityInternalization03- & moralIdentityInternalization04- & moralIdentityInternalization05\\\\\n",
       "\\hline\n",
       "\t 5 & 2 & 6 & 5 & 3\\\\\n",
       "\t 4 & 3 & 6 & 4 & 4\\\\\n",
       "\t 6 & 5 & 6 & 6 & 5\\\\\n",
       "\t 6 & 4 & 6 & 4 & 4\\\\\n",
       "\t 4 & 3 & 6 & 5 & 4\\\\\n",
       "\t 4 & 6 & 6 & 6 & 4\\\\\n",
       "\\end{tabular}\n"
      ],
      "text/markdown": [
       "\n",
       "moralIdentityInternalization01 | moralIdentityInternalization02 | moralIdentityInternalization03- | moralIdentityInternalization04- | moralIdentityInternalization05 | \n",
       "|---|---|---|---|---|---|\n",
       "| 5 | 2 | 6 | 5 | 3 | \n",
       "| 4 | 3 | 6 | 4 | 4 | \n",
       "| 6 | 5 | 6 | 6 | 5 | \n",
       "| 6 | 4 | 6 | 4 | 4 | \n",
       "| 4 | 3 | 6 | 5 | 4 | \n",
       "| 4 | 6 | 6 | 6 | 4 | \n",
       "\n",
       "\n"
      ],
      "text/plain": [
       "     moralIdentityInternalization01 moralIdentityInternalization02\n",
       "[1,] 5                              2                             \n",
       "[2,] 4                              3                             \n",
       "[3,] 6                              5                             \n",
       "[4,] 6                              4                             \n",
       "[5,] 4                              3                             \n",
       "[6,] 4                              6                             \n",
       "     moralIdentityInternalization03- moralIdentityInternalization04-\n",
       "[1,] 6                               5                              \n",
       "[2,] 6                               4                              \n",
       "[3,] 6                               6                              \n",
       "[4,] 6                               4                              \n",
       "[5,] 6                               5                              \n",
       "[6,] 6                               6                              \n",
       "     moralIdentityInternalization05\n",
       "[1,] 3                             \n",
       "[2,] 4                             \n",
       "[3,] 5                             \n",
       "[4,] 4                             \n",
       "[5,] 4                             \n",
       "[6,] 4                             "
      ]
     },
     "metadata": {},
     "output_type": "display_data"
    }
   ],
   "source": [
    "podaci %>%\n",
    "dplyr::select(contains('Internal')) %>%\n",
    "head(.) %T>% print(.) %>%\n",
    "{psych::reverse.code(keys = c(1, 1, -1, -1, 1),\n",
    "                    items = .,\n",
    "                    # zadajemo maksimum i minimum skale\n",
    "                    # jer inače određuje prema vrijednostima\n",
    "                    # koje se zapravo pojavljuju, a neke\n",
    "                    # čestice imaju manji raspon od\n",
    "                    # teoretski mogućeg\n",
    "                    mini = 0, maxi = 7)} %T>%\n",
    "str(.) %>% head(.)"
   ]
  },
  {
   "cell_type": "markdown",
   "metadata": {},
   "source": [
    "Sad kad smo se uvjerili da su varijable ispravno rekodirane, možemo skratiti postupak (recimo, tako da ciljamo samo one varijable koje zapravo treba rekodirati) i te rekodirane varijable dodati u `data.frame`."
   ]
  },
  {
   "cell_type": "code",
   "execution_count": 149,
   "metadata": {},
   "outputs": [],
   "source": [
    "podaci %<>%\n",
    "# contains smo promijenili u matches\n",
    "dplyr::select(matches('Internal.*(03|04)$')) %>%\n",
    "# u keys ostavljamo samo onoliko -1 koliko\n",
    "# imamo varijabli\n",
    "{psych::reverse.code(keys = c(-1, -1),\n",
    "                    items = .,\n",
    "                    mini = 0, maxi = 7)} %>%\n",
    "# reverse.code nam vraća matrix, pa ga pretvaramo\n",
    "# u data.frame\n",
    "as.data.frame(.) %$%\n",
    "# otkrivamo imena varijabli kako bismo ih mogli\n",
    "# koristiti direktno; tibble je dio tidyversea\n",
    "tibble::add_column(podaci,\n",
    "                   moralIdentityInternalization03_rec =\n",
    "                   # ime varijable moramo staviti u `` (backticks)\n",
    "                   # jer R inače baca error zbog - na kraju imena\n",
    "                   # (taj - tumači kao sintaksu, a ne kao dio imena)\n",
    "                   `moralIdentityInternalization03-`,\n",
    "                   moralIdentityInternalization04_rec =\n",
    "                   `moralIdentityInternalization04-`,\n",
    "                   # pomoću .after definiramo iza kojeg stupca\n",
    "                   # želimo dodati nove stupce; ovdje to radimo\n",
    "                   # zato da bi mII varijable bile na okupu\n",
    "                   .after = 'moralIdentityInternalization05')"
   ]
  },
  {
   "cell_type": "code",
   "execution_count": 151,
   "metadata": {},
   "outputs": [
    {
     "name": "stdout",
     "output_type": "stream",
     "text": [
      " [1] \"attitudesAndNorms01\"                \"attitudesAndNorms02\"               \n",
      " [3] \"attitudesAndNorms03\"                \"attitudesAndNorms04\"               \n",
      " [5] \"attitudesAndNorms05\"                \"attitudesAndNorms06\"               \n",
      " [7] \"attitudesAndNorms07\"                \"attitudesAndNorms08\"               \n",
      " [9] \"callToAction\"                       \"donationMoney\"                     \n",
      "[11] \"donationTime\"                       \"descriptiveSocialNorms01\"          \n",
      "[13] \"descriptiveSocialNorms02\"           \"descriptiveSocialNorms03\"          \n",
      "[15] \"descriptiveSocialNorms04\"           \"mf_AuthoritySubversion\"            \n",
      "[17] \"mf_CareHarm\"                        \"mf_FairnessCheating\"               \n",
      "[19] \"mf_LoyaltyBetrayal\"                 \"mf_SanctityDegradation\"            \n",
      "[21] \"moralFoundations01_care\"            \"moralFoundations02_fair\"           \n",
      "[23] \"moralFoundations03_loyal\"           \"moralFoundations04_author\"         \n",
      "[25] \"moralFoundations05_sanct\"           \"moralFoundations06_control\"        \n",
      "[27] \"moralFoundations07_care\"            \"moralFoundations08_fair\"           \n",
      "[29] \"moralFoundations09_loyal\"           \"moralFoundations10_author\"         \n",
      "[31] \"moralFoundations11_sanct\"           \"moralFoundations12_care\"           \n",
      "[33] \"moralFoundations13_fair\"            \"moralFoundations14_loyal\"          \n",
      "[35] \"moralFoundations15_author\"          \"moralFoundations16_sanct\"          \n",
      "[37] \"moralFoundations17_care\"            \"moralFoundations18_fair\"           \n",
      "[39] \"moralFoundations19_loyal\"           \"moralFoundations20_author\"         \n",
      "[41] \"moralFoundations21_sanct\"           \"moralFoundations22_control\"        \n",
      "[43] \"moralFoundations23_care\"            \"moralFoundations24_fair\"           \n",
      "[45] \"moralFoundations25_loyal\"           \"moralFoundations26_author\"         \n",
      "[47] \"moralFoundations27_sanct\"           \"moralFoundations28_care\"           \n",
      "[49] \"moralFoundations29_fair\"            \"moralFoundations30_loyal\"          \n",
      "[51] \"moralFoundations31_author\"          \"moralFoundations32_sanct\"          \n",
      "[53] \"moralIdentityInternalization01\"     \"moralIdentityInternalization02\"    \n",
      "[55] \"moralIdentityInternalization03\"     \"moralIdentityInternalization04\"    \n",
      "[57] \"moralIdentityInternalization05\"     \"moralIdentityInternalization03_rec\"\n",
      "[59] \"moralIdentityInternalization04_rec\" \"pi_age\"                            \n",
      "[61] \"pi_education\"                       \"pi_gender\"                         \n",
      "[63] \"pi_ideology\"                        \"pi_income\"                         \n",
      "[65] \"pi_nationality\"                     \"pi_previousDonations\"              \n"
     ]
    }
   ],
   "source": [
    "colnames(podaci) %>% print(.)"
   ]
  },
  {
   "cell_type": "markdown",
   "metadata": {},
   "source": [
    "### Brisanje stupaca"
   ]
  },
  {
   "cell_type": "markdown",
   "metadata": {},
   "source": [
    "Ponekad se u podacima nađu varijable koje nam nisu potrebne, pa je zgodno znati kako ih možemo obrisati. Za potrebe ove demonstracije, obrisat ćemo dvije varijable - `mf_CareHarm` i `mf_FairnessCheating` - koje su ukupni rezultati na dvije subskale MFQ-a."
   ]
  },
  {
   "cell_type": "markdown",
   "metadata": {},
   "source": [
    "Jedan način za brisanje je upisivanje posebne vrijednosti `NULL` u stupac kojeg se želimo riješiti."
   ]
  },
  {
   "cell_type": "code",
   "execution_count": 172,
   "metadata": {},
   "outputs": [],
   "source": [
    "podaci$mf_CareHarm <- NULL"
   ]
  },
  {
   "cell_type": "code",
   "execution_count": 173,
   "metadata": {},
   "outputs": [
    {
     "name": "stdout",
     "output_type": "stream",
     "text": [
      "Classes ‘tbl_df’, ‘tbl’ and 'data.frame':\t100 obs. of  65 variables:\n",
      " $ attitudesAndNorms01               : int  5 5 4 6 4 4 6 4 3 5 ...\n",
      " $ attitudesAndNorms02               : int  5 4 6 2 1 4 0 4 7 7 ...\n",
      " $ attitudesAndNorms03               : int  5 2 5 3 2 4 3 5 6 7 ...\n",
      " $ attitudesAndNorms04               : int  5 1 5 2 3 3 3 7 5 6 ...\n",
      " $ attitudesAndNorms05               : int  4 2 3 2 1 4 2 4 4 6 ...\n",
      " $ attitudesAndNorms06               : int  3 2 2 3 2 3 3 3 3 4 ...\n",
      " $ attitudesAndNorms07               : int  4 3 4 5 4 5 6 4 4 5 ...\n",
      " $ attitudesAndNorms08               : int  6 7 5 6 5 5 7 5 3 5 ...\n",
      " $ callToAction                      : int  7 6 7 1 8 7 11 8 3 7 ...\n",
      " $ donationMoney                     : int  37 18 7 14 0 37 33 29 16 6 ...\n",
      " $ donationTime                      : int  4 3 3 5 0 2 4 3 2 3 ...\n",
      " $ descriptiveSocialNorms01          : int  4 3 3 1 3 1 2 4 3 4 ...\n",
      " $ descriptiveSocialNorms02          : int  3 1 3 1 1 1 2 3 3 5 ...\n",
      " $ descriptiveSocialNorms03          : int  2 3 2 2 2 3 3 4 4 5 ...\n",
      " $ descriptiveSocialNorms04          : int  2 1 5 3 4 2 2 2 2 4 ...\n",
      " $ mf_AuthoritySubversion            : int  1 1 2 2 2 0 2 1 1 2 ...\n",
      " $ mf_FairnessCheating               : int  3 3 4 3 2 4 4 5 3 4 ...\n",
      " $ mf_LoyaltyBetrayal                : int  2 2 2 3 2 1 2 0 0 1 ...\n",
      " $ mf_SanctityDegradation            : int  1 1 1 1 1 -1 1 -1 1 1 ...\n",
      " $ moralFoundations01_care           : int  4 3 4 3 3 4 5 3 4 4 ...\n",
      " $ moralFoundations02_fair           : int  4 3 4 3 1 4 4 4 2 5 ...\n",
      " $ moralFoundations03_loyal          : int  3 0 2 1 1 0 2 0 -1 0 ...\n",
      " $ moralFoundations04_author         : int  1 0 2 2 2 0 2 0 1 2 ...\n",
      " $ moralFoundations05_sanct          : int  2 2 1 3 3 -1 3 1 1 2 ...\n",
      " $ moralFoundations06_control        : int  0 0 0 2 -1 1 0 0 -1 1 ...\n",
      " $ moralFoundations07_care           : int  4 3 4 4 5 2 4 4 3 4 ...\n",
      " $ moralFoundations08_fair           : int  4 3 4 3 3 4 5 4 3 5 ...\n",
      " $ moralFoundations09_loyal          : int  3 3 2 4 3 3 3 1 -1 1 ...\n",
      " $ moralFoundations10_author         : int  0 -1 1 3 2 0 2 1 1 1 ...\n",
      " $ moralFoundations11_sanct          : int  1 3 1 0 1 -1 2 0 3 3 ...\n",
      " $ moralFoundations12_care           : int  6 5 4 5 4 4 5 4 3 5 ...\n",
      " $ moralFoundations13_fair           : int  3 5 4 5 5 3 4 5 4 5 ...\n",
      " $ moralFoundations14_loyal          : int  4 2 1 1 3 3 3 1 3 2 ...\n",
      " $ moralFoundations15_author         : int  3 2 2 1 2 3 3 2 5 3 ...\n",
      " $ moralFoundations16_sanct          : int  3 1 1 2 -1 1 -2 2 0 1 ...\n",
      " $ moralFoundations17_care           : int  2 5 3 4 4 4 3 4 3 3 ...\n",
      " $ moralFoundations18_fair           : int  2 3 3 4 5 2 4 5 4 4 ...\n",
      " $ moralFoundations19_loyal          : int  0 2 4 2 2 2 4 4 4 2 ...\n",
      " $ moralFoundations20_author         : int  0 1 0 4 1 3 3 3 2 2 ...\n",
      " $ moralFoundations21_sanct          : int  0 1 1 1 3 3 1 2 1 -1 ...\n",
      " $ moralFoundations22_control        : int  4 4 6 4 4 3 5 3 5 5 ...\n",
      " $ moralFoundations23_care           : int  3 3 4 2 4 0 3 4 3 3 ...\n",
      " $ moralFoundations24_fair           : int  4 3 1 5 2 3 2 6 2 3 ...\n",
      " $ moralFoundations25_loyal          : int  0 0 1 2 0 3 1 2 2 1 ...\n",
      " $ moralFoundations26_author         : int  1 1 1 5 0 2 2 3 1 1 ...\n",
      " $ moralFoundations27_sanct          : int  1 1 0 1 1 1 -1 2 0 1 ...\n",
      " $ moralFoundations28_care           : int  0 -1 2 -1 -1 1 3 1 4 1 ...\n",
      " $ moralFoundations29_fair           : int  1 1 3 2 4 1 4 2 2 0 ...\n",
      " $ moralFoundations30_loyal          : int  1 1 1 1 2 1 1 0 2 2 ...\n",
      " $ moralFoundations31_author         : int  3 2 1 5 2 2 4 3 3 2 ...\n",
      " $ moralFoundations32_sanct          : int  1 0 0 4 2 1 0 1 2 1 ...\n",
      " $ moralIdentityInternalization01    : int  5 4 6 6 4 4 5 3 6 5 ...\n",
      " $ moralIdentityInternalization02    : int  2 3 5 4 3 6 5 2 4 5 ...\n",
      " $ moralIdentityInternalization03    : int  1 1 1 1 1 1 1 1 1 1 ...\n",
      " $ moralIdentityInternalization04    : int  2 3 1 3 2 1 3 3 3 1 ...\n",
      " $ moralIdentityInternalization05    : int  3 4 5 4 4 4 5 3 4 5 ...\n",
      " $ moralIdentityInternalization03_rec: num  6 6 6 6 6 6 6 6 6 6 ...\n",
      " $ moralIdentityInternalization04_rec: num  5 4 6 4 5 6 4 4 4 6 ...\n",
      " $ pi_age                            : int  3 20 20 19 22 25 23 41 16 17 ...\n",
      " $ pi_education                      : Factor w/ 6 levels \"elem-sch\",\"hi-sch\",..: 5 3 2 3 3 3 5 3 6 5 ...\n",
      " $ pi_gender                         : Factor w/ 2 levels \"Female\",\"Male\": 2 2 2 2 1 2 1 2 2 1 ...\n",
      " $ pi_ideology                       : Factor w/ 7 levels \"Extremely conservative (right)\",..: 3 7 3 7 7 7 5 5 3 7 ...\n",
      " $ pi_income                         : Ord.factor w/ 5 levels \"avg--\"<\"avg-\"<..: 2 4 4 4 4 4 4 4 4 2 ...\n",
      " $ pi_nationality                    : Factor w/ 5 levels \"american\",\"british\",..: 1 1 5 1 1 1 1 1 4 3 ...\n",
      " $ pi_previousDonations              : Factor w/ 4 levels \"Never\",\"Often\",..: 3 4 3 3 4 4 4 2 2 3 ...\n"
     ]
    }
   ],
   "source": [
    "str(podaci)"
   ]
  },
  {
   "cell_type": "markdown",
   "metadata": {},
   "source": [
    "Drugi je prepisivanje (u smislu *overwrite*) varijable koja drži `data.frame` `data.frameom` koji sadrži sve varijable osim te koju želimo ukloniti. To možemo učiniti pomoću funkcije `select` i negacijskog operatora `-`."
   ]
  },
  {
   "cell_type": "code",
   "execution_count": 174,
   "metadata": {},
   "outputs": [],
   "source": [
    "podaci %<>%\n",
    "select(-mf_FairnessCheating)"
   ]
  },
  {
   "cell_type": "code",
   "execution_count": 175,
   "metadata": {},
   "outputs": [
    {
     "name": "stdout",
     "output_type": "stream",
     "text": [
      "Classes ‘tbl_df’, ‘tbl’ and 'data.frame':\t100 obs. of  64 variables:\n",
      " $ attitudesAndNorms01               : int  5 5 4 6 4 4 6 4 3 5 ...\n",
      " $ attitudesAndNorms02               : int  5 4 6 2 1 4 0 4 7 7 ...\n",
      " $ attitudesAndNorms03               : int  5 2 5 3 2 4 3 5 6 7 ...\n",
      " $ attitudesAndNorms04               : int  5 1 5 2 3 3 3 7 5 6 ...\n",
      " $ attitudesAndNorms05               : int  4 2 3 2 1 4 2 4 4 6 ...\n",
      " $ attitudesAndNorms06               : int  3 2 2 3 2 3 3 3 3 4 ...\n",
      " $ attitudesAndNorms07               : int  4 3 4 5 4 5 6 4 4 5 ...\n",
      " $ attitudesAndNorms08               : int  6 7 5 6 5 5 7 5 3 5 ...\n",
      " $ callToAction                      : int  7 6 7 1 8 7 11 8 3 7 ...\n",
      " $ donationMoney                     : int  37 18 7 14 0 37 33 29 16 6 ...\n",
      " $ donationTime                      : int  4 3 3 5 0 2 4 3 2 3 ...\n",
      " $ descriptiveSocialNorms01          : int  4 3 3 1 3 1 2 4 3 4 ...\n",
      " $ descriptiveSocialNorms02          : int  3 1 3 1 1 1 2 3 3 5 ...\n",
      " $ descriptiveSocialNorms03          : int  2 3 2 2 2 3 3 4 4 5 ...\n",
      " $ descriptiveSocialNorms04          : int  2 1 5 3 4 2 2 2 2 4 ...\n",
      " $ mf_AuthoritySubversion            : int  1 1 2 2 2 0 2 1 1 2 ...\n",
      " $ mf_LoyaltyBetrayal                : int  2 2 2 3 2 1 2 0 0 1 ...\n",
      " $ mf_SanctityDegradation            : int  1 1 1 1 1 -1 1 -1 1 1 ...\n",
      " $ moralFoundations01_care           : int  4 3 4 3 3 4 5 3 4 4 ...\n",
      " $ moralFoundations02_fair           : int  4 3 4 3 1 4 4 4 2 5 ...\n",
      " $ moralFoundations03_loyal          : int  3 0 2 1 1 0 2 0 -1 0 ...\n",
      " $ moralFoundations04_author         : int  1 0 2 2 2 0 2 0 1 2 ...\n",
      " $ moralFoundations05_sanct          : int  2 2 1 3 3 -1 3 1 1 2 ...\n",
      " $ moralFoundations06_control        : int  0 0 0 2 -1 1 0 0 -1 1 ...\n",
      " $ moralFoundations07_care           : int  4 3 4 4 5 2 4 4 3 4 ...\n",
      " $ moralFoundations08_fair           : int  4 3 4 3 3 4 5 4 3 5 ...\n",
      " $ moralFoundations09_loyal          : int  3 3 2 4 3 3 3 1 -1 1 ...\n",
      " $ moralFoundations10_author         : int  0 -1 1 3 2 0 2 1 1 1 ...\n",
      " $ moralFoundations11_sanct          : int  1 3 1 0 1 -1 2 0 3 3 ...\n",
      " $ moralFoundations12_care           : int  6 5 4 5 4 4 5 4 3 5 ...\n",
      " $ moralFoundations13_fair           : int  3 5 4 5 5 3 4 5 4 5 ...\n",
      " $ moralFoundations14_loyal          : int  4 2 1 1 3 3 3 1 3 2 ...\n",
      " $ moralFoundations15_author         : int  3 2 2 1 2 3 3 2 5 3 ...\n",
      " $ moralFoundations16_sanct          : int  3 1 1 2 -1 1 -2 2 0 1 ...\n",
      " $ moralFoundations17_care           : int  2 5 3 4 4 4 3 4 3 3 ...\n",
      " $ moralFoundations18_fair           : int  2 3 3 4 5 2 4 5 4 4 ...\n",
      " $ moralFoundations19_loyal          : int  0 2 4 2 2 2 4 4 4 2 ...\n",
      " $ moralFoundations20_author         : int  0 1 0 4 1 3 3 3 2 2 ...\n",
      " $ moralFoundations21_sanct          : int  0 1 1 1 3 3 1 2 1 -1 ...\n",
      " $ moralFoundations22_control        : int  4 4 6 4 4 3 5 3 5 5 ...\n",
      " $ moralFoundations23_care           : int  3 3 4 2 4 0 3 4 3 3 ...\n",
      " $ moralFoundations24_fair           : int  4 3 1 5 2 3 2 6 2 3 ...\n",
      " $ moralFoundations25_loyal          : int  0 0 1 2 0 3 1 2 2 1 ...\n",
      " $ moralFoundations26_author         : int  1 1 1 5 0 2 2 3 1 1 ...\n",
      " $ moralFoundations27_sanct          : int  1 1 0 1 1 1 -1 2 0 1 ...\n",
      " $ moralFoundations28_care           : int  0 -1 2 -1 -1 1 3 1 4 1 ...\n",
      " $ moralFoundations29_fair           : int  1 1 3 2 4 1 4 2 2 0 ...\n",
      " $ moralFoundations30_loyal          : int  1 1 1 1 2 1 1 0 2 2 ...\n",
      " $ moralFoundations31_author         : int  3 2 1 5 2 2 4 3 3 2 ...\n",
      " $ moralFoundations32_sanct          : int  1 0 0 4 2 1 0 1 2 1 ...\n",
      " $ moralIdentityInternalization01    : int  5 4 6 6 4 4 5 3 6 5 ...\n",
      " $ moralIdentityInternalization02    : int  2 3 5 4 3 6 5 2 4 5 ...\n",
      " $ moralIdentityInternalization03    : int  1 1 1 1 1 1 1 1 1 1 ...\n",
      " $ moralIdentityInternalization04    : int  2 3 1 3 2 1 3 3 3 1 ...\n",
      " $ moralIdentityInternalization05    : int  3 4 5 4 4 4 5 3 4 5 ...\n",
      " $ moralIdentityInternalization03_rec: num  6 6 6 6 6 6 6 6 6 6 ...\n",
      " $ moralIdentityInternalization04_rec: num  5 4 6 4 5 6 4 4 4 6 ...\n",
      " $ pi_age                            : int  3 20 20 19 22 25 23 41 16 17 ...\n",
      " $ pi_education                      : Factor w/ 6 levels \"elem-sch\",\"hi-sch\",..: 5 3 2 3 3 3 5 3 6 5 ...\n",
      " $ pi_gender                         : Factor w/ 2 levels \"Female\",\"Male\": 2 2 2 2 1 2 1 2 2 1 ...\n",
      " $ pi_ideology                       : Factor w/ 7 levels \"Extremely conservative (right)\",..: 3 7 3 7 7 7 5 5 3 7 ...\n",
      " $ pi_income                         : Ord.factor w/ 5 levels \"avg--\"<\"avg-\"<..: 2 4 4 4 4 4 4 4 4 2 ...\n",
      " $ pi_nationality                    : Factor w/ 5 levels \"american\",\"british\",..: 1 1 5 1 1 1 1 1 4 3 ...\n",
      " $ pi_previousDonations              : Factor w/ 4 levels \"Never\",\"Often\",..: 3 4 3 3 4 4 4 2 2 3 ...\n"
     ]
    }
   ],
   "source": [
    "str(podaci)"
   ]
  },
  {
   "cell_type": "markdown",
   "metadata": {},
   "source": [
    "### Stvaranje nove varijable pomoću `mutate`"
   ]
  },
  {
   "cell_type": "markdown",
   "metadata": {},
   "source": [
    "Već smo vidjeli neke načine na koje možemo stvarati nove varijable. Sada ćemo pomoću funkcije `mutate` rekreirati dva stupca koja smo malo prije obrisali.\n",
    "\n",
    "Kao rezultat na subskali uzet ćemo prosječnu vrijednost odabranih odgovora svakog sudionika."
   ]
  },
  {
   "cell_type": "code",
   "execution_count": 181,
   "metadata": {},
   "outputs": [
    {
     "name": "stdout",
     "output_type": "stream",
     "text": [
      "Classes ‘tbl_df’, ‘tbl’ and 'data.frame':\t100 obs. of  66 variables:\n",
      " $ attitudesAndNorms01               : int  5 5 4 6 4 4 6 4 3 5 ...\n",
      " $ attitudesAndNorms02               : int  5 4 6 2 1 4 0 4 7 7 ...\n",
      " $ attitudesAndNorms03               : int  5 2 5 3 2 4 3 5 6 7 ...\n",
      " $ attitudesAndNorms04               : int  5 1 5 2 3 3 3 7 5 6 ...\n",
      " $ attitudesAndNorms05               : int  4 2 3 2 1 4 2 4 4 6 ...\n",
      " $ attitudesAndNorms06               : int  3 2 2 3 2 3 3 3 3 4 ...\n",
      " $ attitudesAndNorms07               : int  4 3 4 5 4 5 6 4 4 5 ...\n",
      " $ attitudesAndNorms08               : int  6 7 5 6 5 5 7 5 3 5 ...\n",
      " $ callToAction                      : int  7 6 7 1 8 7 11 8 3 7 ...\n",
      " $ donationMoney                     : int  37 18 7 14 0 37 33 29 16 6 ...\n",
      " $ donationTime                      : int  4 3 3 5 0 2 4 3 2 3 ...\n",
      " $ descriptiveSocialNorms01          : int  4 3 3 1 3 1 2 4 3 4 ...\n",
      " $ descriptiveSocialNorms02          : int  3 1 3 1 1 1 2 3 3 5 ...\n",
      " $ descriptiveSocialNorms03          : int  2 3 2 2 2 3 3 4 4 5 ...\n",
      " $ descriptiveSocialNorms04          : int  2 1 5 3 4 2 2 2 2 4 ...\n",
      " $ mf_AuthoritySubversion            : int  1 1 2 2 2 0 2 1 1 2 ...\n",
      " $ mf_LoyaltyBetrayal                : int  2 2 2 3 2 1 2 0 0 1 ...\n",
      " $ mf_SanctityDegradation            : int  1 1 1 1 1 -1 1 -1 1 1 ...\n",
      " $ mf_CareHarm                       : num  3.17 3 3.5 2.83 3.17 ...\n",
      " $ mf_FairnessCheating               : num  3 3 3.17 3.67 3.33 ...\n",
      " $ moralFoundations01_care           : int  4 3 4 3 3 4 5 3 4 4 ...\n",
      " $ moralFoundations02_fair           : int  4 3 4 3 1 4 4 4 2 5 ...\n",
      " $ moralFoundations03_loyal          : int  3 0 2 1 1 0 2 0 -1 0 ...\n",
      " $ moralFoundations04_author         : int  1 0 2 2 2 0 2 0 1 2 ...\n",
      " $ moralFoundations05_sanct          : int  2 2 1 3 3 -1 3 1 1 2 ...\n",
      " $ moralFoundations06_control        : int  0 0 0 2 -1 1 0 0 -1 1 ...\n",
      " $ moralFoundations07_care           : int  4 3 4 4 5 2 4 4 3 4 ...\n",
      " $ moralFoundations08_fair           : int  4 3 4 3 3 4 5 4 3 5 ...\n",
      " $ moralFoundations09_loyal          : int  3 3 2 4 3 3 3 1 -1 1 ...\n",
      " $ moralFoundations10_author         : int  0 -1 1 3 2 0 2 1 1 1 ...\n",
      " $ moralFoundations11_sanct          : int  1 3 1 0 1 -1 2 0 3 3 ...\n",
      " $ moralFoundations12_care           : int  6 5 4 5 4 4 5 4 3 5 ...\n",
      " $ moralFoundations13_fair           : int  3 5 4 5 5 3 4 5 4 5 ...\n",
      " $ moralFoundations14_loyal          : int  4 2 1 1 3 3 3 1 3 2 ...\n",
      " $ moralFoundations15_author         : int  3 2 2 1 2 3 3 2 5 3 ...\n",
      " $ moralFoundations16_sanct          : int  3 1 1 2 -1 1 -2 2 0 1 ...\n",
      " $ moralFoundations17_care           : int  2 5 3 4 4 4 3 4 3 3 ...\n",
      " $ moralFoundations18_fair           : int  2 3 3 4 5 2 4 5 4 4 ...\n",
      " $ moralFoundations19_loyal          : int  0 2 4 2 2 2 4 4 4 2 ...\n",
      " $ moralFoundations20_author         : int  0 1 0 4 1 3 3 3 2 2 ...\n",
      " $ moralFoundations21_sanct          : int  0 1 1 1 3 3 1 2 1 -1 ...\n",
      " $ moralFoundations22_control        : int  4 4 6 4 4 3 5 3 5 5 ...\n",
      " $ moralFoundations23_care           : int  3 3 4 2 4 0 3 4 3 3 ...\n",
      " $ moralFoundations24_fair           : int  4 3 1 5 2 3 2 6 2 3 ...\n",
      " $ moralFoundations25_loyal          : int  0 0 1 2 0 3 1 2 2 1 ...\n",
      " $ moralFoundations26_author         : int  1 1 1 5 0 2 2 3 1 1 ...\n",
      " $ moralFoundations27_sanct          : int  1 1 0 1 1 1 -1 2 0 1 ...\n",
      " $ moralFoundations28_care           : int  0 -1 2 -1 -1 1 3 1 4 1 ...\n",
      " $ moralFoundations29_fair           : int  1 1 3 2 4 1 4 2 2 0 ...\n",
      " $ moralFoundations30_loyal          : int  1 1 1 1 2 1 1 0 2 2 ...\n",
      " $ moralFoundations31_author         : int  3 2 1 5 2 2 4 3 3 2 ...\n",
      " $ moralFoundations32_sanct          : int  1 0 0 4 2 1 0 1 2 1 ...\n",
      " $ moralIdentityInternalization01    : int  5 4 6 6 4 4 5 3 6 5 ...\n",
      " $ moralIdentityInternalization02    : int  2 3 5 4 3 6 5 2 4 5 ...\n",
      " $ moralIdentityInternalization03    : int  1 1 1 1 1 1 1 1 1 1 ...\n",
      " $ moralIdentityInternalization04    : int  2 3 1 3 2 1 3 3 3 1 ...\n",
      " $ moralIdentityInternalization05    : int  3 4 5 4 4 4 5 3 4 5 ...\n",
      " $ moralIdentityInternalization03_rec: num  6 6 6 6 6 6 6 6 6 6 ...\n",
      " $ moralIdentityInternalization04_rec: num  5 4 6 4 5 6 4 4 4 6 ...\n",
      " $ pi_age                            : int  3 20 20 19 22 25 23 41 16 17 ...\n",
      " $ pi_education                      : Factor w/ 6 levels \"elem-sch\",\"hi-sch\",..: 5 3 2 3 3 3 5 3 6 5 ...\n",
      " $ pi_gender                         : Factor w/ 2 levels \"Female\",\"Male\": 2 2 2 2 1 2 1 2 2 1 ...\n",
      " $ pi_ideology                       : Factor w/ 7 levels \"Extremely conservative (right)\",..: 3 7 3 7 7 7 5 5 3 7 ...\n",
      " $ pi_income                         : Ord.factor w/ 5 levels \"avg--\"<\"avg-\"<..: 2 4 4 4 4 4 4 4 4 2 ...\n",
      " $ pi_nationality                    : Factor w/ 5 levels \"american\",\"british\",..: 1 1 5 1 1 1 1 1 4 3 ...\n",
      " $ pi_previousDonations              : Factor w/ 4 levels \"Never\",\"Often\",..: 3 4 3 3 4 4 4 2 2 3 ...\n"
     ]
    }
   ],
   "source": [
    "podaci %>%\n",
    "# koristimo rowMeans, koji računa aritmetičku sredinu svakog reda,\n",
    "# kao što i samo ime kaže. funkciju primjenjujemo na varijable\n",
    "# koje završavaju s 'care', što možemo napraviti jer smo bili\n",
    "# mudri i smisleno i sustavno imenovali varijable\n",
    "mutate(., mf_CareHarm = rowMeans(select(., ends_with('care'))),\n",
    "      mf_FairnessCheating = rowMeans(select(., ends_with('fair')))) %>%\n",
    "# kad koristimo select, redoslijed kojim unosimo varijable u funkciju\n",
    "# određuje redoslijed varijabli nakon odabira stupaca. stoga, budući da\n",
    "# mutate vraća data.frame, možemo iskoristiti select da nove varijable\n",
    "# preselimo do njima srodnih. primijetit ćemo da u selectu možemo\n",
    "# kombinirati numeričke indekse i imena varijabli; koristimo\n",
    "# everything() za dodavanje svih preostalih varijabli\n",
    "select(1:mf_SanctityDegradation, mf_CareHarm, mf_FairnessCheating,\n",
    "      everything()) %>% str"
   ]
  },
  {
   "cell_type": "markdown",
   "metadata": {},
   "source": [
    "Vidimo da dobivamo što smo i htjeli, pa spremamo promjene."
   ]
  },
  {
   "cell_type": "code",
   "execution_count": 182,
   "metadata": {},
   "outputs": [],
   "source": [
    "podaci %<>%\n",
    "mutate(., mf_CareHarm = rowMeans(select(., ends_with('care'))),\n",
    "      mf_FairnessCheating = rowMeans(select(., ends_with('fair')))) %>%\n",
    "select(1:mf_SanctityDegradation, mf_CareHarm, mf_FairnessCheating,\n",
    "      everything())"
   ]
  },
  {
   "cell_type": "markdown",
   "metadata": {},
   "source": [
    "## Reference"
   ]
  },
  {
   "cell_type": "markdown",
   "metadata": {},
   "source": [
    "[Grolemund, G. i Wickham, H. *R for data science*. O'Reilly Media, Inc.](https://r4ds.had.co.nz/)\n",
    "\n",
    "Pipe\n",
    "- https://cran.r-project.org/web/packages/magrittr/vignettes/magrittr.html\n",
    "- http://r4ds.had.co.nz/pipes.html\n",
    "\n",
    "Regularni izrazi\n",
    "- [jako dobar šalabahter](https://remram44.github.io/regex-cheatsheet/regex.html)\n",
    "- [još jedan](http://www.rexegg.com/regex-quickstart.html)\n",
    "- [stranica koja omogućuje isprobavanje različitih uzoraka na tekstu](https://regexr.com/)\n",
    "- [uvod u `stringr`](https://cran.r-project.org/web/packages/stringr/vignettes/stringr.html)\n",
    "\n",
    "Data wrangling (dplyr i srodno):\n",
    "- [prvi od četiri dijela (linkovi na druge na dnu stranice) blogova o formatiranju podataka](https://suzanbaert.netlify.com/2018/01/dplyr-tutorial-1/)\n",
    "\n",
    "Organizacija podatka u tablicama\n",
    "- Broman, K. W., & Woo, K. H. (2018). Data organization in spreadsheets. **The American Statistician, 72**(1), 2–10."
   ]
  },
  {
   "cell_type": "markdown",
   "metadata": {},
   "source": [
    "## Epilog"
   ]
  },
  {
   "cell_type": "code",
   "execution_count": null,
   "metadata": {},
   "outputs": [],
   "source": [
    "sessionInfo() "
   ]
  }
 ],
 "metadata": {
  "kernelspec": {
   "display_name": "R 3.5",
   "language": "R",
   "name": "ir35"
  },
  "language_info": {
   "codemirror_mode": "r",
   "file_extension": ".r",
   "mimetype": "text/x-r-source",
   "name": "R",
   "pygments_lexer": "r",
   "version": "3.5.1"
  }
 },
 "nbformat": 4,
 "nbformat_minor": 2
}
