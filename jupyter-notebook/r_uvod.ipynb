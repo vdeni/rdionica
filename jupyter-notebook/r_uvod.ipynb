{
 "cells": [
  {
   "cell_type": "markdown",
   "metadata": {
    "slideshow": {
     "slide_type": "slide"
    }
   },
   "source": [
    "# Rdionica: priprema datoteke `podaci_upitnik.csv`"
   ]
  },
  {
   "cell_type": "markdown",
   "metadata": {
    "slideshow": {
     "slide_type": "slide"
    }
   },
   "source": [
    "## Uvod - osnove jezika R"
   ]
  },
  {
   "cell_type": "markdown",
   "metadata": {
    "slideshow": {
     "slide_type": "slide"
    }
   },
   "source": [
    "U ovom dijelu proći ćemo kroz osnove programskog jezika R. Obradit ćemo osnove njegove sintakse te tipove varijabli. Ovdje ćemo proći kroz neke jako bazične stvari. Većina \"naprednijih\" stvari provlačit će se kroz ostatak radionice."
   ]
  },
  {
   "cell_type": "markdown",
   "metadata": {
    "slideshow": {
     "slide_type": "slide"
    }
   },
   "source": [
    "### Osnovne matematičke operacije"
   ]
  },
  {
   "cell_type": "markdown",
   "metadata": {},
   "source": [
    "Za početak, pogledat ćemo kako možemo izvršavati jednostavne naredbe direktno u R konzoli. Kad god u R konzolu unesemo naredbu koju R smatra valjanom te pritisnemo `Enter` (također poznat kao `Return`), R će u konzoli izbaciti rezultat izvršavanja te naredbe. Na primjer, ako u konzolu unesemo `2 + 2`, R će izbaciti rezultat te operacije."
   ]
  },
  {
   "cell_type": "code",
   "execution_count": 1,
   "metadata": {
    "slideshow": {
     "slide_type": "subslide"
    }
   },
   "outputs": [
    {
     "data": {
      "text/html": [
       "4"
      ],
      "text/latex": [
       "4"
      ],
      "text/markdown": [
       "4"
      ],
      "text/plain": [
       "[1] 4"
      ]
     },
     "metadata": {},
     "output_type": "display_data"
    }
   ],
   "source": [
    "2 + 2"
   ]
  },
  {
   "cell_type": "markdown",
   "metadata": {
    "slideshow": {
     "slide_type": "subslide"
    }
   },
   "source": [
    "Isto možemo napraviti s dijeljenjem (`/`), množenjem (`*`), oduzimanjem (`-`) i potenciranjem (`^`)."
   ]
  },
  {
   "cell_type": "code",
   "execution_count": 2,
   "metadata": {},
   "outputs": [
    {
     "data": {
      "text/html": [
       "2"
      ],
      "text/latex": [
       "2"
      ],
      "text/markdown": [
       "2"
      ],
      "text/plain": [
       "[1] 2"
      ]
     },
     "metadata": {},
     "output_type": "display_data"
    },
    {
     "data": {
      "text/html": [
       "6"
      ],
      "text/latex": [
       "6"
      ],
      "text/markdown": [
       "6"
      ],
      "text/plain": [
       "[1] 6"
      ]
     },
     "metadata": {},
     "output_type": "display_data"
    },
    {
     "data": {
      "text/html": [
       "4"
      ],
      "text/latex": [
       "4"
      ],
      "text/markdown": [
       "4"
      ],
      "text/plain": [
       "[1] 4"
      ]
     },
     "metadata": {},
     "output_type": "display_data"
    },
    {
     "data": {
      "text/html": [
       "9"
      ],
      "text/latex": [
       "9"
      ],
      "text/markdown": [
       "9"
      ],
      "text/plain": [
       "[1] 9"
      ]
     },
     "metadata": {},
     "output_type": "display_data"
    }
   ],
   "source": [
    "4 / 2\n",
    "\n",
    "2 * 3\n",
    "\n",
    "5 - 1\n",
    "\n",
    "3^2"
   ]
  },
  {
   "cell_type": "markdown",
   "metadata": {
    "slideshow": {
     "slide_type": "subslide"
    }
   },
   "source": [
    "Poseban operator koji nekad zna biti koristan je *modulo* - `%%` - koji vraća cijelobrojni dio dijeljenja dvaju brojeva. Na primjer:"
   ]
  },
  {
   "cell_type": "code",
   "execution_count": 3,
   "metadata": {},
   "outputs": [
    {
     "data": {
      "text/html": [
       "2.5"
      ],
      "text/latex": [
       "2.5"
      ],
      "text/markdown": [
       "2.5"
      ],
      "text/plain": [
       "[1] 2.5"
      ]
     },
     "metadata": {},
     "output_type": "display_data"
    },
    {
     "data": {
      "text/html": [
       "1"
      ],
      "text/latex": [
       "1"
      ],
      "text/markdown": [
       "1"
      ],
      "text/plain": [
       "[1] 1"
      ]
     },
     "metadata": {},
     "output_type": "display_data"
    }
   ],
   "source": [
    "# (Linije koje sadrže komentare započinju sa znakom #. R ne interpretira te linije.)\n",
    "# Obično dijeljenje:\n",
    "5 / 2\n",
    "\n",
    "# Modulo\n",
    "5 %% 2"
   ]
  },
  {
   "cell_type": "markdown",
   "metadata": {
    "slideshow": {
     "slide_type": "subslide"
    }
   },
   "source": [
    "Naravno, kao i u pješačkoj matematici, i u R-u je potrebno paziti na grupiranje matematičkih izraza.\n",
    "\n",
    "`x + y / z` je $ x + (y / z) $ je $ x + \\frac{z}{y} $\n",
    "\n",
    "`(x + y) / z` je $ (x + y) / z $ je $ \\frac{x+y}{z} $."
   ]
  },
  {
   "cell_type": "markdown",
   "metadata": {
    "slideshow": {
     "slide_type": "slide"
    }
   },
   "source": [
    "### Funkcije"
   ]
  },
  {
   "cell_type": "markdown",
   "metadata": {
    "slideshow": {
     "slide_type": "slide"
    }
   },
   "source": [
    "Sa samim matematičkim operacijama nećemo daleko doći. R ima i funkcije - operacije koje primaju parametre (eng. *argument*) i vraćaju neke vrijednosti.\n",
    "\n",
    "Funkcije u R-u imaju opći oblik `funkcija(argument1, argument2, ... , argumentN)`. "
   ]
  },
  {
   "cell_type": "markdown",
   "metadata": {
    "slideshow": {
     "slide_type": "slide"
    }
   },
   "source": [
    "Prva funkcija koju ćemo pogledati, a koja nadopunjava matematičke operacije s kojima smo započeli je `sqrt`, kojom možemo dobiti korijen nekog broja."
   ]
  },
  {
   "cell_type": "code",
   "execution_count": 4,
   "metadata": {},
   "outputs": [
    {
     "data": {
      "text/html": [
       "2"
      ],
      "text/latex": [
       "2"
      ],
      "text/markdown": [
       "2"
      ],
      "text/plain": [
       "[1] 2"
      ]
     },
     "metadata": {},
     "output_type": "display_data"
    }
   ],
   "source": [
    "sqrt(4)"
   ]
  },
  {
   "cell_type": "markdown",
   "metadata": {
    "slideshow": {
     "slide_type": "slide"
    }
   },
   "source": [
    "Druga, koja se u R-u javlja **jako** često, je `c` (što je, prema Adleru [2012] skraćeno za *combine*). `c` uzima $N$ argumenata i spaja ih u **vektor**."
   ]
  },
  {
   "cell_type": "code",
   "execution_count": 5,
   "metadata": {},
   "outputs": [
    {
     "data": {
      "text/html": [
       "<ol class=list-inline>\n",
       "\t<li>'patka'</li>\n",
       "\t<li>'krava'</li>\n",
       "\t<li>'pile'</li>\n",
       "\t<li>'krumpir'</li>\n",
       "</ol>\n"
      ],
      "text/latex": [
       "\\begin{enumerate*}\n",
       "\\item 'patka'\n",
       "\\item 'krava'\n",
       "\\item 'pile'\n",
       "\\item 'krumpir'\n",
       "\\end{enumerate*}\n"
      ],
      "text/markdown": [
       "1. 'patka'\n",
       "2. 'krava'\n",
       "3. 'pile'\n",
       "4. 'krumpir'\n",
       "\n",
       "\n"
      ],
      "text/plain": [
       "[1] \"patka\"   \"krava\"   \"pile\"    \"krumpir\""
      ]
     },
     "metadata": {},
     "output_type": "display_data"
    },
    {
     "data": {
      "text/html": [
       "<ol class=list-inline>\n",
       "\t<li>5</li>\n",
       "\t<li>4</li>\n",
       "\t<li>3</li>\n",
       "\t<li>2</li>\n",
       "\t<li>1</li>\n",
       "</ol>\n"
      ],
      "text/latex": [
       "\\begin{enumerate*}\n",
       "\\item 5\n",
       "\\item 4\n",
       "\\item 3\n",
       "\\item 2\n",
       "\\item 1\n",
       "\\end{enumerate*}\n"
      ],
      "text/markdown": [
       "1. 5\n",
       "2. 4\n",
       "3. 3\n",
       "4. 2\n",
       "5. 1\n",
       "\n",
       "\n"
      ],
      "text/plain": [
       "[1] 5 4 3 2 1"
      ]
     },
     "metadata": {},
     "output_type": "display_data"
    }
   ],
   "source": [
    "# navodnici su bitni! ali mogu biti jednostruki ili dvostruki, bitno je samo da je riječ omeđena jednakim parom\n",
    "# nrp 'a' je oke, \"a' nije oke, ali zato \"a\" je\n",
    "c('patka', \"krava\", 'pile', \"krumpir\")\n",
    "\n",
    "c(5, 4, 3, 2, 1)"
   ]
  },
  {
   "cell_type": "markdown",
   "metadata": {
    "slideshow": {
     "slide_type": "subslide"
    }
   },
   "source": [
    "Koristeći `c`, stvorili smo dva vektora. Vektori spadaju među osnovne strukture podataka u R-u. Vektori mogu sadržavati proizvoljan broj elemenata **istog tipa**. O tipovima ćemo pričati malo kasnije.\n",
    "\n",
    "Sada ćemo se pozabaviti varijablama."
   ]
  },
  {
   "cell_type": "markdown",
   "metadata": {
    "slideshow": {
     "slide_type": "slide"
    }
   },
   "source": [
    "### Varijable"
   ]
  },
  {
   "cell_type": "markdown",
   "metadata": {},
   "source": [
    "Kad god smo dosad izvršavali neke funkcije, baratali smo konkretnim vrijednostima (npr. `2 + 2`), a rezultati su ostali lebdjeti u eteru, nedostupni običnim ljudima.\n",
    "\n",
    "Kako bismo mogli baratati proizovljnim vrijednostima te kako bismo rezultati izvukli iz etera, uvodimo **varijable**."
   ]
  },
  {
   "cell_type": "markdown",
   "metadata": {
    "slideshow": {
     "slide_type": "slide"
    }
   },
   "source": [
    "Varijablu imenujemo (eng. *declare*) tako što neki poluproizvoljan naziv spojimo s nekom vrijednosti, koristeći operator `<-`. Na pimjer:"
   ]
  },
  {
   "cell_type": "code",
   "execution_count": 6,
   "metadata": {},
   "outputs": [],
   "source": [
    "a <- 2"
   ]
  },
  {
   "cell_type": "markdown",
   "metadata": {
    "slideshow": {
     "slide_type": "subslide"
    }
   },
   "source": [
    "Ako sad u konzolu unesemo `a`, konzola će nam vratiti vrijednost te varijable. Isti rezultat dobili bismo ako bismo `a` iskoristili kao argument `print` funkcije (`print(a)`)."
   ]
  },
  {
   "cell_type": "code",
   "execution_count": 7,
   "metadata": {},
   "outputs": [
    {
     "data": {
      "text/html": [
       "2"
      ],
      "text/latex": [
       "2"
      ],
      "text/markdown": [
       "2"
      ],
      "text/plain": [
       "[1] 2"
      ]
     },
     "metadata": {},
     "output_type": "display_data"
    }
   ],
   "source": [
    "a"
   ]
  },
  {
   "cell_type": "markdown",
   "metadata": {
    "slideshow": {
     "slide_type": "subslide"
    }
   },
   "source": [
    "Vrijednosti varijablama možemo pridavati (eng. *assign*) i koristeći znak `=` (razlikovati od `==`!), no to se **ne preporučuje**. Osim toga, vrijednosti možemo pridavati i s lijeva na desno, koristeći `->`:"
   ]
  },
  {
   "cell_type": "code",
   "execution_count": 8,
   "metadata": {},
   "outputs": [
    {
     "data": {
      "text/html": [
       "3"
      ],
      "text/latex": [
       "3"
      ],
      "text/markdown": [
       "3"
      ],
      "text/plain": [
       "[1] 3"
      ]
     },
     "metadata": {},
     "output_type": "display_data"
    }
   ],
   "source": [
    "3 -> b\n",
    "b"
   ]
  },
  {
   "cell_type": "markdown",
   "metadata": {
    "slideshow": {
     "slide_type": "slide"
    }
   },
   "source": [
    "Imena varijabli mogu sadržavati slova, brojeve, točke (`.`) i underscoreove (čija hrvatska imena ne znam; `_`). Imena varijabli ne mogu započinjati s točkom koju prati broj. Na primjer:"
   ]
  },
  {
   "cell_type": "code",
   "execution_count": 9,
   "metadata": {},
   "outputs": [
    {
     "ename": "ERROR",
     "evalue": "Error in 0.3 <- 5: invalid (do_set) left-hand side to assignment\n",
     "output_type": "error",
     "traceback": [
      "Error in 0.3 <- 5: invalid (do_set) left-hand side to assignment\nTraceback:\n"
     ]
    }
   ],
   "source": [
    ".3 <- 5"
   ]
  },
  {
   "cell_type": "markdown",
   "metadata": {
    "slideshow": {
     "slide_type": "subslide"
    }
   },
   "source": [
    "Također, imena varijabli ne mogu biti izrazi koji su rezervirani u samom programskom jeziku, kao što je `for` (koji se koristi za iniciranje petlji)."
   ]
  },
  {
   "cell_type": "code",
   "execution_count": 10,
   "metadata": {},
   "outputs": [
    {
     "ename": "ERROR",
     "evalue": "Error in parse(text = x, srcfile = src): <text>:1:5: unexpected assignment\n1: for <-\n        ^\n",
     "output_type": "error",
     "traceback": [
      "Error in parse(text = x, srcfile = src): <text>:1:5: unexpected assignment\n1: for <-\n        ^\nTraceback:\n"
     ]
    }
   ],
   "source": [
    "for <- 5"
   ]
  },
  {
   "cell_type": "markdown",
   "metadata": {
    "slideshow": {
     "slide_type": "subslide"
    }
   },
   "source": [
    "Funkcija koja zna biti zgodna kod imenovanja varijabli je `exists`, koja kao argument prima izraz u navodnicima (što je poznato kao **string**) te vraća `TRUE` ili `FALSE` ovisno o tom je li objekt istog imena pronađen ili ne."
   ]
  },
  {
   "cell_type": "code",
   "execution_count": 11,
   "metadata": {},
   "outputs": [
    {
     "data": {
      "text/html": [
       "TRUE"
      ],
      "text/latex": [
       "TRUE"
      ],
      "text/markdown": [
       "TRUE"
      ],
      "text/plain": [
       "[1] TRUE"
      ]
     },
     "metadata": {},
     "output_type": "display_data"
    },
    {
     "data": {
      "text/html": [
       "TRUE"
      ],
      "text/latex": [
       "TRUE"
      ],
      "text/markdown": [
       "TRUE"
      ],
      "text/plain": [
       "[1] TRUE"
      ]
     },
     "metadata": {},
     "output_type": "display_data"
    },
    {
     "data": {
      "text/html": [
       "TRUE"
      ],
      "text/latex": [
       "TRUE"
      ],
      "text/markdown": [
       "TRUE"
      ],
      "text/plain": [
       "[1] TRUE"
      ]
     },
     "metadata": {},
     "output_type": "display_data"
    },
    {
     "data": {
      "text/html": [
       "FALSE"
      ],
      "text/latex": [
       "FALSE"
      ],
      "text/markdown": [
       "FALSE"
      ],
      "text/plain": [
       "[1] FALSE"
      ]
     },
     "metadata": {},
     "output_type": "display_data"
    }
   ],
   "source": [
    "# varijabla koju smo ranije stvorili\n",
    "exists('a')\n",
    "\n",
    "# ključna riječ, definirana u R-u, ne smijemo koristiti\n",
    "exists('for')\n",
    "\n",
    "# ključna riječ, definirana u R-u, ne smijemo koristiti\n",
    "exists('if')\n",
    "\n",
    "# ime koje nije iskorišteno\n",
    "exists('maca')"
   ]
  },
  {
   "cell_type": "markdown",
   "metadata": {
    "slideshow": {
     "slide_type": "slide"
    }
   },
   "source": [
    "Sad kad znamo kako varijablama pripisati vrijednosti, možemo spremiti vektore koje smo ranije napravili koristeći `c`. Neovisno o tome što *možemo* koristiti svašta za imena varijabli, trebali bismo se truditi imena učiniti smislenima. Dugoročno, to će nas poštedjeti puno mentalnog (a nekad i R-ovskog) napora. Također, savjetovao bih da izbjegavate korištenje \"hrvatskih\" znakova (č, ć, ž, š, đ) u svom kodu; korištenje tih znakova može izazvati snažne glavobolje."
   ]
  },
  {
   "cell_type": "code",
   "execution_count": 12,
   "metadata": {
    "slideshow": {
     "slide_type": "slide"
    }
   },
   "outputs": [],
   "source": [
    "domace_zivotinje_i_krumpir <- c('patka', 'krava', 'pile', 'krumpir')\n",
    "\n",
    "brojevi.5.do.1 <- c(5, 4, 3, 2, 1)"
   ]
  },
  {
   "cell_type": "markdown",
   "metadata": {
    "slideshow": {
     "slide_type": "slide"
    }
   },
   "source": [
    "Kao i kad smo varijabli `a` pripisali vrijednost `2`, ni sada ne dobivamo nikakav output u konzoli. Ali možemo koristiti `print` ili samo upisati ime varijable u konzolu kako bismo dobili njenu vrijednost."
   ]
  },
  {
   "cell_type": "code",
   "execution_count": 13,
   "metadata": {},
   "outputs": [
    {
     "name": "stdout",
     "output_type": "stream",
     "text": [
      "[1] \"patka\"   \"krava\"   \"pile\"    \"krumpir\"\n"
     ]
    }
   ],
   "source": [
    "print(domace_zivotinje_i_krumpir)"
   ]
  },
  {
   "cell_type": "code",
   "execution_count": 14,
   "metadata": {},
   "outputs": [
    {
     "data": {
      "text/html": [
       "<ol class=list-inline>\n",
       "\t<li>5</li>\n",
       "\t<li>4</li>\n",
       "\t<li>3</li>\n",
       "\t<li>2</li>\n",
       "\t<li>1</li>\n",
       "</ol>\n"
      ],
      "text/latex": [
       "\\begin{enumerate*}\n",
       "\\item 5\n",
       "\\item 4\n",
       "\\item 3\n",
       "\\item 2\n",
       "\\item 1\n",
       "\\end{enumerate*}\n"
      ],
      "text/markdown": [
       "1. 5\n",
       "2. 4\n",
       "3. 3\n",
       "4. 2\n",
       "5. 1\n",
       "\n",
       "\n"
      ],
      "text/plain": [
       "[1] 5 4 3 2 1"
      ]
     },
     "metadata": {},
     "output_type": "display_data"
    }
   ],
   "source": [
    "brojevi.5.do.1"
   ]
  },
  {
   "cell_type": "markdown",
   "metadata": {
    "slideshow": {
     "slide_type": "slide"
    }
   },
   "source": [
    "Sad kad smo svoje vektore pripisali varijablama, možemo dohvaćati pojedine vrijednosti iz njih. Na primjer, ako želimo dohvatiti prvu vrijednost iz vektora `domace_zivotinje_i_krumpir`, možemo učiniti ovo:"
   ]
  },
  {
   "cell_type": "code",
   "execution_count": 15,
   "metadata": {},
   "outputs": [
    {
     "data": {
      "text/html": [
       "'patka'"
      ],
      "text/latex": [
       "'patka'"
      ],
      "text/markdown": [
       "'patka'"
      ],
      "text/plain": [
       "[1] \"patka\""
      ]
     },
     "metadata": {},
     "output_type": "display_data"
    }
   ],
   "source": [
    "domace_zivotinje_i_krumpir[1]"
   ]
  },
  {
   "cell_type": "markdown",
   "metadata": {
    "slideshow": {
     "slide_type": "subslide"
    }
   },
   "source": [
    "`1` je, u ovom slučaju, **indeks**. U R-u, za razliku od većine drugih programskih jezika, indeksiranje započinje s `1`, a ne s `0`.\n",
    "\n",
    "Za dohvaćanje trećeg elementa iz vektora `brojevi.5.do.1` izvršili bismo:"
   ]
  },
  {
   "cell_type": "code",
   "execution_count": 16,
   "metadata": {},
   "outputs": [
    {
     "data": {
      "text/html": [
       "3"
      ],
      "text/latex": [
       "3"
      ],
      "text/markdown": [
       "3"
      ],
      "text/plain": [
       "[1] 3"
      ]
     },
     "metadata": {},
     "output_type": "display_data"
    }
   ],
   "source": [
    "brojevi.5.do.1[3]"
   ]
  },
  {
   "cell_type": "markdown",
   "metadata": {
    "slideshow": {
     "slide_type": "subslide"
    }
   },
   "source": [
    "Zadnji element možemo dohvatiti pomoću funkcije `length`, koja vraća duljinu vektora, tj. broj elemenata koji se u njemu nalaze. Na primjer:"
   ]
  },
  {
   "cell_type": "code",
   "execution_count": 18,
   "metadata": {},
   "outputs": [
    {
     "data": {
      "text/html": [
       "4"
      ],
      "text/latex": [
       "4"
      ],
      "text/markdown": [
       "4"
      ],
      "text/plain": [
       "[1] 4"
      ]
     },
     "metadata": {},
     "output_type": "display_data"
    }
   ],
   "source": [
    "length(domace_zivotinje_i_krumpir)"
   ]
  },
  {
   "cell_type": "markdown",
   "metadata": {
    "slideshow": {
     "slide_type": "subslide"
    }
   },
   "source": [
    "Budući da broj elemenata ujedno označava i posljednji element, možemo učiniti sljedeće:"
   ]
  },
  {
   "cell_type": "code",
   "execution_count": 20,
   "metadata": {},
   "outputs": [
    {
     "data": {
      "text/html": [
       "'krumpir'"
      ],
      "text/latex": [
       "'krumpir'"
      ],
      "text/markdown": [
       "'krumpir'"
      ],
      "text/plain": [
       "[1] \"krumpir\""
      ]
     },
     "metadata": {},
     "output_type": "display_data"
    },
    {
     "data": {
      "text/html": [
       "'krumpir'"
      ],
      "text/latex": [
       "'krumpir'"
      ],
      "text/markdown": [
       "'krumpir'"
      ],
      "text/plain": [
       "[1] \"krumpir\""
      ]
     },
     "metadata": {},
     "output_type": "display_data"
    },
    {
     "data": {
      "text/html": [
       "TRUE"
      ],
      "text/latex": [
       "TRUE"
      ],
      "text/markdown": [
       "TRUE"
      ],
      "text/plain": [
       "[1] TRUE"
      ]
     },
     "metadata": {},
     "output_type": "display_data"
    }
   ],
   "source": [
    "# dohvaćanje pomoću indeksa\n",
    "domace_zivotinje_i_krumpir[4]\n",
    "\n",
    "# dohvacanje pomocu funkcije length()\n",
    "domace_zivotinje_i_krumpir[length(domace_zivotinje_i_krumpir)]\n",
    "\n",
    "# iskoristit ćemo priliku i pokazati kako možemo usporediti dvije vrijednosti\n",
    "domace_zivotinje_i_krumpir[4] == domace_zivotinje_i_krumpir[length(domace_zivotinje_i_krumpir)]"
   ]
  },
  {
   "cell_type": "markdown",
   "metadata": {
    "slideshow": {
     "slide_type": "subslide"
    }
   },
   "source": [
    "Ovo funkcionira jer evaluiranje, odnosno izvršavanje koda `length(domace_zivotinje_i_krumpir)` kao rezultat vraća brojku `4`."
   ]
  },
  {
   "cell_type": "markdown",
   "metadata": {
    "slideshow": {
     "slide_type": "subslide"
    }
   },
   "source": [
    "Također, vidjeli smo da možemo koristiti `==` kako bismo provjerili jesu li dva objekta, odnosno dvije varijable jednake. Na primjer"
   ]
  },
  {
   "cell_type": "code",
   "execution_count": 21,
   "metadata": {},
   "outputs": [
    {
     "data": {
      "text/html": [
       "TRUE"
      ],
      "text/latex": [
       "TRUE"
      ],
      "text/markdown": [
       "TRUE"
      ],
      "text/plain": [
       "[1] TRUE"
      ]
     },
     "metadata": {},
     "output_type": "display_data"
    },
    {
     "data": {
      "text/html": [
       "TRUE"
      ],
      "text/latex": [
       "TRUE"
      ],
      "text/markdown": [
       "TRUE"
      ],
      "text/plain": [
       "[1] TRUE"
      ]
     },
     "metadata": {},
     "output_type": "display_data"
    },
    {
     "data": {
      "text/html": [
       "FALSE"
      ],
      "text/latex": [
       "FALSE"
      ],
      "text/markdown": [
       "FALSE"
      ],
      "text/plain": [
       "[1] FALSE"
      ]
     },
     "metadata": {},
     "output_type": "display_data"
    }
   ],
   "source": [
    "2 + 2 == 4\n",
    "\n",
    "4 == 4\n",
    "\n",
    "4 == 5"
   ]
  },
  {
   "cell_type": "markdown",
   "metadata": {},
   "source": [
    "Treba voditi računa o tome da su `==` i `=` **vrlo različiti**!"
   ]
  },
  {
   "cell_type": "markdown",
   "metadata": {
    "slideshow": {
     "slide_type": "slide"
    }
   },
   "source": [
    "#### Tipovi varijabli"
   ]
  },
  {
   "cell_type": "markdown",
   "metadata": {
    "slideshow": {
     "slide_type": "slide"
    }
   },
   "source": [
    "R razlikuje nekoliko osnovnih tipova podataka:\n",
    "- `character` : \"stringovi\", tj. tekstualni podaci. Npr. `'patka'`\n",
    "- `integer` : cijeli brojevi. Npr. `1`\n",
    "- `numeric` : realni brojevi. Npr. `1.161`\n",
    "- `logical` : logičke vrijednosti. Postoje ukupno dvije - `TRUE` (može se kratiti u `T`) i `FALSE` (može se kratiti u `F`)\n",
    "\n",
    "Pogledat ćemo nekoliko primjera ovih tipova, te vidjeti kako možemo provjeriti kojeg je neka varijabla ili vrijednost tipa."
   ]
  },
  {
   "cell_type": "code",
   "execution_count": 27,
   "metadata": {
    "slideshow": {
     "slide_type": "slide"
    }
   },
   "outputs": [
    {
     "data": {
      "text/html": [
       "'susjed'"
      ],
      "text/latex": [
       "'susjed'"
      ],
      "text/markdown": [
       "'susjed'"
      ],
      "text/plain": [
       "[1] \"susjed\""
      ]
     },
     "metadata": {},
     "output_type": "display_data"
    },
    {
     "data": {
      "text/html": [
       "TRUE"
      ],
      "text/latex": [
       "TRUE"
      ],
      "text/markdown": [
       "TRUE"
      ],
      "text/plain": [
       "[1] TRUE"
      ]
     },
     "metadata": {},
     "output_type": "display_data"
    },
    {
     "data": {
      "text/html": [
       "TRUE"
      ],
      "text/latex": [
       "TRUE"
      ],
      "text/markdown": [
       "TRUE"
      ],
      "text/plain": [
       "[1] TRUE"
      ]
     },
     "metadata": {},
     "output_type": "display_data"
    },
    {
     "data": {
      "text/html": [
       "FALSE"
      ],
      "text/latex": [
       "FALSE"
      ],
      "text/markdown": [
       "FALSE"
      ],
      "text/plain": [
       "[1] FALSE"
      ]
     },
     "metadata": {},
     "output_type": "display_data"
    }
   ],
   "source": [
    "# character\n",
    "'susjed'\n",
    "\n",
    "# da bismo provjerili je li neka vrijednost character, koristimo is.character()\n",
    "is.character('susjed')\n",
    "is.character(domace_zivotinje_i_krumpir[4])\n",
    "is.character(1)"
   ]
  },
  {
   "cell_type": "markdown",
   "metadata": {
    "slideshow": {
     "slide_type": "slide"
    }
   },
   "source": [
    "Kod `integer` i `numeric` tipova postoje neke specifičnosti."
   ]
  },
  {
   "cell_type": "code",
   "execution_count": 28,
   "metadata": {},
   "outputs": [
    {
     "data": {
      "text/html": [
       "1"
      ],
      "text/latex": [
       "1"
      ],
      "text/markdown": [
       "1"
      ],
      "text/plain": [
       "[1] 1"
      ]
     },
     "metadata": {},
     "output_type": "display_data"
    },
    {
     "data": {
      "text/html": [
       "FALSE"
      ],
      "text/latex": [
       "FALSE"
      ],
      "text/markdown": [
       "FALSE"
      ],
      "text/plain": [
       "[1] FALSE"
      ]
     },
     "metadata": {},
     "output_type": "display_data"
    }
   ],
   "source": [
    "# integer\n",
    "1\n",
    "\n",
    "# za provjeravanje koristimo is.integer()\n",
    "is.integer(1)"
   ]
  },
  {
   "cell_type": "markdown",
   "metadata": {
    "slideshow": {
     "slide_type": "subslide"
    }
   },
   "source": [
    "Pozivanje funkcije `is.integer()` s vrijednosti `1` vraća `FALSE`. To je zato jer R brojeve automatski sprema kao `numeric`."
   ]
  },
  {
   "cell_type": "code",
   "execution_count": 29,
   "metadata": {},
   "outputs": [
    {
     "data": {
      "text/html": [
       "TRUE"
      ],
      "text/latex": [
       "TRUE"
      ],
      "text/markdown": [
       "TRUE"
      ],
      "text/plain": [
       "[1] TRUE"
      ]
     },
     "metadata": {},
     "output_type": "display_data"
    }
   ],
   "source": [
    "# za provjeravanje je li broj numeric koristimo is.numeric()\n",
    "is.numeric(1)"
   ]
  },
  {
   "cell_type": "markdown",
   "metadata": {
    "slideshow": {
     "slide_type": "subslide"
    }
   },
   "source": [
    "Kako bismo natjerali R da nam da `integer` vrijednost, možemo staviti `L` na kraj broja:"
   ]
  },
  {
   "cell_type": "code",
   "execution_count": 30,
   "metadata": {},
   "outputs": [
    {
     "data": {
      "text/html": [
       "TRUE"
      ],
      "text/latex": [
       "TRUE"
      ],
      "text/markdown": [
       "TRUE"
      ],
      "text/plain": [
       "[1] TRUE"
      ]
     },
     "metadata": {},
     "output_type": "display_data"
    }
   ],
   "source": [
    "is.integer(1L)"
   ]
  },
  {
   "cell_type": "markdown",
   "metadata": {
    "slideshow": {
     "slide_type": "subslide"
    }
   },
   "source": [
    "Ovo je zgodno znati jer se može dogoditi da funkcija traži `integer`, ali odbija prihvatiti (recimo) `5` kao odgovarajuću vrijednost."
   ]
  },
  {
   "cell_type": "code",
   "execution_count": 31,
   "metadata": {},
   "outputs": [
    {
     "data": {
      "text/html": [
       "TRUE"
      ],
      "text/latex": [
       "TRUE"
      ],
      "text/markdown": [
       "TRUE"
      ],
      "text/plain": [
       "[1] TRUE"
      ]
     },
     "metadata": {},
     "output_type": "display_data"
    }
   ],
   "source": [
    "# na kraju, numeric\n",
    "is.numeric(1.5115)"
   ]
  },
  {
   "cell_type": "markdown",
   "metadata": {
    "slideshow": {
     "slide_type": "subslide"
    }
   },
   "source": [
    "Za pisanje decimalnih brojeva **moramo koristiti točku**."
   ]
  },
  {
   "cell_type": "code",
   "execution_count": 32,
   "metadata": {},
   "outputs": [
    {
     "ename": "ERROR",
     "evalue": "Error in is.numeric(1, 4141): 2 arguments passed to 'is.numeric' which requires 1\n",
     "output_type": "error",
     "traceback": [
      "Error in is.numeric(1, 4141): 2 arguments passed to 'is.numeric' which requires 1\nTraceback:\n"
     ]
    }
   ],
   "source": [
    "is.numeric(1,4141)"
   ]
  },
  {
   "cell_type": "code",
   "execution_count": 33,
   "metadata": {},
   "outputs": [
    {
     "ename": "ERROR",
     "evalue": "Error in parse(text = x, srcfile = src): <text>:1:2: unexpected ','\n1: 1,\n     ^\n",
     "output_type": "error",
     "traceback": [
      "Error in parse(text = x, srcfile = src): <text>:1:2: unexpected ','\n1: 1,\n     ^\nTraceback:\n"
     ]
    }
   ],
   "source": [
    "1,5151 + 1"
   ]
  },
  {
   "cell_type": "markdown",
   "metadata": {
    "slideshow": {
     "slide_type": "slide"
    }
   },
   "source": [
    "Posljednji tip je `logical`:"
   ]
  },
  {
   "cell_type": "code",
   "execution_count": 34,
   "metadata": {},
   "outputs": [
    {
     "data": {
      "text/html": [
       "TRUE"
      ],
      "text/latex": [
       "TRUE"
      ],
      "text/markdown": [
       "TRUE"
      ],
      "text/plain": [
       "[1] TRUE"
      ]
     },
     "metadata": {},
     "output_type": "display_data"
    },
    {
     "data": {
      "text/html": [
       "TRUE"
      ],
      "text/latex": [
       "TRUE"
      ],
      "text/markdown": [
       "TRUE"
      ],
      "text/plain": [
       "[1] TRUE"
      ]
     },
     "metadata": {},
     "output_type": "display_data"
    },
    {
     "data": {
      "text/html": [
       "TRUE"
      ],
      "text/latex": [
       "TRUE"
      ],
      "text/markdown": [
       "TRUE"
      ],
      "text/plain": [
       "[1] TRUE"
      ]
     },
     "metadata": {},
     "output_type": "display_data"
    },
    {
     "data": {
      "text/html": [
       "TRUE"
      ],
      "text/latex": [
       "TRUE"
      ],
      "text/markdown": [
       "TRUE"
      ],
      "text/plain": [
       "[1] TRUE"
      ]
     },
     "metadata": {},
     "output_type": "display_data"
    }
   ],
   "source": [
    "TRUE == T\n",
    "FALSE == F\n",
    "\n",
    "is.logical(TRUE)\n",
    "\n",
    "is.logical(F)"
   ]
  },
  {
   "cell_type": "markdown",
   "metadata": {
    "slideshow": {
     "slide_type": "slide"
    }
   },
   "source": [
    "Za kraj, pogledat ćemo output različitih `is.` funkcija kad im damo razičite vrijednosti."
   ]
  },
  {
   "cell_type": "code",
   "execution_count": 36,
   "metadata": {},
   "outputs": [
    {
     "data": {
      "text/html": [
       "FALSE"
      ],
      "text/latex": [
       "FALSE"
      ],
      "text/markdown": [
       "FALSE"
      ],
      "text/plain": [
       "[1] FALSE"
      ]
     },
     "metadata": {},
     "output_type": "display_data"
    },
    {
     "data": {
      "text/html": [
       "TRUE"
      ],
      "text/latex": [
       "TRUE"
      ],
      "text/markdown": [
       "TRUE"
      ],
      "text/plain": [
       "[1] TRUE"
      ]
     },
     "metadata": {},
     "output_type": "display_data"
    },
    {
     "data": {
      "text/html": [
       "FALSE"
      ],
      "text/latex": [
       "FALSE"
      ],
      "text/markdown": [
       "FALSE"
      ],
      "text/plain": [
       "[1] FALSE"
      ]
     },
     "metadata": {},
     "output_type": "display_data"
    },
    {
     "data": {
      "text/html": [
       "FALSE"
      ],
      "text/latex": [
       "FALSE"
      ],
      "text/markdown": [
       "FALSE"
      ],
      "text/plain": [
       "[1] FALSE"
      ]
     },
     "metadata": {},
     "output_type": "display_data"
    }
   ],
   "source": [
    "is.logical(1)\n",
    "\n",
    "is.numeric(1L)\n",
    "\n",
    "is.character(02918)\n",
    "\n",
    "is.integer(151518)"
   ]
  },
  {
   "cell_type": "markdown",
   "metadata": {
    "slideshow": {
     "slide_type": "subslide"
    }
   },
   "source": [
    "Primjećujemo da se `1L` tretira i kao `numeric` tip."
   ]
  },
  {
   "cell_type": "code",
   "execution_count": 37,
   "metadata": {},
   "outputs": [
    {
     "data": {
      "text/html": [
       "TRUE"
      ],
      "text/latex": [
       "TRUE"
      ],
      "text/markdown": [
       "TRUE"
      ],
      "text/plain": [
       "[1] TRUE"
      ]
     },
     "metadata": {},
     "output_type": "display_data"
    },
    {
     "data": {
      "text/html": [
       "TRUE"
      ],
      "text/latex": [
       "TRUE"
      ],
      "text/markdown": [
       "TRUE"
      ],
      "text/plain": [
       "[1] TRUE"
      ]
     },
     "metadata": {},
     "output_type": "display_data"
    }
   ],
   "source": [
    "is.integer(1L)\n",
    "\n",
    "is.numeric(1L)"
   ]
  },
  {
   "cell_type": "markdown",
   "metadata": {
    "slideshow": {
     "slide_type": "subslide"
    }
   },
   "source": [
    "Isto ne vrijedi za, na primjer, `5.911`:"
   ]
  },
  {
   "cell_type": "code",
   "execution_count": 38,
   "metadata": {},
   "outputs": [
    {
     "data": {
      "text/html": [
       "FALSE"
      ],
      "text/latex": [
       "FALSE"
      ],
      "text/markdown": [
       "FALSE"
      ],
      "text/plain": [
       "[1] FALSE"
      ]
     },
     "metadata": {},
     "output_type": "display_data"
    },
    {
     "data": {
      "text/html": [
       "TRUE"
      ],
      "text/latex": [
       "TRUE"
      ],
      "text/markdown": [
       "TRUE"
      ],
      "text/plain": [
       "[1] TRUE"
      ]
     },
     "metadata": {},
     "output_type": "display_data"
    }
   ],
   "source": [
    "is.integer(5.911)\n",
    "\n",
    "is.numeric(5.911)"
   ]
  },
  {
   "cell_type": "markdown",
   "metadata": {
    "slideshow": {
     "slide_type": "slide"
    }
   },
   "source": [
    "Nakon upoznavanja s osnovnim tipovima vrijednosti i varijabli, pogledat ćemo osnovne strukture podataka."
   ]
  },
  {
   "cell_type": "markdown",
   "metadata": {
    "slideshow": {
     "slide_type": "slide"
    }
   },
   "source": [
    "### Strukture podataka"
   ]
  },
  {
   "cell_type": "markdown",
   "metadata": {
    "slideshow": {
     "slide_type": "slide"
    }
   },
   "source": [
    "Strukture podataka su formati organiziranja, upravljanja i spremanja podataka koji omogućuju efikasno pristupanje podacima i njihovo modificiranje (https://en.wikipedia.org/wiki/Data_structure).\n",
    "\n",
    "Već smo se upoznali s jednim tipom strukture podataka u R-u, a to je vektor. R ima nekoliko osnovnih struktura podataka. Ovdje ćemo proći kroz one koje se najčešće javljaju."
   ]
  },
  {
   "cell_type": "markdown",
   "metadata": {
    "slideshow": {
     "slide_type": "subslide"
    }
   },
   "source": [
    "Za ponavljanje, stvorit ćemo novi vektor:"
   ]
  },
  {
   "cell_type": "code",
   "execution_count": 18,
   "metadata": {},
   "outputs": [
    {
     "data": {
      "text/html": [
       "<ol class=list-inline>\n",
       "\t<li>'vektor'</li>\n",
       "\t<li>'od'</li>\n",
       "\t<li>'4'</li>\n",
       "\t<li>'elementa'</li>\n",
       "</ol>\n"
      ],
      "text/latex": [
       "\\begin{enumerate*}\n",
       "\\item 'vektor'\n",
       "\\item 'od'\n",
       "\\item '4'\n",
       "\\item 'elementa'\n",
       "\\end{enumerate*}\n"
      ],
      "text/markdown": [
       "1. 'vektor'\n",
       "2. 'od'\n",
       "3. '4'\n",
       "4. 'elementa'\n",
       "\n",
       "\n"
      ],
      "text/plain": [
       "[1] \"vektor\"   \"od\"       \"4\"        \"elementa\""
      ]
     },
     "metadata": {},
     "output_type": "display_data"
    },
    {
     "data": {
      "text/html": [
       "TRUE"
      ],
      "text/latex": [
       "TRUE"
      ],
      "text/markdown": [
       "TRUE"
      ],
      "text/plain": [
       "[1] TRUE"
      ]
     },
     "metadata": {},
     "output_type": "display_data"
    },
    {
     "data": {
      "text/html": [
       "TRUE"
      ],
      "text/latex": [
       "TRUE"
      ],
      "text/markdown": [
       "TRUE"
      ],
      "text/plain": [
       "[1] TRUE"
      ]
     },
     "metadata": {},
     "output_type": "display_data"
    }
   ],
   "source": [
    "c('vektor', 'od', '4', 'elementa')\n",
    "\n",
    "# možemo provjeriti je li neki objekt vektor koristeći is.vector\n",
    "is.vector(c('vektor', 'od', '4', 'elementa'))\n",
    "\n",
    "# funkcije za provjeravanje tipova varijabli možemo primijeniti i na vektore\n",
    "is.character(c('vektor', 'od', '4', 'elementa'))"
   ]
  },
  {
   "cell_type": "markdown",
   "metadata": {
    "slideshow": {
     "slide_type": "slide"
    }
   },
   "source": [
    "#### data.frame"
   ]
  },
  {
   "cell_type": "markdown",
   "metadata": {
    "slideshow": {
     "slide_type": "slide"
    }
   },
   "source": [
    "`data.frame` je vjerojatno najvažnija osnovna struktura (ili barem ona s kojom ćete se najčešće družiti). On odgovara onom što možemo vidjeti u *Data viewu* SPSS-a - sastoji se od redova koji predstavljaju opažanja/sudionike/caseove i stupaca koji predstavljaju varijable. Može sadržavati varijable koje su različitih tipova (za razliku od nekih drugih struktura, koje žele gledati samo jedan tip podataka)."
   ]
  },
  {
   "cell_type": "markdown",
   "metadata": {
    "slideshow": {
     "slide_type": "slide"
    }
   },
   "source": [
    "`data.frame` možemo stvoriti koristeći istoimenu funkciju:"
   ]
  },
  {
   "cell_type": "code",
   "execution_count": 3,
   "metadata": {},
   "outputs": [
    {
     "data": {
      "text/html": [
       "<table>\n",
       "<thead><tr><th scope=col>brojke</th><th scope=col>slova</th><th scope=col>logike</th></tr></thead>\n",
       "<tbody>\n",
       "\t<tr><td>1    </td><td>a    </td><td>FALSE</td></tr>\n",
       "\t<tr><td>2    </td><td>b    </td><td>FALSE</td></tr>\n",
       "\t<tr><td>3    </td><td>de   </td><td> TRUE</td></tr>\n",
       "\t<tr><td>4    </td><td>ce   </td><td> TRUE</td></tr>\n",
       "\t<tr><td>5    </td><td>fe   </td><td>FALSE</td></tr>\n",
       "</tbody>\n",
       "</table>\n"
      ],
      "text/latex": [
       "\\begin{tabular}{r|lll}\n",
       " brojke & slova & logike\\\\\n",
       "\\hline\n",
       "\t 1     & a     & FALSE\\\\\n",
       "\t 2     & b     & FALSE\\\\\n",
       "\t 3     & de    &  TRUE\\\\\n",
       "\t 4     & ce    &  TRUE\\\\\n",
       "\t 5     & fe    & FALSE\\\\\n",
       "\\end{tabular}\n"
      ],
      "text/markdown": [
       "\n",
       "brojke | slova | logike | \n",
       "|---|---|---|---|---|\n",
       "| 1     | a     | FALSE | \n",
       "| 2     | b     | FALSE | \n",
       "| 3     | de    |  TRUE | \n",
       "| 4     | ce    |  TRUE | \n",
       "| 5     | fe    | FALSE | \n",
       "\n",
       "\n"
      ],
      "text/plain": [
       "  brojke slova logike\n",
       "1 1      a     FALSE \n",
       "2 2      b     FALSE \n",
       "3 3      de     TRUE \n",
       "4 4      ce     TRUE \n",
       "5 5      fe    FALSE "
      ]
     },
     "metadata": {},
     "output_type": "display_data"
    }
   ],
   "source": [
    "data.frame('brojke' = c(1, 2, 3, 4, 5),\n",
    "           'slova' = c('a', 'b', 'de', 'ce', 'fe'),\n",
    "           'logike'= c(F, F, T, T, F))"
   ]
  },
  {
   "cell_type": "markdown",
   "metadata": {
    "slideshow": {
     "slide_type": "slide"
    }
   },
   "source": [
    "Pri stvaranju novog `data.framea`, svi redovi moraju imati vrijednosti na svim stupcima jer će se R inače požaliti."
   ]
  },
  {
   "cell_type": "code",
   "execution_count": 25,
   "metadata": {},
   "outputs": [
    {
     "ename": "ERROR",
     "evalue": "Error in data.frame(brojke = c(1, 2, 3, 4, 5), slova = c(\"a\", \"b\", \"de\", : arguments imply differing number of rows: 5, 4\n",
     "output_type": "error",
     "traceback": [
      "Error in data.frame(brojke = c(1, 2, 3, 4, 5), slova = c(\"a\", \"b\", \"de\", : arguments imply differing number of rows: 5, 4\nTraceback:\n",
      "1. data.frame(brojke = c(1, 2, 3, 4, 5), slova = c(\"a\", \"b\", \"de\", \n .     \"ce\", \"fe\"), logike = c(F, F, T, T))",
      "2. stop(gettextf(\"arguments imply differing number of rows: %s\", \n .     paste(unique(nrows), collapse = \", \")), domain = NA)"
     ]
    }
   ],
   "source": [
    "data.frame('brojke' = c(1, 2, 3, 4, 5),\n",
    "           'slova' = c('a', 'b', 'de', 'ce', 'fe'),\n",
    "           # maknuli smo zadnjji element (F) iz stupca 'logike'\n",
    "           'logike'= c(F, F, T, T))"
   ]
  },
  {
   "cell_type": "markdown",
   "metadata": {
    "slideshow": {
     "slide_type": "subslide"
    }
   },
   "source": [
    "Tome možemo doskočiti tako što ćemo eksplicitno neku vrijednost proglasiti nedostajućom, što činimo pomoću posebne vrijednosti `NA`:"
   ]
  },
  {
   "cell_type": "code",
   "execution_count": 26,
   "metadata": {},
   "outputs": [
    {
     "data": {
      "text/html": [
       "<table>\n",
       "<thead><tr><th scope=col>brojke</th><th scope=col>slova</th><th scope=col>logike</th></tr></thead>\n",
       "<tbody>\n",
       "\t<tr><td>1    </td><td>a    </td><td>FALSE</td></tr>\n",
       "\t<tr><td>2    </td><td>b    </td><td>FALSE</td></tr>\n",
       "\t<tr><td>3    </td><td>de   </td><td> TRUE</td></tr>\n",
       "\t<tr><td>4    </td><td>ce   </td><td> TRUE</td></tr>\n",
       "\t<tr><td>5    </td><td>fe   </td><td>   NA</td></tr>\n",
       "</tbody>\n",
       "</table>\n"
      ],
      "text/latex": [
       "\\begin{tabular}{r|lll}\n",
       " brojke & slova & logike\\\\\n",
       "\\hline\n",
       "\t 1     & a     & FALSE\\\\\n",
       "\t 2     & b     & FALSE\\\\\n",
       "\t 3     & de    &  TRUE\\\\\n",
       "\t 4     & ce    &  TRUE\\\\\n",
       "\t 5     & fe    &    NA\\\\\n",
       "\\end{tabular}\n"
      ],
      "text/markdown": [
       "\n",
       "brojke | slova | logike | \n",
       "|---|---|---|---|---|\n",
       "| 1     | a     | FALSE | \n",
       "| 2     | b     | FALSE | \n",
       "| 3     | de    |  TRUE | \n",
       "| 4     | ce    |  TRUE | \n",
       "| 5     | fe    |    NA | \n",
       "\n",
       "\n"
      ],
      "text/plain": [
       "  brojke slova logike\n",
       "1 1      a     FALSE \n",
       "2 2      b     FALSE \n",
       "3 3      de     TRUE \n",
       "4 4      ce     TRUE \n",
       "5 5      fe       NA "
      ]
     },
     "metadata": {},
     "output_type": "display_data"
    }
   ],
   "source": [
    "data.frame('brojke' = c(1, 2, 3, 4, 5),\n",
    "           'slova' = c('a', 'b', 'de', 'ce', 'fe'),\n",
    "           # umjesto posljednjeg elementa u stupcu 'logike' stavili smo NA\n",
    "           'logike'= c(F, F, T, T, NA))"
   ]
  },
  {
   "cell_type": "markdown",
   "metadata": {
    "slideshow": {
     "slide_type": "slide"
    }
   },
   "source": [
    "Proširit ćemo ovaj `data.frame` s još nekim vrijednostima te ga spremiti u varijablu `brojke_i_slova`:"
   ]
  },
  {
   "cell_type": "code",
   "execution_count": 59,
   "metadata": {},
   "outputs": [
    {
     "data": {
      "text/html": [
       "<table>\n",
       "<thead><tr><th scope=col>brojke</th><th scope=col>slova</th><th scope=col>logike</th></tr></thead>\n",
       "<tbody>\n",
       "\t<tr><td> 1   </td><td>a    </td><td>FALSE</td></tr>\n",
       "\t<tr><td> 2   </td><td>b    </td><td>FALSE</td></tr>\n",
       "\t<tr><td> 3   </td><td>c    </td><td> TRUE</td></tr>\n",
       "\t<tr><td> 4   </td><td>d    </td><td> TRUE</td></tr>\n",
       "\t<tr><td> 5   </td><td>e    </td><td>   NA</td></tr>\n",
       "\t<tr><td> 6   </td><td>f    </td><td>FALSE</td></tr>\n",
       "\t<tr><td> 7   </td><td>g    </td><td>FALSE</td></tr>\n",
       "\t<tr><td> 8   </td><td>h    </td><td> TRUE</td></tr>\n",
       "\t<tr><td> 9   </td><td>i    </td><td> TRUE</td></tr>\n",
       "\t<tr><td>10   </td><td>j    </td><td>   NA</td></tr>\n",
       "\t<tr><td>11   </td><td>k    </td><td>FALSE</td></tr>\n",
       "\t<tr><td>12   </td><td>l    </td><td>FALSE</td></tr>\n",
       "\t<tr><td>13   </td><td>m    </td><td> TRUE</td></tr>\n",
       "\t<tr><td>14   </td><td>n    </td><td> TRUE</td></tr>\n",
       "\t<tr><td>15   </td><td>o    </td><td>   NA</td></tr>\n",
       "</tbody>\n",
       "</table>\n"
      ],
      "text/latex": [
       "\\begin{tabular}{r|lll}\n",
       " brojke & slova & logike\\\\\n",
       "\\hline\n",
       "\t  1    & a     & FALSE\\\\\n",
       "\t  2    & b     & FALSE\\\\\n",
       "\t  3    & c     &  TRUE\\\\\n",
       "\t  4    & d     &  TRUE\\\\\n",
       "\t  5    & e     &    NA\\\\\n",
       "\t  6    & f     & FALSE\\\\\n",
       "\t  7    & g     & FALSE\\\\\n",
       "\t  8    & h     &  TRUE\\\\\n",
       "\t  9    & i     &  TRUE\\\\\n",
       "\t 10    & j     &    NA\\\\\n",
       "\t 11    & k     & FALSE\\\\\n",
       "\t 12    & l     & FALSE\\\\\n",
       "\t 13    & m     &  TRUE\\\\\n",
       "\t 14    & n     &  TRUE\\\\\n",
       "\t 15    & o     &    NA\\\\\n",
       "\\end{tabular}\n"
      ],
      "text/markdown": [
       "\n",
       "brojke | slova | logike | \n",
       "|---|---|---|---|---|---|---|---|---|---|---|---|---|---|---|\n",
       "|  1    | a     | FALSE | \n",
       "|  2    | b     | FALSE | \n",
       "|  3    | c     |  TRUE | \n",
       "|  4    | d     |  TRUE | \n",
       "|  5    | e     |    NA | \n",
       "|  6    | f     | FALSE | \n",
       "|  7    | g     | FALSE | \n",
       "|  8    | h     |  TRUE | \n",
       "|  9    | i     |  TRUE | \n",
       "| 10    | j     |    NA | \n",
       "| 11    | k     | FALSE | \n",
       "| 12    | l     | FALSE | \n",
       "| 13    | m     |  TRUE | \n",
       "| 14    | n     |  TRUE | \n",
       "| 15    | o     |    NA | \n",
       "\n",
       "\n"
      ],
      "text/plain": [
       "   brojke slova logike\n",
       "1   1     a     FALSE \n",
       "2   2     b     FALSE \n",
       "3   3     c      TRUE \n",
       "4   4     d      TRUE \n",
       "5   5     e        NA \n",
       "6   6     f     FALSE \n",
       "7   7     g     FALSE \n",
       "8   8     h      TRUE \n",
       "9   9     i      TRUE \n",
       "10 10     j        NA \n",
       "11 11     k     FALSE \n",
       "12 12     l     FALSE \n",
       "13 13     m      TRUE \n",
       "14 14     n      TRUE \n",
       "15 15     o        NA "
      ]
     },
     "metadata": {},
     "output_type": "display_data"
    }
   ],
   "source": [
    "brojke_i_slova <-\n",
    "           # osim korištenjem funkcije c(), vektore brojeva možemo stavarati\n",
    "           # i pomoću n:m\n",
    "           data.frame('brojke' = 1:15,\n",
    "           # pozivajući ugrađenu varijablu _letters_ možemo odabrati prvih 15\n",
    "           # (malih) slova\n",
    "           'slova' = letters[1:15],\n",
    "           'logike'= c(F, F, T, T, NA))\n",
    "\n",
    "brojke_i_slova"
   ]
  },
  {
   "cell_type": "markdown",
   "metadata": {
    "slideshow": {
     "slide_type": "slide"
    }
   },
   "source": [
    "Primjećujemo da se vrijednosti iz stupca `logike` ponavljaju. To funkcionira zato što je broj redova `data.framea` djeljiv s brojem elemenata koje smo stavili u vektor `logike` pri definiranju `data.framea` (imamo 15 redova, a vektor `logike` ima 5 elemenata).\n",
    "\n",
    "Sad kad smo proširili `brojke_i_slova`, pogledat ćemo kako možemo pristupati vrijednostima u `data.frameu`."
   ]
  },
  {
   "cell_type": "markdown",
   "metadata": {
    "slideshow": {
     "slide_type": "subslide"
    }
   },
   "source": [
    "Elementima možemo pristupati korištenjem uglatih zagrada, kao i kod vektora. Pritom treba imati na umu da je `data.frame` **dvodimenzionalni objekt**, zbog čega traži **dva indeksa** odvojena zarezom - **prvi** se odnosi na **redove**, a **drugi** na **stupce**.\n",
    "\n",
    "Ako jedan od indeksa izostavimo, ali stavimo zarez, R će vratiti sve elemente na odgovarajućem mjestu, odnosno vratit će sve redove ako izostavimo prvi indeks i sve stupce ako izostavimo drugi indeks."
   ]
  },
  {
   "cell_type": "code",
   "execution_count": 51,
   "metadata": {},
   "outputs": [
    {
     "data": {
      "text/html": [
       "<table>\n",
       "<thead><tr><th scope=col>brojke</th><th scope=col>slova</th><th scope=col>logike</th></tr></thead>\n",
       "<tbody>\n",
       "\t<tr><td>1    </td><td>a    </td><td>FALSE</td></tr>\n",
       "</tbody>\n",
       "</table>\n"
      ],
      "text/latex": [
       "\\begin{tabular}{r|lll}\n",
       " brojke & slova & logike\\\\\n",
       "\\hline\n",
       "\t 1     & a     & FALSE\\\\\n",
       "\\end{tabular}\n"
      ],
      "text/markdown": [
       "\n",
       "brojke | slova | logike | \n",
       "|---|\n",
       "| 1     | a     | FALSE | \n",
       "\n",
       "\n"
      ],
      "text/plain": [
       "  brojke slova logike\n",
       "1 1      a     FALSE "
      ]
     },
     "metadata": {},
     "output_type": "display_data"
    }
   ],
   "source": [
    "# svi stupci prvog  reda\n",
    "brojke_i_slova[1, ]"
   ]
  },
  {
   "cell_type": "code",
   "execution_count": 52,
   "metadata": {
    "slideshow": {
     "slide_type": "subslide"
    }
   },
   "outputs": [
    {
     "data": {
      "text/html": [
       "<ol class=list-inline>\n",
       "\t<li>1</li>\n",
       "\t<li>2</li>\n",
       "\t<li>3</li>\n",
       "\t<li>4</li>\n",
       "\t<li>5</li>\n",
       "\t<li>6</li>\n",
       "\t<li>7</li>\n",
       "\t<li>8</li>\n",
       "\t<li>9</li>\n",
       "\t<li>10</li>\n",
       "\t<li>11</li>\n",
       "\t<li>12</li>\n",
       "\t<li>13</li>\n",
       "\t<li>14</li>\n",
       "\t<li>15</li>\n",
       "</ol>\n"
      ],
      "text/latex": [
       "\\begin{enumerate*}\n",
       "\\item 1\n",
       "\\item 2\n",
       "\\item 3\n",
       "\\item 4\n",
       "\\item 5\n",
       "\\item 6\n",
       "\\item 7\n",
       "\\item 8\n",
       "\\item 9\n",
       "\\item 10\n",
       "\\item 11\n",
       "\\item 12\n",
       "\\item 13\n",
       "\\item 14\n",
       "\\item 15\n",
       "\\end{enumerate*}\n"
      ],
      "text/markdown": [
       "1. 1\n",
       "2. 2\n",
       "3. 3\n",
       "4. 4\n",
       "5. 5\n",
       "6. 6\n",
       "7. 7\n",
       "8. 8\n",
       "9. 9\n",
       "10. 10\n",
       "11. 11\n",
       "12. 12\n",
       "13. 13\n",
       "14. 14\n",
       "15. 15\n",
       "\n",
       "\n"
      ],
      "text/plain": [
       " [1]  1  2  3  4  5  6  7  8  9 10 11 12 13 14 15"
      ]
     },
     "metadata": {},
     "output_type": "display_data"
    }
   ],
   "source": [
    "# svi redovi prvog stupca\n",
    "brojke_i_slova[, 1]"
   ]
  },
  {
   "cell_type": "markdown",
   "metadata": {
    "slideshow": {
     "slide_type": "subslide"
    }
   },
   "source": [
    "Ovdje također možemo koristiti `n:m` sintaksu za dohvaćanje raspona vrijednosti. Na primjer, da bismo dohvatili prva tri reda i sve stupce `brojki_i_slova`, napravili bismo sljedeće:"
   ]
  },
  {
   "cell_type": "code",
   "execution_count": 54,
   "metadata": {},
   "outputs": [
    {
     "data": {
      "text/html": [
       "<table>\n",
       "<thead><tr><th scope=col>brojke</th><th scope=col>slova</th><th scope=col>logike</th></tr></thead>\n",
       "<tbody>\n",
       "\t<tr><td>1    </td><td>a    </td><td>FALSE</td></tr>\n",
       "\t<tr><td>2    </td><td>b    </td><td>FALSE</td></tr>\n",
       "\t<tr><td>3    </td><td>c    </td><td> TRUE</td></tr>\n",
       "</tbody>\n",
       "</table>\n"
      ],
      "text/latex": [
       "\\begin{tabular}{r|lll}\n",
       " brojke & slova & logike\\\\\n",
       "\\hline\n",
       "\t 1     & a     & FALSE\\\\\n",
       "\t 2     & b     & FALSE\\\\\n",
       "\t 3     & c     &  TRUE\\\\\n",
       "\\end{tabular}\n"
      ],
      "text/markdown": [
       "\n",
       "brojke | slova | logike | \n",
       "|---|---|---|\n",
       "| 1     | a     | FALSE | \n",
       "| 2     | b     | FALSE | \n",
       "| 3     | c     |  TRUE | \n",
       "\n",
       "\n"
      ],
      "text/plain": [
       "  brojke slova logike\n",
       "1 1      a     FALSE \n",
       "2 2      b     FALSE \n",
       "3 3      c      TRUE "
      ]
     },
     "metadata": {},
     "output_type": "display_data"
    }
   ],
   "source": [
    "# prva tri reda, svi stupci\n",
    "brojke_i_slova[1:3, ]"
   ]
  },
  {
   "cell_type": "markdown",
   "metadata": {
    "slideshow": {
     "slide_type": "subslide"
    }
   },
   "source": [
    "Za dohvaćanje vrijednosti koje nisu uzastopne, možemo koristiti funkciju `c`, koju također možemo kombinirati s `n:m` sintaksom:"
   ]
  },
  {
   "cell_type": "code",
   "execution_count": 57,
   "metadata": {},
   "outputs": [
    {
     "data": {
      "text/html": [
       "<table>\n",
       "<thead><tr><th></th><th scope=col>brojke</th><th scope=col>logike</th></tr></thead>\n",
       "<tbody>\n",
       "\t<tr><th scope=row>1</th><td> 1   </td><td>FALSE</td></tr>\n",
       "\t<tr><th scope=row>2</th><td> 2   </td><td>FALSE</td></tr>\n",
       "\t<tr><th scope=row>3</th><td> 3   </td><td> TRUE</td></tr>\n",
       "\t<tr><th scope=row>7</th><td> 7   </td><td>FALSE</td></tr>\n",
       "\t<tr><th scope=row>8</th><td> 8   </td><td> TRUE</td></tr>\n",
       "\t<tr><th scope=row>9</th><td> 9   </td><td> TRUE</td></tr>\n",
       "\t<tr><th scope=row>10</th><td>10   </td><td>   NA</td></tr>\n",
       "\t<tr><th scope=row>11</th><td>11   </td><td>FALSE</td></tr>\n",
       "\t<tr><th scope=row>12</th><td>12   </td><td>FALSE</td></tr>\n",
       "</tbody>\n",
       "</table>\n"
      ],
      "text/latex": [
       "\\begin{tabular}{r|ll}\n",
       "  & brojke & logike\\\\\n",
       "\\hline\n",
       "\t1 &  1    & FALSE\\\\\n",
       "\t2 &  2    & FALSE\\\\\n",
       "\t3 &  3    &  TRUE\\\\\n",
       "\t7 &  7    & FALSE\\\\\n",
       "\t8 &  8    &  TRUE\\\\\n",
       "\t9 &  9    &  TRUE\\\\\n",
       "\t10 & 10    &    NA\\\\\n",
       "\t11 & 11    & FALSE\\\\\n",
       "\t12 & 12    & FALSE\\\\\n",
       "\\end{tabular}\n"
      ],
      "text/markdown": [
       "\n",
       "| <!--/--> | brojke | logike | \n",
       "|---|---|---|---|---|---|---|---|---|\n",
       "| 1 |  1    | FALSE | \n",
       "| 2 |  2    | FALSE | \n",
       "| 3 |  3    |  TRUE | \n",
       "| 7 |  7    | FALSE | \n",
       "| 8 |  8    |  TRUE | \n",
       "| 9 |  9    |  TRUE | \n",
       "| 10 | 10    |    NA | \n",
       "| 11 | 11    | FALSE | \n",
       "| 12 | 12    | FALSE | \n",
       "\n",
       "\n"
      ],
      "text/plain": [
       "   brojke logike\n",
       "1   1     FALSE \n",
       "2   2     FALSE \n",
       "3   3      TRUE \n",
       "7   7     FALSE \n",
       "8   8      TRUE \n",
       "9   9      TRUE \n",
       "10 10        NA \n",
       "11 11     FALSE \n",
       "12 12     FALSE "
      ]
     },
     "metadata": {},
     "output_type": "display_data"
    }
   ],
   "source": [
    "# prva tri reda i redovi 7 do 12, te stupci 1 i 3\n",
    "brojke_i_slova[c(1:3, 7:12), c(1, 3)]"
   ]
  },
  {
   "cell_type": "markdown",
   "metadata": {
    "slideshow": {
     "slide_type": "subslide"
    }
   },
   "source": [
    "Stupcima možemo pristupati i pomoću njihovih imena:"
   ]
  },
  {
   "cell_type": "code",
   "execution_count": 60,
   "metadata": {},
   "outputs": [
    {
     "data": {
      "text/html": [
       "<table>\n",
       "<thead><tr><th scope=col>logike</th><th scope=col>brojke</th></tr></thead>\n",
       "<tbody>\n",
       "\t<tr><td>FALSE</td><td>1    </td></tr>\n",
       "\t<tr><td>FALSE</td><td>2    </td></tr>\n",
       "\t<tr><td> TRUE</td><td>3    </td></tr>\n",
       "</tbody>\n",
       "</table>\n"
      ],
      "text/latex": [
       "\\begin{tabular}{r|ll}\n",
       " logike & brojke\\\\\n",
       "\\hline\n",
       "\t FALSE & 1    \\\\\n",
       "\t FALSE & 2    \\\\\n",
       "\t  TRUE & 3    \\\\\n",
       "\\end{tabular}\n"
      ],
      "text/markdown": [
       "\n",
       "logike | brojke | \n",
       "|---|---|---|\n",
       "| FALSE | 1     | \n",
       "| FALSE | 2     | \n",
       "|  TRUE | 3     | \n",
       "\n",
       "\n"
      ],
      "text/plain": [
       "  logike brojke\n",
       "1 FALSE  1     \n",
       "2 FALSE  2     \n",
       "3  TRUE  3     "
      ]
     },
     "metadata": {},
     "output_type": "display_data"
    }
   ],
   "source": [
    "brojke_i_slova[1:3, c('logike', 'brojke')]"
   ]
  },
  {
   "cell_type": "markdown",
   "metadata": {
    "slideshow": {
     "slide_type": "subslide"
    }
   },
   "source": [
    "Naposljetku, **jednom** određenom stupcu možemo pristupiti koristeći `$` operator:"
   ]
  },
  {
   "cell_type": "code",
   "execution_count": 70,
   "metadata": {},
   "outputs": [
    {
     "data": {
      "text/html": [
       "<ol class=list-inline>\n",
       "\t<li>FALSE</li>\n",
       "\t<li>FALSE</li>\n",
       "\t<li>TRUE</li>\n",
       "\t<li>TRUE</li>\n",
       "\t<li>&lt;NA&gt;</li>\n",
       "\t<li>FALSE</li>\n",
       "\t<li>FALSE</li>\n",
       "\t<li>TRUE</li>\n",
       "\t<li>TRUE</li>\n",
       "\t<li>&lt;NA&gt;</li>\n",
       "\t<li>FALSE</li>\n",
       "\t<li>FALSE</li>\n",
       "\t<li>TRUE</li>\n",
       "\t<li>TRUE</li>\n",
       "\t<li>&lt;NA&gt;</li>\n",
       "</ol>\n"
      ],
      "text/latex": [
       "\\begin{enumerate*}\n",
       "\\item FALSE\n",
       "\\item FALSE\n",
       "\\item TRUE\n",
       "\\item TRUE\n",
       "\\item <NA>\n",
       "\\item FALSE\n",
       "\\item FALSE\n",
       "\\item TRUE\n",
       "\\item TRUE\n",
       "\\item <NA>\n",
       "\\item FALSE\n",
       "\\item FALSE\n",
       "\\item TRUE\n",
       "\\item TRUE\n",
       "\\item <NA>\n",
       "\\end{enumerate*}\n"
      ],
      "text/markdown": [
       "1. FALSE\n",
       "2. FALSE\n",
       "3. TRUE\n",
       "4. TRUE\n",
       "5. &lt;NA&gt;\n",
       "6. FALSE\n",
       "7. FALSE\n",
       "8. TRUE\n",
       "9. TRUE\n",
       "10. &lt;NA&gt;\n",
       "11. FALSE\n",
       "12. FALSE\n",
       "13. TRUE\n",
       "14. TRUE\n",
       "15. &lt;NA&gt;\n",
       "\n",
       "\n"
      ],
      "text/plain": [
       " [1] FALSE FALSE  TRUE  TRUE    NA FALSE FALSE  TRUE  TRUE    NA FALSE FALSE\n",
       "[13]  TRUE  TRUE    NA"
      ]
     },
     "metadata": {},
     "output_type": "display_data"
    }
   ],
   "source": [
    "brojke_i_slova$logike"
   ]
  },
  {
   "cell_type": "markdown",
   "metadata": {},
   "source": [
    "## Reference\n",
    "\n",
    "Adler, J. (2012). *R in a nutshell: A desktop quick reference*, 2. izdanje. O'Reilly Media, Inc."
   ]
  }
 ],
 "metadata": {
  "kernelspec": {
   "display_name": "R 3.5",
   "language": "R",
   "name": "ir35"
  },
  "language_info": {
   "codemirror_mode": "r",
   "file_extension": ".r",
   "mimetype": "text/x-r-source",
   "name": "R",
   "pygments_lexer": "r",
   "version": "3.5.1"
  }
 },
 "nbformat": 4,
 "nbformat_minor": 2
}
