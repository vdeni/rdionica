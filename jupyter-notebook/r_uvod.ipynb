{
 "cells": [
  {
   "cell_type": "markdown",
   "metadata": {
    "slideshow": {
     "slide_type": "slide"
    }
   },
   "source": [
    "# Rdionica: priprema datoteke `podaci_upitnik.csv`"
   ]
  },
  {
   "cell_type": "markdown",
   "metadata": {
    "slideshow": {
     "slide_type": "slide"
    }
   },
   "source": [
    "## Uvod - osnove jezika R"
   ]
  },
  {
   "cell_type": "markdown",
   "metadata": {
    "slideshow": {
     "slide_type": "slide"
    }
   },
   "source": [
    "U ovom dijelu proći ćemo kroz osnove programskog jezika R. Obradit ćemo osnove njegove sintakse te tipove varijabli. Ovdje ćemo proći kroz neke jako bazične stvari. Većina \"naprednijih\" stvari provlačit će se kroz ostatak radionice."
   ]
  },
  {
   "cell_type": "markdown",
   "metadata": {
    "slideshow": {
     "slide_type": "slide"
    }
   },
   "source": [
    "### Osnovne matematičke operacije"
   ]
  },
  {
   "cell_type": "markdown",
   "metadata": {},
   "source": [
    "Za početak, pogledat ćemo kako možemo izvršavati jednostavne naredbe direktno u R konzoli. Kad god u R konzolu unesemo naredbu koju R smatra valjanom te pritisnemo `Enter` (također poznat kao `Return`), R će u konzoli izbaciti rezultat izvršavanja te naredbe. Na primjer, ako u konzolu unesemo `2 + 2`, R će izbaciti rezultat te operacije."
   ]
  },
  {
   "cell_type": "code",
   "execution_count": null,
   "metadata": {
    "slideshow": {
     "slide_type": "subslide"
    }
   },
   "outputs": [],
   "source": [
    "2 + 2"
   ]
  },
  {
   "cell_type": "markdown",
   "metadata": {
    "slideshow": {
     "slide_type": "subslide"
    }
   },
   "source": [
    "Isto možemo napraviti s dijeljenjem (`/`), množenjem (`*`), oduzimanjem (`-`) i potenciranjem (`^`)."
   ]
  },
  {
   "cell_type": "code",
   "execution_count": null,
   "metadata": {},
   "outputs": [],
   "source": [
    "4 / 2\n",
    "\n",
    "2 * 3\n",
    "\n",
    "5 - 1\n",
    "\n",
    "3^2"
   ]
  },
  {
   "cell_type": "markdown",
   "metadata": {
    "slideshow": {
     "slide_type": "subslide"
    }
   },
   "source": [
    "Poseban operator koji nekad zna biti koristan je *modulo* - `%%` - koji vraća cijelobrojni dio dijeljenja dvaju brojeva. Na primjer:"
   ]
  },
  {
   "cell_type": "code",
   "execution_count": null,
   "metadata": {},
   "outputs": [],
   "source": [
    "# (Linije koje sadrže komentare započinju sa znakom #. R ne interpretira te linije.)\n",
    "# Obično dijeljenje:\n",
    "5 / 2\n",
    "\n",
    "# Modulo\n",
    "5 %% 2"
   ]
  },
  {
   "cell_type": "markdown",
   "metadata": {
    "slideshow": {
     "slide_type": "subslide"
    }
   },
   "source": [
    "Naravno, kao i u pješačkoj matematici, i u R-u je potrebno paziti na grupiranje matematičkih izraza.\n",
    "\n",
    "`x + y / z` je $ x + (y / z) $ je $ x + \\frac{z}{y} $\n",
    "\n",
    "`(x + y) / z` je $ (x + y) / z $ je $ \\frac{x+y}{z} $."
   ]
  },
  {
   "cell_type": "markdown",
   "metadata": {
    "slideshow": {
     "slide_type": "slide"
    }
   },
   "source": [
    "### Funkcije"
   ]
  },
  {
   "cell_type": "markdown",
   "metadata": {
    "slideshow": {
     "slide_type": "slide"
    }
   },
   "source": [
    "Sa samim matematičkim operacijama nećemo daleko doći. R ima i funkcije - operacije koje primaju parametre (eng. *argument*) i vraćaju neke vrijednosti.\n",
    "\n",
    "Funkcije u R-u imaju opći oblik `funkcija(argument1, argument2, ... , argumentN)`. "
   ]
  },
  {
   "cell_type": "markdown",
   "metadata": {
    "slideshow": {
     "slide_type": "slide"
    }
   },
   "source": [
    "Prva funkcija koju ćemo pogledati, a koja nadopunjava matematičke operacije s kojima smo započeli je `sqrt`, kojom možemo dobiti korijen nekog broja."
   ]
  },
  {
   "cell_type": "code",
   "execution_count": null,
   "metadata": {},
   "outputs": [],
   "source": [
    "sqrt(4)"
   ]
  },
  {
   "cell_type": "markdown",
   "metadata": {
    "slideshow": {
     "slide_type": "slide"
    }
   },
   "source": [
    "Druga, koja se u R-u javlja **jako** često, je `c` (što je, prema Adleru [2012] skraćeno za *combine*). `c` uzima $N$ argumenata i spaja ih u **vektor**."
   ]
  },
  {
   "cell_type": "code",
   "execution_count": null,
   "metadata": {},
   "outputs": [],
   "source": [
    "# navodnici su bitni! ali mogu biti jednostruki ili dvostruki,\n",
    "# bitno je samo da je riječ omeđena jednakim parom\n",
    "# npr 'a' je oke, \"a' nije oke, ali zato \"a\" je\n",
    "print(c('patka', \"krava\", 'pile', \"krumpir\"))\n",
    "\n",
    "print(c(5, 4, 3, 2, 1))"
   ]
  },
  {
   "cell_type": "markdown",
   "metadata": {
    "slideshow": {
     "slide_type": "subslide"
    }
   },
   "source": [
    "Koristeći `c`, stvorili smo dva vektora. Vektori spadaju među osnovne strukture podataka u R-u. Vektori mogu sadržavati proizvoljan broj elemenata **istog tipa**. O tipovima ćemo pričati malo kasnije.\n",
    "\n",
    "Sada ćemo se pozabaviti varijablama."
   ]
  },
  {
   "cell_type": "markdown",
   "metadata": {
    "slideshow": {
     "slide_type": "slide"
    }
   },
   "source": [
    "### Varijable"
   ]
  },
  {
   "cell_type": "markdown",
   "metadata": {},
   "source": [
    "Kad god smo dosad izvršavali neke funkcije, baratali smo konkretnim vrijednostima (npr. `2 + 2`), a rezultati su ostali lebdjeti u eteru, nedostupni običnim ljudima.\n",
    "\n",
    "Kako bismo mogli baratati proizovljnim vrijednostima te kako bismo rezultati izvukli iz etera, uvodimo **varijable**."
   ]
  },
  {
   "cell_type": "markdown",
   "metadata": {
    "slideshow": {
     "slide_type": "slide"
    }
   },
   "source": [
    "Varijablu imenujemo (eng. *declare*) tako što neki poluproizvoljan naziv spojimo s nekom vrijednosti, koristeći operator `<-`. Na pimjer:"
   ]
  },
  {
   "cell_type": "code",
   "execution_count": null,
   "metadata": {},
   "outputs": [],
   "source": [
    "a <- 2"
   ]
  },
  {
   "cell_type": "markdown",
   "metadata": {
    "slideshow": {
     "slide_type": "subslide"
    }
   },
   "source": [
    "Ako sad u konzolu unesemo `a`, konzola će nam vratiti vrijednost te varijable. Isti rezultat dobili bismo ako bismo `a` iskoristili kao argument `print` funkcije (`print(a)`)."
   ]
  },
  {
   "cell_type": "code",
   "execution_count": null,
   "metadata": {},
   "outputs": [],
   "source": [
    "print(a)"
   ]
  },
  {
   "cell_type": "markdown",
   "metadata": {
    "slideshow": {
     "slide_type": "subslide"
    }
   },
   "source": [
    "Vrijednosti varijablama možemo pridavati (eng. *assign*) i koristeći znak `=` (razlikovati od `==`!), no to se **ne preporučuje**. Osim toga, vrijednosti možemo pridavati i s lijeva na desno, koristeći `->`:"
   ]
  },
  {
   "cell_type": "code",
   "execution_count": null,
   "metadata": {},
   "outputs": [],
   "source": [
    "3 -> b\n",
    "b"
   ]
  },
  {
   "cell_type": "markdown",
   "metadata": {
    "slideshow": {
     "slide_type": "slide"
    }
   },
   "source": [
    "Imena varijabli mogu sadržavati slova, brojeve, točke (`.`) i underscoreove (čija hrvatska imena ne znam; `_`). Imena varijabli ne mogu započinjati s točkom koju prati broj. Na primjer:"
   ]
  },
  {
   "cell_type": "code",
   "execution_count": null,
   "metadata": {},
   "outputs": [],
   "source": [
    ".3 <- 5"
   ]
  },
  {
   "cell_type": "markdown",
   "metadata": {
    "slideshow": {
     "slide_type": "subslide"
    }
   },
   "source": [
    "Također, imena varijabli ne mogu biti izrazi koji su rezervirani u samom programskom jeziku, kao što je `for` (koji se koristi za iniciranje petlji)."
   ]
  },
  {
   "cell_type": "code",
   "execution_count": null,
   "metadata": {},
   "outputs": [],
   "source": [
    "for <- 5"
   ]
  },
  {
   "cell_type": "markdown",
   "metadata": {
    "slideshow": {
     "slide_type": "subslide"
    }
   },
   "source": [
    "Funkcija koja zna biti zgodna kod imenovanja varijabli je `exists`, koja kao argument prima izraz u navodnicima (što je poznato kao **string**) te vraća `TRUE` ili `FALSE` ovisno o tom je li objekt istog imena pronađen ili ne."
   ]
  },
  {
   "cell_type": "code",
   "execution_count": null,
   "metadata": {},
   "outputs": [],
   "source": [
    "# varijabla koju smo ranije stvorili\n",
    "exists('a')\n",
    "\n",
    "# ključna riječ, definirana u R-u, ne smijemo koristiti\n",
    "exists('for')\n",
    "\n",
    "# ključna riječ, definirana u R-u, ne smijemo koristiti\n",
    "exists('if')\n",
    "\n",
    "# ime koje nije iskorišteno\n",
    "exists('maca')"
   ]
  },
  {
   "cell_type": "markdown",
   "metadata": {
    "slideshow": {
     "slide_type": "slide"
    }
   },
   "source": [
    "Sad kad znamo kako varijablama pripisati vrijednosti, možemo spremiti vektore koje smo ranije napravili koristeći `c`. Neovisno o tome što *možemo* koristiti svašta za imena varijabli, trebali bismo se truditi imena učiniti smislenima. Dugoročno, to će nas poštedjeti puno mentalnog (a nekad i R-ovskog) napora. Također, savjetovao bih da izbjegavate korištenje \"hrvatskih\" znakova (č, ć, ž, š, đ) u svom kodu; korištenje tih znakova može izazvati snažne glavobolje."
   ]
  },
  {
   "cell_type": "code",
   "execution_count": null,
   "metadata": {
    "slideshow": {
     "slide_type": "slide"
    }
   },
   "outputs": [],
   "source": [
    "domace_zivotinje_i_krumpir <- c('patka', 'krava', 'pile', 'krumpir')\n",
    "\n",
    "brojevi.5.do.1 <- c(5, 4, 3, 2, 1)"
   ]
  },
  {
   "cell_type": "markdown",
   "metadata": {
    "slideshow": {
     "slide_type": "slide"
    }
   },
   "source": [
    "Kao i kad smo varijabli `a` pripisali vrijednost `2`, ni sada ne dobivamo nikakav output u konzoli. Ali možemo koristiti `print` ili samo upisati ime varijable u konzolu kako bismo dobili njenu vrijednost."
   ]
  },
  {
   "cell_type": "code",
   "execution_count": null,
   "metadata": {},
   "outputs": [],
   "source": [
    "print(domace_zivotinje_i_krumpir)"
   ]
  },
  {
   "cell_type": "code",
   "execution_count": null,
   "metadata": {},
   "outputs": [],
   "source": [
    "print(brojevi.5.do.1)"
   ]
  },
  {
   "cell_type": "markdown",
   "metadata": {
    "slideshow": {
     "slide_type": "slide"
    }
   },
   "source": [
    "Sad kad smo svoje vektore pripisali varijablama, možemo dohvaćati pojedine vrijednosti iz njih. Na primjer, ako želimo dohvatiti prvu vrijednost iz vektora `domace_zivotinje_i_krumpir`, možemo učiniti ovo:"
   ]
  },
  {
   "cell_type": "code",
   "execution_count": null,
   "metadata": {},
   "outputs": [],
   "source": [
    "domace_zivotinje_i_krumpir[1]"
   ]
  },
  {
   "cell_type": "markdown",
   "metadata": {
    "slideshow": {
     "slide_type": "subslide"
    }
   },
   "source": [
    "`1` je, u ovom slučaju, **indeks**. U R-u, za razliku od većine drugih programskih jezika, indeksiranje započinje s `1`, a ne s `0`.\n",
    "\n",
    "Za dohvaćanje trećeg elementa iz vektora `brojevi.5.do.1` izvršili bismo:"
   ]
  },
  {
   "cell_type": "code",
   "execution_count": null,
   "metadata": {},
   "outputs": [],
   "source": [
    "brojevi.5.do.1[3]"
   ]
  },
  {
   "cell_type": "markdown",
   "metadata": {
    "slideshow": {
     "slide_type": "subslide"
    }
   },
   "source": [
    "Zadnji element možemo dohvatiti pomoću funkcije `length`, koja vraća duljinu vektora, tj. broj elemenata koji se u njemu nalaze. Na primjer:"
   ]
  },
  {
   "cell_type": "code",
   "execution_count": null,
   "metadata": {},
   "outputs": [],
   "source": [
    "length(domace_zivotinje_i_krumpir)"
   ]
  },
  {
   "cell_type": "markdown",
   "metadata": {
    "slideshow": {
     "slide_type": "subslide"
    }
   },
   "source": [
    "Budući da broj elemenata ujedno označava i posljednji element, možemo učiniti sljedeće:"
   ]
  },
  {
   "cell_type": "code",
   "execution_count": null,
   "metadata": {},
   "outputs": [],
   "source": [
    "# dohvaćanje pomoću indeksa\n",
    "domace_zivotinje_i_krumpir[4]\n",
    "\n",
    "# dohvacanje pomocu funkcije length()\n",
    "domace_zivotinje_i_krumpir[length(domace_zivotinje_i_krumpir)]\n",
    "\n",
    "# iskoristit ćemo priliku i pokazati kako možemo usporediti dvije vrijednosti\n",
    "domace_zivotinje_i_krumpir[4] == domace_zivotinje_i_krumpir[length(domace_zivotinje_i_krumpir)]"
   ]
  },
  {
   "cell_type": "markdown",
   "metadata": {
    "slideshow": {
     "slide_type": "subslide"
    }
   },
   "source": [
    "Ovo funkcionira jer evaluiranje, odnosno izvršavanje koda `length(domace_zivotinje_i_krumpir)` kao rezultat vraća brojku `4`."
   ]
  },
  {
   "cell_type": "markdown",
   "metadata": {
    "slideshow": {
     "slide_type": "subslide"
    }
   },
   "source": [
    "Također, vidjeli smo da možemo koristiti `==` kako bismo provjerili jesu li dva objekta, odnosno dvije varijable jednake. Na primjer"
   ]
  },
  {
   "cell_type": "code",
   "execution_count": null,
   "metadata": {},
   "outputs": [],
   "source": [
    "2 + 2 == 4\n",
    "\n",
    "4 == 4\n",
    "\n",
    "4 == 5"
   ]
  },
  {
   "cell_type": "markdown",
   "metadata": {},
   "source": [
    "Treba voditi računa o tome da su `==` i `=` **vrlo različiti**!"
   ]
  },
  {
   "cell_type": "markdown",
   "metadata": {
    "slideshow": {
     "slide_type": "slide"
    }
   },
   "source": [
    "#### Tipovi varijabli"
   ]
  },
  {
   "cell_type": "markdown",
   "metadata": {
    "slideshow": {
     "slide_type": "slide"
    }
   },
   "source": [
    "R razlikuje nekoliko osnovnih tipova podataka:\n",
    "- `character` : \"stringovi\", tj. tekstualni podaci. Npr. `'patka'`\n",
    "- `integer` : cijeli brojevi. Npr. `1`\n",
    "- `numeric` : realni brojevi. Npr. `1.161`\n",
    "- `logical` : logičke vrijednosti. Postoje ukupno dvije - `TRUE` (može se kratiti u `T`) i `FALSE` (može se kratiti u `F`)\n",
    "\n",
    "Pogledat ćemo nekoliko primjera ovih tipova, te vidjeti kako možemo provjeriti kojeg je neka varijabla ili vrijednost tipa."
   ]
  },
  {
   "cell_type": "code",
   "execution_count": null,
   "metadata": {
    "slideshow": {
     "slide_type": "slide"
    }
   },
   "outputs": [],
   "source": [
    "# character\n",
    "'susjed'\n",
    "\n",
    "# da bismo provjerili je li neka vrijednost character, koristimo is.character()\n",
    "is.character('susjed')\n",
    "is.character(domace_zivotinje_i_krumpir[4])\n",
    "is.character(1)"
   ]
  },
  {
   "cell_type": "markdown",
   "metadata": {
    "slideshow": {
     "slide_type": "slide"
    }
   },
   "source": [
    "Kod `integer` i `numeric` tipova postoje neke specifičnosti."
   ]
  },
  {
   "cell_type": "code",
   "execution_count": null,
   "metadata": {},
   "outputs": [],
   "source": [
    "# integer\n",
    "1\n",
    "\n",
    "# za provjeravanje koristimo is.integer()\n",
    "is.integer(1)"
   ]
  },
  {
   "cell_type": "markdown",
   "metadata": {
    "slideshow": {
     "slide_type": "subslide"
    }
   },
   "source": [
    "Pozivanje funkcije `is.integer()` s vrijednosti `1` vraća `FALSE`. To je zato jer R brojeve automatski sprema kao `numeric`."
   ]
  },
  {
   "cell_type": "code",
   "execution_count": null,
   "metadata": {},
   "outputs": [],
   "source": [
    "# za provjeravanje je li objekt numeric koristimo is.numeric()\n",
    "is.numeric(1)"
   ]
  },
  {
   "cell_type": "markdown",
   "metadata": {
    "slideshow": {
     "slide_type": "subslide"
    }
   },
   "source": [
    "Kako bismo natjerali R da nam da `integer` vrijednost, možemo staviti `L` na kraj broja:"
   ]
  },
  {
   "cell_type": "code",
   "execution_count": null,
   "metadata": {},
   "outputs": [],
   "source": [
    "is.integer(1L)"
   ]
  },
  {
   "cell_type": "markdown",
   "metadata": {
    "slideshow": {
     "slide_type": "subslide"
    }
   },
   "source": [
    "Ovo je zgodno znati jer se može dogoditi da funkcija traži `integer`, ali odbija prihvatiti (recimo) `5` kao odgovarajuću vrijednost."
   ]
  },
  {
   "cell_type": "code",
   "execution_count": null,
   "metadata": {},
   "outputs": [],
   "source": [
    "# na kraju, numeric\n",
    "is.numeric(1.5115)"
   ]
  },
  {
   "cell_type": "markdown",
   "metadata": {
    "slideshow": {
     "slide_type": "subslide"
    }
   },
   "source": [
    "Za pisanje decimalnih brojeva **moramo koristiti točku**."
   ]
  },
  {
   "cell_type": "code",
   "execution_count": null,
   "metadata": {},
   "outputs": [],
   "source": [
    "is.numeric(1,4141)"
   ]
  },
  {
   "cell_type": "code",
   "execution_count": null,
   "metadata": {},
   "outputs": [],
   "source": [
    "1,5151 + 1"
   ]
  },
  {
   "cell_type": "markdown",
   "metadata": {
    "slideshow": {
     "slide_type": "slide"
    }
   },
   "source": [
    "Posljednji tip je `logical`:"
   ]
  },
  {
   "cell_type": "code",
   "execution_count": null,
   "metadata": {},
   "outputs": [],
   "source": [
    "TRUE == T\n",
    "FALSE == F\n",
    "\n",
    "is.logical(TRUE)\n",
    "\n",
    "is.logical(F)"
   ]
  },
  {
   "cell_type": "markdown",
   "metadata": {
    "slideshow": {
     "slide_type": "slide"
    }
   },
   "source": [
    "Za kraj, pogledat ćemo output različitih `is.` funkcija kad im damo razičite vrijednosti."
   ]
  },
  {
   "cell_type": "code",
   "execution_count": null,
   "metadata": {},
   "outputs": [],
   "source": [
    "is.logical(1)\n",
    "\n",
    "is.numeric(1L)\n",
    "\n",
    "is.character(02918)\n",
    "\n",
    "is.integer(151518)"
   ]
  },
  {
   "cell_type": "markdown",
   "metadata": {
    "slideshow": {
     "slide_type": "subslide"
    }
   },
   "source": [
    "Primjećujemo da se `1L` tretira i kao `numeric` tip."
   ]
  },
  {
   "cell_type": "code",
   "execution_count": null,
   "metadata": {},
   "outputs": [],
   "source": [
    "is.integer(1L)\n",
    "\n",
    "is.numeric(1L)"
   ]
  },
  {
   "cell_type": "markdown",
   "metadata": {
    "slideshow": {
     "slide_type": "subslide"
    }
   },
   "source": [
    "Isto ne vrijedi za, na primjer, `5.911`:"
   ]
  },
  {
   "cell_type": "code",
   "execution_count": null,
   "metadata": {},
   "outputs": [],
   "source": [
    "is.integer(5.911)\n",
    "\n",
    "is.numeric(5.911)"
   ]
  },
  {
   "cell_type": "markdown",
   "metadata": {
    "slideshow": {
     "slide_type": "slide"
    }
   },
   "source": [
    "Nakon upoznavanja s osnovnim tipovima vrijednosti i varijabli, pogledat ćemo osnovne strukture podataka."
   ]
  },
  {
   "cell_type": "markdown",
   "metadata": {
    "slideshow": {
     "slide_type": "slide"
    }
   },
   "source": [
    "### Strukture podataka"
   ]
  },
  {
   "cell_type": "markdown",
   "metadata": {
    "slideshow": {
     "slide_type": "slide"
    }
   },
   "source": [
    "Strukture podataka su formati organiziranja, upravljanja i spremanja podataka koji omogućuju efikasno pristupanje podacima i njihovo modificiranje (https://en.wikipedia.org/wiki/Data_structure).\n",
    "\n",
    "Već smo se upoznali s jednim tipom strukture podataka u R-u, a to je vektor. R ima nekoliko osnovnih struktura podataka. Ovdje ćemo proći kroz one koje se najčešće javljaju."
   ]
  },
  {
   "cell_type": "markdown",
   "metadata": {
    "slideshow": {
     "slide_type": "subslide"
    }
   },
   "source": [
    "Za ponavljanje, stvorit ćemo novi vektor:"
   ]
  },
  {
   "cell_type": "code",
   "execution_count": null,
   "metadata": {},
   "outputs": [],
   "source": [
    "c('vektor', 'od', '4', 'elementa')\n",
    "\n",
    "# možemo provjeriti je li neki objekt vektor koristeći is.vector\n",
    "is.vector(c('vektor', 'od', '4', 'elementa'))\n",
    "\n",
    "# funkcije za provjeravanje tipova varijabli možemo primijeniti i na vektore\n",
    "is.character(c('vektor', 'od', '4', 'elementa'))"
   ]
  },
  {
   "cell_type": "markdown",
   "metadata": {
    "slideshow": {
     "slide_type": "slide"
    }
   },
   "source": [
    "#### data.frame"
   ]
  },
  {
   "cell_type": "markdown",
   "metadata": {
    "slideshow": {
     "slide_type": "slide"
    }
   },
   "source": [
    "`data.frame` je vjerojatno najvažnija osnovna struktura (ili barem ona s kojom ćete se najčešće družiti). On odgovara onom što možemo vidjeti u *Data viewu* SPSS-a - sastoji se od redova koji predstavljaju opažanja/sudionike/caseove i stupaca koji predstavljaju varijable. Može sadržavati varijable koje su različitih tipova (za razliku od nekih drugih struktura, koje žele gledati samo jedan tip podataka)."
   ]
  },
  {
   "cell_type": "markdown",
   "metadata": {
    "slideshow": {
     "slide_type": "slide"
    }
   },
   "source": [
    "`data.frame` možemo stvoriti koristeći istoimenu funkciju:"
   ]
  },
  {
   "cell_type": "code",
   "execution_count": null,
   "metadata": {},
   "outputs": [],
   "source": [
    "print(data.frame('brojke' = c(1, 2, 3, 4, 5),\n",
    "           'slova' = c('a', 'b', 'de', 'ce', 'fe'),\n",
    "           'logike'= c(F, F, T, T, F)))"
   ]
  },
  {
   "cell_type": "markdown",
   "metadata": {
    "slideshow": {
     "slide_type": "slide"
    }
   },
   "source": [
    "Pri stvaranju novog `data.framea`, svi redovi moraju imati vrijednosti na svim stupcima jer će se R inače požaliti."
   ]
  },
  {
   "cell_type": "code",
   "execution_count": null,
   "metadata": {},
   "outputs": [],
   "source": [
    "data.frame('brojke' = c(1, 2, 3, 4, 5),\n",
    "           'slova' = c('a', 'b', 'de', 'ce', 'fe'),\n",
    "           # maknuli smo zadnjji element (F) iz stupca 'logike'\n",
    "           'logike'= c(F, F, T, T))"
   ]
  },
  {
   "cell_type": "markdown",
   "metadata": {
    "slideshow": {
     "slide_type": "subslide"
    }
   },
   "source": [
    "Tome možemo doskočiti tako što ćemo eksplicitno neku vrijednost proglasiti nedostajućom, što činimo pomoću posebne vrijednosti `NA`:"
   ]
  },
  {
   "cell_type": "code",
   "execution_count": null,
   "metadata": {},
   "outputs": [],
   "source": [
    "data.frame('brojke' = c(1, 2, 3, 4, 5),\n",
    "           'slova' = c('a', 'b', 'de', 'ce', 'fe'),\n",
    "           # umjesto posljednjeg elementa u stupcu 'logike' stavili smo NA\n",
    "           'logike'= c(F, F, T, T, NA))"
   ]
  },
  {
   "cell_type": "markdown",
   "metadata": {
    "slideshow": {
     "slide_type": "slide"
    }
   },
   "source": [
    "Proširit ćemo ovaj `data.frame` s još nekim vrijednostima te ga spremiti u varijablu `brojke_i_slova`:"
   ]
  },
  {
   "cell_type": "code",
   "execution_count": null,
   "metadata": {},
   "outputs": [],
   "source": [
    "brojke_i_slova <-\n",
    "           # osim korištenjem funkcije c(), vektore brojeva možemo stavarati\n",
    "           # i pomoću n:m\n",
    "           data.frame('brojke' = 1:15,\n",
    "           # pozivajući ugrađenu varijablu _letters_ možemo odabrati prvih 15\n",
    "           # (malih) slova\n",
    "           'slova' = letters[1:15],\n",
    "           'logike'= c(F, F, T, T, NA))\n",
    "\n",
    "brojke_i_slova"
   ]
  },
  {
   "cell_type": "markdown",
   "metadata": {
    "slideshow": {
     "slide_type": "slide"
    }
   },
   "source": [
    "Primjećujemo da se vrijednosti iz stupca `logike` ponavljaju. To funkcionira zato što je broj redova `data.framea` djeljiv s brojem elemenata koje smo stavili u vektor `logike` pri definiranju `data.framea` (imamo 15 redova, a vektor `logike` ima 5 elemenata).\n",
    "\n",
    "Sad kad smo proširili `brojke_i_slova`, pogledat ćemo kako možemo pristupati vrijednostima u `data.frameu`."
   ]
  },
  {
   "cell_type": "markdown",
   "metadata": {
    "slideshow": {
     "slide_type": "subslide"
    }
   },
   "source": [
    "Elementima možemo pristupati korištenjem uglatih zagrada, kao i kod vektora. Pritom treba imati na umu da je `data.frame` **dvodimenzionalni objekt**, zbog čega traži **dva indeksa** odvojena zarezom - **prvi** se odnosi na **redove**, a **drugi** na **stupce**.\n",
    "\n",
    "Ako jedan od indeksa izostavimo, ali stavimo zarez, R će vratiti sve elemente na odgovarajućem mjestu, odnosno vratit će sve redove ako izostavimo prvi indeks i sve stupce ako izostavimo drugi indeks."
   ]
  },
  {
   "cell_type": "code",
   "execution_count": null,
   "metadata": {},
   "outputs": [],
   "source": [
    "# svi stupci prvog  reda\n",
    "brojke_i_slova[1, ]"
   ]
  },
  {
   "cell_type": "code",
   "execution_count": null,
   "metadata": {
    "slideshow": {
     "slide_type": "subslide"
    }
   },
   "outputs": [],
   "source": [
    "# svi redovi prvog stupca\n",
    "brojke_i_slova[, 1]"
   ]
  },
  {
   "cell_type": "markdown",
   "metadata": {
    "slideshow": {
     "slide_type": "subslide"
    }
   },
   "source": [
    "Ovdje također možemo koristiti `n:m` sintaksu za dohvaćanje raspona vrijednosti. Na primjer, da bismo dohvatili prva tri reda i sve stupce `brojki_i_slova`, napravili bismo sljedeće:"
   ]
  },
  {
   "cell_type": "code",
   "execution_count": null,
   "metadata": {},
   "outputs": [],
   "source": [
    "# prva tri reda, svi stupci\n",
    "brojke_i_slova[1:3, ]"
   ]
  },
  {
   "cell_type": "markdown",
   "metadata": {
    "slideshow": {
     "slide_type": "subslide"
    }
   },
   "source": [
    "Za dohvaćanje vrijednosti koje nisu uzastopne, možemo koristiti funkciju `c`, koju također možemo kombinirati s `n:m` sintaksom:"
   ]
  },
  {
   "cell_type": "code",
   "execution_count": null,
   "metadata": {},
   "outputs": [],
   "source": [
    "# prva tri reda i redovi 7 do 12, te stupci 1 i 3\n",
    "brojke_i_slova[c(1:3, 7:12), c(1, 3)]"
   ]
  },
  {
   "cell_type": "markdown",
   "metadata": {
    "slideshow": {
     "slide_type": "subslide"
    }
   },
   "source": [
    "Stupcima možemo pristupati i pomoću njihovih imena:"
   ]
  },
  {
   "cell_type": "code",
   "execution_count": null,
   "metadata": {},
   "outputs": [],
   "source": [
    "brojke_i_slova[1:3, c('logike', 'brojke')]"
   ]
  },
  {
   "cell_type": "markdown",
   "metadata": {
    "slideshow": {
     "slide_type": "subslide"
    }
   },
   "source": [
    "Naposljetku, **jednom** određenom stupcu možemo pristupiti koristeći `$` operator:"
   ]
  },
  {
   "cell_type": "code",
   "execution_count": null,
   "metadata": {},
   "outputs": [],
   "source": [
    "brojke_i_slova$logike"
   ]
  },
  {
   "cell_type": "markdown",
   "metadata": {},
   "source": [
    "Prije nego što prijeđemo na sljedeću strukturu podataka, upoznat ćemo se s funkcijom `str` (structure). To je funkcija koja kao input prima neki objekt i vraća prikaz njegove strukture. Primjerice, možemo pogledati kakva je struktura našeg `data.framea` `brojke_i_slova`."
   ]
  },
  {
   "cell_type": "code",
   "execution_count": null,
   "metadata": {},
   "outputs": [],
   "source": [
    "str(brojke_i_slova)"
   ]
  },
  {
   "cell_type": "markdown",
   "metadata": {},
   "source": [
    "R nas informira da je `brojke_i_slova` objekt tipa `data.frame` te da sadrži 15 redova (`15 obs.`) i 3 varijable. Uz svaku varijablu naveden je njen tip te je prikazano prvih nekoliko elemenata.\n",
    "\n",
    "Vidimo da R varijablu `slova` tretira kao `Factor`, a ne kao `character`."
   ]
  },
  {
   "cell_type": "markdown",
   "metadata": {},
   "source": [
    "`factor` je tip koji R koristi za reprezentiranje kategoričkih varijabli. `factor` možemo stvoriti pozivanjem istoimene funkcije:"
   ]
  },
  {
   "cell_type": "code",
   "execution_count": null,
   "metadata": {},
   "outputs": [],
   "source": [
    "print(factor(c('pas', 'mačka', 'mačka', 'pas', 'pas')))"
   ]
  },
  {
   "cell_type": "markdown",
   "metadata": {},
   "source": [
    "Ispod sadržaja ovog vektora navedene su razine koje on može poprimiti (`levels`). Razine možemo dohvatiti i pozivom funkcije `levels`:"
   ]
  },
  {
   "cell_type": "code",
   "execution_count": null,
   "metadata": {},
   "outputs": [],
   "source": [
    "zvijeri <- factor(c('pas', 'mačka', 'mačka', 'pas', 'pas'))\n",
    "levels(zvijeri)\n",
    "str(zvijeri)"
   ]
  },
  {
   "cell_type": "markdown",
   "metadata": {},
   "source": [
    "Faktori se koriste i za reprezentiranje rangiranih podatka. U tom slučaju potrebno je funkciji `factor` dodati argument `ordered` i dati mu vrijednost `TRUE`. Osim toga, potrebno je eksplicirati koji je redoslijed razina."
   ]
  },
  {
   "cell_type": "code",
   "execution_count": null,
   "metadata": {},
   "outputs": [],
   "source": [
    "prihodi <- factor(c('srednji', 'niski', 'visoki', 'visoki', 'srednji'),\n",
    "                  ordered = T, levels = c('visoki', 'srednji', 'niski'))\n",
    "print(prihodi)\n",
    "str(prihodi)"
   ]
  },
  {
   "cell_type": "markdown",
   "metadata": {},
   "source": [
    "Sad kad smo se upoznali s faktorima, prijeći ćemo na liste."
   ]
  },
  {
   "cell_type": "markdown",
   "metadata": {},
   "source": [
    "#### list"
   ]
  },
  {
   "cell_type": "markdown",
   "metadata": {},
   "source": [
    "Lista je uređeni skup elemenata. Listu možemo definirati koristeći funkciju `list`:"
   ]
  },
  {
   "cell_type": "code",
   "execution_count": null,
   "metadata": {},
   "outputs": [],
   "source": [
    "print(list('franz', 'liszt'))"
   ]
  },
  {
   "cell_type": "markdown",
   "metadata": {},
   "source": [
    "Objekti u listi ne moraju biti istog tipa. Na primjer, možemo napraviti listu koja sadrži jedan `character`, jedan `integer` i jedan `numeric`."
   ]
  },
  {
   "cell_type": "code",
   "execution_count": null,
   "metadata": {},
   "outputs": [],
   "source": [
    "spisak <- list('franz', 1L, 3.14)\n",
    "print(spisak)"
   ]
  },
  {
   "cell_type": "markdown",
   "metadata": {},
   "source": [
    "Brojevi u dvostrukim uglatim zagradama (`[[n]]`) daju nam do znanja da lista ima 3 elementa. To možemo potvrditi pozivom funkcije `str` na `spisku`."
   ]
  },
  {
   "cell_type": "code",
   "execution_count": null,
   "metadata": {},
   "outputs": [],
   "source": [
    "str(spisak)"
   ]
  },
  {
   "cell_type": "markdown",
   "metadata": {},
   "source": [
    "Ovdje vidimo i da `spisak` sadrži elemente različitih tipova. Liste možemo puniti raznolikim objektima, čak i drugim listama."
   ]
  },
  {
   "cell_type": "code",
   "execution_count": null,
   "metadata": {},
   "outputs": [],
   "source": [
    "raznoliki_objekti <- list(# pojedine elemente listi možemo i imenovati\n",
    "    imena = c('Ramiro', 'Zorro', 'Vladimir'),\n",
    "    brojevi = c(3.61, 4.15, 7.151, 20:25),\n",
    "    inception = list(glumci = c('Leonardo di Caprio', 'ostali'),\n",
    "                    broj_kamera = 5))\n",
    "\n",
    "str(raznoliki_objekti)"
   ]
  },
  {
   "cell_type": "markdown",
   "metadata": {},
   "source": [
    "Imenovanim elementima listi možemo pristupati isto kao i stupcima `data.framea`:"
   ]
  },
  {
   "cell_type": "code",
   "execution_count": null,
   "metadata": {},
   "outputs": [],
   "source": [
    "print(raznoliki_objekti$imena)\n",
    "\n",
    "print(raznoliki_objekti[2])"
   ]
  },
  {
   "cell_type": "markdown",
   "metadata": {},
   "source": [
    "Također, možemo dohvatiti više elemenata odjednom."
   ]
  },
  {
   "cell_type": "code",
   "execution_count": null,
   "metadata": {},
   "outputs": [],
   "source": [
    "print(raznoliki_objekti[c('imena', 'brojevi')])"
   ]
  },
  {
   "cell_type": "code",
   "execution_count": null,
   "metadata": {},
   "outputs": [],
   "source": [
    "print(raznoliki_objekti[2:3])"
   ]
  },
  {
   "cell_type": "markdown",
   "metadata": {},
   "source": [
    "Kad imamo ugniježđene (eng. *nested*) strukture, možemo ulančavati operatore za dohvaćanje kako bismo ušli dublje u strukture."
   ]
  },
  {
   "cell_type": "code",
   "execution_count": null,
   "metadata": {},
   "outputs": [],
   "source": [
    "print(raznoliki_objekti$inception$glumci)"
   ]
  },
  {
   "cell_type": "code",
   "execution_count": null,
   "metadata": {},
   "outputs": [],
   "source": [
    "print(raznoliki_objekti['inception']['broj_kamera'])"
   ]
  },
  {
   "cell_type": "markdown",
   "metadata": {},
   "source": [
    "Posljednji komad koda nije vratio rezultat koji smo očekivali (vrijednost koja je spremljena u `broj_kamera` je 5). Kad pogledamo output koji daje `str`, vidimo da `raznoliki_objekti['inception']` vraća listu koja ima jedan element, koji je lista koja ima dva elementa."
   ]
  },
  {
   "cell_type": "code",
   "execution_count": null,
   "metadata": {},
   "outputs": [],
   "source": [
    "str(raznoliki_objekti['inception'])"
   ]
  },
  {
   "cell_type": "markdown",
   "metadata": {},
   "source": [
    "Kako bismo došli do broja kamera, možemo učiniti sljedeće:"
   ]
  },
  {
   "cell_type": "code",
   "execution_count": null,
   "metadata": {},
   "outputs": [],
   "source": [
    "raznoliki_objekti['inception']$inception$broj_kamera"
   ]
  },
  {
   "cell_type": "markdown",
   "metadata": {},
   "source": [
    "Do ove zavrzlame dolazi zbog operatora `[]`, koji vraća listu kad je primijenjen na listi. Ako želimo vratiti samo objekt koji se nalazi pod imenom `inception`, možemo koristiti operator `[[]]`."
   ]
  },
  {
   "cell_type": "code",
   "execution_count": null,
   "metadata": {},
   "outputs": [],
   "source": [
    "str(raznoliki_objekti[['inception']])"
   ]
  },
  {
   "cell_type": "markdown",
   "metadata": {},
   "source": [
    "Sada dobivamo listu (umjesto liste lista), te možemo direktno dohvatiti broj kamera na bilo koji od dosad spomenutih načina. Učinit ćemo to te se pritom osvrnuti na ishode različitih metoda dohvaćanja."
   ]
  },
  {
   "cell_type": "code",
   "execution_count": null,
   "metadata": {},
   "outputs": [],
   "source": [
    "str(raznoliki_objekti[['inception']]$broj_kamera)\n",
    "\n",
    "# ovo je funkcija koja printa \"sirove\" stringove\n",
    "# \\n označava novi red\n",
    "# funkciju ovdje koristimo samo za ispisivanje pregrade\n",
    "cat('==========\\n')\n",
    "\n",
    "str(raznoliki_objekti[['inception']]['broj_kamera'])\n",
    "\n",
    "cat('==========\\n')\n",
    "\n",
    "str(raznoliki_objekti[['inception']][['broj_kamera']])\n",
    "\n",
    "cat('==========\\n')\n",
    "\n",
    "str(raznoliki_objekti$inception$broj_kamera)"
   ]
  },
  {
   "cell_type": "markdown",
   "metadata": {},
   "source": [
    "Pogledat ćemo kako se ovi operatori ponašaju na varijabli `glumci`, koja sadrži 2 elementa."
   ]
  },
  {
   "cell_type": "code",
   "execution_count": null,
   "metadata": {},
   "outputs": [],
   "source": [
    "str(raznoliki_objekti[['inception']]$glumci)\n",
    "\n",
    "cat('==========\\n')\n",
    "\n",
    "str(raznoliki_objekti[['inception']]['glumci'])\n",
    "\n",
    "cat('==========\\n')\n",
    "\n",
    "str(raznoliki_objekti[['inception']][['glumci']][1])\n",
    "\n",
    "cat('==========\\n')\n",
    "\n",
    "str(raznoliki_objekti$inception$glumci[[2]])"
   ]
  },
  {
   "cell_type": "markdown",
   "metadata": {},
   "source": [
    "Kao što možemo vidjeti, razlika između `[[]]` i `[]` gubi se kad se spustimo na najnižu razinu, tj. na dohvaćanje pojedinih elemenata vektora `glumci`."
   ]
  },
  {
   "cell_type": "markdown",
   "metadata": {},
   "source": [
    "Osim što vraćaju različite objekte, `[[]]` i `[]` razlikuju se u sljedećem:\n",
    "- `[]` može dohvaćati više elemenata (npr. [1:5]), a `[[]]` samo jedan\n",
    "- `[[]]` može baratati parcijalnim imenima ako se argumentu `exact` da vrijednost `FALSE`, a `[]` nema tu mogućnost"
   ]
  },
  {
   "cell_type": "code",
   "execution_count": null,
   "metadata": {},
   "outputs": [],
   "source": [
    "str(raznoliki_objekti[['ince', exact = F]])"
   ]
  },
  {
   "cell_type": "code",
   "execution_count": null,
   "metadata": {},
   "outputs": [],
   "source": [
    "str(raznoliki_objekti)"
   ]
  },
  {
   "cell_type": "code",
   "execution_count": null,
   "metadata": {},
   "outputs": [],
   "source": [
    "# nije ono što bismo očekivali\n",
    "str(raznoliki_objekti[[1:2]])"
   ]
  },
  {
   "cell_type": "code",
   "execution_count": null,
   "metadata": {},
   "outputs": [],
   "source": [
    "str(raznoliki_objekti['ince', exact = F])"
   ]
  },
  {
   "cell_type": "markdown",
   "metadata": {},
   "source": [
    "Ovu ponešto supitlnu i prepredenu razliku se isplati imati a umu jer različite funkcije očekuju različite inpute, a lako im je nesvjesno gurati nešto što ne žele (na primjer listu umjesto `data.framea` koji se nalazi u listi)."
   ]
  },
  {
   "cell_type": "markdown",
   "metadata": {},
   "source": [
    "Posljednja struktura koju ćemo pogledati je matrica."
   ]
  },
  {
   "cell_type": "markdown",
   "metadata": {},
   "source": [
    "#### matrix"
   ]
  },
  {
   "cell_type": "markdown",
   "metadata": {},
   "source": [
    "Matrica je 2D objekt koji sadrži elemente istog tipa. Možemo je stvoriti koristeći funkciju `matrix`."
   ]
  },
  {
   "cell_type": "code",
   "execution_count": null,
   "metadata": {},
   "outputs": [],
   "source": [
    "postava <- matrix(c('Neo', 150, 'Morpheus', 165, 'Agent Smith', 140),\n",
    "             # broj redova i stupaca matrice\n",
    "             nrow = 3, ncol = 2,\n",
    "             # trebaju li se podaci upisivati red po red ili stupac po stupac\n",
    "             # default je F\n",
    "             byrow = T)\n",
    "print(postava)"
   ]
  },
  {
   "cell_type": "markdown",
   "metadata": {},
   "source": [
    "Dimenzije matrice možemo dohvatiti funkcijom `dim`, koja je primijenjiva i na `data.frame` (ali ne i na liste)."
   ]
  },
  {
   "cell_type": "code",
   "execution_count": null,
   "metadata": {},
   "outputs": [],
   "source": [
    "dim(postava)"
   ]
  },
  {
   "cell_type": "markdown",
   "metadata": {},
   "source": [
    "Redovima i stupcima matrica možemo dati imena, radi lakšeg orijentiranja:"
   ]
  },
  {
   "cell_type": "code",
   "execution_count": null,
   "metadata": {},
   "outputs": [],
   "source": [
    "dimnames(postava) <- list(\n",
    "    # imena redova\n",
    "    c('lepi', 'pametni', 'zli'),\n",
    "    # imena stupaca\n",
    "    c('ime', 'visina'))\n",
    "print(postava)"
   ]
  },
  {
   "cell_type": "markdown",
   "metadata": {},
   "source": [
    "Imena redova možemo dohvatiti funkcijom `rownames`, a imena stupaca funkcijom `colnames`."
   ]
  },
  {
   "cell_type": "code",
   "execution_count": null,
   "metadata": {},
   "outputs": [],
   "source": [
    "print(rownames(postava))\n",
    "\n",
    "print(colnames(postava))"
   ]
  },
  {
   "cell_type": "markdown",
   "metadata": {},
   "source": [
    "Iste funkcije možemo koristiti i na `data.frameu`, pri čemu je kod njih na raspolaganju i funkcija `names`."
   ]
  },
  {
   "cell_type": "code",
   "execution_count": null,
   "metadata": {},
   "outputs": [],
   "source": [
    "names(brojke_i_slova)\n",
    "\n",
    "# također, liste\n",
    "\n",
    "names(raznoliki_objekti)"
   ]
  },
  {
   "cell_type": "markdown",
   "metadata": {},
   "source": [
    "Elementima možemo pristupati pomoću `[]` operatora (po istom principu kao i kod `data.framea`), ali ne i pomoću `$` operatora."
   ]
  },
  {
   "cell_type": "code",
   "execution_count": null,
   "metadata": {},
   "outputs": [],
   "source": [
    "print(postava[2:3, 'ime'])"
   ]
  },
  {
   "cell_type": "markdown",
   "metadata": {},
   "source": [
    "Ovime ćemo završiti uvod u R te se baciti na pripremu podataka za obradu."
   ]
  },
  {
   "cell_type": "markdown",
   "metadata": {},
   "source": [
    "## Reference\n",
    "\n",
    "Adler, J. (2012). *R in a nutshell: A desktop quick reference*, 2. izdanje. O'Reilly Media, Inc."
   ]
  }
 ],
 "metadata": {
  "kernelspec": {
   "display_name": "R 3.5",
   "language": "R",
   "name": "ir35"
  },
  "language_info": {
   "codemirror_mode": "r",
   "file_extension": ".r",
   "mimetype": "text/x-r-source",
   "name": "R",
   "pygments_lexer": "r",
   "version": "3.5.1"
  }
 },
 "nbformat": 4,
 "nbformat_minor": 2
}
